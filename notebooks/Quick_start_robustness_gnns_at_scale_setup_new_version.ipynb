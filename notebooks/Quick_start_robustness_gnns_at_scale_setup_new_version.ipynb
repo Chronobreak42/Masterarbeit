{
 "nbformat": 4,
 "nbformat_minor": 0,
 "metadata": {
  "colab": {
   "name": "Quick_start-robustness_gnns_at_scale.ipynb",
   "provenance": [],
   "include_colab_link": true
  },
  "kernelspec": {
   "name": "python3",
   "language": "python",
   "display_name": "Python 3 (ipykernel)"
  },
  "language_info": {
   "name": "python"
  },
  "widgets": {
   "application/vnd.jupyter.widget-state+json": {
    "22737c8a2e514705b67a371df5efa80d": {
     "model_module": "@jupyter-widgets/controls",
     "model_name": "HBoxModel",
     "model_module_version": "1.5.0",
     "state": {
      "_dom_classes": [],
      "_model_module": "@jupyter-widgets/controls",
      "_model_module_version": "1.5.0",
      "_model_name": "HBoxModel",
      "_view_count": null,
      "_view_module": "@jupyter-widgets/controls",
      "_view_module_version": "1.5.0",
      "_view_name": "HBoxView",
      "box_style": "",
      "children": [
       "IPY_MODEL_b327d356e05248d8936bb6d7b72c42d5",
       "IPY_MODEL_d07630ee143e41b28e99cc5dba05eb71",
       "IPY_MODEL_78517141da964ca8a6c165840abc95e2"
      ],
      "layout": "IPY_MODEL_eec19e7ba9cd4039883ecc48a280b0a6"
     }
    },
    "b327d356e05248d8936bb6d7b72c42d5": {
     "model_module": "@jupyter-widgets/controls",
     "model_name": "HTMLModel",
     "model_module_version": "1.5.0",
     "state": {
      "_dom_classes": [],
      "_model_module": "@jupyter-widgets/controls",
      "_model_module_version": "1.5.0",
      "_model_name": "HTMLModel",
      "_view_count": null,
      "_view_module": "@jupyter-widgets/controls",
      "_view_module_version": "1.5.0",
      "_view_name": "HTMLView",
      "description": "",
      "description_tooltip": null,
      "layout": "IPY_MODEL_57e0eb7b8c104ea9ad224c49bcf003ba",
      "placeholder": "​",
      "style": "IPY_MODEL_b3f12e2a75164523aee4dceb4e1e204a",
      "value": "Training...:  22%"
     }
    },
    "d07630ee143e41b28e99cc5dba05eb71": {
     "model_module": "@jupyter-widgets/controls",
     "model_name": "FloatProgressModel",
     "model_module_version": "1.5.0",
     "state": {
      "_dom_classes": [],
      "_model_module": "@jupyter-widgets/controls",
      "_model_module_version": "1.5.0",
      "_model_name": "FloatProgressModel",
      "_view_count": null,
      "_view_module": "@jupyter-widgets/controls",
      "_view_module_version": "1.5.0",
      "_view_name": "ProgressView",
      "bar_style": "danger",
      "description": "",
      "description_tooltip": null,
      "layout": "IPY_MODEL_9ed1649272524285943ede29436174f6",
      "max": 3000,
      "min": 0,
      "orientation": "horizontal",
      "style": "IPY_MODEL_dfac61d2a44e4e15af62421430701383",
      "value": 665
     }
    },
    "78517141da964ca8a6c165840abc95e2": {
     "model_module": "@jupyter-widgets/controls",
     "model_name": "HTMLModel",
     "model_module_version": "1.5.0",
     "state": {
      "_dom_classes": [],
      "_model_module": "@jupyter-widgets/controls",
      "_model_module_version": "1.5.0",
      "_model_name": "HTMLModel",
      "_view_count": null,
      "_view_module": "@jupyter-widgets/controls",
      "_view_module_version": "1.5.0",
      "_view_name": "HTMLView",
      "description": "",
      "description_tooltip": null,
      "layout": "IPY_MODEL_2057b1ca6f104fca86cdebc03cc1a28d",
      "placeholder": "​",
      "style": "IPY_MODEL_31770a4d11914717972b8561c3f5d973",
      "value": " 665/3000 [01:14&lt;03:42, 10.52it/s]"
     }
    },
    "eec19e7ba9cd4039883ecc48a280b0a6": {
     "model_module": "@jupyter-widgets/base",
     "model_name": "LayoutModel",
     "model_module_version": "1.2.0",
     "state": {
      "_model_module": "@jupyter-widgets/base",
      "_model_module_version": "1.2.0",
      "_model_name": "LayoutModel",
      "_view_count": null,
      "_view_module": "@jupyter-widgets/base",
      "_view_module_version": "1.2.0",
      "_view_name": "LayoutView",
      "align_content": null,
      "align_items": null,
      "align_self": null,
      "border": null,
      "bottom": null,
      "display": null,
      "flex": null,
      "flex_flow": null,
      "grid_area": null,
      "grid_auto_columns": null,
      "grid_auto_flow": null,
      "grid_auto_rows": null,
      "grid_column": null,
      "grid_gap": null,
      "grid_row": null,
      "grid_template_areas": null,
      "grid_template_columns": null,
      "grid_template_rows": null,
      "height": null,
      "justify_content": null,
      "justify_items": null,
      "left": null,
      "margin": null,
      "max_height": null,
      "max_width": null,
      "min_height": null,
      "min_width": null,
      "object_fit": null,
      "object_position": null,
      "order": null,
      "overflow": null,
      "overflow_x": null,
      "overflow_y": null,
      "padding": null,
      "right": null,
      "top": null,
      "visibility": null,
      "width": null
     }
    },
    "57e0eb7b8c104ea9ad224c49bcf003ba": {
     "model_module": "@jupyter-widgets/base",
     "model_name": "LayoutModel",
     "model_module_version": "1.2.0",
     "state": {
      "_model_module": "@jupyter-widgets/base",
      "_model_module_version": "1.2.0",
      "_model_name": "LayoutModel",
      "_view_count": null,
      "_view_module": "@jupyter-widgets/base",
      "_view_module_version": "1.2.0",
      "_view_name": "LayoutView",
      "align_content": null,
      "align_items": null,
      "align_self": null,
      "border": null,
      "bottom": null,
      "display": null,
      "flex": null,
      "flex_flow": null,
      "grid_area": null,
      "grid_auto_columns": null,
      "grid_auto_flow": null,
      "grid_auto_rows": null,
      "grid_column": null,
      "grid_gap": null,
      "grid_row": null,
      "grid_template_areas": null,
      "grid_template_columns": null,
      "grid_template_rows": null,
      "height": null,
      "justify_content": null,
      "justify_items": null,
      "left": null,
      "margin": null,
      "max_height": null,
      "max_width": null,
      "min_height": null,
      "min_width": null,
      "object_fit": null,
      "object_position": null,
      "order": null,
      "overflow": null,
      "overflow_x": null,
      "overflow_y": null,
      "padding": null,
      "right": null,
      "top": null,
      "visibility": null,
      "width": null
     }
    },
    "b3f12e2a75164523aee4dceb4e1e204a": {
     "model_module": "@jupyter-widgets/controls",
     "model_name": "DescriptionStyleModel",
     "model_module_version": "1.5.0",
     "state": {
      "_model_module": "@jupyter-widgets/controls",
      "_model_module_version": "1.5.0",
      "_model_name": "DescriptionStyleModel",
      "_view_count": null,
      "_view_module": "@jupyter-widgets/base",
      "_view_module_version": "1.2.0",
      "_view_name": "StyleView",
      "description_width": ""
     }
    },
    "9ed1649272524285943ede29436174f6": {
     "model_module": "@jupyter-widgets/base",
     "model_name": "LayoutModel",
     "model_module_version": "1.2.0",
     "state": {
      "_model_module": "@jupyter-widgets/base",
      "_model_module_version": "1.2.0",
      "_model_name": "LayoutModel",
      "_view_count": null,
      "_view_module": "@jupyter-widgets/base",
      "_view_module_version": "1.2.0",
      "_view_name": "LayoutView",
      "align_content": null,
      "align_items": null,
      "align_self": null,
      "border": null,
      "bottom": null,
      "display": null,
      "flex": null,
      "flex_flow": null,
      "grid_area": null,
      "grid_auto_columns": null,
      "grid_auto_flow": null,
      "grid_auto_rows": null,
      "grid_column": null,
      "grid_gap": null,
      "grid_row": null,
      "grid_template_areas": null,
      "grid_template_columns": null,
      "grid_template_rows": null,
      "height": null,
      "justify_content": null,
      "justify_items": null,
      "left": null,
      "margin": null,
      "max_height": null,
      "max_width": null,
      "min_height": null,
      "min_width": null,
      "object_fit": null,
      "object_position": null,
      "order": null,
      "overflow": null,
      "overflow_x": null,
      "overflow_y": null,
      "padding": null,
      "right": null,
      "top": null,
      "visibility": null,
      "width": null
     }
    },
    "dfac61d2a44e4e15af62421430701383": {
     "model_module": "@jupyter-widgets/controls",
     "model_name": "ProgressStyleModel",
     "model_module_version": "1.5.0",
     "state": {
      "_model_module": "@jupyter-widgets/controls",
      "_model_module_version": "1.5.0",
      "_model_name": "ProgressStyleModel",
      "_view_count": null,
      "_view_module": "@jupyter-widgets/base",
      "_view_module_version": "1.2.0",
      "_view_name": "StyleView",
      "bar_color": null,
      "description_width": ""
     }
    },
    "2057b1ca6f104fca86cdebc03cc1a28d": {
     "model_module": "@jupyter-widgets/base",
     "model_name": "LayoutModel",
     "model_module_version": "1.2.0",
     "state": {
      "_model_module": "@jupyter-widgets/base",
      "_model_module_version": "1.2.0",
      "_model_name": "LayoutModel",
      "_view_count": null,
      "_view_module": "@jupyter-widgets/base",
      "_view_module_version": "1.2.0",
      "_view_name": "LayoutView",
      "align_content": null,
      "align_items": null,
      "align_self": null,
      "border": null,
      "bottom": null,
      "display": null,
      "flex": null,
      "flex_flow": null,
      "grid_area": null,
      "grid_auto_columns": null,
      "grid_auto_flow": null,
      "grid_auto_rows": null,
      "grid_column": null,
      "grid_gap": null,
      "grid_row": null,
      "grid_template_areas": null,
      "grid_template_columns": null,
      "grid_template_rows": null,
      "height": null,
      "justify_content": null,
      "justify_items": null,
      "left": null,
      "margin": null,
      "max_height": null,
      "max_width": null,
      "min_height": null,
      "min_width": null,
      "object_fit": null,
      "object_position": null,
      "order": null,
      "overflow": null,
      "overflow_x": null,
      "overflow_y": null,
      "padding": null,
      "right": null,
      "top": null,
      "visibility": null,
      "width": null
     }
    },
    "31770a4d11914717972b8561c3f5d973": {
     "model_module": "@jupyter-widgets/controls",
     "model_name": "DescriptionStyleModel",
     "model_module_version": "1.5.0",
     "state": {
      "_model_module": "@jupyter-widgets/controls",
      "_model_module_version": "1.5.0",
      "_model_name": "DescriptionStyleModel",
      "_view_count": null,
      "_view_module": "@jupyter-widgets/base",
      "_view_module_version": "1.2.0",
      "_view_name": "StyleView",
      "description_width": ""
     }
    }
   }
  }
 },
 "cells": [
  {
   "cell_type": "markdown",
   "source": [
    "# Robustness of Graph Neural Networks at Scale - Quick Start\n",
    "\n",
    "This notebook can be run in google colab and serves as a quick introduction to the [Robustness of Graph Neural Networks at Scale](https://github.com/sigeisler/robustness_of_gnns_at_scale) repository.\n",
    "\n",
    "## 0. Setup\n",
    "\n",
    "First, let's get the code and install requirements.\n"
   ],
   "metadata": {
    "id": "ixdVBV5PugOh"
   }
  },
  {
   "cell_type": "code",
   "source": [
    "import config\n",
    "%cd {config.PROJECT_DIR}\n",
    "\n",
    "\n",
    "# Installiert: Alle Module die installiert worden sind\n",
    "# run: Die Zeilen die gerunned werden müssen"
   ],
   "metadata": {
    "id": "Vb3p2trlhuqK",
    "outputId": "4e94d35a-b70c-4365-e4e1-99418b990f65",
    "colab": {
     "base_uri": "https://localhost:8080/"
    },
    "ExecuteTime": {
     "end_time": "2025-02-16T15:58:46.014202100Z",
     "start_time": "2025-02-16T15:58:45.619802300Z"
    }
   },
   "execution_count": 3,
   "outputs": [
    {
     "name": "stdout",
     "output_type": "stream",
     "text": [
      "C:\\Users\\kyawk\\Desktop\\robustness_of_gnns_at_scale-main\n"
     ]
    },
    {
     "name": "stderr",
     "output_type": "stream",
     "text": [
      "Der Befehl \"pwd\" ist entweder falsch geschrieben oder\n",
      "konnte nicht gefunden werden.\n",
      "C:\\Users\\kyawk\\anaconda3\\envs\\Masterarbeit_2_0\\Lib\\site-packages\\IPython\\core\\magics\\osm.py:417: UserWarning: This is now an optional IPython functionality, setting dhist requires you to install the `pickleshare` library.\n",
      "  self.shell.db['dhist'] = compress_dhist(dhist)[-100:]\n"
     ]
    }
   ]
  },
  {
   "cell_type": "code",
   "source": [
    "#1\n",
    "# Installiert\n",
    "!pip install torchtyping==0.1.5 # This version likely works better\n",
    "!pip install typeguard==2.13.3 # This version is compatible with the recommended version of torchtyping."
   ],
   "metadata": {
    "id": "Z6Rul7P3ifei",
    "outputId": "9058a5c6-3179-4f76-9fae-3565a14f36c0",
    "colab": {
     "base_uri": "https://localhost:8080/"
    }
   },
   "execution_count": null,
   "outputs": [
    {
     "output_type": "stream",
     "name": "stdout",
     "text": [
      "Collecting torchtyping==0.1.5\n",
      "  Downloading torchtyping-0.1.5-py3-none-any.whl.metadata (9.5 kB)\n",
      "Requirement already satisfied: torch>=1.7.0 in /usr/local/lib/python3.11/dist-packages (from torchtyping==0.1.5) (2.5.1+cu121)\n",
      "Collecting typeguard<3,>=2.11.1 (from torchtyping==0.1.5)\n",
      "  Downloading typeguard-2.13.3-py3-none-any.whl.metadata (3.6 kB)\n",
      "Requirement already satisfied: filelock in /usr/local/lib/python3.11/dist-packages (from torch>=1.7.0->torchtyping==0.1.5) (3.16.1)\n",
      "Requirement already satisfied: typing-extensions>=4.8.0 in /usr/local/lib/python3.11/dist-packages (from torch>=1.7.0->torchtyping==0.1.5) (4.12.2)\n",
      "Requirement already satisfied: networkx in /usr/local/lib/python3.11/dist-packages (from torch>=1.7.0->torchtyping==0.1.5) (3.4.2)\n",
      "Requirement already satisfied: jinja2 in /usr/local/lib/python3.11/dist-packages (from torch>=1.7.0->torchtyping==0.1.5) (3.1.5)\n",
      "Requirement already satisfied: fsspec in /usr/local/lib/python3.11/dist-packages (from torch>=1.7.0->torchtyping==0.1.5) (2024.10.0)\n",
      "Requirement already satisfied: nvidia-cuda-nvrtc-cu12==12.1.105 in /usr/local/lib/python3.11/dist-packages (from torch>=1.7.0->torchtyping==0.1.5) (12.1.105)\n",
      "Requirement already satisfied: nvidia-cuda-runtime-cu12==12.1.105 in /usr/local/lib/python3.11/dist-packages (from torch>=1.7.0->torchtyping==0.1.5) (12.1.105)\n",
      "Requirement already satisfied: nvidia-cuda-cupti-cu12==12.1.105 in /usr/local/lib/python3.11/dist-packages (from torch>=1.7.0->torchtyping==0.1.5) (12.1.105)\n",
      "Requirement already satisfied: nvidia-cudnn-cu12==9.1.0.70 in /usr/local/lib/python3.11/dist-packages (from torch>=1.7.0->torchtyping==0.1.5) (9.1.0.70)\n",
      "Requirement already satisfied: nvidia-cublas-cu12==12.1.3.1 in /usr/local/lib/python3.11/dist-packages (from torch>=1.7.0->torchtyping==0.1.5) (12.1.3.1)\n",
      "Requirement already satisfied: nvidia-cufft-cu12==11.0.2.54 in /usr/local/lib/python3.11/dist-packages (from torch>=1.7.0->torchtyping==0.1.5) (11.0.2.54)\n",
      "Requirement already satisfied: nvidia-curand-cu12==10.3.2.106 in /usr/local/lib/python3.11/dist-packages (from torch>=1.7.0->torchtyping==0.1.5) (10.3.2.106)\n",
      "Requirement already satisfied: nvidia-cusolver-cu12==11.4.5.107 in /usr/local/lib/python3.11/dist-packages (from torch>=1.7.0->torchtyping==0.1.5) (11.4.5.107)\n",
      "Requirement already satisfied: nvidia-cusparse-cu12==12.1.0.106 in /usr/local/lib/python3.11/dist-packages (from torch>=1.7.0->torchtyping==0.1.5) (12.1.0.106)\n",
      "Requirement already satisfied: nvidia-nccl-cu12==2.21.5 in /usr/local/lib/python3.11/dist-packages (from torch>=1.7.0->torchtyping==0.1.5) (2.21.5)\n",
      "Requirement already satisfied: nvidia-nvtx-cu12==12.1.105 in /usr/local/lib/python3.11/dist-packages (from torch>=1.7.0->torchtyping==0.1.5) (12.1.105)\n",
      "Requirement already satisfied: triton==3.1.0 in /usr/local/lib/python3.11/dist-packages (from torch>=1.7.0->torchtyping==0.1.5) (3.1.0)\n",
      "Requirement already satisfied: sympy==1.13.1 in /usr/local/lib/python3.11/dist-packages (from torch>=1.7.0->torchtyping==0.1.5) (1.13.1)\n",
      "Requirement already satisfied: nvidia-nvjitlink-cu12 in /usr/local/lib/python3.11/dist-packages (from nvidia-cusolver-cu12==11.4.5.107->torch>=1.7.0->torchtyping==0.1.5) (12.6.85)\n",
      "Requirement already satisfied: mpmath<1.4,>=1.1.0 in /usr/local/lib/python3.11/dist-packages (from sympy==1.13.1->torch>=1.7.0->torchtyping==0.1.5) (1.3.0)\n",
      "Requirement already satisfied: MarkupSafe>=2.0 in /usr/local/lib/python3.11/dist-packages (from jinja2->torch>=1.7.0->torchtyping==0.1.5) (3.0.2)\n",
      "Downloading torchtyping-0.1.5-py3-none-any.whl (17 kB)\n",
      "Downloading typeguard-2.13.3-py3-none-any.whl (17 kB)\n",
      "Installing collected packages: typeguard, torchtyping\n",
      "  Attempting uninstall: typeguard\n",
      "    Found existing installation: typeguard 4.4.1\n",
      "    Uninstalling typeguard-4.4.1:\n",
      "      Successfully uninstalled typeguard-4.4.1\n",
      "\u001B[31mERROR: pip's dependency resolver does not currently take into account all the packages that are installed. This behaviour is the source of the following dependency conflicts.\n",
      "inflect 7.5.0 requires typeguard>=4.0.1, but you have typeguard 2.13.3 which is incompatible.\u001B[0m\u001B[31m\n",
      "\u001B[0mSuccessfully installed torchtyping-0.1.5 typeguard-2.13.3\n",
      "Requirement already satisfied: typeguard==2.13.3 in /usr/local/lib/python3.11/dist-packages (2.13.3)\n"
     ]
    }
   ]
  },
  {
   "cell_type": "code",
   "source": [
    "#import torch\n",
    "#torch.__version__\n",
    "import numpy\n",
    "numpy.__version__"
   ],
   "metadata": {
    "id": "muUk3Kim9zFt",
    "outputId": "21f8fa9e-bc6f-44b4-8718-5696cd0dd231",
    "colab": {
     "base_uri": "https://localhost:8080/",
     "height": 35
    }
   },
   "execution_count": null,
   "outputs": [
    {
     "output_type": "execute_result",
     "data": {
      "text/plain": [
       "'1.26.4'"
      ],
      "application/vnd.google.colaboratory.intrinsic+json": {
       "type": "string"
      }
     },
     "metadata": {},
     "execution_count": 2
    }
   ]
  },
  {
   "cell_type": "code",
   "source": [
    "#2\n",
    "# Installiert\n",
    "# clone package repository\n",
    "#!git clone https://github.com/sigeisler/robustness_of_gnns_at_scale.git\n",
    "#!git clone https://github.com/Chronobreak42/robustness_of_gnns_at_scale.git #run\n",
    "\n",
    "# navigate to the repository\n",
    "#%cd robustness_of_gnns_at_scale\n",
    "\n",
    "# install package requirements\n",
    "!pip install -r requirements.txt # run\n",
    "!pip install -r requirements-dev.txt # run\n",
    "\n",
    "# install package\n",
    "#!python setup.py install\n",
    "#!pip install --use-feature=in-tree-build .\n",
    "\n",
    "# build kernels\n",
    "#!pip install --use-feature=in-tree-build ./kernels"
   ],
   "metadata": {
    "id": "srl7gR-Gy5gX",
    "outputId": "7cb13bad-024b-4983-971a-d7a5e549a055",
    "colab": {
     "base_uri": "https://localhost:8080/",
     "height": 1000
    }
   },
   "execution_count": null,
   "outputs": [
    {
     "output_type": "stream",
     "name": "stdout",
     "text": [
      "Cloning into 'robustness_of_gnns_at_scale'...\n",
      "remote: Enumerating objects: 5144, done.\u001B[K\n",
      "remote: Counting objects: 100% (80/80), done.\u001B[K\n",
      "remote: Compressing objects: 100% (68/68), done.\u001B[K\n",
      "remote: Total 5144 (delta 55), reused 12 (delta 12), pack-reused 5064 (from 2)\u001B[K\n",
      "Receiving objects: 100% (5144/5144), 332.16 MiB | 24.30 MiB/s, done.\n",
      "Resolving deltas: 100% (3636/3636), done.\n",
      "/content/robustness_of_gnns_at_scale\n",
      "Requirement already satisfied: cython>=0.28.5 in /usr/local/lib/python3.11/dist-packages (from -r requirements.txt (line 1)) (3.0.11)\n",
      "Collecting filelock==3.0.12 (from -r requirements.txt (line 2))\n",
      "  Downloading filelock-3.0.12-py3-none-any.whl.metadata (4.3 kB)\n",
      "Collecting numba<=0.49.0,>=0.47.0 (from -r requirements.txt (line 3))\n",
      "  Downloading numba-0.49.0.tar.gz (2.0 MB)\n",
      "\u001B[2K     \u001B[90m━━━━━━━━━━━━━━━━━━━━━━━━━━━━━━━━━━━━━━━━\u001B[0m \u001B[32m2.0/2.0 MB\u001B[0m \u001B[31m46.6 MB/s\u001B[0m eta \u001B[36m0:00:00\u001B[0m\n",
      "\u001B[?25h  Preparing metadata (setup.py) ... \u001B[?25l\u001B[?25hdone\n",
      "Collecting numpy==1.18.1 (from -r requirements.txt (line 4))\n",
      "  Downloading numpy-1.18.1.zip (5.4 MB)\n",
      "\u001B[2K     \u001B[90m━━━━━━━━━━━━━━━━━━━━━━━━━━━━━━━━━━━━━━━━\u001B[0m \u001B[32m5.4/5.4 MB\u001B[0m \u001B[31m61.9 MB/s\u001B[0m eta \u001B[36m0:00:00\u001B[0m\n",
      "\u001B[?25h  Installing build dependencies ... \u001B[?25l\u001B[?25hdone\n",
      "  Getting requirements to build wheel ... \u001B[?25l\u001B[?25hdone\n",
      "  \u001B[1;31merror\u001B[0m: \u001B[1msubprocess-exited-with-error\u001B[0m\n",
      "  \n",
      "  \u001B[31m×\u001B[0m \u001B[32mPreparing metadata \u001B[0m\u001B[1;32m(\u001B[0m\u001B[32mpyproject.toml\u001B[0m\u001B[1;32m)\u001B[0m did not run successfully.\n",
      "  \u001B[31m│\u001B[0m exit code: \u001B[1;36m1\u001B[0m\n",
      "  \u001B[31m╰─>\u001B[0m See above for output.\n",
      "  \n",
      "  \u001B[1;35mnote\u001B[0m: This error originates from a subprocess, and is likely not a problem with pip.\n",
      "  Preparing metadata (pyproject.toml) ... \u001B[?25l\u001B[?25herror\n",
      "\u001B[1;31merror\u001B[0m: \u001B[1mmetadata-generation-failed\u001B[0m\n",
      "\n",
      "\u001B[31m×\u001B[0m Encountered error while generating package metadata.\n",
      "\u001B[31m╰─>\u001B[0m See above for output.\n",
      "\n",
      "\u001B[1;35mnote\u001B[0m: This is an issue with the package mentioned above, not pip.\n",
      "\u001B[1;36mhint\u001B[0m: See above for details.\n",
      "Collecting autopep8==1.4.4 (from -r requirements-dev.txt (line 1))\n",
      "  Downloading autopep8-1.4.4.tar.gz (114 kB)\n",
      "\u001B[2K     \u001B[90m━━━━━━━━━━━━━━━━━━━━━━━━━━━━━━━━━━━━━━━━\u001B[0m \u001B[32m114.8/114.8 kB\u001B[0m \u001B[31m7.0 MB/s\u001B[0m eta \u001B[36m0:00:00\u001B[0m\n",
      "\u001B[?25h  Preparing metadata (setup.py) ... \u001B[?25l\u001B[?25hdone\n",
      "Collecting flake8==3.7.9 (from -r requirements-dev.txt (line 2))\n",
      "  Downloading flake8-3.7.9-py2.py3-none-any.whl.metadata (3.6 kB)\n",
      "Collecting pycodestyle==2.5.0 (from -r requirements-dev.txt (line 3))\n",
      "  Downloading pycodestyle-2.5.0-py2.py3-none-any.whl.metadata (28 kB)\n",
      "Collecting pyflakes==2.1.1 (from -r requirements-dev.txt (line 4))\n",
      "  Downloading pyflakes-2.1.1-py2.py3-none-any.whl.metadata (3.8 kB)\n",
      "Collecting pydocstyle==4.0.1 (from -r requirements-dev.txt (line 5))\n",
      "  Downloading pydocstyle-4.0.1-py3-none-any.whl.metadata (2.5 kB)\n",
      "Collecting pytest==5.3.5 (from -r requirements-dev.txt (line 6))\n",
      "  Downloading pytest-5.3.5-py3-none-any.whl.metadata (7.0 kB)\n",
      "Collecting seml (from -r requirements-dev.txt (line 7))\n",
      "  Downloading seml-0.5.4-py3-none-any.whl.metadata (8.1 kB)\n",
      "Collecting entrypoints<0.4.0,>=0.3.0 (from flake8==3.7.9->-r requirements-dev.txt (line 2))\n",
      "  Downloading entrypoints-0.3-py2.py3-none-any.whl.metadata (1.4 kB)\n",
      "Collecting mccabe<0.7.0,>=0.6.0 (from flake8==3.7.9->-r requirements-dev.txt (line 2))\n",
      "  Downloading mccabe-0.6.1-py2.py3-none-any.whl.metadata (4.3 kB)\n",
      "Requirement already satisfied: snowballstemmer in /usr/local/lib/python3.11/dist-packages (from pydocstyle==4.0.1->-r requirements-dev.txt (line 5)) (2.2.0)\n",
      "Collecting py>=1.5.0 (from pytest==5.3.5->-r requirements-dev.txt (line 6))\n",
      "  Downloading py-1.11.0-py2.py3-none-any.whl.metadata (2.8 kB)\n",
      "Requirement already satisfied: packaging in /usr/local/lib/python3.11/dist-packages (from pytest==5.3.5->-r requirements-dev.txt (line 6)) (24.2)\n",
      "Requirement already satisfied: attrs>=17.4.0 in /usr/local/lib/python3.11/dist-packages (from pytest==5.3.5->-r requirements-dev.txt (line 6)) (24.3.0)\n",
      "Requirement already satisfied: more-itertools>=4.0.0 in /usr/local/lib/python3.11/dist-packages (from pytest==5.3.5->-r requirements-dev.txt (line 6)) (10.5.0)\n",
      "Collecting pluggy<1.0,>=0.12 (from pytest==5.3.5->-r requirements-dev.txt (line 6))\n",
      "  Downloading pluggy-0.13.1-py2.py3-none-any.whl.metadata (15 kB)\n",
      "Requirement already satisfied: wcwidth in /usr/local/lib/python3.11/dist-packages (from pytest==5.3.5->-r requirements-dev.txt (line 6)) (0.2.13)\n",
      "Requirement already satisfied: debugpy>=1.2.1 in /usr/local/lib/python3.11/dist-packages (from seml->-r requirements-dev.txt (line 7)) (1.8.0)\n",
      "Collecting deepdiff>=7.0.1 (from seml->-r requirements-dev.txt (line 7))\n",
      "  Downloading deepdiff-8.1.1-py3-none-any.whl.metadata (9.5 kB)\n",
      "Collecting gitignore-parser>=0.1.11 (from seml->-r requirements-dev.txt (line 7))\n",
      "  Downloading gitignore_parser-0.1.11.tar.gz (5.3 kB)\n",
      "  Installing build dependencies ... \u001B[?25l\u001B[?25hdone\n",
      "  Getting requirements to build wheel ... \u001B[?25l\u001B[?25hdone\n",
      "  Preparing metadata (pyproject.toml) ... \u001B[?25l\u001B[?25hdone\n",
      "Requirement already satisfied: importlib-resources>=5.7.0 in /usr/local/lib/python3.11/dist-packages (from seml->-r requirements-dev.txt (line 7)) (6.5.2)\n",
      "Requirement already satisfied: jsonpickle>=2.2 in /usr/local/lib/python3.11/dist-packages (from seml->-r requirements-dev.txt (line 7)) (4.0.1)\n",
      "Collecting munch>=4.0 (from seml->-r requirements-dev.txt (line 7))\n",
      "  Downloading munch-4.0.0-py2.py3-none-any.whl.metadata (5.9 kB)\n",
      "Requirement already satisfied: numpy>=1.15 in /usr/local/lib/python3.11/dist-packages (from seml->-r requirements-dev.txt (line 7)) (1.26.4)\n",
      "Collecting omegaconf>=2.3.0 (from seml->-r requirements-dev.txt (line 7))\n",
      "  Downloading omegaconf-2.3.0-py3-none-any.whl.metadata (3.9 kB)\n",
      "Requirement already satisfied: pandas>=2.2 in /usr/local/lib/python3.11/dist-packages (from seml->-r requirements-dev.txt (line 7)) (2.2.2)\n",
      "Collecting pymongo>=4.1 (from seml->-r requirements-dev.txt (line 7))\n",
      "  Downloading pymongo-4.10.1-cp311-cp311-manylinux_2_17_x86_64.manylinux2014_x86_64.whl.metadata (22 kB)\n",
      "Requirement already satisfied: pyyaml>=5.1 in /usr/local/lib/python3.11/dist-packages (from seml->-r requirements-dev.txt (line 7)) (6.0.2)\n",
      "Requirement already satisfied: requests>=2.28.1 in /usr/local/lib/python3.11/dist-packages (from seml->-r requirements-dev.txt (line 7)) (2.32.3)\n",
      "Requirement already satisfied: rich>=13.0 in /usr/local/lib/python3.11/dist-packages (from seml->-r requirements-dev.txt (line 7)) (13.9.4)\n",
      "Collecting sacred>=0.8.4 (from seml->-r requirements-dev.txt (line 7))\n",
      "  Downloading sacred-0.8.7-py2.py3-none-any.whl.metadata (13 kB)\n",
      "Requirement already satisfied: setuptools>=69.2.0 in /usr/local/lib/python3.11/dist-packages (from seml->-r requirements-dev.txt (line 7)) (75.1.0)\n",
      "Requirement already satisfied: typer>=0.12 in /usr/local/lib/python3.11/dist-packages (from seml->-r requirements-dev.txt (line 7)) (0.15.1)\n",
      "Requirement already satisfied: typing-extensions>=4.10 in /usr/local/lib/python3.11/dist-packages (from seml->-r requirements-dev.txt (line 7)) (4.12.2)\n",
      "Collecting orderly-set<6,>=5.2.3 (from deepdiff>=7.0.1->seml->-r requirements-dev.txt (line 7))\n",
      "  Downloading orderly_set-5.2.3-py3-none-any.whl.metadata (6.0 kB)\n",
      "Collecting antlr4-python3-runtime==4.9.* (from omegaconf>=2.3.0->seml->-r requirements-dev.txt (line 7))\n",
      "  Downloading antlr4-python3-runtime-4.9.3.tar.gz (117 kB)\n",
      "\u001B[2K     \u001B[90m━━━━━━━━━━━━━━━━━━━━━━━━━━━━━━━━━━━━━━━━\u001B[0m \u001B[32m117.0/117.0 kB\u001B[0m \u001B[31m7.8 MB/s\u001B[0m eta \u001B[36m0:00:00\u001B[0m\n",
      "\u001B[?25h  Preparing metadata (setup.py) ... \u001B[?25l\u001B[?25hdone\n",
      "Requirement already satisfied: python-dateutil>=2.8.2 in /usr/local/lib/python3.11/dist-packages (from pandas>=2.2->seml->-r requirements-dev.txt (line 7)) (2.8.2)\n",
      "Requirement already satisfied: pytz>=2020.1 in /usr/local/lib/python3.11/dist-packages (from pandas>=2.2->seml->-r requirements-dev.txt (line 7)) (2024.2)\n",
      "Requirement already satisfied: tzdata>=2022.7 in /usr/local/lib/python3.11/dist-packages (from pandas>=2.2->seml->-r requirements-dev.txt (line 7)) (2024.2)\n",
      "Collecting dnspython<3.0.0,>=1.16.0 (from pymongo>=4.1->seml->-r requirements-dev.txt (line 7))\n",
      "  Downloading dnspython-2.7.0-py3-none-any.whl.metadata (5.8 kB)\n",
      "Requirement already satisfied: charset-normalizer<4,>=2 in /usr/local/lib/python3.11/dist-packages (from requests>=2.28.1->seml->-r requirements-dev.txt (line 7)) (3.4.1)\n",
      "Requirement already satisfied: idna<4,>=2.5 in /usr/local/lib/python3.11/dist-packages (from requests>=2.28.1->seml->-r requirements-dev.txt (line 7)) (3.10)\n",
      "Requirement already satisfied: urllib3<3,>=1.21.1 in /usr/local/lib/python3.11/dist-packages (from requests>=2.28.1->seml->-r requirements-dev.txt (line 7)) (2.3.0)\n",
      "Requirement already satisfied: certifi>=2017.4.17 in /usr/local/lib/python3.11/dist-packages (from requests>=2.28.1->seml->-r requirements-dev.txt (line 7)) (2024.12.14)\n",
      "Requirement already satisfied: markdown-it-py>=2.2.0 in /usr/local/lib/python3.11/dist-packages (from rich>=13.0->seml->-r requirements-dev.txt (line 7)) (3.0.0)\n",
      "Requirement already satisfied: pygments<3.0.0,>=2.13.0 in /usr/local/lib/python3.11/dist-packages (from rich>=13.0->seml->-r requirements-dev.txt (line 7)) (2.18.0)\n",
      "Collecting docopt-ng<1.0,>=0.9 (from sacred>=0.8.4->seml->-r requirements-dev.txt (line 7))\n",
      "  Downloading docopt_ng-0.9.0-py3-none-any.whl.metadata (13 kB)\n",
      "Requirement already satisfied: wrapt<2.0,>=1.0 in /usr/local/lib/python3.11/dist-packages (from sacred>=0.8.4->seml->-r requirements-dev.txt (line 7)) (1.17.0)\n",
      "Requirement already satisfied: py-cpuinfo>=4.0 in /usr/local/lib/python3.11/dist-packages (from sacred>=0.8.4->seml->-r requirements-dev.txt (line 7)) (9.0.0)\n",
      "Collecting colorama>=0.4 (from sacred>=0.8.4->seml->-r requirements-dev.txt (line 7))\n",
      "  Downloading colorama-0.4.6-py2.py3-none-any.whl.metadata (17 kB)\n",
      "Requirement already satisfied: GitPython in /usr/local/lib/python3.11/dist-packages (from sacred>=0.8.4->seml->-r requirements-dev.txt (line 7)) (3.1.44)\n",
      "Requirement already satisfied: click>=8.0.0 in /usr/local/lib/python3.11/dist-packages (from typer>=0.12->seml->-r requirements-dev.txt (line 7)) (8.1.8)\n",
      "Requirement already satisfied: shellingham>=1.3.0 in /usr/local/lib/python3.11/dist-packages (from typer>=0.12->seml->-r requirements-dev.txt (line 7)) (1.5.4)\n",
      "Requirement already satisfied: mdurl~=0.1 in /usr/local/lib/python3.11/dist-packages (from markdown-it-py>=2.2.0->rich>=13.0->seml->-r requirements-dev.txt (line 7)) (0.1.2)\n",
      "Requirement already satisfied: six>=1.5 in /usr/local/lib/python3.11/dist-packages (from python-dateutil>=2.8.2->pandas>=2.2->seml->-r requirements-dev.txt (line 7)) (1.17.0)\n",
      "Requirement already satisfied: gitdb<5,>=4.0.1 in /usr/local/lib/python3.11/dist-packages (from GitPython->sacred>=0.8.4->seml->-r requirements-dev.txt (line 7)) (4.0.12)\n",
      "Requirement already satisfied: smmap<6,>=3.0.1 in /usr/local/lib/python3.11/dist-packages (from gitdb<5,>=4.0.1->GitPython->sacred>=0.8.4->seml->-r requirements-dev.txt (line 7)) (5.0.2)\n",
      "Downloading flake8-3.7.9-py2.py3-none-any.whl (69 kB)\n",
      "\u001B[2K   \u001B[90m━━━━━━━━━━━━━━━━━━━━━━━━━━━━━━━━━━━━━━━━\u001B[0m \u001B[32m69.9/69.9 kB\u001B[0m \u001B[31m5.9 MB/s\u001B[0m eta \u001B[36m0:00:00\u001B[0m\n",
      "\u001B[?25hDownloading pycodestyle-2.5.0-py2.py3-none-any.whl (51 kB)\n",
      "\u001B[2K   \u001B[90m━━━━━━━━━━━━━━━━━━━━━━━━━━━━━━━━━━━━━━━━\u001B[0m \u001B[32m51.2/51.2 kB\u001B[0m \u001B[31m3.4 MB/s\u001B[0m eta \u001B[36m0:00:00\u001B[0m\n",
      "\u001B[?25hDownloading pyflakes-2.1.1-py2.py3-none-any.whl (59 kB)\n",
      "\u001B[2K   \u001B[90m━━━━━━━━━━━━━━━━━━━━━━━━━━━━━━━━━━━━━━━━\u001B[0m \u001B[32m60.0/60.0 kB\u001B[0m \u001B[31m3.5 MB/s\u001B[0m eta \u001B[36m0:00:00\u001B[0m\n",
      "\u001B[?25hDownloading pydocstyle-4.0.1-py3-none-any.whl (33 kB)\n",
      "Downloading pytest-5.3.5-py3-none-any.whl (235 kB)\n",
      "\u001B[2K   \u001B[90m━━━━━━━━━━━━━━━━━━━━━━━━━━━━━━━━━━━━━━━━\u001B[0m \u001B[32m235.2/235.2 kB\u001B[0m \u001B[31m17.1 MB/s\u001B[0m eta \u001B[36m0:00:00\u001B[0m\n",
      "\u001B[?25hDownloading seml-0.5.4-py3-none-any.whl (120 kB)\n",
      "\u001B[2K   \u001B[90m━━━━━━━━━━━━━━━━━━━━━━━━━━━━━━━━━━━━━━━━\u001B[0m \u001B[32m120.4/120.4 kB\u001B[0m \u001B[31m10.1 MB/s\u001B[0m eta \u001B[36m0:00:00\u001B[0m\n",
      "\u001B[?25hDownloading deepdiff-8.1.1-py3-none-any.whl (84 kB)\n",
      "\u001B[2K   \u001B[90m━━━━━━━━━━━━━━━━━━━━━━━━━━━━━━━━━━━━━━━━\u001B[0m \u001B[32m84.7/84.7 kB\u001B[0m \u001B[31m4.9 MB/s\u001B[0m eta \u001B[36m0:00:00\u001B[0m\n",
      "\u001B[?25hDownloading entrypoints-0.3-py2.py3-none-any.whl (11 kB)\n",
      "Downloading mccabe-0.6.1-py2.py3-none-any.whl (8.6 kB)\n",
      "Downloading munch-4.0.0-py2.py3-none-any.whl (9.9 kB)\n",
      "Downloading omegaconf-2.3.0-py3-none-any.whl (79 kB)\n",
      "\u001B[2K   \u001B[90m━━━━━━━━━━━━━━━━━━━━━━━━━━━━━━━━━━━━━━━━\u001B[0m \u001B[32m79.5/79.5 kB\u001B[0m \u001B[31m6.9 MB/s\u001B[0m eta \u001B[36m0:00:00\u001B[0m\n",
      "\u001B[?25hDownloading pluggy-0.13.1-py2.py3-none-any.whl (18 kB)\n",
      "Downloading py-1.11.0-py2.py3-none-any.whl (98 kB)\n",
      "\u001B[2K   \u001B[90m━━━━━━━━━━━━━━━━━━━━━━━━━━━━━━━━━━━━━━━━\u001B[0m \u001B[32m98.7/98.7 kB\u001B[0m \u001B[31m8.6 MB/s\u001B[0m eta \u001B[36m0:00:00\u001B[0m\n",
      "\u001B[?25hDownloading pymongo-4.10.1-cp311-cp311-manylinux_2_17_x86_64.manylinux2014_x86_64.whl (1.7 MB)\n",
      "\u001B[2K   \u001B[90m━━━━━━━━━━━━━━━━━━━━━━━━━━━━━━━━━━━━━━━━\u001B[0m \u001B[32m1.7/1.7 MB\u001B[0m \u001B[31m55.0 MB/s\u001B[0m eta \u001B[36m0:00:00\u001B[0m\n",
      "\u001B[?25hDownloading sacred-0.8.7-py2.py3-none-any.whl (108 kB)\n",
      "\u001B[2K   \u001B[90m━━━━━━━━━━━━━━━━━━━━━━━━━━━━━━━━━━━━━━━━\u001B[0m \u001B[32m108.2/108.2 kB\u001B[0m \u001B[31m9.5 MB/s\u001B[0m eta \u001B[36m0:00:00\u001B[0m\n",
      "\u001B[?25hDownloading colorama-0.4.6-py2.py3-none-any.whl (25 kB)\n",
      "Downloading dnspython-2.7.0-py3-none-any.whl (313 kB)\n",
      "\u001B[2K   \u001B[90m━━━━━━━━━━━━━━━━━━━━━━━━━━━━━━━━━━━━━━━━\u001B[0m \u001B[32m313.6/313.6 kB\u001B[0m \u001B[31m22.3 MB/s\u001B[0m eta \u001B[36m0:00:00\u001B[0m\n",
      "\u001B[?25hDownloading docopt_ng-0.9.0-py3-none-any.whl (16 kB)\n",
      "Downloading orderly_set-5.2.3-py3-none-any.whl (12 kB)\n",
      "Building wheels for collected packages: autopep8, gitignore-parser, antlr4-python3-runtime\n",
      "  Building wheel for autopep8 (setup.py) ... \u001B[?25l\u001B[?25hdone\n",
      "  Created wheel for autopep8: filename=autopep8-1.4.4-py2.py3-none-any.whl size=42636 sha256=17ffb923589b85c06824804fbc6db0e65d4e537319767045ea913ffd9a6cea68\n",
      "  Stored in directory: /root/.cache/pip/wheels/f4/ff/3a/4dad633d99e6ef1aa5db8b7d34aa1d3493f253632e691f3895\n",
      "  Building wheel for gitignore-parser (pyproject.toml) ... \u001B[?25l\u001B[?25hdone\n",
      "  Created wheel for gitignore-parser: filename=gitignore_parser-0.1.11-py3-none-any.whl size=4978 sha256=a3e2ea90e2b68d47af0ec03dbf612eef0ddfef44244df3b68bc83ba3236a3e60\n",
      "  Stored in directory: /root/.cache/pip/wheels/0a/c3/bd/e3b9a83be025ccf42f00b5883acc08ecdf4244af5a2c1b7092\n",
      "  Building wheel for antlr4-python3-runtime (setup.py) ... \u001B[?25l\u001B[?25hdone\n",
      "  Created wheel for antlr4-python3-runtime: filename=antlr4_python3_runtime-4.9.3-py3-none-any.whl size=144555 sha256=21ee6589677dca73eddbcea4d6a08dd2462690dfb0fb015de7c352e58d637487\n",
      "  Stored in directory: /root/.cache/pip/wheels/1a/97/32/461f837398029ad76911109f07047fde1d7b661a147c7c56d1\n",
      "Successfully built autopep8 gitignore-parser antlr4-python3-runtime\n",
      "Installing collected packages: mccabe, gitignore-parser, antlr4-python3-runtime, pyflakes, pydocstyle, pycodestyle, py, pluggy, orderly-set, omegaconf, munch, entrypoints, docopt-ng, dnspython, colorama, pytest, pymongo, flake8, deepdiff, autopep8, sacred, seml\n",
      "  Attempting uninstall: pluggy\n",
      "    Found existing installation: pluggy 1.5.0\n",
      "    Uninstalling pluggy-1.5.0:\n",
      "      Successfully uninstalled pluggy-1.5.0\n",
      "  Attempting uninstall: entrypoints\n",
      "    Found existing installation: entrypoints 0.4\n",
      "    Uninstalling entrypoints-0.4:\n",
      "      Successfully uninstalled entrypoints-0.4\n",
      "  Attempting uninstall: pytest\n",
      "    Found existing installation: pytest 8.3.4\n",
      "    Uninstalling pytest-8.3.4:\n",
      "      Successfully uninstalled pytest-8.3.4\n",
      "Successfully installed antlr4-python3-runtime-4.9.3 autopep8-1.4.4 colorama-0.4.6 deepdiff-8.1.1 dnspython-2.7.0 docopt-ng-0.9.0 entrypoints-0.3 flake8-3.7.9 gitignore-parser-0.1.11 mccabe-0.6.1 munch-4.0.0 omegaconf-2.3.0 orderly-set-5.2.3 pluggy-0.13.1 py-1.11.0 pycodestyle-2.5.0 pydocstyle-4.0.1 pyflakes-2.1.1 pymongo-4.10.1 pytest-5.3.5 sacred-0.8.7 seml-0.5.4\n"
     ]
    },
    {
     "output_type": "display_data",
     "data": {
      "application/vnd.colab-display-data+json": {
       "pip_warning": {
        "packages": [
         "pydevd_plugins"
        ]
       },
       "id": "46ee87fa5e5e4fc19678877e3bb75b78"
      }
     },
     "metadata": {}
    }
   ]
  },
  {
   "cell_type": "markdown",
   "source": [
    "### Imports"
   ],
   "metadata": {
    "id": "FQScUvGr-b08"
   }
  },
  {
   "cell_type": "code",
   "source": [
    "#3\n",
    "# Installiert\n",
    "!pip install --upgrade ogb"
   ],
   "metadata": {
    "id": "W_c6BdVhXbQH",
    "outputId": "e9ed8a16-6329-4f69-db48-c0ddf7726a4c",
    "colab": {
     "base_uri": "https://localhost:8080/"
    }
   },
   "execution_count": null,
   "outputs": [
    {
     "output_type": "stream",
     "name": "stdout",
     "text": [
      "Collecting ogb\n",
      "  Downloading ogb-1.3.6-py3-none-any.whl.metadata (6.2 kB)\n",
      "Requirement already satisfied: torch>=1.6.0 in /usr/local/lib/python3.11/dist-packages (from ogb) (2.5.1+cu121)\n",
      "Requirement already satisfied: numpy>=1.16.0 in /usr/local/lib/python3.11/dist-packages (from ogb) (1.26.4)\n",
      "Requirement already satisfied: tqdm>=4.29.0 in /usr/local/lib/python3.11/dist-packages (from ogb) (4.67.1)\n",
      "Requirement already satisfied: scikit-learn>=0.20.0 in /usr/local/lib/python3.11/dist-packages (from ogb) (1.6.0)\n",
      "Requirement already satisfied: pandas>=0.24.0 in /usr/local/lib/python3.11/dist-packages (from ogb) (2.2.2)\n",
      "Requirement already satisfied: six>=1.12.0 in /usr/local/lib/python3.11/dist-packages (from ogb) (1.17.0)\n",
      "Requirement already satisfied: urllib3>=1.24.0 in /usr/local/lib/python3.11/dist-packages (from ogb) (2.3.0)\n",
      "Collecting outdated>=0.2.0 (from ogb)\n",
      "  Downloading outdated-0.2.2-py2.py3-none-any.whl.metadata (4.7 kB)\n",
      "Requirement already satisfied: setuptools>=44 in /usr/local/lib/python3.11/dist-packages (from outdated>=0.2.0->ogb) (75.1.0)\n",
      "Collecting littleutils (from outdated>=0.2.0->ogb)\n",
      "  Downloading littleutils-0.2.4-py3-none-any.whl.metadata (679 bytes)\n",
      "Requirement already satisfied: requests in /usr/local/lib/python3.11/dist-packages (from outdated>=0.2.0->ogb) (2.32.3)\n",
      "Requirement already satisfied: python-dateutil>=2.8.2 in /usr/local/lib/python3.11/dist-packages (from pandas>=0.24.0->ogb) (2.8.2)\n",
      "Requirement already satisfied: pytz>=2020.1 in /usr/local/lib/python3.11/dist-packages (from pandas>=0.24.0->ogb) (2024.2)\n",
      "Requirement already satisfied: tzdata>=2022.7 in /usr/local/lib/python3.11/dist-packages (from pandas>=0.24.0->ogb) (2024.2)\n",
      "Requirement already satisfied: scipy>=1.6.0 in /usr/local/lib/python3.11/dist-packages (from scikit-learn>=0.20.0->ogb) (1.13.1)\n",
      "Requirement already satisfied: joblib>=1.2.0 in /usr/local/lib/python3.11/dist-packages (from scikit-learn>=0.20.0->ogb) (1.4.2)\n",
      "Requirement already satisfied: threadpoolctl>=3.1.0 in /usr/local/lib/python3.11/dist-packages (from scikit-learn>=0.20.0->ogb) (3.5.0)\n",
      "Requirement already satisfied: filelock in /usr/local/lib/python3.11/dist-packages (from torch>=1.6.0->ogb) (3.16.1)\n",
      "Requirement already satisfied: typing-extensions>=4.8.0 in /usr/local/lib/python3.11/dist-packages (from torch>=1.6.0->ogb) (4.12.2)\n",
      "Requirement already satisfied: networkx in /usr/local/lib/python3.11/dist-packages (from torch>=1.6.0->ogb) (3.4.2)\n",
      "Requirement already satisfied: jinja2 in /usr/local/lib/python3.11/dist-packages (from torch>=1.6.0->ogb) (3.1.5)\n",
      "Requirement already satisfied: fsspec in /usr/local/lib/python3.11/dist-packages (from torch>=1.6.0->ogb) (2024.10.0)\n",
      "Requirement already satisfied: nvidia-cuda-nvrtc-cu12==12.1.105 in /usr/local/lib/python3.11/dist-packages (from torch>=1.6.0->ogb) (12.1.105)\n",
      "Requirement already satisfied: nvidia-cuda-runtime-cu12==12.1.105 in /usr/local/lib/python3.11/dist-packages (from torch>=1.6.0->ogb) (12.1.105)\n",
      "Requirement already satisfied: nvidia-cuda-cupti-cu12==12.1.105 in /usr/local/lib/python3.11/dist-packages (from torch>=1.6.0->ogb) (12.1.105)\n",
      "Requirement already satisfied: nvidia-cudnn-cu12==9.1.0.70 in /usr/local/lib/python3.11/dist-packages (from torch>=1.6.0->ogb) (9.1.0.70)\n",
      "Requirement already satisfied: nvidia-cublas-cu12==12.1.3.1 in /usr/local/lib/python3.11/dist-packages (from torch>=1.6.0->ogb) (12.1.3.1)\n",
      "Requirement already satisfied: nvidia-cufft-cu12==11.0.2.54 in /usr/local/lib/python3.11/dist-packages (from torch>=1.6.0->ogb) (11.0.2.54)\n",
      "Requirement already satisfied: nvidia-curand-cu12==10.3.2.106 in /usr/local/lib/python3.11/dist-packages (from torch>=1.6.0->ogb) (10.3.2.106)\n",
      "Requirement already satisfied: nvidia-cusolver-cu12==11.4.5.107 in /usr/local/lib/python3.11/dist-packages (from torch>=1.6.0->ogb) (11.4.5.107)\n",
      "Requirement already satisfied: nvidia-cusparse-cu12==12.1.0.106 in /usr/local/lib/python3.11/dist-packages (from torch>=1.6.0->ogb) (12.1.0.106)\n",
      "Requirement already satisfied: nvidia-nccl-cu12==2.21.5 in /usr/local/lib/python3.11/dist-packages (from torch>=1.6.0->ogb) (2.21.5)\n",
      "Requirement already satisfied: nvidia-nvtx-cu12==12.1.105 in /usr/local/lib/python3.11/dist-packages (from torch>=1.6.0->ogb) (12.1.105)\n",
      "Requirement already satisfied: triton==3.1.0 in /usr/local/lib/python3.11/dist-packages (from torch>=1.6.0->ogb) (3.1.0)\n",
      "Requirement already satisfied: sympy==1.13.1 in /usr/local/lib/python3.11/dist-packages (from torch>=1.6.0->ogb) (1.13.1)\n",
      "Requirement already satisfied: nvidia-nvjitlink-cu12 in /usr/local/lib/python3.11/dist-packages (from nvidia-cusolver-cu12==11.4.5.107->torch>=1.6.0->ogb) (12.6.85)\n",
      "Requirement already satisfied: mpmath<1.4,>=1.1.0 in /usr/local/lib/python3.11/dist-packages (from sympy==1.13.1->torch>=1.6.0->ogb) (1.3.0)\n",
      "Requirement already satisfied: MarkupSafe>=2.0 in /usr/local/lib/python3.11/dist-packages (from jinja2->torch>=1.6.0->ogb) (3.0.2)\n",
      "Requirement already satisfied: charset-normalizer<4,>=2 in /usr/local/lib/python3.11/dist-packages (from requests->outdated>=0.2.0->ogb) (3.4.1)\n",
      "Requirement already satisfied: idna<4,>=2.5 in /usr/local/lib/python3.11/dist-packages (from requests->outdated>=0.2.0->ogb) (3.10)\n",
      "Requirement already satisfied: certifi>=2017.4.17 in /usr/local/lib/python3.11/dist-packages (from requests->outdated>=0.2.0->ogb) (2024.12.14)\n",
      "Downloading ogb-1.3.6-py3-none-any.whl (78 kB)\n",
      "\u001B[2K   \u001B[90m━━━━━━━━━━━━━━━━━━━━━━━━━━━━━━━━━━━━━━━━\u001B[0m \u001B[32m78.8/78.8 kB\u001B[0m \u001B[31m5.5 MB/s\u001B[0m eta \u001B[36m0:00:00\u001B[0m\n",
      "\u001B[?25hDownloading outdated-0.2.2-py2.py3-none-any.whl (7.5 kB)\n",
      "Downloading littleutils-0.2.4-py3-none-any.whl (8.1 kB)\n",
      "Installing collected packages: littleutils, outdated, ogb\n",
      "Successfully installed littleutils-0.2.4 ogb-1.3.6 outdated-0.2.2\n"
     ]
    }
   ]
  },
  {
   "cell_type": "code",
   "source": [
    "#4\n",
    "# Installiert\n",
    "#!pip install torch==1.13.0 torchvision==0.15.2+rocm5.3 torchaudio==0.13.0+rocm5.2 -f https://download.pytorch.org/whl/torch_stable.html\n",
    "!pip install torch torchvision torchaudio -f https://download.pytorch.org/whl/torch_stable.html\n",
    "!pip install torch_geometric\n"
   ],
   "metadata": {
    "id": "yFfzeyJ-ByH_",
    "outputId": "c17774be-08df-4b0d-9e8d-7644e7903577",
    "colab": {
     "base_uri": "https://localhost:8080/"
    }
   },
   "execution_count": null,
   "outputs": [
    {
     "output_type": "stream",
     "name": "stdout",
     "text": [
      "Looking in links: https://download.pytorch.org/whl/torch_stable.html\n",
      "Requirement already satisfied: torch in /usr/local/lib/python3.11/dist-packages (2.5.1+cu121)\n",
      "Requirement already satisfied: torchvision in /usr/local/lib/python3.11/dist-packages (0.20.1+cu121)\n",
      "Requirement already satisfied: torchaudio in /usr/local/lib/python3.11/dist-packages (2.5.1+cu121)\n",
      "Requirement already satisfied: filelock in /usr/local/lib/python3.11/dist-packages (from torch) (3.16.1)\n",
      "Requirement already satisfied: typing-extensions>=4.8.0 in /usr/local/lib/python3.11/dist-packages (from torch) (4.12.2)\n",
      "Requirement already satisfied: networkx in /usr/local/lib/python3.11/dist-packages (from torch) (3.4.2)\n",
      "Requirement already satisfied: jinja2 in /usr/local/lib/python3.11/dist-packages (from torch) (3.1.5)\n",
      "Requirement already satisfied: fsspec in /usr/local/lib/python3.11/dist-packages (from torch) (2024.10.0)\n",
      "Requirement already satisfied: nvidia-cuda-nvrtc-cu12==12.1.105 in /usr/local/lib/python3.11/dist-packages (from torch) (12.1.105)\n",
      "Requirement already satisfied: nvidia-cuda-runtime-cu12==12.1.105 in /usr/local/lib/python3.11/dist-packages (from torch) (12.1.105)\n",
      "Requirement already satisfied: nvidia-cuda-cupti-cu12==12.1.105 in /usr/local/lib/python3.11/dist-packages (from torch) (12.1.105)\n",
      "Requirement already satisfied: nvidia-cudnn-cu12==9.1.0.70 in /usr/local/lib/python3.11/dist-packages (from torch) (9.1.0.70)\n",
      "Requirement already satisfied: nvidia-cublas-cu12==12.1.3.1 in /usr/local/lib/python3.11/dist-packages (from torch) (12.1.3.1)\n",
      "Requirement already satisfied: nvidia-cufft-cu12==11.0.2.54 in /usr/local/lib/python3.11/dist-packages (from torch) (11.0.2.54)\n",
      "Requirement already satisfied: nvidia-curand-cu12==10.3.2.106 in /usr/local/lib/python3.11/dist-packages (from torch) (10.3.2.106)\n",
      "Requirement already satisfied: nvidia-cusolver-cu12==11.4.5.107 in /usr/local/lib/python3.11/dist-packages (from torch) (11.4.5.107)\n",
      "Requirement already satisfied: nvidia-cusparse-cu12==12.1.0.106 in /usr/local/lib/python3.11/dist-packages (from torch) (12.1.0.106)\n",
      "Requirement already satisfied: nvidia-nccl-cu12==2.21.5 in /usr/local/lib/python3.11/dist-packages (from torch) (2.21.5)\n",
      "Requirement already satisfied: nvidia-nvtx-cu12==12.1.105 in /usr/local/lib/python3.11/dist-packages (from torch) (12.1.105)\n",
      "Requirement already satisfied: triton==3.1.0 in /usr/local/lib/python3.11/dist-packages (from torch) (3.1.0)\n",
      "Requirement already satisfied: sympy==1.13.1 in /usr/local/lib/python3.11/dist-packages (from torch) (1.13.1)\n",
      "Requirement already satisfied: nvidia-nvjitlink-cu12 in /usr/local/lib/python3.11/dist-packages (from nvidia-cusolver-cu12==11.4.5.107->torch) (12.6.85)\n",
      "Requirement already satisfied: mpmath<1.4,>=1.1.0 in /usr/local/lib/python3.11/dist-packages (from sympy==1.13.1->torch) (1.3.0)\n",
      "Requirement already satisfied: numpy in /usr/local/lib/python3.11/dist-packages (from torchvision) (1.26.4)\n",
      "Requirement already satisfied: pillow!=8.3.*,>=5.3.0 in /usr/local/lib/python3.11/dist-packages (from torchvision) (11.1.0)\n",
      "Requirement already satisfied: MarkupSafe>=2.0 in /usr/local/lib/python3.11/dist-packages (from jinja2->torch) (3.0.2)\n",
      "Collecting torch_geometric\n",
      "  Downloading torch_geometric-2.6.1-py3-none-any.whl.metadata (63 kB)\n",
      "\u001B[2K     \u001B[90m━━━━━━━━━━━━━━━━━━━━━━━━━━━━━━━━━━━━━━━━\u001B[0m \u001B[32m63.1/63.1 kB\u001B[0m \u001B[31m5.3 MB/s\u001B[0m eta \u001B[36m0:00:00\u001B[0m\n",
      "\u001B[?25hRequirement already satisfied: aiohttp in /usr/local/lib/python3.11/dist-packages (from torch_geometric) (3.11.11)\n",
      "Requirement already satisfied: fsspec in /usr/local/lib/python3.11/dist-packages (from torch_geometric) (2024.10.0)\n",
      "Requirement already satisfied: jinja2 in /usr/local/lib/python3.11/dist-packages (from torch_geometric) (3.1.5)\n",
      "Requirement already satisfied: numpy in /usr/local/lib/python3.11/dist-packages (from torch_geometric) (1.26.4)\n",
      "Requirement already satisfied: psutil>=5.8.0 in /usr/local/lib/python3.11/dist-packages (from torch_geometric) (5.9.5)\n",
      "Requirement already satisfied: pyparsing in /usr/local/lib/python3.11/dist-packages (from torch_geometric) (3.2.1)\n",
      "Requirement already satisfied: requests in /usr/local/lib/python3.11/dist-packages (from torch_geometric) (2.32.3)\n",
      "Requirement already satisfied: tqdm in /usr/local/lib/python3.11/dist-packages (from torch_geometric) (4.67.1)\n",
      "Requirement already satisfied: aiohappyeyeballs>=2.3.0 in /usr/local/lib/python3.11/dist-packages (from aiohttp->torch_geometric) (2.4.4)\n",
      "Requirement already satisfied: aiosignal>=1.1.2 in /usr/local/lib/python3.11/dist-packages (from aiohttp->torch_geometric) (1.3.2)\n",
      "Requirement already satisfied: attrs>=17.3.0 in /usr/local/lib/python3.11/dist-packages (from aiohttp->torch_geometric) (24.3.0)\n",
      "Requirement already satisfied: frozenlist>=1.1.1 in /usr/local/lib/python3.11/dist-packages (from aiohttp->torch_geometric) (1.5.0)\n",
      "Requirement already satisfied: multidict<7.0,>=4.5 in /usr/local/lib/python3.11/dist-packages (from aiohttp->torch_geometric) (6.1.0)\n",
      "Requirement already satisfied: propcache>=0.2.0 in /usr/local/lib/python3.11/dist-packages (from aiohttp->torch_geometric) (0.2.1)\n",
      "Requirement already satisfied: yarl<2.0,>=1.17.0 in /usr/local/lib/python3.11/dist-packages (from aiohttp->torch_geometric) (1.18.3)\n",
      "Requirement already satisfied: MarkupSafe>=2.0 in /usr/local/lib/python3.11/dist-packages (from jinja2->torch_geometric) (3.0.2)\n",
      "Requirement already satisfied: charset-normalizer<4,>=2 in /usr/local/lib/python3.11/dist-packages (from requests->torch_geometric) (3.4.1)\n",
      "Requirement already satisfied: idna<4,>=2.5 in /usr/local/lib/python3.11/dist-packages (from requests->torch_geometric) (3.10)\n",
      "Requirement already satisfied: urllib3<3,>=1.21.1 in /usr/local/lib/python3.11/dist-packages (from requests->torch_geometric) (2.3.0)\n",
      "Requirement already satisfied: certifi>=2017.4.17 in /usr/local/lib/python3.11/dist-packages (from requests->torch_geometric) (2024.12.14)\n",
      "Downloading torch_geometric-2.6.1-py3-none-any.whl (1.1 MB)\n",
      "\u001B[2K   \u001B[90m━━━━━━━━━━━━━━━━━━━━━━━━━━━━━━━━━━━━━━━━\u001B[0m \u001B[32m1.1/1.1 MB\u001B[0m \u001B[31m40.2 MB/s\u001B[0m eta \u001B[36m0:00:00\u001B[0m\n",
      "\u001B[?25hInstalling collected packages: torch_geometric\n",
      "Successfully installed torch_geometric-2.6.1\n"
     ]
    }
   ]
  },
  {
   "cell_type": "code",
   "source": [
    "#5.0 (vor #5) run\n",
    "from google.colab import drive #run\n",
    "drive.mount('/content/drive') #run\n",
    "!mkdir -p /content/drive/MyDrive/Colab\\ Libraries/torch_geometric #create new directory\n"
   ],
   "metadata": {
    "id": "Dr0U1sUdPMCv",
    "outputId": "79172049-e759-44f5-d8cd-6e695592d26d",
    "colab": {
     "base_uri": "https://localhost:8080/"
    }
   },
   "execution_count": null,
   "outputs": [
    {
     "output_type": "stream",
     "name": "stdout",
     "text": [
      "Drive already mounted at /content/drive; to attempt to forcibly remount, call drive.mount(\"/content/drive\", force_remount=True).\n"
     ]
    }
   ]
  },
  {
   "cell_type": "code",
   "source": [
    "#5\n",
    "# Installiert, a) hat lange Installationszeit\n",
    "# Alternative: b) Installation wird in Drive gespeichert und muss bei neuen Sitzungen nicht mehr ausgeführt werden\n",
    "import os\n",
    "import torch\n",
    "import numpy\n",
    "import collections.abc\n",
    "os.environ['TORCH'] = torch.__version__\n",
    "print(torch.__version__)\n",
    "\n",
    "# a) Install directly\n",
    "!pip install -q torch-scatter -f https://data.pyg.org/whl/torch-${TORCH}.html\n",
    "!pip install -q torch-sparse -f https://data.pyg.org/whl/torch-${TORCH}.html\n",
    "!pip install -q git+https://github.com/pyg-team/pytorch_geometric.git\n",
    "\n",
    "# b) Install on mounted drive (faster alternative, you only need to run these once)\n",
    "#!pip install -q torch-scatter -f https://data.pyg.org/whl/torch-${TORCH}.html --target=/content/drive/MyDrive/Colab\\ Libraries/torch_geometric\n",
    "#!pip install -q torch-sparse -f https://data.pyg.org/whl/torch-${TORCH}.html --target=/content/drive/MyDrive/Colab\\ Libraries/torch_geometric\n",
    "#!pip install -q git+https://github.com/pyg-team/pytorch_geometric.git --target=/content/drive/MyDrive/Colab\\ Libraries/torch_geometric"
   ],
   "metadata": {
    "id": "dkxo9hsQZvW5",
    "outputId": "0499afa6-8b55-4a5a-f153-0e657fd74729",
    "colab": {
     "base_uri": "https://localhost:8080/"
    }
   },
   "execution_count": null,
   "outputs": [
    {
     "output_type": "stream",
     "name": "stdout",
     "text": [
      "2.5.1+cu121\n",
      "\u001B[2K     \u001B[90m━━━━━━━━━━━━━━━━━━━━━━━━━━━━━━━━━━━━━━━━\u001B[0m \u001B[32m10.9/10.9 MB\u001B[0m \u001B[31m95.6 MB/s\u001B[0m eta \u001B[36m0:00:00\u001B[0m\n",
      "\u001B[2K     \u001B[90m━━━━━━━━━━━━━━━━━━━━━━━━━━━━━━━━━━━━━━━━\u001B[0m \u001B[32m5.1/5.1 MB\u001B[0m \u001B[31m50.8 MB/s\u001B[0m eta \u001B[36m0:00:00\u001B[0m\n",
      "\u001B[?25h  Installing build dependencies ... \u001B[?25l\u001B[?25hdone\n",
      "  Getting requirements to build wheel ... \u001B[?25l\u001B[?25hdone\n",
      "  Preparing metadata (pyproject.toml) ... \u001B[?25l\u001B[?25hdone\n",
      "  Building wheel for torch-geometric (pyproject.toml) ... \u001B[?25l\u001B[?25hdone\n"
     ]
    }
   ]
  },
  {
   "cell_type": "code",
   "source": [
    "#5.1 (nach #5) run\n",
    "import sys\n",
    "sys.path.append('/content/drive/MyDrive/Colab Libraries/torch_geometric')"
   ],
   "metadata": {
    "id": "akZC5liIPaLk"
   },
   "execution_count": null,
   "outputs": []
  },
  {
   "cell_type": "code",
   "source": [
    "#6\n",
    "# Installiert\n",
    "!pip install tinydb\n",
    "!pip install tinydb_serialization\n",
    "!pip install seml==0.4.2"
   ],
   "metadata": {
    "colab": {
     "base_uri": "https://localhost:8080/"
    },
    "id": "EcLx5YSR3IRI",
    "outputId": "51eae19b-fabd-4d44-98a8-c07cd6df8c09"
   },
   "execution_count": null,
   "outputs": [
    {
     "output_type": "stream",
     "name": "stdout",
     "text": [
      "Collecting tinydb\n",
      "  Downloading tinydb-4.8.2-py3-none-any.whl.metadata (6.7 kB)\n",
      "Downloading tinydb-4.8.2-py3-none-any.whl (24 kB)\n",
      "Installing collected packages: tinydb\n",
      "Successfully installed tinydb-4.8.2\n",
      "Collecting tinydb_serialization\n",
      "  Downloading tinydb_serialization-2.2.0-py3-none-any.whl.metadata (5.8 kB)\n",
      "Requirement already satisfied: tinydb<5.0,>=4.0 in /usr/local/lib/python3.11/dist-packages (from tinydb_serialization) (4.8.2)\n",
      "Downloading tinydb_serialization-2.2.0-py3-none-any.whl (5.7 kB)\n",
      "Installing collected packages: tinydb_serialization\n",
      "Successfully installed tinydb_serialization-2.2.0\n",
      "Collecting seml==0.4.2\n",
      "  Downloading seml-0.4.2-py3-none-any.whl.metadata (6.3 kB)\n",
      "Requirement already satisfied: numpy>=1.15 in /usr/local/lib/python3.11/dist-packages (from seml==0.4.2) (1.26.4)\n",
      "Requirement already satisfied: pymongo>=3.11 in /usr/local/lib/python3.11/dist-packages (from seml==0.4.2) (4.10.1)\n",
      "Requirement already satisfied: pandas in /usr/local/lib/python3.11/dist-packages (from seml==0.4.2) (2.2.2)\n",
      "Requirement already satisfied: sacred>=0.8.4 in /usr/local/lib/python3.11/dist-packages (from seml==0.4.2) (0.8.7)\n",
      "Requirement already satisfied: pyyaml>=5.1 in /usr/local/lib/python3.11/dist-packages (from seml==0.4.2) (6.0.2)\n",
      "Requirement already satisfied: jsonpickle>=2.2 in /usr/local/lib/python3.11/dist-packages (from seml==0.4.2) (4.0.1)\n",
      "Requirement already satisfied: munch>=2.0.4 in /usr/local/lib/python3.11/dist-packages (from seml==0.4.2) (4.0.0)\n",
      "Requirement already satisfied: tqdm>=4.36 in /usr/local/lib/python3.11/dist-packages (from seml==0.4.2) (4.67.1)\n",
      "Requirement already satisfied: debugpy>=1.2.1 in /usr/local/lib/python3.11/dist-packages (from seml==0.4.2) (1.8.0)\n",
      "Requirement already satisfied: requests>=2.28.1 in /usr/local/lib/python3.11/dist-packages (from seml==0.4.2) (2.32.3)\n",
      "Requirement already satisfied: typer<1.0,>=0.9 in /usr/local/lib/python3.11/dist-packages (from seml==0.4.2) (0.15.1)\n",
      "Requirement already satisfied: rich<14.0,>=13.0 in /usr/local/lib/python3.11/dist-packages (from seml==0.4.2) (13.9.4)\n",
      "Requirement already satisfied: omegaconf<3.0,>=2.3.0 in /usr/local/lib/python3.11/dist-packages (from seml==0.4.2) (2.3.0)\n",
      "Requirement already satisfied: antlr4-python3-runtime==4.9.* in /usr/local/lib/python3.11/dist-packages (from omegaconf<3.0,>=2.3.0->seml==0.4.2) (4.9.3)\n",
      "Requirement already satisfied: dnspython<3.0.0,>=1.16.0 in /usr/local/lib/python3.11/dist-packages (from pymongo>=3.11->seml==0.4.2) (2.7.0)\n",
      "Requirement already satisfied: charset-normalizer<4,>=2 in /usr/local/lib/python3.11/dist-packages (from requests>=2.28.1->seml==0.4.2) (3.4.1)\n",
      "Requirement already satisfied: idna<4,>=2.5 in /usr/local/lib/python3.11/dist-packages (from requests>=2.28.1->seml==0.4.2) (3.10)\n",
      "Requirement already satisfied: urllib3<3,>=1.21.1 in /usr/local/lib/python3.11/dist-packages (from requests>=2.28.1->seml==0.4.2) (2.3.0)\n",
      "Requirement already satisfied: certifi>=2017.4.17 in /usr/local/lib/python3.11/dist-packages (from requests>=2.28.1->seml==0.4.2) (2024.12.14)\n",
      "Requirement already satisfied: markdown-it-py>=2.2.0 in /usr/local/lib/python3.11/dist-packages (from rich<14.0,>=13.0->seml==0.4.2) (3.0.0)\n",
      "Requirement already satisfied: pygments<3.0.0,>=2.13.0 in /usr/local/lib/python3.11/dist-packages (from rich<14.0,>=13.0->seml==0.4.2) (2.18.0)\n",
      "Requirement already satisfied: docopt-ng<1.0,>=0.9 in /usr/local/lib/python3.11/dist-packages (from sacred>=0.8.4->seml==0.4.2) (0.9.0)\n",
      "Requirement already satisfied: wrapt<2.0,>=1.0 in /usr/local/lib/python3.11/dist-packages (from sacred>=0.8.4->seml==0.4.2) (1.17.0)\n",
      "Requirement already satisfied: py-cpuinfo>=4.0 in /usr/local/lib/python3.11/dist-packages (from sacred>=0.8.4->seml==0.4.2) (9.0.0)\n",
      "Requirement already satisfied: colorama>=0.4 in /usr/local/lib/python3.11/dist-packages (from sacred>=0.8.4->seml==0.4.2) (0.4.6)\n",
      "Requirement already satisfied: packaging>=18.0 in /usr/local/lib/python3.11/dist-packages (from sacred>=0.8.4->seml==0.4.2) (24.2)\n",
      "Requirement already satisfied: GitPython in /usr/local/lib/python3.11/dist-packages (from sacred>=0.8.4->seml==0.4.2) (3.1.44)\n",
      "Requirement already satisfied: click>=8.0.0 in /usr/local/lib/python3.11/dist-packages (from typer<1.0,>=0.9->seml==0.4.2) (8.1.8)\n",
      "Requirement already satisfied: typing-extensions>=3.7.4.3 in /usr/local/lib/python3.11/dist-packages (from typer<1.0,>=0.9->seml==0.4.2) (4.12.2)\n",
      "Requirement already satisfied: shellingham>=1.3.0 in /usr/local/lib/python3.11/dist-packages (from typer<1.0,>=0.9->seml==0.4.2) (1.5.4)\n",
      "Requirement already satisfied: python-dateutil>=2.8.2 in /usr/local/lib/python3.11/dist-packages (from pandas->seml==0.4.2) (2.8.2)\n",
      "Requirement already satisfied: pytz>=2020.1 in /usr/local/lib/python3.11/dist-packages (from pandas->seml==0.4.2) (2024.2)\n",
      "Requirement already satisfied: tzdata>=2022.7 in /usr/local/lib/python3.11/dist-packages (from pandas->seml==0.4.2) (2024.2)\n",
      "Requirement already satisfied: mdurl~=0.1 in /usr/local/lib/python3.11/dist-packages (from markdown-it-py>=2.2.0->rich<14.0,>=13.0->seml==0.4.2) (0.1.2)\n",
      "Requirement already satisfied: six>=1.5 in /usr/local/lib/python3.11/dist-packages (from python-dateutil>=2.8.2->pandas->seml==0.4.2) (1.17.0)\n",
      "Requirement already satisfied: gitdb<5,>=4.0.1 in /usr/local/lib/python3.11/dist-packages (from GitPython->sacred>=0.8.4->seml==0.4.2) (4.0.12)\n",
      "Requirement already satisfied: smmap<6,>=3.0.1 in /usr/local/lib/python3.11/dist-packages (from gitdb<5,>=4.0.1->GitPython->sacred>=0.8.4->seml==0.4.2) (5.0.2)\n",
      "Downloading seml-0.4.2-py3-none-any.whl (81 kB)\n",
      "\u001B[2K   \u001B[90m━━━━━━━━━━━━━━━━━━━━━━━━━━━━━━━━━━━━━━━━\u001B[0m \u001B[32m81.5/81.5 kB\u001B[0m \u001B[31m6.7 MB/s\u001B[0m eta \u001B[36m0:00:00\u001B[0m\n",
      "\u001B[?25hInstalling collected packages: seml\n",
      "  Attempting uninstall: seml\n",
      "    Found existing installation: seml 0.5.4\n",
      "    Uninstalling seml-0.5.4:\n",
      "      Successfully uninstalled seml-0.5.4\n",
      "Successfully installed seml-0.4.2\n"
     ]
    }
   ]
  },
  {
   "cell_type": "code",
   "source": [
    "# run\n",
    "import seml"
   ],
   "metadata": {
    "id": "Mj15BeWkb2vU"
   },
   "execution_count": 2,
   "outputs": []
  },
  {
   "cell_type": "code",
   "source": [
    "#7 run\n",
    "#%cd robustness_of_gnns_at_scale\n",
    "from matplotlib import pyplot as plt\n",
    "\n",
    "from experiments import (\n",
    "    experiment_train,\n",
    "    experiment_local_attack_direct,\n",
    "    experiment_global_attack_direct\n",
    ")\n",
    "\n",
    "%matplotlib inline\n",
    "\n",
    "%load_ext autoreload\n",
    "%autoreload 2"
   ],
   "metadata": {
    "id": "dla6ioi_FBWn",
    "outputId": "98e40cf8-4f6c-426f-edc4-6802630765ab",
    "colab": {
     "base_uri": "https://localhost:8080/",
     "height": 359
    },
    "ExecuteTime": {
     "end_time": "2025-02-16T15:58:53.051671200Z",
     "start_time": "2025-02-16T15:58:52.670729Z"
    }
   },
   "execution_count": 4,
   "outputs": [
    {
     "name": "stdout",
     "output_type": "stream",
     "text": [
      "The autoreload extension is already loaded. To reload it, use:\n",
      "  %reload_ext autoreload\n"
     ]
    }
   ]
  },
  {
   "cell_type": "markdown",
   "source": [
    "## 1. Training\n",
    "\n",
    "For the training and evaluation code we decided to provide Sacred experiments which make it very easy to run the same code from the command line or on your cluster. To train or attack the models you can use the `script_execute_experiment` script and simply specify the respective configuration or execute the experiment directly by passing the desired configuration in [experiments/experiment_train.py](https://github.com/sigeisler/robustness_of_gnns_at_scale/blob/main/experiments/experiment_train.py#L74).\n",
    "\n",
    "In the example below, we train a `GCN` on `Cora ML`."
   ],
   "metadata": {
    "id": "Rb2y6lUbdYi_"
   }
  },
  {
   "cell_type": "code",
   "source": [
    "!pwd"
   ],
   "metadata": {
    "id": "Qep-wC-OYHIH",
    "outputId": "6bcae040-69eb-47be-e5b1-21ac822d1a8e",
    "colab": {
     "base_uri": "https://localhost:8080/"
    }
   },
   "execution_count": null,
   "outputs": [
    {
     "output_type": "stream",
     "name": "stdout",
     "text": [
      "/content/robustness_of_gnns_at_scale\n"
     ]
    }
   ]
  },
  {
   "cell_type": "code",
   "source": [
    "# zum laufen bringen:\n",
    "# alles ausführen\n",
    "# in rgnn_at_scale/models/gcn.py folgende imports einbauen:\n",
    "# import collections.abc\n",
    "# import collections\n",
    "# + Zeile 153 zu collections.abc.Sequence ändern\n",
    "# Nach der obigen Anpassen kam trotzdem der AttributeError module 'collection' has no module 'Sequence'\n",
    "# Dieser Fehler kam dann nicht mehr nach dem neustarten der Sitzung\n",
    "# Dann Zelle #7 und #5.1 vorher ausführen, es kann sein, dass alle imports nochmal ausgeführt werden müssen\n"
   ],
   "metadata": {
    "colab": {
     "base_uri": "https://localhost:8080/"
    },
    "id": "3FY3yZsxt98R",
    "outputId": "7beabaa1-d7bc-4d59-9429-7182eac3c5b2"
   },
   "execution_count": null,
   "outputs": [
    {
     "output_type": "stream",
     "name": "stdout",
     "text": [
      "3.10.12 (main, Nov  6 2024, 20:22:13) [GCC 11.4.0]\n"
     ]
    }
   ]
  },
  {
   "cell_type": "code",
   "source": [
    "train_statistics = experiment_train.run(\n",
    "    data_dir = './data',\n",
    "    dataset = 'cora_ml',\n",
    "    model_params = dict(\n",
    "        label=\"Vanilla GCN\",\n",
    "        model=\"GCN\",\n",
    "        do_cache_adj_prep=True,\n",
    "        n_filters=64,\n",
    "        dropout=0.5,\n",
    "        svd_params=None,\n",
    "        jaccard_params=None,\n",
    "        gdc_params={\"alpha\": 0.15, \"k\": 64}),\n",
    "    train_params = dict(\n",
    "        lr=1e-2,\n",
    "        weight_decay=1e-3,\n",
    "        patience=300,\n",
    "        max_epochs=3000),\n",
    "    binary_attr = False,\n",
    "    make_undirected = True,\n",
    "    seed=0,\n",
    "    artifact_dir = 'cache',\n",
    "    model_storage_type = 'demo',\n",
    "    ppr_cache_params = dict(),\n",
    "    #device = 0,\n",
    "    #data_device = 0,\n",
    "    device = \"cpu\",\n",
    "    data_device = \"cpu\",\n",
    "    display_steps = 100,\n",
    "    debug_level = \"info\"\n",
    ")\n",
    "\n",
    "# plot train and val loss curves\n",
    "fig, ax = plt.subplots()\n",
    "\n",
    "color = plt.rcParams['axes.prop_cycle'].by_key()['color'][0]\n",
    "ax.set_xlabel('Epoch $t$')\n",
    "ax.set_ylabel(\"Loss\")\n",
    "ax.plot(train_statistics['trace_train'], color=color, label='Train')\n",
    "\n",
    "color = plt.rcParams['axes.prop_cycle'].by_key()['color'][1]\n",
    "ax.plot(train_statistics['trace_val'], color=color, label='Val')\n",
    "ax.legend()\n",
    "\n",
    "plt.show()"
   ],
   "metadata": {
    "id": "6mga1GGvdbLp",
    "colab": {
     "base_uri": "https://localhost:8080/",
     "height": 1000,
     "referenced_widgets": [
      "22737c8a2e514705b67a371df5efa80d",
      "b327d356e05248d8936bb6d7b72c42d5",
      "d07630ee143e41b28e99cc5dba05eb71",
      "78517141da964ca8a6c165840abc95e2",
      "eec19e7ba9cd4039883ecc48a280b0a6",
      "57e0eb7b8c104ea9ad224c49bcf003ba",
      "b3f12e2a75164523aee4dceb4e1e204a",
      "9ed1649272524285943ede29436174f6",
      "dfac61d2a44e4e15af62421430701383",
      "2057b1ca6f104fca86cdebc03cc1a28d",
      "31770a4d11914717972b8561c3f5d973"
     ]
    },
    "outputId": "4c331251-321e-46eb-dc48-1ce5205845cf",
    "ExecuteTime": {
     "end_time": "2025-02-16T15:59:26.758989900Z",
     "start_time": "2025-02-16T15:58:57.552508100Z"
    }
   },
   "execution_count": 5,
   "outputs": [
    {
     "data": {
      "text/plain": "\u001B[2;36m[02/16/25 16:58:57]\u001B[0m\u001B[2;36m \u001B[0m\u001B[34mINFO    \u001B[0m \u001B[1m{\u001B[0m\u001B[32m'dataset'\u001B[0m: \u001B[32m'cora_ml'\u001B[0m, \u001B[32m'model_params'\u001B[0m: \u001B[1m{\u001B[0m\u001B[32m'label'\u001B[0m: \u001B[32m'Vanilla \u001B[0m     \u001B]8;id=781541;file://C:\\Users\\kyawk\\Desktop\\robustness_of_gnns_at_scale-main\\experiments\\experiment_train.py\u001B\\\u001B[2mexperiment_train.py\u001B[0m\u001B]8;;\u001B\\\u001B[2m:\u001B[0m\u001B]8;id=338711;file://C:\\Users\\kyawk\\Desktop\\robustness_of_gnns_at_scale-main\\experiments\\experiment_train.py#140\u001B\\\u001B[2m140\u001B[0m\u001B]8;;\u001B\\\n\u001B[2;36m                    \u001B[0m         \u001B[32mGCN'\u001B[0m, \u001B[32m'model'\u001B[0m: \u001B[32m'GCN'\u001B[0m, \u001B[32m'do_cache_adj_prep'\u001B[0m: \u001B[3;92mTrue\u001B[0m, \u001B[32m'n_filters'\u001B[0m:  \u001B[2m                       \u001B[0m\n\u001B[2;36m                    \u001B[0m         \u001B[1;36m64\u001B[0m, \u001B[32m'dropout'\u001B[0m: \u001B[1;36m0.5\u001B[0m, \u001B[32m'svd_params'\u001B[0m: \u001B[3;35mNone\u001B[0m, \u001B[32m'jaccard_params'\u001B[0m:      \u001B[2m                       \u001B[0m\n\u001B[2;36m                    \u001B[0m         \u001B[3;35mNone\u001B[0m, \u001B[32m'gdc_params'\u001B[0m: \u001B[1m{\u001B[0m\u001B[32m'alpha'\u001B[0m: \u001B[1;36m0.15\u001B[0m, \u001B[32m'k'\u001B[0m: \u001B[1;36m64\u001B[0m\u001B[1m}\u001B[0m\u001B[1m}\u001B[0m, \u001B[32m'train_params'\u001B[0m: \u001B[2m                       \u001B[0m\n\u001B[2;36m                    \u001B[0m         \u001B[1m{\u001B[0m\u001B[32m'lr'\u001B[0m: \u001B[1;36m0.01\u001B[0m, \u001B[32m'weight_decay'\u001B[0m: \u001B[1;36m0.001\u001B[0m, \u001B[32m'patience'\u001B[0m: \u001B[1;36m300\u001B[0m,           \u001B[2m                       \u001B[0m\n\u001B[2;36m                    \u001B[0m         \u001B[32m'max_epochs'\u001B[0m: \u001B[1;36m3000\u001B[0m\u001B[1m}\u001B[0m, \u001B[32m'binary_attr'\u001B[0m: \u001B[3;91mFalse\u001B[0m, \u001B[32m'make_undirected'\u001B[0m:  \u001B[2m                       \u001B[0m\n\u001B[2;36m                    \u001B[0m         \u001B[3;92mTrue\u001B[0m, \u001B[32m'seed'\u001B[0m: \u001B[1;36m0\u001B[0m, \u001B[32m'artifact_dir'\u001B[0m: \u001B[32m'cache'\u001B[0m,                      \u001B[2m                       \u001B[0m\n\u001B[2;36m                    \u001B[0m         \u001B[32m'model_storage_type'\u001B[0m: \u001B[32m'demo'\u001B[0m, \u001B[32m'ppr_cache_params'\u001B[0m: \u001B[1m{\u001B[0m\u001B[1m}\u001B[0m,          \u001B[2m                       \u001B[0m\n\u001B[2;36m                    \u001B[0m         \u001B[32m'device'\u001B[0m: \u001B[32m'cpu'\u001B[0m, \u001B[32m'display_steps'\u001B[0m: \u001B[1;36m100\u001B[0m, \u001B[32m'data_device'\u001B[0m: \u001B[32m'cpu'\u001B[0m\u001B[1m}\u001B[0m   \u001B[2m                       \u001B[0m\n",
      "text/html": "<pre style=\"white-space:pre;overflow-x:auto;line-height:normal;font-family:Menlo,'DejaVu Sans Mono',consolas,'Courier New',monospace\"><span style=\"color: #7fbfbf; text-decoration-color: #7fbfbf\">[02/16/25 16:58:57] </span><span style=\"color: #000080; text-decoration-color: #000080\">INFO    </span> <span style=\"font-weight: bold\">{</span><span style=\"color: #008000; text-decoration-color: #008000\">'dataset'</span>: <span style=\"color: #008000; text-decoration-color: #008000\">'cora_ml'</span>, <span style=\"color: #008000; text-decoration-color: #008000\">'model_params'</span>: <span style=\"font-weight: bold\">{</span><span style=\"color: #008000; text-decoration-color: #008000\">'label'</span>: <span style=\"color: #008000; text-decoration-color: #008000\">'Vanilla </span>     <a href=\"file://C:\\Users\\kyawk\\Desktop\\robustness_of_gnns_at_scale-main\\experiments\\experiment_train.py\" target=\"_blank\"><span style=\"color: #7f7f7f; text-decoration-color: #7f7f7f\">experiment_train.py</span></a><span style=\"color: #7f7f7f; text-decoration-color: #7f7f7f\">:</span><a href=\"file://C:\\Users\\kyawk\\Desktop\\robustness_of_gnns_at_scale-main\\experiments\\experiment_train.py#140\" target=\"_blank\"><span style=\"color: #7f7f7f; text-decoration-color: #7f7f7f\">140</span></a>\n<span style=\"color: #7fbfbf; text-decoration-color: #7fbfbf\">                    </span>         <span style=\"color: #008000; text-decoration-color: #008000\">GCN'</span>, <span style=\"color: #008000; text-decoration-color: #008000\">'model'</span>: <span style=\"color: #008000; text-decoration-color: #008000\">'GCN'</span>, <span style=\"color: #008000; text-decoration-color: #008000\">'do_cache_adj_prep'</span>: <span style=\"color: #00ff00; text-decoration-color: #00ff00; font-style: italic\">True</span>, <span style=\"color: #008000; text-decoration-color: #008000\">'n_filters'</span>:  <span style=\"color: #7f7f7f; text-decoration-color: #7f7f7f\">                       </span>\n<span style=\"color: #7fbfbf; text-decoration-color: #7fbfbf\">                    </span>         <span style=\"color: #008080; text-decoration-color: #008080; font-weight: bold\">64</span>, <span style=\"color: #008000; text-decoration-color: #008000\">'dropout'</span>: <span style=\"color: #008080; text-decoration-color: #008080; font-weight: bold\">0.5</span>, <span style=\"color: #008000; text-decoration-color: #008000\">'svd_params'</span>: <span style=\"color: #800080; text-decoration-color: #800080; font-style: italic\">None</span>, <span style=\"color: #008000; text-decoration-color: #008000\">'jaccard_params'</span>:      <span style=\"color: #7f7f7f; text-decoration-color: #7f7f7f\">                       </span>\n<span style=\"color: #7fbfbf; text-decoration-color: #7fbfbf\">                    </span>         <span style=\"color: #800080; text-decoration-color: #800080; font-style: italic\">None</span>, <span style=\"color: #008000; text-decoration-color: #008000\">'gdc_params'</span>: <span style=\"font-weight: bold\">{</span><span style=\"color: #008000; text-decoration-color: #008000\">'alpha'</span>: <span style=\"color: #008080; text-decoration-color: #008080; font-weight: bold\">0.15</span>, <span style=\"color: #008000; text-decoration-color: #008000\">'k'</span>: <span style=\"color: #008080; text-decoration-color: #008080; font-weight: bold\">64</span><span style=\"font-weight: bold\">}}</span>, <span style=\"color: #008000; text-decoration-color: #008000\">'train_params'</span>: <span style=\"color: #7f7f7f; text-decoration-color: #7f7f7f\">                       </span>\n<span style=\"color: #7fbfbf; text-decoration-color: #7fbfbf\">                    </span>         <span style=\"font-weight: bold\">{</span><span style=\"color: #008000; text-decoration-color: #008000\">'lr'</span>: <span style=\"color: #008080; text-decoration-color: #008080; font-weight: bold\">0.01</span>, <span style=\"color: #008000; text-decoration-color: #008000\">'weight_decay'</span>: <span style=\"color: #008080; text-decoration-color: #008080; font-weight: bold\">0.001</span>, <span style=\"color: #008000; text-decoration-color: #008000\">'patience'</span>: <span style=\"color: #008080; text-decoration-color: #008080; font-weight: bold\">300</span>,           <span style=\"color: #7f7f7f; text-decoration-color: #7f7f7f\">                       </span>\n<span style=\"color: #7fbfbf; text-decoration-color: #7fbfbf\">                    </span>         <span style=\"color: #008000; text-decoration-color: #008000\">'max_epochs'</span>: <span style=\"color: #008080; text-decoration-color: #008080; font-weight: bold\">3000</span><span style=\"font-weight: bold\">}</span>, <span style=\"color: #008000; text-decoration-color: #008000\">'binary_attr'</span>: <span style=\"color: #ff0000; text-decoration-color: #ff0000; font-style: italic\">False</span>, <span style=\"color: #008000; text-decoration-color: #008000\">'make_undirected'</span>:  <span style=\"color: #7f7f7f; text-decoration-color: #7f7f7f\">                       </span>\n<span style=\"color: #7fbfbf; text-decoration-color: #7fbfbf\">                    </span>         <span style=\"color: #00ff00; text-decoration-color: #00ff00; font-style: italic\">True</span>, <span style=\"color: #008000; text-decoration-color: #008000\">'seed'</span>: <span style=\"color: #008080; text-decoration-color: #008080; font-weight: bold\">0</span>, <span style=\"color: #008000; text-decoration-color: #008000\">'artifact_dir'</span>: <span style=\"color: #008000; text-decoration-color: #008000\">'cache'</span>,                      <span style=\"color: #7f7f7f; text-decoration-color: #7f7f7f\">                       </span>\n<span style=\"color: #7fbfbf; text-decoration-color: #7fbfbf\">                    </span>         <span style=\"color: #008000; text-decoration-color: #008000\">'model_storage_type'</span>: <span style=\"color: #008000; text-decoration-color: #008000\">'demo'</span>, <span style=\"color: #008000; text-decoration-color: #008000\">'ppr_cache_params'</span>: <span style=\"font-weight: bold\">{}</span>,          <span style=\"color: #7f7f7f; text-decoration-color: #7f7f7f\">                       </span>\n<span style=\"color: #7fbfbf; text-decoration-color: #7fbfbf\">                    </span>         <span style=\"color: #008000; text-decoration-color: #008000\">'device'</span>: <span style=\"color: #008000; text-decoration-color: #008000\">'cpu'</span>, <span style=\"color: #008000; text-decoration-color: #008000\">'display_steps'</span>: <span style=\"color: #008080; text-decoration-color: #008080; font-weight: bold\">100</span>, <span style=\"color: #008000; text-decoration-color: #008000\">'data_device'</span>: <span style=\"color: #008000; text-decoration-color: #008000\">'cpu'</span><span style=\"font-weight: bold\">}</span>   <span style=\"color: #7f7f7f; text-decoration-color: #7f7f7f\">                       </span>\n</pre>\n"
     },
     "metadata": {},
     "output_type": "display_data"
    },
    {
     "data": {
      "text/plain": "\u001B[2;36m[02/16/25 16:58:58]\u001B[0m\u001B[2;36m \u001B[0m\u001B[34mINFO    \u001B[0m Training set size: \u001B[1;36m140\u001B[0m                                         \u001B]8;id=200089;file://C:\\Users\\kyawk\\Desktop\\robustness_of_gnns_at_scale-main\\experiments\\experiment_train.py\u001B\\\u001B[2mexperiment_train.py\u001B[0m\u001B]8;;\u001B\\\u001B[2m:\u001B[0m\u001B]8;id=423473;file://C:\\Users\\kyawk\\Desktop\\robustness_of_gnns_at_scale-main\\experiments\\experiment_train.py#161\u001B\\\u001B[2m161\u001B[0m\u001B]8;;\u001B\\\n",
      "text/html": "<pre style=\"white-space:pre;overflow-x:auto;line-height:normal;font-family:Menlo,'DejaVu Sans Mono',consolas,'Courier New',monospace\"><span style=\"color: #7fbfbf; text-decoration-color: #7fbfbf\">[02/16/25 16:58:58] </span><span style=\"color: #000080; text-decoration-color: #000080\">INFO    </span> Training set size: <span style=\"color: #008080; text-decoration-color: #008080; font-weight: bold\">140</span>                                         <a href=\"file://C:\\Users\\kyawk\\Desktop\\robustness_of_gnns_at_scale-main\\experiments\\experiment_train.py\" target=\"_blank\"><span style=\"color: #7f7f7f; text-decoration-color: #7f7f7f\">experiment_train.py</span></a><span style=\"color: #7f7f7f; text-decoration-color: #7f7f7f\">:</span><a href=\"file://C:\\Users\\kyawk\\Desktop\\robustness_of_gnns_at_scale-main\\experiments\\experiment_train.py#161\" target=\"_blank\"><span style=\"color: #7f7f7f; text-decoration-color: #7f7f7f\">161</span></a>\n</pre>\n"
     },
     "metadata": {},
     "output_type": "display_data"
    },
    {
     "data": {
      "text/plain": "\u001B[2;36m                   \u001B[0m\u001B[2;36m \u001B[0m\u001B[34mINFO    \u001B[0m Validation set size: \u001B[1;36m140\u001B[0m                                       \u001B]8;id=360980;file://C:\\Users\\kyawk\\Desktop\\robustness_of_gnns_at_scale-main\\experiments\\experiment_train.py\u001B\\\u001B[2mexperiment_train.py\u001B[0m\u001B]8;;\u001B\\\u001B[2m:\u001B[0m\u001B]8;id=689862;file://C:\\Users\\kyawk\\Desktop\\robustness_of_gnns_at_scale-main\\experiments\\experiment_train.py#162\u001B\\\u001B[2m162\u001B[0m\u001B]8;;\u001B\\\n",
      "text/html": "<pre style=\"white-space:pre;overflow-x:auto;line-height:normal;font-family:Menlo,'DejaVu Sans Mono',consolas,'Courier New',monospace\"><span style=\"color: #7fbfbf; text-decoration-color: #7fbfbf\">                    </span><span style=\"color: #000080; text-decoration-color: #000080\">INFO    </span> Validation set size: <span style=\"color: #008080; text-decoration-color: #008080; font-weight: bold\">140</span>                                       <a href=\"file://C:\\Users\\kyawk\\Desktop\\robustness_of_gnns_at_scale-main\\experiments\\experiment_train.py\" target=\"_blank\"><span style=\"color: #7f7f7f; text-decoration-color: #7f7f7f\">experiment_train.py</span></a><span style=\"color: #7f7f7f; text-decoration-color: #7f7f7f\">:</span><a href=\"file://C:\\Users\\kyawk\\Desktop\\robustness_of_gnns_at_scale-main\\experiments\\experiment_train.py#162\" target=\"_blank\"><span style=\"color: #7f7f7f; text-decoration-color: #7f7f7f\">162</span></a>\n</pre>\n"
     },
     "metadata": {},
     "output_type": "display_data"
    },
    {
     "data": {
      "text/plain": "\u001B[2;36m                   \u001B[0m\u001B[2;36m \u001B[0m\u001B[34mINFO    \u001B[0m Test set size: \u001B[1;36m2530\u001B[0m                                            \u001B]8;id=95794;file://C:\\Users\\kyawk\\Desktop\\robustness_of_gnns_at_scale-main\\experiments\\experiment_train.py\u001B\\\u001B[2mexperiment_train.py\u001B[0m\u001B]8;;\u001B\\\u001B[2m:\u001B[0m\u001B]8;id=512030;file://C:\\Users\\kyawk\\Desktop\\robustness_of_gnns_at_scale-main\\experiments\\experiment_train.py#163\u001B\\\u001B[2m163\u001B[0m\u001B]8;;\u001B\\\n",
      "text/html": "<pre style=\"white-space:pre;overflow-x:auto;line-height:normal;font-family:Menlo,'DejaVu Sans Mono',consolas,'Courier New',monospace\"><span style=\"color: #7fbfbf; text-decoration-color: #7fbfbf\">                    </span><span style=\"color: #000080; text-decoration-color: #000080\">INFO    </span> Test set size: <span style=\"color: #008080; text-decoration-color: #008080; font-weight: bold\">2530</span>                                            <a href=\"file://C:\\Users\\kyawk\\Desktop\\robustness_of_gnns_at_scale-main\\experiments\\experiment_train.py\" target=\"_blank\"><span style=\"color: #7f7f7f; text-decoration-color: #7f7f7f\">experiment_train.py</span></a><span style=\"color: #7f7f7f; text-decoration-color: #7f7f7f\">:</span><a href=\"file://C:\\Users\\kyawk\\Desktop\\robustness_of_gnns_at_scale-main\\experiments\\experiment_train.py#163\" target=\"_blank\"><span style=\"color: #7f7f7f; text-decoration-color: #7f7f7f\">163</span></a>\n</pre>\n"
     },
     "metadata": {},
     "output_type": "display_data"
    },
    {
     "data": {
      "text/plain": "\u001B[2;36m                   \u001B[0m\u001B[2;36m \u001B[0m\u001B[34mINFO    \u001B[0m Memory Usage after loading the dataset:                        \u001B]8;id=664056;file://C:\\Users\\kyawk\\Desktop\\robustness_of_gnns_at_scale-main\\experiments\\experiment_train.py\u001B\\\u001B[2mexperiment_train.py\u001B[0m\u001B]8;;\u001B\\\u001B[2m:\u001B[0m\u001B]8;id=334228;file://C:\\Users\\kyawk\\Desktop\\robustness_of_gnns_at_scale-main\\experiments\\experiment_train.py#183\u001B\\\u001B[2m183\u001B[0m\u001B]8;;\u001B\\\n",
      "text/html": "<pre style=\"white-space:pre;overflow-x:auto;line-height:normal;font-family:Menlo,'DejaVu Sans Mono',consolas,'Courier New',monospace\"><span style=\"color: #7fbfbf; text-decoration-color: #7fbfbf\">                    </span><span style=\"color: #000080; text-decoration-color: #000080\">INFO    </span> Memory Usage after loading the dataset:                        <a href=\"file://C:\\Users\\kyawk\\Desktop\\robustness_of_gnns_at_scale-main\\experiments\\experiment_train.py\" target=\"_blank\"><span style=\"color: #7f7f7f; text-decoration-color: #7f7f7f\">experiment_train.py</span></a><span style=\"color: #7f7f7f; text-decoration-color: #7f7f7f\">:</span><a href=\"file://C:\\Users\\kyawk\\Desktop\\robustness_of_gnns_at_scale-main\\experiments\\experiment_train.py#183\" target=\"_blank\"><span style=\"color: #7f7f7f; text-decoration-color: #7f7f7f\">183</span></a>\n</pre>\n"
     },
     "metadata": {},
     "output_type": "display_data"
    },
    {
     "data": {
      "text/plain": "\u001B[2;36m                   \u001B[0m\u001B[2;36m \u001B[0m\u001B[34mINFO    \u001B[0m nan                                                            \u001B]8;id=540089;file://C:\\Users\\kyawk\\Desktop\\robustness_of_gnns_at_scale-main\\experiments\\experiment_train.py\u001B\\\u001B[2mexperiment_train.py\u001B[0m\u001B]8;;\u001B\\\u001B[2m:\u001B[0m\u001B]8;id=10675;file://C:\\Users\\kyawk\\Desktop\\robustness_of_gnns_at_scale-main\\experiments\\experiment_train.py#184\u001B\\\u001B[2m184\u001B[0m\u001B]8;;\u001B\\\n",
      "text/html": "<pre style=\"white-space:pre;overflow-x:auto;line-height:normal;font-family:Menlo,'DejaVu Sans Mono',consolas,'Courier New',monospace\"><span style=\"color: #7fbfbf; text-decoration-color: #7fbfbf\">                    </span><span style=\"color: #000080; text-decoration-color: #000080\">INFO    </span> nan                                                            <a href=\"file://C:\\Users\\kyawk\\Desktop\\robustness_of_gnns_at_scale-main\\experiments\\experiment_train.py\" target=\"_blank\"><span style=\"color: #7f7f7f; text-decoration-color: #7f7f7f\">experiment_train.py</span></a><span style=\"color: #7f7f7f; text-decoration-color: #7f7f7f\">:</span><a href=\"file://C:\\Users\\kyawk\\Desktop\\robustness_of_gnns_at_scale-main\\experiments\\experiment_train.py#184\" target=\"_blank\"><span style=\"color: #7f7f7f; text-decoration-color: #7f7f7f\">184</span></a>\n</pre>\n"
     },
     "metadata": {},
     "output_type": "display_data"
    },
    {
     "data": {
      "text/plain": "HBox(children=(FloatProgress(value=0.0, description='Training...', max=3000.0, style=ProgressStyle(description…",
      "application/vnd.jupyter.widget-view+json": {
       "version_major": 2,
       "version_minor": 0,
       "model_id": "303cc003b1c8474b8f8d5062e8dbd189"
      }
     },
     "metadata": {},
     "output_type": "display_data"
    },
    {
     "name": "stderr",
     "output_type": "stream",
     "text": [
      "C:\\Users\\kyawk\\Desktop\\robustness_of_gnns_at_scale-main\\rgnn_at_scale\\models\\gcn.py:315: UserWarning: torch.sparse.SparseTensor(indices, values, *, device=) is deprecated.  Please use torch.sparse_coo_tensor(indices, values, dtype=, device=). (Triggered internally at C:\\actions-runner\\_work\\pytorch\\pytorch\\pytorch\\torch\\csrc\\utils\\tensor_new.cpp:634.)\n",
      "  adj = get_ppr_matrix(torch.sparse.FloatTensor(edge_idx, edge_weight), **self.gdc_params)\n",
      "C:\\Users\\kyawk\\anaconda3\\envs\\Masterarbeit_2_0\\Lib\\site-packages\\torch_sparse\\tensor.py:574: UserWarning: Sparse CSR tensor support is in beta state. If you miss a functionality in the sparse tensor support, please submit a feature request to https://github.com/pytorch/pytorch/issues. (Triggered internally at C:\\actions-runner\\_work\\pytorch\\pytorch\\pytorch\\aten\\src\\ATen\\SparseCsrTensorImpl.cpp:55.)\n",
      "  return torch.sparse_csr_tensor(rowptr, col, value, self.sizes())\n"
     ]
    },
    {
     "data": {
      "text/plain": "\u001B[2;36m                   \u001B[0m\u001B[2;36m \u001B[0m\u001B[34mINFO    \u001B[0m                                                                            \u001B]8;id=635490;file://C:\\Users\\kyawk\\Desktop\\robustness_of_gnns_at_scale-main\\rgnn_at_scale\\train.py\u001B\\\u001B[2mtrain.py\u001B[0m\u001B]8;;\u001B\\\u001B[2m:\u001B[0m\u001B]8;id=865416;file://C:\\Users\\kyawk\\Desktop\\robustness_of_gnns_at_scale-main\\rgnn_at_scale\\train.py#81\u001B\\\u001B[2m81\u001B[0m\u001B]8;;\u001B\\\n\u001B[2;36m                    \u001B[0m         Epoch    \u001B[1;36m0\u001B[0m: loss_train: \u001B[1;36m1.94657\u001B[0m, loss_val: \u001B[1;36m1.94479\u001B[0m, acc_train: \u001B[1;36m0.10000\u001B[0m,    \u001B[2m           \u001B[0m\n\u001B[2;36m                    \u001B[0m         acc_val: \u001B[1;36m0.18571\u001B[0m                                                           \u001B[2m           \u001B[0m\n",
      "text/html": "<pre style=\"white-space:pre;overflow-x:auto;line-height:normal;font-family:Menlo,'DejaVu Sans Mono',consolas,'Courier New',monospace\"><span style=\"color: #7fbfbf; text-decoration-color: #7fbfbf\">                    </span><span style=\"color: #000080; text-decoration-color: #000080\">INFO    </span>                                                                            <a href=\"file://C:\\Users\\kyawk\\Desktop\\robustness_of_gnns_at_scale-main\\rgnn_at_scale\\train.py\" target=\"_blank\"><span style=\"color: #7f7f7f; text-decoration-color: #7f7f7f\">train.py</span></a><span style=\"color: #7f7f7f; text-decoration-color: #7f7f7f\">:</span><a href=\"file://C:\\Users\\kyawk\\Desktop\\robustness_of_gnns_at_scale-main\\rgnn_at_scale\\train.py#81\" target=\"_blank\"><span style=\"color: #7f7f7f; text-decoration-color: #7f7f7f\">81</span></a>\n<span style=\"color: #7fbfbf; text-decoration-color: #7fbfbf\">                    </span>         Epoch    <span style=\"color: #008080; text-decoration-color: #008080; font-weight: bold\">0</span>: loss_train: <span style=\"color: #008080; text-decoration-color: #008080; font-weight: bold\">1.94657</span>, loss_val: <span style=\"color: #008080; text-decoration-color: #008080; font-weight: bold\">1.94479</span>, acc_train: <span style=\"color: #008080; text-decoration-color: #008080; font-weight: bold\">0.10000</span>,    <span style=\"color: #7f7f7f; text-decoration-color: #7f7f7f\">           </span>\n<span style=\"color: #7fbfbf; text-decoration-color: #7fbfbf\">                    </span>         acc_val: <span style=\"color: #008080; text-decoration-color: #008080; font-weight: bold\">0.18571</span>                                                           <span style=\"color: #7f7f7f; text-decoration-color: #7f7f7f\">           </span>\n</pre>\n"
     },
     "metadata": {},
     "output_type": "display_data"
    },
    {
     "data": {
      "text/plain": "\u001B[2;36m[02/16/25 16:59:02]\u001B[0m\u001B[2;36m \u001B[0m\u001B[34mINFO    \u001B[0m                                                                            \u001B]8;id=47158;file://C:\\Users\\kyawk\\Desktop\\robustness_of_gnns_at_scale-main\\rgnn_at_scale\\train.py\u001B\\\u001B[2mtrain.py\u001B[0m\u001B]8;;\u001B\\\u001B[2m:\u001B[0m\u001B]8;id=740185;file://C:\\Users\\kyawk\\Desktop\\robustness_of_gnns_at_scale-main\\rgnn_at_scale\\train.py#81\u001B\\\u001B[2m81\u001B[0m\u001B]8;;\u001B\\\n\u001B[2;36m                    \u001B[0m         Epoch  \u001B[1;36m100\u001B[0m: loss_train: \u001B[1;36m0.09288\u001B[0m, loss_val: \u001B[1;36m0.42195\u001B[0m, acc_train: \u001B[1;36m1.00000\u001B[0m,    \u001B[2m           \u001B[0m\n\u001B[2;36m                    \u001B[0m         acc_val: \u001B[1;36m0.88571\u001B[0m                                                           \u001B[2m           \u001B[0m\n",
      "text/html": "<pre style=\"white-space:pre;overflow-x:auto;line-height:normal;font-family:Menlo,'DejaVu Sans Mono',consolas,'Courier New',monospace\"><span style=\"color: #7fbfbf; text-decoration-color: #7fbfbf\">[02/16/25 16:59:02] </span><span style=\"color: #000080; text-decoration-color: #000080\">INFO    </span>                                                                            <a href=\"file://C:\\Users\\kyawk\\Desktop\\robustness_of_gnns_at_scale-main\\rgnn_at_scale\\train.py\" target=\"_blank\"><span style=\"color: #7f7f7f; text-decoration-color: #7f7f7f\">train.py</span></a><span style=\"color: #7f7f7f; text-decoration-color: #7f7f7f\">:</span><a href=\"file://C:\\Users\\kyawk\\Desktop\\robustness_of_gnns_at_scale-main\\rgnn_at_scale\\train.py#81\" target=\"_blank\"><span style=\"color: #7f7f7f; text-decoration-color: #7f7f7f\">81</span></a>\n<span style=\"color: #7fbfbf; text-decoration-color: #7fbfbf\">                    </span>         Epoch  <span style=\"color: #008080; text-decoration-color: #008080; font-weight: bold\">100</span>: loss_train: <span style=\"color: #008080; text-decoration-color: #008080; font-weight: bold\">0.09288</span>, loss_val: <span style=\"color: #008080; text-decoration-color: #008080; font-weight: bold\">0.42195</span>, acc_train: <span style=\"color: #008080; text-decoration-color: #008080; font-weight: bold\">1.00000</span>,    <span style=\"color: #7f7f7f; text-decoration-color: #7f7f7f\">           </span>\n<span style=\"color: #7fbfbf; text-decoration-color: #7fbfbf\">                    </span>         acc_val: <span style=\"color: #008080; text-decoration-color: #008080; font-weight: bold\">0.88571</span>                                                           <span style=\"color: #7f7f7f; text-decoration-color: #7f7f7f\">           </span>\n</pre>\n"
     },
     "metadata": {},
     "output_type": "display_data"
    },
    {
     "data": {
      "text/plain": "\u001B[2;36m[02/16/25 16:59:07]\u001B[0m\u001B[2;36m \u001B[0m\u001B[34mINFO    \u001B[0m                                                                            \u001B]8;id=202928;file://C:\\Users\\kyawk\\Desktop\\robustness_of_gnns_at_scale-main\\rgnn_at_scale\\train.py\u001B\\\u001B[2mtrain.py\u001B[0m\u001B]8;;\u001B\\\u001B[2m:\u001B[0m\u001B]8;id=237639;file://C:\\Users\\kyawk\\Desktop\\robustness_of_gnns_at_scale-main\\rgnn_at_scale\\train.py#81\u001B\\\u001B[2m81\u001B[0m\u001B]8;;\u001B\\\n\u001B[2;36m                    \u001B[0m         Epoch  \u001B[1;36m200\u001B[0m: loss_train: \u001B[1;36m0.07167\u001B[0m, loss_val: \u001B[1;36m0.37600\u001B[0m, acc_train: \u001B[1;36m1.00000\u001B[0m,    \u001B[2m           \u001B[0m\n\u001B[2;36m                    \u001B[0m         acc_val: \u001B[1;36m0.90714\u001B[0m                                                           \u001B[2m           \u001B[0m\n",
      "text/html": "<pre style=\"white-space:pre;overflow-x:auto;line-height:normal;font-family:Menlo,'DejaVu Sans Mono',consolas,'Courier New',monospace\"><span style=\"color: #7fbfbf; text-decoration-color: #7fbfbf\">[02/16/25 16:59:07] </span><span style=\"color: #000080; text-decoration-color: #000080\">INFO    </span>                                                                            <a href=\"file://C:\\Users\\kyawk\\Desktop\\robustness_of_gnns_at_scale-main\\rgnn_at_scale\\train.py\" target=\"_blank\"><span style=\"color: #7f7f7f; text-decoration-color: #7f7f7f\">train.py</span></a><span style=\"color: #7f7f7f; text-decoration-color: #7f7f7f\">:</span><a href=\"file://C:\\Users\\kyawk\\Desktop\\robustness_of_gnns_at_scale-main\\rgnn_at_scale\\train.py#81\" target=\"_blank\"><span style=\"color: #7f7f7f; text-decoration-color: #7f7f7f\">81</span></a>\n<span style=\"color: #7fbfbf; text-decoration-color: #7fbfbf\">                    </span>         Epoch  <span style=\"color: #008080; text-decoration-color: #008080; font-weight: bold\">200</span>: loss_train: <span style=\"color: #008080; text-decoration-color: #008080; font-weight: bold\">0.07167</span>, loss_val: <span style=\"color: #008080; text-decoration-color: #008080; font-weight: bold\">0.37600</span>, acc_train: <span style=\"color: #008080; text-decoration-color: #008080; font-weight: bold\">1.00000</span>,    <span style=\"color: #7f7f7f; text-decoration-color: #7f7f7f\">           </span>\n<span style=\"color: #7fbfbf; text-decoration-color: #7fbfbf\">                    </span>         acc_val: <span style=\"color: #008080; text-decoration-color: #008080; font-weight: bold\">0.90714</span>                                                           <span style=\"color: #7f7f7f; text-decoration-color: #7f7f7f\">           </span>\n</pre>\n"
     },
     "metadata": {},
     "output_type": "display_data"
    },
    {
     "data": {
      "text/plain": "\u001B[2;36m[02/16/25 16:59:11]\u001B[0m\u001B[2;36m \u001B[0m\u001B[34mINFO    \u001B[0m                                                                            \u001B]8;id=542359;file://C:\\Users\\kyawk\\Desktop\\robustness_of_gnns_at_scale-main\\rgnn_at_scale\\train.py\u001B\\\u001B[2mtrain.py\u001B[0m\u001B]8;;\u001B\\\u001B[2m:\u001B[0m\u001B]8;id=391649;file://C:\\Users\\kyawk\\Desktop\\robustness_of_gnns_at_scale-main\\rgnn_at_scale\\train.py#81\u001B\\\u001B[2m81\u001B[0m\u001B]8;;\u001B\\\n\u001B[2;36m                    \u001B[0m         Epoch  \u001B[1;36m300\u001B[0m: loss_train: \u001B[1;36m0.07151\u001B[0m, loss_val: \u001B[1;36m0.39939\u001B[0m, acc_train: \u001B[1;36m1.00000\u001B[0m,    \u001B[2m           \u001B[0m\n\u001B[2;36m                    \u001B[0m         acc_val: \u001B[1;36m0.88571\u001B[0m                                                           \u001B[2m           \u001B[0m\n",
      "text/html": "<pre style=\"white-space:pre;overflow-x:auto;line-height:normal;font-family:Menlo,'DejaVu Sans Mono',consolas,'Courier New',monospace\"><span style=\"color: #7fbfbf; text-decoration-color: #7fbfbf\">[02/16/25 16:59:11] </span><span style=\"color: #000080; text-decoration-color: #000080\">INFO    </span>                                                                            <a href=\"file://C:\\Users\\kyawk\\Desktop\\robustness_of_gnns_at_scale-main\\rgnn_at_scale\\train.py\" target=\"_blank\"><span style=\"color: #7f7f7f; text-decoration-color: #7f7f7f\">train.py</span></a><span style=\"color: #7f7f7f; text-decoration-color: #7f7f7f\">:</span><a href=\"file://C:\\Users\\kyawk\\Desktop\\robustness_of_gnns_at_scale-main\\rgnn_at_scale\\train.py#81\" target=\"_blank\"><span style=\"color: #7f7f7f; text-decoration-color: #7f7f7f\">81</span></a>\n<span style=\"color: #7fbfbf; text-decoration-color: #7fbfbf\">                    </span>         Epoch  <span style=\"color: #008080; text-decoration-color: #008080; font-weight: bold\">300</span>: loss_train: <span style=\"color: #008080; text-decoration-color: #008080; font-weight: bold\">0.07151</span>, loss_val: <span style=\"color: #008080; text-decoration-color: #008080; font-weight: bold\">0.39939</span>, acc_train: <span style=\"color: #008080; text-decoration-color: #008080; font-weight: bold\">1.00000</span>,    <span style=\"color: #7f7f7f; text-decoration-color: #7f7f7f\">           </span>\n<span style=\"color: #7fbfbf; text-decoration-color: #7fbfbf\">                    </span>         acc_val: <span style=\"color: #008080; text-decoration-color: #008080; font-weight: bold\">0.88571</span>                                                           <span style=\"color: #7f7f7f; text-decoration-color: #7f7f7f\">           </span>\n</pre>\n"
     },
     "metadata": {},
     "output_type": "display_data"
    },
    {
     "data": {
      "text/plain": "\u001B[2;36m[02/16/25 16:59:15]\u001B[0m\u001B[2;36m \u001B[0m\u001B[34mINFO    \u001B[0m                                                                            \u001B]8;id=953053;file://C:\\Users\\kyawk\\Desktop\\robustness_of_gnns_at_scale-main\\rgnn_at_scale\\train.py\u001B\\\u001B[2mtrain.py\u001B[0m\u001B]8;;\u001B\\\u001B[2m:\u001B[0m\u001B]8;id=994315;file://C:\\Users\\kyawk\\Desktop\\robustness_of_gnns_at_scale-main\\rgnn_at_scale\\train.py#81\u001B\\\u001B[2m81\u001B[0m\u001B]8;;\u001B\\\n\u001B[2;36m                    \u001B[0m         Epoch  \u001B[1;36m400\u001B[0m: loss_train: \u001B[1;36m0.06845\u001B[0m, loss_val: \u001B[1;36m0.38217\u001B[0m, acc_train: \u001B[1;36m1.00000\u001B[0m,    \u001B[2m           \u001B[0m\n\u001B[2;36m                    \u001B[0m         acc_val: \u001B[1;36m0.90714\u001B[0m                                                           \u001B[2m           \u001B[0m\n",
      "text/html": "<pre style=\"white-space:pre;overflow-x:auto;line-height:normal;font-family:Menlo,'DejaVu Sans Mono',consolas,'Courier New',monospace\"><span style=\"color: #7fbfbf; text-decoration-color: #7fbfbf\">[02/16/25 16:59:15] </span><span style=\"color: #000080; text-decoration-color: #000080\">INFO    </span>                                                                            <a href=\"file://C:\\Users\\kyawk\\Desktop\\robustness_of_gnns_at_scale-main\\rgnn_at_scale\\train.py\" target=\"_blank\"><span style=\"color: #7f7f7f; text-decoration-color: #7f7f7f\">train.py</span></a><span style=\"color: #7f7f7f; text-decoration-color: #7f7f7f\">:</span><a href=\"file://C:\\Users\\kyawk\\Desktop\\robustness_of_gnns_at_scale-main\\rgnn_at_scale\\train.py#81\" target=\"_blank\"><span style=\"color: #7f7f7f; text-decoration-color: #7f7f7f\">81</span></a>\n<span style=\"color: #7fbfbf; text-decoration-color: #7fbfbf\">                    </span>         Epoch  <span style=\"color: #008080; text-decoration-color: #008080; font-weight: bold\">400</span>: loss_train: <span style=\"color: #008080; text-decoration-color: #008080; font-weight: bold\">0.06845</span>, loss_val: <span style=\"color: #008080; text-decoration-color: #008080; font-weight: bold\">0.38217</span>, acc_train: <span style=\"color: #008080; text-decoration-color: #008080; font-weight: bold\">1.00000</span>,    <span style=\"color: #7f7f7f; text-decoration-color: #7f7f7f\">           </span>\n<span style=\"color: #7fbfbf; text-decoration-color: #7fbfbf\">                    </span>         acc_val: <span style=\"color: #008080; text-decoration-color: #008080; font-weight: bold\">0.90714</span>                                                           <span style=\"color: #7f7f7f; text-decoration-color: #7f7f7f\">           </span>\n</pre>\n"
     },
     "metadata": {},
     "output_type": "display_data"
    },
    {
     "data": {
      "text/plain": "\u001B[2;36m[02/16/25 16:59:19]\u001B[0m\u001B[2;36m \u001B[0m\u001B[34mINFO    \u001B[0m                                                                            \u001B]8;id=754824;file://C:\\Users\\kyawk\\Desktop\\robustness_of_gnns_at_scale-main\\rgnn_at_scale\\train.py\u001B\\\u001B[2mtrain.py\u001B[0m\u001B]8;;\u001B\\\u001B[2m:\u001B[0m\u001B]8;id=174884;file://C:\\Users\\kyawk\\Desktop\\robustness_of_gnns_at_scale-main\\rgnn_at_scale\\train.py#81\u001B\\\u001B[2m81\u001B[0m\u001B]8;;\u001B\\\n\u001B[2;36m                    \u001B[0m         Epoch  \u001B[1;36m500\u001B[0m: loss_train: \u001B[1;36m0.06988\u001B[0m, loss_val: \u001B[1;36m0.36415\u001B[0m, acc_train: \u001B[1;36m1.00000\u001B[0m,    \u001B[2m           \u001B[0m\n\u001B[2;36m                    \u001B[0m         acc_val: \u001B[1;36m0.89286\u001B[0m                                                           \u001B[2m           \u001B[0m\n",
      "text/html": "<pre style=\"white-space:pre;overflow-x:auto;line-height:normal;font-family:Menlo,'DejaVu Sans Mono',consolas,'Courier New',monospace\"><span style=\"color: #7fbfbf; text-decoration-color: #7fbfbf\">[02/16/25 16:59:19] </span><span style=\"color: #000080; text-decoration-color: #000080\">INFO    </span>                                                                            <a href=\"file://C:\\Users\\kyawk\\Desktop\\robustness_of_gnns_at_scale-main\\rgnn_at_scale\\train.py\" target=\"_blank\"><span style=\"color: #7f7f7f; text-decoration-color: #7f7f7f\">train.py</span></a><span style=\"color: #7f7f7f; text-decoration-color: #7f7f7f\">:</span><a href=\"file://C:\\Users\\kyawk\\Desktop\\robustness_of_gnns_at_scale-main\\rgnn_at_scale\\train.py#81\" target=\"_blank\"><span style=\"color: #7f7f7f; text-decoration-color: #7f7f7f\">81</span></a>\n<span style=\"color: #7fbfbf; text-decoration-color: #7fbfbf\">                    </span>         Epoch  <span style=\"color: #008080; text-decoration-color: #008080; font-weight: bold\">500</span>: loss_train: <span style=\"color: #008080; text-decoration-color: #008080; font-weight: bold\">0.06988</span>, loss_val: <span style=\"color: #008080; text-decoration-color: #008080; font-weight: bold\">0.36415</span>, acc_train: <span style=\"color: #008080; text-decoration-color: #008080; font-weight: bold\">1.00000</span>,    <span style=\"color: #7f7f7f; text-decoration-color: #7f7f7f\">           </span>\n<span style=\"color: #7fbfbf; text-decoration-color: #7fbfbf\">                    </span>         acc_val: <span style=\"color: #008080; text-decoration-color: #008080; font-weight: bold\">0.89286</span>                                                           <span style=\"color: #7f7f7f; text-decoration-color: #7f7f7f\">           </span>\n</pre>\n"
     },
     "metadata": {},
     "output_type": "display_data"
    },
    {
     "data": {
      "text/plain": "\u001B[2;36m[02/16/25 16:59:23]\u001B[0m\u001B[2;36m \u001B[0m\u001B[34mINFO    \u001B[0m                                                                            \u001B]8;id=784189;file://C:\\Users\\kyawk\\Desktop\\robustness_of_gnns_at_scale-main\\rgnn_at_scale\\train.py\u001B\\\u001B[2mtrain.py\u001B[0m\u001B]8;;\u001B\\\u001B[2m:\u001B[0m\u001B]8;id=538432;file://C:\\Users\\kyawk\\Desktop\\robustness_of_gnns_at_scale-main\\rgnn_at_scale\\train.py#81\u001B\\\u001B[2m81\u001B[0m\u001B]8;;\u001B\\\n\u001B[2;36m                    \u001B[0m         Epoch  \u001B[1;36m600\u001B[0m: loss_train: \u001B[1;36m0.06436\u001B[0m, loss_val: \u001B[1;36m0.40361\u001B[0m, acc_train: \u001B[1;36m1.00000\u001B[0m,    \u001B[2m           \u001B[0m\n\u001B[2;36m                    \u001B[0m         acc_val: \u001B[1;36m0.87857\u001B[0m                                                           \u001B[2m           \u001B[0m\n",
      "text/html": "<pre style=\"white-space:pre;overflow-x:auto;line-height:normal;font-family:Menlo,'DejaVu Sans Mono',consolas,'Courier New',monospace\"><span style=\"color: #7fbfbf; text-decoration-color: #7fbfbf\">[02/16/25 16:59:23] </span><span style=\"color: #000080; text-decoration-color: #000080\">INFO    </span>                                                                            <a href=\"file://C:\\Users\\kyawk\\Desktop\\robustness_of_gnns_at_scale-main\\rgnn_at_scale\\train.py\" target=\"_blank\"><span style=\"color: #7f7f7f; text-decoration-color: #7f7f7f\">train.py</span></a><span style=\"color: #7f7f7f; text-decoration-color: #7f7f7f\">:</span><a href=\"file://C:\\Users\\kyawk\\Desktop\\robustness_of_gnns_at_scale-main\\rgnn_at_scale\\train.py#81\" target=\"_blank\"><span style=\"color: #7f7f7f; text-decoration-color: #7f7f7f\">81</span></a>\n<span style=\"color: #7fbfbf; text-decoration-color: #7fbfbf\">                    </span>         Epoch  <span style=\"color: #008080; text-decoration-color: #008080; font-weight: bold\">600</span>: loss_train: <span style=\"color: #008080; text-decoration-color: #008080; font-weight: bold\">0.06436</span>, loss_val: <span style=\"color: #008080; text-decoration-color: #008080; font-weight: bold\">0.40361</span>, acc_train: <span style=\"color: #008080; text-decoration-color: #008080; font-weight: bold\">1.00000</span>,    <span style=\"color: #7f7f7f; text-decoration-color: #7f7f7f\">           </span>\n<span style=\"color: #7fbfbf; text-decoration-color: #7fbfbf\">                    </span>         acc_val: <span style=\"color: #008080; text-decoration-color: #008080; font-weight: bold\">0.87857</span>                                                           <span style=\"color: #7f7f7f; text-decoration-color: #7f7f7f\">           </span>\n</pre>\n"
     },
     "metadata": {},
     "output_type": "display_data"
    },
    {
     "data": {
      "text/plain": "\u001B[2;36m[02/16/25 16:59:26]\u001B[0m\u001B[2;36m \u001B[0m\u001B[34mINFO    \u001B[0m Test accuracy is \u001B[1;36m0.834782600402832\u001B[0m with seed \u001B[1;36m0\u001B[0m                 \u001B]8;id=882752;file://C:\\Users\\kyawk\\Desktop\\robustness_of_gnns_at_scale-main\\experiments\\experiment_train.py\u001B\\\u001B[2mexperiment_train.py\u001B[0m\u001B]8;;\u001B\\\u001B[2m:\u001B[0m\u001B]8;id=699197;file://C:\\Users\\kyawk\\Desktop\\robustness_of_gnns_at_scale-main\\experiments\\experiment_train.py#216\u001B\\\u001B[2m216\u001B[0m\u001B]8;;\u001B\\\n",
      "text/html": "<pre style=\"white-space:pre;overflow-x:auto;line-height:normal;font-family:Menlo,'DejaVu Sans Mono',consolas,'Courier New',monospace\"><span style=\"color: #7fbfbf; text-decoration-color: #7fbfbf\">[02/16/25 16:59:26] </span><span style=\"color: #000080; text-decoration-color: #000080\">INFO    </span> Test accuracy is <span style=\"color: #008080; text-decoration-color: #008080; font-weight: bold\">0.834782600402832</span> with seed <span style=\"color: #008080; text-decoration-color: #008080; font-weight: bold\">0</span>                 <a href=\"file://C:\\Users\\kyawk\\Desktop\\robustness_of_gnns_at_scale-main\\experiments\\experiment_train.py\" target=\"_blank\"><span style=\"color: #7f7f7f; text-decoration-color: #7f7f7f\">experiment_train.py</span></a><span style=\"color: #7f7f7f; text-decoration-color: #7f7f7f\">:</span><a href=\"file://C:\\Users\\kyawk\\Desktop\\robustness_of_gnns_at_scale-main\\experiments\\experiment_train.py#216\" target=\"_blank\"><span style=\"color: #7f7f7f; text-decoration-color: #7f7f7f\">216</span></a>\n</pre>\n"
     },
     "metadata": {},
     "output_type": "display_data"
    },
    {
     "data": {
      "text/plain": "\u001B[2;36m                   \u001B[0m\u001B[2;36m \u001B[0m\u001B[34mINFO    \u001B[0m Lock \u001B[1;36m2751358801552\u001B[0m acquired on cache\\demo.json.lock                    \u001B]8;id=524324;file://C:\\Users\\kyawk\\anaconda3\\envs\\Masterarbeit_2_0\\Lib\\site-packages\\filelock.py\u001B\\\u001B[2mfilelock.py\u001B[0m\u001B]8;;\u001B\\\u001B[2m:\u001B[0m\u001B]8;id=247122;file://C:\\Users\\kyawk\\anaconda3\\envs\\Masterarbeit_2_0\\Lib\\site-packages\\filelock.py#274\u001B\\\u001B[2m274\u001B[0m\u001B]8;;\u001B\\\n",
      "text/html": "<pre style=\"white-space:pre;overflow-x:auto;line-height:normal;font-family:Menlo,'DejaVu Sans Mono',consolas,'Courier New',monospace\"><span style=\"color: #7fbfbf; text-decoration-color: #7fbfbf\">                    </span><span style=\"color: #000080; text-decoration-color: #000080\">INFO    </span> Lock <span style=\"color: #008080; text-decoration-color: #008080; font-weight: bold\">2751358801552</span> acquired on cache\\demo.json.lock                    <a href=\"file://C:\\Users\\kyawk\\anaconda3\\envs\\Masterarbeit_2_0\\Lib\\site-packages\\filelock.py\" target=\"_blank\"><span style=\"color: #7f7f7f; text-decoration-color: #7f7f7f\">filelock.py</span></a><span style=\"color: #7f7f7f; text-decoration-color: #7f7f7f\">:</span><a href=\"file://C:\\Users\\kyawk\\anaconda3\\envs\\Masterarbeit_2_0\\Lib\\site-packages\\filelock.py#274\" target=\"_blank\"><span style=\"color: #7f7f7f; text-decoration-color: #7f7f7f\">274</span></a>\n</pre>\n"
     },
     "metadata": {},
     "output_type": "display_data"
    },
    {
     "data": {
      "text/plain": "\u001B[2;36m                   \u001B[0m\u001B[2;36m \u001B[0m\u001B[34mINFO    \u001B[0m Lock \u001B[1;36m2751358801552\u001B[0m released on cache\\demo.json.lock                    \u001B]8;id=878478;file://C:\\Users\\kyawk\\anaconda3\\envs\\Masterarbeit_2_0\\Lib\\site-packages\\filelock.py\u001B\\\u001B[2mfilelock.py\u001B[0m\u001B]8;;\u001B\\\u001B[2m:\u001B[0m\u001B]8;id=622853;file://C:\\Users\\kyawk\\anaconda3\\envs\\Masterarbeit_2_0\\Lib\\site-packages\\filelock.py#318\u001B\\\u001B[2m318\u001B[0m\u001B]8;;\u001B\\\n",
      "text/html": "<pre style=\"white-space:pre;overflow-x:auto;line-height:normal;font-family:Menlo,'DejaVu Sans Mono',consolas,'Courier New',monospace\"><span style=\"color: #7fbfbf; text-decoration-color: #7fbfbf\">                    </span><span style=\"color: #000080; text-decoration-color: #000080\">INFO    </span> Lock <span style=\"color: #008080; text-decoration-color: #008080; font-weight: bold\">2751358801552</span> released on cache\\demo.json.lock                    <a href=\"file://C:\\Users\\kyawk\\anaconda3\\envs\\Masterarbeit_2_0\\Lib\\site-packages\\filelock.py\" target=\"_blank\"><span style=\"color: #7f7f7f; text-decoration-color: #7f7f7f\">filelock.py</span></a><span style=\"color: #7f7f7f; text-decoration-color: #7f7f7f\">:</span><a href=\"file://C:\\Users\\kyawk\\anaconda3\\envs\\Masterarbeit_2_0\\Lib\\site-packages\\filelock.py#318\" target=\"_blank\"><span style=\"color: #7f7f7f; text-decoration-color: #7f7f7f\">318</span></a>\n</pre>\n"
     },
     "metadata": {},
     "output_type": "display_data"
    },
    {
     "name": "stderr",
     "output_type": "stream",
     "text": [
      "C:\\Users\\kyawk\\AppData\\Local\\Temp\\ipykernel_27804\\1642501541.py:44: UserWarning: FigureCanvasAgg is non-interactive, and thus cannot be shown\n",
      "  plt.gcf().show()\n"
     ]
    }
   ]
  },
  {
   "cell_type": "code",
   "source": [
    "clean_acc = train_statistics[\"accuracy\"]\n",
    "print(f'Accuracy of the model: {100*clean_acc:.2f}%')"
   ],
   "metadata": {
    "colab": {
     "base_uri": "https://localhost:8080/"
    },
    "id": "Diozgu7Vivj7",
    "outputId": "35237a27-7076-4ea2-b71e-597e14d96276"
   },
   "execution_count": 6,
   "outputs": [
    {
     "output_type": "stream",
     "name": "stdout",
     "text": [
      "Accuracy of the model: 83.44%\n"
     ]
    }
   ]
  },
  {
   "cell_type": "markdown",
   "source": [
    "## 2. Evaluation\n",
    "\n",
    "For evaluation, we use the locally stored models. Similarly to training, we provide a script that runs the attacks for different seeds for all pretrained models. For all experiments, please check out the [config](https://github.com/sigeisler/robustness_of_gnns_at_scale/tree/main/config) folder.\n",
    "\n",
    "### 2.1 Local PR-BCD Attack\n",
    "We provide an example for a `local PR-BCD` attack on the `Vanilla GCN` model trained previously by passing the desired configuration in [experiments/experiment_local_attack_direct.py](https://github.com/sigeisler/robustness_of_gnns_at_scale/blob/main/experiments/experiment_local_attack_direct.py#L68)."
   ],
   "metadata": {
    "id": "JzCocLocdb2y"
   }
  },
  {
   "cell_type": "code",
   "source": [
    "local_prbcd_statistics = experiment_local_attack_direct.run(\n",
    "    data_dir = './data',\n",
    "    dataset = 'cora_ml',\n",
    "    attack = 'LocalPRBCD',\n",
    "    attack_params = dict(\n",
    "        ppr_cache_params = dict(\n",
    "            data_artifact_dir = 'cache',\n",
    "            data_storage_type = 'ppr'),\n",
    "        #epochs = 500, # -> way too high for my setup, use 40-100\n",
    "        epochs = 50,\n",
    "        fine_tune_epochs = 100,\n",
    "        search_space_size = 10_000,\n",
    "        ppr_recalc_at_end = True,\n",
    "        loss_type = 'Margin',\n",
    "        lr_factor = 0.05),\n",
    "    nodes = None,\n",
    "    nodes_topk = 5,\n",
    "    seed=0,\n",
    "    epsilons = [1],\n",
    "    min_node_degree = None,\n",
    "    binary_attr = False,\n",
    "    make_undirected = True,\n",
    "    artifact_dir = 'cache',\n",
    "    model_label = 'Vanilla GCN',\n",
    "    model_storage_type = 'demo',\n",
    "    #device = 0,\n",
    "    #data_device = 0,\n",
    "    device = \"cpu\",\n",
    "    data_device = \"cpu\",\n",
    "    debug_level = \"info\"\n",
    ")"
   ],
   "metadata": {
    "colab": {
     "base_uri": "https://localhost:8080/",
     "height": 1000
    },
    "id": "A-n0IWrJC1QQ",
    "outputId": "43f39721-13e9-4596-f260-4cdf79cf54d1"
   },
   "execution_count": 7,
   "outputs": [
    {
     "output_type": "display_data",
     "data": {
      "text/plain": [
       "\u001B[2;36m[02/07/25 14:01:20]\u001B[0m\u001B[2;36m \u001B[0m\u001B[34mINFO    \u001B[0m \u001B[1m{\u001B[0m\u001B[32m'dataset'\u001B[0m: \u001B[32m'cora_ml'\u001B[0m, \u001B[32m'attack'\u001B[0m: \u001B[32m'LocalPRBCD'\u001B[0m, \u001B[32m'attack_params'\u001B[0m:           \u001B]8;id=847962;file:///content/robustness_of_gnns_at_scale/experiments/common.py\u001B\\\u001B[2mcommon.py\u001B[0m\u001B]8;;\u001B\\\u001B[2m:\u001B[0m\u001B]8;id=193471;file:///content/robustness_of_gnns_at_scale/experiments/common.py#38\u001B\\\u001B[2m38\u001B[0m\u001B]8;;\u001B\\\n",
       "\u001B[2;36m                    \u001B[0m         \u001B[1m{\u001B[0m\u001B[32m'ppr_cache_params'\u001B[0m: \u001B[1m{\u001B[0m\u001B[32m'data_artifact_dir'\u001B[0m: \u001B[32m'cache'\u001B[0m, \u001B[32m'data_storage_type'\u001B[0m:  \u001B[2m            \u001B[0m\n",
       "\u001B[2;36m                    \u001B[0m         \u001B[32m'ppr'\u001B[0m\u001B[1m}\u001B[0m, \u001B[32m'epochs'\u001B[0m: \u001B[1;36m50\u001B[0m, \u001B[32m'fine_tune_epochs'\u001B[0m: \u001B[1;36m100\u001B[0m, \u001B[32m'search_space_size'\u001B[0m:       \u001B[2m            \u001B[0m\n",
       "\u001B[2;36m                    \u001B[0m         \u001B[1;36m10000\u001B[0m, \u001B[32m'ppr_recalc_at_end'\u001B[0m: \u001B[3;92mTrue\u001B[0m, \u001B[32m'loss_type'\u001B[0m: \u001B[32m'Margin'\u001B[0m, \u001B[32m'lr_factor'\u001B[0m:     \u001B[2m            \u001B[0m\n",
       "\u001B[2;36m                    \u001B[0m         \u001B[1;36m0.05\u001B[0m\u001B[1m}\u001B[0m, \u001B[32m'epsilons'\u001B[0m: \u001B[1m[\u001B[0m\u001B[1;36m1\u001B[0m\u001B[1m]\u001B[0m, \u001B[32m'make_undirected'\u001B[0m: \u001B[3;92mTrue\u001B[0m, \u001B[32m'binary_attr'\u001B[0m: \u001B[3;91mFalse\u001B[0m,    \u001B[2m            \u001B[0m\n",
       "\u001B[2;36m                    \u001B[0m         \u001B[32m'seed'\u001B[0m: \u001B[1;36m0\u001B[0m, \u001B[32m'artifact_dir'\u001B[0m: \u001B[32m'cache'\u001B[0m, \u001B[32m'pert_adj_storage_type'\u001B[0m: \u001B[3;35mNone\u001B[0m,        \u001B[2m            \u001B[0m\n",
       "\u001B[2;36m                    \u001B[0m         \u001B[32m'pert_attr_storage_type'\u001B[0m: \u001B[3;35mNone\u001B[0m, \u001B[32m'model_label'\u001B[0m: \u001B[32m'Vanilla GCN'\u001B[0m,             \u001B[2m            \u001B[0m\n",
       "\u001B[2;36m                    \u001B[0m         \u001B[32m'model_storage_type'\u001B[0m: \u001B[32m'demo'\u001B[0m, \u001B[32m'device'\u001B[0m: \u001B[32m'cpu'\u001B[0m, \u001B[32m'data_device'\u001B[0m: \u001B[32m'cpu'\u001B[0m\u001B[1m}\u001B[0m      \u001B[2m            \u001B[0m\n"
      ],
      "text/html": [
       "<pre style=\"white-space:pre;overflow-x:auto;line-height:normal;font-family:Menlo,'DejaVu Sans Mono',consolas,'Courier New',monospace\"><span style=\"color: #7fbfbf; text-decoration-color: #7fbfbf\">[02/07/25 14:01:20] </span><span style=\"color: #000080; text-decoration-color: #000080\">INFO    </span> <span style=\"font-weight: bold\">{</span><span style=\"color: #008000; text-decoration-color: #008000\">'dataset'</span>: <span style=\"color: #008000; text-decoration-color: #008000\">'cora_ml'</span>, <span style=\"color: #008000; text-decoration-color: #008000\">'attack'</span>: <span style=\"color: #008000; text-decoration-color: #008000\">'LocalPRBCD'</span>, <span style=\"color: #008000; text-decoration-color: #008000\">'attack_params'</span>:           <a href=\"file:///content/robustness_of_gnns_at_scale/experiments/common.py\" target=\"_blank\"><span style=\"color: #7f7f7f; text-decoration-color: #7f7f7f\">common.py</span></a><span style=\"color: #7f7f7f; text-decoration-color: #7f7f7f\">:</span><a href=\"file:///content/robustness_of_gnns_at_scale/experiments/common.py#38\" target=\"_blank\"><span style=\"color: #7f7f7f; text-decoration-color: #7f7f7f\">38</span></a>\n",
       "<span style=\"color: #7fbfbf; text-decoration-color: #7fbfbf\">                    </span>         <span style=\"font-weight: bold\">{</span><span style=\"color: #008000; text-decoration-color: #008000\">'ppr_cache_params'</span>: <span style=\"font-weight: bold\">{</span><span style=\"color: #008000; text-decoration-color: #008000\">'data_artifact_dir'</span>: <span style=\"color: #008000; text-decoration-color: #008000\">'cache'</span>, <span style=\"color: #008000; text-decoration-color: #008000\">'data_storage_type'</span>:  <span style=\"color: #7f7f7f; text-decoration-color: #7f7f7f\">            </span>\n",
       "<span style=\"color: #7fbfbf; text-decoration-color: #7fbfbf\">                    </span>         <span style=\"color: #008000; text-decoration-color: #008000\">'ppr'</span><span style=\"font-weight: bold\">}</span>, <span style=\"color: #008000; text-decoration-color: #008000\">'epochs'</span>: <span style=\"color: #008080; text-decoration-color: #008080; font-weight: bold\">50</span>, <span style=\"color: #008000; text-decoration-color: #008000\">'fine_tune_epochs'</span>: <span style=\"color: #008080; text-decoration-color: #008080; font-weight: bold\">100</span>, <span style=\"color: #008000; text-decoration-color: #008000\">'search_space_size'</span>:       <span style=\"color: #7f7f7f; text-decoration-color: #7f7f7f\">            </span>\n",
       "<span style=\"color: #7fbfbf; text-decoration-color: #7fbfbf\">                    </span>         <span style=\"color: #008080; text-decoration-color: #008080; font-weight: bold\">10000</span>, <span style=\"color: #008000; text-decoration-color: #008000\">'ppr_recalc_at_end'</span>: <span style=\"color: #00ff00; text-decoration-color: #00ff00; font-style: italic\">True</span>, <span style=\"color: #008000; text-decoration-color: #008000\">'loss_type'</span>: <span style=\"color: #008000; text-decoration-color: #008000\">'Margin'</span>, <span style=\"color: #008000; text-decoration-color: #008000\">'lr_factor'</span>:     <span style=\"color: #7f7f7f; text-decoration-color: #7f7f7f\">            </span>\n",
       "<span style=\"color: #7fbfbf; text-decoration-color: #7fbfbf\">                    </span>         <span style=\"color: #008080; text-decoration-color: #008080; font-weight: bold\">0.05</span><span style=\"font-weight: bold\">}</span>, <span style=\"color: #008000; text-decoration-color: #008000\">'epsilons'</span>: <span style=\"font-weight: bold\">[</span><span style=\"color: #008080; text-decoration-color: #008080; font-weight: bold\">1</span><span style=\"font-weight: bold\">]</span>, <span style=\"color: #008000; text-decoration-color: #008000\">'make_undirected'</span>: <span style=\"color: #00ff00; text-decoration-color: #00ff00; font-style: italic\">True</span>, <span style=\"color: #008000; text-decoration-color: #008000\">'binary_attr'</span>: <span style=\"color: #ff0000; text-decoration-color: #ff0000; font-style: italic\">False</span>,    <span style=\"color: #7f7f7f; text-decoration-color: #7f7f7f\">            </span>\n",
       "<span style=\"color: #7fbfbf; text-decoration-color: #7fbfbf\">                    </span>         <span style=\"color: #008000; text-decoration-color: #008000\">'seed'</span>: <span style=\"color: #008080; text-decoration-color: #008080; font-weight: bold\">0</span>, <span style=\"color: #008000; text-decoration-color: #008000\">'artifact_dir'</span>: <span style=\"color: #008000; text-decoration-color: #008000\">'cache'</span>, <span style=\"color: #008000; text-decoration-color: #008000\">'pert_adj_storage_type'</span>: <span style=\"color: #800080; text-decoration-color: #800080; font-style: italic\">None</span>,        <span style=\"color: #7f7f7f; text-decoration-color: #7f7f7f\">            </span>\n",
       "<span style=\"color: #7fbfbf; text-decoration-color: #7fbfbf\">                    </span>         <span style=\"color: #008000; text-decoration-color: #008000\">'pert_attr_storage_type'</span>: <span style=\"color: #800080; text-decoration-color: #800080; font-style: italic\">None</span>, <span style=\"color: #008000; text-decoration-color: #008000\">'model_label'</span>: <span style=\"color: #008000; text-decoration-color: #008000\">'Vanilla GCN'</span>,             <span style=\"color: #7f7f7f; text-decoration-color: #7f7f7f\">            </span>\n",
       "<span style=\"color: #7fbfbf; text-decoration-color: #7fbfbf\">                    </span>         <span style=\"color: #008000; text-decoration-color: #008000\">'model_storage_type'</span>: <span style=\"color: #008000; text-decoration-color: #008000\">'demo'</span>, <span style=\"color: #008000; text-decoration-color: #008000\">'device'</span>: <span style=\"color: #008000; text-decoration-color: #008000\">'cpu'</span>, <span style=\"color: #008000; text-decoration-color: #008000\">'data_device'</span>: <span style=\"color: #008000; text-decoration-color: #008000\">'cpu'</span><span style=\"font-weight: bold\">}</span>      <span style=\"color: #7f7f7f; text-decoration-color: #7f7f7f\">            </span>\n",
       "</pre>\n"
      ]
     },
     "metadata": {}
    },
    {
     "output_type": "stream",
     "name": "stderr",
     "text": [
      "/content/robustness_of_gnns_at_scale/rgnn_at_scale/helper/io.py:255: FutureWarning: You are using `torch.load` with `weights_only=False` (the current default value), which uses the default pickle module implicitly. It is possible to construct malicious pickle data which will execute arbitrary code during unpickling (See https://github.com/pytorch/pytorch/blob/main/SECURITY.md#untrusted-models for more details). In a future release, the default value for `weights_only` will be flipped to `True`. This limits the functions that could be executed during unpickling. Arbitrary objects will no longer be allowed to be loaded via this mode unless they are explicitly allowlisted by the user via `torch.serialization.add_safe_globals`. We recommend you start setting `weights_only=True` for any use case where you don't have full control of the loaded file. Please open an issue on GitHub for any issues related to this experimental feature.\n",
      "  document['artifact'] = torch.load(self._build_artifact_path(artifact_type, document_id))\n"
     ]
    },
    {
     "output_type": "display_data",
     "data": {
      "text/plain": [
       "\u001B[2;36m                   \u001B[0m\u001B[2;36m \u001B[0m\u001B[34mINFO    \u001B[0m Found \u001B[1;36m1\u001B[0m models with label \u001B[32m'Vanilla GCN'\u001B[0m to       \u001B]8;id=27510;file:///content/robustness_of_gnns_at_scale/experiments/experiment_local_attack_direct.py\u001B\\\u001B[2mexperiment_local_attack_direct.py\u001B[0m\u001B]8;;\u001B\\\u001B[2m:\u001B[0m\u001B]8;id=325230;file:///content/robustness_of_gnns_at_scale/experiments/experiment_local_attack_direct.py#141\u001B\\\u001B[2m141\u001B[0m\u001B]8;;\u001B\\\n",
       "\u001B[2;36m                    \u001B[0m         attack.                                          \u001B[2m                                     \u001B[0m\n"
      ],
      "text/html": [
       "<pre style=\"white-space:pre;overflow-x:auto;line-height:normal;font-family:Menlo,'DejaVu Sans Mono',consolas,'Courier New',monospace\"><span style=\"color: #7fbfbf; text-decoration-color: #7fbfbf\">                    </span><span style=\"color: #000080; text-decoration-color: #000080\">INFO    </span> Found <span style=\"color: #008080; text-decoration-color: #008080; font-weight: bold\">1</span> models with label <span style=\"color: #008000; text-decoration-color: #008000\">'Vanilla GCN'</span> to       <a href=\"file:///content/robustness_of_gnns_at_scale/experiments/experiment_local_attack_direct.py\" target=\"_blank\"><span style=\"color: #7f7f7f; text-decoration-color: #7f7f7f\">experiment_local_attack_direct.py</span></a><span style=\"color: #7f7f7f; text-decoration-color: #7f7f7f\">:</span><a href=\"file:///content/robustness_of_gnns_at_scale/experiments/experiment_local_attack_direct.py#141\" target=\"_blank\"><span style=\"color: #7f7f7f; text-decoration-color: #7f7f7f\">141</span></a>\n",
       "<span style=\"color: #7fbfbf; text-decoration-color: #7fbfbf\">                    </span>         attack.                                          <span style=\"color: #7f7f7f; text-decoration-color: #7f7f7f\">                                     </span>\n",
       "</pre>\n"
      ]
     },
     "metadata": {}
    },
    {
     "output_type": "display_data",
     "data": {
      "text/plain": [
       "\u001B[2;36m[02/07/25 14:01:22]\u001B[0m\u001B[2;36m \u001B[0m\u001B[34mINFO    \u001B[0m Sample Attack Nodes for model with accuracy \u001B[1;36m0.8344\u001B[0m                       \u001B]8;id=991395;file:///content/robustness_of_gnns_at_scale/experiments/common.py\u001B\\\u001B[2mcommon.py\u001B[0m\u001B]8;;\u001B\\\u001B[2m:\u001B[0m\u001B]8;id=817082;file:///content/robustness_of_gnns_at_scale/experiments/common.py#166\u001B\\\u001B[2m166\u001B[0m\u001B]8;;\u001B\\\n"
      ],
      "text/html": [
       "<pre style=\"white-space:pre;overflow-x:auto;line-height:normal;font-family:Menlo,'DejaVu Sans Mono',consolas,'Courier New',monospace\"><span style=\"color: #7fbfbf; text-decoration-color: #7fbfbf\">[02/07/25 14:01:22] </span><span style=\"color: #000080; text-decoration-color: #000080\">INFO    </span> Sample Attack Nodes for model with accuracy <span style=\"color: #008080; text-decoration-color: #008080; font-weight: bold\">0.8344</span>                       <a href=\"file:///content/robustness_of_gnns_at_scale/experiments/common.py\" target=\"_blank\"><span style=\"color: #7f7f7f; text-decoration-color: #7f7f7f\">common.py</span></a><span style=\"color: #7f7f7f; text-decoration-color: #7f7f7f\">:</span><a href=\"file:///content/robustness_of_gnns_at_scale/experiments/common.py#166\" target=\"_blank\"><span style=\"color: #7f7f7f; text-decoration-color: #7f7f7f\">166</span></a>\n",
       "</pre>\n"
      ]
     },
     "metadata": {}
    },
    {
     "output_type": "display_data",
     "data": {
      "text/plain": [
       "\u001B[2;36m                   \u001B[0m\u001B[2;36m \u001B[0m\u001B[34mINFO    \u001B[0m Found \u001B[1;36m2530\u001B[0m suitable \u001B[32m'1+ degree'\u001B[0m nodes out of \u001B[1;36m2530\u001B[0m candidate nodes to be  \u001B]8;id=328587;file:///content/robustness_of_gnns_at_scale/experiments/common.py\u001B\\\u001B[2mcommon.py\u001B[0m\u001B]8;;\u001B\\\u001B[2m:\u001B[0m\u001B]8;id=650851;file:///content/robustness_of_gnns_at_scale/experiments/common.py#132\u001B\\\u001B[2m132\u001B[0m\u001B]8;;\u001B\\\n",
       "\u001B[2;36m                    \u001B[0m         sampled from for the attack of which \u001B[1;36m2111\u001B[0m have the correct class label   \u001B[2m             \u001B[0m\n"
      ],
      "text/html": [
       "<pre style=\"white-space:pre;overflow-x:auto;line-height:normal;font-family:Menlo,'DejaVu Sans Mono',consolas,'Courier New',monospace\"><span style=\"color: #7fbfbf; text-decoration-color: #7fbfbf\">                    </span><span style=\"color: #000080; text-decoration-color: #000080\">INFO    </span> Found <span style=\"color: #008080; text-decoration-color: #008080; font-weight: bold\">2530</span> suitable <span style=\"color: #008000; text-decoration-color: #008000\">'1+ degree'</span> nodes out of <span style=\"color: #008080; text-decoration-color: #008080; font-weight: bold\">2530</span> candidate nodes to be  <a href=\"file:///content/robustness_of_gnns_at_scale/experiments/common.py\" target=\"_blank\"><span style=\"color: #7f7f7f; text-decoration-color: #7f7f7f\">common.py</span></a><span style=\"color: #7f7f7f; text-decoration-color: #7f7f7f\">:</span><a href=\"file:///content/robustness_of_gnns_at_scale/experiments/common.py#132\" target=\"_blank\"><span style=\"color: #7f7f7f; text-decoration-color: #7f7f7f\">132</span></a>\n",
       "<span style=\"color: #7fbfbf; text-decoration-color: #7fbfbf\">                    </span>         sampled from for the attack of which <span style=\"color: #008080; text-decoration-color: #008080; font-weight: bold\">2111</span> have the correct class label   <span style=\"color: #7f7f7f; text-decoration-color: #7f7f7f\">             </span>\n",
       "</pre>\n"
      ]
     },
     "metadata": {}
    },
    {
     "output_type": "display_data",
     "data": {
      "text/plain": [
       "\u001B[2;36m                   \u001B[0m\u001B[2;36m \u001B[0m\u001B[34mINFO    \u001B[0m Sample the following attack nodes:                                       \u001B]8;id=196731;file:///content/robustness_of_gnns_at_scale/experiments/common.py\u001B\\\u001B[2mcommon.py\u001B[0m\u001B]8;;\u001B\\\u001B[2m:\u001B[0m\u001B]8;id=126342;file:///content/robustness_of_gnns_at_scale/experiments/common.py#171\u001B\\\u001B[2m171\u001B[0m\u001B]8;;\u001B\\\n",
       "\u001B[2;36m                    \u001B[0m         \u001B[1m[\u001B[0m\u001B[1;36m475\u001B[0m\u001B[1m]\u001B[0m                                                                    \u001B[2m             \u001B[0m\n",
       "\u001B[2;36m                    \u001B[0m         \u001B[1m[\u001B[0m\u001B[1;36m2105\u001B[0m\u001B[1m]\u001B[0m                                                                   \u001B[2m             \u001B[0m\n",
       "\u001B[2;36m                    \u001B[0m         \u001B[1m[\u001B[0m\u001B[1;36m2754\u001B[0m \u001B[1;36m2487\u001B[0m\u001B[1m]\u001B[0m                                                              \u001B[2m             \u001B[0m\n"
      ],
      "text/html": [
       "<pre style=\"white-space:pre;overflow-x:auto;line-height:normal;font-family:Menlo,'DejaVu Sans Mono',consolas,'Courier New',monospace\"><span style=\"color: #7fbfbf; text-decoration-color: #7fbfbf\">                    </span><span style=\"color: #000080; text-decoration-color: #000080\">INFO    </span> Sample the following attack nodes:                                       <a href=\"file:///content/robustness_of_gnns_at_scale/experiments/common.py\" target=\"_blank\"><span style=\"color: #7f7f7f; text-decoration-color: #7f7f7f\">common.py</span></a><span style=\"color: #7f7f7f; text-decoration-color: #7f7f7f\">:</span><a href=\"file:///content/robustness_of_gnns_at_scale/experiments/common.py#171\" target=\"_blank\"><span style=\"color: #7f7f7f; text-decoration-color: #7f7f7f\">171</span></a>\n",
       "<span style=\"color: #7fbfbf; text-decoration-color: #7fbfbf\">                    </span>         <span style=\"font-weight: bold\">[</span><span style=\"color: #008080; text-decoration-color: #008080; font-weight: bold\">475</span><span style=\"font-weight: bold\">]</span>                                                                    <span style=\"color: #7f7f7f; text-decoration-color: #7f7f7f\">             </span>\n",
       "<span style=\"color: #7fbfbf; text-decoration-color: #7fbfbf\">                    </span>         <span style=\"font-weight: bold\">[</span><span style=\"color: #008080; text-decoration-color: #008080; font-weight: bold\">2105</span><span style=\"font-weight: bold\">]</span>                                                                   <span style=\"color: #7f7f7f; text-decoration-color: #7f7f7f\">             </span>\n",
       "<span style=\"color: #7fbfbf; text-decoration-color: #7fbfbf\">                    </span>         <span style=\"font-weight: bold\">[</span><span style=\"color: #008080; text-decoration-color: #008080; font-weight: bold\">2754</span> <span style=\"color: #008080; text-decoration-color: #008080; font-weight: bold\">2487</span><span style=\"font-weight: bold\">]</span>                                                              <span style=\"color: #7f7f7f; text-decoration-color: #7f7f7f\">             </span>\n",
       "</pre>\n"
      ]
     },
     "metadata": {}
    },
    {
     "output_type": "display_data",
     "data": {
      "text/plain": [
       "\u001B[2;36m[02/07/25 14:01:23]\u001B[0m\u001B[2;36m \u001B[0m\u001B[34mINFO    \u001B[0m Original: Loss: \u001B[1;36m-9.870943069458008\u001B[0m Statstics: \u001B[1m{\u001B[0m\u001B[32m'logit_target'\u001B[0m:       \u001B]8;id=617839;file:///content/robustness_of_gnns_at_scale/rgnn_at_scale/attacks/local_prbcd.py\u001B\\\u001B[2mlocal_prbcd.py\u001B[0m\u001B]8;;\u001B\\\u001B[2m:\u001B[0m\u001B]8;id=837312;file:///content/robustness_of_gnns_at_scale/rgnn_at_scale/attacks/local_prbcd.py#74\u001B\\\u001B[2m74\u001B[0m\u001B]8;;\u001B\\\n",
       "\u001B[2;36m                    \u001B[0m         \u001B[1;36m-0.0002649671514518559\u001B[0m, \u001B[32m'logit_best_non_target'\u001B[0m: \u001B[1;36m-9.871208190917969\u001B[0m, \u001B[2m                 \u001B[0m\n",
       "\u001B[2;36m                    \u001B[0m         \u001B[32m'confidence_target'\u001B[0m: \u001B[1;36m0.9997350679492436\u001B[0m, \u001B[32m'confidence_non_target'\u001B[0m:    \u001B[2m                 \u001B[0m\n",
       "\u001B[2;36m                    \u001B[0m         \u001B[1;36m5.164029956801338e-05\u001B[0m, \u001B[32m'margin'\u001B[0m: \u001B[1;36m0.9996834276496755\u001B[0m\u001B[1m}\u001B[0m                 \u001B[2m                 \u001B[0m\n",
       "\u001B[2;36m                    \u001B[0m                                                                              \u001B[2m                 \u001B[0m\n"
      ],
      "text/html": [
       "<pre style=\"white-space:pre;overflow-x:auto;line-height:normal;font-family:Menlo,'DejaVu Sans Mono',consolas,'Courier New',monospace\"><span style=\"color: #7fbfbf; text-decoration-color: #7fbfbf\">[02/07/25 14:01:23] </span><span style=\"color: #000080; text-decoration-color: #000080\">INFO    </span> Original: Loss: <span style=\"color: #008080; text-decoration-color: #008080; font-weight: bold\">-9.870943069458008</span> Statstics: <span style=\"font-weight: bold\">{</span><span style=\"color: #008000; text-decoration-color: #008000\">'logit_target'</span>:       <a href=\"file:///content/robustness_of_gnns_at_scale/rgnn_at_scale/attacks/local_prbcd.py\" target=\"_blank\"><span style=\"color: #7f7f7f; text-decoration-color: #7f7f7f\">local_prbcd.py</span></a><span style=\"color: #7f7f7f; text-decoration-color: #7f7f7f\">:</span><a href=\"file:///content/robustness_of_gnns_at_scale/rgnn_at_scale/attacks/local_prbcd.py#74\" target=\"_blank\"><span style=\"color: #7f7f7f; text-decoration-color: #7f7f7f\">74</span></a>\n",
       "<span style=\"color: #7fbfbf; text-decoration-color: #7fbfbf\">                    </span>         <span style=\"color: #008080; text-decoration-color: #008080; font-weight: bold\">-0.0002649671514518559</span>, <span style=\"color: #008000; text-decoration-color: #008000\">'logit_best_non_target'</span>: <span style=\"color: #008080; text-decoration-color: #008080; font-weight: bold\">-9.871208190917969</span>, <span style=\"color: #7f7f7f; text-decoration-color: #7f7f7f\">                 </span>\n",
       "<span style=\"color: #7fbfbf; text-decoration-color: #7fbfbf\">                    </span>         <span style=\"color: #008000; text-decoration-color: #008000\">'confidence_target'</span>: <span style=\"color: #008080; text-decoration-color: #008080; font-weight: bold\">0.9997350679492436</span>, <span style=\"color: #008000; text-decoration-color: #008000\">'confidence_non_target'</span>:    <span style=\"color: #7f7f7f; text-decoration-color: #7f7f7f\">                 </span>\n",
       "<span style=\"color: #7fbfbf; text-decoration-color: #7fbfbf\">                    </span>         <span style=\"color: #008080; text-decoration-color: #008080; font-weight: bold\">5.164029956801338e-05</span>, <span style=\"color: #008000; text-decoration-color: #008000\">'margin'</span>: <span style=\"color: #008080; text-decoration-color: #008080; font-weight: bold\">0.9996834276496755</span><span style=\"font-weight: bold\">}</span>                 <span style=\"color: #7f7f7f; text-decoration-color: #7f7f7f\">                 </span>\n",
       "<span style=\"color: #7fbfbf; text-decoration-color: #7fbfbf\">                    </span>                                                                              <span style=\"color: #7f7f7f; text-decoration-color: #7f7f7f\">                 </span>\n",
       "</pre>\n"
      ]
     },
     "metadata": {}
    },
    {
     "output_type": "stream",
     "name": "stderr",
     "text": [
      "\r  0%|          | 0/50 [00:00<?, ?it/s]"
     ]
    },
    {
     "output_type": "display_data",
     "data": {
      "text/plain": [
       "\u001B[2;36m[02/07/25 14:01:31]\u001B[0m\u001B[2;36m \u001B[0m\u001B[34mINFO    \u001B[0m Initial: Loss: \u001B[1;36m-9.870943069458008\u001B[0m Statstics: \u001B[1m{\u001B[0m\u001B[32m'logit_target'\u001B[0m:        \u001B]8;id=74891;file:///content/robustness_of_gnns_at_scale/rgnn_at_scale/attacks/local_prbcd.py\u001B\\\u001B[2mlocal_prbcd.py\u001B[0m\u001B]8;;\u001B\\\u001B[2m:\u001B[0m\u001B]8;id=491136;file:///content/robustness_of_gnns_at_scale/rgnn_at_scale/attacks/local_prbcd.py#92\u001B\\\u001B[2m92\u001B[0m\u001B]8;;\u001B\\\n",
       "\u001B[2;36m                    \u001B[0m         \u001B[1;36m-0.0002649671514518559\u001B[0m, \u001B[32m'logit_best_non_target'\u001B[0m: \u001B[1;36m-9.871208190917969\u001B[0m, \u001B[2m                 \u001B[0m\n",
       "\u001B[2;36m                    \u001B[0m         \u001B[32m'confidence_target'\u001B[0m: \u001B[1;36m0.9997350679492436\u001B[0m, \u001B[32m'confidence_non_target'\u001B[0m:    \u001B[2m                 \u001B[0m\n",
       "\u001B[2;36m                    \u001B[0m         \u001B[1;36m5.164029956801338e-05\u001B[0m, \u001B[32m'margin'\u001B[0m: \u001B[1;36m0.9996834276496755\u001B[0m\u001B[1m}\u001B[0m                 \u001B[2m                 \u001B[0m\n",
       "\u001B[2;36m                    \u001B[0m                                                                              \u001B[2m                 \u001B[0m\n"
      ],
      "text/html": [
       "<pre style=\"white-space:pre;overflow-x:auto;line-height:normal;font-family:Menlo,'DejaVu Sans Mono',consolas,'Courier New',monospace\"><span style=\"color: #7fbfbf; text-decoration-color: #7fbfbf\">[02/07/25 14:01:31] </span><span style=\"color: #000080; text-decoration-color: #000080\">INFO    </span> Initial: Loss: <span style=\"color: #008080; text-decoration-color: #008080; font-weight: bold\">-9.870943069458008</span> Statstics: <span style=\"font-weight: bold\">{</span><span style=\"color: #008000; text-decoration-color: #008000\">'logit_target'</span>:        <a href=\"file:///content/robustness_of_gnns_at_scale/rgnn_at_scale/attacks/local_prbcd.py\" target=\"_blank\"><span style=\"color: #7f7f7f; text-decoration-color: #7f7f7f\">local_prbcd.py</span></a><span style=\"color: #7f7f7f; text-decoration-color: #7f7f7f\">:</span><a href=\"file:///content/robustness_of_gnns_at_scale/rgnn_at_scale/attacks/local_prbcd.py#92\" target=\"_blank\"><span style=\"color: #7f7f7f; text-decoration-color: #7f7f7f\">92</span></a>\n",
       "<span style=\"color: #7fbfbf; text-decoration-color: #7fbfbf\">                    </span>         <span style=\"color: #008080; text-decoration-color: #008080; font-weight: bold\">-0.0002649671514518559</span>, <span style=\"color: #008000; text-decoration-color: #008000\">'logit_best_non_target'</span>: <span style=\"color: #008080; text-decoration-color: #008080; font-weight: bold\">-9.871208190917969</span>, <span style=\"color: #7f7f7f; text-decoration-color: #7f7f7f\">                 </span>\n",
       "<span style=\"color: #7fbfbf; text-decoration-color: #7fbfbf\">                    </span>         <span style=\"color: #008000; text-decoration-color: #008000\">'confidence_target'</span>: <span style=\"color: #008080; text-decoration-color: #008080; font-weight: bold\">0.9997350679492436</span>, <span style=\"color: #008000; text-decoration-color: #008000\">'confidence_non_target'</span>:    <span style=\"color: #7f7f7f; text-decoration-color: #7f7f7f\">                 </span>\n",
       "<span style=\"color: #7fbfbf; text-decoration-color: #7fbfbf\">                    </span>         <span style=\"color: #008080; text-decoration-color: #008080; font-weight: bold\">5.164029956801338e-05</span>, <span style=\"color: #008000; text-decoration-color: #008000\">'margin'</span>: <span style=\"color: #008080; text-decoration-color: #008080; font-weight: bold\">0.9996834276496755</span><span style=\"font-weight: bold\">}</span>                 <span style=\"color: #7f7f7f; text-decoration-color: #7f7f7f\">                 </span>\n",
       "<span style=\"color: #7fbfbf; text-decoration-color: #7fbfbf\">                    </span>                                                                              <span style=\"color: #7f7f7f; text-decoration-color: #7f7f7f\">                 </span>\n",
       "</pre>\n"
      ]
     },
     "metadata": {}
    },
    {
     "output_type": "display_data",
     "data": {
      "text/plain": [
       "\u001B[2;36m[02/07/25 14:01:41]\u001B[0m\u001B[2;36m \u001B[0m\u001B[34mINFO    \u001B[0m                                                                     \u001B]8;id=798748;file:///content/robustness_of_gnns_at_scale/rgnn_at_scale/attacks/local_prbcd.py\u001B\\\u001B[2mlocal_prbcd.py\u001B[0m\u001B]8;;\u001B\\\u001B[2m:\u001B[0m\u001B]8;id=64583;file:///content/robustness_of_gnns_at_scale/rgnn_at_scale/attacks/local_prbcd.py#113\u001B\\\u001B[2m113\u001B[0m\u001B]8;;\u001B\\\n",
       "\u001B[2;36m                    \u001B[0m         Epoch: \u001B[1;36m0\u001B[0m Loss: \u001B[1;36m-9.870943069458008\u001B[0m Statstics: \u001B[1m{\u001B[0m\u001B[32m'logit_target'\u001B[0m:       \u001B[2m                  \u001B[0m\n",
       "\u001B[2;36m                    \u001B[0m         \u001B[1;36m-0.0002775999018922448\u001B[0m, \u001B[32m'logit_best_non_target'\u001B[0m:                    \u001B[2m                  \u001B[0m\n",
       "\u001B[2;36m                    \u001B[0m         \u001B[1;36m-9.823918342590332\u001B[0m, \u001B[32m'confidence_target'\u001B[0m: \u001B[1;36m0.9997224386253953\u001B[0m,        \u001B[2m                  \u001B[0m\n",
       "\u001B[2;36m                    \u001B[0m         \u001B[32m'confidence_non_target'\u001B[0m: \u001B[1;36m5.414102494420846e-05\u001B[0m, \u001B[32m'margin'\u001B[0m:           \u001B[2m                  \u001B[0m\n",
       "\u001B[2;36m                    \u001B[0m         \u001B[1;36m0.9996682976004512\u001B[0m\u001B[1m}\u001B[0m                                                 \u001B[2m                  \u001B[0m\n",
       "\u001B[2;36m                    \u001B[0m                                                                             \u001B[2m                  \u001B[0m\n"
      ],
      "text/html": [
       "<pre style=\"white-space:pre;overflow-x:auto;line-height:normal;font-family:Menlo,'DejaVu Sans Mono',consolas,'Courier New',monospace\"><span style=\"color: #7fbfbf; text-decoration-color: #7fbfbf\">[02/07/25 14:01:41] </span><span style=\"color: #000080; text-decoration-color: #000080\">INFO    </span>                                                                     <a href=\"file:///content/robustness_of_gnns_at_scale/rgnn_at_scale/attacks/local_prbcd.py\" target=\"_blank\"><span style=\"color: #7f7f7f; text-decoration-color: #7f7f7f\">local_prbcd.py</span></a><span style=\"color: #7f7f7f; text-decoration-color: #7f7f7f\">:</span><a href=\"file:///content/robustness_of_gnns_at_scale/rgnn_at_scale/attacks/local_prbcd.py#113\" target=\"_blank\"><span style=\"color: #7f7f7f; text-decoration-color: #7f7f7f\">113</span></a>\n",
       "<span style=\"color: #7fbfbf; text-decoration-color: #7fbfbf\">                    </span>         Epoch: <span style=\"color: #008080; text-decoration-color: #008080; font-weight: bold\">0</span> Loss: <span style=\"color: #008080; text-decoration-color: #008080; font-weight: bold\">-9.870943069458008</span> Statstics: <span style=\"font-weight: bold\">{</span><span style=\"color: #008000; text-decoration-color: #008000\">'logit_target'</span>:       <span style=\"color: #7f7f7f; text-decoration-color: #7f7f7f\">                  </span>\n",
       "<span style=\"color: #7fbfbf; text-decoration-color: #7fbfbf\">                    </span>         <span style=\"color: #008080; text-decoration-color: #008080; font-weight: bold\">-0.0002775999018922448</span>, <span style=\"color: #008000; text-decoration-color: #008000\">'logit_best_non_target'</span>:                    <span style=\"color: #7f7f7f; text-decoration-color: #7f7f7f\">                  </span>\n",
       "<span style=\"color: #7fbfbf; text-decoration-color: #7fbfbf\">                    </span>         <span style=\"color: #008080; text-decoration-color: #008080; font-weight: bold\">-9.823918342590332</span>, <span style=\"color: #008000; text-decoration-color: #008000\">'confidence_target'</span>: <span style=\"color: #008080; text-decoration-color: #008080; font-weight: bold\">0.9997224386253953</span>,        <span style=\"color: #7f7f7f; text-decoration-color: #7f7f7f\">                  </span>\n",
       "<span style=\"color: #7fbfbf; text-decoration-color: #7fbfbf\">                    </span>         <span style=\"color: #008000; text-decoration-color: #008000\">'confidence_non_target'</span>: <span style=\"color: #008080; text-decoration-color: #008080; font-weight: bold\">5.414102494420846e-05</span>, <span style=\"color: #008000; text-decoration-color: #008000\">'margin'</span>:           <span style=\"color: #7f7f7f; text-decoration-color: #7f7f7f\">                  </span>\n",
       "<span style=\"color: #7fbfbf; text-decoration-color: #7fbfbf\">                    </span>         <span style=\"color: #008080; text-decoration-color: #008080; font-weight: bold\">0.9996682976004512</span><span style=\"font-weight: bold\">}</span>                                                 <span style=\"color: #7f7f7f; text-decoration-color: #7f7f7f\">                  </span>\n",
       "<span style=\"color: #7fbfbf; text-decoration-color: #7fbfbf\">                    </span>                                                                             <span style=\"color: #7f7f7f; text-decoration-color: #7f7f7f\">                  </span>\n",
       "</pre>\n"
      ]
     },
     "metadata": {}
    },
    {
     "output_type": "display_data",
     "data": {
      "text/plain": [
       "\u001B[2;36m                   \u001B[0m\u001B[2;36m \u001B[0m\u001B[34mINFO    \u001B[0m Gradient mean \u001B[1;36m0.3825215697288513\u001B[0m std \u001B[1;36m0.19061188399791718\u001B[0m with base  \u001B]8;id=337876;file:///content/robustness_of_gnns_at_scale/rgnn_at_scale/attacks/local_prbcd.py\u001B\\\u001B[2mlocal_prbcd.py\u001B[0m\u001B]8;;\u001B\\\u001B[2m:\u001B[0m\u001B]8;id=710094;file:///content/robustness_of_gnns_at_scale/rgnn_at_scale/attacks/local_prbcd.py#114\u001B\\\u001B[2m114\u001B[0m\u001B]8;;\u001B\\\n",
       "\u001B[2;36m                    \u001B[0m         learning rate \u001B[1;36m0.1\u001B[0m                                                   \u001B[2m                  \u001B[0m\n"
      ],
      "text/html": [
       "<pre style=\"white-space:pre;overflow-x:auto;line-height:normal;font-family:Menlo,'DejaVu Sans Mono',consolas,'Courier New',monospace\"><span style=\"color: #7fbfbf; text-decoration-color: #7fbfbf\">                    </span><span style=\"color: #000080; text-decoration-color: #000080\">INFO    </span> Gradient mean <span style=\"color: #008080; text-decoration-color: #008080; font-weight: bold\">0.3825215697288513</span> std <span style=\"color: #008080; text-decoration-color: #008080; font-weight: bold\">0.19061188399791718</span> with base  <a href=\"file:///content/robustness_of_gnns_at_scale/rgnn_at_scale/attacks/local_prbcd.py\" target=\"_blank\"><span style=\"color: #7f7f7f; text-decoration-color: #7f7f7f\">local_prbcd.py</span></a><span style=\"color: #7f7f7f; text-decoration-color: #7f7f7f\">:</span><a href=\"file:///content/robustness_of_gnns_at_scale/rgnn_at_scale/attacks/local_prbcd.py#114\" target=\"_blank\"><span style=\"color: #7f7f7f; text-decoration-color: #7f7f7f\">114</span></a>\n",
       "<span style=\"color: #7fbfbf; text-decoration-color: #7fbfbf\">                    </span>         learning rate <span style=\"color: #008080; text-decoration-color: #008080; font-weight: bold\">0.1</span>                                                   <span style=\"color: #7f7f7f; text-decoration-color: #7f7f7f\">                  </span>\n",
       "</pre>\n"
      ]
     },
     "metadata": {}
    },
    {
     "output_type": "stream",
     "name": "stderr",
     "text": [
      " 40%|████      | 20/50 [05:29<08:08, 16.28s/it]"
     ]
    },
    {
     "output_type": "display_data",
     "data": {
      "text/plain": [
       "\u001B[2;36m[02/07/25 14:07:08]\u001B[0m\u001B[2;36m \u001B[0m\u001B[34mINFO    \u001B[0m                                                                     \u001B]8;id=531314;file:///content/robustness_of_gnns_at_scale/rgnn_at_scale/attacks/local_prbcd.py\u001B\\\u001B[2mlocal_prbcd.py\u001B[0m\u001B]8;;\u001B\\\u001B[2m:\u001B[0m\u001B]8;id=506899;file:///content/robustness_of_gnns_at_scale/rgnn_at_scale/attacks/local_prbcd.py#113\u001B\\\u001B[2m113\u001B[0m\u001B]8;;\u001B\\\n",
       "\u001B[2;36m                    \u001B[0m         Epoch: \u001B[1;36m20\u001B[0m Loss: \u001B[1;36m2.1869754791259766\u001B[0m Statstics: \u001B[1m{\u001B[0m\u001B[32m'logit_target'\u001B[0m:      \u001B[2m                  \u001B[0m\n",
       "\u001B[2;36m                    \u001B[0m         \u001B[1;36m-2.341095447540283\u001B[0m, \u001B[32m'logit_best_non_target'\u001B[0m: \u001B[1;36m-0.147914856672287\u001B[0m,    \u001B[2m                  \u001B[0m\n",
       "\u001B[2;36m                    \u001B[0m         \u001B[32m'confidence_target'\u001B[0m: \u001B[1;36m0.0962221741318723\u001B[0m, \u001B[32m'confidence_non_target'\u001B[0m:   \u001B[2m                  \u001B[0m\n",
       "\u001B[2;36m                    \u001B[0m         \u001B[1;36m0.8625045483232318\u001B[0m, \u001B[32m'margin'\u001B[0m: \u001B[1;36m-0.7662823741913595\u001B[0m\u001B[1m}\u001B[0m                  \u001B[2m                  \u001B[0m\n",
       "\u001B[2;36m                    \u001B[0m                                                                             \u001B[2m                  \u001B[0m\n"
      ],
      "text/html": [
       "<pre style=\"white-space:pre;overflow-x:auto;line-height:normal;font-family:Menlo,'DejaVu Sans Mono',consolas,'Courier New',monospace\"><span style=\"color: #7fbfbf; text-decoration-color: #7fbfbf\">[02/07/25 14:07:08] </span><span style=\"color: #000080; text-decoration-color: #000080\">INFO    </span>                                                                     <a href=\"file:///content/robustness_of_gnns_at_scale/rgnn_at_scale/attacks/local_prbcd.py\" target=\"_blank\"><span style=\"color: #7f7f7f; text-decoration-color: #7f7f7f\">local_prbcd.py</span></a><span style=\"color: #7f7f7f; text-decoration-color: #7f7f7f\">:</span><a href=\"file:///content/robustness_of_gnns_at_scale/rgnn_at_scale/attacks/local_prbcd.py#113\" target=\"_blank\"><span style=\"color: #7f7f7f; text-decoration-color: #7f7f7f\">113</span></a>\n",
       "<span style=\"color: #7fbfbf; text-decoration-color: #7fbfbf\">                    </span>         Epoch: <span style=\"color: #008080; text-decoration-color: #008080; font-weight: bold\">20</span> Loss: <span style=\"color: #008080; text-decoration-color: #008080; font-weight: bold\">2.1869754791259766</span> Statstics: <span style=\"font-weight: bold\">{</span><span style=\"color: #008000; text-decoration-color: #008000\">'logit_target'</span>:      <span style=\"color: #7f7f7f; text-decoration-color: #7f7f7f\">                  </span>\n",
       "<span style=\"color: #7fbfbf; text-decoration-color: #7fbfbf\">                    </span>         <span style=\"color: #008080; text-decoration-color: #008080; font-weight: bold\">-2.341095447540283</span>, <span style=\"color: #008000; text-decoration-color: #008000\">'logit_best_non_target'</span>: <span style=\"color: #008080; text-decoration-color: #008080; font-weight: bold\">-0.147914856672287</span>,    <span style=\"color: #7f7f7f; text-decoration-color: #7f7f7f\">                  </span>\n",
       "<span style=\"color: #7fbfbf; text-decoration-color: #7fbfbf\">                    </span>         <span style=\"color: #008000; text-decoration-color: #008000\">'confidence_target'</span>: <span style=\"color: #008080; text-decoration-color: #008080; font-weight: bold\">0.0962221741318723</span>, <span style=\"color: #008000; text-decoration-color: #008000\">'confidence_non_target'</span>:   <span style=\"color: #7f7f7f; text-decoration-color: #7f7f7f\">                  </span>\n",
       "<span style=\"color: #7fbfbf; text-decoration-color: #7fbfbf\">                    </span>         <span style=\"color: #008080; text-decoration-color: #008080; font-weight: bold\">0.8625045483232318</span>, <span style=\"color: #008000; text-decoration-color: #008000\">'margin'</span>: <span style=\"color: #008080; text-decoration-color: #008080; font-weight: bold\">-0.7662823741913595</span><span style=\"font-weight: bold\">}</span>                  <span style=\"color: #7f7f7f; text-decoration-color: #7f7f7f\">                  </span>\n",
       "<span style=\"color: #7fbfbf; text-decoration-color: #7fbfbf\">                    </span>                                                                             <span style=\"color: #7f7f7f; text-decoration-color: #7f7f7f\">                  </span>\n",
       "</pre>\n"
      ]
     },
     "metadata": {}
    },
    {
     "output_type": "display_data",
     "data": {
      "text/plain": [
       "\u001B[2;36m                   \u001B[0m\u001B[2;36m \u001B[0m\u001B[34mINFO    \u001B[0m Gradient mean \u001B[1;36m0.257382333278656\u001B[0m std \u001B[1;36m0.16019366681575775\u001B[0m with base   \u001B]8;id=119429;file:///content/robustness_of_gnns_at_scale/rgnn_at_scale/attacks/local_prbcd.py\u001B\\\u001B[2mlocal_prbcd.py\u001B[0m\u001B]8;;\u001B\\\u001B[2m:\u001B[0m\u001B]8;id=73754;file:///content/robustness_of_gnns_at_scale/rgnn_at_scale/attacks/local_prbcd.py#114\u001B\\\u001B[2m114\u001B[0m\u001B]8;;\u001B\\\n",
       "\u001B[2;36m                    \u001B[0m         learning rate \u001B[1;36m0.1\u001B[0m                                                   \u001B[2m                  \u001B[0m\n"
      ],
      "text/html": [
       "<pre style=\"white-space:pre;overflow-x:auto;line-height:normal;font-family:Menlo,'DejaVu Sans Mono',consolas,'Courier New',monospace\"><span style=\"color: #7fbfbf; text-decoration-color: #7fbfbf\">                    </span><span style=\"color: #000080; text-decoration-color: #000080\">INFO    </span> Gradient mean <span style=\"color: #008080; text-decoration-color: #008080; font-weight: bold\">0.257382333278656</span> std <span style=\"color: #008080; text-decoration-color: #008080; font-weight: bold\">0.16019366681575775</span> with base   <a href=\"file:///content/robustness_of_gnns_at_scale/rgnn_at_scale/attacks/local_prbcd.py\" target=\"_blank\"><span style=\"color: #7f7f7f; text-decoration-color: #7f7f7f\">local_prbcd.py</span></a><span style=\"color: #7f7f7f; text-decoration-color: #7f7f7f\">:</span><a href=\"file:///content/robustness_of_gnns_at_scale/rgnn_at_scale/attacks/local_prbcd.py#114\" target=\"_blank\"><span style=\"color: #7f7f7f; text-decoration-color: #7f7f7f\">114</span></a>\n",
       "<span style=\"color: #7fbfbf; text-decoration-color: #7fbfbf\">                    </span>         learning rate <span style=\"color: #008080; text-decoration-color: #008080; font-weight: bold\">0.1</span>                                                   <span style=\"color: #7f7f7f; text-decoration-color: #7f7f7f\">                  </span>\n",
       "</pre>\n"
      ]
     },
     "metadata": {}
    },
    {
     "output_type": "stream",
     "name": "stderr",
     "text": [
      " 80%|████████  | 40/50 [10:53<02:42, 16.27s/it]"
     ]
    },
    {
     "output_type": "display_data",
     "data": {
      "text/plain": [
       "\u001B[2;36m[02/07/25 14:12:33]\u001B[0m\u001B[2;36m \u001B[0m\u001B[34mINFO    \u001B[0m                                                                     \u001B]8;id=778359;file:///content/robustness_of_gnns_at_scale/rgnn_at_scale/attacks/local_prbcd.py\u001B\\\u001B[2mlocal_prbcd.py\u001B[0m\u001B]8;;\u001B\\\u001B[2m:\u001B[0m\u001B]8;id=412885;file:///content/robustness_of_gnns_at_scale/rgnn_at_scale/attacks/local_prbcd.py#113\u001B\\\u001B[2m113\u001B[0m\u001B]8;;\u001B\\\n",
       "\u001B[2;36m                    \u001B[0m         Epoch: \u001B[1;36m40\u001B[0m Loss: \u001B[1;36m2.2191414833068848\u001B[0m Statstics: \u001B[1m{\u001B[0m\u001B[32m'logit_target'\u001B[0m:      \u001B[2m                  \u001B[0m\n",
       "\u001B[2;36m                    \u001B[0m         \u001B[1;36m-2.3646514415740967\u001B[0m, \u001B[32m'logit_best_non_target'\u001B[0m: \u001B[1;36m-0.1434447169303894\u001B[0m,  \u001B[2m                  \u001B[0m\n",
       "\u001B[2;36m                    \u001B[0m         \u001B[32m'confidence_target'\u001B[0m: \u001B[1;36m0.09398205289648356\u001B[0m, \u001B[32m'confidence_non_target'\u001B[0m:  \u001B[2m                  \u001B[0m\n",
       "\u001B[2;36m                    \u001B[0m         \u001B[1;36m0.8663686943842035\u001B[0m, \u001B[32m'margin'\u001B[0m: \u001B[1;36m-0.77238664148772\u001B[0m\u001B[1m}\u001B[0m                    \u001B[2m                  \u001B[0m\n",
       "\u001B[2;36m                    \u001B[0m                                                                             \u001B[2m                  \u001B[0m\n"
      ],
      "text/html": [
       "<pre style=\"white-space:pre;overflow-x:auto;line-height:normal;font-family:Menlo,'DejaVu Sans Mono',consolas,'Courier New',monospace\"><span style=\"color: #7fbfbf; text-decoration-color: #7fbfbf\">[02/07/25 14:12:33] </span><span style=\"color: #000080; text-decoration-color: #000080\">INFO    </span>                                                                     <a href=\"file:///content/robustness_of_gnns_at_scale/rgnn_at_scale/attacks/local_prbcd.py\" target=\"_blank\"><span style=\"color: #7f7f7f; text-decoration-color: #7f7f7f\">local_prbcd.py</span></a><span style=\"color: #7f7f7f; text-decoration-color: #7f7f7f\">:</span><a href=\"file:///content/robustness_of_gnns_at_scale/rgnn_at_scale/attacks/local_prbcd.py#113\" target=\"_blank\"><span style=\"color: #7f7f7f; text-decoration-color: #7f7f7f\">113</span></a>\n",
       "<span style=\"color: #7fbfbf; text-decoration-color: #7fbfbf\">                    </span>         Epoch: <span style=\"color: #008080; text-decoration-color: #008080; font-weight: bold\">40</span> Loss: <span style=\"color: #008080; text-decoration-color: #008080; font-weight: bold\">2.2191414833068848</span> Statstics: <span style=\"font-weight: bold\">{</span><span style=\"color: #008000; text-decoration-color: #008000\">'logit_target'</span>:      <span style=\"color: #7f7f7f; text-decoration-color: #7f7f7f\">                  </span>\n",
       "<span style=\"color: #7fbfbf; text-decoration-color: #7fbfbf\">                    </span>         <span style=\"color: #008080; text-decoration-color: #008080; font-weight: bold\">-2.3646514415740967</span>, <span style=\"color: #008000; text-decoration-color: #008000\">'logit_best_non_target'</span>: <span style=\"color: #008080; text-decoration-color: #008080; font-weight: bold\">-0.1434447169303894</span>,  <span style=\"color: #7f7f7f; text-decoration-color: #7f7f7f\">                  </span>\n",
       "<span style=\"color: #7fbfbf; text-decoration-color: #7fbfbf\">                    </span>         <span style=\"color: #008000; text-decoration-color: #008000\">'confidence_target'</span>: <span style=\"color: #008080; text-decoration-color: #008080; font-weight: bold\">0.09398205289648356</span>, <span style=\"color: #008000; text-decoration-color: #008000\">'confidence_non_target'</span>:  <span style=\"color: #7f7f7f; text-decoration-color: #7f7f7f\">                  </span>\n",
       "<span style=\"color: #7fbfbf; text-decoration-color: #7fbfbf\">                    </span>         <span style=\"color: #008080; text-decoration-color: #008080; font-weight: bold\">0.8663686943842035</span>, <span style=\"color: #008000; text-decoration-color: #008000\">'margin'</span>: <span style=\"color: #008080; text-decoration-color: #008080; font-weight: bold\">-0.77238664148772</span><span style=\"font-weight: bold\">}</span>                    <span style=\"color: #7f7f7f; text-decoration-color: #7f7f7f\">                  </span>\n",
       "<span style=\"color: #7fbfbf; text-decoration-color: #7fbfbf\">                    </span>                                                                             <span style=\"color: #7f7f7f; text-decoration-color: #7f7f7f\">                  </span>\n",
       "</pre>\n"
      ]
     },
     "metadata": {}
    },
    {
     "output_type": "display_data",
     "data": {
      "text/plain": [
       "\u001B[2;36m                   \u001B[0m\u001B[2;36m \u001B[0m\u001B[34mINFO    \u001B[0m Gradient mean \u001B[1;36m0.24854663014411926\u001B[0m std \u001B[1;36m0.16704414784908295\u001B[0m with base \u001B]8;id=324658;file:///content/robustness_of_gnns_at_scale/rgnn_at_scale/attacks/local_prbcd.py\u001B\\\u001B[2mlocal_prbcd.py\u001B[0m\u001B]8;;\u001B\\\u001B[2m:\u001B[0m\u001B]8;id=534918;file:///content/robustness_of_gnns_at_scale/rgnn_at_scale/attacks/local_prbcd.py#114\u001B\\\u001B[2m114\u001B[0m\u001B]8;;\u001B\\\n",
       "\u001B[2;36m                    \u001B[0m         learning rate \u001B[1;36m0.1\u001B[0m                                                   \u001B[2m                  \u001B[0m\n"
      ],
      "text/html": [
       "<pre style=\"white-space:pre;overflow-x:auto;line-height:normal;font-family:Menlo,'DejaVu Sans Mono',consolas,'Courier New',monospace\"><span style=\"color: #7fbfbf; text-decoration-color: #7fbfbf\">                    </span><span style=\"color: #000080; text-decoration-color: #000080\">INFO    </span> Gradient mean <span style=\"color: #008080; text-decoration-color: #008080; font-weight: bold\">0.24854663014411926</span> std <span style=\"color: #008080; text-decoration-color: #008080; font-weight: bold\">0.16704414784908295</span> with base <a href=\"file:///content/robustness_of_gnns_at_scale/rgnn_at_scale/attacks/local_prbcd.py\" target=\"_blank\"><span style=\"color: #7f7f7f; text-decoration-color: #7f7f7f\">local_prbcd.py</span></a><span style=\"color: #7f7f7f; text-decoration-color: #7f7f7f\">:</span><a href=\"file:///content/robustness_of_gnns_at_scale/rgnn_at_scale/attacks/local_prbcd.py#114\" target=\"_blank\"><span style=\"color: #7f7f7f; text-decoration-color: #7f7f7f\">114</span></a>\n",
       "<span style=\"color: #7fbfbf; text-decoration-color: #7fbfbf\">                    </span>         learning rate <span style=\"color: #008080; text-decoration-color: #008080; font-weight: bold\">0.1</span>                                                   <span style=\"color: #7f7f7f; text-decoration-color: #7f7f7f\">                  </span>\n",
       "</pre>\n"
      ]
     },
     "metadata": {}
    },
    {
     "output_type": "stream",
     "name": "stderr",
     "text": [
      "100%|██████████| 50/50 [13:35<00:00, 16.32s/it]\n"
     ]
    },
    {
     "output_type": "display_data",
     "data": {
      "text/plain": [
       "\u001B[2;36m[02/07/25 14:15:25]\u001B[0m\u001B[2;36m \u001B[0m\u001B[34mINFO    \u001B[0m Evaluated model Vanilla GCN using LocalPRBCD     \u001B]8;id=170266;file:///content/robustness_of_gnns_at_scale/experiments/experiment_local_attack_direct.py\u001B\\\u001B[2mexperiment_local_attack_direct.py\u001B[0m\u001B]8;;\u001B\\\u001B[2m:\u001B[0m\u001B]8;id=964879;file:///content/robustness_of_gnns_at_scale/experiments/experiment_local_attack_direct.py#194\u001B\\\u001B[2m194\u001B[0m\u001B]8;;\u001B\\\n",
       "\u001B[2;36m                    \u001B[0m         with pert. edges for node \u001B[1;36m475\u001B[0m and budget \u001B[1;36m2\u001B[0m:      \u001B[2m                                     \u001B[0m\n"
      ],
      "text/html": [
       "<pre style=\"white-space:pre;overflow-x:auto;line-height:normal;font-family:Menlo,'DejaVu Sans Mono',consolas,'Courier New',monospace\"><span style=\"color: #7fbfbf; text-decoration-color: #7fbfbf\">[02/07/25 14:15:25] </span><span style=\"color: #000080; text-decoration-color: #000080\">INFO    </span> Evaluated model Vanilla GCN using LocalPRBCD     <a href=\"file:///content/robustness_of_gnns_at_scale/experiments/experiment_local_attack_direct.py\" target=\"_blank\"><span style=\"color: #7f7f7f; text-decoration-color: #7f7f7f\">experiment_local_attack_direct.py</span></a><span style=\"color: #7f7f7f; text-decoration-color: #7f7f7f\">:</span><a href=\"file:///content/robustness_of_gnns_at_scale/experiments/experiment_local_attack_direct.py#194\" target=\"_blank\"><span style=\"color: #7f7f7f; text-decoration-color: #7f7f7f\">194</span></a>\n",
       "<span style=\"color: #7fbfbf; text-decoration-color: #7fbfbf\">                    </span>         with pert. edges for node <span style=\"color: #008080; text-decoration-color: #008080; font-weight: bold\">475</span> and budget <span style=\"color: #008080; text-decoration-color: #008080; font-weight: bold\">2</span>:      <span style=\"color: #7f7f7f; text-decoration-color: #7f7f7f\">                                     </span>\n",
       "</pre>\n"
      ]
     },
     "metadata": {}
    },
    {
     "output_type": "display_data",
     "data": {
      "text/plain": [
       "\u001B[2;36m                   \u001B[0m\u001B[2;36m \u001B[0m\u001B[34mINFO    \u001B[0m \u001B[1m{\u001B[0m\u001B[32m'label'\u001B[0m: \u001B[32m'Vanilla GCN'\u001B[0m, \u001B[32m'epsilon'\u001B[0m: \u001B[1;36m1\u001B[0m,           \u001B]8;id=372165;file:///content/robustness_of_gnns_at_scale/experiments/experiment_local_attack_direct.py\u001B\\\u001B[2mexperiment_local_attack_direct.py\u001B[0m\u001B]8;;\u001B\\\u001B[2m:\u001B[0m\u001B]8;id=611577;file:///content/robustness_of_gnns_at_scale/experiments/experiment_local_attack_direct.py#215\u001B\\\u001B[2m215\u001B[0m\u001B]8;;\u001B\\\n",
       "\u001B[2;36m                    \u001B[0m         \u001B[32m'n_perturbations'\u001B[0m: \u001B[1;36m2\u001B[0m, \u001B[32m'degree'\u001B[0m: \u001B[1;36m2\u001B[0m, \u001B[32m'logits'\u001B[0m:     \u001B[2m                                     \u001B[0m\n",
       "\u001B[2;36m                    \u001B[0m         \u001B[1m[\u001B[0m\u001B[1m[\u001B[0m\u001B[1;36m-0.3801121711730957\u001B[0m, \u001B[1;36m-1.1652233600616455\u001B[0m,      \u001B[2m                                     \u001B[0m\n",
       "\u001B[2;36m                    \u001B[0m         \u001B[1;36m2.004725933074951\u001B[0m, \u001B[1;36m-1.7374646663665771\u001B[0m,          \u001B[2m                                     \u001B[0m\n",
       "\u001B[2;36m                    \u001B[0m         \u001B[1;36m-1.1058930158615112\u001B[0m, \u001B[1;36m3.328197479248047\u001B[0m,          \u001B[2m                                     \u001B[0m\n",
       "\u001B[2;36m                    \u001B[0m         \u001B[1;36m-1.1445794105529785\u001B[0m\u001B[1m]\u001B[0m\u001B[1m]\u001B[0m, \u001B[32m'initial_logits'\u001B[0m:         \u001B[2m                                     \u001B[0m\n",
       "\u001B[2;36m                    \u001B[0m         \u001B[1m[\u001B[0m\u001B[1m[\u001B[0m\u001B[1;36m-1.292714238166809\u001B[0m, \u001B[1;36m-2.1854071617126465\u001B[0m,       \u001B[2m                                     \u001B[0m\n",
       "\u001B[2;36m                    \u001B[0m         \u001B[1;36m8.605257034301758\u001B[0m, \u001B[1;36m-1.3979883193969727\u001B[0m,          \u001B[2m                                     \u001B[0m\n",
       "\u001B[2;36m                    \u001B[0m         \u001B[1;36m-1.2656865119934082\u001B[0m, \u001B[1;36m-1.2727556228637695\u001B[0m,        \u001B[2m                                     \u001B[0m\n",
       "\u001B[2;36m                    \u001B[0m         \u001B[1;36m-1.3812861442565918\u001B[0m\u001B[1m]\u001B[0m\u001B[1m]\u001B[0m, \u001B[32m'larget'\u001B[0m: \u001B[1;36m2\u001B[0m, \u001B[32m'node_id'\u001B[0m:   \u001B[2m                                     \u001B[0m\n",
       "\u001B[2;36m                    \u001B[0m         \u001B[1;36m475\u001B[0m, \u001B[32m'perturbed_edges'\u001B[0m: \u001B[1m[\u001B[0m\u001B[1m[\u001B[0m\u001B[1;36m475\u001B[0m, \u001B[1;36m475\u001B[0m\u001B[1m]\u001B[0m, \u001B[1m[\u001B[0m\u001B[1;36m1244\u001B[0m,      \u001B[2m                                     \u001B[0m\n",
       "\u001B[2;36m                    \u001B[0m         \u001B[1;36m1590\u001B[0m\u001B[1m]\u001B[0m\u001B[1m]\u001B[0m, \u001B[32m'logit_target'\u001B[0m: \u001B[1;36m-1.6097791194915771\u001B[0m,     \u001B[2m                                     \u001B[0m\n",
       "\u001B[2;36m                    \u001B[0m         \u001B[32m'logit_best_non_target'\u001B[0m: \u001B[1;36m-0.28630760312080383\u001B[0m,   \u001B[2m                                     \u001B[0m\n",
       "\u001B[2;36m                    \u001B[0m         \u001B[32m'confidence_target'\u001B[0m: \u001B[1;36m0.19993177022940622\u001B[0m,        \u001B[2m                                     \u001B[0m\n",
       "\u001B[2;36m                    \u001B[0m         \u001B[32m'confidence_non_target'\u001B[0m: \u001B[1;36m0.7510315607601477\u001B[0m,     \u001B[2m                                     \u001B[0m\n",
       "\u001B[2;36m                    \u001B[0m         \u001B[32m'margin'\u001B[0m: \u001B[1;36m-0.5510997905307414\u001B[0m,                   \u001B[2m                                     \u001B[0m\n",
       "\u001B[2;36m                    \u001B[0m         \u001B[32m'initial_logit_target'\u001B[0m: \u001B[1;36m-0.0002649671514518559\u001B[0m,  \u001B[2m                                     \u001B[0m\n",
       "\u001B[2;36m                    \u001B[0m         \u001B[32m'initial_logit_best_non_target'\u001B[0m:                 \u001B[2m                                     \u001B[0m\n",
       "\u001B[2;36m                    \u001B[0m         \u001B[1;36m-9.871208190917969\u001B[0m, \u001B[32m'initial_confidence_target'\u001B[0m: \u001B[2m                                     \u001B[0m\n",
       "\u001B[2;36m                    \u001B[0m         \u001B[1;36m0.9997350679492436\u001B[0m,                              \u001B[2m                                     \u001B[0m\n",
       "\u001B[2;36m                    \u001B[0m         \u001B[32m'initial_confidence_non_target'\u001B[0m:                 \u001B[2m                                     \u001B[0m\n",
       "\u001B[2;36m                    \u001B[0m         \u001B[1;36m5.164029956801338e-05\u001B[0m, \u001B[32m'initial_margin'\u001B[0m:         \u001B[2m                                     \u001B[0m\n",
       "\u001B[2;36m                    \u001B[0m         \u001B[1;36m0.9996834276496755\u001B[0m\u001B[1m}\u001B[0m                              \u001B[2m                                     \u001B[0m\n"
      ],
      "text/html": [
       "<pre style=\"white-space:pre;overflow-x:auto;line-height:normal;font-family:Menlo,'DejaVu Sans Mono',consolas,'Courier New',monospace\"><span style=\"color: #7fbfbf; text-decoration-color: #7fbfbf\">                    </span><span style=\"color: #000080; text-decoration-color: #000080\">INFO    </span> <span style=\"font-weight: bold\">{</span><span style=\"color: #008000; text-decoration-color: #008000\">'label'</span>: <span style=\"color: #008000; text-decoration-color: #008000\">'Vanilla GCN'</span>, <span style=\"color: #008000; text-decoration-color: #008000\">'epsilon'</span>: <span style=\"color: #008080; text-decoration-color: #008080; font-weight: bold\">1</span>,           <a href=\"file:///content/robustness_of_gnns_at_scale/experiments/experiment_local_attack_direct.py\" target=\"_blank\"><span style=\"color: #7f7f7f; text-decoration-color: #7f7f7f\">experiment_local_attack_direct.py</span></a><span style=\"color: #7f7f7f; text-decoration-color: #7f7f7f\">:</span><a href=\"file:///content/robustness_of_gnns_at_scale/experiments/experiment_local_attack_direct.py#215\" target=\"_blank\"><span style=\"color: #7f7f7f; text-decoration-color: #7f7f7f\">215</span></a>\n",
       "<span style=\"color: #7fbfbf; text-decoration-color: #7fbfbf\">                    </span>         <span style=\"color: #008000; text-decoration-color: #008000\">'n_perturbations'</span>: <span style=\"color: #008080; text-decoration-color: #008080; font-weight: bold\">2</span>, <span style=\"color: #008000; text-decoration-color: #008000\">'degree'</span>: <span style=\"color: #008080; text-decoration-color: #008080; font-weight: bold\">2</span>, <span style=\"color: #008000; text-decoration-color: #008000\">'logits'</span>:     <span style=\"color: #7f7f7f; text-decoration-color: #7f7f7f\">                                     </span>\n",
       "<span style=\"color: #7fbfbf; text-decoration-color: #7fbfbf\">                    </span>         <span style=\"font-weight: bold\">[[</span><span style=\"color: #008080; text-decoration-color: #008080; font-weight: bold\">-0.3801121711730957</span>, <span style=\"color: #008080; text-decoration-color: #008080; font-weight: bold\">-1.1652233600616455</span>,      <span style=\"color: #7f7f7f; text-decoration-color: #7f7f7f\">                                     </span>\n",
       "<span style=\"color: #7fbfbf; text-decoration-color: #7fbfbf\">                    </span>         <span style=\"color: #008080; text-decoration-color: #008080; font-weight: bold\">2.004725933074951</span>, <span style=\"color: #008080; text-decoration-color: #008080; font-weight: bold\">-1.7374646663665771</span>,          <span style=\"color: #7f7f7f; text-decoration-color: #7f7f7f\">                                     </span>\n",
       "<span style=\"color: #7fbfbf; text-decoration-color: #7fbfbf\">                    </span>         <span style=\"color: #008080; text-decoration-color: #008080; font-weight: bold\">-1.1058930158615112</span>, <span style=\"color: #008080; text-decoration-color: #008080; font-weight: bold\">3.328197479248047</span>,          <span style=\"color: #7f7f7f; text-decoration-color: #7f7f7f\">                                     </span>\n",
       "<span style=\"color: #7fbfbf; text-decoration-color: #7fbfbf\">                    </span>         <span style=\"color: #008080; text-decoration-color: #008080; font-weight: bold\">-1.1445794105529785</span><span style=\"font-weight: bold\">]]</span>, <span style=\"color: #008000; text-decoration-color: #008000\">'initial_logits'</span>:         <span style=\"color: #7f7f7f; text-decoration-color: #7f7f7f\">                                     </span>\n",
       "<span style=\"color: #7fbfbf; text-decoration-color: #7fbfbf\">                    </span>         <span style=\"font-weight: bold\">[[</span><span style=\"color: #008080; text-decoration-color: #008080; font-weight: bold\">-1.292714238166809</span>, <span style=\"color: #008080; text-decoration-color: #008080; font-weight: bold\">-2.1854071617126465</span>,       <span style=\"color: #7f7f7f; text-decoration-color: #7f7f7f\">                                     </span>\n",
       "<span style=\"color: #7fbfbf; text-decoration-color: #7fbfbf\">                    </span>         <span style=\"color: #008080; text-decoration-color: #008080; font-weight: bold\">8.605257034301758</span>, <span style=\"color: #008080; text-decoration-color: #008080; font-weight: bold\">-1.3979883193969727</span>,          <span style=\"color: #7f7f7f; text-decoration-color: #7f7f7f\">                                     </span>\n",
       "<span style=\"color: #7fbfbf; text-decoration-color: #7fbfbf\">                    </span>         <span style=\"color: #008080; text-decoration-color: #008080; font-weight: bold\">-1.2656865119934082</span>, <span style=\"color: #008080; text-decoration-color: #008080; font-weight: bold\">-1.2727556228637695</span>,        <span style=\"color: #7f7f7f; text-decoration-color: #7f7f7f\">                                     </span>\n",
       "<span style=\"color: #7fbfbf; text-decoration-color: #7fbfbf\">                    </span>         <span style=\"color: #008080; text-decoration-color: #008080; font-weight: bold\">-1.3812861442565918</span><span style=\"font-weight: bold\">]]</span>, <span style=\"color: #008000; text-decoration-color: #008000\">'larget'</span>: <span style=\"color: #008080; text-decoration-color: #008080; font-weight: bold\">2</span>, <span style=\"color: #008000; text-decoration-color: #008000\">'node_id'</span>:   <span style=\"color: #7f7f7f; text-decoration-color: #7f7f7f\">                                     </span>\n",
       "<span style=\"color: #7fbfbf; text-decoration-color: #7fbfbf\">                    </span>         <span style=\"color: #008080; text-decoration-color: #008080; font-weight: bold\">475</span>, <span style=\"color: #008000; text-decoration-color: #008000\">'perturbed_edges'</span>: <span style=\"font-weight: bold\">[[</span><span style=\"color: #008080; text-decoration-color: #008080; font-weight: bold\">475</span>, <span style=\"color: #008080; text-decoration-color: #008080; font-weight: bold\">475</span><span style=\"font-weight: bold\">]</span>, <span style=\"font-weight: bold\">[</span><span style=\"color: #008080; text-decoration-color: #008080; font-weight: bold\">1244</span>,      <span style=\"color: #7f7f7f; text-decoration-color: #7f7f7f\">                                     </span>\n",
       "<span style=\"color: #7fbfbf; text-decoration-color: #7fbfbf\">                    </span>         <span style=\"color: #008080; text-decoration-color: #008080; font-weight: bold\">1590</span><span style=\"font-weight: bold\">]]</span>, <span style=\"color: #008000; text-decoration-color: #008000\">'logit_target'</span>: <span style=\"color: #008080; text-decoration-color: #008080; font-weight: bold\">-1.6097791194915771</span>,     <span style=\"color: #7f7f7f; text-decoration-color: #7f7f7f\">                                     </span>\n",
       "<span style=\"color: #7fbfbf; text-decoration-color: #7fbfbf\">                    </span>         <span style=\"color: #008000; text-decoration-color: #008000\">'logit_best_non_target'</span>: <span style=\"color: #008080; text-decoration-color: #008080; font-weight: bold\">-0.28630760312080383</span>,   <span style=\"color: #7f7f7f; text-decoration-color: #7f7f7f\">                                     </span>\n",
       "<span style=\"color: #7fbfbf; text-decoration-color: #7fbfbf\">                    </span>         <span style=\"color: #008000; text-decoration-color: #008000\">'confidence_target'</span>: <span style=\"color: #008080; text-decoration-color: #008080; font-weight: bold\">0.19993177022940622</span>,        <span style=\"color: #7f7f7f; text-decoration-color: #7f7f7f\">                                     </span>\n",
       "<span style=\"color: #7fbfbf; text-decoration-color: #7fbfbf\">                    </span>         <span style=\"color: #008000; text-decoration-color: #008000\">'confidence_non_target'</span>: <span style=\"color: #008080; text-decoration-color: #008080; font-weight: bold\">0.7510315607601477</span>,     <span style=\"color: #7f7f7f; text-decoration-color: #7f7f7f\">                                     </span>\n",
       "<span style=\"color: #7fbfbf; text-decoration-color: #7fbfbf\">                    </span>         <span style=\"color: #008000; text-decoration-color: #008000\">'margin'</span>: <span style=\"color: #008080; text-decoration-color: #008080; font-weight: bold\">-0.5510997905307414</span>,                   <span style=\"color: #7f7f7f; text-decoration-color: #7f7f7f\">                                     </span>\n",
       "<span style=\"color: #7fbfbf; text-decoration-color: #7fbfbf\">                    </span>         <span style=\"color: #008000; text-decoration-color: #008000\">'initial_logit_target'</span>: <span style=\"color: #008080; text-decoration-color: #008080; font-weight: bold\">-0.0002649671514518559</span>,  <span style=\"color: #7f7f7f; text-decoration-color: #7f7f7f\">                                     </span>\n",
       "<span style=\"color: #7fbfbf; text-decoration-color: #7fbfbf\">                    </span>         <span style=\"color: #008000; text-decoration-color: #008000\">'initial_logit_best_non_target'</span>:                 <span style=\"color: #7f7f7f; text-decoration-color: #7f7f7f\">                                     </span>\n",
       "<span style=\"color: #7fbfbf; text-decoration-color: #7fbfbf\">                    </span>         <span style=\"color: #008080; text-decoration-color: #008080; font-weight: bold\">-9.871208190917969</span>, <span style=\"color: #008000; text-decoration-color: #008000\">'initial_confidence_target'</span>: <span style=\"color: #7f7f7f; text-decoration-color: #7f7f7f\">                                     </span>\n",
       "<span style=\"color: #7fbfbf; text-decoration-color: #7fbfbf\">                    </span>         <span style=\"color: #008080; text-decoration-color: #008080; font-weight: bold\">0.9997350679492436</span>,                              <span style=\"color: #7f7f7f; text-decoration-color: #7f7f7f\">                                     </span>\n",
       "<span style=\"color: #7fbfbf; text-decoration-color: #7fbfbf\">                    </span>         <span style=\"color: #008000; text-decoration-color: #008000\">'initial_confidence_non_target'</span>:                 <span style=\"color: #7f7f7f; text-decoration-color: #7f7f7f\">                                     </span>\n",
       "<span style=\"color: #7fbfbf; text-decoration-color: #7fbfbf\">                    </span>         <span style=\"color: #008080; text-decoration-color: #008080; font-weight: bold\">5.164029956801338e-05</span>, <span style=\"color: #008000; text-decoration-color: #008000\">'initial_margin'</span>:         <span style=\"color: #7f7f7f; text-decoration-color: #7f7f7f\">                                     </span>\n",
       "<span style=\"color: #7fbfbf; text-decoration-color: #7fbfbf\">                    </span>         <span style=\"color: #008080; text-decoration-color: #008080; font-weight: bold\">0.9996834276496755</span><span style=\"font-weight: bold\">}</span>                              <span style=\"color: #7f7f7f; text-decoration-color: #7f7f7f\">                                     </span>\n",
       "</pre>\n"
      ]
     },
     "metadata": {}
    },
    {
     "output_type": "display_data",
     "data": {
      "text/plain": [
       "\u001B[2;36m                   \u001B[0m\u001B[2;36m \u001B[0m\u001B[34mINFO    \u001B[0m Completed attack and evaluation of Vanilla GCN   \u001B]8;id=280304;file:///content/robustness_of_gnns_at_scale/experiments/experiment_local_attack_direct.py\u001B\\\u001B[2mexperiment_local_attack_direct.py\u001B[0m\u001B]8;;\u001B\\\u001B[2m:\u001B[0m\u001B]8;id=560631;file:///content/robustness_of_gnns_at_scale/experiments/experiment_local_attack_direct.py#216\u001B\\\u001B[2m216\u001B[0m\u001B]8;;\u001B\\\n",
       "\u001B[2;36m                    \u001B[0m         using LocalPRBCD with pert. edges for node \u001B[1;36m475\u001B[0m   \u001B[2m                                     \u001B[0m\n",
       "\u001B[2;36m                    \u001B[0m         and budget \u001B[1;36m2\u001B[0m                                     \u001B[2m                                     \u001B[0m\n"
      ],
      "text/html": [
       "<pre style=\"white-space:pre;overflow-x:auto;line-height:normal;font-family:Menlo,'DejaVu Sans Mono',consolas,'Courier New',monospace\"><span style=\"color: #7fbfbf; text-decoration-color: #7fbfbf\">                    </span><span style=\"color: #000080; text-decoration-color: #000080\">INFO    </span> Completed attack and evaluation of Vanilla GCN   <a href=\"file:///content/robustness_of_gnns_at_scale/experiments/experiment_local_attack_direct.py\" target=\"_blank\"><span style=\"color: #7f7f7f; text-decoration-color: #7f7f7f\">experiment_local_attack_direct.py</span></a><span style=\"color: #7f7f7f; text-decoration-color: #7f7f7f\">:</span><a href=\"file:///content/robustness_of_gnns_at_scale/experiments/experiment_local_attack_direct.py#216\" target=\"_blank\"><span style=\"color: #7f7f7f; text-decoration-color: #7f7f7f\">216</span></a>\n",
       "<span style=\"color: #7fbfbf; text-decoration-color: #7fbfbf\">                    </span>         using LocalPRBCD with pert. edges for node <span style=\"color: #008080; text-decoration-color: #008080; font-weight: bold\">475</span>   <span style=\"color: #7f7f7f; text-decoration-color: #7f7f7f\">                                     </span>\n",
       "<span style=\"color: #7fbfbf; text-decoration-color: #7fbfbf\">                    </span>         and budget <span style=\"color: #008080; text-decoration-color: #008080; font-weight: bold\">2</span>                                     <span style=\"color: #7f7f7f; text-decoration-color: #7f7f7f\">                                     </span>\n",
       "</pre>\n"
      ]
     },
     "metadata": {}
    },
    {
     "output_type": "display_data",
     "data": {
      "text/plain": [
       "\u001B[2;36m[02/07/25 14:15:26]\u001B[0m\u001B[2;36m \u001B[0m\u001B[34mINFO    \u001B[0m Original: Loss: \u001B[1;36m-0.23114874958992004\u001B[0m Statstics: \u001B[1m{\u001B[0m\u001B[32m'logit_target'\u001B[0m:     \u001B]8;id=214676;file:///content/robustness_of_gnns_at_scale/rgnn_at_scale/attacks/local_prbcd.py\u001B\\\u001B[2mlocal_prbcd.py\u001B[0m\u001B]8;;\u001B\\\u001B[2m:\u001B[0m\u001B]8;id=759916;file:///content/robustness_of_gnns_at_scale/rgnn_at_scale/attacks/local_prbcd.py#74\u001B\\\u001B[2m74\u001B[0m\u001B]8;;\u001B\\\n",
       "\u001B[2;36m                    \u001B[0m         \u001B[1;36m-1.4718097448349\u001B[0m, \u001B[32m'logit_best_non_target'\u001B[0m: \u001B[1;36m-1.7029584646224976\u001B[0m,      \u001B[2m                 \u001B[0m\n",
       "\u001B[2;36m                    \u001B[0m         \u001B[32m'confidence_target'\u001B[0m: \u001B[1;36m0.2295097550237187\u001B[0m, \u001B[32m'confidence_non_target'\u001B[0m:    \u001B[2m                 \u001B[0m\n",
       "\u001B[2;36m                    \u001B[0m         \u001B[1;36m0.18214385999184554\u001B[0m, \u001B[32m'margin'\u001B[0m: \u001B[1;36m0.04736589503187316\u001B[0m\u001B[1m}\u001B[0m                  \u001B[2m                 \u001B[0m\n",
       "\u001B[2;36m                    \u001B[0m                                                                              \u001B[2m                 \u001B[0m\n"
      ],
      "text/html": [
       "<pre style=\"white-space:pre;overflow-x:auto;line-height:normal;font-family:Menlo,'DejaVu Sans Mono',consolas,'Courier New',monospace\"><span style=\"color: #7fbfbf; text-decoration-color: #7fbfbf\">[02/07/25 14:15:26] </span><span style=\"color: #000080; text-decoration-color: #000080\">INFO    </span> Original: Loss: <span style=\"color: #008080; text-decoration-color: #008080; font-weight: bold\">-0.23114874958992004</span> Statstics: <span style=\"font-weight: bold\">{</span><span style=\"color: #008000; text-decoration-color: #008000\">'logit_target'</span>:     <a href=\"file:///content/robustness_of_gnns_at_scale/rgnn_at_scale/attacks/local_prbcd.py\" target=\"_blank\"><span style=\"color: #7f7f7f; text-decoration-color: #7f7f7f\">local_prbcd.py</span></a><span style=\"color: #7f7f7f; text-decoration-color: #7f7f7f\">:</span><a href=\"file:///content/robustness_of_gnns_at_scale/rgnn_at_scale/attacks/local_prbcd.py#74\" target=\"_blank\"><span style=\"color: #7f7f7f; text-decoration-color: #7f7f7f\">74</span></a>\n",
       "<span style=\"color: #7fbfbf; text-decoration-color: #7fbfbf\">                    </span>         <span style=\"color: #008080; text-decoration-color: #008080; font-weight: bold\">-1.4718097448349</span>, <span style=\"color: #008000; text-decoration-color: #008000\">'logit_best_non_target'</span>: <span style=\"color: #008080; text-decoration-color: #008080; font-weight: bold\">-1.7029584646224976</span>,      <span style=\"color: #7f7f7f; text-decoration-color: #7f7f7f\">                 </span>\n",
       "<span style=\"color: #7fbfbf; text-decoration-color: #7fbfbf\">                    </span>         <span style=\"color: #008000; text-decoration-color: #008000\">'confidence_target'</span>: <span style=\"color: #008080; text-decoration-color: #008080; font-weight: bold\">0.2295097550237187</span>, <span style=\"color: #008000; text-decoration-color: #008000\">'confidence_non_target'</span>:    <span style=\"color: #7f7f7f; text-decoration-color: #7f7f7f\">                 </span>\n",
       "<span style=\"color: #7fbfbf; text-decoration-color: #7fbfbf\">                    </span>         <span style=\"color: #008080; text-decoration-color: #008080; font-weight: bold\">0.18214385999184554</span>, <span style=\"color: #008000; text-decoration-color: #008000\">'margin'</span>: <span style=\"color: #008080; text-decoration-color: #008080; font-weight: bold\">0.04736589503187316</span><span style=\"font-weight: bold\">}</span>                  <span style=\"color: #7f7f7f; text-decoration-color: #7f7f7f\">                 </span>\n",
       "<span style=\"color: #7fbfbf; text-decoration-color: #7fbfbf\">                    </span>                                                                              <span style=\"color: #7f7f7f; text-decoration-color: #7f7f7f\">                 </span>\n",
       "</pre>\n"
      ]
     },
     "metadata": {}
    },
    {
     "output_type": "stream",
     "name": "stderr",
     "text": [
      "\r  0%|          | 0/50 [00:00<?, ?it/s]"
     ]
    },
    {
     "output_type": "display_data",
     "data": {
      "text/plain": [
       "\u001B[2;36m[02/07/25 14:15:28]\u001B[0m\u001B[2;36m \u001B[0m\u001B[34mINFO    \u001B[0m Initial: Loss: \u001B[1;36m-0.23114889860153198\u001B[0m Statstics: \u001B[1m{\u001B[0m\u001B[32m'logit_target'\u001B[0m:      \u001B]8;id=486645;file:///content/robustness_of_gnns_at_scale/rgnn_at_scale/attacks/local_prbcd.py\u001B\\\u001B[2mlocal_prbcd.py\u001B[0m\u001B]8;;\u001B\\\u001B[2m:\u001B[0m\u001B]8;id=629101;file:///content/robustness_of_gnns_at_scale/rgnn_at_scale/attacks/local_prbcd.py#92\u001B\\\u001B[2m92\u001B[0m\u001B]8;;\u001B\\\n",
       "\u001B[2;36m                    \u001B[0m         \u001B[1;36m-1.4718097448349\u001B[0m, \u001B[32m'logit_best_non_target'\u001B[0m: \u001B[1;36m-1.702958583831787\u001B[0m,       \u001B[2m                 \u001B[0m\n",
       "\u001B[2;36m                    \u001B[0m         \u001B[32m'confidence_target'\u001B[0m: \u001B[1;36m0.2295097550237187\u001B[0m, \u001B[32m'confidence_non_target'\u001B[0m:    \u001B[2m                 \u001B[0m\n",
       "\u001B[2;36m                    \u001B[0m         \u001B[1;36m0.1821438382786067\u001B[0m, \u001B[32m'margin'\u001B[0m: \u001B[1;36m0.04736591674511201\u001B[0m\u001B[1m}\u001B[0m                   \u001B[2m                 \u001B[0m\n",
       "\u001B[2;36m                    \u001B[0m                                                                              \u001B[2m                 \u001B[0m\n"
      ],
      "text/html": [
       "<pre style=\"white-space:pre;overflow-x:auto;line-height:normal;font-family:Menlo,'DejaVu Sans Mono',consolas,'Courier New',monospace\"><span style=\"color: #7fbfbf; text-decoration-color: #7fbfbf\">[02/07/25 14:15:28] </span><span style=\"color: #000080; text-decoration-color: #000080\">INFO    </span> Initial: Loss: <span style=\"color: #008080; text-decoration-color: #008080; font-weight: bold\">-0.23114889860153198</span> Statstics: <span style=\"font-weight: bold\">{</span><span style=\"color: #008000; text-decoration-color: #008000\">'logit_target'</span>:      <a href=\"file:///content/robustness_of_gnns_at_scale/rgnn_at_scale/attacks/local_prbcd.py\" target=\"_blank\"><span style=\"color: #7f7f7f; text-decoration-color: #7f7f7f\">local_prbcd.py</span></a><span style=\"color: #7f7f7f; text-decoration-color: #7f7f7f\">:</span><a href=\"file:///content/robustness_of_gnns_at_scale/rgnn_at_scale/attacks/local_prbcd.py#92\" target=\"_blank\"><span style=\"color: #7f7f7f; text-decoration-color: #7f7f7f\">92</span></a>\n",
       "<span style=\"color: #7fbfbf; text-decoration-color: #7fbfbf\">                    </span>         <span style=\"color: #008080; text-decoration-color: #008080; font-weight: bold\">-1.4718097448349</span>, <span style=\"color: #008000; text-decoration-color: #008000\">'logit_best_non_target'</span>: <span style=\"color: #008080; text-decoration-color: #008080; font-weight: bold\">-1.702958583831787</span>,       <span style=\"color: #7f7f7f; text-decoration-color: #7f7f7f\">                 </span>\n",
       "<span style=\"color: #7fbfbf; text-decoration-color: #7fbfbf\">                    </span>         <span style=\"color: #008000; text-decoration-color: #008000\">'confidence_target'</span>: <span style=\"color: #008080; text-decoration-color: #008080; font-weight: bold\">0.2295097550237187</span>, <span style=\"color: #008000; text-decoration-color: #008000\">'confidence_non_target'</span>:    <span style=\"color: #7f7f7f; text-decoration-color: #7f7f7f\">                 </span>\n",
       "<span style=\"color: #7fbfbf; text-decoration-color: #7fbfbf\">                    </span>         <span style=\"color: #008080; text-decoration-color: #008080; font-weight: bold\">0.1821438382786067</span>, <span style=\"color: #008000; text-decoration-color: #008000\">'margin'</span>: <span style=\"color: #008080; text-decoration-color: #008080; font-weight: bold\">0.04736591674511201</span><span style=\"font-weight: bold\">}</span>                   <span style=\"color: #7f7f7f; text-decoration-color: #7f7f7f\">                 </span>\n",
       "<span style=\"color: #7fbfbf; text-decoration-color: #7fbfbf\">                    </span>                                                                              <span style=\"color: #7f7f7f; text-decoration-color: #7f7f7f\">                 </span>\n",
       "</pre>\n"
      ]
     },
     "metadata": {}
    },
    {
     "output_type": "display_data",
     "data": {
      "text/plain": [
       "\u001B[2;36m[02/07/25 14:15:31]\u001B[0m\u001B[2;36m \u001B[0m\u001B[34mINFO    \u001B[0m                                                                     \u001B]8;id=196131;file:///content/robustness_of_gnns_at_scale/rgnn_at_scale/attacks/local_prbcd.py\u001B\\\u001B[2mlocal_prbcd.py\u001B[0m\u001B]8;;\u001B\\\u001B[2m:\u001B[0m\u001B]8;id=565719;file:///content/robustness_of_gnns_at_scale/rgnn_at_scale/attacks/local_prbcd.py#113\u001B\\\u001B[2m113\u001B[0m\u001B]8;;\u001B\\\n",
       "\u001B[2;36m                    \u001B[0m         Epoch: \u001B[1;36m0\u001B[0m Loss: \u001B[1;36m-0.23114889860153198\u001B[0m Statstics: \u001B[1m{\u001B[0m\u001B[32m'logit_target'\u001B[0m:     \u001B[2m                  \u001B[0m\n",
       "\u001B[2;36m                    \u001B[0m         \u001B[1;36m-1.6309723854064941\u001B[0m, \u001B[32m'logit_best_non_target'\u001B[0m: \u001B[1;36m-1.6188881397247314\u001B[0m,  \u001B[2m                  \u001B[0m\n",
       "\u001B[2;36m                    \u001B[0m         \u001B[32m'confidence_target'\u001B[0m: \u001B[1;36m0.19573914766728745\u001B[0m, \u001B[32m'confidence_non_target'\u001B[0m:  \u001B[2m                  \u001B[0m\n",
       "\u001B[2;36m                    \u001B[0m         \u001B[1;36m0.19811885715547972\u001B[0m, \u001B[32m'margin'\u001B[0m: \u001B[1;36m-0.002379709488192272\u001B[0m\u001B[1m}\u001B[0m               \u001B[2m                  \u001B[0m\n",
       "\u001B[2;36m                    \u001B[0m                                                                             \u001B[2m                  \u001B[0m\n"
      ],
      "text/html": [
       "<pre style=\"white-space:pre;overflow-x:auto;line-height:normal;font-family:Menlo,'DejaVu Sans Mono',consolas,'Courier New',monospace\"><span style=\"color: #7fbfbf; text-decoration-color: #7fbfbf\">[02/07/25 14:15:31] </span><span style=\"color: #000080; text-decoration-color: #000080\">INFO    </span>                                                                     <a href=\"file:///content/robustness_of_gnns_at_scale/rgnn_at_scale/attacks/local_prbcd.py\" target=\"_blank\"><span style=\"color: #7f7f7f; text-decoration-color: #7f7f7f\">local_prbcd.py</span></a><span style=\"color: #7f7f7f; text-decoration-color: #7f7f7f\">:</span><a href=\"file:///content/robustness_of_gnns_at_scale/rgnn_at_scale/attacks/local_prbcd.py#113\" target=\"_blank\"><span style=\"color: #7f7f7f; text-decoration-color: #7f7f7f\">113</span></a>\n",
       "<span style=\"color: #7fbfbf; text-decoration-color: #7fbfbf\">                    </span>         Epoch: <span style=\"color: #008080; text-decoration-color: #008080; font-weight: bold\">0</span> Loss: <span style=\"color: #008080; text-decoration-color: #008080; font-weight: bold\">-0.23114889860153198</span> Statstics: <span style=\"font-weight: bold\">{</span><span style=\"color: #008000; text-decoration-color: #008000\">'logit_target'</span>:     <span style=\"color: #7f7f7f; text-decoration-color: #7f7f7f\">                  </span>\n",
       "<span style=\"color: #7fbfbf; text-decoration-color: #7fbfbf\">                    </span>         <span style=\"color: #008080; text-decoration-color: #008080; font-weight: bold\">-1.6309723854064941</span>, <span style=\"color: #008000; text-decoration-color: #008000\">'logit_best_non_target'</span>: <span style=\"color: #008080; text-decoration-color: #008080; font-weight: bold\">-1.6188881397247314</span>,  <span style=\"color: #7f7f7f; text-decoration-color: #7f7f7f\">                  </span>\n",
       "<span style=\"color: #7fbfbf; text-decoration-color: #7fbfbf\">                    </span>         <span style=\"color: #008000; text-decoration-color: #008000\">'confidence_target'</span>: <span style=\"color: #008080; text-decoration-color: #008080; font-weight: bold\">0.19573914766728745</span>, <span style=\"color: #008000; text-decoration-color: #008000\">'confidence_non_target'</span>:  <span style=\"color: #7f7f7f; text-decoration-color: #7f7f7f\">                  </span>\n",
       "<span style=\"color: #7fbfbf; text-decoration-color: #7fbfbf\">                    </span>         <span style=\"color: #008080; text-decoration-color: #008080; font-weight: bold\">0.19811885715547972</span>, <span style=\"color: #008000; text-decoration-color: #008000\">'margin'</span>: <span style=\"color: #008080; text-decoration-color: #008080; font-weight: bold\">-0.002379709488192272</span><span style=\"font-weight: bold\">}</span>               <span style=\"color: #7f7f7f; text-decoration-color: #7f7f7f\">                  </span>\n",
       "<span style=\"color: #7fbfbf; text-decoration-color: #7fbfbf\">                    </span>                                                                             <span style=\"color: #7f7f7f; text-decoration-color: #7f7f7f\">                  </span>\n",
       "</pre>\n"
      ]
     },
     "metadata": {}
    },
    {
     "output_type": "display_data",
     "data": {
      "text/plain": [
       "\u001B[2;36m                   \u001B[0m\u001B[2;36m \u001B[0m\u001B[34mINFO    \u001B[0m Gradient mean \u001B[1;36m0.031648967415094376\u001B[0m std \u001B[1;36m0.033315639942884445\u001B[0m with    \u001B]8;id=198994;file:///content/robustness_of_gnns_at_scale/rgnn_at_scale/attacks/local_prbcd.py\u001B\\\u001B[2mlocal_prbcd.py\u001B[0m\u001B]8;;\u001B\\\u001B[2m:\u001B[0m\u001B]8;id=451447;file:///content/robustness_of_gnns_at_scale/rgnn_at_scale/attacks/local_prbcd.py#114\u001B\\\u001B[2m114\u001B[0m\u001B]8;;\u001B\\\n",
       "\u001B[2;36m                    \u001B[0m         base learning rate \u001B[1;36m0.45\u001B[0m                                             \u001B[2m                  \u001B[0m\n"
      ],
      "text/html": [
       "<pre style=\"white-space:pre;overflow-x:auto;line-height:normal;font-family:Menlo,'DejaVu Sans Mono',consolas,'Courier New',monospace\"><span style=\"color: #7fbfbf; text-decoration-color: #7fbfbf\">                    </span><span style=\"color: #000080; text-decoration-color: #000080\">INFO    </span> Gradient mean <span style=\"color: #008080; text-decoration-color: #008080; font-weight: bold\">0.031648967415094376</span> std <span style=\"color: #008080; text-decoration-color: #008080; font-weight: bold\">0.033315639942884445</span> with    <a href=\"file:///content/robustness_of_gnns_at_scale/rgnn_at_scale/attacks/local_prbcd.py\" target=\"_blank\"><span style=\"color: #7f7f7f; text-decoration-color: #7f7f7f\">local_prbcd.py</span></a><span style=\"color: #7f7f7f; text-decoration-color: #7f7f7f\">:</span><a href=\"file:///content/robustness_of_gnns_at_scale/rgnn_at_scale/attacks/local_prbcd.py#114\" target=\"_blank\"><span style=\"color: #7f7f7f; text-decoration-color: #7f7f7f\">114</span></a>\n",
       "<span style=\"color: #7fbfbf; text-decoration-color: #7fbfbf\">                    </span>         base learning rate <span style=\"color: #008080; text-decoration-color: #008080; font-weight: bold\">0.45</span>                                             <span style=\"color: #7f7f7f; text-decoration-color: #7f7f7f\">                  </span>\n",
       "</pre>\n"
      ]
     },
     "metadata": {}
    },
    {
     "output_type": "stream",
     "name": "stderr",
     "text": [
      " 40%|████      | 20/50 [01:40<02:36,  5.21s/it]"
     ]
    },
    {
     "output_type": "display_data",
     "data": {
      "text/plain": [
       "\u001B[2;36m[02/07/25 14:17:11]\u001B[0m\u001B[2;36m \u001B[0m\u001B[34mINFO    \u001B[0m                                                                     \u001B]8;id=766141;file:///content/robustness_of_gnns_at_scale/rgnn_at_scale/attacks/local_prbcd.py\u001B\\\u001B[2mlocal_prbcd.py\u001B[0m\u001B]8;;\u001B\\\u001B[2m:\u001B[0m\u001B]8;id=126930;file:///content/robustness_of_gnns_at_scale/rgnn_at_scale/attacks/local_prbcd.py#113\u001B\\\u001B[2m113\u001B[0m\u001B]8;;\u001B\\\n",
       "\u001B[2;36m                    \u001B[0m         Epoch: \u001B[1;36m20\u001B[0m Loss: \u001B[1;36m1.1745967864990234\u001B[0m Statstics: \u001B[1m{\u001B[0m\u001B[32m'logit_target'\u001B[0m:      \u001B[2m                  \u001B[0m\n",
       "\u001B[2;36m                    \u001B[0m         \u001B[1;36m-2.319361448287964\u001B[0m, \u001B[32m'logit_best_non_target'\u001B[0m: \u001B[1;36m-1.129378318786621\u001B[0m,    \u001B[2m                  \u001B[0m\n",
       "\u001B[2;36m                    \u001B[0m         \u001B[32m'confidence_target'\u001B[0m: \u001B[1;36m0.09833635841040556\u001B[0m, \u001B[32m'confidence_non_target'\u001B[0m:  \u001B[2m                  \u001B[0m\n",
       "\u001B[2;36m                    \u001B[0m         \u001B[1;36m0.3232341425661681\u001B[0m, \u001B[32m'margin'\u001B[0m: \u001B[1;36m-0.22489778415576256\u001B[0m\u001B[1m}\u001B[0m                 \u001B[2m                  \u001B[0m\n",
       "\u001B[2;36m                    \u001B[0m                                                                             \u001B[2m                  \u001B[0m\n"
      ],
      "text/html": [
       "<pre style=\"white-space:pre;overflow-x:auto;line-height:normal;font-family:Menlo,'DejaVu Sans Mono',consolas,'Courier New',monospace\"><span style=\"color: #7fbfbf; text-decoration-color: #7fbfbf\">[02/07/25 14:17:11] </span><span style=\"color: #000080; text-decoration-color: #000080\">INFO    </span>                                                                     <a href=\"file:///content/robustness_of_gnns_at_scale/rgnn_at_scale/attacks/local_prbcd.py\" target=\"_blank\"><span style=\"color: #7f7f7f; text-decoration-color: #7f7f7f\">local_prbcd.py</span></a><span style=\"color: #7f7f7f; text-decoration-color: #7f7f7f\">:</span><a href=\"file:///content/robustness_of_gnns_at_scale/rgnn_at_scale/attacks/local_prbcd.py#113\" target=\"_blank\"><span style=\"color: #7f7f7f; text-decoration-color: #7f7f7f\">113</span></a>\n",
       "<span style=\"color: #7fbfbf; text-decoration-color: #7fbfbf\">                    </span>         Epoch: <span style=\"color: #008080; text-decoration-color: #008080; font-weight: bold\">20</span> Loss: <span style=\"color: #008080; text-decoration-color: #008080; font-weight: bold\">1.1745967864990234</span> Statstics: <span style=\"font-weight: bold\">{</span><span style=\"color: #008000; text-decoration-color: #008000\">'logit_target'</span>:      <span style=\"color: #7f7f7f; text-decoration-color: #7f7f7f\">                  </span>\n",
       "<span style=\"color: #7fbfbf; text-decoration-color: #7fbfbf\">                    </span>         <span style=\"color: #008080; text-decoration-color: #008080; font-weight: bold\">-2.319361448287964</span>, <span style=\"color: #008000; text-decoration-color: #008000\">'logit_best_non_target'</span>: <span style=\"color: #008080; text-decoration-color: #008080; font-weight: bold\">-1.129378318786621</span>,    <span style=\"color: #7f7f7f; text-decoration-color: #7f7f7f\">                  </span>\n",
       "<span style=\"color: #7fbfbf; text-decoration-color: #7fbfbf\">                    </span>         <span style=\"color: #008000; text-decoration-color: #008000\">'confidence_target'</span>: <span style=\"color: #008080; text-decoration-color: #008080; font-weight: bold\">0.09833635841040556</span>, <span style=\"color: #008000; text-decoration-color: #008000\">'confidence_non_target'</span>:  <span style=\"color: #7f7f7f; text-decoration-color: #7f7f7f\">                  </span>\n",
       "<span style=\"color: #7fbfbf; text-decoration-color: #7fbfbf\">                    </span>         <span style=\"color: #008080; text-decoration-color: #008080; font-weight: bold\">0.3232341425661681</span>, <span style=\"color: #008000; text-decoration-color: #008000\">'margin'</span>: <span style=\"color: #008080; text-decoration-color: #008080; font-weight: bold\">-0.22489778415576256</span><span style=\"font-weight: bold\">}</span>                 <span style=\"color: #7f7f7f; text-decoration-color: #7f7f7f\">                  </span>\n",
       "<span style=\"color: #7fbfbf; text-decoration-color: #7fbfbf\">                    </span>                                                                             <span style=\"color: #7f7f7f; text-decoration-color: #7f7f7f\">                  </span>\n",
       "</pre>\n"
      ]
     },
     "metadata": {}
    },
    {
     "output_type": "display_data",
     "data": {
      "text/plain": [
       "\u001B[2;36m                   \u001B[0m\u001B[2;36m \u001B[0m\u001B[34mINFO    \u001B[0m Gradient mean \u001B[1;36m0.0049582417123019695\u001B[0m std \u001B[1;36m0.01810549758374691\u001B[0m with    \u001B]8;id=458782;file:///content/robustness_of_gnns_at_scale/rgnn_at_scale/attacks/local_prbcd.py\u001B\\\u001B[2mlocal_prbcd.py\u001B[0m\u001B]8;;\u001B\\\u001B[2m:\u001B[0m\u001B]8;id=197302;file:///content/robustness_of_gnns_at_scale/rgnn_at_scale/attacks/local_prbcd.py#114\u001B\\\u001B[2m114\u001B[0m\u001B]8;;\u001B\\\n",
       "\u001B[2;36m                    \u001B[0m         base learning rate \u001B[1;36m0.45\u001B[0m                                             \u001B[2m                  \u001B[0m\n"
      ],
      "text/html": [
       "<pre style=\"white-space:pre;overflow-x:auto;line-height:normal;font-family:Menlo,'DejaVu Sans Mono',consolas,'Courier New',monospace\"><span style=\"color: #7fbfbf; text-decoration-color: #7fbfbf\">                    </span><span style=\"color: #000080; text-decoration-color: #000080\">INFO    </span> Gradient mean <span style=\"color: #008080; text-decoration-color: #008080; font-weight: bold\">0.0049582417123019695</span> std <span style=\"color: #008080; text-decoration-color: #008080; font-weight: bold\">0.01810549758374691</span> with    <a href=\"file:///content/robustness_of_gnns_at_scale/rgnn_at_scale/attacks/local_prbcd.py\" target=\"_blank\"><span style=\"color: #7f7f7f; text-decoration-color: #7f7f7f\">local_prbcd.py</span></a><span style=\"color: #7f7f7f; text-decoration-color: #7f7f7f\">:</span><a href=\"file:///content/robustness_of_gnns_at_scale/rgnn_at_scale/attacks/local_prbcd.py#114\" target=\"_blank\"><span style=\"color: #7f7f7f; text-decoration-color: #7f7f7f\">114</span></a>\n",
       "<span style=\"color: #7fbfbf; text-decoration-color: #7fbfbf\">                    </span>         base learning rate <span style=\"color: #008080; text-decoration-color: #008080; font-weight: bold\">0.45</span>                                             <span style=\"color: #7f7f7f; text-decoration-color: #7f7f7f\">                  </span>\n",
       "</pre>\n"
      ]
     },
     "metadata": {}
    },
    {
     "output_type": "stream",
     "name": "stderr",
     "text": [
      " 80%|████████  | 40/50 [03:19<00:48,  4.83s/it]"
     ]
    },
    {
     "output_type": "display_data",
     "data": {
      "text/plain": [
       "\u001B[2;36m[02/07/25 14:18:50]\u001B[0m\u001B[2;36m \u001B[0m\u001B[34mINFO    \u001B[0m                                                                     \u001B]8;id=379500;file:///content/robustness_of_gnns_at_scale/rgnn_at_scale/attacks/local_prbcd.py\u001B\\\u001B[2mlocal_prbcd.py\u001B[0m\u001B]8;;\u001B\\\u001B[2m:\u001B[0m\u001B]8;id=239215;file:///content/robustness_of_gnns_at_scale/rgnn_at_scale/attacks/local_prbcd.py#113\u001B\\\u001B[2m113\u001B[0m\u001B]8;;\u001B\\\n",
       "\u001B[2;36m                    \u001B[0m         Epoch: \u001B[1;36m40\u001B[0m Loss: \u001B[1;36m1.4026013612747192\u001B[0m Statstics: \u001B[1m{\u001B[0m\u001B[32m'logit_target'\u001B[0m:      \u001B[2m                  \u001B[0m\n",
       "\u001B[2;36m                    \u001B[0m         \u001B[1;36m-2.441157579421997\u001B[0m, \u001B[32m'logit_best_non_target'\u001B[0m: \u001B[1;36m-1.038081407546997\u001B[0m,    \u001B[2m                  \u001B[0m\n",
       "\u001B[2;36m                    \u001B[0m         \u001B[32m'confidence_target'\u001B[0m: \u001B[1;36m0.08706001422873832\u001B[0m, \u001B[32m'confidence_non_target'\u001B[0m:  \u001B[2m                  \u001B[0m\n",
       "\u001B[2;36m                    \u001B[0m         \u001B[1;36m0.3541334683931123\u001B[0m, \u001B[32m'margin'\u001B[0m: \u001B[1;36m-0.267073454164374\u001B[0m\u001B[1m}\u001B[0m                   \u001B[2m                  \u001B[0m\n",
       "\u001B[2;36m                    \u001B[0m                                                                             \u001B[2m                  \u001B[0m\n"
      ],
      "text/html": [
       "<pre style=\"white-space:pre;overflow-x:auto;line-height:normal;font-family:Menlo,'DejaVu Sans Mono',consolas,'Courier New',monospace\"><span style=\"color: #7fbfbf; text-decoration-color: #7fbfbf\">[02/07/25 14:18:50] </span><span style=\"color: #000080; text-decoration-color: #000080\">INFO    </span>                                                                     <a href=\"file:///content/robustness_of_gnns_at_scale/rgnn_at_scale/attacks/local_prbcd.py\" target=\"_blank\"><span style=\"color: #7f7f7f; text-decoration-color: #7f7f7f\">local_prbcd.py</span></a><span style=\"color: #7f7f7f; text-decoration-color: #7f7f7f\">:</span><a href=\"file:///content/robustness_of_gnns_at_scale/rgnn_at_scale/attacks/local_prbcd.py#113\" target=\"_blank\"><span style=\"color: #7f7f7f; text-decoration-color: #7f7f7f\">113</span></a>\n",
       "<span style=\"color: #7fbfbf; text-decoration-color: #7fbfbf\">                    </span>         Epoch: <span style=\"color: #008080; text-decoration-color: #008080; font-weight: bold\">40</span> Loss: <span style=\"color: #008080; text-decoration-color: #008080; font-weight: bold\">1.4026013612747192</span> Statstics: <span style=\"font-weight: bold\">{</span><span style=\"color: #008000; text-decoration-color: #008000\">'logit_target'</span>:      <span style=\"color: #7f7f7f; text-decoration-color: #7f7f7f\">                  </span>\n",
       "<span style=\"color: #7fbfbf; text-decoration-color: #7fbfbf\">                    </span>         <span style=\"color: #008080; text-decoration-color: #008080; font-weight: bold\">-2.441157579421997</span>, <span style=\"color: #008000; text-decoration-color: #008000\">'logit_best_non_target'</span>: <span style=\"color: #008080; text-decoration-color: #008080; font-weight: bold\">-1.038081407546997</span>,    <span style=\"color: #7f7f7f; text-decoration-color: #7f7f7f\">                  </span>\n",
       "<span style=\"color: #7fbfbf; text-decoration-color: #7fbfbf\">                    </span>         <span style=\"color: #008000; text-decoration-color: #008000\">'confidence_target'</span>: <span style=\"color: #008080; text-decoration-color: #008080; font-weight: bold\">0.08706001422873832</span>, <span style=\"color: #008000; text-decoration-color: #008000\">'confidence_non_target'</span>:  <span style=\"color: #7f7f7f; text-decoration-color: #7f7f7f\">                  </span>\n",
       "<span style=\"color: #7fbfbf; text-decoration-color: #7fbfbf\">                    </span>         <span style=\"color: #008080; text-decoration-color: #008080; font-weight: bold\">0.3541334683931123</span>, <span style=\"color: #008000; text-decoration-color: #008000\">'margin'</span>: <span style=\"color: #008080; text-decoration-color: #008080; font-weight: bold\">-0.267073454164374</span><span style=\"font-weight: bold\">}</span>                   <span style=\"color: #7f7f7f; text-decoration-color: #7f7f7f\">                  </span>\n",
       "<span style=\"color: #7fbfbf; text-decoration-color: #7fbfbf\">                    </span>                                                                             <span style=\"color: #7f7f7f; text-decoration-color: #7f7f7f\">                  </span>\n",
       "</pre>\n"
      ]
     },
     "metadata": {}
    },
    {
     "output_type": "display_data",
     "data": {
      "text/plain": [
       "\u001B[2;36m[02/07/25 14:18:51]\u001B[0m\u001B[2;36m \u001B[0m\u001B[34mINFO    \u001B[0m Gradient mean \u001B[1;36m0.0057736970484256744\u001B[0m std \u001B[1;36m0.017709502950310707\u001B[0m with   \u001B]8;id=845706;file:///content/robustness_of_gnns_at_scale/rgnn_at_scale/attacks/local_prbcd.py\u001B\\\u001B[2mlocal_prbcd.py\u001B[0m\u001B]8;;\u001B\\\u001B[2m:\u001B[0m\u001B]8;id=333315;file:///content/robustness_of_gnns_at_scale/rgnn_at_scale/attacks/local_prbcd.py#114\u001B\\\u001B[2m114\u001B[0m\u001B]8;;\u001B\\\n",
       "\u001B[2;36m                    \u001B[0m         base learning rate \u001B[1;36m0.45\u001B[0m                                             \u001B[2m                  \u001B[0m\n"
      ],
      "text/html": [
       "<pre style=\"white-space:pre;overflow-x:auto;line-height:normal;font-family:Menlo,'DejaVu Sans Mono',consolas,'Courier New',monospace\"><span style=\"color: #7fbfbf; text-decoration-color: #7fbfbf\">[02/07/25 14:18:51] </span><span style=\"color: #000080; text-decoration-color: #000080\">INFO    </span> Gradient mean <span style=\"color: #008080; text-decoration-color: #008080; font-weight: bold\">0.0057736970484256744</span> std <span style=\"color: #008080; text-decoration-color: #008080; font-weight: bold\">0.017709502950310707</span> with   <a href=\"file:///content/robustness_of_gnns_at_scale/rgnn_at_scale/attacks/local_prbcd.py\" target=\"_blank\"><span style=\"color: #7f7f7f; text-decoration-color: #7f7f7f\">local_prbcd.py</span></a><span style=\"color: #7f7f7f; text-decoration-color: #7f7f7f\">:</span><a href=\"file:///content/robustness_of_gnns_at_scale/rgnn_at_scale/attacks/local_prbcd.py#114\" target=\"_blank\"><span style=\"color: #7f7f7f; text-decoration-color: #7f7f7f\">114</span></a>\n",
       "<span style=\"color: #7fbfbf; text-decoration-color: #7fbfbf\">                    </span>         base learning rate <span style=\"color: #008080; text-decoration-color: #008080; font-weight: bold\">0.45</span>                                             <span style=\"color: #7f7f7f; text-decoration-color: #7f7f7f\">                  </span>\n",
       "</pre>\n"
      ]
     },
     "metadata": {}
    },
    {
     "output_type": "stream",
     "name": "stderr",
     "text": [
      "100%|██████████| 50/50 [04:10<00:00,  5.01s/it]\n"
     ]
    },
    {
     "output_type": "display_data",
     "data": {
      "text/plain": [
       "\u001B[2;36m[02/07/25 14:20:02]\u001B[0m\u001B[2;36m \u001B[0m\u001B[34mINFO    \u001B[0m Evaluated model Vanilla GCN using LocalPRBCD     \u001B]8;id=20735;file:///content/robustness_of_gnns_at_scale/experiments/experiment_local_attack_direct.py\u001B\\\u001B[2mexperiment_local_attack_direct.py\u001B[0m\u001B]8;;\u001B\\\u001B[2m:\u001B[0m\u001B]8;id=194383;file:///content/robustness_of_gnns_at_scale/experiments/experiment_local_attack_direct.py#194\u001B\\\u001B[2m194\u001B[0m\u001B]8;;\u001B\\\n",
       "\u001B[2;36m                    \u001B[0m         with pert. edges for node \u001B[1;36m2105\u001B[0m and budget \u001B[1;36m9\u001B[0m:     \u001B[2m                                     \u001B[0m\n"
      ],
      "text/html": [
       "<pre style=\"white-space:pre;overflow-x:auto;line-height:normal;font-family:Menlo,'DejaVu Sans Mono',consolas,'Courier New',monospace\"><span style=\"color: #7fbfbf; text-decoration-color: #7fbfbf\">[02/07/25 14:20:02] </span><span style=\"color: #000080; text-decoration-color: #000080\">INFO    </span> Evaluated model Vanilla GCN using LocalPRBCD     <a href=\"file:///content/robustness_of_gnns_at_scale/experiments/experiment_local_attack_direct.py\" target=\"_blank\"><span style=\"color: #7f7f7f; text-decoration-color: #7f7f7f\">experiment_local_attack_direct.py</span></a><span style=\"color: #7f7f7f; text-decoration-color: #7f7f7f\">:</span><a href=\"file:///content/robustness_of_gnns_at_scale/experiments/experiment_local_attack_direct.py#194\" target=\"_blank\"><span style=\"color: #7f7f7f; text-decoration-color: #7f7f7f\">194</span></a>\n",
       "<span style=\"color: #7fbfbf; text-decoration-color: #7fbfbf\">                    </span>         with pert. edges for node <span style=\"color: #008080; text-decoration-color: #008080; font-weight: bold\">2105</span> and budget <span style=\"color: #008080; text-decoration-color: #008080; font-weight: bold\">9</span>:     <span style=\"color: #7f7f7f; text-decoration-color: #7f7f7f\">                                     </span>\n",
       "</pre>\n"
      ]
     },
     "metadata": {}
    },
    {
     "output_type": "display_data",
     "data": {
      "text/plain": [
       "\u001B[2;36m                   \u001B[0m\u001B[2;36m \u001B[0m\u001B[34mINFO    \u001B[0m \u001B[1m{\u001B[0m\u001B[32m'label'\u001B[0m: \u001B[32m'Vanilla GCN'\u001B[0m, \u001B[32m'epsilon'\u001B[0m: \u001B[1;36m1\u001B[0m,           \u001B]8;id=208619;file:///content/robustness_of_gnns_at_scale/experiments/experiment_local_attack_direct.py\u001B\\\u001B[2mexperiment_local_attack_direct.py\u001B[0m\u001B]8;;\u001B\\\u001B[2m:\u001B[0m\u001B]8;id=12632;file:///content/robustness_of_gnns_at_scale/experiments/experiment_local_attack_direct.py#215\u001B\\\u001B[2m215\u001B[0m\u001B]8;;\u001B\\\n",
       "\u001B[2;36m                    \u001B[0m         \u001B[32m'n_perturbations'\u001B[0m: \u001B[1;36m9\u001B[0m, \u001B[32m'degree'\u001B[0m: \u001B[1;36m9\u001B[0m, \u001B[32m'logits'\u001B[0m:     \u001B[2m                                     \u001B[0m\n",
       "\u001B[2;36m                    \u001B[0m         \u001B[1m[\u001B[0m\u001B[1m[\u001B[0m\u001B[1;36m0.19890302419662476\u001B[0m, \u001B[1;36m1.1940439939498901\u001B[0m,       \u001B[2m                                     \u001B[0m\n",
       "\u001B[2;36m                    \u001B[0m         \u001B[1;36m-0.9670045375823975\u001B[0m, \u001B[1;36m-0.3006896376609802\u001B[0m,        \u001B[2m                                     \u001B[0m\n",
       "\u001B[2;36m                    \u001B[0m         \u001B[1;36m-0.1330803632736206\u001B[0m, \u001B[1;36m0.17006635665893555\u001B[0m,        \u001B[2m                                     \u001B[0m\n",
       "\u001B[2;36m                    \u001B[0m         \u001B[1;36m-0.3634986877441406\u001B[0m\u001B[1m]\u001B[0m\u001B[1m]\u001B[0m, \u001B[32m'initial_logits'\u001B[0m:         \u001B[2m                                     \u001B[0m\n",
       "\u001B[2;36m                    \u001B[0m         \u001B[1m[\u001B[0m\u001B[1m[\u001B[0m\u001B[1;36m0.3648524582386017\u001B[0m, \u001B[1;36m0.37913087010383606\u001B[0m,       \u001B[2m                                     \u001B[0m\n",
       "\u001B[2;36m                    \u001B[0m         \u001B[1;36m-1.25045907497406\u001B[0m, \u001B[1;36m0.6102796196937561\u001B[0m,           \u001B[2m                                     \u001B[0m\n",
       "\u001B[2;36m                    \u001B[0m         \u001B[1;36m0.11482658982276917\u001B[0m, \u001B[1;36m0.3414773941040039\u001B[0m,         \u001B[2m                                     \u001B[0m\n",
       "\u001B[2;36m                    \u001B[0m         \u001B[1;36m-0.7681479454040527\u001B[0m\u001B[1m]\u001B[0m\u001B[1m]\u001B[0m, \u001B[32m'larget'\u001B[0m: \u001B[1;36m3\u001B[0m, \u001B[32m'node_id'\u001B[0m:   \u001B[2m                                     \u001B[0m\n",
       "\u001B[2;36m                    \u001B[0m         \u001B[1;36m2105\u001B[0m, \u001B[32m'perturbed_edges'\u001B[0m: \u001B[1m[\u001B[0m\u001B[1m[\u001B[0m\u001B[1;36m2105\u001B[0m, \u001B[1;36m2105\u001B[0m, \u001B[1;36m2105\u001B[0m,     \u001B[2m                                     \u001B[0m\n",
       "\u001B[2;36m                    \u001B[0m         \u001B[1;36m2105\u001B[0m, \u001B[1;36m2105\u001B[0m, \u001B[1;36m2105\u001B[0m, \u001B[1;36m2105\u001B[0m, \u001B[1;36m2105\u001B[0m\u001B[1m]\u001B[0m, \u001B[1m[\u001B[0m\u001B[1;36m47\u001B[0m, \u001B[1;36m1098\u001B[0m, \u001B[1;36m1189\u001B[0m,  \u001B[2m                                     \u001B[0m\n",
       "\u001B[2;36m                    \u001B[0m         \u001B[1;36m1386\u001B[0m, \u001B[1;36m1554\u001B[0m, \u001B[1;36m1886\u001B[0m, \u001B[1;36m2200\u001B[0m, \u001B[1;36m2312\u001B[0m\u001B[1m]\u001B[0m\u001B[1m]\u001B[0m, \u001B[32m'logit_target'\u001B[0m:  \u001B[2m                                     \u001B[0m\n",
       "\u001B[2;36m                    \u001B[0m         \u001B[1;36m-2.428565502166748\u001B[0m, \u001B[32m'logit_best_non_target'\u001B[0m:     \u001B[2m                                     \u001B[0m\n",
       "\u001B[2;36m                    \u001B[0m         \u001B[1;36m-0.9338318109512329\u001B[0m, \u001B[32m'confidence_target'\u001B[0m:        \u001B[2m                                     \u001B[0m\n",
       "\u001B[2;36m                    \u001B[0m         \u001B[1;36m0.08816321185168056\u001B[0m, \u001B[32m'confidence_non_target'\u001B[0m:    \u001B[2m                                     \u001B[0m\n",
       "\u001B[2;36m                    \u001B[0m         \u001B[1;36m0.39304474801889616\u001B[0m, \u001B[32m'margin'\u001B[0m:                   \u001B[2m                                     \u001B[0m\n",
       "\u001B[2;36m                    \u001B[0m         \u001B[1;36m-0.3048815361672156\u001B[0m, \u001B[32m'initial_logit_target'\u001B[0m:     \u001B[2m                                     \u001B[0m\n",
       "\u001B[2;36m                    \u001B[0m         \u001B[1;36m-1.4718097448349\u001B[0m,                                \u001B[2m                                     \u001B[0m\n",
       "\u001B[2;36m                    \u001B[0m         \u001B[32m'initial_logit_best_non_target'\u001B[0m:                 \u001B[2m                                     \u001B[0m\n",
       "\u001B[2;36m                    \u001B[0m         \u001B[1;36m-1.7029584646224976\u001B[0m,                             \u001B[2m                                     \u001B[0m\n",
       "\u001B[2;36m                    \u001B[0m         \u001B[32m'initial_confidence_target'\u001B[0m: \u001B[1;36m0.2295097550237187\u001B[0m, \u001B[2m                                     \u001B[0m\n",
       "\u001B[2;36m                    \u001B[0m         \u001B[32m'initial_confidence_non_target'\u001B[0m:                 \u001B[2m                                     \u001B[0m\n",
       "\u001B[2;36m                    \u001B[0m         \u001B[1;36m0.18214385999184554\u001B[0m, \u001B[32m'initial_margin'\u001B[0m:           \u001B[2m                                     \u001B[0m\n",
       "\u001B[2;36m                    \u001B[0m         \u001B[1;36m0.04736589503187316\u001B[0m\u001B[1m}\u001B[0m                             \u001B[2m                                     \u001B[0m\n"
      ],
      "text/html": [
       "<pre style=\"white-space:pre;overflow-x:auto;line-height:normal;font-family:Menlo,'DejaVu Sans Mono',consolas,'Courier New',monospace\"><span style=\"color: #7fbfbf; text-decoration-color: #7fbfbf\">                    </span><span style=\"color: #000080; text-decoration-color: #000080\">INFO    </span> <span style=\"font-weight: bold\">{</span><span style=\"color: #008000; text-decoration-color: #008000\">'label'</span>: <span style=\"color: #008000; text-decoration-color: #008000\">'Vanilla GCN'</span>, <span style=\"color: #008000; text-decoration-color: #008000\">'epsilon'</span>: <span style=\"color: #008080; text-decoration-color: #008080; font-weight: bold\">1</span>,           <a href=\"file:///content/robustness_of_gnns_at_scale/experiments/experiment_local_attack_direct.py\" target=\"_blank\"><span style=\"color: #7f7f7f; text-decoration-color: #7f7f7f\">experiment_local_attack_direct.py</span></a><span style=\"color: #7f7f7f; text-decoration-color: #7f7f7f\">:</span><a href=\"file:///content/robustness_of_gnns_at_scale/experiments/experiment_local_attack_direct.py#215\" target=\"_blank\"><span style=\"color: #7f7f7f; text-decoration-color: #7f7f7f\">215</span></a>\n",
       "<span style=\"color: #7fbfbf; text-decoration-color: #7fbfbf\">                    </span>         <span style=\"color: #008000; text-decoration-color: #008000\">'n_perturbations'</span>: <span style=\"color: #008080; text-decoration-color: #008080; font-weight: bold\">9</span>, <span style=\"color: #008000; text-decoration-color: #008000\">'degree'</span>: <span style=\"color: #008080; text-decoration-color: #008080; font-weight: bold\">9</span>, <span style=\"color: #008000; text-decoration-color: #008000\">'logits'</span>:     <span style=\"color: #7f7f7f; text-decoration-color: #7f7f7f\">                                     </span>\n",
       "<span style=\"color: #7fbfbf; text-decoration-color: #7fbfbf\">                    </span>         <span style=\"font-weight: bold\">[[</span><span style=\"color: #008080; text-decoration-color: #008080; font-weight: bold\">0.19890302419662476</span>, <span style=\"color: #008080; text-decoration-color: #008080; font-weight: bold\">1.1940439939498901</span>,       <span style=\"color: #7f7f7f; text-decoration-color: #7f7f7f\">                                     </span>\n",
       "<span style=\"color: #7fbfbf; text-decoration-color: #7fbfbf\">                    </span>         <span style=\"color: #008080; text-decoration-color: #008080; font-weight: bold\">-0.9670045375823975</span>, <span style=\"color: #008080; text-decoration-color: #008080; font-weight: bold\">-0.3006896376609802</span>,        <span style=\"color: #7f7f7f; text-decoration-color: #7f7f7f\">                                     </span>\n",
       "<span style=\"color: #7fbfbf; text-decoration-color: #7fbfbf\">                    </span>         <span style=\"color: #008080; text-decoration-color: #008080; font-weight: bold\">-0.1330803632736206</span>, <span style=\"color: #008080; text-decoration-color: #008080; font-weight: bold\">0.17006635665893555</span>,        <span style=\"color: #7f7f7f; text-decoration-color: #7f7f7f\">                                     </span>\n",
       "<span style=\"color: #7fbfbf; text-decoration-color: #7fbfbf\">                    </span>         <span style=\"color: #008080; text-decoration-color: #008080; font-weight: bold\">-0.3634986877441406</span><span style=\"font-weight: bold\">]]</span>, <span style=\"color: #008000; text-decoration-color: #008000\">'initial_logits'</span>:         <span style=\"color: #7f7f7f; text-decoration-color: #7f7f7f\">                                     </span>\n",
       "<span style=\"color: #7fbfbf; text-decoration-color: #7fbfbf\">                    </span>         <span style=\"font-weight: bold\">[[</span><span style=\"color: #008080; text-decoration-color: #008080; font-weight: bold\">0.3648524582386017</span>, <span style=\"color: #008080; text-decoration-color: #008080; font-weight: bold\">0.37913087010383606</span>,       <span style=\"color: #7f7f7f; text-decoration-color: #7f7f7f\">                                     </span>\n",
       "<span style=\"color: #7fbfbf; text-decoration-color: #7fbfbf\">                    </span>         <span style=\"color: #008080; text-decoration-color: #008080; font-weight: bold\">-1.25045907497406</span>, <span style=\"color: #008080; text-decoration-color: #008080; font-weight: bold\">0.6102796196937561</span>,           <span style=\"color: #7f7f7f; text-decoration-color: #7f7f7f\">                                     </span>\n",
       "<span style=\"color: #7fbfbf; text-decoration-color: #7fbfbf\">                    </span>         <span style=\"color: #008080; text-decoration-color: #008080; font-weight: bold\">0.11482658982276917</span>, <span style=\"color: #008080; text-decoration-color: #008080; font-weight: bold\">0.3414773941040039</span>,         <span style=\"color: #7f7f7f; text-decoration-color: #7f7f7f\">                                     </span>\n",
       "<span style=\"color: #7fbfbf; text-decoration-color: #7fbfbf\">                    </span>         <span style=\"color: #008080; text-decoration-color: #008080; font-weight: bold\">-0.7681479454040527</span><span style=\"font-weight: bold\">]]</span>, <span style=\"color: #008000; text-decoration-color: #008000\">'larget'</span>: <span style=\"color: #008080; text-decoration-color: #008080; font-weight: bold\">3</span>, <span style=\"color: #008000; text-decoration-color: #008000\">'node_id'</span>:   <span style=\"color: #7f7f7f; text-decoration-color: #7f7f7f\">                                     </span>\n",
       "<span style=\"color: #7fbfbf; text-decoration-color: #7fbfbf\">                    </span>         <span style=\"color: #008080; text-decoration-color: #008080; font-weight: bold\">2105</span>, <span style=\"color: #008000; text-decoration-color: #008000\">'perturbed_edges'</span>: <span style=\"font-weight: bold\">[[</span><span style=\"color: #008080; text-decoration-color: #008080; font-weight: bold\">2105</span>, <span style=\"color: #008080; text-decoration-color: #008080; font-weight: bold\">2105</span>, <span style=\"color: #008080; text-decoration-color: #008080; font-weight: bold\">2105</span>,     <span style=\"color: #7f7f7f; text-decoration-color: #7f7f7f\">                                     </span>\n",
       "<span style=\"color: #7fbfbf; text-decoration-color: #7fbfbf\">                    </span>         <span style=\"color: #008080; text-decoration-color: #008080; font-weight: bold\">2105</span>, <span style=\"color: #008080; text-decoration-color: #008080; font-weight: bold\">2105</span>, <span style=\"color: #008080; text-decoration-color: #008080; font-weight: bold\">2105</span>, <span style=\"color: #008080; text-decoration-color: #008080; font-weight: bold\">2105</span>, <span style=\"color: #008080; text-decoration-color: #008080; font-weight: bold\">2105</span><span style=\"font-weight: bold\">]</span>, <span style=\"font-weight: bold\">[</span><span style=\"color: #008080; text-decoration-color: #008080; font-weight: bold\">47</span>, <span style=\"color: #008080; text-decoration-color: #008080; font-weight: bold\">1098</span>, <span style=\"color: #008080; text-decoration-color: #008080; font-weight: bold\">1189</span>,  <span style=\"color: #7f7f7f; text-decoration-color: #7f7f7f\">                                     </span>\n",
       "<span style=\"color: #7fbfbf; text-decoration-color: #7fbfbf\">                    </span>         <span style=\"color: #008080; text-decoration-color: #008080; font-weight: bold\">1386</span>, <span style=\"color: #008080; text-decoration-color: #008080; font-weight: bold\">1554</span>, <span style=\"color: #008080; text-decoration-color: #008080; font-weight: bold\">1886</span>, <span style=\"color: #008080; text-decoration-color: #008080; font-weight: bold\">2200</span>, <span style=\"color: #008080; text-decoration-color: #008080; font-weight: bold\">2312</span><span style=\"font-weight: bold\">]]</span>, <span style=\"color: #008000; text-decoration-color: #008000\">'logit_target'</span>:  <span style=\"color: #7f7f7f; text-decoration-color: #7f7f7f\">                                     </span>\n",
       "<span style=\"color: #7fbfbf; text-decoration-color: #7fbfbf\">                    </span>         <span style=\"color: #008080; text-decoration-color: #008080; font-weight: bold\">-2.428565502166748</span>, <span style=\"color: #008000; text-decoration-color: #008000\">'logit_best_non_target'</span>:     <span style=\"color: #7f7f7f; text-decoration-color: #7f7f7f\">                                     </span>\n",
       "<span style=\"color: #7fbfbf; text-decoration-color: #7fbfbf\">                    </span>         <span style=\"color: #008080; text-decoration-color: #008080; font-weight: bold\">-0.9338318109512329</span>, <span style=\"color: #008000; text-decoration-color: #008000\">'confidence_target'</span>:        <span style=\"color: #7f7f7f; text-decoration-color: #7f7f7f\">                                     </span>\n",
       "<span style=\"color: #7fbfbf; text-decoration-color: #7fbfbf\">                    </span>         <span style=\"color: #008080; text-decoration-color: #008080; font-weight: bold\">0.08816321185168056</span>, <span style=\"color: #008000; text-decoration-color: #008000\">'confidence_non_target'</span>:    <span style=\"color: #7f7f7f; text-decoration-color: #7f7f7f\">                                     </span>\n",
       "<span style=\"color: #7fbfbf; text-decoration-color: #7fbfbf\">                    </span>         <span style=\"color: #008080; text-decoration-color: #008080; font-weight: bold\">0.39304474801889616</span>, <span style=\"color: #008000; text-decoration-color: #008000\">'margin'</span>:                   <span style=\"color: #7f7f7f; text-decoration-color: #7f7f7f\">                                     </span>\n",
       "<span style=\"color: #7fbfbf; text-decoration-color: #7fbfbf\">                    </span>         <span style=\"color: #008080; text-decoration-color: #008080; font-weight: bold\">-0.3048815361672156</span>, <span style=\"color: #008000; text-decoration-color: #008000\">'initial_logit_target'</span>:     <span style=\"color: #7f7f7f; text-decoration-color: #7f7f7f\">                                     </span>\n",
       "<span style=\"color: #7fbfbf; text-decoration-color: #7fbfbf\">                    </span>         <span style=\"color: #008080; text-decoration-color: #008080; font-weight: bold\">-1.4718097448349</span>,                                <span style=\"color: #7f7f7f; text-decoration-color: #7f7f7f\">                                     </span>\n",
       "<span style=\"color: #7fbfbf; text-decoration-color: #7fbfbf\">                    </span>         <span style=\"color: #008000; text-decoration-color: #008000\">'initial_logit_best_non_target'</span>:                 <span style=\"color: #7f7f7f; text-decoration-color: #7f7f7f\">                                     </span>\n",
       "<span style=\"color: #7fbfbf; text-decoration-color: #7fbfbf\">                    </span>         <span style=\"color: #008080; text-decoration-color: #008080; font-weight: bold\">-1.7029584646224976</span>,                             <span style=\"color: #7f7f7f; text-decoration-color: #7f7f7f\">                                     </span>\n",
       "<span style=\"color: #7fbfbf; text-decoration-color: #7fbfbf\">                    </span>         <span style=\"color: #008000; text-decoration-color: #008000\">'initial_confidence_target'</span>: <span style=\"color: #008080; text-decoration-color: #008080; font-weight: bold\">0.2295097550237187</span>, <span style=\"color: #7f7f7f; text-decoration-color: #7f7f7f\">                                     </span>\n",
       "<span style=\"color: #7fbfbf; text-decoration-color: #7fbfbf\">                    </span>         <span style=\"color: #008000; text-decoration-color: #008000\">'initial_confidence_non_target'</span>:                 <span style=\"color: #7f7f7f; text-decoration-color: #7f7f7f\">                                     </span>\n",
       "<span style=\"color: #7fbfbf; text-decoration-color: #7fbfbf\">                    </span>         <span style=\"color: #008080; text-decoration-color: #008080; font-weight: bold\">0.18214385999184554</span>, <span style=\"color: #008000; text-decoration-color: #008000\">'initial_margin'</span>:           <span style=\"color: #7f7f7f; text-decoration-color: #7f7f7f\">                                     </span>\n",
       "<span style=\"color: #7fbfbf; text-decoration-color: #7fbfbf\">                    </span>         <span style=\"color: #008080; text-decoration-color: #008080; font-weight: bold\">0.04736589503187316</span><span style=\"font-weight: bold\">}</span>                             <span style=\"color: #7f7f7f; text-decoration-color: #7f7f7f\">                                     </span>\n",
       "</pre>\n"
      ]
     },
     "metadata": {}
    },
    {
     "output_type": "display_data",
     "data": {
      "text/plain": [
       "\u001B[2;36m                   \u001B[0m\u001B[2;36m \u001B[0m\u001B[34mINFO    \u001B[0m Completed attack and evaluation of Vanilla GCN   \u001B]8;id=905567;file:///content/robustness_of_gnns_at_scale/experiments/experiment_local_attack_direct.py\u001B\\\u001B[2mexperiment_local_attack_direct.py\u001B[0m\u001B]8;;\u001B\\\u001B[2m:\u001B[0m\u001B]8;id=237362;file:///content/robustness_of_gnns_at_scale/experiments/experiment_local_attack_direct.py#216\u001B\\\u001B[2m216\u001B[0m\u001B]8;;\u001B\\\n",
       "\u001B[2;36m                    \u001B[0m         using LocalPRBCD with pert. edges for node \u001B[1;36m2105\u001B[0m  \u001B[2m                                     \u001B[0m\n",
       "\u001B[2;36m                    \u001B[0m         and budget \u001B[1;36m9\u001B[0m                                     \u001B[2m                                     \u001B[0m\n"
      ],
      "text/html": [
       "<pre style=\"white-space:pre;overflow-x:auto;line-height:normal;font-family:Menlo,'DejaVu Sans Mono',consolas,'Courier New',monospace\"><span style=\"color: #7fbfbf; text-decoration-color: #7fbfbf\">                    </span><span style=\"color: #000080; text-decoration-color: #000080\">INFO    </span> Completed attack and evaluation of Vanilla GCN   <a href=\"file:///content/robustness_of_gnns_at_scale/experiments/experiment_local_attack_direct.py\" target=\"_blank\"><span style=\"color: #7f7f7f; text-decoration-color: #7f7f7f\">experiment_local_attack_direct.py</span></a><span style=\"color: #7f7f7f; text-decoration-color: #7f7f7f\">:</span><a href=\"file:///content/robustness_of_gnns_at_scale/experiments/experiment_local_attack_direct.py#216\" target=\"_blank\"><span style=\"color: #7f7f7f; text-decoration-color: #7f7f7f\">216</span></a>\n",
       "<span style=\"color: #7fbfbf; text-decoration-color: #7fbfbf\">                    </span>         using LocalPRBCD with pert. edges for node <span style=\"color: #008080; text-decoration-color: #008080; font-weight: bold\">2105</span>  <span style=\"color: #7f7f7f; text-decoration-color: #7f7f7f\">                                     </span>\n",
       "<span style=\"color: #7fbfbf; text-decoration-color: #7fbfbf\">                    </span>         and budget <span style=\"color: #008080; text-decoration-color: #008080; font-weight: bold\">9</span>                                     <span style=\"color: #7f7f7f; text-decoration-color: #7f7f7f\">                                     </span>\n",
       "</pre>\n"
      ]
     },
     "metadata": {}
    },
    {
     "output_type": "display_data",
     "data": {
      "text/plain": [
       "\u001B[2;36m[02/07/25 14:20:03]\u001B[0m\u001B[2;36m \u001B[0m\u001B[34mINFO    \u001B[0m Original: Loss: \u001B[1;36m-0.518047571182251\u001B[0m Statstics: \u001B[1m{\u001B[0m\u001B[32m'logit_target'\u001B[0m:       \u001B]8;id=265680;file:///content/robustness_of_gnns_at_scale/rgnn_at_scale/attacks/local_prbcd.py\u001B\\\u001B[2mlocal_prbcd.py\u001B[0m\u001B]8;;\u001B\\\u001B[2m:\u001B[0m\u001B]8;id=509310;file:///content/robustness_of_gnns_at_scale/rgnn_at_scale/attacks/local_prbcd.py#74\u001B\\\u001B[2m74\u001B[0m\u001B]8;;\u001B\\\n",
       "\u001B[2;36m                    \u001B[0m         \u001B[1;36m-0.8667964339256287\u001B[0m, \u001B[32m'logit_best_non_target'\u001B[0m: \u001B[1;36m-1.3848440647125244\u001B[0m,   \u001B[2m                 \u001B[0m\n",
       "\u001B[2;36m                    \u001B[0m         \u001B[32m'confidence_target'\u001B[0m: \u001B[1;36m0.42029584033058137\u001B[0m, \u001B[32m'confidence_non_target'\u001B[0m:   \u001B[2m                 \u001B[0m\n",
       "\u001B[2;36m                    \u001B[0m         \u001B[1;36m0.25036283714895025\u001B[0m, \u001B[32m'margin'\u001B[0m: \u001B[1;36m0.16993300318163113\u001B[0m\u001B[1m}\u001B[0m                  \u001B[2m                 \u001B[0m\n",
       "\u001B[2;36m                    \u001B[0m                                                                              \u001B[2m                 \u001B[0m\n"
      ],
      "text/html": [
       "<pre style=\"white-space:pre;overflow-x:auto;line-height:normal;font-family:Menlo,'DejaVu Sans Mono',consolas,'Courier New',monospace\"><span style=\"color: #7fbfbf; text-decoration-color: #7fbfbf\">[02/07/25 14:20:03] </span><span style=\"color: #000080; text-decoration-color: #000080\">INFO    </span> Original: Loss: <span style=\"color: #008080; text-decoration-color: #008080; font-weight: bold\">-0.518047571182251</span> Statstics: <span style=\"font-weight: bold\">{</span><span style=\"color: #008000; text-decoration-color: #008000\">'logit_target'</span>:       <a href=\"file:///content/robustness_of_gnns_at_scale/rgnn_at_scale/attacks/local_prbcd.py\" target=\"_blank\"><span style=\"color: #7f7f7f; text-decoration-color: #7f7f7f\">local_prbcd.py</span></a><span style=\"color: #7f7f7f; text-decoration-color: #7f7f7f\">:</span><a href=\"file:///content/robustness_of_gnns_at_scale/rgnn_at_scale/attacks/local_prbcd.py#74\" target=\"_blank\"><span style=\"color: #7f7f7f; text-decoration-color: #7f7f7f\">74</span></a>\n",
       "<span style=\"color: #7fbfbf; text-decoration-color: #7fbfbf\">                    </span>         <span style=\"color: #008080; text-decoration-color: #008080; font-weight: bold\">-0.8667964339256287</span>, <span style=\"color: #008000; text-decoration-color: #008000\">'logit_best_non_target'</span>: <span style=\"color: #008080; text-decoration-color: #008080; font-weight: bold\">-1.3848440647125244</span>,   <span style=\"color: #7f7f7f; text-decoration-color: #7f7f7f\">                 </span>\n",
       "<span style=\"color: #7fbfbf; text-decoration-color: #7fbfbf\">                    </span>         <span style=\"color: #008000; text-decoration-color: #008000\">'confidence_target'</span>: <span style=\"color: #008080; text-decoration-color: #008080; font-weight: bold\">0.42029584033058137</span>, <span style=\"color: #008000; text-decoration-color: #008000\">'confidence_non_target'</span>:   <span style=\"color: #7f7f7f; text-decoration-color: #7f7f7f\">                 </span>\n",
       "<span style=\"color: #7fbfbf; text-decoration-color: #7fbfbf\">                    </span>         <span style=\"color: #008080; text-decoration-color: #008080; font-weight: bold\">0.25036283714895025</span>, <span style=\"color: #008000; text-decoration-color: #008000\">'margin'</span>: <span style=\"color: #008080; text-decoration-color: #008080; font-weight: bold\">0.16993300318163113</span><span style=\"font-weight: bold\">}</span>                  <span style=\"color: #7f7f7f; text-decoration-color: #7f7f7f\">                 </span>\n",
       "<span style=\"color: #7fbfbf; text-decoration-color: #7fbfbf\">                    </span>                                                                              <span style=\"color: #7f7f7f; text-decoration-color: #7f7f7f\">                 </span>\n",
       "</pre>\n"
      ]
     },
     "metadata": {}
    },
    {
     "output_type": "stream",
     "name": "stderr",
     "text": [
      "\r  0%|          | 0/50 [00:00<?, ?it/s]"
     ]
    },
    {
     "output_type": "display_data",
     "data": {
      "text/plain": [
       "\u001B[2;36m[02/07/25 14:20:05]\u001B[0m\u001B[2;36m \u001B[0m\u001B[34mINFO    \u001B[0m Initial: Loss: \u001B[1;36m-0.5180469751358032\u001B[0m Statstics: \u001B[1m{\u001B[0m\u001B[32m'logit_target'\u001B[0m:       \u001B]8;id=212287;file:///content/robustness_of_gnns_at_scale/rgnn_at_scale/attacks/local_prbcd.py\u001B\\\u001B[2mlocal_prbcd.py\u001B[0m\u001B]8;;\u001B\\\u001B[2m:\u001B[0m\u001B]8;id=434534;file:///content/robustness_of_gnns_at_scale/rgnn_at_scale/attacks/local_prbcd.py#92\u001B\\\u001B[2m92\u001B[0m\u001B]8;;\u001B\\\n",
       "\u001B[2;36m                    \u001B[0m         \u001B[1;36m-0.8667967319488525\u001B[0m, \u001B[32m'logit_best_non_target'\u001B[0m: \u001B[1;36m-1.3848437070846558\u001B[0m,   \u001B[2m                 \u001B[0m\n",
       "\u001B[2;36m                    \u001B[0m         \u001B[32m'confidence_target'\u001B[0m: \u001B[1;36m0.42029571507267877\u001B[0m, \u001B[32m'confidence_non_target'\u001B[0m:   \u001B[2m                 \u001B[0m\n",
       "\u001B[2;36m                    \u001B[0m         \u001B[1;36m0.2503629266856941\u001B[0m, \u001B[32m'margin'\u001B[0m: \u001B[1;36m0.16993278838698467\u001B[0m\u001B[1m}\u001B[0m                   \u001B[2m                 \u001B[0m\n",
       "\u001B[2;36m                    \u001B[0m                                                                              \u001B[2m                 \u001B[0m\n"
      ],
      "text/html": [
       "<pre style=\"white-space:pre;overflow-x:auto;line-height:normal;font-family:Menlo,'DejaVu Sans Mono',consolas,'Courier New',monospace\"><span style=\"color: #7fbfbf; text-decoration-color: #7fbfbf\">[02/07/25 14:20:05] </span><span style=\"color: #000080; text-decoration-color: #000080\">INFO    </span> Initial: Loss: <span style=\"color: #008080; text-decoration-color: #008080; font-weight: bold\">-0.5180469751358032</span> Statstics: <span style=\"font-weight: bold\">{</span><span style=\"color: #008000; text-decoration-color: #008000\">'logit_target'</span>:       <a href=\"file:///content/robustness_of_gnns_at_scale/rgnn_at_scale/attacks/local_prbcd.py\" target=\"_blank\"><span style=\"color: #7f7f7f; text-decoration-color: #7f7f7f\">local_prbcd.py</span></a><span style=\"color: #7f7f7f; text-decoration-color: #7f7f7f\">:</span><a href=\"file:///content/robustness_of_gnns_at_scale/rgnn_at_scale/attacks/local_prbcd.py#92\" target=\"_blank\"><span style=\"color: #7f7f7f; text-decoration-color: #7f7f7f\">92</span></a>\n",
       "<span style=\"color: #7fbfbf; text-decoration-color: #7fbfbf\">                    </span>         <span style=\"color: #008080; text-decoration-color: #008080; font-weight: bold\">-0.8667967319488525</span>, <span style=\"color: #008000; text-decoration-color: #008000\">'logit_best_non_target'</span>: <span style=\"color: #008080; text-decoration-color: #008080; font-weight: bold\">-1.3848437070846558</span>,   <span style=\"color: #7f7f7f; text-decoration-color: #7f7f7f\">                 </span>\n",
       "<span style=\"color: #7fbfbf; text-decoration-color: #7fbfbf\">                    </span>         <span style=\"color: #008000; text-decoration-color: #008000\">'confidence_target'</span>: <span style=\"color: #008080; text-decoration-color: #008080; font-weight: bold\">0.42029571507267877</span>, <span style=\"color: #008000; text-decoration-color: #008000\">'confidence_non_target'</span>:   <span style=\"color: #7f7f7f; text-decoration-color: #7f7f7f\">                 </span>\n",
       "<span style=\"color: #7fbfbf; text-decoration-color: #7fbfbf\">                    </span>         <span style=\"color: #008080; text-decoration-color: #008080; font-weight: bold\">0.2503629266856941</span>, <span style=\"color: #008000; text-decoration-color: #008000\">'margin'</span>: <span style=\"color: #008080; text-decoration-color: #008080; font-weight: bold\">0.16993278838698467</span><span style=\"font-weight: bold\">}</span>                   <span style=\"color: #7f7f7f; text-decoration-color: #7f7f7f\">                 </span>\n",
       "<span style=\"color: #7fbfbf; text-decoration-color: #7fbfbf\">                    </span>                                                                              <span style=\"color: #7f7f7f; text-decoration-color: #7f7f7f\">                 </span>\n",
       "</pre>\n"
      ]
     },
     "metadata": {}
    },
    {
     "output_type": "display_data",
     "data": {
      "text/plain": [
       "\u001B[2;36m[02/07/25 14:20:07]\u001B[0m\u001B[2;36m \u001B[0m\u001B[34mINFO    \u001B[0m                                                                     \u001B]8;id=406903;file:///content/robustness_of_gnns_at_scale/rgnn_at_scale/attacks/local_prbcd.py\u001B\\\u001B[2mlocal_prbcd.py\u001B[0m\u001B]8;;\u001B\\\u001B[2m:\u001B[0m\u001B]8;id=267419;file:///content/robustness_of_gnns_at_scale/rgnn_at_scale/attacks/local_prbcd.py#113\u001B\\\u001B[2m113\u001B[0m\u001B]8;;\u001B\\\n",
       "\u001B[2;36m                    \u001B[0m         Epoch: \u001B[1;36m0\u001B[0m Loss: \u001B[1;36m-0.5180469751358032\u001B[0m Statstics: \u001B[1m{\u001B[0m\u001B[32m'logit_target'\u001B[0m:      \u001B[2m                  \u001B[0m\n",
       "\u001B[2;36m                    \u001B[0m         \u001B[1;36m-1.2016123533248901\u001B[0m, \u001B[32m'logit_best_non_target'\u001B[0m: \u001B[1;36m-1.1677577495574951\u001B[0m,  \u001B[2m                  \u001B[0m\n",
       "\u001B[2;36m                    \u001B[0m         \u001B[32m'confidence_target'\u001B[0m: \u001B[1;36m0.3007089717176309\u001B[0m, \u001B[32m'confidence_non_target'\u001B[0m:   \u001B[2m                  \u001B[0m\n",
       "\u001B[2;36m                    \u001B[0m         \u001B[1;36m0.31106364247427365\u001B[0m, \u001B[32m'margin'\u001B[0m: \u001B[1;36m-0.010354670756642759\u001B[0m\u001B[1m}\u001B[0m               \u001B[2m                  \u001B[0m\n",
       "\u001B[2;36m                    \u001B[0m                                                                             \u001B[2m                  \u001B[0m\n"
      ],
      "text/html": [
       "<pre style=\"white-space:pre;overflow-x:auto;line-height:normal;font-family:Menlo,'DejaVu Sans Mono',consolas,'Courier New',monospace\"><span style=\"color: #7fbfbf; text-decoration-color: #7fbfbf\">[02/07/25 14:20:07] </span><span style=\"color: #000080; text-decoration-color: #000080\">INFO    </span>                                                                     <a href=\"file:///content/robustness_of_gnns_at_scale/rgnn_at_scale/attacks/local_prbcd.py\" target=\"_blank\"><span style=\"color: #7f7f7f; text-decoration-color: #7f7f7f\">local_prbcd.py</span></a><span style=\"color: #7f7f7f; text-decoration-color: #7f7f7f\">:</span><a href=\"file:///content/robustness_of_gnns_at_scale/rgnn_at_scale/attacks/local_prbcd.py#113\" target=\"_blank\"><span style=\"color: #7f7f7f; text-decoration-color: #7f7f7f\">113</span></a>\n",
       "<span style=\"color: #7fbfbf; text-decoration-color: #7fbfbf\">                    </span>         Epoch: <span style=\"color: #008080; text-decoration-color: #008080; font-weight: bold\">0</span> Loss: <span style=\"color: #008080; text-decoration-color: #008080; font-weight: bold\">-0.5180469751358032</span> Statstics: <span style=\"font-weight: bold\">{</span><span style=\"color: #008000; text-decoration-color: #008000\">'logit_target'</span>:      <span style=\"color: #7f7f7f; text-decoration-color: #7f7f7f\">                  </span>\n",
       "<span style=\"color: #7fbfbf; text-decoration-color: #7fbfbf\">                    </span>         <span style=\"color: #008080; text-decoration-color: #008080; font-weight: bold\">-1.2016123533248901</span>, <span style=\"color: #008000; text-decoration-color: #008000\">'logit_best_non_target'</span>: <span style=\"color: #008080; text-decoration-color: #008080; font-weight: bold\">-1.1677577495574951</span>,  <span style=\"color: #7f7f7f; text-decoration-color: #7f7f7f\">                  </span>\n",
       "<span style=\"color: #7fbfbf; text-decoration-color: #7fbfbf\">                    </span>         <span style=\"color: #008000; text-decoration-color: #008000\">'confidence_target'</span>: <span style=\"color: #008080; text-decoration-color: #008080; font-weight: bold\">0.3007089717176309</span>, <span style=\"color: #008000; text-decoration-color: #008000\">'confidence_non_target'</span>:   <span style=\"color: #7f7f7f; text-decoration-color: #7f7f7f\">                  </span>\n",
       "<span style=\"color: #7fbfbf; text-decoration-color: #7fbfbf\">                    </span>         <span style=\"color: #008080; text-decoration-color: #008080; font-weight: bold\">0.31106364247427365</span>, <span style=\"color: #008000; text-decoration-color: #008000\">'margin'</span>: <span style=\"color: #008080; text-decoration-color: #008080; font-weight: bold\">-0.010354670756642759</span><span style=\"font-weight: bold\">}</span>               <span style=\"color: #7f7f7f; text-decoration-color: #7f7f7f\">                  </span>\n",
       "<span style=\"color: #7fbfbf; text-decoration-color: #7fbfbf\">                    </span>                                                                             <span style=\"color: #7f7f7f; text-decoration-color: #7f7f7f\">                  </span>\n",
       "</pre>\n"
      ]
     },
     "metadata": {}
    },
    {
     "output_type": "display_data",
     "data": {
      "text/plain": [
       "\u001B[2;36m                   \u001B[0m\u001B[2;36m \u001B[0m\u001B[34mINFO    \u001B[0m Gradient mean \u001B[1;36m0.30327340960502625\u001B[0m std \u001B[1;36m0.12967035174369812\u001B[0m with base \u001B]8;id=993035;file:///content/robustness_of_gnns_at_scale/rgnn_at_scale/attacks/local_prbcd.py\u001B\\\u001B[2mlocal_prbcd.py\u001B[0m\u001B]8;;\u001B\\\u001B[2m:\u001B[0m\u001B]8;id=529541;file:///content/robustness_of_gnns_at_scale/rgnn_at_scale/attacks/local_prbcd.py#114\u001B\\\u001B[2m114\u001B[0m\u001B]8;;\u001B\\\n",
       "\u001B[2;36m                    \u001B[0m         learning rate \u001B[1;36m0.05\u001B[0m                                                  \u001B[2m                  \u001B[0m\n"
      ],
      "text/html": [
       "<pre style=\"white-space:pre;overflow-x:auto;line-height:normal;font-family:Menlo,'DejaVu Sans Mono',consolas,'Courier New',monospace\"><span style=\"color: #7fbfbf; text-decoration-color: #7fbfbf\">                    </span><span style=\"color: #000080; text-decoration-color: #000080\">INFO    </span> Gradient mean <span style=\"color: #008080; text-decoration-color: #008080; font-weight: bold\">0.30327340960502625</span> std <span style=\"color: #008080; text-decoration-color: #008080; font-weight: bold\">0.12967035174369812</span> with base <a href=\"file:///content/robustness_of_gnns_at_scale/rgnn_at_scale/attacks/local_prbcd.py\" target=\"_blank\"><span style=\"color: #7f7f7f; text-decoration-color: #7f7f7f\">local_prbcd.py</span></a><span style=\"color: #7f7f7f; text-decoration-color: #7f7f7f\">:</span><a href=\"file:///content/robustness_of_gnns_at_scale/rgnn_at_scale/attacks/local_prbcd.py#114\" target=\"_blank\"><span style=\"color: #7f7f7f; text-decoration-color: #7f7f7f\">114</span></a>\n",
       "<span style=\"color: #7fbfbf; text-decoration-color: #7fbfbf\">                    </span>         learning rate <span style=\"color: #008080; text-decoration-color: #008080; font-weight: bold\">0.05</span>                                                  <span style=\"color: #7f7f7f; text-decoration-color: #7f7f7f\">                  </span>\n",
       "</pre>\n"
      ]
     },
     "metadata": {}
    },
    {
     "output_type": "stream",
     "name": "stderr",
     "text": [
      " 40%|████      | 20/50 [01:38<02:27,  4.92s/it]"
     ]
    },
    {
     "output_type": "display_data",
     "data": {
      "text/plain": [
       "\u001B[2;36m[02/07/25 14:21:47]\u001B[0m\u001B[2;36m \u001B[0m\u001B[34mINFO    \u001B[0m                                                                     \u001B]8;id=329859;file:///content/robustness_of_gnns_at_scale/rgnn_at_scale/attacks/local_prbcd.py\u001B\\\u001B[2mlocal_prbcd.py\u001B[0m\u001B]8;;\u001B\\\u001B[2m:\u001B[0m\u001B]8;id=717959;file:///content/robustness_of_gnns_at_scale/rgnn_at_scale/attacks/local_prbcd.py#113\u001B\\\u001B[2m113\u001B[0m\u001B]8;;\u001B\\\n",
       "\u001B[2;36m                    \u001B[0m         Epoch: \u001B[1;36m20\u001B[0m Loss: \u001B[1;36m1.5722019672393799\u001B[0m Statstics: \u001B[1m{\u001B[0m\u001B[32m'logit_target'\u001B[0m:      \u001B[2m                  \u001B[0m\n",
       "\u001B[2;36m                    \u001B[0m         \u001B[1;36m-2.175513982772827\u001B[0m, \u001B[32m'logit_best_non_target'\u001B[0m: \u001B[1;36m-0.5972084403038025\u001B[0m,   \u001B[2m                  \u001B[0m\n",
       "\u001B[2;36m                    \u001B[0m         \u001B[32m'confidence_target'\u001B[0m: \u001B[1;36m0.11354977604075751\u001B[0m, \u001B[32m'confidence_non_target'\u001B[0m:  \u001B[2m                  \u001B[0m\n",
       "\u001B[2;36m                    \u001B[0m         \u001B[1;36m0.5503458169205341\u001B[0m, \u001B[32m'margin'\u001B[0m: \u001B[1;36m-0.4367960408797766\u001B[0m\u001B[1m}\u001B[0m                  \u001B[2m                  \u001B[0m\n",
       "\u001B[2;36m                    \u001B[0m                                                                             \u001B[2m                  \u001B[0m\n"
      ],
      "text/html": [
       "<pre style=\"white-space:pre;overflow-x:auto;line-height:normal;font-family:Menlo,'DejaVu Sans Mono',consolas,'Courier New',monospace\"><span style=\"color: #7fbfbf; text-decoration-color: #7fbfbf\">[02/07/25 14:21:47] </span><span style=\"color: #000080; text-decoration-color: #000080\">INFO    </span>                                                                     <a href=\"file:///content/robustness_of_gnns_at_scale/rgnn_at_scale/attacks/local_prbcd.py\" target=\"_blank\"><span style=\"color: #7f7f7f; text-decoration-color: #7f7f7f\">local_prbcd.py</span></a><span style=\"color: #7f7f7f; text-decoration-color: #7f7f7f\">:</span><a href=\"file:///content/robustness_of_gnns_at_scale/rgnn_at_scale/attacks/local_prbcd.py#113\" target=\"_blank\"><span style=\"color: #7f7f7f; text-decoration-color: #7f7f7f\">113</span></a>\n",
       "<span style=\"color: #7fbfbf; text-decoration-color: #7fbfbf\">                    </span>         Epoch: <span style=\"color: #008080; text-decoration-color: #008080; font-weight: bold\">20</span> Loss: <span style=\"color: #008080; text-decoration-color: #008080; font-weight: bold\">1.5722019672393799</span> Statstics: <span style=\"font-weight: bold\">{</span><span style=\"color: #008000; text-decoration-color: #008000\">'logit_target'</span>:      <span style=\"color: #7f7f7f; text-decoration-color: #7f7f7f\">                  </span>\n",
       "<span style=\"color: #7fbfbf; text-decoration-color: #7fbfbf\">                    </span>         <span style=\"color: #008080; text-decoration-color: #008080; font-weight: bold\">-2.175513982772827</span>, <span style=\"color: #008000; text-decoration-color: #008000\">'logit_best_non_target'</span>: <span style=\"color: #008080; text-decoration-color: #008080; font-weight: bold\">-0.5972084403038025</span>,   <span style=\"color: #7f7f7f; text-decoration-color: #7f7f7f\">                  </span>\n",
       "<span style=\"color: #7fbfbf; text-decoration-color: #7fbfbf\">                    </span>         <span style=\"color: #008000; text-decoration-color: #008000\">'confidence_target'</span>: <span style=\"color: #008080; text-decoration-color: #008080; font-weight: bold\">0.11354977604075751</span>, <span style=\"color: #008000; text-decoration-color: #008000\">'confidence_non_target'</span>:  <span style=\"color: #7f7f7f; text-decoration-color: #7f7f7f\">                  </span>\n",
       "<span style=\"color: #7fbfbf; text-decoration-color: #7fbfbf\">                    </span>         <span style=\"color: #008080; text-decoration-color: #008080; font-weight: bold\">0.5503458169205341</span>, <span style=\"color: #008000; text-decoration-color: #008000\">'margin'</span>: <span style=\"color: #008080; text-decoration-color: #008080; font-weight: bold\">-0.4367960408797766</span><span style=\"font-weight: bold\">}</span>                  <span style=\"color: #7f7f7f; text-decoration-color: #7f7f7f\">                  </span>\n",
       "<span style=\"color: #7fbfbf; text-decoration-color: #7fbfbf\">                    </span>                                                                             <span style=\"color: #7f7f7f; text-decoration-color: #7f7f7f\">                  </span>\n",
       "</pre>\n"
      ]
     },
     "metadata": {}
    },
    {
     "output_type": "display_data",
     "data": {
      "text/plain": [
       "\u001B[2;36m                   \u001B[0m\u001B[2;36m \u001B[0m\u001B[34mINFO    \u001B[0m Gradient mean \u001B[1;36m0.07371141761541367\u001B[0m std \u001B[1;36m0.11345444619655609\u001B[0m with base \u001B]8;id=73823;file:///content/robustness_of_gnns_at_scale/rgnn_at_scale/attacks/local_prbcd.py\u001B\\\u001B[2mlocal_prbcd.py\u001B[0m\u001B]8;;\u001B\\\u001B[2m:\u001B[0m\u001B]8;id=628651;file:///content/robustness_of_gnns_at_scale/rgnn_at_scale/attacks/local_prbcd.py#114\u001B\\\u001B[2m114\u001B[0m\u001B]8;;\u001B\\\n",
       "\u001B[2;36m                    \u001B[0m         learning rate \u001B[1;36m0.05\u001B[0m                                                  \u001B[2m                  \u001B[0m\n"
      ],
      "text/html": [
       "<pre style=\"white-space:pre;overflow-x:auto;line-height:normal;font-family:Menlo,'DejaVu Sans Mono',consolas,'Courier New',monospace\"><span style=\"color: #7fbfbf; text-decoration-color: #7fbfbf\">                    </span><span style=\"color: #000080; text-decoration-color: #000080\">INFO    </span> Gradient mean <span style=\"color: #008080; text-decoration-color: #008080; font-weight: bold\">0.07371141761541367</span> std <span style=\"color: #008080; text-decoration-color: #008080; font-weight: bold\">0.11345444619655609</span> with base <a href=\"file:///content/robustness_of_gnns_at_scale/rgnn_at_scale/attacks/local_prbcd.py\" target=\"_blank\"><span style=\"color: #7f7f7f; text-decoration-color: #7f7f7f\">local_prbcd.py</span></a><span style=\"color: #7f7f7f; text-decoration-color: #7f7f7f\">:</span><a href=\"file:///content/robustness_of_gnns_at_scale/rgnn_at_scale/attacks/local_prbcd.py#114\" target=\"_blank\"><span style=\"color: #7f7f7f; text-decoration-color: #7f7f7f\">114</span></a>\n",
       "<span style=\"color: #7fbfbf; text-decoration-color: #7fbfbf\">                    </span>         learning rate <span style=\"color: #008080; text-decoration-color: #008080; font-weight: bold\">0.05</span>                                                  <span style=\"color: #7f7f7f; text-decoration-color: #7f7f7f\">                  </span>\n",
       "</pre>\n"
      ]
     },
     "metadata": {}
    },
    {
     "output_type": "stream",
     "name": "stderr",
     "text": [
      " 80%|████████  | 40/50 [03:18<00:49,  4.96s/it]"
     ]
    },
    {
     "output_type": "display_data",
     "data": {
      "text/plain": [
       "\u001B[2;36m[02/07/25 14:23:25]\u001B[0m\u001B[2;36m \u001B[0m\u001B[34mINFO    \u001B[0m                                                                     \u001B]8;id=566418;file:///content/robustness_of_gnns_at_scale/rgnn_at_scale/attacks/local_prbcd.py\u001B\\\u001B[2mlocal_prbcd.py\u001B[0m\u001B]8;;\u001B\\\u001B[2m:\u001B[0m\u001B]8;id=17355;file:///content/robustness_of_gnns_at_scale/rgnn_at_scale/attacks/local_prbcd.py#113\u001B\\\u001B[2m113\u001B[0m\u001B]8;;\u001B\\\n",
       "\u001B[2;36m                    \u001B[0m         Epoch: \u001B[1;36m40\u001B[0m Loss: \u001B[1;36m1.6536660194396973\u001B[0m Statstics: \u001B[1m{\u001B[0m\u001B[32m'logit_target'\u001B[0m:      \u001B[2m                  \u001B[0m\n",
       "\u001B[2;36m                    \u001B[0m         \u001B[1;36m-2.221522569656372\u001B[0m, \u001B[32m'logit_best_non_target'\u001B[0m: \u001B[1;36m-0.564985454082489\u001B[0m,    \u001B[2m                  \u001B[0m\n",
       "\u001B[2;36m                    \u001B[0m         \u001B[32m'confidence_target'\u001B[0m: \u001B[1;36m0.10844386971740279\u001B[0m, \u001B[32m'confidence_non_target'\u001B[0m:  \u001B[2m                  \u001B[0m\n",
       "\u001B[2;36m                    \u001B[0m         \u001B[1;36m0.5683684141374798\u001B[0m, \u001B[32m'margin'\u001B[0m: \u001B[1;36m-0.4599245444200771\u001B[0m\u001B[1m}\u001B[0m                  \u001B[2m                  \u001B[0m\n",
       "\u001B[2;36m                    \u001B[0m                                                                             \u001B[2m                  \u001B[0m\n"
      ],
      "text/html": [
       "<pre style=\"white-space:pre;overflow-x:auto;line-height:normal;font-family:Menlo,'DejaVu Sans Mono',consolas,'Courier New',monospace\"><span style=\"color: #7fbfbf; text-decoration-color: #7fbfbf\">[02/07/25 14:23:25] </span><span style=\"color: #000080; text-decoration-color: #000080\">INFO    </span>                                                                     <a href=\"file:///content/robustness_of_gnns_at_scale/rgnn_at_scale/attacks/local_prbcd.py\" target=\"_blank\"><span style=\"color: #7f7f7f; text-decoration-color: #7f7f7f\">local_prbcd.py</span></a><span style=\"color: #7f7f7f; text-decoration-color: #7f7f7f\">:</span><a href=\"file:///content/robustness_of_gnns_at_scale/rgnn_at_scale/attacks/local_prbcd.py#113\" target=\"_blank\"><span style=\"color: #7f7f7f; text-decoration-color: #7f7f7f\">113</span></a>\n",
       "<span style=\"color: #7fbfbf; text-decoration-color: #7fbfbf\">                    </span>         Epoch: <span style=\"color: #008080; text-decoration-color: #008080; font-weight: bold\">40</span> Loss: <span style=\"color: #008080; text-decoration-color: #008080; font-weight: bold\">1.6536660194396973</span> Statstics: <span style=\"font-weight: bold\">{</span><span style=\"color: #008000; text-decoration-color: #008000\">'logit_target'</span>:      <span style=\"color: #7f7f7f; text-decoration-color: #7f7f7f\">                  </span>\n",
       "<span style=\"color: #7fbfbf; text-decoration-color: #7fbfbf\">                    </span>         <span style=\"color: #008080; text-decoration-color: #008080; font-weight: bold\">-2.221522569656372</span>, <span style=\"color: #008000; text-decoration-color: #008000\">'logit_best_non_target'</span>: <span style=\"color: #008080; text-decoration-color: #008080; font-weight: bold\">-0.564985454082489</span>,    <span style=\"color: #7f7f7f; text-decoration-color: #7f7f7f\">                  </span>\n",
       "<span style=\"color: #7fbfbf; text-decoration-color: #7fbfbf\">                    </span>         <span style=\"color: #008000; text-decoration-color: #008000\">'confidence_target'</span>: <span style=\"color: #008080; text-decoration-color: #008080; font-weight: bold\">0.10844386971740279</span>, <span style=\"color: #008000; text-decoration-color: #008000\">'confidence_non_target'</span>:  <span style=\"color: #7f7f7f; text-decoration-color: #7f7f7f\">                  </span>\n",
       "<span style=\"color: #7fbfbf; text-decoration-color: #7fbfbf\">                    </span>         <span style=\"color: #008080; text-decoration-color: #008080; font-weight: bold\">0.5683684141374798</span>, <span style=\"color: #008000; text-decoration-color: #008000\">'margin'</span>: <span style=\"color: #008080; text-decoration-color: #008080; font-weight: bold\">-0.4599245444200771</span><span style=\"font-weight: bold\">}</span>                  <span style=\"color: #7f7f7f; text-decoration-color: #7f7f7f\">                  </span>\n",
       "<span style=\"color: #7fbfbf; text-decoration-color: #7fbfbf\">                    </span>                                                                             <span style=\"color: #7f7f7f; text-decoration-color: #7f7f7f\">                  </span>\n",
       "</pre>\n"
      ]
     },
     "metadata": {}
    },
    {
     "output_type": "display_data",
     "data": {
      "text/plain": [
       "\u001B[2;36m                   \u001B[0m\u001B[2;36m \u001B[0m\u001B[34mINFO    \u001B[0m Gradient mean \u001B[1;36m0.09050936251878738\u001B[0m std \u001B[1;36m0.11264076828956604\u001B[0m with base \u001B]8;id=566368;file:///content/robustness_of_gnns_at_scale/rgnn_at_scale/attacks/local_prbcd.py\u001B\\\u001B[2mlocal_prbcd.py\u001B[0m\u001B]8;;\u001B\\\u001B[2m:\u001B[0m\u001B]8;id=489364;file:///content/robustness_of_gnns_at_scale/rgnn_at_scale/attacks/local_prbcd.py#114\u001B\\\u001B[2m114\u001B[0m\u001B]8;;\u001B\\\n",
       "\u001B[2;36m                    \u001B[0m         learning rate \u001B[1;36m0.05\u001B[0m                                                  \u001B[2m                  \u001B[0m\n"
      ],
      "text/html": [
       "<pre style=\"white-space:pre;overflow-x:auto;line-height:normal;font-family:Menlo,'DejaVu Sans Mono',consolas,'Courier New',monospace\"><span style=\"color: #7fbfbf; text-decoration-color: #7fbfbf\">                    </span><span style=\"color: #000080; text-decoration-color: #000080\">INFO    </span> Gradient mean <span style=\"color: #008080; text-decoration-color: #008080; font-weight: bold\">0.09050936251878738</span> std <span style=\"color: #008080; text-decoration-color: #008080; font-weight: bold\">0.11264076828956604</span> with base <a href=\"file:///content/robustness_of_gnns_at_scale/rgnn_at_scale/attacks/local_prbcd.py\" target=\"_blank\"><span style=\"color: #7f7f7f; text-decoration-color: #7f7f7f\">local_prbcd.py</span></a><span style=\"color: #7f7f7f; text-decoration-color: #7f7f7f\">:</span><a href=\"file:///content/robustness_of_gnns_at_scale/rgnn_at_scale/attacks/local_prbcd.py#114\" target=\"_blank\"><span style=\"color: #7f7f7f; text-decoration-color: #7f7f7f\">114</span></a>\n",
       "<span style=\"color: #7fbfbf; text-decoration-color: #7fbfbf\">                    </span>         learning rate <span style=\"color: #008080; text-decoration-color: #008080; font-weight: bold\">0.05</span>                                                  <span style=\"color: #7f7f7f; text-decoration-color: #7f7f7f\">                  </span>\n",
       "</pre>\n"
      ]
     },
     "metadata": {}
    },
    {
     "output_type": "stream",
     "name": "stderr",
     "text": [
      "100%|██████████| 50/50 [04:09<00:00,  4.98s/it]\n"
     ]
    },
    {
     "output_type": "display_data",
     "data": {
      "text/plain": [
       "\u001B[2;36m[02/07/25 14:24:31]\u001B[0m\u001B[2;36m \u001B[0m\u001B[34mINFO    \u001B[0m Evaluated model Vanilla GCN using LocalPRBCD     \u001B]8;id=249256;file:///content/robustness_of_gnns_at_scale/experiments/experiment_local_attack_direct.py\u001B\\\u001B[2mexperiment_local_attack_direct.py\u001B[0m\u001B]8;;\u001B\\\u001B[2m:\u001B[0m\u001B]8;id=219674;file:///content/robustness_of_gnns_at_scale/experiments/experiment_local_attack_direct.py#194\u001B\\\u001B[2m194\u001B[0m\u001B]8;;\u001B\\\n",
       "\u001B[2;36m                    \u001B[0m         with pert. edges for node \u001B[1;36m2754\u001B[0m and budget \u001B[1;36m1\u001B[0m:     \u001B[2m                                     \u001B[0m\n"
      ],
      "text/html": [
       "<pre style=\"white-space:pre;overflow-x:auto;line-height:normal;font-family:Menlo,'DejaVu Sans Mono',consolas,'Courier New',monospace\"><span style=\"color: #7fbfbf; text-decoration-color: #7fbfbf\">[02/07/25 14:24:31] </span><span style=\"color: #000080; text-decoration-color: #000080\">INFO    </span> Evaluated model Vanilla GCN using LocalPRBCD     <a href=\"file:///content/robustness_of_gnns_at_scale/experiments/experiment_local_attack_direct.py\" target=\"_blank\"><span style=\"color: #7f7f7f; text-decoration-color: #7f7f7f\">experiment_local_attack_direct.py</span></a><span style=\"color: #7f7f7f; text-decoration-color: #7f7f7f\">:</span><a href=\"file:///content/robustness_of_gnns_at_scale/experiments/experiment_local_attack_direct.py#194\" target=\"_blank\"><span style=\"color: #7f7f7f; text-decoration-color: #7f7f7f\">194</span></a>\n",
       "<span style=\"color: #7fbfbf; text-decoration-color: #7fbfbf\">                    </span>         with pert. edges for node <span style=\"color: #008080; text-decoration-color: #008080; font-weight: bold\">2754</span> and budget <span style=\"color: #008080; text-decoration-color: #008080; font-weight: bold\">1</span>:     <span style=\"color: #7f7f7f; text-decoration-color: #7f7f7f\">                                     </span>\n",
       "</pre>\n"
      ]
     },
     "metadata": {}
    },
    {
     "output_type": "display_data",
     "data": {
      "text/plain": [
       "\u001B[2;36m                   \u001B[0m\u001B[2;36m \u001B[0m\u001B[34mINFO    \u001B[0m \u001B[1m{\u001B[0m\u001B[32m'label'\u001B[0m: \u001B[32m'Vanilla GCN'\u001B[0m, \u001B[32m'epsilon'\u001B[0m: \u001B[1;36m1\u001B[0m,           \u001B]8;id=809761;file:///content/robustness_of_gnns_at_scale/experiments/experiment_local_attack_direct.py\u001B\\\u001B[2mexperiment_local_attack_direct.py\u001B[0m\u001B]8;;\u001B\\\u001B[2m:\u001B[0m\u001B]8;id=919336;file:///content/robustness_of_gnns_at_scale/experiments/experiment_local_attack_direct.py#215\u001B\\\u001B[2m215\u001B[0m\u001B]8;;\u001B\\\n",
       "\u001B[2;36m                    \u001B[0m         \u001B[32m'n_perturbations'\u001B[0m: \u001B[1;36m1\u001B[0m, \u001B[32m'degree'\u001B[0m: \u001B[1;36m1\u001B[0m, \u001B[32m'logits'\u001B[0m:     \u001B[2m                                     \u001B[0m\n",
       "\u001B[2;36m                    \u001B[0m         \u001B[1m[\u001B[0m\u001B[1m[\u001B[0m\u001B[1;36m-1.0587369203567505\u001B[0m, \u001B[1;36m2.437216281890869\u001B[0m,        \u001B[2m                                     \u001B[0m\n",
       "\u001B[2;36m                    \u001B[0m         \u001B[1;36m-1.1243767738342285\u001B[0m, \u001B[1;36m0.7031921744346619\u001B[0m,         \u001B[2m                                     \u001B[0m\n",
       "\u001B[2;36m                    \u001B[0m         \u001B[1;36m1.0129375457763672\u001B[0m, \u001B[1;36m-1.1822229623794556\u001B[0m,         \u001B[2m                                     \u001B[0m\n",
       "\u001B[2;36m                    \u001B[0m         \u001B[1;36m-1.0024089813232422\u001B[0m\u001B[1m]\u001B[0m\u001B[1m]\u001B[0m, \u001B[32m'initial_logits'\u001B[0m:         \u001B[2m                                     \u001B[0m\n",
       "\u001B[2;36m                    \u001B[0m         \u001B[1m[\u001B[0m\u001B[1m[\u001B[0m\u001B[1;36m-1.3485153913497925\u001B[0m, \u001B[1;36m1.256791353225708\u001B[0m,        \u001B[2m                                     \u001B[0m\n",
       "\u001B[2;36m                    \u001B[0m         \u001B[1;36m-0.9322404861450195\u001B[0m, \u001B[1;36m1.774838924407959\u001B[0m,          \u001B[2m                                     \u001B[0m\n",
       "\u001B[2;36m                    \u001B[0m         \u001B[1;36m1.1852469444274902\u001B[0m, \u001B[1;36m-1.2754199504852295\u001B[0m,         \u001B[2m                                     \u001B[0m\n",
       "\u001B[2;36m                    \u001B[0m         \u001B[1;36m-0.8708934783935547\u001B[0m\u001B[1m]\u001B[0m\u001B[1m]\u001B[0m, \u001B[32m'larget'\u001B[0m: \u001B[1;36m3\u001B[0m, \u001B[32m'node_id'\u001B[0m:   \u001B[2m                                     \u001B[0m\n",
       "\u001B[2;36m                    \u001B[0m         \u001B[1;36m2754\u001B[0m, \u001B[32m'perturbed_edges'\u001B[0m: \u001B[1m[\u001B[0m\u001B[1m[\u001B[0m\u001B[1;36m2754\u001B[0m\u001B[1m]\u001B[0m, \u001B[1m[\u001B[0m\u001B[1;36m2681\u001B[0m\u001B[1m]\u001B[0m\u001B[1m]\u001B[0m,       \u001B[2m                                     \u001B[0m\n",
       "\u001B[2;36m                    \u001B[0m         \u001B[32m'logit_target'\u001B[0m: \u001B[1;36m-2.1624515056610107\u001B[0m,             \u001B[2m                                     \u001B[0m\n",
       "\u001B[2;36m                    \u001B[0m         \u001B[32m'logit_best_non_target'\u001B[0m: \u001B[1;36m-0.428427517414093\u001B[0m,     \u001B[2m                                     \u001B[0m\n",
       "\u001B[2;36m                    \u001B[0m         \u001B[32m'confidence_target'\u001B[0m: \u001B[1;36m0.11504274711303826\u001B[0m,        \u001B[2m                                     \u001B[0m\n",
       "\u001B[2;36m                    \u001B[0m         \u001B[32m'confidence_non_target'\u001B[0m: \u001B[1;36m0.6515328136258707\u001B[0m,     \u001B[2m                                     \u001B[0m\n",
       "\u001B[2;36m                    \u001B[0m         \u001B[32m'margin'\u001B[0m: \u001B[1;36m-0.5364900665128324\u001B[0m,                   \u001B[2m                                     \u001B[0m\n",
       "\u001B[2;36m                    \u001B[0m         \u001B[32m'initial_logit_target'\u001B[0m: \u001B[1;36m-0.8667964339256287\u001B[0m,     \u001B[2m                                     \u001B[0m\n",
       "\u001B[2;36m                    \u001B[0m         \u001B[32m'initial_logit_best_non_target'\u001B[0m:                 \u001B[2m                                     \u001B[0m\n",
       "\u001B[2;36m                    \u001B[0m         \u001B[1;36m-1.3848440647125244\u001B[0m,                             \u001B[2m                                     \u001B[0m\n",
       "\u001B[2;36m                    \u001B[0m         \u001B[32m'initial_confidence_target'\u001B[0m:                     \u001B[2m                                     \u001B[0m\n",
       "\u001B[2;36m                    \u001B[0m         \u001B[1;36m0.42029584033058137\u001B[0m,                             \u001B[2m                                     \u001B[0m\n",
       "\u001B[2;36m                    \u001B[0m         \u001B[32m'initial_confidence_non_target'\u001B[0m:                 \u001B[2m                                     \u001B[0m\n",
       "\u001B[2;36m                    \u001B[0m         \u001B[1;36m0.25036283714895025\u001B[0m, \u001B[32m'initial_margin'\u001B[0m:           \u001B[2m                                     \u001B[0m\n",
       "\u001B[2;36m                    \u001B[0m         \u001B[1;36m0.16993300318163113\u001B[0m\u001B[1m}\u001B[0m                             \u001B[2m                                     \u001B[0m\n"
      ],
      "text/html": [
       "<pre style=\"white-space:pre;overflow-x:auto;line-height:normal;font-family:Menlo,'DejaVu Sans Mono',consolas,'Courier New',monospace\"><span style=\"color: #7fbfbf; text-decoration-color: #7fbfbf\">                    </span><span style=\"color: #000080; text-decoration-color: #000080\">INFO    </span> <span style=\"font-weight: bold\">{</span><span style=\"color: #008000; text-decoration-color: #008000\">'label'</span>: <span style=\"color: #008000; text-decoration-color: #008000\">'Vanilla GCN'</span>, <span style=\"color: #008000; text-decoration-color: #008000\">'epsilon'</span>: <span style=\"color: #008080; text-decoration-color: #008080; font-weight: bold\">1</span>,           <a href=\"file:///content/robustness_of_gnns_at_scale/experiments/experiment_local_attack_direct.py\" target=\"_blank\"><span style=\"color: #7f7f7f; text-decoration-color: #7f7f7f\">experiment_local_attack_direct.py</span></a><span style=\"color: #7f7f7f; text-decoration-color: #7f7f7f\">:</span><a href=\"file:///content/robustness_of_gnns_at_scale/experiments/experiment_local_attack_direct.py#215\" target=\"_blank\"><span style=\"color: #7f7f7f; text-decoration-color: #7f7f7f\">215</span></a>\n",
       "<span style=\"color: #7fbfbf; text-decoration-color: #7fbfbf\">                    </span>         <span style=\"color: #008000; text-decoration-color: #008000\">'n_perturbations'</span>: <span style=\"color: #008080; text-decoration-color: #008080; font-weight: bold\">1</span>, <span style=\"color: #008000; text-decoration-color: #008000\">'degree'</span>: <span style=\"color: #008080; text-decoration-color: #008080; font-weight: bold\">1</span>, <span style=\"color: #008000; text-decoration-color: #008000\">'logits'</span>:     <span style=\"color: #7f7f7f; text-decoration-color: #7f7f7f\">                                     </span>\n",
       "<span style=\"color: #7fbfbf; text-decoration-color: #7fbfbf\">                    </span>         <span style=\"font-weight: bold\">[[</span><span style=\"color: #008080; text-decoration-color: #008080; font-weight: bold\">-1.0587369203567505</span>, <span style=\"color: #008080; text-decoration-color: #008080; font-weight: bold\">2.437216281890869</span>,        <span style=\"color: #7f7f7f; text-decoration-color: #7f7f7f\">                                     </span>\n",
       "<span style=\"color: #7fbfbf; text-decoration-color: #7fbfbf\">                    </span>         <span style=\"color: #008080; text-decoration-color: #008080; font-weight: bold\">-1.1243767738342285</span>, <span style=\"color: #008080; text-decoration-color: #008080; font-weight: bold\">0.7031921744346619</span>,         <span style=\"color: #7f7f7f; text-decoration-color: #7f7f7f\">                                     </span>\n",
       "<span style=\"color: #7fbfbf; text-decoration-color: #7fbfbf\">                    </span>         <span style=\"color: #008080; text-decoration-color: #008080; font-weight: bold\">1.0129375457763672</span>, <span style=\"color: #008080; text-decoration-color: #008080; font-weight: bold\">-1.1822229623794556</span>,         <span style=\"color: #7f7f7f; text-decoration-color: #7f7f7f\">                                     </span>\n",
       "<span style=\"color: #7fbfbf; text-decoration-color: #7fbfbf\">                    </span>         <span style=\"color: #008080; text-decoration-color: #008080; font-weight: bold\">-1.0024089813232422</span><span style=\"font-weight: bold\">]]</span>, <span style=\"color: #008000; text-decoration-color: #008000\">'initial_logits'</span>:         <span style=\"color: #7f7f7f; text-decoration-color: #7f7f7f\">                                     </span>\n",
       "<span style=\"color: #7fbfbf; text-decoration-color: #7fbfbf\">                    </span>         <span style=\"font-weight: bold\">[[</span><span style=\"color: #008080; text-decoration-color: #008080; font-weight: bold\">-1.3485153913497925</span>, <span style=\"color: #008080; text-decoration-color: #008080; font-weight: bold\">1.256791353225708</span>,        <span style=\"color: #7f7f7f; text-decoration-color: #7f7f7f\">                                     </span>\n",
       "<span style=\"color: #7fbfbf; text-decoration-color: #7fbfbf\">                    </span>         <span style=\"color: #008080; text-decoration-color: #008080; font-weight: bold\">-0.9322404861450195</span>, <span style=\"color: #008080; text-decoration-color: #008080; font-weight: bold\">1.774838924407959</span>,          <span style=\"color: #7f7f7f; text-decoration-color: #7f7f7f\">                                     </span>\n",
       "<span style=\"color: #7fbfbf; text-decoration-color: #7fbfbf\">                    </span>         <span style=\"color: #008080; text-decoration-color: #008080; font-weight: bold\">1.1852469444274902</span>, <span style=\"color: #008080; text-decoration-color: #008080; font-weight: bold\">-1.2754199504852295</span>,         <span style=\"color: #7f7f7f; text-decoration-color: #7f7f7f\">                                     </span>\n",
       "<span style=\"color: #7fbfbf; text-decoration-color: #7fbfbf\">                    </span>         <span style=\"color: #008080; text-decoration-color: #008080; font-weight: bold\">-0.8708934783935547</span><span style=\"font-weight: bold\">]]</span>, <span style=\"color: #008000; text-decoration-color: #008000\">'larget'</span>: <span style=\"color: #008080; text-decoration-color: #008080; font-weight: bold\">3</span>, <span style=\"color: #008000; text-decoration-color: #008000\">'node_id'</span>:   <span style=\"color: #7f7f7f; text-decoration-color: #7f7f7f\">                                     </span>\n",
       "<span style=\"color: #7fbfbf; text-decoration-color: #7fbfbf\">                    </span>         <span style=\"color: #008080; text-decoration-color: #008080; font-weight: bold\">2754</span>, <span style=\"color: #008000; text-decoration-color: #008000\">'perturbed_edges'</span>: <span style=\"font-weight: bold\">[[</span><span style=\"color: #008080; text-decoration-color: #008080; font-weight: bold\">2754</span><span style=\"font-weight: bold\">]</span>, <span style=\"font-weight: bold\">[</span><span style=\"color: #008080; text-decoration-color: #008080; font-weight: bold\">2681</span><span style=\"font-weight: bold\">]]</span>,       <span style=\"color: #7f7f7f; text-decoration-color: #7f7f7f\">                                     </span>\n",
       "<span style=\"color: #7fbfbf; text-decoration-color: #7fbfbf\">                    </span>         <span style=\"color: #008000; text-decoration-color: #008000\">'logit_target'</span>: <span style=\"color: #008080; text-decoration-color: #008080; font-weight: bold\">-2.1624515056610107</span>,             <span style=\"color: #7f7f7f; text-decoration-color: #7f7f7f\">                                     </span>\n",
       "<span style=\"color: #7fbfbf; text-decoration-color: #7fbfbf\">                    </span>         <span style=\"color: #008000; text-decoration-color: #008000\">'logit_best_non_target'</span>: <span style=\"color: #008080; text-decoration-color: #008080; font-weight: bold\">-0.428427517414093</span>,     <span style=\"color: #7f7f7f; text-decoration-color: #7f7f7f\">                                     </span>\n",
       "<span style=\"color: #7fbfbf; text-decoration-color: #7fbfbf\">                    </span>         <span style=\"color: #008000; text-decoration-color: #008000\">'confidence_target'</span>: <span style=\"color: #008080; text-decoration-color: #008080; font-weight: bold\">0.11504274711303826</span>,        <span style=\"color: #7f7f7f; text-decoration-color: #7f7f7f\">                                     </span>\n",
       "<span style=\"color: #7fbfbf; text-decoration-color: #7fbfbf\">                    </span>         <span style=\"color: #008000; text-decoration-color: #008000\">'confidence_non_target'</span>: <span style=\"color: #008080; text-decoration-color: #008080; font-weight: bold\">0.6515328136258707</span>,     <span style=\"color: #7f7f7f; text-decoration-color: #7f7f7f\">                                     </span>\n",
       "<span style=\"color: #7fbfbf; text-decoration-color: #7fbfbf\">                    </span>         <span style=\"color: #008000; text-decoration-color: #008000\">'margin'</span>: <span style=\"color: #008080; text-decoration-color: #008080; font-weight: bold\">-0.5364900665128324</span>,                   <span style=\"color: #7f7f7f; text-decoration-color: #7f7f7f\">                                     </span>\n",
       "<span style=\"color: #7fbfbf; text-decoration-color: #7fbfbf\">                    </span>         <span style=\"color: #008000; text-decoration-color: #008000\">'initial_logit_target'</span>: <span style=\"color: #008080; text-decoration-color: #008080; font-weight: bold\">-0.8667964339256287</span>,     <span style=\"color: #7f7f7f; text-decoration-color: #7f7f7f\">                                     </span>\n",
       "<span style=\"color: #7fbfbf; text-decoration-color: #7fbfbf\">                    </span>         <span style=\"color: #008000; text-decoration-color: #008000\">'initial_logit_best_non_target'</span>:                 <span style=\"color: #7f7f7f; text-decoration-color: #7f7f7f\">                                     </span>\n",
       "<span style=\"color: #7fbfbf; text-decoration-color: #7fbfbf\">                    </span>         <span style=\"color: #008080; text-decoration-color: #008080; font-weight: bold\">-1.3848440647125244</span>,                             <span style=\"color: #7f7f7f; text-decoration-color: #7f7f7f\">                                     </span>\n",
       "<span style=\"color: #7fbfbf; text-decoration-color: #7fbfbf\">                    </span>         <span style=\"color: #008000; text-decoration-color: #008000\">'initial_confidence_target'</span>:                     <span style=\"color: #7f7f7f; text-decoration-color: #7f7f7f\">                                     </span>\n",
       "<span style=\"color: #7fbfbf; text-decoration-color: #7fbfbf\">                    </span>         <span style=\"color: #008080; text-decoration-color: #008080; font-weight: bold\">0.42029584033058137</span>,                             <span style=\"color: #7f7f7f; text-decoration-color: #7f7f7f\">                                     </span>\n",
       "<span style=\"color: #7fbfbf; text-decoration-color: #7fbfbf\">                    </span>         <span style=\"color: #008000; text-decoration-color: #008000\">'initial_confidence_non_target'</span>:                 <span style=\"color: #7f7f7f; text-decoration-color: #7f7f7f\">                                     </span>\n",
       "<span style=\"color: #7fbfbf; text-decoration-color: #7fbfbf\">                    </span>         <span style=\"color: #008080; text-decoration-color: #008080; font-weight: bold\">0.25036283714895025</span>, <span style=\"color: #008000; text-decoration-color: #008000\">'initial_margin'</span>:           <span style=\"color: #7f7f7f; text-decoration-color: #7f7f7f\">                                     </span>\n",
       "<span style=\"color: #7fbfbf; text-decoration-color: #7fbfbf\">                    </span>         <span style=\"color: #008080; text-decoration-color: #008080; font-weight: bold\">0.16993300318163113</span><span style=\"font-weight: bold\">}</span>                             <span style=\"color: #7f7f7f; text-decoration-color: #7f7f7f\">                                     </span>\n",
       "</pre>\n"
      ]
     },
     "metadata": {}
    },
    {
     "output_type": "display_data",
     "data": {
      "text/plain": [
       "\u001B[2;36m                   \u001B[0m\u001B[2;36m \u001B[0m\u001B[34mINFO    \u001B[0m Completed attack and evaluation of Vanilla GCN   \u001B]8;id=326744;file:///content/robustness_of_gnns_at_scale/experiments/experiment_local_attack_direct.py\u001B\\\u001B[2mexperiment_local_attack_direct.py\u001B[0m\u001B]8;;\u001B\\\u001B[2m:\u001B[0m\u001B]8;id=2900;file:///content/robustness_of_gnns_at_scale/experiments/experiment_local_attack_direct.py#216\u001B\\\u001B[2m216\u001B[0m\u001B]8;;\u001B\\\n",
       "\u001B[2;36m                    \u001B[0m         using LocalPRBCD with pert. edges for node \u001B[1;36m2754\u001B[0m  \u001B[2m                                     \u001B[0m\n",
       "\u001B[2;36m                    \u001B[0m         and budget \u001B[1;36m1\u001B[0m                                     \u001B[2m                                     \u001B[0m\n"
      ],
      "text/html": [
       "<pre style=\"white-space:pre;overflow-x:auto;line-height:normal;font-family:Menlo,'DejaVu Sans Mono',consolas,'Courier New',monospace\"><span style=\"color: #7fbfbf; text-decoration-color: #7fbfbf\">                    </span><span style=\"color: #000080; text-decoration-color: #000080\">INFO    </span> Completed attack and evaluation of Vanilla GCN   <a href=\"file:///content/robustness_of_gnns_at_scale/experiments/experiment_local_attack_direct.py\" target=\"_blank\"><span style=\"color: #7f7f7f; text-decoration-color: #7f7f7f\">experiment_local_attack_direct.py</span></a><span style=\"color: #7f7f7f; text-decoration-color: #7f7f7f\">:</span><a href=\"file:///content/robustness_of_gnns_at_scale/experiments/experiment_local_attack_direct.py#216\" target=\"_blank\"><span style=\"color: #7f7f7f; text-decoration-color: #7f7f7f\">216</span></a>\n",
       "<span style=\"color: #7fbfbf; text-decoration-color: #7fbfbf\">                    </span>         using LocalPRBCD with pert. edges for node <span style=\"color: #008080; text-decoration-color: #008080; font-weight: bold\">2754</span>  <span style=\"color: #7f7f7f; text-decoration-color: #7f7f7f\">                                     </span>\n",
       "<span style=\"color: #7fbfbf; text-decoration-color: #7fbfbf\">                    </span>         and budget <span style=\"color: #008080; text-decoration-color: #008080; font-weight: bold\">1</span>                                     <span style=\"color: #7f7f7f; text-decoration-color: #7f7f7f\">                                     </span>\n",
       "</pre>\n"
      ]
     },
     "metadata": {}
    },
    {
     "output_type": "display_data",
     "data": {
      "text/plain": [
       "\u001B[2;36m[02/07/25 14:24:33]\u001B[0m\u001B[2;36m \u001B[0m\u001B[34mINFO    \u001B[0m Original: Loss: \u001B[1;36m-1.3192821741104126\u001B[0m Statstics: \u001B[1m{\u001B[0m\u001B[32m'logit_target'\u001B[0m:      \u001B]8;id=212234;file:///content/robustness_of_gnns_at_scale/rgnn_at_scale/attacks/local_prbcd.py\u001B\\\u001B[2mlocal_prbcd.py\u001B[0m\u001B]8;;\u001B\\\u001B[2m:\u001B[0m\u001B]8;id=256807;file:///content/robustness_of_gnns_at_scale/rgnn_at_scale/attacks/local_prbcd.py#74\u001B\\\u001B[2m74\u001B[0m\u001B]8;;\u001B\\\n",
       "\u001B[2;36m                    \u001B[0m         \u001B[1;36m-0.4825585186481476\u001B[0m, \u001B[32m'logit_best_non_target'\u001B[0m: \u001B[1;36m-1.8018406629562378\u001B[0m,   \u001B[2m                 \u001B[0m\n",
       "\u001B[2;36m                    \u001B[0m         \u001B[32m'confidence_target'\u001B[0m: \u001B[1;36m0.6172022465164124\u001B[0m, \u001B[32m'confidence_non_target'\u001B[0m:    \u001B[2m                 \u001B[0m\n",
       "\u001B[2;36m                    \u001B[0m         \u001B[1;36m0.16499490852923396\u001B[0m, \u001B[32m'margin'\u001B[0m: \u001B[1;36m0.4522073379871785\u001B[0m\u001B[1m}\u001B[0m                   \u001B[2m                 \u001B[0m\n",
       "\u001B[2;36m                    \u001B[0m                                                                              \u001B[2m                 \u001B[0m\n"
      ],
      "text/html": [
       "<pre style=\"white-space:pre;overflow-x:auto;line-height:normal;font-family:Menlo,'DejaVu Sans Mono',consolas,'Courier New',monospace\"><span style=\"color: #7fbfbf; text-decoration-color: #7fbfbf\">[02/07/25 14:24:33] </span><span style=\"color: #000080; text-decoration-color: #000080\">INFO    </span> Original: Loss: <span style=\"color: #008080; text-decoration-color: #008080; font-weight: bold\">-1.3192821741104126</span> Statstics: <span style=\"font-weight: bold\">{</span><span style=\"color: #008000; text-decoration-color: #008000\">'logit_target'</span>:      <a href=\"file:///content/robustness_of_gnns_at_scale/rgnn_at_scale/attacks/local_prbcd.py\" target=\"_blank\"><span style=\"color: #7f7f7f; text-decoration-color: #7f7f7f\">local_prbcd.py</span></a><span style=\"color: #7f7f7f; text-decoration-color: #7f7f7f\">:</span><a href=\"file:///content/robustness_of_gnns_at_scale/rgnn_at_scale/attacks/local_prbcd.py#74\" target=\"_blank\"><span style=\"color: #7f7f7f; text-decoration-color: #7f7f7f\">74</span></a>\n",
       "<span style=\"color: #7fbfbf; text-decoration-color: #7fbfbf\">                    </span>         <span style=\"color: #008080; text-decoration-color: #008080; font-weight: bold\">-0.4825585186481476</span>, <span style=\"color: #008000; text-decoration-color: #008000\">'logit_best_non_target'</span>: <span style=\"color: #008080; text-decoration-color: #008080; font-weight: bold\">-1.8018406629562378</span>,   <span style=\"color: #7f7f7f; text-decoration-color: #7f7f7f\">                 </span>\n",
       "<span style=\"color: #7fbfbf; text-decoration-color: #7fbfbf\">                    </span>         <span style=\"color: #008000; text-decoration-color: #008000\">'confidence_target'</span>: <span style=\"color: #008080; text-decoration-color: #008080; font-weight: bold\">0.6172022465164124</span>, <span style=\"color: #008000; text-decoration-color: #008000\">'confidence_non_target'</span>:    <span style=\"color: #7f7f7f; text-decoration-color: #7f7f7f\">                 </span>\n",
       "<span style=\"color: #7fbfbf; text-decoration-color: #7fbfbf\">                    </span>         <span style=\"color: #008080; text-decoration-color: #008080; font-weight: bold\">0.16499490852923396</span>, <span style=\"color: #008000; text-decoration-color: #008000\">'margin'</span>: <span style=\"color: #008080; text-decoration-color: #008080; font-weight: bold\">0.4522073379871785</span><span style=\"font-weight: bold\">}</span>                   <span style=\"color: #7f7f7f; text-decoration-color: #7f7f7f\">                 </span>\n",
       "<span style=\"color: #7fbfbf; text-decoration-color: #7fbfbf\">                    </span>                                                                              <span style=\"color: #7f7f7f; text-decoration-color: #7f7f7f\">                 </span>\n",
       "</pre>\n"
      ]
     },
     "metadata": {}
    },
    {
     "output_type": "stream",
     "name": "stderr",
     "text": [
      "\r  0%|          | 0/50 [00:00<?, ?it/s]"
     ]
    },
    {
     "output_type": "display_data",
     "data": {
      "text/plain": [
       "\u001B[2;36m[02/07/25 14:24:35]\u001B[0m\u001B[2;36m \u001B[0m\u001B[34mINFO    \u001B[0m Initial: Loss: \u001B[1;36m-1.3192821741104126\u001B[0m Statstics: \u001B[1m{\u001B[0m\u001B[32m'logit_target'\u001B[0m:       \u001B]8;id=612444;file:///content/robustness_of_gnns_at_scale/rgnn_at_scale/attacks/local_prbcd.py\u001B\\\u001B[2mlocal_prbcd.py\u001B[0m\u001B]8;;\u001B\\\u001B[2m:\u001B[0m\u001B]8;id=835362;file:///content/robustness_of_gnns_at_scale/rgnn_at_scale/attacks/local_prbcd.py#92\u001B\\\u001B[2m92\u001B[0m\u001B]8;;\u001B\\\n",
       "\u001B[2;36m                    \u001B[0m         \u001B[1;36m-0.4825585186481476\u001B[0m, \u001B[32m'logit_best_non_target'\u001B[0m: \u001B[1;36m-1.8018406629562378\u001B[0m,   \u001B[2m                 \u001B[0m\n",
       "\u001B[2;36m                    \u001B[0m         \u001B[32m'confidence_target'\u001B[0m: \u001B[1;36m0.6172022465164124\u001B[0m, \u001B[32m'confidence_non_target'\u001B[0m:    \u001B[2m                 \u001B[0m\n",
       "\u001B[2;36m                    \u001B[0m         \u001B[1;36m0.16499490852923396\u001B[0m, \u001B[32m'margin'\u001B[0m: \u001B[1;36m0.4522073379871785\u001B[0m\u001B[1m}\u001B[0m                   \u001B[2m                 \u001B[0m\n",
       "\u001B[2;36m                    \u001B[0m                                                                              \u001B[2m                 \u001B[0m\n"
      ],
      "text/html": [
       "<pre style=\"white-space:pre;overflow-x:auto;line-height:normal;font-family:Menlo,'DejaVu Sans Mono',consolas,'Courier New',monospace\"><span style=\"color: #7fbfbf; text-decoration-color: #7fbfbf\">[02/07/25 14:24:35] </span><span style=\"color: #000080; text-decoration-color: #000080\">INFO    </span> Initial: Loss: <span style=\"color: #008080; text-decoration-color: #008080; font-weight: bold\">-1.3192821741104126</span> Statstics: <span style=\"font-weight: bold\">{</span><span style=\"color: #008000; text-decoration-color: #008000\">'logit_target'</span>:       <a href=\"file:///content/robustness_of_gnns_at_scale/rgnn_at_scale/attacks/local_prbcd.py\" target=\"_blank\"><span style=\"color: #7f7f7f; text-decoration-color: #7f7f7f\">local_prbcd.py</span></a><span style=\"color: #7f7f7f; text-decoration-color: #7f7f7f\">:</span><a href=\"file:///content/robustness_of_gnns_at_scale/rgnn_at_scale/attacks/local_prbcd.py#92\" target=\"_blank\"><span style=\"color: #7f7f7f; text-decoration-color: #7f7f7f\">92</span></a>\n",
       "<span style=\"color: #7fbfbf; text-decoration-color: #7fbfbf\">                    </span>         <span style=\"color: #008080; text-decoration-color: #008080; font-weight: bold\">-0.4825585186481476</span>, <span style=\"color: #008000; text-decoration-color: #008000\">'logit_best_non_target'</span>: <span style=\"color: #008080; text-decoration-color: #008080; font-weight: bold\">-1.8018406629562378</span>,   <span style=\"color: #7f7f7f; text-decoration-color: #7f7f7f\">                 </span>\n",
       "<span style=\"color: #7fbfbf; text-decoration-color: #7fbfbf\">                    </span>         <span style=\"color: #008000; text-decoration-color: #008000\">'confidence_target'</span>: <span style=\"color: #008080; text-decoration-color: #008080; font-weight: bold\">0.6172022465164124</span>, <span style=\"color: #008000; text-decoration-color: #008000\">'confidence_non_target'</span>:    <span style=\"color: #7f7f7f; text-decoration-color: #7f7f7f\">                 </span>\n",
       "<span style=\"color: #7fbfbf; text-decoration-color: #7fbfbf\">                    </span>         <span style=\"color: #008080; text-decoration-color: #008080; font-weight: bold\">0.16499490852923396</span>, <span style=\"color: #008000; text-decoration-color: #008000\">'margin'</span>: <span style=\"color: #008080; text-decoration-color: #008080; font-weight: bold\">0.4522073379871785</span><span style=\"font-weight: bold\">}</span>                   <span style=\"color: #7f7f7f; text-decoration-color: #7f7f7f\">                 </span>\n",
       "<span style=\"color: #7fbfbf; text-decoration-color: #7fbfbf\">                    </span>                                                                              <span style=\"color: #7f7f7f; text-decoration-color: #7f7f7f\">                 </span>\n",
       "</pre>\n"
      ]
     },
     "metadata": {}
    },
    {
     "output_type": "display_data",
     "data": {
      "text/plain": [
       "\u001B[2;36m[02/07/25 14:24:38]\u001B[0m\u001B[2;36m \u001B[0m\u001B[34mINFO    \u001B[0m                                                                     \u001B]8;id=555805;file:///content/robustness_of_gnns_at_scale/rgnn_at_scale/attacks/local_prbcd.py\u001B\\\u001B[2mlocal_prbcd.py\u001B[0m\u001B]8;;\u001B\\\u001B[2m:\u001B[0m\u001B]8;id=383947;file:///content/robustness_of_gnns_at_scale/rgnn_at_scale/attacks/local_prbcd.py#113\u001B\\\u001B[2m113\u001B[0m\u001B]8;;\u001B\\\n",
       "\u001B[2;36m                    \u001B[0m         Epoch: \u001B[1;36m0\u001B[0m Loss: \u001B[1;36m-1.3192821741104126\u001B[0m Statstics: \u001B[1m{\u001B[0m\u001B[32m'logit_target'\u001B[0m:      \u001B[2m                  \u001B[0m\n",
       "\u001B[2;36m                    \u001B[0m         \u001B[1;36m-0.55649334192276\u001B[0m, \u001B[32m'logit_best_non_target'\u001B[0m: \u001B[1;36m-1.7330806255340576\u001B[0m,    \u001B[2m                  \u001B[0m\n",
       "\u001B[2;36m                    \u001B[0m         \u001B[32m'confidence_target'\u001B[0m: \u001B[1;36m0.573215614814274\u001B[0m, \u001B[32m'confidence_non_target'\u001B[0m:    \u001B[2m                  \u001B[0m\n",
       "\u001B[2;36m                    \u001B[0m         \u001B[1;36m0.1767391034635659\u001B[0m, \u001B[32m'margin'\u001B[0m: \u001B[1;36m0.39647651135070805\u001B[0m\u001B[1m}\u001B[0m                  \u001B[2m                  \u001B[0m\n",
       "\u001B[2;36m                    \u001B[0m                                                                             \u001B[2m                  \u001B[0m\n"
      ],
      "text/html": [
       "<pre style=\"white-space:pre;overflow-x:auto;line-height:normal;font-family:Menlo,'DejaVu Sans Mono',consolas,'Courier New',monospace\"><span style=\"color: #7fbfbf; text-decoration-color: #7fbfbf\">[02/07/25 14:24:38] </span><span style=\"color: #000080; text-decoration-color: #000080\">INFO    </span>                                                                     <a href=\"file:///content/robustness_of_gnns_at_scale/rgnn_at_scale/attacks/local_prbcd.py\" target=\"_blank\"><span style=\"color: #7f7f7f; text-decoration-color: #7f7f7f\">local_prbcd.py</span></a><span style=\"color: #7f7f7f; text-decoration-color: #7f7f7f\">:</span><a href=\"file:///content/robustness_of_gnns_at_scale/rgnn_at_scale/attacks/local_prbcd.py#113\" target=\"_blank\"><span style=\"color: #7f7f7f; text-decoration-color: #7f7f7f\">113</span></a>\n",
       "<span style=\"color: #7fbfbf; text-decoration-color: #7fbfbf\">                    </span>         Epoch: <span style=\"color: #008080; text-decoration-color: #008080; font-weight: bold\">0</span> Loss: <span style=\"color: #008080; text-decoration-color: #008080; font-weight: bold\">-1.3192821741104126</span> Statstics: <span style=\"font-weight: bold\">{</span><span style=\"color: #008000; text-decoration-color: #008000\">'logit_target'</span>:      <span style=\"color: #7f7f7f; text-decoration-color: #7f7f7f\">                  </span>\n",
       "<span style=\"color: #7fbfbf; text-decoration-color: #7fbfbf\">                    </span>         <span style=\"color: #008080; text-decoration-color: #008080; font-weight: bold\">-0.55649334192276</span>, <span style=\"color: #008000; text-decoration-color: #008000\">'logit_best_non_target'</span>: <span style=\"color: #008080; text-decoration-color: #008080; font-weight: bold\">-1.7330806255340576</span>,    <span style=\"color: #7f7f7f; text-decoration-color: #7f7f7f\">                  </span>\n",
       "<span style=\"color: #7fbfbf; text-decoration-color: #7fbfbf\">                    </span>         <span style=\"color: #008000; text-decoration-color: #008000\">'confidence_target'</span>: <span style=\"color: #008080; text-decoration-color: #008080; font-weight: bold\">0.573215614814274</span>, <span style=\"color: #008000; text-decoration-color: #008000\">'confidence_non_target'</span>:    <span style=\"color: #7f7f7f; text-decoration-color: #7f7f7f\">                  </span>\n",
       "<span style=\"color: #7fbfbf; text-decoration-color: #7fbfbf\">                    </span>         <span style=\"color: #008080; text-decoration-color: #008080; font-weight: bold\">0.1767391034635659</span>, <span style=\"color: #008000; text-decoration-color: #008000\">'margin'</span>: <span style=\"color: #008080; text-decoration-color: #008080; font-weight: bold\">0.39647651135070805</span><span style=\"font-weight: bold\">}</span>                  <span style=\"color: #7f7f7f; text-decoration-color: #7f7f7f\">                  </span>\n",
       "<span style=\"color: #7fbfbf; text-decoration-color: #7fbfbf\">                    </span>                                                                             <span style=\"color: #7f7f7f; text-decoration-color: #7f7f7f\">                  </span>\n",
       "</pre>\n"
      ]
     },
     "metadata": {}
    },
    {
     "output_type": "display_data",
     "data": {
      "text/plain": [
       "\u001B[2;36m                   \u001B[0m\u001B[2;36m \u001B[0m\u001B[34mINFO    \u001B[0m Gradient mean \u001B[1;36m0.016696982085704803\u001B[0m std \u001B[1;36m0.023505378514528275\u001B[0m with    \u001B]8;id=811140;file:///content/robustness_of_gnns_at_scale/rgnn_at_scale/attacks/local_prbcd.py\u001B\\\u001B[2mlocal_prbcd.py\u001B[0m\u001B]8;;\u001B\\\u001B[2m:\u001B[0m\u001B]8;id=746732;file:///content/robustness_of_gnns_at_scale/rgnn_at_scale/attacks/local_prbcd.py#114\u001B\\\u001B[2m114\u001B[0m\u001B]8;;\u001B\\\n",
       "\u001B[2;36m                    \u001B[0m         base learning rate \u001B[1;36m0.6000000000000001\u001B[0m                               \u001B[2m                  \u001B[0m\n"
      ],
      "text/html": [
       "<pre style=\"white-space:pre;overflow-x:auto;line-height:normal;font-family:Menlo,'DejaVu Sans Mono',consolas,'Courier New',monospace\"><span style=\"color: #7fbfbf; text-decoration-color: #7fbfbf\">                    </span><span style=\"color: #000080; text-decoration-color: #000080\">INFO    </span> Gradient mean <span style=\"color: #008080; text-decoration-color: #008080; font-weight: bold\">0.016696982085704803</span> std <span style=\"color: #008080; text-decoration-color: #008080; font-weight: bold\">0.023505378514528275</span> with    <a href=\"file:///content/robustness_of_gnns_at_scale/rgnn_at_scale/attacks/local_prbcd.py\" target=\"_blank\"><span style=\"color: #7f7f7f; text-decoration-color: #7f7f7f\">local_prbcd.py</span></a><span style=\"color: #7f7f7f; text-decoration-color: #7f7f7f\">:</span><a href=\"file:///content/robustness_of_gnns_at_scale/rgnn_at_scale/attacks/local_prbcd.py#114\" target=\"_blank\"><span style=\"color: #7f7f7f; text-decoration-color: #7f7f7f\">114</span></a>\n",
       "<span style=\"color: #7fbfbf; text-decoration-color: #7fbfbf\">                    </span>         base learning rate <span style=\"color: #008080; text-decoration-color: #008080; font-weight: bold\">0.6000000000000001</span>                               <span style=\"color: #7f7f7f; text-decoration-color: #7f7f7f\">                  </span>\n",
       "</pre>\n"
      ]
     },
     "metadata": {}
    },
    {
     "output_type": "stream",
     "name": "stderr",
     "text": [
      " 40%|████      | 20/50 [01:38<02:26,  4.89s/it]"
     ]
    },
    {
     "output_type": "display_data",
     "data": {
      "text/plain": [
       "\u001B[2;36m[02/07/25 14:26:16]\u001B[0m\u001B[2;36m \u001B[0m\u001B[34mINFO    \u001B[0m                                                                     \u001B]8;id=263795;file:///content/robustness_of_gnns_at_scale/rgnn_at_scale/attacks/local_prbcd.py\u001B\\\u001B[2mlocal_prbcd.py\u001B[0m\u001B]8;;\u001B\\\u001B[2m:\u001B[0m\u001B]8;id=195270;file:///content/robustness_of_gnns_at_scale/rgnn_at_scale/attacks/local_prbcd.py#113\u001B\\\u001B[2m113\u001B[0m\u001B]8;;\u001B\\\n",
       "\u001B[2;36m                    \u001B[0m         Epoch: \u001B[1;36m20\u001B[0m Loss: \u001B[1;36m0.18794190883636475\u001B[0m Statstics: \u001B[1m{\u001B[0m\u001B[32m'logit_target'\u001B[0m:     \u001B[2m                  \u001B[0m\n",
       "\u001B[2;36m                    \u001B[0m         \u001B[1;36m-1.1734507083892822\u001B[0m, \u001B[32m'logit_best_non_target'\u001B[0m: \u001B[1;36m-0.9702954888343811\u001B[0m,  \u001B[2m                  \u001B[0m\n",
       "\u001B[2;36m                    \u001B[0m         \u001B[32m'confidence_target'\u001B[0m: \u001B[1;36m0.30929780116375216\u001B[0m, \u001B[32m'confidence_non_target'\u001B[0m:  \u001B[2m                  \u001B[0m\n",
       "\u001B[2;36m                    \u001B[0m         \u001B[1;36m0.3789710398462681\u001B[0m, \u001B[32m'margin'\u001B[0m: \u001B[1;36m-0.06967323868251596\u001B[0m\u001B[1m}\u001B[0m                 \u001B[2m                  \u001B[0m\n",
       "\u001B[2;36m                    \u001B[0m                                                                             \u001B[2m                  \u001B[0m\n"
      ],
      "text/html": [
       "<pre style=\"white-space:pre;overflow-x:auto;line-height:normal;font-family:Menlo,'DejaVu Sans Mono',consolas,'Courier New',monospace\"><span style=\"color: #7fbfbf; text-decoration-color: #7fbfbf\">[02/07/25 14:26:16] </span><span style=\"color: #000080; text-decoration-color: #000080\">INFO    </span>                                                                     <a href=\"file:///content/robustness_of_gnns_at_scale/rgnn_at_scale/attacks/local_prbcd.py\" target=\"_blank\"><span style=\"color: #7f7f7f; text-decoration-color: #7f7f7f\">local_prbcd.py</span></a><span style=\"color: #7f7f7f; text-decoration-color: #7f7f7f\">:</span><a href=\"file:///content/robustness_of_gnns_at_scale/rgnn_at_scale/attacks/local_prbcd.py#113\" target=\"_blank\"><span style=\"color: #7f7f7f; text-decoration-color: #7f7f7f\">113</span></a>\n",
       "<span style=\"color: #7fbfbf; text-decoration-color: #7fbfbf\">                    </span>         Epoch: <span style=\"color: #008080; text-decoration-color: #008080; font-weight: bold\">20</span> Loss: <span style=\"color: #008080; text-decoration-color: #008080; font-weight: bold\">0.18794190883636475</span> Statstics: <span style=\"font-weight: bold\">{</span><span style=\"color: #008000; text-decoration-color: #008000\">'logit_target'</span>:     <span style=\"color: #7f7f7f; text-decoration-color: #7f7f7f\">                  </span>\n",
       "<span style=\"color: #7fbfbf; text-decoration-color: #7fbfbf\">                    </span>         <span style=\"color: #008080; text-decoration-color: #008080; font-weight: bold\">-1.1734507083892822</span>, <span style=\"color: #008000; text-decoration-color: #008000\">'logit_best_non_target'</span>: <span style=\"color: #008080; text-decoration-color: #008080; font-weight: bold\">-0.9702954888343811</span>,  <span style=\"color: #7f7f7f; text-decoration-color: #7f7f7f\">                  </span>\n",
       "<span style=\"color: #7fbfbf; text-decoration-color: #7fbfbf\">                    </span>         <span style=\"color: #008000; text-decoration-color: #008000\">'confidence_target'</span>: <span style=\"color: #008080; text-decoration-color: #008080; font-weight: bold\">0.30929780116375216</span>, <span style=\"color: #008000; text-decoration-color: #008000\">'confidence_non_target'</span>:  <span style=\"color: #7f7f7f; text-decoration-color: #7f7f7f\">                  </span>\n",
       "<span style=\"color: #7fbfbf; text-decoration-color: #7fbfbf\">                    </span>         <span style=\"color: #008080; text-decoration-color: #008080; font-weight: bold\">0.3789710398462681</span>, <span style=\"color: #008000; text-decoration-color: #008000\">'margin'</span>: <span style=\"color: #008080; text-decoration-color: #008080; font-weight: bold\">-0.06967323868251596</span><span style=\"font-weight: bold\">}</span>                 <span style=\"color: #7f7f7f; text-decoration-color: #7f7f7f\">                  </span>\n",
       "<span style=\"color: #7fbfbf; text-decoration-color: #7fbfbf\">                    </span>                                                                             <span style=\"color: #7f7f7f; text-decoration-color: #7f7f7f\">                  </span>\n",
       "</pre>\n"
      ]
     },
     "metadata": {}
    },
    {
     "output_type": "display_data",
     "data": {
      "text/plain": [
       "\u001B[2;36m                   \u001B[0m\u001B[2;36m \u001B[0m\u001B[34mINFO    \u001B[0m Gradient mean \u001B[1;36m0.007803549058735371\u001B[0m std \u001B[1;36m0.01584271714091301\u001B[0m with     \u001B]8;id=438784;file:///content/robustness_of_gnns_at_scale/rgnn_at_scale/attacks/local_prbcd.py\u001B\\\u001B[2mlocal_prbcd.py\u001B[0m\u001B]8;;\u001B\\\u001B[2m:\u001B[0m\u001B]8;id=348974;file:///content/robustness_of_gnns_at_scale/rgnn_at_scale/attacks/local_prbcd.py#114\u001B\\\u001B[2m114\u001B[0m\u001B]8;;\u001B\\\n",
       "\u001B[2;36m                    \u001B[0m         base learning rate \u001B[1;36m0.6000000000000001\u001B[0m                               \u001B[2m                  \u001B[0m\n"
      ],
      "text/html": [
       "<pre style=\"white-space:pre;overflow-x:auto;line-height:normal;font-family:Menlo,'DejaVu Sans Mono',consolas,'Courier New',monospace\"><span style=\"color: #7fbfbf; text-decoration-color: #7fbfbf\">                    </span><span style=\"color: #000080; text-decoration-color: #000080\">INFO    </span> Gradient mean <span style=\"color: #008080; text-decoration-color: #008080; font-weight: bold\">0.007803549058735371</span> std <span style=\"color: #008080; text-decoration-color: #008080; font-weight: bold\">0.01584271714091301</span> with     <a href=\"file:///content/robustness_of_gnns_at_scale/rgnn_at_scale/attacks/local_prbcd.py\" target=\"_blank\"><span style=\"color: #7f7f7f; text-decoration-color: #7f7f7f\">local_prbcd.py</span></a><span style=\"color: #7f7f7f; text-decoration-color: #7f7f7f\">:</span><a href=\"file:///content/robustness_of_gnns_at_scale/rgnn_at_scale/attacks/local_prbcd.py#114\" target=\"_blank\"><span style=\"color: #7f7f7f; text-decoration-color: #7f7f7f\">114</span></a>\n",
       "<span style=\"color: #7fbfbf; text-decoration-color: #7fbfbf\">                    </span>         base learning rate <span style=\"color: #008080; text-decoration-color: #008080; font-weight: bold\">0.6000000000000001</span>                               <span style=\"color: #7f7f7f; text-decoration-color: #7f7f7f\">                  </span>\n",
       "</pre>\n"
      ]
     },
     "metadata": {}
    },
    {
     "output_type": "stream",
     "name": "stderr",
     "text": [
      " 80%|████████  | 40/50 [03:18<00:51,  5.13s/it]"
     ]
    },
    {
     "output_type": "display_data",
     "data": {
      "text/plain": [
       "\u001B[2;36m[02/07/25 14:27:57]\u001B[0m\u001B[2;36m \u001B[0m\u001B[34mINFO    \u001B[0m                                                                     \u001B]8;id=602137;file:///content/robustness_of_gnns_at_scale/rgnn_at_scale/attacks/local_prbcd.py\u001B\\\u001B[2mlocal_prbcd.py\u001B[0m\u001B]8;;\u001B\\\u001B[2m:\u001B[0m\u001B]8;id=55595;file:///content/robustness_of_gnns_at_scale/rgnn_at_scale/attacks/local_prbcd.py#113\u001B\\\u001B[2m113\u001B[0m\u001B]8;;\u001B\\\n",
       "\u001B[2;36m                    \u001B[0m         Epoch: \u001B[1;36m40\u001B[0m Loss: \u001B[1;36m0.3676351308822632\u001B[0m Statstics: \u001B[1m{\u001B[0m\u001B[32m'logit_target'\u001B[0m:      \u001B[2m                  \u001B[0m\n",
       "\u001B[2;36m                    \u001B[0m         \u001B[1;36m-1.2916975021362305\u001B[0m, \u001B[32m'logit_best_non_target'\u001B[0m: \u001B[1;36m-0.910591185092926\u001B[0m,   \u001B[2m                  \u001B[0m\n",
       "\u001B[2;36m                    \u001B[0m         \u001B[32m'confidence_target'\u001B[0m: \u001B[1;36m0.27480390672134125\u001B[0m, \u001B[32m'confidence_non_target'\u001B[0m:  \u001B[2m                  \u001B[0m\n",
       "\u001B[2;36m                    \u001B[0m         \u001B[1;36m0.40228632804005693\u001B[0m, \u001B[32m'margin'\u001B[0m: \u001B[1;36m-0.12748242131871568\u001B[0m\u001B[1m}\u001B[0m                \u001B[2m                  \u001B[0m\n",
       "\u001B[2;36m                    \u001B[0m                                                                             \u001B[2m                  \u001B[0m\n"
      ],
      "text/html": [
       "<pre style=\"white-space:pre;overflow-x:auto;line-height:normal;font-family:Menlo,'DejaVu Sans Mono',consolas,'Courier New',monospace\"><span style=\"color: #7fbfbf; text-decoration-color: #7fbfbf\">[02/07/25 14:27:57] </span><span style=\"color: #000080; text-decoration-color: #000080\">INFO    </span>                                                                     <a href=\"file:///content/robustness_of_gnns_at_scale/rgnn_at_scale/attacks/local_prbcd.py\" target=\"_blank\"><span style=\"color: #7f7f7f; text-decoration-color: #7f7f7f\">local_prbcd.py</span></a><span style=\"color: #7f7f7f; text-decoration-color: #7f7f7f\">:</span><a href=\"file:///content/robustness_of_gnns_at_scale/rgnn_at_scale/attacks/local_prbcd.py#113\" target=\"_blank\"><span style=\"color: #7f7f7f; text-decoration-color: #7f7f7f\">113</span></a>\n",
       "<span style=\"color: #7fbfbf; text-decoration-color: #7fbfbf\">                    </span>         Epoch: <span style=\"color: #008080; text-decoration-color: #008080; font-weight: bold\">40</span> Loss: <span style=\"color: #008080; text-decoration-color: #008080; font-weight: bold\">0.3676351308822632</span> Statstics: <span style=\"font-weight: bold\">{</span><span style=\"color: #008000; text-decoration-color: #008000\">'logit_target'</span>:      <span style=\"color: #7f7f7f; text-decoration-color: #7f7f7f\">                  </span>\n",
       "<span style=\"color: #7fbfbf; text-decoration-color: #7fbfbf\">                    </span>         <span style=\"color: #008080; text-decoration-color: #008080; font-weight: bold\">-1.2916975021362305</span>, <span style=\"color: #008000; text-decoration-color: #008000\">'logit_best_non_target'</span>: <span style=\"color: #008080; text-decoration-color: #008080; font-weight: bold\">-0.910591185092926</span>,   <span style=\"color: #7f7f7f; text-decoration-color: #7f7f7f\">                  </span>\n",
       "<span style=\"color: #7fbfbf; text-decoration-color: #7fbfbf\">                    </span>         <span style=\"color: #008000; text-decoration-color: #008000\">'confidence_target'</span>: <span style=\"color: #008080; text-decoration-color: #008080; font-weight: bold\">0.27480390672134125</span>, <span style=\"color: #008000; text-decoration-color: #008000\">'confidence_non_target'</span>:  <span style=\"color: #7f7f7f; text-decoration-color: #7f7f7f\">                  </span>\n",
       "<span style=\"color: #7fbfbf; text-decoration-color: #7fbfbf\">                    </span>         <span style=\"color: #008080; text-decoration-color: #008080; font-weight: bold\">0.40228632804005693</span>, <span style=\"color: #008000; text-decoration-color: #008000\">'margin'</span>: <span style=\"color: #008080; text-decoration-color: #008080; font-weight: bold\">-0.12748242131871568</span><span style=\"font-weight: bold\">}</span>                <span style=\"color: #7f7f7f; text-decoration-color: #7f7f7f\">                  </span>\n",
       "<span style=\"color: #7fbfbf; text-decoration-color: #7fbfbf\">                    </span>                                                                             <span style=\"color: #7f7f7f; text-decoration-color: #7f7f7f\">                  </span>\n",
       "</pre>\n"
      ]
     },
     "metadata": {}
    },
    {
     "output_type": "display_data",
     "data": {
      "text/plain": [
       "\u001B[2;36m                   \u001B[0m\u001B[2;36m \u001B[0m\u001B[34mINFO    \u001B[0m Gradient mean \u001B[1;36m0.009701507166028023\u001B[0m std \u001B[1;36m0.014036411419510841\u001B[0m with    \u001B]8;id=53572;file:///content/robustness_of_gnns_at_scale/rgnn_at_scale/attacks/local_prbcd.py\u001B\\\u001B[2mlocal_prbcd.py\u001B[0m\u001B]8;;\u001B\\\u001B[2m:\u001B[0m\u001B]8;id=182544;file:///content/robustness_of_gnns_at_scale/rgnn_at_scale/attacks/local_prbcd.py#114\u001B\\\u001B[2m114\u001B[0m\u001B]8;;\u001B\\\n",
       "\u001B[2;36m                    \u001B[0m         base learning rate \u001B[1;36m0.6000000000000001\u001B[0m                               \u001B[2m                  \u001B[0m\n"
      ],
      "text/html": [
       "<pre style=\"white-space:pre;overflow-x:auto;line-height:normal;font-family:Menlo,'DejaVu Sans Mono',consolas,'Courier New',monospace\"><span style=\"color: #7fbfbf; text-decoration-color: #7fbfbf\">                    </span><span style=\"color: #000080; text-decoration-color: #000080\">INFO    </span> Gradient mean <span style=\"color: #008080; text-decoration-color: #008080; font-weight: bold\">0.009701507166028023</span> std <span style=\"color: #008080; text-decoration-color: #008080; font-weight: bold\">0.014036411419510841</span> with    <a href=\"file:///content/robustness_of_gnns_at_scale/rgnn_at_scale/attacks/local_prbcd.py\" target=\"_blank\"><span style=\"color: #7f7f7f; text-decoration-color: #7f7f7f\">local_prbcd.py</span></a><span style=\"color: #7f7f7f; text-decoration-color: #7f7f7f\">:</span><a href=\"file:///content/robustness_of_gnns_at_scale/rgnn_at_scale/attacks/local_prbcd.py#114\" target=\"_blank\"><span style=\"color: #7f7f7f; text-decoration-color: #7f7f7f\">114</span></a>\n",
       "<span style=\"color: #7fbfbf; text-decoration-color: #7fbfbf\">                    </span>         base learning rate <span style=\"color: #008080; text-decoration-color: #008080; font-weight: bold\">0.6000000000000001</span>                               <span style=\"color: #7f7f7f; text-decoration-color: #7f7f7f\">                  </span>\n",
       "</pre>\n"
      ]
     },
     "metadata": {}
    },
    {
     "output_type": "stream",
     "name": "stderr",
     "text": [
      "100%|██████████| 50/50 [04:10<00:00,  5.01s/it]\n"
     ]
    },
    {
     "output_type": "display_data",
     "data": {
      "text/plain": [
       "\u001B[2;36m[02/07/25 14:29:04]\u001B[0m\u001B[2;36m \u001B[0m\u001B[34mINFO    \u001B[0m Evaluated model Vanilla GCN using LocalPRBCD     \u001B]8;id=837779;file:///content/robustness_of_gnns_at_scale/experiments/experiment_local_attack_direct.py\u001B\\\u001B[2mexperiment_local_attack_direct.py\u001B[0m\u001B]8;;\u001B\\\u001B[2m:\u001B[0m\u001B]8;id=220353;file:///content/robustness_of_gnns_at_scale/experiments/experiment_local_attack_direct.py#194\u001B\\\u001B[2m194\u001B[0m\u001B]8;;\u001B\\\n",
       "\u001B[2;36m                    \u001B[0m         with pert. edges for node \u001B[1;36m2487\u001B[0m and budget \u001B[1;36m12\u001B[0m:    \u001B[2m                                     \u001B[0m\n"
      ],
      "text/html": [
       "<pre style=\"white-space:pre;overflow-x:auto;line-height:normal;font-family:Menlo,'DejaVu Sans Mono',consolas,'Courier New',monospace\"><span style=\"color: #7fbfbf; text-decoration-color: #7fbfbf\">[02/07/25 14:29:04] </span><span style=\"color: #000080; text-decoration-color: #000080\">INFO    </span> Evaluated model Vanilla GCN using LocalPRBCD     <a href=\"file:///content/robustness_of_gnns_at_scale/experiments/experiment_local_attack_direct.py\" target=\"_blank\"><span style=\"color: #7f7f7f; text-decoration-color: #7f7f7f\">experiment_local_attack_direct.py</span></a><span style=\"color: #7f7f7f; text-decoration-color: #7f7f7f\">:</span><a href=\"file:///content/robustness_of_gnns_at_scale/experiments/experiment_local_attack_direct.py#194\" target=\"_blank\"><span style=\"color: #7f7f7f; text-decoration-color: #7f7f7f\">194</span></a>\n",
       "<span style=\"color: #7fbfbf; text-decoration-color: #7fbfbf\">                    </span>         with pert. edges for node <span style=\"color: #008080; text-decoration-color: #008080; font-weight: bold\">2487</span> and budget <span style=\"color: #008080; text-decoration-color: #008080; font-weight: bold\">12</span>:    <span style=\"color: #7f7f7f; text-decoration-color: #7f7f7f\">                                     </span>\n",
       "</pre>\n"
      ]
     },
     "metadata": {}
    },
    {
     "output_type": "display_data",
     "data": {
      "text/plain": [
       "\u001B[2;36m                   \u001B[0m\u001B[2;36m \u001B[0m\u001B[34mINFO    \u001B[0m \u001B[1m{\u001B[0m\u001B[32m'label'\u001B[0m: \u001B[32m'Vanilla GCN'\u001B[0m, \u001B[32m'epsilon'\u001B[0m: \u001B[1;36m1\u001B[0m,           \u001B]8;id=959847;file:///content/robustness_of_gnns_at_scale/experiments/experiment_local_attack_direct.py\u001B\\\u001B[2mexperiment_local_attack_direct.py\u001B[0m\u001B]8;;\u001B\\\u001B[2m:\u001B[0m\u001B]8;id=180341;file:///content/robustness_of_gnns_at_scale/experiments/experiment_local_attack_direct.py#215\u001B\\\u001B[2m215\u001B[0m\u001B]8;;\u001B\\\n",
       "\u001B[2;36m                    \u001B[0m         \u001B[32m'n_perturbations'\u001B[0m: \u001B[1;36m12\u001B[0m, \u001B[32m'degree'\u001B[0m: \u001B[1;36m12\u001B[0m, \u001B[32m'logits'\u001B[0m:   \u001B[2m                                     \u001B[0m\n",
       "\u001B[2;36m                    \u001B[0m         \u001B[1m[\u001B[0m\u001B[1m[\u001B[0m\u001B[1;36m0.5568550229072571\u001B[0m, \u001B[1;36m0.5557218194007874\u001B[0m,        \u001B[2m                                     \u001B[0m\n",
       "\u001B[2;36m                    \u001B[0m         \u001B[1;36m-0.9901720285415649\u001B[0m, \u001B[1;36m-0.5981150269508362\u001B[0m,        \u001B[2m                                     \u001B[0m\n",
       "\u001B[2;36m                    \u001B[0m         \u001B[1;36m-0.4868677854537964\u001B[0m, \u001B[1;36m1.1921076774597168\u001B[0m,         \u001B[2m                                     \u001B[0m\n",
       "\u001B[2;36m                    \u001B[0m         \u001B[1;36m-0.43060100078582764\u001B[0m\u001B[1m]\u001B[0m\u001B[1m]\u001B[0m, \u001B[32m'initial_logits'\u001B[0m:        \u001B[2m                                     \u001B[0m\n",
       "\u001B[2;36m                    \u001B[0m         \u001B[1m[\u001B[0m\u001B[1m[\u001B[0m\u001B[1;36m-0.06012573093175888\u001B[0m, \u001B[1;36m2.114328145980835\u001B[0m,       \u001B[2m                                     \u001B[0m\n",
       "\u001B[2;36m                    \u001B[0m         \u001B[1;36m-1.3868383169174194\u001B[0m, \u001B[1;36m-0.3993767201900482\u001B[0m,        \u001B[2m                                     \u001B[0m\n",
       "\u001B[2;36m                    \u001B[0m         \u001B[1;36m-0.5612420439720154\u001B[0m, \u001B[1;36m0.7950459718704224\u001B[0m,         \u001B[2m                                     \u001B[0m\n",
       "\u001B[2;36m                    \u001B[0m         \u001B[1;36m-0.7121751308441162\u001B[0m\u001B[1m]\u001B[0m\u001B[1m]\u001B[0m, \u001B[32m'larget'\u001B[0m: \u001B[1;36m1\u001B[0m, \u001B[32m'node_id'\u001B[0m:   \u001B[2m                                     \u001B[0m\n",
       "\u001B[2;36m                    \u001B[0m         \u001B[1;36m2487\u001B[0m, \u001B[32m'perturbed_edges'\u001B[0m: \u001B[1m[\u001B[0m\u001B[1m[\u001B[0m\u001B[1;36m2487\u001B[0m, \u001B[1;36m2487\u001B[0m, \u001B[1;36m2487\u001B[0m,     \u001B[2m                                     \u001B[0m\n",
       "\u001B[2;36m                    \u001B[0m         \u001B[1;36m2487\u001B[0m, \u001B[1;36m2487\u001B[0m, \u001B[1;36m2487\u001B[0m, \u001B[1;36m2487\u001B[0m, \u001B[1;36m2487\u001B[0m, \u001B[1;36m2487\u001B[0m, \u001B[1;36m2487\u001B[0m\u001B[1m]\u001B[0m, \u001B[1m[\u001B[0m\u001B[1;36m689\u001B[0m, \u001B[2m                                     \u001B[0m\n",
       "\u001B[2;36m                    \u001B[0m         \u001B[1;36m1103\u001B[0m, \u001B[1;36m1205\u001B[0m, \u001B[1;36m1227\u001B[0m, \u001B[1;36m1267\u001B[0m, \u001B[1;36m1344\u001B[0m, \u001B[1;36m1817\u001B[0m, \u001B[1;36m2227\u001B[0m, \u001B[1;36m2385\u001B[0m,  \u001B[2m                                     \u001B[0m\n",
       "\u001B[2;36m                    \u001B[0m         \u001B[1;36m2551\u001B[0m\u001B[1m]\u001B[0m\u001B[1m]\u001B[0m, \u001B[32m'logit_target'\u001B[0m: \u001B[1;36m-1.6379873752593994\u001B[0m,     \u001B[2m                                     \u001B[0m\n",
       "\u001B[2;36m                    \u001B[0m         \u001B[32m'logit_best_non_target'\u001B[0m: \u001B[1;36m-1.0016014575958252\u001B[0m,    \u001B[2m                                     \u001B[0m\n",
       "\u001B[2;36m                    \u001B[0m         \u001B[32m'confidence_target'\u001B[0m: \u001B[1;36m0.19437084446032957\u001B[0m,        \u001B[2m                                     \u001B[0m\n",
       "\u001B[2;36m                    \u001B[0m         \u001B[32m'confidence_non_target'\u001B[0m: \u001B[1;36m0.36729076933833193\u001B[0m,    \u001B[2m                                     \u001B[0m\n",
       "\u001B[2;36m                    \u001B[0m         \u001B[32m'margin'\u001B[0m: \u001B[1;36m-0.17291992487800237\u001B[0m,                  \u001B[2m                                     \u001B[0m\n",
       "\u001B[2;36m                    \u001B[0m         \u001B[32m'initial_logit_target'\u001B[0m: \u001B[1;36m-0.4825585186481476\u001B[0m,     \u001B[2m                                     \u001B[0m\n",
       "\u001B[2;36m                    \u001B[0m         \u001B[32m'initial_logit_best_non_target'\u001B[0m:                 \u001B[2m                                     \u001B[0m\n",
       "\u001B[2;36m                    \u001B[0m         \u001B[1;36m-1.8018406629562378\u001B[0m,                             \u001B[2m                                     \u001B[0m\n",
       "\u001B[2;36m                    \u001B[0m         \u001B[32m'initial_confidence_target'\u001B[0m: \u001B[1;36m0.6172022465164124\u001B[0m, \u001B[2m                                     \u001B[0m\n",
       "\u001B[2;36m                    \u001B[0m         \u001B[32m'initial_confidence_non_target'\u001B[0m:                 \u001B[2m                                     \u001B[0m\n",
       "\u001B[2;36m                    \u001B[0m         \u001B[1;36m0.16499490852923396\u001B[0m, \u001B[32m'initial_margin'\u001B[0m:           \u001B[2m                                     \u001B[0m\n",
       "\u001B[2;36m                    \u001B[0m         \u001B[1;36m0.4522073379871785\u001B[0m\u001B[1m}\u001B[0m                              \u001B[2m                                     \u001B[0m\n"
      ],
      "text/html": [
       "<pre style=\"white-space:pre;overflow-x:auto;line-height:normal;font-family:Menlo,'DejaVu Sans Mono',consolas,'Courier New',monospace\"><span style=\"color: #7fbfbf; text-decoration-color: #7fbfbf\">                    </span><span style=\"color: #000080; text-decoration-color: #000080\">INFO    </span> <span style=\"font-weight: bold\">{</span><span style=\"color: #008000; text-decoration-color: #008000\">'label'</span>: <span style=\"color: #008000; text-decoration-color: #008000\">'Vanilla GCN'</span>, <span style=\"color: #008000; text-decoration-color: #008000\">'epsilon'</span>: <span style=\"color: #008080; text-decoration-color: #008080; font-weight: bold\">1</span>,           <a href=\"file:///content/robustness_of_gnns_at_scale/experiments/experiment_local_attack_direct.py\" target=\"_blank\"><span style=\"color: #7f7f7f; text-decoration-color: #7f7f7f\">experiment_local_attack_direct.py</span></a><span style=\"color: #7f7f7f; text-decoration-color: #7f7f7f\">:</span><a href=\"file:///content/robustness_of_gnns_at_scale/experiments/experiment_local_attack_direct.py#215\" target=\"_blank\"><span style=\"color: #7f7f7f; text-decoration-color: #7f7f7f\">215</span></a>\n",
       "<span style=\"color: #7fbfbf; text-decoration-color: #7fbfbf\">                    </span>         <span style=\"color: #008000; text-decoration-color: #008000\">'n_perturbations'</span>: <span style=\"color: #008080; text-decoration-color: #008080; font-weight: bold\">12</span>, <span style=\"color: #008000; text-decoration-color: #008000\">'degree'</span>: <span style=\"color: #008080; text-decoration-color: #008080; font-weight: bold\">12</span>, <span style=\"color: #008000; text-decoration-color: #008000\">'logits'</span>:   <span style=\"color: #7f7f7f; text-decoration-color: #7f7f7f\">                                     </span>\n",
       "<span style=\"color: #7fbfbf; text-decoration-color: #7fbfbf\">                    </span>         <span style=\"font-weight: bold\">[[</span><span style=\"color: #008080; text-decoration-color: #008080; font-weight: bold\">0.5568550229072571</span>, <span style=\"color: #008080; text-decoration-color: #008080; font-weight: bold\">0.5557218194007874</span>,        <span style=\"color: #7f7f7f; text-decoration-color: #7f7f7f\">                                     </span>\n",
       "<span style=\"color: #7fbfbf; text-decoration-color: #7fbfbf\">                    </span>         <span style=\"color: #008080; text-decoration-color: #008080; font-weight: bold\">-0.9901720285415649</span>, <span style=\"color: #008080; text-decoration-color: #008080; font-weight: bold\">-0.5981150269508362</span>,        <span style=\"color: #7f7f7f; text-decoration-color: #7f7f7f\">                                     </span>\n",
       "<span style=\"color: #7fbfbf; text-decoration-color: #7fbfbf\">                    </span>         <span style=\"color: #008080; text-decoration-color: #008080; font-weight: bold\">-0.4868677854537964</span>, <span style=\"color: #008080; text-decoration-color: #008080; font-weight: bold\">1.1921076774597168</span>,         <span style=\"color: #7f7f7f; text-decoration-color: #7f7f7f\">                                     </span>\n",
       "<span style=\"color: #7fbfbf; text-decoration-color: #7fbfbf\">                    </span>         <span style=\"color: #008080; text-decoration-color: #008080; font-weight: bold\">-0.43060100078582764</span><span style=\"font-weight: bold\">]]</span>, <span style=\"color: #008000; text-decoration-color: #008000\">'initial_logits'</span>:        <span style=\"color: #7f7f7f; text-decoration-color: #7f7f7f\">                                     </span>\n",
       "<span style=\"color: #7fbfbf; text-decoration-color: #7fbfbf\">                    </span>         <span style=\"font-weight: bold\">[[</span><span style=\"color: #008080; text-decoration-color: #008080; font-weight: bold\">-0.06012573093175888</span>, <span style=\"color: #008080; text-decoration-color: #008080; font-weight: bold\">2.114328145980835</span>,       <span style=\"color: #7f7f7f; text-decoration-color: #7f7f7f\">                                     </span>\n",
       "<span style=\"color: #7fbfbf; text-decoration-color: #7fbfbf\">                    </span>         <span style=\"color: #008080; text-decoration-color: #008080; font-weight: bold\">-1.3868383169174194</span>, <span style=\"color: #008080; text-decoration-color: #008080; font-weight: bold\">-0.3993767201900482</span>,        <span style=\"color: #7f7f7f; text-decoration-color: #7f7f7f\">                                     </span>\n",
       "<span style=\"color: #7fbfbf; text-decoration-color: #7fbfbf\">                    </span>         <span style=\"color: #008080; text-decoration-color: #008080; font-weight: bold\">-0.5612420439720154</span>, <span style=\"color: #008080; text-decoration-color: #008080; font-weight: bold\">0.7950459718704224</span>,         <span style=\"color: #7f7f7f; text-decoration-color: #7f7f7f\">                                     </span>\n",
       "<span style=\"color: #7fbfbf; text-decoration-color: #7fbfbf\">                    </span>         <span style=\"color: #008080; text-decoration-color: #008080; font-weight: bold\">-0.7121751308441162</span><span style=\"font-weight: bold\">]]</span>, <span style=\"color: #008000; text-decoration-color: #008000\">'larget'</span>: <span style=\"color: #008080; text-decoration-color: #008080; font-weight: bold\">1</span>, <span style=\"color: #008000; text-decoration-color: #008000\">'node_id'</span>:   <span style=\"color: #7f7f7f; text-decoration-color: #7f7f7f\">                                     </span>\n",
       "<span style=\"color: #7fbfbf; text-decoration-color: #7fbfbf\">                    </span>         <span style=\"color: #008080; text-decoration-color: #008080; font-weight: bold\">2487</span>, <span style=\"color: #008000; text-decoration-color: #008000\">'perturbed_edges'</span>: <span style=\"font-weight: bold\">[[</span><span style=\"color: #008080; text-decoration-color: #008080; font-weight: bold\">2487</span>, <span style=\"color: #008080; text-decoration-color: #008080; font-weight: bold\">2487</span>, <span style=\"color: #008080; text-decoration-color: #008080; font-weight: bold\">2487</span>,     <span style=\"color: #7f7f7f; text-decoration-color: #7f7f7f\">                                     </span>\n",
       "<span style=\"color: #7fbfbf; text-decoration-color: #7fbfbf\">                    </span>         <span style=\"color: #008080; text-decoration-color: #008080; font-weight: bold\">2487</span>, <span style=\"color: #008080; text-decoration-color: #008080; font-weight: bold\">2487</span>, <span style=\"color: #008080; text-decoration-color: #008080; font-weight: bold\">2487</span>, <span style=\"color: #008080; text-decoration-color: #008080; font-weight: bold\">2487</span>, <span style=\"color: #008080; text-decoration-color: #008080; font-weight: bold\">2487</span>, <span style=\"color: #008080; text-decoration-color: #008080; font-weight: bold\">2487</span>, <span style=\"color: #008080; text-decoration-color: #008080; font-weight: bold\">2487</span><span style=\"font-weight: bold\">]</span>, <span style=\"font-weight: bold\">[</span><span style=\"color: #008080; text-decoration-color: #008080; font-weight: bold\">689</span>, <span style=\"color: #7f7f7f; text-decoration-color: #7f7f7f\">                                     </span>\n",
       "<span style=\"color: #7fbfbf; text-decoration-color: #7fbfbf\">                    </span>         <span style=\"color: #008080; text-decoration-color: #008080; font-weight: bold\">1103</span>, <span style=\"color: #008080; text-decoration-color: #008080; font-weight: bold\">1205</span>, <span style=\"color: #008080; text-decoration-color: #008080; font-weight: bold\">1227</span>, <span style=\"color: #008080; text-decoration-color: #008080; font-weight: bold\">1267</span>, <span style=\"color: #008080; text-decoration-color: #008080; font-weight: bold\">1344</span>, <span style=\"color: #008080; text-decoration-color: #008080; font-weight: bold\">1817</span>, <span style=\"color: #008080; text-decoration-color: #008080; font-weight: bold\">2227</span>, <span style=\"color: #008080; text-decoration-color: #008080; font-weight: bold\">2385</span>,  <span style=\"color: #7f7f7f; text-decoration-color: #7f7f7f\">                                     </span>\n",
       "<span style=\"color: #7fbfbf; text-decoration-color: #7fbfbf\">                    </span>         <span style=\"color: #008080; text-decoration-color: #008080; font-weight: bold\">2551</span><span style=\"font-weight: bold\">]]</span>, <span style=\"color: #008000; text-decoration-color: #008000\">'logit_target'</span>: <span style=\"color: #008080; text-decoration-color: #008080; font-weight: bold\">-1.6379873752593994</span>,     <span style=\"color: #7f7f7f; text-decoration-color: #7f7f7f\">                                     </span>\n",
       "<span style=\"color: #7fbfbf; text-decoration-color: #7fbfbf\">                    </span>         <span style=\"color: #008000; text-decoration-color: #008000\">'logit_best_non_target'</span>: <span style=\"color: #008080; text-decoration-color: #008080; font-weight: bold\">-1.0016014575958252</span>,    <span style=\"color: #7f7f7f; text-decoration-color: #7f7f7f\">                                     </span>\n",
       "<span style=\"color: #7fbfbf; text-decoration-color: #7fbfbf\">                    </span>         <span style=\"color: #008000; text-decoration-color: #008000\">'confidence_target'</span>: <span style=\"color: #008080; text-decoration-color: #008080; font-weight: bold\">0.19437084446032957</span>,        <span style=\"color: #7f7f7f; text-decoration-color: #7f7f7f\">                                     </span>\n",
       "<span style=\"color: #7fbfbf; text-decoration-color: #7fbfbf\">                    </span>         <span style=\"color: #008000; text-decoration-color: #008000\">'confidence_non_target'</span>: <span style=\"color: #008080; text-decoration-color: #008080; font-weight: bold\">0.36729076933833193</span>,    <span style=\"color: #7f7f7f; text-decoration-color: #7f7f7f\">                                     </span>\n",
       "<span style=\"color: #7fbfbf; text-decoration-color: #7fbfbf\">                    </span>         <span style=\"color: #008000; text-decoration-color: #008000\">'margin'</span>: <span style=\"color: #008080; text-decoration-color: #008080; font-weight: bold\">-0.17291992487800237</span>,                  <span style=\"color: #7f7f7f; text-decoration-color: #7f7f7f\">                                     </span>\n",
       "<span style=\"color: #7fbfbf; text-decoration-color: #7fbfbf\">                    </span>         <span style=\"color: #008000; text-decoration-color: #008000\">'initial_logit_target'</span>: <span style=\"color: #008080; text-decoration-color: #008080; font-weight: bold\">-0.4825585186481476</span>,     <span style=\"color: #7f7f7f; text-decoration-color: #7f7f7f\">                                     </span>\n",
       "<span style=\"color: #7fbfbf; text-decoration-color: #7fbfbf\">                    </span>         <span style=\"color: #008000; text-decoration-color: #008000\">'initial_logit_best_non_target'</span>:                 <span style=\"color: #7f7f7f; text-decoration-color: #7f7f7f\">                                     </span>\n",
       "<span style=\"color: #7fbfbf; text-decoration-color: #7fbfbf\">                    </span>         <span style=\"color: #008080; text-decoration-color: #008080; font-weight: bold\">-1.8018406629562378</span>,                             <span style=\"color: #7f7f7f; text-decoration-color: #7f7f7f\">                                     </span>\n",
       "<span style=\"color: #7fbfbf; text-decoration-color: #7fbfbf\">                    </span>         <span style=\"color: #008000; text-decoration-color: #008000\">'initial_confidence_target'</span>: <span style=\"color: #008080; text-decoration-color: #008080; font-weight: bold\">0.6172022465164124</span>, <span style=\"color: #7f7f7f; text-decoration-color: #7f7f7f\">                                     </span>\n",
       "<span style=\"color: #7fbfbf; text-decoration-color: #7fbfbf\">                    </span>         <span style=\"color: #008000; text-decoration-color: #008000\">'initial_confidence_non_target'</span>:                 <span style=\"color: #7f7f7f; text-decoration-color: #7f7f7f\">                                     </span>\n",
       "<span style=\"color: #7fbfbf; text-decoration-color: #7fbfbf\">                    </span>         <span style=\"color: #008080; text-decoration-color: #008080; font-weight: bold\">0.16499490852923396</span>, <span style=\"color: #008000; text-decoration-color: #008000\">'initial_margin'</span>:           <span style=\"color: #7f7f7f; text-decoration-color: #7f7f7f\">                                     </span>\n",
       "<span style=\"color: #7fbfbf; text-decoration-color: #7fbfbf\">                    </span>         <span style=\"color: #008080; text-decoration-color: #008080; font-weight: bold\">0.4522073379871785</span><span style=\"font-weight: bold\">}</span>                              <span style=\"color: #7f7f7f; text-decoration-color: #7f7f7f\">                                     </span>\n",
       "</pre>\n"
      ]
     },
     "metadata": {}
    },
    {
     "output_type": "display_data",
     "data": {
      "text/plain": [
       "\u001B[2;36m                   \u001B[0m\u001B[2;36m \u001B[0m\u001B[34mINFO    \u001B[0m Completed attack and evaluation of Vanilla GCN   \u001B]8;id=342570;file:///content/robustness_of_gnns_at_scale/experiments/experiment_local_attack_direct.py\u001B\\\u001B[2mexperiment_local_attack_direct.py\u001B[0m\u001B]8;;\u001B\\\u001B[2m:\u001B[0m\u001B]8;id=606966;file:///content/robustness_of_gnns_at_scale/experiments/experiment_local_attack_direct.py#216\u001B\\\u001B[2m216\u001B[0m\u001B]8;;\u001B\\\n",
       "\u001B[2;36m                    \u001B[0m         using LocalPRBCD with pert. edges for node \u001B[1;36m2487\u001B[0m  \u001B[2m                                     \u001B[0m\n",
       "\u001B[2;36m                    \u001B[0m         and budget \u001B[1;36m12\u001B[0m                                    \u001B[2m                                     \u001B[0m\n"
      ],
      "text/html": [
       "<pre style=\"white-space:pre;overflow-x:auto;line-height:normal;font-family:Menlo,'DejaVu Sans Mono',consolas,'Courier New',monospace\"><span style=\"color: #7fbfbf; text-decoration-color: #7fbfbf\">                    </span><span style=\"color: #000080; text-decoration-color: #000080\">INFO    </span> Completed attack and evaluation of Vanilla GCN   <a href=\"file:///content/robustness_of_gnns_at_scale/experiments/experiment_local_attack_direct.py\" target=\"_blank\"><span style=\"color: #7f7f7f; text-decoration-color: #7f7f7f\">experiment_local_attack_direct.py</span></a><span style=\"color: #7f7f7f; text-decoration-color: #7f7f7f\">:</span><a href=\"file:///content/robustness_of_gnns_at_scale/experiments/experiment_local_attack_direct.py#216\" target=\"_blank\"><span style=\"color: #7f7f7f; text-decoration-color: #7f7f7f\">216</span></a>\n",
       "<span style=\"color: #7fbfbf; text-decoration-color: #7fbfbf\">                    </span>         using LocalPRBCD with pert. edges for node <span style=\"color: #008080; text-decoration-color: #008080; font-weight: bold\">2487</span>  <span style=\"color: #7f7f7f; text-decoration-color: #7f7f7f\">                                     </span>\n",
       "<span style=\"color: #7fbfbf; text-decoration-color: #7fbfbf\">                    </span>         and budget <span style=\"color: #008080; text-decoration-color: #008080; font-weight: bold\">12</span>                                    <span style=\"color: #7f7f7f; text-decoration-color: #7f7f7f\">                                     </span>\n",
       "</pre>\n"
      ]
     },
     "metadata": {}
    }
   ]
  },
  {
   "cell_type": "code",
   "source": [
    "n_change = 0\n",
    "for node in local_prbcd_statistics['results']:\n",
    "    if node['margin'] < 0:\n",
    "        n_change += 1\n",
    "flipped_ratio =  n_change / len(local_prbcd_statistics['results'])\n",
    "print(f'Percentage of changed node predictions : {100*flipped_ratio:.2f}%')"
   ],
   "metadata": {
    "colab": {
     "base_uri": "https://localhost:8080/"
    },
    "id": "Saio7dZwlulQ",
    "outputId": "8dd69aa3-53c7-4dc7-9d5a-e7294d7ec13b"
   },
   "execution_count": null,
   "outputs": [
    {
     "output_type": "stream",
     "name": "stdout",
     "text": [
      "Percentage of changed node predictions : 100.00%\n"
     ]
    }
   ]
  },
  {
   "cell_type": "markdown",
   "source": [
    "### 2.2 Global PR-BCD Attack\n",
    "\n",
    "Now let's do the same with a non-local `PR-BCD` attack. For this, we use [experiments/experiment_global_attack_direct.py](https://github.com/sigeisler/robustness_of_gnns_at_scale/blob/main/experiments/experiment_global_attack_direct.py#L63)."
   ],
   "metadata": {
    "id": "UMtpxI6cCkwz"
   }
  },
  {
   "cell_type": "code",
   "source": [
    "global_prbcd_statistics = experiment_global_attack_direct.run(\n",
    "    data_dir = './data',\n",
    "    dataset = 'cora_ml',\n",
    "    attack = 'PRBCD',\n",
    "    attack_params = dict(\n",
    "        epochs=500,\n",
    "        fine_tune_epochs=100,\n",
    "        keep_heuristic=\"WeightOnly\",\n",
    "        search_space_size=100_000,\n",
    "        do_synchronize=True,\n",
    "        loss_type=\"tanhMargin\",\n",
    "    ),\n",
    "    epsilons = [0.25],\n",
    "    binary_attr = False,\n",
    "    make_undirected = True,\n",
    "    seed=0,\n",
    "    artifact_dir = 'cache',\n",
    "    pert_adj_storage_type = 'evasion_global_adj',\n",
    "    pert_attr_storage_type = 'evasion_global_attr',\n",
    "    model_label = 'Vanilla GCN',\n",
    "    model_storage_type = 'demo',\n",
    "    #device = 0,\n",
    "    #data_device = 0,\n",
    "    device = \"cpu\",\n",
    "    data_device = \"cpu\",\n",
    "    debug_level = \"info\"\n",
    ")\n",
    "\n",
    "print(global_prbcd_statistics)"
   ],
   "metadata": {
    "colab": {
     "base_uri": "https://localhost:8080/",
     "height": 734
    },
    "id": "NdZaHYI8Had1",
    "outputId": "61bc9ae9-c347-401a-d51a-13f0100bf537"
   },
   "execution_count": null,
   "outputs": [
    {
     "output_type": "display_data",
     "data": {
      "text/plain": [
       "\u001B[2;36m[01/08/25 19:24:03]\u001B[0m\u001B[2;36m \u001B[0m\u001B[34mINFO    \u001B[0m \u001B[1m{\u001B[0m\u001B[32m'dataset'\u001B[0m: \u001B[32m'cora_ml'\u001B[0m, \u001B[32m'attack'\u001B[0m: \u001B[32m'PRBCD'\u001B[0m, \u001B[32m'attack_params'\u001B[0m: \u001B[1m{\u001B[0m\u001B[32m'epochs'\u001B[0m:     \u001B]8;id=259883;file:///content/robustness_of_gnns_at_scale/experiments/common.py\u001B\\\u001B[2mcommon.py\u001B[0m\u001B]8;;\u001B\\\u001B[2m:\u001B[0m\u001B]8;id=861888;file:///content/robustness_of_gnns_at_scale/experiments/common.py#38\u001B\\\u001B[2m38\u001B[0m\u001B]8;;\u001B\\\n",
       "\u001B[2;36m                    \u001B[0m         \u001B[1;36m500\u001B[0m, \u001B[32m'fine_tune_epochs'\u001B[0m: \u001B[1;36m100\u001B[0m, \u001B[32m'keep_heuristic'\u001B[0m: \u001B[32m'WeightOnly'\u001B[0m,             \u001B[2m            \u001B[0m\n",
       "\u001B[2;36m                    \u001B[0m         \u001B[32m'search_space_size'\u001B[0m: \u001B[1;36m100000\u001B[0m, \u001B[32m'do_synchronize'\u001B[0m: \u001B[3;92mTrue\u001B[0m, \u001B[32m'loss_type'\u001B[0m:         \u001B[2m            \u001B[0m\n",
       "\u001B[2;36m                    \u001B[0m         \u001B[32m'tanhMargin'\u001B[0m\u001B[1m}\u001B[0m, \u001B[32m'epsilons'\u001B[0m: \u001B[1m[\u001B[0m\u001B[1;36m0.25\u001B[0m\u001B[1m]\u001B[0m, \u001B[32m'make_undirected'\u001B[0m: \u001B[3;92mTrue\u001B[0m,               \u001B[2m            \u001B[0m\n",
       "\u001B[2;36m                    \u001B[0m         \u001B[32m'binary_attr'\u001B[0m: \u001B[3;91mFalse\u001B[0m, \u001B[32m'seed'\u001B[0m: \u001B[1;36m0\u001B[0m, \u001B[32m'artifact_dir'\u001B[0m: \u001B[32m'cache'\u001B[0m,                 \u001B[2m            \u001B[0m\n",
       "\u001B[2;36m                    \u001B[0m         \u001B[32m'pert_adj_storage_type'\u001B[0m: \u001B[32m'evasion_global_adj'\u001B[0m, \u001B[32m'pert_attr_storage_type'\u001B[0m:  \u001B[2m            \u001B[0m\n",
       "\u001B[2;36m                    \u001B[0m         \u001B[32m'evasion_global_attr'\u001B[0m, \u001B[32m'model_label'\u001B[0m: \u001B[32m'Vanilla GCN'\u001B[0m,                      \u001B[2m            \u001B[0m\n",
       "\u001B[2;36m                    \u001B[0m         \u001B[32m'model_storage_type'\u001B[0m: \u001B[32m'demo'\u001B[0m, \u001B[32m'device'\u001B[0m: \u001B[32m'cpu'\u001B[0m, \u001B[32m'data_device'\u001B[0m: \u001B[32m'cpu'\u001B[0m\u001B[1m}\u001B[0m      \u001B[2m            \u001B[0m\n"
      ],
      "text/html": [
       "<pre style=\"white-space:pre;overflow-x:auto;line-height:normal;font-family:Menlo,'DejaVu Sans Mono',consolas,'Courier New',monospace\"><span style=\"color: #7fbfbf; text-decoration-color: #7fbfbf\">[01/08/25 19:24:03] </span><span style=\"color: #000080; text-decoration-color: #000080\">INFO    </span> <span style=\"font-weight: bold\">{</span><span style=\"color: #008000; text-decoration-color: #008000\">'dataset'</span>: <span style=\"color: #008000; text-decoration-color: #008000\">'cora_ml'</span>, <span style=\"color: #008000; text-decoration-color: #008000\">'attack'</span>: <span style=\"color: #008000; text-decoration-color: #008000\">'PRBCD'</span>, <span style=\"color: #008000; text-decoration-color: #008000\">'attack_params'</span>: <span style=\"font-weight: bold\">{</span><span style=\"color: #008000; text-decoration-color: #008000\">'epochs'</span>:     <a href=\"file:///content/robustness_of_gnns_at_scale/experiments/common.py\" target=\"_blank\"><span style=\"color: #7f7f7f; text-decoration-color: #7f7f7f\">common.py</span></a><span style=\"color: #7f7f7f; text-decoration-color: #7f7f7f\">:</span><a href=\"file:///content/robustness_of_gnns_at_scale/experiments/common.py#38\" target=\"_blank\"><span style=\"color: #7f7f7f; text-decoration-color: #7f7f7f\">38</span></a>\n",
       "<span style=\"color: #7fbfbf; text-decoration-color: #7fbfbf\">                    </span>         <span style=\"color: #008080; text-decoration-color: #008080; font-weight: bold\">500</span>, <span style=\"color: #008000; text-decoration-color: #008000\">'fine_tune_epochs'</span>: <span style=\"color: #008080; text-decoration-color: #008080; font-weight: bold\">100</span>, <span style=\"color: #008000; text-decoration-color: #008000\">'keep_heuristic'</span>: <span style=\"color: #008000; text-decoration-color: #008000\">'WeightOnly'</span>,             <span style=\"color: #7f7f7f; text-decoration-color: #7f7f7f\">            </span>\n",
       "<span style=\"color: #7fbfbf; text-decoration-color: #7fbfbf\">                    </span>         <span style=\"color: #008000; text-decoration-color: #008000\">'search_space_size'</span>: <span style=\"color: #008080; text-decoration-color: #008080; font-weight: bold\">100000</span>, <span style=\"color: #008000; text-decoration-color: #008000\">'do_synchronize'</span>: <span style=\"color: #00ff00; text-decoration-color: #00ff00; font-style: italic\">True</span>, <span style=\"color: #008000; text-decoration-color: #008000\">'loss_type'</span>:         <span style=\"color: #7f7f7f; text-decoration-color: #7f7f7f\">            </span>\n",
       "<span style=\"color: #7fbfbf; text-decoration-color: #7fbfbf\">                    </span>         <span style=\"color: #008000; text-decoration-color: #008000\">'tanhMargin'</span><span style=\"font-weight: bold\">}</span>, <span style=\"color: #008000; text-decoration-color: #008000\">'epsilons'</span>: <span style=\"font-weight: bold\">[</span><span style=\"color: #008080; text-decoration-color: #008080; font-weight: bold\">0.25</span><span style=\"font-weight: bold\">]</span>, <span style=\"color: #008000; text-decoration-color: #008000\">'make_undirected'</span>: <span style=\"color: #00ff00; text-decoration-color: #00ff00; font-style: italic\">True</span>,               <span style=\"color: #7f7f7f; text-decoration-color: #7f7f7f\">            </span>\n",
       "<span style=\"color: #7fbfbf; text-decoration-color: #7fbfbf\">                    </span>         <span style=\"color: #008000; text-decoration-color: #008000\">'binary_attr'</span>: <span style=\"color: #ff0000; text-decoration-color: #ff0000; font-style: italic\">False</span>, <span style=\"color: #008000; text-decoration-color: #008000\">'seed'</span>: <span style=\"color: #008080; text-decoration-color: #008080; font-weight: bold\">0</span>, <span style=\"color: #008000; text-decoration-color: #008000\">'artifact_dir'</span>: <span style=\"color: #008000; text-decoration-color: #008000\">'cache'</span>,                 <span style=\"color: #7f7f7f; text-decoration-color: #7f7f7f\">            </span>\n",
       "<span style=\"color: #7fbfbf; text-decoration-color: #7fbfbf\">                    </span>         <span style=\"color: #008000; text-decoration-color: #008000\">'pert_adj_storage_type'</span>: <span style=\"color: #008000; text-decoration-color: #008000\">'evasion_global_adj'</span>, <span style=\"color: #008000; text-decoration-color: #008000\">'pert_attr_storage_type'</span>:  <span style=\"color: #7f7f7f; text-decoration-color: #7f7f7f\">            </span>\n",
       "<span style=\"color: #7fbfbf; text-decoration-color: #7fbfbf\">                    </span>         <span style=\"color: #008000; text-decoration-color: #008000\">'evasion_global_attr'</span>, <span style=\"color: #008000; text-decoration-color: #008000\">'model_label'</span>: <span style=\"color: #008000; text-decoration-color: #008000\">'Vanilla GCN'</span>,                      <span style=\"color: #7f7f7f; text-decoration-color: #7f7f7f\">            </span>\n",
       "<span style=\"color: #7fbfbf; text-decoration-color: #7fbfbf\">                    </span>         <span style=\"color: #008000; text-decoration-color: #008000\">'model_storage_type'</span>: <span style=\"color: #008000; text-decoration-color: #008000\">'demo'</span>, <span style=\"color: #008000; text-decoration-color: #008000\">'device'</span>: <span style=\"color: #008000; text-decoration-color: #008000\">'cpu'</span>, <span style=\"color: #008000; text-decoration-color: #008000\">'data_device'</span>: <span style=\"color: #008000; text-decoration-color: #008000\">'cpu'</span><span style=\"font-weight: bold\">}</span>      <span style=\"color: #7f7f7f; text-decoration-color: #7f7f7f\">            </span>\n",
       "</pre>\n"
      ]
     },
     "metadata": {}
    },
    {
     "output_type": "display_data",
     "data": {
      "text/plain": [
       "\u001B[2;36m                   \u001B[0m\u001B[2;36m \u001B[0m\u001B[34mINFO    \u001B[0m Evaluate  PRBCD for model \u001B[32m'Vanilla GCN'\u001B[0m.        \u001B]8;id=814253;file:///content/robustness_of_gnns_at_scale/experiments/experiment_global_attack_direct.py\u001B\\\u001B[2mexperiment_global_attack_direct.py\u001B[0m\u001B]8;;\u001B\\\u001B[2m:\u001B[0m\u001B]8;id=973611;file:///content/robustness_of_gnns_at_scale/experiments/experiment_global_attack_direct.py#138\u001B\\\u001B[2m138\u001B[0m\u001B]8;;\u001B\\\n"
      ],
      "text/html": [
       "<pre style=\"white-space:pre;overflow-x:auto;line-height:normal;font-family:Menlo,'DejaVu Sans Mono',consolas,'Courier New',monospace\"><span style=\"color: #7fbfbf; text-decoration-color: #7fbfbf\">                    </span><span style=\"color: #000080; text-decoration-color: #000080\">INFO    </span> Evaluate  PRBCD for model <span style=\"color: #008000; text-decoration-color: #008000\">'Vanilla GCN'</span>.        <a href=\"file:///content/robustness_of_gnns_at_scale/experiments/experiment_global_attack_direct.py\" target=\"_blank\"><span style=\"color: #7f7f7f; text-decoration-color: #7f7f7f\">experiment_global_attack_direct.py</span></a><span style=\"color: #7f7f7f; text-decoration-color: #7f7f7f\">:</span><a href=\"file:///content/robustness_of_gnns_at_scale/experiments/experiment_global_attack_direct.py#138\" target=\"_blank\"><span style=\"color: #7f7f7f; text-decoration-color: #7f7f7f\">138</span></a>\n",
       "</pre>\n"
      ]
     },
     "metadata": {}
    },
    {
     "output_type": "display_data",
     "data": {
      "text/plain": [
       "\u001B[2;36m                   \u001B[0m\u001B[2;36m \u001B[0m\u001B[34mINFO    \u001B[0m No cached perturbations found for model \u001B[32m'Vanilla GCN'\u001B[0m and eps \u001B[1;36m0.25\u001B[0m.      \u001B]8;id=473231;file:///content/robustness_of_gnns_at_scale/experiments/common.py\u001B\\\u001B[2mcommon.py\u001B[0m\u001B]8;;\u001B\\\u001B[2m:\u001B[0m\u001B]8;id=263066;file:///content/robustness_of_gnns_at_scale/experiments/common.py#109\u001B\\\u001B[2m109\u001B[0m\u001B]8;;\u001B\\\n",
       "\u001B[2;36m                    \u001B[0m         Execute attack\u001B[33m...\u001B[0m                                                        \u001B[2m             \u001B[0m\n"
      ],
      "text/html": [
       "<pre style=\"white-space:pre;overflow-x:auto;line-height:normal;font-family:Menlo,'DejaVu Sans Mono',consolas,'Courier New',monospace\"><span style=\"color: #7fbfbf; text-decoration-color: #7fbfbf\">                    </span><span style=\"color: #000080; text-decoration-color: #000080\">INFO    </span> No cached perturbations found for model <span style=\"color: #008000; text-decoration-color: #008000\">'Vanilla GCN'</span> and eps <span style=\"color: #008080; text-decoration-color: #008080; font-weight: bold\">0.25</span>.      <a href=\"file:///content/robustness_of_gnns_at_scale/experiments/common.py\" target=\"_blank\"><span style=\"color: #7f7f7f; text-decoration-color: #7f7f7f\">common.py</span></a><span style=\"color: #7f7f7f; text-decoration-color: #7f7f7f\">:</span><a href=\"file:///content/robustness_of_gnns_at_scale/experiments/common.py#109\" target=\"_blank\"><span style=\"color: #7f7f7f; text-decoration-color: #7f7f7f\">109</span></a>\n",
       "<span style=\"color: #7fbfbf; text-decoration-color: #7fbfbf\">                    </span>         Execute attack<span style=\"color: #808000; text-decoration-color: #808000\">...</span>                                                        <span style=\"color: #7f7f7f; text-decoration-color: #7f7f7f\">             </span>\n",
       "</pre>\n"
      ]
     },
     "metadata": {}
    },
    {
     "output_type": "display_data",
     "data": {
      "text/plain": [
       "\u001B[2;36m[01/08/25 19:24:04]\u001B[0m\u001B[2;36m \u001B[0m\u001B[34mINFO    \u001B[0m                                                                            \u001B]8;id=596351;file:///content/robustness_of_gnns_at_scale/rgnn_at_scale/attacks/prbcd.py\u001B\\\u001B[2mprbcd.py\u001B[0m\u001B]8;;\u001B\\\u001B[2m:\u001B[0m\u001B]8;id=610692;file:///content/robustness_of_gnns_at_scale/rgnn_at_scale/attacks/prbcd.py#86\u001B\\\u001B[2m86\u001B[0m\u001B]8;;\u001B\\\n",
       "\u001B[2;36m                    \u001B[0m         Before the attack - Loss: \u001B[1;36m-0.6511061787605286\u001B[0m Accuracy: \u001B[1;36m83.439\u001B[0m %           \u001B[2m           \u001B[0m\n",
       "\u001B[2;36m                    \u001B[0m                                                                                    \u001B[2m           \u001B[0m\n"
      ],
      "text/html": [
       "<pre style=\"white-space:pre;overflow-x:auto;line-height:normal;font-family:Menlo,'DejaVu Sans Mono',consolas,'Courier New',monospace\"><span style=\"color: #7fbfbf; text-decoration-color: #7fbfbf\">[01/08/25 19:24:04] </span><span style=\"color: #000080; text-decoration-color: #000080\">INFO    </span>                                                                            <a href=\"file:///content/robustness_of_gnns_at_scale/rgnn_at_scale/attacks/prbcd.py\" target=\"_blank\"><span style=\"color: #7f7f7f; text-decoration-color: #7f7f7f\">prbcd.py</span></a><span style=\"color: #7f7f7f; text-decoration-color: #7f7f7f\">:</span><a href=\"file:///content/robustness_of_gnns_at_scale/rgnn_at_scale/attacks/prbcd.py#86\" target=\"_blank\"><span style=\"color: #7f7f7f; text-decoration-color: #7f7f7f\">86</span></a>\n",
       "<span style=\"color: #7fbfbf; text-decoration-color: #7fbfbf\">                    </span>         Before the attack - Loss: <span style=\"color: #008080; text-decoration-color: #008080; font-weight: bold\">-0.6511061787605286</span> Accuracy: <span style=\"color: #008080; text-decoration-color: #008080; font-weight: bold\">83.439</span> %           <span style=\"color: #7f7f7f; text-decoration-color: #7f7f7f\">           </span>\n",
       "<span style=\"color: #7fbfbf; text-decoration-color: #7fbfbf\">                    </span>                                                                                    <span style=\"color: #7f7f7f; text-decoration-color: #7f7f7f\">           </span>\n",
       "</pre>\n"
      ]
     },
     "metadata": {}
    },
    {
     "output_type": "stream",
     "name": "stderr",
     "text": [
      "\r  0%|          | 0/500 [00:00<?, ?it/s]"
     ]
    },
    {
     "output_type": "display_data",
     "data": {
      "text/plain": [
       "\u001B[2;36m[01/08/25 19:24:13]\u001B[0m\u001B[2;36m \u001B[0m\u001B[34mINFO    \u001B[0m                                                                           \u001B]8;id=323528;file:///content/robustness_of_gnns_at_scale/rgnn_at_scale/attacks/prbcd.py\u001B\\\u001B[2mprbcd.py\u001B[0m\u001B]8;;\u001B\\\u001B[2m:\u001B[0m\u001B]8;id=593423;file:///content/robustness_of_gnns_at_scale/rgnn_at_scale/attacks/prbcd.py#132\u001B\\\u001B[2m132\u001B[0m\u001B]8;;\u001B\\\n",
       "\u001B[2;36m                    \u001B[0m         Epoch: \u001B[1;36m0\u001B[0m Loss: \u001B[1;36m-0.6510993242263794\u001B[0m Accuracy: \u001B[1;36m79.051\u001B[0m %                     \u001B[2m            \u001B[0m\n",
       "\u001B[2;36m                    \u001B[0m                                                                                   \u001B[2m            \u001B[0m\n"
      ],
      "text/html": [
       "<pre style=\"white-space:pre;overflow-x:auto;line-height:normal;font-family:Menlo,'DejaVu Sans Mono',consolas,'Courier New',monospace\"><span style=\"color: #7fbfbf; text-decoration-color: #7fbfbf\">[01/08/25 19:24:13] </span><span style=\"color: #000080; text-decoration-color: #000080\">INFO    </span>                                                                           <a href=\"file:///content/robustness_of_gnns_at_scale/rgnn_at_scale/attacks/prbcd.py\" target=\"_blank\"><span style=\"color: #7f7f7f; text-decoration-color: #7f7f7f\">prbcd.py</span></a><span style=\"color: #7f7f7f; text-decoration-color: #7f7f7f\">:</span><a href=\"file:///content/robustness_of_gnns_at_scale/rgnn_at_scale/attacks/prbcd.py#132\" target=\"_blank\"><span style=\"color: #7f7f7f; text-decoration-color: #7f7f7f\">132</span></a>\n",
       "<span style=\"color: #7fbfbf; text-decoration-color: #7fbfbf\">                    </span>         Epoch: <span style=\"color: #008080; text-decoration-color: #008080; font-weight: bold\">0</span> Loss: <span style=\"color: #008080; text-decoration-color: #008080; font-weight: bold\">-0.6510993242263794</span> Accuracy: <span style=\"color: #008080; text-decoration-color: #008080; font-weight: bold\">79.051</span> %                     <span style=\"color: #7f7f7f; text-decoration-color: #7f7f7f\">            </span>\n",
       "<span style=\"color: #7fbfbf; text-decoration-color: #7fbfbf\">                    </span>                                                                                   <span style=\"color: #7f7f7f; text-decoration-color: #7f7f7f\">            </span>\n",
       "</pre>\n"
      ]
     },
     "metadata": {}
    },
    {
     "output_type": "stream",
     "name": "stderr",
     "text": [
      "  4%|▍         | 20/500 [03:09<1:15:13,  9.40s/it]"
     ]
    },
    {
     "output_type": "display_data",
     "data": {
      "text/plain": [
       "\u001B[2;36m[01/08/25 19:27:22]\u001B[0m\u001B[2;36m \u001B[0m\u001B[34mINFO    \u001B[0m                                                                           \u001B]8;id=552333;file:///content/robustness_of_gnns_at_scale/rgnn_at_scale/attacks/prbcd.py\u001B\\\u001B[2mprbcd.py\u001B[0m\u001B]8;;\u001B\\\u001B[2m:\u001B[0m\u001B]8;id=42856;file:///content/robustness_of_gnns_at_scale/rgnn_at_scale/attacks/prbcd.py#132\u001B\\\u001B[2m132\u001B[0m\u001B]8;;\u001B\\\n",
       "\u001B[2;36m                    \u001B[0m         Epoch: \u001B[1;36m20\u001B[0m Loss: \u001B[1;36m-0.24453163146972656\u001B[0m Accuracy: \u001B[1;36m60.672\u001B[0m %                   \u001B[2m            \u001B[0m\n",
       "\u001B[2;36m                    \u001B[0m                                                                                   \u001B[2m            \u001B[0m\n"
      ],
      "text/html": [
       "<pre style=\"white-space:pre;overflow-x:auto;line-height:normal;font-family:Menlo,'DejaVu Sans Mono',consolas,'Courier New',monospace\"><span style=\"color: #7fbfbf; text-decoration-color: #7fbfbf\">[01/08/25 19:27:22] </span><span style=\"color: #000080; text-decoration-color: #000080\">INFO    </span>                                                                           <a href=\"file:///content/robustness_of_gnns_at_scale/rgnn_at_scale/attacks/prbcd.py\" target=\"_blank\"><span style=\"color: #7f7f7f; text-decoration-color: #7f7f7f\">prbcd.py</span></a><span style=\"color: #7f7f7f; text-decoration-color: #7f7f7f\">:</span><a href=\"file:///content/robustness_of_gnns_at_scale/rgnn_at_scale/attacks/prbcd.py#132\" target=\"_blank\"><span style=\"color: #7f7f7f; text-decoration-color: #7f7f7f\">132</span></a>\n",
       "<span style=\"color: #7fbfbf; text-decoration-color: #7fbfbf\">                    </span>         Epoch: <span style=\"color: #008080; text-decoration-color: #008080; font-weight: bold\">20</span> Loss: <span style=\"color: #008080; text-decoration-color: #008080; font-weight: bold\">-0.24453163146972656</span> Accuracy: <span style=\"color: #008080; text-decoration-color: #008080; font-weight: bold\">60.672</span> %                   <span style=\"color: #7f7f7f; text-decoration-color: #7f7f7f\">            </span>\n",
       "<span style=\"color: #7fbfbf; text-decoration-color: #7fbfbf\">                    </span>                                                                                   <span style=\"color: #7f7f7f; text-decoration-color: #7f7f7f\">            </span>\n",
       "</pre>\n"
      ]
     },
     "metadata": {}
    },
    {
     "output_type": "stream",
     "name": "stderr",
     "text": [
      "  8%|▊         | 40/500 [06:18<1:13:28,  9.58s/it]"
     ]
    },
    {
     "output_type": "display_data",
     "data": {
      "text/plain": [
       "\u001B[2;36m[01/08/25 19:30:32]\u001B[0m\u001B[2;36m \u001B[0m\u001B[34mINFO    \u001B[0m                                                                           \u001B]8;id=456101;file:///content/robustness_of_gnns_at_scale/rgnn_at_scale/attacks/prbcd.py\u001B\\\u001B[2mprbcd.py\u001B[0m\u001B]8;;\u001B\\\u001B[2m:\u001B[0m\u001B]8;id=611665;file:///content/robustness_of_gnns_at_scale/rgnn_at_scale/attacks/prbcd.py#132\u001B\\\u001B[2m132\u001B[0m\u001B]8;;\u001B\\\n",
       "\u001B[2;36m                    \u001B[0m         Epoch: \u001B[1;36m40\u001B[0m Loss: \u001B[1;36m-0.16238142549991608\u001B[0m Accuracy: \u001B[1;36m56.957\u001B[0m %                   \u001B[2m            \u001B[0m\n",
       "\u001B[2;36m                    \u001B[0m                                                                                   \u001B[2m            \u001B[0m\n"
      ],
      "text/html": [
       "<pre style=\"white-space:pre;overflow-x:auto;line-height:normal;font-family:Menlo,'DejaVu Sans Mono',consolas,'Courier New',monospace\"><span style=\"color: #7fbfbf; text-decoration-color: #7fbfbf\">[01/08/25 19:30:32] </span><span style=\"color: #000080; text-decoration-color: #000080\">INFO    </span>                                                                           <a href=\"file:///content/robustness_of_gnns_at_scale/rgnn_at_scale/attacks/prbcd.py\" target=\"_blank\"><span style=\"color: #7f7f7f; text-decoration-color: #7f7f7f\">prbcd.py</span></a><span style=\"color: #7f7f7f; text-decoration-color: #7f7f7f\">:</span><a href=\"file:///content/robustness_of_gnns_at_scale/rgnn_at_scale/attacks/prbcd.py#132\" target=\"_blank\"><span style=\"color: #7f7f7f; text-decoration-color: #7f7f7f\">132</span></a>\n",
       "<span style=\"color: #7fbfbf; text-decoration-color: #7fbfbf\">                    </span>         Epoch: <span style=\"color: #008080; text-decoration-color: #008080; font-weight: bold\">40</span> Loss: <span style=\"color: #008080; text-decoration-color: #008080; font-weight: bold\">-0.16238142549991608</span> Accuracy: <span style=\"color: #008080; text-decoration-color: #008080; font-weight: bold\">56.957</span> %                   <span style=\"color: #7f7f7f; text-decoration-color: #7f7f7f\">            </span>\n",
       "<span style=\"color: #7fbfbf; text-decoration-color: #7fbfbf\">                    </span>                                                                                   <span style=\"color: #7f7f7f; text-decoration-color: #7f7f7f\">            </span>\n",
       "</pre>\n"
      ]
     },
     "metadata": {}
    },
    {
     "output_type": "stream",
     "name": "stderr",
     "text": [
      " 12%|█▏        | 60/500 [09:25<1:09:53,  9.53s/it]"
     ]
    },
    {
     "output_type": "display_data",
     "data": {
      "text/plain": [
       "\u001B[2;36m[01/08/25 19:33:39]\u001B[0m\u001B[2;36m \u001B[0m\u001B[34mINFO    \u001B[0m                                                                           \u001B]8;id=987569;file:///content/robustness_of_gnns_at_scale/rgnn_at_scale/attacks/prbcd.py\u001B\\\u001B[2mprbcd.py\u001B[0m\u001B]8;;\u001B\\\u001B[2m:\u001B[0m\u001B]8;id=321940;file:///content/robustness_of_gnns_at_scale/rgnn_at_scale/attacks/prbcd.py#132\u001B\\\u001B[2m132\u001B[0m\u001B]8;;\u001B\\\n",
       "\u001B[2;36m                    \u001B[0m         Epoch: \u001B[1;36m60\u001B[0m Loss: \u001B[1;36m-0.13186274468898773\u001B[0m Accuracy: \u001B[1;36m55.534\u001B[0m %                   \u001B[2m            \u001B[0m\n",
       "\u001B[2;36m                    \u001B[0m                                                                                   \u001B[2m            \u001B[0m\n"
      ],
      "text/html": [
       "<pre style=\"white-space:pre;overflow-x:auto;line-height:normal;font-family:Menlo,'DejaVu Sans Mono',consolas,'Courier New',monospace\"><span style=\"color: #7fbfbf; text-decoration-color: #7fbfbf\">[01/08/25 19:33:39] </span><span style=\"color: #000080; text-decoration-color: #000080\">INFO    </span>                                                                           <a href=\"file:///content/robustness_of_gnns_at_scale/rgnn_at_scale/attacks/prbcd.py\" target=\"_blank\"><span style=\"color: #7f7f7f; text-decoration-color: #7f7f7f\">prbcd.py</span></a><span style=\"color: #7f7f7f; text-decoration-color: #7f7f7f\">:</span><a href=\"file:///content/robustness_of_gnns_at_scale/rgnn_at_scale/attacks/prbcd.py#132\" target=\"_blank\"><span style=\"color: #7f7f7f; text-decoration-color: #7f7f7f\">132</span></a>\n",
       "<span style=\"color: #7fbfbf; text-decoration-color: #7fbfbf\">                    </span>         Epoch: <span style=\"color: #008080; text-decoration-color: #008080; font-weight: bold\">60</span> Loss: <span style=\"color: #008080; text-decoration-color: #008080; font-weight: bold\">-0.13186274468898773</span> Accuracy: <span style=\"color: #008080; text-decoration-color: #008080; font-weight: bold\">55.534</span> %                   <span style=\"color: #7f7f7f; text-decoration-color: #7f7f7f\">            </span>\n",
       "<span style=\"color: #7fbfbf; text-decoration-color: #7fbfbf\">                    </span>                                                                                   <span style=\"color: #7f7f7f; text-decoration-color: #7f7f7f\">            </span>\n",
       "</pre>\n"
      ]
     },
     "metadata": {}
    },
    {
     "output_type": "stream",
     "name": "stderr",
     "text": [
      " 16%|█▌        | 80/500 [12:34<1:06:18,  9.47s/it]"
     ]
    },
    {
     "output_type": "display_data",
     "data": {
      "text/plain": [
       "\u001B[2;36m[01/08/25 19:36:49]\u001B[0m\u001B[2;36m \u001B[0m\u001B[34mINFO    \u001B[0m                                                                           \u001B]8;id=45116;file:///content/robustness_of_gnns_at_scale/rgnn_at_scale/attacks/prbcd.py\u001B\\\u001B[2mprbcd.py\u001B[0m\u001B]8;;\u001B\\\u001B[2m:\u001B[0m\u001B]8;id=232975;file:///content/robustness_of_gnns_at_scale/rgnn_at_scale/attacks/prbcd.py#132\u001B\\\u001B[2m132\u001B[0m\u001B]8;;\u001B\\\n",
       "\u001B[2;36m                    \u001B[0m         Epoch: \u001B[1;36m80\u001B[0m Loss: \u001B[1;36m-0.11300715804100037\u001B[0m Accuracy: \u001B[1;36m54.506\u001B[0m %                   \u001B[2m            \u001B[0m\n",
       "\u001B[2;36m                    \u001B[0m                                                                                   \u001B[2m            \u001B[0m\n"
      ],
      "text/html": [
       "<pre style=\"white-space:pre;overflow-x:auto;line-height:normal;font-family:Menlo,'DejaVu Sans Mono',consolas,'Courier New',monospace\"><span style=\"color: #7fbfbf; text-decoration-color: #7fbfbf\">[01/08/25 19:36:49] </span><span style=\"color: #000080; text-decoration-color: #000080\">INFO    </span>                                                                           <a href=\"file:///content/robustness_of_gnns_at_scale/rgnn_at_scale/attacks/prbcd.py\" target=\"_blank\"><span style=\"color: #7f7f7f; text-decoration-color: #7f7f7f\">prbcd.py</span></a><span style=\"color: #7f7f7f; text-decoration-color: #7f7f7f\">:</span><a href=\"file:///content/robustness_of_gnns_at_scale/rgnn_at_scale/attacks/prbcd.py#132\" target=\"_blank\"><span style=\"color: #7f7f7f; text-decoration-color: #7f7f7f\">132</span></a>\n",
       "<span style=\"color: #7fbfbf; text-decoration-color: #7fbfbf\">                    </span>         Epoch: <span style=\"color: #008080; text-decoration-color: #008080; font-weight: bold\">80</span> Loss: <span style=\"color: #008080; text-decoration-color: #008080; font-weight: bold\">-0.11300715804100037</span> Accuracy: <span style=\"color: #008080; text-decoration-color: #008080; font-weight: bold\">54.506</span> %                   <span style=\"color: #7f7f7f; text-decoration-color: #7f7f7f\">            </span>\n",
       "<span style=\"color: #7fbfbf; text-decoration-color: #7fbfbf\">                    </span>                                                                                   <span style=\"color: #7f7f7f; text-decoration-color: #7f7f7f\">            </span>\n",
       "</pre>\n"
      ]
     },
     "metadata": {}
    },
    {
     "output_type": "stream",
     "name": "stderr",
     "text": [
      " 20%|██        | 100/500 [15:45<1:02:48,  9.42s/it]"
     ]
    },
    {
     "output_type": "display_data",
     "data": {
      "text/plain": [
       "\u001B[2;36m[01/08/25 19:39:59]\u001B[0m\u001B[2;36m \u001B[0m\u001B[34mINFO    \u001B[0m                                                                           \u001B]8;id=46440;file:///content/robustness_of_gnns_at_scale/rgnn_at_scale/attacks/prbcd.py\u001B\\\u001B[2mprbcd.py\u001B[0m\u001B]8;;\u001B\\\u001B[2m:\u001B[0m\u001B]8;id=537010;file:///content/robustness_of_gnns_at_scale/rgnn_at_scale/attacks/prbcd.py#132\u001B\\\u001B[2m132\u001B[0m\u001B]8;;\u001B\\\n",
       "\u001B[2;36m                    \u001B[0m         Epoch: \u001B[1;36m100\u001B[0m Loss: \u001B[1;36m-0.10065988451242447\u001B[0m Accuracy: \u001B[1;36m53.874\u001B[0m %                  \u001B[2m            \u001B[0m\n",
       "\u001B[2;36m                    \u001B[0m                                                                                   \u001B[2m            \u001B[0m\n"
      ],
      "text/html": [
       "<pre style=\"white-space:pre;overflow-x:auto;line-height:normal;font-family:Menlo,'DejaVu Sans Mono',consolas,'Courier New',monospace\"><span style=\"color: #7fbfbf; text-decoration-color: #7fbfbf\">[01/08/25 19:39:59] </span><span style=\"color: #000080; text-decoration-color: #000080\">INFO    </span>                                                                           <a href=\"file:///content/robustness_of_gnns_at_scale/rgnn_at_scale/attacks/prbcd.py\" target=\"_blank\"><span style=\"color: #7f7f7f; text-decoration-color: #7f7f7f\">prbcd.py</span></a><span style=\"color: #7f7f7f; text-decoration-color: #7f7f7f\">:</span><a href=\"file:///content/robustness_of_gnns_at_scale/rgnn_at_scale/attacks/prbcd.py#132\" target=\"_blank\"><span style=\"color: #7f7f7f; text-decoration-color: #7f7f7f\">132</span></a>\n",
       "<span style=\"color: #7fbfbf; text-decoration-color: #7fbfbf\">                    </span>         Epoch: <span style=\"color: #008080; text-decoration-color: #008080; font-weight: bold\">100</span> Loss: <span style=\"color: #008080; text-decoration-color: #008080; font-weight: bold\">-0.10065988451242447</span> Accuracy: <span style=\"color: #008080; text-decoration-color: #008080; font-weight: bold\">53.874</span> %                  <span style=\"color: #7f7f7f; text-decoration-color: #7f7f7f\">            </span>\n",
       "<span style=\"color: #7fbfbf; text-decoration-color: #7fbfbf\">                    </span>                                                                                   <span style=\"color: #7f7f7f; text-decoration-color: #7f7f7f\">            </span>\n",
       "</pre>\n"
      ]
     },
     "metadata": {}
    },
    {
     "output_type": "stream",
     "name": "stderr",
     "text": [
      " 24%|██▍       | 120/500 [18:58<1:00:54,  9.62s/it]"
     ]
    },
    {
     "output_type": "display_data",
     "data": {
      "text/plain": [
       "\u001B[2;36m[01/08/25 19:43:11]\u001B[0m\u001B[2;36m \u001B[0m\u001B[34mINFO    \u001B[0m                                                                           \u001B]8;id=519570;file:///content/robustness_of_gnns_at_scale/rgnn_at_scale/attacks/prbcd.py\u001B\\\u001B[2mprbcd.py\u001B[0m\u001B]8;;\u001B\\\u001B[2m:\u001B[0m\u001B]8;id=301469;file:///content/robustness_of_gnns_at_scale/rgnn_at_scale/attacks/prbcd.py#132\u001B\\\u001B[2m132\u001B[0m\u001B]8;;\u001B\\\n",
       "\u001B[2;36m                    \u001B[0m         Epoch: \u001B[1;36m120\u001B[0m Loss: \u001B[1;36m-0.08779348433017731\u001B[0m Accuracy: \u001B[1;36m53.123\u001B[0m %                  \u001B[2m            \u001B[0m\n",
       "\u001B[2;36m                    \u001B[0m                                                                                   \u001B[2m            \u001B[0m\n"
      ],
      "text/html": [
       "<pre style=\"white-space:pre;overflow-x:auto;line-height:normal;font-family:Menlo,'DejaVu Sans Mono',consolas,'Courier New',monospace\"><span style=\"color: #7fbfbf; text-decoration-color: #7fbfbf\">[01/08/25 19:43:11] </span><span style=\"color: #000080; text-decoration-color: #000080\">INFO    </span>                                                                           <a href=\"file:///content/robustness_of_gnns_at_scale/rgnn_at_scale/attacks/prbcd.py\" target=\"_blank\"><span style=\"color: #7f7f7f; text-decoration-color: #7f7f7f\">prbcd.py</span></a><span style=\"color: #7f7f7f; text-decoration-color: #7f7f7f\">:</span><a href=\"file:///content/robustness_of_gnns_at_scale/rgnn_at_scale/attacks/prbcd.py#132\" target=\"_blank\"><span style=\"color: #7f7f7f; text-decoration-color: #7f7f7f\">132</span></a>\n",
       "<span style=\"color: #7fbfbf; text-decoration-color: #7fbfbf\">                    </span>         Epoch: <span style=\"color: #008080; text-decoration-color: #008080; font-weight: bold\">120</span> Loss: <span style=\"color: #008080; text-decoration-color: #008080; font-weight: bold\">-0.08779348433017731</span> Accuracy: <span style=\"color: #008080; text-decoration-color: #008080; font-weight: bold\">53.123</span> %                  <span style=\"color: #7f7f7f; text-decoration-color: #7f7f7f\">            </span>\n",
       "<span style=\"color: #7fbfbf; text-decoration-color: #7fbfbf\">                    </span>                                                                                   <span style=\"color: #7f7f7f; text-decoration-color: #7f7f7f\">            </span>\n",
       "</pre>\n"
      ]
     },
     "metadata": {}
    }
   ]
  },
  {
   "cell_type": "code",
   "source": [
    "perturbed_acc = global_prbcd_statistics[\"results\"][0]['accuracy']\n",
    "print(f'Clean accuracy: {100*clean_acc:.2f}%; Accuracy after global PRBCD attack: {100*perturbed_acc:.2f}%')"
   ],
   "metadata": {
    "colab": {
     "base_uri": "https://localhost:8080/"
    },
    "id": "UQwlL5mnkXHO",
    "outputId": "03150aca-0629-443b-c494-a01bdd06b653"
   },
   "execution_count": null,
   "outputs": [
    {
     "output_type": "stream",
     "name": "stdout",
     "text": [
      "Clean accuracy: 81.90%; Accuracy after global PRBCD attack: 52.25%\n"
     ]
    }
   ]
  }
 ]
}
