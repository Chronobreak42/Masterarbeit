{
 "nbformat": 4,
 "nbformat_minor": 0,
 "metadata": {
  "colab": {
   "name": "Quick_start-robustness_gnns_at_scale.ipynb",
   "provenance": [],
   "include_colab_link": true
  },
  "kernelspec": {
   "name": "python3",
   "language": "python",
   "display_name": "Python 3 (ipykernel)"
  },
  "language_info": {
   "name": "python"
  },
  "widgets": {
   "application/vnd.jupyter.widget-state+json": {
    "000ed2b3357742d680f3d8bb10372d47": {
     "model_module": "@jupyter-widgets/controls",
     "model_name": "HBoxModel",
     "model_module_version": "1.5.0",
     "state": {
      "_dom_classes": [],
      "_model_module": "@jupyter-widgets/controls",
      "_model_module_version": "1.5.0",
      "_model_name": "HBoxModel",
      "_view_count": null,
      "_view_module": "@jupyter-widgets/controls",
      "_view_module_version": "1.5.0",
      "_view_name": "HBoxView",
      "box_style": "",
      "children": [
       "IPY_MODEL_2c3b9c694dac42e4947c6798b999d507",
       "IPY_MODEL_58efe96af90246eeb74dec5024a3c66f",
       "IPY_MODEL_c256707289d140779e4daf03002dfb23"
      ],
      "layout": "IPY_MODEL_49d4155957174a0db14dc498bdb0f180"
     }
    },
    "2c3b9c694dac42e4947c6798b999d507": {
     "model_module": "@jupyter-widgets/controls",
     "model_name": "HTMLModel",
     "model_module_version": "1.5.0",
     "state": {
      "_dom_classes": [],
      "_model_module": "@jupyter-widgets/controls",
      "_model_module_version": "1.5.0",
      "_model_name": "HTMLModel",
      "_view_count": null,
      "_view_module": "@jupyter-widgets/controls",
      "_view_module_version": "1.5.0",
      "_view_name": "HTMLView",
      "description": "",
      "description_tooltip": null,
      "layout": "IPY_MODEL_dd68ea00665644b5b6f39d35c2f5c147",
      "placeholder": "​",
      "style": "IPY_MODEL_7c14ad56ff064b7da7db30e28d74bb75",
      "value": "Training...:  22%"
     }
    },
    "58efe96af90246eeb74dec5024a3c66f": {
     "model_module": "@jupyter-widgets/controls",
     "model_name": "FloatProgressModel",
     "model_module_version": "1.5.0",
     "state": {
      "_dom_classes": [],
      "_model_module": "@jupyter-widgets/controls",
      "_model_module_version": "1.5.0",
      "_model_name": "FloatProgressModel",
      "_view_count": null,
      "_view_module": "@jupyter-widgets/controls",
      "_view_module_version": "1.5.0",
      "_view_name": "ProgressView",
      "bar_style": "danger",
      "description": "",
      "description_tooltip": null,
      "layout": "IPY_MODEL_f6621bf7efc54e2d94d54bd9908fbc80",
      "max": 3000,
      "min": 0,
      "orientation": "horizontal",
      "style": "IPY_MODEL_214af2ad15df45e486cd9371925d055f",
      "value": 665
     }
    },
    "c256707289d140779e4daf03002dfb23": {
     "model_module": "@jupyter-widgets/controls",
     "model_name": "HTMLModel",
     "model_module_version": "1.5.0",
     "state": {
      "_dom_classes": [],
      "_model_module": "@jupyter-widgets/controls",
      "_model_module_version": "1.5.0",
      "_model_name": "HTMLModel",
      "_view_count": null,
      "_view_module": "@jupyter-widgets/controls",
      "_view_module_version": "1.5.0",
      "_view_name": "HTMLView",
      "description": "",
      "description_tooltip": null,
      "layout": "IPY_MODEL_9bcc48723add48f2abb94955239a59e4",
      "placeholder": "​",
      "style": "IPY_MODEL_75ad556f38c04bc0b4b8a94b6ca453f7",
      "value": " 665/3000 [01:05&lt;03:19, 11.70it/s]"
     }
    },
    "49d4155957174a0db14dc498bdb0f180": {
     "model_module": "@jupyter-widgets/base",
     "model_name": "LayoutModel",
     "model_module_version": "1.2.0",
     "state": {
      "_model_module": "@jupyter-widgets/base",
      "_model_module_version": "1.2.0",
      "_model_name": "LayoutModel",
      "_view_count": null,
      "_view_module": "@jupyter-widgets/base",
      "_view_module_version": "1.2.0",
      "_view_name": "LayoutView",
      "align_content": null,
      "align_items": null,
      "align_self": null,
      "border": null,
      "bottom": null,
      "display": null,
      "flex": null,
      "flex_flow": null,
      "grid_area": null,
      "grid_auto_columns": null,
      "grid_auto_flow": null,
      "grid_auto_rows": null,
      "grid_column": null,
      "grid_gap": null,
      "grid_row": null,
      "grid_template_areas": null,
      "grid_template_columns": null,
      "grid_template_rows": null,
      "height": null,
      "justify_content": null,
      "justify_items": null,
      "left": null,
      "margin": null,
      "max_height": null,
      "max_width": null,
      "min_height": null,
      "min_width": null,
      "object_fit": null,
      "object_position": null,
      "order": null,
      "overflow": null,
      "overflow_x": null,
      "overflow_y": null,
      "padding": null,
      "right": null,
      "top": null,
      "visibility": null,
      "width": null
     }
    },
    "dd68ea00665644b5b6f39d35c2f5c147": {
     "model_module": "@jupyter-widgets/base",
     "model_name": "LayoutModel",
     "model_module_version": "1.2.0",
     "state": {
      "_model_module": "@jupyter-widgets/base",
      "_model_module_version": "1.2.0",
      "_model_name": "LayoutModel",
      "_view_count": null,
      "_view_module": "@jupyter-widgets/base",
      "_view_module_version": "1.2.0",
      "_view_name": "LayoutView",
      "align_content": null,
      "align_items": null,
      "align_self": null,
      "border": null,
      "bottom": null,
      "display": null,
      "flex": null,
      "flex_flow": null,
      "grid_area": null,
      "grid_auto_columns": null,
      "grid_auto_flow": null,
      "grid_auto_rows": null,
      "grid_column": null,
      "grid_gap": null,
      "grid_row": null,
      "grid_template_areas": null,
      "grid_template_columns": null,
      "grid_template_rows": null,
      "height": null,
      "justify_content": null,
      "justify_items": null,
      "left": null,
      "margin": null,
      "max_height": null,
      "max_width": null,
      "min_height": null,
      "min_width": null,
      "object_fit": null,
      "object_position": null,
      "order": null,
      "overflow": null,
      "overflow_x": null,
      "overflow_y": null,
      "padding": null,
      "right": null,
      "top": null,
      "visibility": null,
      "width": null
     }
    },
    "7c14ad56ff064b7da7db30e28d74bb75": {
     "model_module": "@jupyter-widgets/controls",
     "model_name": "DescriptionStyleModel",
     "model_module_version": "1.5.0",
     "state": {
      "_model_module": "@jupyter-widgets/controls",
      "_model_module_version": "1.5.0",
      "_model_name": "DescriptionStyleModel",
      "_view_count": null,
      "_view_module": "@jupyter-widgets/base",
      "_view_module_version": "1.2.0",
      "_view_name": "StyleView",
      "description_width": ""
     }
    },
    "f6621bf7efc54e2d94d54bd9908fbc80": {
     "model_module": "@jupyter-widgets/base",
     "model_name": "LayoutModel",
     "model_module_version": "1.2.0",
     "state": {
      "_model_module": "@jupyter-widgets/base",
      "_model_module_version": "1.2.0",
      "_model_name": "LayoutModel",
      "_view_count": null,
      "_view_module": "@jupyter-widgets/base",
      "_view_module_version": "1.2.0",
      "_view_name": "LayoutView",
      "align_content": null,
      "align_items": null,
      "align_self": null,
      "border": null,
      "bottom": null,
      "display": null,
      "flex": null,
      "flex_flow": null,
      "grid_area": null,
      "grid_auto_columns": null,
      "grid_auto_flow": null,
      "grid_auto_rows": null,
      "grid_column": null,
      "grid_gap": null,
      "grid_row": null,
      "grid_template_areas": null,
      "grid_template_columns": null,
      "grid_template_rows": null,
      "height": null,
      "justify_content": null,
      "justify_items": null,
      "left": null,
      "margin": null,
      "max_height": null,
      "max_width": null,
      "min_height": null,
      "min_width": null,
      "object_fit": null,
      "object_position": null,
      "order": null,
      "overflow": null,
      "overflow_x": null,
      "overflow_y": null,
      "padding": null,
      "right": null,
      "top": null,
      "visibility": null,
      "width": null
     }
    },
    "214af2ad15df45e486cd9371925d055f": {
     "model_module": "@jupyter-widgets/controls",
     "model_name": "ProgressStyleModel",
     "model_module_version": "1.5.0",
     "state": {
      "_model_module": "@jupyter-widgets/controls",
      "_model_module_version": "1.5.0",
      "_model_name": "ProgressStyleModel",
      "_view_count": null,
      "_view_module": "@jupyter-widgets/base",
      "_view_module_version": "1.2.0",
      "_view_name": "StyleView",
      "bar_color": null,
      "description_width": ""
     }
    },
    "9bcc48723add48f2abb94955239a59e4": {
     "model_module": "@jupyter-widgets/base",
     "model_name": "LayoutModel",
     "model_module_version": "1.2.0",
     "state": {
      "_model_module": "@jupyter-widgets/base",
      "_model_module_version": "1.2.0",
      "_model_name": "LayoutModel",
      "_view_count": null,
      "_view_module": "@jupyter-widgets/base",
      "_view_module_version": "1.2.0",
      "_view_name": "LayoutView",
      "align_content": null,
      "align_items": null,
      "align_self": null,
      "border": null,
      "bottom": null,
      "display": null,
      "flex": null,
      "flex_flow": null,
      "grid_area": null,
      "grid_auto_columns": null,
      "grid_auto_flow": null,
      "grid_auto_rows": null,
      "grid_column": null,
      "grid_gap": null,
      "grid_row": null,
      "grid_template_areas": null,
      "grid_template_columns": null,
      "grid_template_rows": null,
      "height": null,
      "justify_content": null,
      "justify_items": null,
      "left": null,
      "margin": null,
      "max_height": null,
      "max_width": null,
      "min_height": null,
      "min_width": null,
      "object_fit": null,
      "object_position": null,
      "order": null,
      "overflow": null,
      "overflow_x": null,
      "overflow_y": null,
      "padding": null,
      "right": null,
      "top": null,
      "visibility": null,
      "width": null
     }
    },
    "75ad556f38c04bc0b4b8a94b6ca453f7": {
     "model_module": "@jupyter-widgets/controls",
     "model_name": "DescriptionStyleModel",
     "model_module_version": "1.5.0",
     "state": {
      "_model_module": "@jupyter-widgets/controls",
      "_model_module_version": "1.5.0",
      "_model_name": "DescriptionStyleModel",
      "_view_count": null,
      "_view_module": "@jupyter-widgets/base",
      "_view_module_version": "1.2.0",
      "_view_name": "StyleView",
      "description_width": ""
     }
    }
   }
  }
 },
 "cells": [
  {
   "cell_type": "markdown",
   "metadata": {
    "id": "view-in-github",
    "colab_type": "text"
   },
   "source": [
    "<a href=\"https://colab.research.google.com/github/Chronobreak42/robustness_of_gnns_at_scale/blob/main/notebooks/Quick_start_robustness_gnns_at_scale_setup_plot.ipynb\" target=\"_parent\"><img src=\"https://colab.research.google.com/assets/colab-badge.svg\" alt=\"Open In Colab\"/></a>"
   ]
  },
  {
   "cell_type": "markdown",
   "source": [
    "# Robustness of Graph Neural Networks at Scale - Quick Start\n",
    "\n",
    "This notebook can be run in google colab and serves as a quick introduction to the [Robustness of Graph Neural Networks at Scale](https://github.com/sigeisler/robustness_of_gnns_at_scale) repository.\n",
    "\n",
    "## 0. Setup\n",
    "\n",
    "First, let's get the code and install requirements.\n"
   ],
   "metadata": {
    "id": "ixdVBV5PugOh"
   }
  },
  {
   "cell_type": "code",
   "source": [
    "\n",
    "%cd \\Users\\kyawk\\Desktop\\robustness_of_gnns_at_scale-main\n",
    "\n",
    "\n",
    "# Installiert: Alle Module die installiert worden sind\n",
    "# run: Die Zeilen die gerunned werden müssen"
   ],
   "metadata": {
    "id": "Vb3p2trlhuqK",
    "outputId": "978a7b16-22cd-46cf-d004-711d6cd67363",
    "colab": {
     "base_uri": "https://localhost:8080/"
    },
    "ExecuteTime": {
     "end_time": "2025-02-13T15:09:58.223934900Z",
     "start_time": "2025-02-13T15:09:58.170507800Z"
    }
   },
   "execution_count": 1,
   "outputs": [
    {
     "name": "stdout",
     "output_type": "stream",
     "text": [
      "C:\\Users\\kyawk\\Desktop\\robustness_of_gnns_at_scale-main\n"
     ]
    },
    {
     "name": "stderr",
     "output_type": "stream",
     "text": [
      "C:\\Users\\kyawk\\anaconda3\\envs\\Masterarbeit_2_0\\Lib\\site-packages\\IPython\\core\\magics\\osm.py:417: UserWarning: This is now an optional IPython functionality, setting dhist requires you to install the `pickleshare` library.\n",
      "  self.shell.db['dhist'] = compress_dhist(dhist)[-100:]\n"
     ]
    }
   ]
  },
  {
   "cell_type": "code",
   "source": [
    "#1\n",
    "# Installiert\n",
    "# This version likely works better\n",
    "!pip install torchtyping==0.1.5\n",
    "# This version is compatible with the recommended version of torchtyping.\n",
    "!pip install typeguard==2.13.3 "
   ],
   "metadata": {
    "id": "Z6Rul7P3ifei",
    "outputId": "ed76d274-3fa1-4076-f285-509f1e067e96",
    "colab": {
     "base_uri": "https://localhost:8080/"
    },
    "ExecuteTime": {
     "end_time": "2025-02-11T14:58:55.383372300Z",
     "start_time": "2025-02-11T14:58:49.034718900Z"
    }
   },
   "execution_count": 6,
   "outputs": [
    {
     "name": "stdout",
     "output_type": "stream",
     "text": [
      "Collecting torchtyping==0.1.5\n",
      "  Using cached torchtyping-0.1.5-py3-none-any.whl.metadata (9.5 kB)\n",
      "Requirement already satisfied: torch>=1.7.0 in c:\\users\\kyawk\\anaconda3\\envs\\masterarbeit_2_0\\lib\\site-packages (from torchtyping==0.1.5) (2.6.0)\n",
      "Collecting typeguard<3,>=2.11.1 (from torchtyping==0.1.5)\n",
      "  Using cached typeguard-2.13.3-py3-none-any.whl.metadata (3.6 kB)\n",
      "Requirement already satisfied: filelock in c:\\users\\kyawk\\anaconda3\\envs\\masterarbeit_2_0\\lib\\site-packages (from torch>=1.7.0->torchtyping==0.1.5) (3.0.12)\n",
      "Requirement already satisfied: typing-extensions>=4.10.0 in c:\\users\\kyawk\\anaconda3\\envs\\masterarbeit_2_0\\lib\\site-packages (from torch>=1.7.0->torchtyping==0.1.5) (4.12.2)\n",
      "Requirement already satisfied: networkx in c:\\users\\kyawk\\anaconda3\\envs\\masterarbeit_2_0\\lib\\site-packages (from torch>=1.7.0->torchtyping==0.1.5) (3.4.2)\n",
      "Requirement already satisfied: jinja2 in c:\\users\\kyawk\\anaconda3\\envs\\masterarbeit_2_0\\lib\\site-packages (from torch>=1.7.0->torchtyping==0.1.5) (3.1.5)\n",
      "Requirement already satisfied: fsspec in c:\\users\\kyawk\\anaconda3\\envs\\masterarbeit_2_0\\lib\\site-packages (from torch>=1.7.0->torchtyping==0.1.5) (2024.12.0)\n",
      "Requirement already satisfied: sympy==1.13.1 in c:\\users\\kyawk\\anaconda3\\envs\\masterarbeit_2_0\\lib\\site-packages (from torch>=1.7.0->torchtyping==0.1.5) (1.13.1)\n",
      "Requirement already satisfied: mpmath<1.4,>=1.1.0 in c:\\users\\kyawk\\anaconda3\\envs\\masterarbeit_2_0\\lib\\site-packages (from sympy==1.13.1->torch>=1.7.0->torchtyping==0.1.5) (1.3.0)\n",
      "Requirement already satisfied: MarkupSafe>=2.0 in c:\\users\\kyawk\\anaconda3\\envs\\masterarbeit_2_0\\lib\\site-packages (from jinja2->torch>=1.7.0->torchtyping==0.1.5) (3.0.2)\n",
      "Using cached torchtyping-0.1.5-py3-none-any.whl (17 kB)\n",
      "Using cached typeguard-2.13.3-py3-none-any.whl (17 kB)\n",
      "Installing collected packages: typeguard, torchtyping\n",
      "Successfully installed torchtyping-0.1.5 typeguard-2.13.3\n"
     ]
    },
    {
     "name": "stderr",
     "output_type": "stream",
     "text": [
      "WARNING: Ignoring invalid distribution ~orch (C:\\Users\\kyawk\\anaconda3\\envs\\Masterarbeit_2_0\\Lib\\site-packages)\n",
      "WARNING: Ignoring invalid distribution ~orch (C:\\Users\\kyawk\\anaconda3\\envs\\Masterarbeit_2_0\\Lib\\site-packages)\n",
      "WARNING: Ignoring invalid distribution ~orch (C:\\Users\\kyawk\\anaconda3\\envs\\Masterarbeit_2_0\\Lib\\site-packages)\n"
     ]
    },
    {
     "name": "stdout",
     "output_type": "stream",
     "text": [
      "Requirement already satisfied: typeguard==2.13.3 in c:\\users\\kyawk\\anaconda3\\envs\\masterarbeit_2_0\\lib\\site-packages (2.13.3)\n"
     ]
    },
    {
     "name": "stderr",
     "output_type": "stream",
     "text": [
      "WARNING: Ignoring invalid distribution ~orch (C:\\Users\\kyawk\\anaconda3\\envs\\Masterarbeit_2_0\\Lib\\site-packages)\n",
      "WARNING: Ignoring invalid distribution ~orch (C:\\Users\\kyawk\\anaconda3\\envs\\Masterarbeit_2_0\\Lib\\site-packages)\n",
      "WARNING: Ignoring invalid distribution ~orch (C:\\Users\\kyawk\\anaconda3\\envs\\Masterarbeit_2_0\\Lib\\site-packages)\n"
     ]
    }
   ]
  },
  {
   "cell_type": "code",
   "source": [
    "#import torch\n",
    "#torch.__version__\n",
    "import numpy\n",
    "numpy.__version__"
   ],
   "metadata": {
    "id": "muUk3Kim9zFt",
    "outputId": "21f8fa9e-bc6f-44b4-8718-5696cd0dd231",
    "colab": {
     "base_uri": "https://localhost:8080/",
     "height": 35
    },
    "ExecuteTime": {
     "end_time": "2025-02-13T15:04:14.844127600Z",
     "start_time": "2025-02-13T15:04:14.789977500Z"
    }
   },
   "execution_count": 2,
   "outputs": [
    {
     "data": {
      "text/plain": "'1.26.4'"
     },
     "execution_count": 2,
     "metadata": {},
     "output_type": "execute_result"
    }
   ]
  },
  {
   "cell_type": "code",
   "source": [
    "#2\n",
    "# Installiert\n",
    "# clone package repository\n",
    "#!git clone https://github.com/sigeisler/robustness_of_gnns_at_scale.git\n",
    "#!git clone https://github.com/Chronobreak42/robustness_of_gnns_at_scale.git #run\n",
    "\n",
    "# navigate to the repository\n",
    "#%cd robustness_of_gnns_at_scale\n",
    "\n",
    "# install package requirements\n",
    "!pip install -r requirements.txt \n",
    "!pip install -r requirements-dev.txt\n",
    "\n",
    "# install package\n",
    "#!python setup.py install\n",
    "#!pip install --use-feature=in-tree-build .\n",
    "\n",
    "# build kernels\n",
    "#!pip install --use-feature=in-tree-build ./kernels"
   ],
   "metadata": {
    "id": "srl7gR-Gy5gX",
    "outputId": "1b87aa5b-6c3f-44e0-b25f-2c264d63d0fb",
    "colab": {
     "base_uri": "https://localhost:8080/",
     "height": 1000
    },
    "ExecuteTime": {
     "start_time": "2025-02-11T15:04:58.577954100Z"
    }
   },
   "execution_count": null,
   "outputs": []
  },
  {
   "cell_type": "markdown",
   "source": [
    "### Imports"
   ],
   "metadata": {
    "id": "FQScUvGr-b08"
   }
  },
  {
   "cell_type": "code",
   "source": [
    "#3\n",
    "# Installiert\n",
    "!pip install --upgrade ogb"
   ],
   "metadata": {
    "id": "W_c6BdVhXbQH",
    "outputId": "23eb57a4-e0fa-4896-a401-34b2275acc07",
    "colab": {
     "base_uri": "https://localhost:8080/"
    },
    "ExecuteTime": {
     "end_time": "2025-02-11T14:59:38.542239400Z",
     "start_time": "2025-02-11T14:59:25.485519200Z"
    }
   },
   "execution_count": 8,
   "outputs": [
    {
     "name": "stdout",
     "output_type": "stream",
     "text": [
      "Collecting ogb\n",
      "  Using cached ogb-1.3.6-py3-none-any.whl.metadata (6.2 kB)\n",
      "Requirement already satisfied: torch>=1.6.0 in c:\\users\\kyawk\\anaconda3\\envs\\masterarbeit_2_0\\lib\\site-packages (from ogb) (2.6.0)\n",
      "Requirement already satisfied: numpy>=1.16.0 in c:\\users\\kyawk\\anaconda3\\envs\\masterarbeit_2_0\\lib\\site-packages (from ogb) (1.26.4)\n",
      "Requirement already satisfied: tqdm>=4.29.0 in c:\\users\\kyawk\\anaconda3\\envs\\masterarbeit_2_0\\lib\\site-packages (from ogb) (4.42.1)\n",
      "Collecting scikit-learn>=0.20.0 (from ogb)\n",
      "  Downloading scikit_learn-1.6.1-cp311-cp311-win_amd64.whl.metadata (15 kB)\n",
      "Requirement already satisfied: pandas>=0.24.0 in c:\\users\\kyawk\\anaconda3\\envs\\masterarbeit_2_0\\lib\\site-packages (from ogb) (2.2.3)\n",
      "Requirement already satisfied: six>=1.12.0 in c:\\users\\kyawk\\anaconda3\\envs\\masterarbeit_2_0\\lib\\site-packages (from ogb) (1.16.0)\n",
      "Requirement already satisfied: urllib3>=1.24.0 in c:\\users\\kyawk\\anaconda3\\envs\\masterarbeit_2_0\\lib\\site-packages (from ogb) (2.3.0)\n",
      "Collecting outdated>=0.2.0 (from ogb)\n",
      "  Downloading outdated-0.2.2-py2.py3-none-any.whl.metadata (4.7 kB)\n",
      "Requirement already satisfied: setuptools>=44 in c:\\users\\kyawk\\anaconda3\\envs\\masterarbeit_2_0\\lib\\site-packages (from outdated>=0.2.0->ogb) (75.8.0)\n",
      "Collecting littleutils (from outdated>=0.2.0->ogb)\n",
      "  Downloading littleutils-0.2.4-py3-none-any.whl.metadata (679 bytes)\n",
      "Requirement already satisfied: requests in c:\\users\\kyawk\\anaconda3\\envs\\masterarbeit_2_0\\lib\\site-packages (from outdated>=0.2.0->ogb) (2.32.3)\n",
      "Requirement already satisfied: python-dateutil>=2.8.2 in c:\\users\\kyawk\\anaconda3\\envs\\masterarbeit_2_0\\lib\\site-packages (from pandas>=0.24.0->ogb) (2.9.0.post0)\n",
      "Requirement already satisfied: pytz>=2020.1 in c:\\users\\kyawk\\anaconda3\\envs\\masterarbeit_2_0\\lib\\site-packages (from pandas>=0.24.0->ogb) (2024.1)\n",
      "Requirement already satisfied: tzdata>=2022.7 in c:\\users\\kyawk\\anaconda3\\envs\\masterarbeit_2_0\\lib\\site-packages (from pandas>=0.24.0->ogb) (2023.3)\n",
      "Requirement already satisfied: scipy>=1.6.0 in c:\\users\\kyawk\\anaconda3\\envs\\masterarbeit_2_0\\lib\\site-packages (from scikit-learn>=0.20.0->ogb) (1.15.1)\n",
      "Collecting joblib>=1.2.0 (from scikit-learn>=0.20.0->ogb)\n",
      "  Downloading joblib-1.4.2-py3-none-any.whl.metadata (5.4 kB)\n",
      "Collecting threadpoolctl>=3.1.0 (from scikit-learn>=0.20.0->ogb)\n",
      "  Downloading threadpoolctl-3.5.0-py3-none-any.whl.metadata (13 kB)\n",
      "Requirement already satisfied: filelock in c:\\users\\kyawk\\anaconda3\\envs\\masterarbeit_2_0\\lib\\site-packages (from torch>=1.6.0->ogb) (3.0.12)\n",
      "Requirement already satisfied: typing-extensions>=4.10.0 in c:\\users\\kyawk\\anaconda3\\envs\\masterarbeit_2_0\\lib\\site-packages (from torch>=1.6.0->ogb) (4.12.2)\n",
      "Requirement already satisfied: networkx in c:\\users\\kyawk\\anaconda3\\envs\\masterarbeit_2_0\\lib\\site-packages (from torch>=1.6.0->ogb) (3.4.2)\n",
      "Requirement already satisfied: jinja2 in c:\\users\\kyawk\\anaconda3\\envs\\masterarbeit_2_0\\lib\\site-packages (from torch>=1.6.0->ogb) (3.1.5)\n",
      "Requirement already satisfied: fsspec in c:\\users\\kyawk\\anaconda3\\envs\\masterarbeit_2_0\\lib\\site-packages (from torch>=1.6.0->ogb) (2024.12.0)\n",
      "Requirement already satisfied: sympy==1.13.1 in c:\\users\\kyawk\\anaconda3\\envs\\masterarbeit_2_0\\lib\\site-packages (from torch>=1.6.0->ogb) (1.13.1)\n",
      "Requirement already satisfied: mpmath<1.4,>=1.1.0 in c:\\users\\kyawk\\anaconda3\\envs\\masterarbeit_2_0\\lib\\site-packages (from sympy==1.13.1->torch>=1.6.0->ogb) (1.3.0)\n",
      "Requirement already satisfied: MarkupSafe>=2.0 in c:\\users\\kyawk\\anaconda3\\envs\\masterarbeit_2_0\\lib\\site-packages (from jinja2->torch>=1.6.0->ogb) (3.0.2)\n",
      "Requirement already satisfied: charset-normalizer<4,>=2 in c:\\users\\kyawk\\anaconda3\\envs\\masterarbeit_2_0\\lib\\site-packages (from requests->outdated>=0.2.0->ogb) (3.3.2)\n",
      "Requirement already satisfied: idna<4,>=2.5 in c:\\users\\kyawk\\anaconda3\\envs\\masterarbeit_2_0\\lib\\site-packages (from requests->outdated>=0.2.0->ogb) (3.7)\n",
      "Requirement already satisfied: certifi>=2017.4.17 in c:\\users\\kyawk\\anaconda3\\envs\\masterarbeit_2_0\\lib\\site-packages (from requests->outdated>=0.2.0->ogb) (2025.1.31)\n",
      "Using cached ogb-1.3.6-py3-none-any.whl (78 kB)\n",
      "Downloading outdated-0.2.2-py2.py3-none-any.whl (7.5 kB)\n",
      "Downloading scikit_learn-1.6.1-cp311-cp311-win_amd64.whl (11.1 MB)\n",
      "   ---------------------------------------- 0.0/11.1 MB ? eta -:--:--\n",
      "   - -------------------------------------- 0.5/11.1 MB 4.2 MB/s eta 0:00:03\n",
      "   ---- ----------------------------------- 1.3/11.1 MB 3.5 MB/s eta 0:00:03\n",
      "   ------ --------------------------------- 1.8/11.1 MB 3.4 MB/s eta 0:00:03\n",
      "   --------- ------------------------------ 2.6/11.1 MB 3.4 MB/s eta 0:00:03\n",
      "   ------------ --------------------------- 3.4/11.1 MB 3.4 MB/s eta 0:00:03\n",
      "   -------------- ------------------------- 3.9/11.1 MB 3.3 MB/s eta 0:00:03\n",
      "   ---------------- ----------------------- 4.7/11.1 MB 3.3 MB/s eta 0:00:02\n",
      "   ------------------ --------------------- 5.2/11.1 MB 3.3 MB/s eta 0:00:02\n",
      "   --------------------- ------------------ 6.0/11.1 MB 3.3 MB/s eta 0:00:02\n",
      "   ------------------------ --------------- 6.8/11.1 MB 3.3 MB/s eta 0:00:02\n",
      "   -------------------------- ------------- 7.3/11.1 MB 3.3 MB/s eta 0:00:02\n",
      "   ---------------------------- ----------- 7.9/11.1 MB 3.3 MB/s eta 0:00:01\n",
      "   ------------------------------- -------- 8.7/11.1 MB 3.3 MB/s eta 0:00:01\n",
      "   -------------------------------- ------- 9.2/11.1 MB 3.3 MB/s eta 0:00:01\n",
      "   ----------------------------------- ---- 10.0/11.1 MB 3.3 MB/s eta 0:00:01\n",
      "   -------------------------------------- - 10.7/11.1 MB 3.3 MB/s eta 0:00:01\n",
      "   ---------------------------------------- 11.1/11.1 MB 3.2 MB/s eta 0:00:00\n",
      "Downloading joblib-1.4.2-py3-none-any.whl (301 kB)\n",
      "Downloading threadpoolctl-3.5.0-py3-none-any.whl (18 kB)\n",
      "Downloading littleutils-0.2.4-py3-none-any.whl (8.1 kB)\n",
      "Installing collected packages: threadpoolctl, littleutils, joblib, scikit-learn, outdated, ogb\n",
      "Successfully installed joblib-1.4.2 littleutils-0.2.4 ogb-1.3.6 outdated-0.2.2 scikit-learn-1.6.1 threadpoolctl-3.5.0\n"
     ]
    },
    {
     "name": "stderr",
     "output_type": "stream",
     "text": [
      "WARNING: Ignoring invalid distribution ~orch (C:\\Users\\kyawk\\anaconda3\\envs\\Masterarbeit_2_0\\Lib\\site-packages)\n",
      "WARNING: Ignoring invalid distribution ~orch (C:\\Users\\kyawk\\anaconda3\\envs\\Masterarbeit_2_0\\Lib\\site-packages)\n",
      "WARNING: Ignoring invalid distribution ~orch (C:\\Users\\kyawk\\anaconda3\\envs\\Masterarbeit_2_0\\Lib\\site-packages)\n"
     ]
    }
   ]
  },
  {
   "cell_type": "code",
   "source": [
    "#4\n",
    "# Installiert\n",
    "#!pip install torch==1.13.0 torchvision==0.15.2+rocm5.3 torchaudio==0.13.0+rocm5.2 -f https://download.pytorch.org/whl/torch_stable.html\n",
    "!pip install torch torchvision torchaudio -f https://download.pytorch.org/whl/torch_stable.html\n",
    "!pip install torch_geometric\n"
   ],
   "metadata": {
    "id": "yFfzeyJ-ByH_",
    "outputId": "fba939c7-f8d9-4c33-9601-152bb54208bc",
    "colab": {
     "base_uri": "https://localhost:8080/"
    },
    "ExecuteTime": {
     "end_time": "2025-02-11T14:59:44.146086400Z",
     "start_time": "2025-02-11T14:59:38.544242200Z"
    }
   },
   "execution_count": 9,
   "outputs": [
    {
     "name": "stdout",
     "output_type": "stream",
     "text": [
      "Looking in links: https://download.pytorch.org/whl/torch_stable.html\n",
      "Requirement already satisfied: torch in c:\\users\\kyawk\\anaconda3\\envs\\masterarbeit_2_0\\lib\\site-packages (2.6.0)\n",
      "Requirement already satisfied: torchvision in c:\\users\\kyawk\\anaconda3\\envs\\masterarbeit_2_0\\lib\\site-packages (0.18.1a0)\n",
      "Requirement already satisfied: torchaudio in c:\\users\\kyawk\\anaconda3\\envs\\masterarbeit_2_0\\lib\\site-packages (2.6.0)\n",
      "Requirement already satisfied: filelock in c:\\users\\kyawk\\anaconda3\\envs\\masterarbeit_2_0\\lib\\site-packages (from torch) (3.0.12)\n",
      "Requirement already satisfied: typing-extensions>=4.10.0 in c:\\users\\kyawk\\anaconda3\\envs\\masterarbeit_2_0\\lib\\site-packages (from torch) (4.12.2)\n",
      "Requirement already satisfied: networkx in c:\\users\\kyawk\\anaconda3\\envs\\masterarbeit_2_0\\lib\\site-packages (from torch) (3.4.2)\n",
      "Requirement already satisfied: jinja2 in c:\\users\\kyawk\\anaconda3\\envs\\masterarbeit_2_0\\lib\\site-packages (from torch) (3.1.5)\n",
      "Requirement already satisfied: fsspec in c:\\users\\kyawk\\anaconda3\\envs\\masterarbeit_2_0\\lib\\site-packages (from torch) (2024.12.0)\n",
      "Requirement already satisfied: sympy==1.13.1 in c:\\users\\kyawk\\anaconda3\\envs\\masterarbeit_2_0\\lib\\site-packages (from torch) (1.13.1)\n",
      "Requirement already satisfied: mpmath<1.4,>=1.1.0 in c:\\users\\kyawk\\anaconda3\\envs\\masterarbeit_2_0\\lib\\site-packages (from sympy==1.13.1->torch) (1.3.0)\n",
      "Requirement already satisfied: numpy in c:\\users\\kyawk\\anaconda3\\envs\\masterarbeit_2_0\\lib\\site-packages (from torchvision) (1.26.4)\n",
      "Requirement already satisfied: pillow!=8.3.*,>=5.3.0 in c:\\users\\kyawk\\anaconda3\\envs\\masterarbeit_2_0\\lib\\site-packages (from torchvision) (11.1.0)\n",
      "Requirement already satisfied: MarkupSafe>=2.0 in c:\\users\\kyawk\\anaconda3\\envs\\masterarbeit_2_0\\lib\\site-packages (from jinja2->torch) (3.0.2)\n"
     ]
    },
    {
     "name": "stderr",
     "output_type": "stream",
     "text": [
      "WARNING: Ignoring invalid distribution ~orch (C:\\Users\\kyawk\\anaconda3\\envs\\Masterarbeit_2_0\\Lib\\site-packages)\n",
      "WARNING: Ignoring invalid distribution ~orch (C:\\Users\\kyawk\\anaconda3\\envs\\Masterarbeit_2_0\\Lib\\site-packages)\n",
      "WARNING: Ignoring invalid distribution ~orch (C:\\Users\\kyawk\\anaconda3\\envs\\Masterarbeit_2_0\\Lib\\site-packages)\n"
     ]
    },
    {
     "name": "stdout",
     "output_type": "stream",
     "text": [
      "Requirement already satisfied: torch_geometric in c:\\users\\kyawk\\anaconda3\\envs\\masterarbeit_2_0\\lib\\site-packages (2.6.1)\n",
      "Requirement already satisfied: aiohttp in c:\\users\\kyawk\\anaconda3\\envs\\masterarbeit_2_0\\lib\\site-packages (from torch_geometric) (3.11.12)\n",
      "Requirement already satisfied: fsspec in c:\\users\\kyawk\\anaconda3\\envs\\masterarbeit_2_0\\lib\\site-packages (from torch_geometric) (2024.12.0)\n",
      "Requirement already satisfied: jinja2 in c:\\users\\kyawk\\anaconda3\\envs\\masterarbeit_2_0\\lib\\site-packages (from torch_geometric) (3.1.5)\n",
      "Requirement already satisfied: numpy in c:\\users\\kyawk\\anaconda3\\envs\\masterarbeit_2_0\\lib\\site-packages (from torch_geometric) (1.26.4)\n",
      "Requirement already satisfied: psutil>=5.8.0 in c:\\users\\kyawk\\anaconda3\\envs\\masterarbeit_2_0\\lib\\site-packages (from torch_geometric) (5.9.0)\n",
      "Requirement already satisfied: pyparsing in c:\\users\\kyawk\\anaconda3\\envs\\masterarbeit_2_0\\lib\\site-packages (from torch_geometric) (3.2.0)\n",
      "Requirement already satisfied: requests in c:\\users\\kyawk\\anaconda3\\envs\\masterarbeit_2_0\\lib\\site-packages (from torch_geometric) (2.32.3)\n",
      "Requirement already satisfied: tqdm in c:\\users\\kyawk\\anaconda3\\envs\\masterarbeit_2_0\\lib\\site-packages (from torch_geometric) (4.42.1)\n",
      "Requirement already satisfied: aiohappyeyeballs>=2.3.0 in c:\\users\\kyawk\\anaconda3\\envs\\masterarbeit_2_0\\lib\\site-packages (from aiohttp->torch_geometric) (2.4.6)\n",
      "Requirement already satisfied: aiosignal>=1.1.2 in c:\\users\\kyawk\\anaconda3\\envs\\masterarbeit_2_0\\lib\\site-packages (from aiohttp->torch_geometric) (1.3.2)\n",
      "Requirement already satisfied: attrs>=17.3.0 in c:\\users\\kyawk\\anaconda3\\envs\\masterarbeit_2_0\\lib\\site-packages (from aiohttp->torch_geometric) (24.3.0)\n",
      "Requirement already satisfied: frozenlist>=1.1.1 in c:\\users\\kyawk\\anaconda3\\envs\\masterarbeit_2_0\\lib\\site-packages (from aiohttp->torch_geometric) (1.5.0)\n",
      "Requirement already satisfied: multidict<7.0,>=4.5 in c:\\users\\kyawk\\anaconda3\\envs\\masterarbeit_2_0\\lib\\site-packages (from aiohttp->torch_geometric) (6.1.0)\n",
      "Requirement already satisfied: propcache>=0.2.0 in c:\\users\\kyawk\\anaconda3\\envs\\masterarbeit_2_0\\lib\\site-packages (from aiohttp->torch_geometric) (0.2.1)\n",
      "Requirement already satisfied: yarl<2.0,>=1.17.0 in c:\\users\\kyawk\\anaconda3\\envs\\masterarbeit_2_0\\lib\\site-packages (from aiohttp->torch_geometric) (1.18.3)\n",
      "Requirement already satisfied: MarkupSafe>=2.0 in c:\\users\\kyawk\\anaconda3\\envs\\masterarbeit_2_0\\lib\\site-packages (from jinja2->torch_geometric) (3.0.2)\n",
      "Requirement already satisfied: charset-normalizer<4,>=2 in c:\\users\\kyawk\\anaconda3\\envs\\masterarbeit_2_0\\lib\\site-packages (from requests->torch_geometric) (3.3.2)\n",
      "Requirement already satisfied: idna<4,>=2.5 in c:\\users\\kyawk\\anaconda3\\envs\\masterarbeit_2_0\\lib\\site-packages (from requests->torch_geometric) (3.7)\n",
      "Requirement already satisfied: urllib3<3,>=1.21.1 in c:\\users\\kyawk\\anaconda3\\envs\\masterarbeit_2_0\\lib\\site-packages (from requests->torch_geometric) (2.3.0)\n",
      "Requirement already satisfied: certifi>=2017.4.17 in c:\\users\\kyawk\\anaconda3\\envs\\masterarbeit_2_0\\lib\\site-packages (from requests->torch_geometric) (2025.1.31)\n"
     ]
    },
    {
     "name": "stderr",
     "output_type": "stream",
     "text": [
      "WARNING: Ignoring invalid distribution ~orch (C:\\Users\\kyawk\\anaconda3\\envs\\Masterarbeit_2_0\\Lib\\site-packages)\n",
      "WARNING: Ignoring invalid distribution ~orch (C:\\Users\\kyawk\\anaconda3\\envs\\Masterarbeit_2_0\\Lib\\site-packages)\n",
      "WARNING: Ignoring invalid distribution ~orch (C:\\Users\\kyawk\\anaconda3\\envs\\Masterarbeit_2_0\\Lib\\site-packages)\n"
     ]
    }
   ]
  },
  {
   "cell_type": "code",
   "source": [
    "#5.0 (vor #5) run\n",
    "#from google.colab import drive #run\n",
    "#drive.mount('/content/drive') #run\n",
    "#!mkdir -p /content/drive/MyDrive/Colab\\ Libraries/torch_geometric #create new directory\n"
   ],
   "metadata": {
    "id": "Dr0U1sUdPMCv",
    "outputId": "79172049-e759-44f5-d8cd-6e695592d26d",
    "colab": {
     "base_uri": "https://localhost:8080/"
    },
    "ExecuteTime": {
     "end_time": "2025-02-10T18:27:03.617683500Z",
     "start_time": "2025-02-10T18:27:03.611200100Z"
    }
   },
   "execution_count": 4,
   "outputs": []
  },
  {
   "cell_type": "code",
   "source": [
    "#5\n",
    "# Installiert, a) hat lange Installationszeit\n",
    "# Alternative: b) Installation wird in Drive gespeichert und muss bei neuen Sitzungen nicht mehr ausgeführt werden\n",
    "import os\n",
    "import torch\n",
    "import numpy\n",
    "import collections.abc\n",
    "\n",
    "\n",
    "# a) Install directly\n",
    "#!pip install -q torch-scatter -f https://data.pyg.org/whl/torch-${TORCH}.html\n",
    "#!pip install -q torch-sparse -f https://data.pyg.org/whl/torch-${TORCH}.html\n",
    "#!pip install -q git+https://github.com/pyg-team/pytorch_geometric.git\n",
    "\n",
    "# b) Install on mounted drive (faster alternative, you only need to run these once)\n",
    "#!pip install -q torch-scatter -f https://data.pyg.org/whl/torch-${TORCH}.html --target=/content/drive/MyDrive/Colab\\ Libraries/torch_geometric\n",
    "#!pip install -q torch-sparse -f https://data.pyg.org/whl/torch-${TORCH}.html --target=/content/drive/MyDrive/Colab\\ Libraries/torch_geometric\n",
    "#!pip install -q git+https://github.com/pyg-team/pytorch_geometric.git --target=/content/drive/MyDrive/Colab\\ Libraries/torch_geometric"
   ],
   "metadata": {
    "id": "dkxo9hsQZvW5",
    "outputId": "8ab44f0d-b4c6-497e-affc-e6d7a4a91257",
    "colab": {
     "base_uri": "https://localhost:8080/"
    },
    "ExecuteTime": {
     "end_time": "2025-02-11T15:11:24.214812100Z",
     "start_time": "2025-02-11T15:11:02.636545300Z"
    }
   },
   "execution_count": 3,
   "outputs": [
    {
     "name": "stderr",
     "output_type": "stream",
     "text": [
      "WARNING: Ignoring invalid distribution ~orch (C:\\Users\\kyawk\\anaconda3\\envs\\Masterarbeit_2_0\\Lib\\site-packages)\n",
      "  error: subprocess-exited-with-error\n",
      "  \n",
      "  python setup.py egg_info did not run successfully.\n",
      "  exit code: 1\n",
      "  \n",
      "  [6 lines of output]\n",
      "  Traceback (most recent call last):\n",
      "    File \"<string>\", line 2, in <module>\n",
      "    File \"<pip-setuptools-caller>\", line 34, in <module>\n",
      "    File \"C:\\Users\\kyawk\\AppData\\Local\\Temp\\pip-install-cwvzftrk\\torch-scatter_194478abe6724474a910a8363c5bd9cd\\setup.py\", line 10, in <module>\n",
      "      from torch.__config__ import parallel_info\n",
      "  ModuleNotFoundError: No module named 'torch.__config__'\n",
      "  [end of output]\n",
      "  \n",
      "  note: This error originates from a subprocess, and is likely not a problem with pip.\n",
      "error: metadata-generation-failed\n",
      "\n",
      "Encountered error while generating package metadata.\n",
      "\n",
      "See above for output.\n",
      "\n",
      "note: This is an issue with the package mentioned above, not pip.\n",
      "hint: See above for details.\n",
      "WARNING: Ignoring invalid distribution ~orch (C:\\Users\\kyawk\\anaconda3\\envs\\Masterarbeit_2_0\\Lib\\site-packages)\n",
      "  error: subprocess-exited-with-error\n",
      "  \n",
      "  python setup.py egg_info did not run successfully.\n",
      "  exit code: 1\n",
      "  \n",
      "  [6 lines of output]\n",
      "  Traceback (most recent call last):\n",
      "    File \"<string>\", line 2, in <module>\n",
      "    File \"<pip-setuptools-caller>\", line 34, in <module>\n",
      "    File \"C:\\Users\\kyawk\\AppData\\Local\\Temp\\pip-install-shxy5__n\\torch-sparse_7f954345f26d448992213acbb3251124\\setup.py\", line 10, in <module>\n",
      "      from torch.__config__ import parallel_info\n",
      "  ModuleNotFoundError: No module named 'torch.__config__'\n",
      "  [end of output]\n",
      "  \n",
      "  note: This error originates from a subprocess, and is likely not a problem with pip.\n",
      "error: metadata-generation-failed\n",
      "\n",
      "Encountered error while generating package metadata.\n",
      "\n",
      "See above for output.\n",
      "\n",
      "note: This is an issue with the package mentioned above, not pip.\n",
      "hint: See above for details.\n",
      "WARNING: Ignoring invalid distribution ~orch (C:\\Users\\kyawk\\anaconda3\\envs\\Masterarbeit_2_0\\Lib\\site-packages)\n",
      "WARNING: Ignoring invalid distribution ~orch (C:\\Users\\kyawk\\anaconda3\\envs\\Masterarbeit_2_0\\Lib\\site-packages)\n",
      "WARNING: Ignoring invalid distribution ~orch (C:\\Users\\kyawk\\anaconda3\\envs\\Masterarbeit_2_0\\Lib\\site-packages)\n"
     ]
    }
   ]
  },
  {
   "cell_type": "code",
   "source": [
    "#5.1 (nach #5) run\n",
    "#import sys\n",
    "#sys.path.append('/content/drive/MyDrive/Colab Libraries/torch_geometric')"
   ],
   "metadata": {
    "id": "akZC5liIPaLk"
   },
   "execution_count": null,
   "outputs": []
  },
  {
   "cell_type": "code",
   "source": [
    "#6\n",
    "# Installiert\n",
    "!pip install tinydb\n",
    "!pip install tinydb_serialization\n",
    "!pip install seml==0.4.2"
   ],
   "metadata": {
    "colab": {
     "base_uri": "https://localhost:8080/",
     "height": 1000
    },
    "id": "EcLx5YSR3IRI",
    "outputId": "8bffb28d-949e-451a-a147-5deb344f1a61",
    "ExecuteTime": {
     "end_time": "2025-02-11T14:58:04.640554800Z",
     "start_time": "2025-02-11T14:57:44.325133800Z"
    }
   },
   "execution_count": 3,
   "outputs": [
    {
     "name": "stdout",
     "output_type": "stream",
     "text": [
      "Collecting tinydb\n",
      "  Downloading tinydb-4.8.2-py3-none-any.whl.metadata (6.7 kB)\n",
      "Downloading tinydb-4.8.2-py3-none-any.whl (24 kB)\n",
      "Installing collected packages: tinydb\n",
      "Successfully installed tinydb-4.8.2\n"
     ]
    },
    {
     "name": "stderr",
     "output_type": "stream",
     "text": [
      "WARNING: Ignoring invalid distribution ~orch (C:\\Users\\kyawk\\anaconda3\\envs\\Masterarbeit_2_0\\Lib\\site-packages)\n",
      "WARNING: Ignoring invalid distribution ~orch (C:\\Users\\kyawk\\anaconda3\\envs\\Masterarbeit_2_0\\Lib\\site-packages)\n",
      "WARNING: Ignoring invalid distribution ~orch (C:\\Users\\kyawk\\anaconda3\\envs\\Masterarbeit_2_0\\Lib\\site-packages)\n"
     ]
    },
    {
     "name": "stdout",
     "output_type": "stream",
     "text": [
      "Collecting tinydb_serialization\n",
      "  Downloading tinydb_serialization-2.2.0-py3-none-any.whl.metadata (5.8 kB)\n",
      "Requirement already satisfied: tinydb<5.0,>=4.0 in c:\\users\\kyawk\\anaconda3\\envs\\masterarbeit_2_0\\lib\\site-packages (from tinydb_serialization) (4.8.2)\n",
      "Downloading tinydb_serialization-2.2.0-py3-none-any.whl (5.7 kB)\n",
      "Installing collected packages: tinydb_serialization\n",
      "Successfully installed tinydb_serialization-2.2.0\n"
     ]
    },
    {
     "name": "stderr",
     "output_type": "stream",
     "text": [
      "WARNING: Ignoring invalid distribution ~orch (C:\\Users\\kyawk\\anaconda3\\envs\\Masterarbeit_2_0\\Lib\\site-packages)\n",
      "WARNING: Ignoring invalid distribution ~orch (C:\\Users\\kyawk\\anaconda3\\envs\\Masterarbeit_2_0\\Lib\\site-packages)\n",
      "WARNING: Ignoring invalid distribution ~orch (C:\\Users\\kyawk\\anaconda3\\envs\\Masterarbeit_2_0\\Lib\\site-packages)\n"
     ]
    },
    {
     "name": "stdout",
     "output_type": "stream",
     "text": [
      "Collecting seml==0.4.2\n",
      "  Downloading seml-0.4.2-py3-none-any.whl.metadata (6.3 kB)\n",
      "Requirement already satisfied: numpy>=1.15 in c:\\users\\kyawk\\anaconda3\\envs\\masterarbeit_2_0\\lib\\site-packages (from seml==0.4.2) (1.26.4)\n",
      "Collecting pymongo>=3.11 (from seml==0.4.2)\n",
      "  Downloading pymongo-4.11.1-cp311-cp311-win_amd64.whl.metadata (22 kB)\n",
      "Requirement already satisfied: pandas in c:\\users\\kyawk\\anaconda3\\envs\\masterarbeit_2_0\\lib\\site-packages (from seml==0.4.2) (2.2.3)\n",
      "Collecting sacred>=0.8.4 (from seml==0.4.2)\n",
      "  Downloading sacred-0.8.7-py2.py3-none-any.whl.metadata (13 kB)\n",
      "Requirement already satisfied: pyyaml>=5.1 in c:\\users\\kyawk\\anaconda3\\envs\\masterarbeit_2_0\\lib\\site-packages (from seml==0.4.2) (6.0.2)\n",
      "Collecting jsonpickle>=2.2 (from seml==0.4.2)\n",
      "  Downloading jsonpickle-4.0.1-py3-none-any.whl.metadata (8.2 kB)\n",
      "Collecting munch>=2.0.4 (from seml==0.4.2)\n",
      "  Downloading munch-4.0.0-py2.py3-none-any.whl.metadata (5.9 kB)\n",
      "Requirement already satisfied: tqdm>=4.36 in c:\\users\\kyawk\\anaconda3\\envs\\masterarbeit_2_0\\lib\\site-packages (from seml==0.4.2) (4.42.1)\n",
      "Requirement already satisfied: debugpy>=1.2.1 in c:\\users\\kyawk\\anaconda3\\envs\\masterarbeit_2_0\\lib\\site-packages (from seml==0.4.2) (1.8.11)\n",
      "Requirement already satisfied: requests>=2.28.1 in c:\\users\\kyawk\\anaconda3\\envs\\masterarbeit_2_0\\lib\\site-packages (from seml==0.4.2) (2.32.3)\n",
      "Collecting typer<1.0,>=0.9 (from seml==0.4.2)\n",
      "  Downloading typer-0.15.1-py3-none-any.whl.metadata (15 kB)\n",
      "Collecting rich<14.0,>=13.0 (from seml==0.4.2)\n",
      "  Downloading rich-13.9.4-py3-none-any.whl.metadata (18 kB)\n",
      "Collecting omegaconf<3.0,>=2.3.0 (from seml==0.4.2)\n",
      "  Downloading omegaconf-2.3.0-py3-none-any.whl.metadata (3.9 kB)\n",
      "Collecting antlr4-python3-runtime==4.9.* (from omegaconf<3.0,>=2.3.0->seml==0.4.2)\n",
      "  Downloading antlr4-python3-runtime-4.9.3.tar.gz (117 kB)\n",
      "  Preparing metadata (setup.py): started\n",
      "  Preparing metadata (setup.py): finished with status 'done'\n",
      "Collecting dnspython<3.0.0,>=1.16.0 (from pymongo>=3.11->seml==0.4.2)\n",
      "  Downloading dnspython-2.7.0-py3-none-any.whl.metadata (5.8 kB)\n",
      "Requirement already satisfied: charset-normalizer<4,>=2 in c:\\users\\kyawk\\anaconda3\\envs\\masterarbeit_2_0\\lib\\site-packages (from requests>=2.28.1->seml==0.4.2) (3.3.2)\n",
      "Requirement already satisfied: idna<4,>=2.5 in c:\\users\\kyawk\\anaconda3\\envs\\masterarbeit_2_0\\lib\\site-packages (from requests>=2.28.1->seml==0.4.2) (3.7)\n",
      "Requirement already satisfied: urllib3<3,>=1.21.1 in c:\\users\\kyawk\\anaconda3\\envs\\masterarbeit_2_0\\lib\\site-packages (from requests>=2.28.1->seml==0.4.2) (2.3.0)\n",
      "Requirement already satisfied: certifi>=2017.4.17 in c:\\users\\kyawk\\anaconda3\\envs\\masterarbeit_2_0\\lib\\site-packages (from requests>=2.28.1->seml==0.4.2) (2025.1.31)\n",
      "Collecting markdown-it-py>=2.2.0 (from rich<14.0,>=13.0->seml==0.4.2)\n",
      "  Downloading markdown_it_py-3.0.0-py3-none-any.whl.metadata (6.9 kB)\n",
      "Requirement already satisfied: pygments<3.0.0,>=2.13.0 in c:\\users\\kyawk\\anaconda3\\envs\\masterarbeit_2_0\\lib\\site-packages (from rich<14.0,>=13.0->seml==0.4.2) (2.15.1)\n",
      "Collecting docopt-ng<1.0,>=0.9 (from sacred>=0.8.4->seml==0.4.2)\n",
      "  Downloading docopt_ng-0.9.0-py3-none-any.whl.metadata (13 kB)\n",
      "Collecting wrapt<2.0,>=1.0 (from sacred>=0.8.4->seml==0.4.2)\n",
      "  Downloading wrapt-1.17.2-cp311-cp311-win_amd64.whl.metadata (6.5 kB)\n",
      "Collecting py-cpuinfo>=4.0 (from sacred>=0.8.4->seml==0.4.2)\n",
      "  Downloading py_cpuinfo-9.0.0-py3-none-any.whl.metadata (794 bytes)\n",
      "Requirement already satisfied: colorama>=0.4 in c:\\users\\kyawk\\anaconda3\\envs\\masterarbeit_2_0\\lib\\site-packages (from sacred>=0.8.4->seml==0.4.2) (0.4.6)\n",
      "Requirement already satisfied: packaging>=18.0 in c:\\users\\kyawk\\anaconda3\\envs\\masterarbeit_2_0\\lib\\site-packages (from sacred>=0.8.4->seml==0.4.2) (24.2)\n",
      "Collecting GitPython (from sacred>=0.8.4->seml==0.4.2)\n",
      "  Downloading GitPython-3.1.44-py3-none-any.whl.metadata (13 kB)\n",
      "Collecting click>=8.0.0 (from typer<1.0,>=0.9->seml==0.4.2)\n",
      "  Downloading click-8.1.8-py3-none-any.whl.metadata (2.3 kB)\n",
      "Requirement already satisfied: typing-extensions>=3.7.4.3 in c:\\users\\kyawk\\anaconda3\\envs\\masterarbeit_2_0\\lib\\site-packages (from typer<1.0,>=0.9->seml==0.4.2) (4.12.2)\n",
      "Collecting shellingham>=1.3.0 (from typer<1.0,>=0.9->seml==0.4.2)\n",
      "  Downloading shellingham-1.5.4-py2.py3-none-any.whl.metadata (3.5 kB)\n",
      "Requirement already satisfied: python-dateutil>=2.8.2 in c:\\users\\kyawk\\anaconda3\\envs\\masterarbeit_2_0\\lib\\site-packages (from pandas->seml==0.4.2) (2.9.0.post0)\n",
      "Requirement already satisfied: pytz>=2020.1 in c:\\users\\kyawk\\anaconda3\\envs\\masterarbeit_2_0\\lib\\site-packages (from pandas->seml==0.4.2) (2024.1)\n",
      "Requirement already satisfied: tzdata>=2022.7 in c:\\users\\kyawk\\anaconda3\\envs\\masterarbeit_2_0\\lib\\site-packages (from pandas->seml==0.4.2) (2023.3)\n",
      "Collecting mdurl~=0.1 (from markdown-it-py>=2.2.0->rich<14.0,>=13.0->seml==0.4.2)\n",
      "  Downloading mdurl-0.1.2-py3-none-any.whl.metadata (1.6 kB)\n",
      "Requirement already satisfied: six>=1.5 in c:\\users\\kyawk\\anaconda3\\envs\\masterarbeit_2_0\\lib\\site-packages (from python-dateutil>=2.8.2->pandas->seml==0.4.2) (1.16.0)\n",
      "Collecting gitdb<5,>=4.0.1 (from GitPython->sacred>=0.8.4->seml==0.4.2)\n",
      "  Downloading gitdb-4.0.12-py3-none-any.whl.metadata (1.2 kB)\n",
      "Collecting smmap<6,>=3.0.1 (from gitdb<5,>=4.0.1->GitPython->sacred>=0.8.4->seml==0.4.2)\n",
      "  Downloading smmap-5.0.2-py3-none-any.whl.metadata (4.3 kB)\n",
      "Downloading seml-0.4.2-py3-none-any.whl (81 kB)\n",
      "Downloading jsonpickle-4.0.1-py3-none-any.whl (46 kB)\n",
      "Downloading munch-4.0.0-py2.py3-none-any.whl (9.9 kB)\n",
      "Downloading omegaconf-2.3.0-py3-none-any.whl (79 kB)\n",
      "Downloading pymongo-4.11.1-cp311-cp311-win_amd64.whl (831 kB)\n",
      "   ---------------------------------------- 0.0/831.6 kB ? eta -:--:--\n",
      "   ------------------------- -------------- 524.3/831.6 kB 3.4 MB/s eta 0:00:01\n",
      "   ---------------------------------------- 831.6/831.6 kB 3.3 MB/s eta 0:00:00\n",
      "Downloading rich-13.9.4-py3-none-any.whl (242 kB)\n",
      "Downloading sacred-0.8.7-py2.py3-none-any.whl (108 kB)\n",
      "Downloading typer-0.15.1-py3-none-any.whl (44 kB)\n",
      "Downloading click-8.1.8-py3-none-any.whl (98 kB)\n",
      "Downloading dnspython-2.7.0-py3-none-any.whl (313 kB)\n",
      "Downloading docopt_ng-0.9.0-py3-none-any.whl (16 kB)\n",
      "Downloading markdown_it_py-3.0.0-py3-none-any.whl (87 kB)\n",
      "Downloading py_cpuinfo-9.0.0-py3-none-any.whl (22 kB)\n",
      "Downloading shellingham-1.5.4-py2.py3-none-any.whl (9.8 kB)\n",
      "Downloading wrapt-1.17.2-cp311-cp311-win_amd64.whl (38 kB)\n",
      "Downloading GitPython-3.1.44-py3-none-any.whl (207 kB)\n",
      "Downloading gitdb-4.0.12-py3-none-any.whl (62 kB)\n",
      "Downloading mdurl-0.1.2-py3-none-any.whl (10.0 kB)\n",
      "Downloading smmap-5.0.2-py3-none-any.whl (24 kB)\n",
      "Building wheels for collected packages: antlr4-python3-runtime\n",
      "  Building wheel for antlr4-python3-runtime (setup.py): started\n",
      "  Building wheel for antlr4-python3-runtime (setup.py): finished with status 'done'\n",
      "  Created wheel for antlr4-python3-runtime: filename=antlr4_python3_runtime-4.9.3-py3-none-any.whl size=144615 sha256=94eb1f38caf94e6974eb6cbecc00565b5bfa2ddab8ec3b04152f1ba4c419c40b\n",
      "  Stored in directory: c:\\users\\kyawk\\appdata\\local\\pip\\cache\\wheels\\1a\\97\\32\\461f837398029ad76911109f07047fde1d7b661a147c7c56d1\n",
      "Successfully built antlr4-python3-runtime\n",
      "Installing collected packages: py-cpuinfo, antlr4-python3-runtime, wrapt, smmap, shellingham, omegaconf, munch, mdurl, jsonpickle, docopt-ng, dnspython, click, pymongo, markdown-it-py, gitdb, rich, GitPython, typer, sacred, seml\n",
      "Successfully installed GitPython-3.1.44 antlr4-python3-runtime-4.9.3 click-8.1.8 dnspython-2.7.0 docopt-ng-0.9.0 gitdb-4.0.12 jsonpickle-4.0.1 markdown-it-py-3.0.0 mdurl-0.1.2 munch-4.0.0 omegaconf-2.3.0 py-cpuinfo-9.0.0 pymongo-4.11.1 rich-13.9.4 sacred-0.8.7 seml-0.4.2 shellingham-1.5.4 smmap-5.0.2 typer-0.15.1 wrapt-1.17.2\n"
     ]
    },
    {
     "name": "stderr",
     "output_type": "stream",
     "text": [
      "WARNING: Ignoring invalid distribution ~orch (C:\\Users\\kyawk\\anaconda3\\envs\\Masterarbeit_2_0\\Lib\\site-packages)\n",
      "WARNING: Ignoring invalid distribution ~orch (C:\\Users\\kyawk\\anaconda3\\envs\\Masterarbeit_2_0\\Lib\\site-packages)\n",
      "WARNING: Ignoring invalid distribution ~orch (C:\\Users\\kyawk\\anaconda3\\envs\\Masterarbeit_2_0\\Lib\\site-packages)\n"
     ]
    }
   ]
  },
  {
   "cell_type": "code",
   "source": [
    "# run\n",
    "import seml"
   ],
   "metadata": {
    "id": "Mj15BeWkb2vU",
    "ExecuteTime": {
     "end_time": "2025-02-11T17:23:36.220389700Z",
     "start_time": "2025-02-11T17:23:35.811109700Z"
    }
   },
   "execution_count": 3,
   "outputs": []
  },
  {
   "cell_type": "code",
   "execution_count": null,
   "outputs": [],
   "source": [
    "import torch\n",
    "print(torch.__version__)\n",
    "print(dir(torch))  # List available attributes\n"
   ],
   "metadata": {
    "collapsed": false,
    "is_executing": true,
    "ExecuteTime": {
     "start_time": "2025-02-13T15:04:26.433120100Z"
    }
   }
  },
  {
   "cell_type": "code",
   "source": [
    "#7 run\n",
    "#%cd robustness_of_gnns_at_scale\n",
    "import torch\n",
    "from matplotlib import pyplot as plt\n",
    "\n",
    "from experiments import (\n",
    "\n",
    "    experiment_train,\n",
    "    experiment_local_attack_direct,\n",
    "    experiment_global_attack_direct\n",
    ")\n",
    "\n",
    "%matplotlib inline\n",
    "\n",
    "%load_ext autoreload\n",
    "%autoreload 2"
   ],
   "metadata": {
    "id": "dla6ioi_FBWn",
    "outputId": "ac11a425-fdd4-49b0-e49c-1736120a3cd7",
    "colab": {
     "base_uri": "https://localhost:8080/",
     "height": 325
    },
    "ExecuteTime": {
     "end_time": "2025-02-13T15:10:57.072983Z",
     "start_time": "2025-02-13T15:10:45.099326500Z"
    }
   },
   "execution_count": 2,
   "outputs": [
    {
     "name": "stderr",
     "output_type": "stream",
     "text": [
      "C:\\Users\\kyawk\\anaconda3\\envs\\Masterarbeit_2_0\\Lib\\site-packages\\torch\\utils\\cpp_extension.py:414: UserWarning: Error checking compiler version for cl: [WinError 2] Das System kann die angegebene Datei nicht finden\n",
      "  warnings.warn(f'Error checking compiler version for {compiler}: {error}')\n",
      "WARNING:root:Cuda kernels could not loaded -> no CUDA support!\n",
      "WARNING:root:Importing setup_logger directly from seml is deprecated.\n",
      "Use from seml.experiment import setup_logger instead.\n",
      "Note that seml.experiment.Experiment already includes the logger setup.\n",
      "See https://github.com/TUM-DAML/seml/blob/master/examples/example_experiment.py\n"
     ]
    },
    {
     "data": {
      "text/plain": "\u001B[2;36m[02/13/25 16:10:56]\u001B[0m\u001B[2;36m \u001B[0m\u001B[33mWARNING \u001B[0m Importing setup_logger directly from seml is deprecated.                \u001B]8;id=737925;file://C:\\Users\\kyawk\\anaconda3\\envs\\Masterarbeit_2_0\\Lib\\site-packages\\seml\\__init__.py\u001B\\\u001B[2m__init__.py\u001B[0m\u001B]8;;\u001B\\\u001B[2m:\u001B[0m\u001B]8;id=365263;file://C:\\Users\\kyawk\\anaconda3\\envs\\Masterarbeit_2_0\\Lib\\site-packages\\seml\\__init__.py#10\u001B\\\u001B[2m10\u001B[0m\u001B]8;;\u001B\\\n\u001B[2;36m                    \u001B[0m         Use from seml.experiment import setup_logger instead.                   \u001B[2m              \u001B[0m\n\u001B[2;36m                    \u001B[0m         Note that seml.experiment.Experiment already includes the logger setup. \u001B[2m              \u001B[0m\n\u001B[2;36m                    \u001B[0m         See                                                                     \u001B[2m              \u001B[0m\n\u001B[2;36m                    \u001B[0m         \u001B[4;94mhttps://github.com/TUM-DAML/seml/blob/master/examples/example_experimen\u001B[0m \u001B[2m              \u001B[0m\n\u001B[2;36m                    \u001B[0m         \u001B[4;94mt.py\u001B[0m                                                                    \u001B[2m              \u001B[0m\n",
      "text/html": "<pre style=\"white-space:pre;overflow-x:auto;line-height:normal;font-family:Menlo,'DejaVu Sans Mono',consolas,'Courier New',monospace\"><span style=\"color: #7fbfbf; text-decoration-color: #7fbfbf\">[02/13/25 16:10:56] </span><span style=\"color: #808000; text-decoration-color: #808000\">WARNING </span> Importing setup_logger directly from seml is deprecated.                <a href=\"file://C:\\Users\\kyawk\\anaconda3\\envs\\Masterarbeit_2_0\\Lib\\site-packages\\seml\\__init__.py\" target=\"_blank\"><span style=\"color: #7f7f7f; text-decoration-color: #7f7f7f\">__init__.py</span></a><span style=\"color: #7f7f7f; text-decoration-color: #7f7f7f\">:</span><a href=\"file://C:\\Users\\kyawk\\anaconda3\\envs\\Masterarbeit_2_0\\Lib\\site-packages\\seml\\__init__.py#10\" target=\"_blank\"><span style=\"color: #7f7f7f; text-decoration-color: #7f7f7f\">10</span></a>\n<span style=\"color: #7fbfbf; text-decoration-color: #7fbfbf\">                    </span>         Use from seml.experiment import setup_logger instead.                   <span style=\"color: #7f7f7f; text-decoration-color: #7f7f7f\">              </span>\n<span style=\"color: #7fbfbf; text-decoration-color: #7fbfbf\">                    </span>         Note that seml.experiment.Experiment already includes the logger setup. <span style=\"color: #7f7f7f; text-decoration-color: #7f7f7f\">              </span>\n<span style=\"color: #7fbfbf; text-decoration-color: #7fbfbf\">                    </span>         See                                                                     <span style=\"color: #7f7f7f; text-decoration-color: #7f7f7f\">              </span>\n<span style=\"color: #7fbfbf; text-decoration-color: #7fbfbf\">                    </span>         <span style=\"color: #0000ff; text-decoration-color: #0000ff; text-decoration: underline\">https://github.com/TUM-DAML/seml/blob/master/examples/example_experimen</span> <span style=\"color: #7f7f7f; text-decoration-color: #7f7f7f\">              </span>\n<span style=\"color: #7fbfbf; text-decoration-color: #7fbfbf\">                    </span>         <span style=\"color: #0000ff; text-decoration-color: #0000ff; text-decoration: underline\">t.py</span>                                                                    <span style=\"color: #7f7f7f; text-decoration-color: #7f7f7f\">              </span>\n</pre>\n"
     },
     "metadata": {},
     "output_type": "display_data"
    },
    {
     "data": {
      "text/plain": "\u001B[2;36m[02/13/25 16:10:56]\u001B[0m\u001B[2;36m \u001B[0m\u001B[33mWARNING \u001B[0m Importing setup_logger directly from seml is deprecated.                \u001B]8;id=290688;file://C:\\Users\\kyawk\\anaconda3\\envs\\Masterarbeit_2_0\\Lib\\site-packages\\seml\\__init__.py\u001B\\\u001B[2m__init__.py\u001B[0m\u001B]8;;\u001B\\\u001B[2m:\u001B[0m\u001B]8;id=147806;file://C:\\Users\\kyawk\\anaconda3\\envs\\Masterarbeit_2_0\\Lib\\site-packages\\seml\\__init__.py#10\u001B\\\u001B[2m10\u001B[0m\u001B]8;;\u001B\\\n\u001B[2;36m                    \u001B[0m         Use from seml.experiment import setup_logger instead.                   \u001B[2m              \u001B[0m\n\u001B[2;36m                    \u001B[0m         Note that seml.experiment.Experiment already includes the logger setup. \u001B[2m              \u001B[0m\n\u001B[2;36m                    \u001B[0m         See                                                                     \u001B[2m              \u001B[0m\n\u001B[2;36m                    \u001B[0m         \u001B[4;94mhttps://github.com/TUM-DAML/seml/blob/master/examples/example_experimen\u001B[0m \u001B[2m              \u001B[0m\n\u001B[2;36m                    \u001B[0m         \u001B[4;94mt.py\u001B[0m                                                                    \u001B[2m              \u001B[0m\n",
      "text/html": "<pre style=\"white-space:pre;overflow-x:auto;line-height:normal;font-family:Menlo,'DejaVu Sans Mono',consolas,'Courier New',monospace\"><span style=\"color: #7fbfbf; text-decoration-color: #7fbfbf\">[02/13/25 16:10:56] </span><span style=\"color: #808000; text-decoration-color: #808000\">WARNING </span> Importing setup_logger directly from seml is deprecated.                <a href=\"file://C:\\Users\\kyawk\\anaconda3\\envs\\Masterarbeit_2_0\\Lib\\site-packages\\seml\\__init__.py\" target=\"_blank\"><span style=\"color: #7f7f7f; text-decoration-color: #7f7f7f\">__init__.py</span></a><span style=\"color: #7f7f7f; text-decoration-color: #7f7f7f\">:</span><a href=\"file://C:\\Users\\kyawk\\anaconda3\\envs\\Masterarbeit_2_0\\Lib\\site-packages\\seml\\__init__.py#10\" target=\"_blank\"><span style=\"color: #7f7f7f; text-decoration-color: #7f7f7f\">10</span></a>\n<span style=\"color: #7fbfbf; text-decoration-color: #7fbfbf\">                    </span>         Use from seml.experiment import setup_logger instead.                   <span style=\"color: #7f7f7f; text-decoration-color: #7f7f7f\">              </span>\n<span style=\"color: #7fbfbf; text-decoration-color: #7fbfbf\">                    </span>         Note that seml.experiment.Experiment already includes the logger setup. <span style=\"color: #7f7f7f; text-decoration-color: #7f7f7f\">              </span>\n<span style=\"color: #7fbfbf; text-decoration-color: #7fbfbf\">                    </span>         See                                                                     <span style=\"color: #7f7f7f; text-decoration-color: #7f7f7f\">              </span>\n<span style=\"color: #7fbfbf; text-decoration-color: #7fbfbf\">                    </span>         <span style=\"color: #0000ff; text-decoration-color: #0000ff; text-decoration: underline\">https://github.com/TUM-DAML/seml/blob/master/examples/example_experimen</span> <span style=\"color: #7f7f7f; text-decoration-color: #7f7f7f\">              </span>\n<span style=\"color: #7fbfbf; text-decoration-color: #7fbfbf\">                    </span>         <span style=\"color: #0000ff; text-decoration-color: #0000ff; text-decoration: underline\">t.py</span>                                                                    <span style=\"color: #7f7f7f; text-decoration-color: #7f7f7f\">              </span>\n</pre>\n"
     },
     "metadata": {},
     "output_type": "display_data"
    }
   ]
  },
  {
   "cell_type": "markdown",
   "source": [
    "## 1. Training\n",
    "\n",
    "For the training and evaluation code we decided to provide Sacred experiments which make it very easy to run the same code from the command line or on your cluster. To train or attack the models you can use the `script_execute_experiment` script and simply specify the respective configuration or execute the experiment directly by passing the desired configuration in [experiments/experiment_train.py](https://github.com/sigeisler/robustness_of_gnns_at_scale/blob/main/experiments/experiment_train.py#L74).\n",
    "\n",
    "In the example below, we train a `GCN` on `Cora ML`."
   ],
   "metadata": {
    "id": "Rb2y6lUbdYi_"
   }
  },
  {
   "cell_type": "code",
   "source": [
    "!pwd"
   ],
   "metadata": {
    "id": "Qep-wC-OYHIH",
    "outputId": "6bcae040-69eb-47be-e5b1-21ac822d1a8e",
    "colab": {
     "base_uri": "https://localhost:8080/"
    }
   },
   "execution_count": null,
   "outputs": [
    {
     "output_type": "stream",
     "name": "stdout",
     "text": [
      "/content/robustness_of_gnns_at_scale\n"
     ]
    }
   ]
  },
  {
   "cell_type": "code",
   "execution_count": null,
   "outputs": [],
   "source": [],
   "metadata": {
    "collapsed": false
   }
  },
  {
   "cell_type": "code",
   "source": [
    "# zum laufen bringen:\n",
    "# alles ausführen\n",
    "# in rgnn_at_scale/models/gcn.py folgende imports einbauen:\n",
    "# import collections.abc\n",
    "# import collections\n",
    "# + Zeile 153 zu collections.abc.Sequence ändern\n",
    "# Nach der obigen Anpassen kam trotzdem der AttributeError module 'collection' has no module 'Sequence'\n",
    "# Dieser Fehler kam dann nicht mehr nach dem neustarten der Sitzung\n",
    "# Dann Zelle #7 und #5.1 vorher ausführen, es kann sein, dass alle imports nochmal ausgeführt werden müssen"
   ],
   "metadata": {
    "colab": {
     "base_uri": "https://localhost:8080/"
    },
    "id": "3FY3yZsxt98R",
    "outputId": "7beabaa1-d7bc-4d59-9429-7182eac3c5b2",
    "ExecuteTime": {
     "end_time": "2025-02-11T17:27:29.983699900Z",
     "start_time": "2025-02-11T17:27:29.708383400Z"
    }
   },
   "execution_count": 13,
   "outputs": [
    {
     "ename": "ModuleNotFoundError",
     "evalue": "No module named 'resource'",
     "output_type": "error",
     "traceback": [
      "\u001B[1;31m---------------------------------------------------------------------------\u001B[0m",
      "\u001B[1;31mModuleNotFoundError\u001B[0m                       Traceback (most recent call last)",
      "Cell \u001B[1;32mIn[13], line 10\u001B[0m\n\u001B[0;32m      1\u001B[0m \u001B[38;5;66;03m# zum laufen bringen:\u001B[39;00m\n\u001B[0;32m      2\u001B[0m \u001B[38;5;66;03m# alles ausführen\u001B[39;00m\n\u001B[0;32m      3\u001B[0m \u001B[38;5;66;03m# in rgnn_at_scale/models/gcn.py folgende imports einbauen:\u001B[39;00m\n\u001B[1;32m   (...)\u001B[0m\n\u001B[0;32m      8\u001B[0m \u001B[38;5;66;03m# Dieser Fehler kam dann nicht mehr nach dem neustarten der Sitzung\u001B[39;00m\n\u001B[0;32m      9\u001B[0m \u001B[38;5;66;03m# Dann Zelle #7 und #5.1 vorher ausführen, es kann sein, dass alle imports nochmal ausgeführt werden müssen\u001B[39;00m\n\u001B[1;32m---> 10\u001B[0m \u001B[38;5;28;01mfrom\u001B[39;00m \u001B[38;5;21;01mexperiments\u001B[39;00m \u001B[38;5;28;01mimport\u001B[39;00m experiment_train\n",
      "File \u001B[1;32m~\\Desktop\\robustness_of_gnns_at_scale-main\\experiments\\experiment_train.py:27\u001B[0m\n\u001B[0;32m     24\u001B[0m ex \u001B[38;5;241m=\u001B[39m Experiment()\n\u001B[0;32m     26\u001B[0m \u001B[38;5;28;01mif\u001B[39;00m seml \u001B[38;5;129;01mis\u001B[39;00m \u001B[38;5;129;01mnot\u001B[39;00m \u001B[38;5;28;01mNone\u001B[39;00m:\n\u001B[1;32m---> 27\u001B[0m     seml\u001B[38;5;241m.\u001B[39msetup_logger(ex)\n\u001B[0;32m     30\u001B[0m \u001B[38;5;129m@ex\u001B[39m\u001B[38;5;241m.\u001B[39mconfig\n\u001B[0;32m     31\u001B[0m \u001B[38;5;28;01mdef\u001B[39;00m \u001B[38;5;21mconfig\u001B[39m():\n\u001B[0;32m     32\u001B[0m     overwrite \u001B[38;5;241m=\u001B[39m \u001B[38;5;28;01mNone\u001B[39;00m\n",
      "File \u001B[1;32m~\\anaconda3\\envs\\Masterarbeit_2_0\\Lib\\site-packages\\seml\\__init__.py:8\u001B[0m, in \u001B[0;36msetup_logger\u001B[1;34m(ex, level)\u001B[0m\n\u001B[0;32m      6\u001B[0m \u001B[38;5;28;01mdef\u001B[39;00m \u001B[38;5;21msetup_logger\u001B[39m(ex, level\u001B[38;5;241m=\u001B[39m\u001B[38;5;124m'\u001B[39m\u001B[38;5;124mINFO\u001B[39m\u001B[38;5;124m'\u001B[39m):\n\u001B[0;32m      7\u001B[0m     \u001B[38;5;28;01mimport\u001B[39;00m \u001B[38;5;21;01mlogging\u001B[39;00m\n\u001B[1;32m----> 8\u001B[0m     \u001B[38;5;28;01mfrom\u001B[39;00m \u001B[38;5;21;01mseml\u001B[39;00m\u001B[38;5;21;01m.\u001B[39;00m\u001B[38;5;21;01mexperiment\u001B[39;00m \u001B[38;5;28;01mimport\u001B[39;00m setup_logger\n\u001B[0;32m     10\u001B[0m     logging\u001B[38;5;241m.\u001B[39mwarn(\n\u001B[0;32m     11\u001B[0m         \u001B[38;5;124m'\u001B[39m\u001B[38;5;124mImporting setup_logger directly from seml is deprecated.\u001B[39m\u001B[38;5;130;01m\\n\u001B[39;00m\u001B[38;5;124m'\u001B[39m\n\u001B[0;32m     12\u001B[0m         \u001B[38;5;124m'\u001B[39m\u001B[38;5;124mUse from seml.experiment import setup_logger instead.\u001B[39m\u001B[38;5;130;01m\\n\u001B[39;00m\u001B[38;5;124m'\u001B[39m\n\u001B[0;32m     13\u001B[0m         \u001B[38;5;124m'\u001B[39m\u001B[38;5;124mNote that seml.experiment.Experiment already includes the logger setup.\u001B[39m\u001B[38;5;130;01m\\n\u001B[39;00m\u001B[38;5;124m'\u001B[39m\n\u001B[0;32m     14\u001B[0m         \u001B[38;5;124m'\u001B[39m\u001B[38;5;124mSee https://github.com/TUM-DAML/seml/blob/master/examples/example_experiment.py\u001B[39m\u001B[38;5;124m'\u001B[39m\n\u001B[0;32m     15\u001B[0m     )\n\u001B[0;32m     16\u001B[0m     setup_logger(ex, level\u001B[38;5;241m=\u001B[39mlevel)\n",
      "File \u001B[1;32m~\\anaconda3\\envs\\Masterarbeit_2_0\\Lib\\site-packages\\seml\\experiment.py:4\u001B[0m\n\u001B[0;32m      2\u001B[0m \u001B[38;5;28;01mfrom\u001B[39;00m \u001B[38;5;21;01menum\u001B[39;00m \u001B[38;5;28;01mimport\u001B[39;00m Enum\n\u001B[0;32m      3\u001B[0m \u001B[38;5;28;01mimport\u001B[39;00m \u001B[38;5;21;01mlogging\u001B[39;00m\n\u001B[1;32m----> 4\u001B[0m \u001B[38;5;28;01mimport\u001B[39;00m \u001B[38;5;21;01mresource\u001B[39;00m\n\u001B[0;32m      5\u001B[0m \u001B[38;5;28;01mimport\u001B[39;00m \u001B[38;5;21;01msys\u001B[39;00m\n\u001B[0;32m      6\u001B[0m \u001B[38;5;28;01mfrom\u001B[39;00m \u001B[38;5;21;01mtyping\u001B[39;00m \u001B[38;5;28;01mimport\u001B[39;00m List, Optional, Sequence, Union\n",
      "\u001B[1;31mModuleNotFoundError\u001B[0m: No module named 'resource'"
     ]
    }
   ]
  },
  {
   "cell_type": "code",
   "source": [
    "train_statistics = experiment_train.run(\n",
    "    data_dir = './data',\n",
    "    dataset = 'cora_ml',\n",
    "    model_params = dict(\n",
    "        label=\"Vanilla GCN\",\n",
    "        model=\"GCN\",\n",
    "        do_cache_adj_prep=True,\n",
    "        n_filters=64,\n",
    "        dropout=0.5,\n",
    "        svd_params=None,\n",
    "        jaccard_params=None,\n",
    "        gdc_params={\"alpha\": 0.15, \"k\": 64}),\n",
    "    train_params = dict(\n",
    "        lr=1e-2,\n",
    "        weight_decay=1e-3,\n",
    "        patience=300,\n",
    "        max_epochs=3000),\n",
    "    binary_attr = False,\n",
    "    make_undirected = True,\n",
    "    seed=0,\n",
    "    artifact_dir = 'cache',\n",
    "    model_storage_type = 'demo',\n",
    "    ppr_cache_params = dict(),\n",
    "    #device = 0,\n",
    "    #data_device = 0,\n",
    "    device = \"cpu\",\n",
    "    data_device = \"cpu\",\n",
    "    display_steps = 100,\n",
    "    debug_level = \"info\"\n",
    ")\n",
    "\n",
    "# plot train and val loss curves\n",
    "fig, ax = plt.subplots()\n",
    "\n",
    "color = plt.rcParams['axes.prop_cycle'].by_key()['color'][0]\n",
    "ax.set_xlabel('Epoch $t$')\n",
    "ax.set_ylabel(\"Loss\")\n",
    "ax.plot(train_statistics['trace_train'], color=color, label='Train')\n",
    "\n",
    "color = plt.rcParams['axes.prop_cycle'].by_key()['color'][1]\n",
    "ax.plot(train_statistics['trace_val'], color=color, label='Val')\n",
    "ax.legend()\n",
    "\n",
    "plt.gcf().show()"
   ],
   "metadata": {
    "id": "6mga1GGvdbLp",
    "colab": {
     "base_uri": "https://localhost:8080/",
     "height": 1000,
     "referenced_widgets": [
      "000ed2b3357742d680f3d8bb10372d47",
      "2c3b9c694dac42e4947c6798b999d507",
      "58efe96af90246eeb74dec5024a3c66f",
      "c256707289d140779e4daf03002dfb23",
      "49d4155957174a0db14dc498bdb0f180",
      "dd68ea00665644b5b6f39d35c2f5c147",
      "7c14ad56ff064b7da7db30e28d74bb75",
      "f6621bf7efc54e2d94d54bd9908fbc80",
      "214af2ad15df45e486cd9371925d055f",
      "9bcc48723add48f2abb94955239a59e4",
      "75ad556f38c04bc0b4b8a94b6ca453f7"
     ]
    },
    "outputId": "e16d7474-2438-4f6e-9c20-60e816e44c4e",
    "ExecuteTime": {
     "end_time": "2025-02-13T15:11:13.286363800Z",
     "start_time": "2025-02-13T15:11:04.310244200Z"
    }
   },
   "execution_count": 3,
   "outputs": [
    {
     "data": {
      "text/plain": "\u001B[2;36m[02/13/25 16:11:05]\u001B[0m\u001B[2;36m \u001B[0m\u001B[34mINFO    \u001B[0m \u001B[1m{\u001B[0m\u001B[32m'dataset'\u001B[0m: \u001B[32m'cora_ml'\u001B[0m, \u001B[32m'model_params'\u001B[0m: \u001B[1m{\u001B[0m\u001B[32m'label'\u001B[0m: \u001B[32m'Vanilla \u001B[0m     \u001B]8;id=408320;file://C:\\Users\\kyawk\\Desktop\\robustness_of_gnns_at_scale-main\\experiments\\experiment_train.py\u001B\\\u001B[2mexperiment_train.py\u001B[0m\u001B]8;;\u001B\\\u001B[2m:\u001B[0m\u001B]8;id=137332;file://C:\\Users\\kyawk\\Desktop\\robustness_of_gnns_at_scale-main\\experiments\\experiment_train.py#140\u001B\\\u001B[2m140\u001B[0m\u001B]8;;\u001B\\\n\u001B[2;36m                    \u001B[0m         \u001B[32mGCN'\u001B[0m, \u001B[32m'model'\u001B[0m: \u001B[32m'GCN'\u001B[0m, \u001B[32m'do_cache_adj_prep'\u001B[0m: \u001B[3;92mTrue\u001B[0m, \u001B[32m'n_filters'\u001B[0m:  \u001B[2m                       \u001B[0m\n\u001B[2;36m                    \u001B[0m         \u001B[1;36m64\u001B[0m, \u001B[32m'dropout'\u001B[0m: \u001B[1;36m0.5\u001B[0m, \u001B[32m'svd_params'\u001B[0m: \u001B[3;35mNone\u001B[0m, \u001B[32m'jaccard_params'\u001B[0m:      \u001B[2m                       \u001B[0m\n\u001B[2;36m                    \u001B[0m         \u001B[3;35mNone\u001B[0m, \u001B[32m'gdc_params'\u001B[0m: \u001B[1m{\u001B[0m\u001B[32m'alpha'\u001B[0m: \u001B[1;36m0.15\u001B[0m, \u001B[32m'k'\u001B[0m: \u001B[1;36m64\u001B[0m\u001B[1m}\u001B[0m\u001B[1m}\u001B[0m, \u001B[32m'train_params'\u001B[0m: \u001B[2m                       \u001B[0m\n\u001B[2;36m                    \u001B[0m         \u001B[1m{\u001B[0m\u001B[32m'lr'\u001B[0m: \u001B[1;36m0.01\u001B[0m, \u001B[32m'weight_decay'\u001B[0m: \u001B[1;36m0.001\u001B[0m, \u001B[32m'patience'\u001B[0m: \u001B[1;36m300\u001B[0m,           \u001B[2m                       \u001B[0m\n\u001B[2;36m                    \u001B[0m         \u001B[32m'max_epochs'\u001B[0m: \u001B[1;36m3000\u001B[0m\u001B[1m}\u001B[0m, \u001B[32m'binary_attr'\u001B[0m: \u001B[3;91mFalse\u001B[0m, \u001B[32m'make_undirected'\u001B[0m:  \u001B[2m                       \u001B[0m\n\u001B[2;36m                    \u001B[0m         \u001B[3;92mTrue\u001B[0m, \u001B[32m'seed'\u001B[0m: \u001B[1;36m0\u001B[0m, \u001B[32m'artifact_dir'\u001B[0m: \u001B[32m'cache'\u001B[0m,                      \u001B[2m                       \u001B[0m\n\u001B[2;36m                    \u001B[0m         \u001B[32m'model_storage_type'\u001B[0m: \u001B[32m'demo'\u001B[0m, \u001B[32m'ppr_cache_params'\u001B[0m: \u001B[1m{\u001B[0m\u001B[1m}\u001B[0m,          \u001B[2m                       \u001B[0m\n\u001B[2;36m                    \u001B[0m         \u001B[32m'device'\u001B[0m: \u001B[32m'cpu'\u001B[0m, \u001B[32m'display_steps'\u001B[0m: \u001B[1;36m100\u001B[0m, \u001B[32m'data_device'\u001B[0m: \u001B[32m'cpu'\u001B[0m\u001B[1m}\u001B[0m   \u001B[2m                       \u001B[0m\n",
      "text/html": "<pre style=\"white-space:pre;overflow-x:auto;line-height:normal;font-family:Menlo,'DejaVu Sans Mono',consolas,'Courier New',monospace\"><span style=\"color: #7fbfbf; text-decoration-color: #7fbfbf\">[02/13/25 16:11:05] </span><span style=\"color: #000080; text-decoration-color: #000080\">INFO    </span> <span style=\"font-weight: bold\">{</span><span style=\"color: #008000; text-decoration-color: #008000\">'dataset'</span>: <span style=\"color: #008000; text-decoration-color: #008000\">'cora_ml'</span>, <span style=\"color: #008000; text-decoration-color: #008000\">'model_params'</span>: <span style=\"font-weight: bold\">{</span><span style=\"color: #008000; text-decoration-color: #008000\">'label'</span>: <span style=\"color: #008000; text-decoration-color: #008000\">'Vanilla </span>     <a href=\"file://C:\\Users\\kyawk\\Desktop\\robustness_of_gnns_at_scale-main\\experiments\\experiment_train.py\" target=\"_blank\"><span style=\"color: #7f7f7f; text-decoration-color: #7f7f7f\">experiment_train.py</span></a><span style=\"color: #7f7f7f; text-decoration-color: #7f7f7f\">:</span><a href=\"file://C:\\Users\\kyawk\\Desktop\\robustness_of_gnns_at_scale-main\\experiments\\experiment_train.py#140\" target=\"_blank\"><span style=\"color: #7f7f7f; text-decoration-color: #7f7f7f\">140</span></a>\n<span style=\"color: #7fbfbf; text-decoration-color: #7fbfbf\">                    </span>         <span style=\"color: #008000; text-decoration-color: #008000\">GCN'</span>, <span style=\"color: #008000; text-decoration-color: #008000\">'model'</span>: <span style=\"color: #008000; text-decoration-color: #008000\">'GCN'</span>, <span style=\"color: #008000; text-decoration-color: #008000\">'do_cache_adj_prep'</span>: <span style=\"color: #00ff00; text-decoration-color: #00ff00; font-style: italic\">True</span>, <span style=\"color: #008000; text-decoration-color: #008000\">'n_filters'</span>:  <span style=\"color: #7f7f7f; text-decoration-color: #7f7f7f\">                       </span>\n<span style=\"color: #7fbfbf; text-decoration-color: #7fbfbf\">                    </span>         <span style=\"color: #008080; text-decoration-color: #008080; font-weight: bold\">64</span>, <span style=\"color: #008000; text-decoration-color: #008000\">'dropout'</span>: <span style=\"color: #008080; text-decoration-color: #008080; font-weight: bold\">0.5</span>, <span style=\"color: #008000; text-decoration-color: #008000\">'svd_params'</span>: <span style=\"color: #800080; text-decoration-color: #800080; font-style: italic\">None</span>, <span style=\"color: #008000; text-decoration-color: #008000\">'jaccard_params'</span>:      <span style=\"color: #7f7f7f; text-decoration-color: #7f7f7f\">                       </span>\n<span style=\"color: #7fbfbf; text-decoration-color: #7fbfbf\">                    </span>         <span style=\"color: #800080; text-decoration-color: #800080; font-style: italic\">None</span>, <span style=\"color: #008000; text-decoration-color: #008000\">'gdc_params'</span>: <span style=\"font-weight: bold\">{</span><span style=\"color: #008000; text-decoration-color: #008000\">'alpha'</span>: <span style=\"color: #008080; text-decoration-color: #008080; font-weight: bold\">0.15</span>, <span style=\"color: #008000; text-decoration-color: #008000\">'k'</span>: <span style=\"color: #008080; text-decoration-color: #008080; font-weight: bold\">64</span><span style=\"font-weight: bold\">}}</span>, <span style=\"color: #008000; text-decoration-color: #008000\">'train_params'</span>: <span style=\"color: #7f7f7f; text-decoration-color: #7f7f7f\">                       </span>\n<span style=\"color: #7fbfbf; text-decoration-color: #7fbfbf\">                    </span>         <span style=\"font-weight: bold\">{</span><span style=\"color: #008000; text-decoration-color: #008000\">'lr'</span>: <span style=\"color: #008080; text-decoration-color: #008080; font-weight: bold\">0.01</span>, <span style=\"color: #008000; text-decoration-color: #008000\">'weight_decay'</span>: <span style=\"color: #008080; text-decoration-color: #008080; font-weight: bold\">0.001</span>, <span style=\"color: #008000; text-decoration-color: #008000\">'patience'</span>: <span style=\"color: #008080; text-decoration-color: #008080; font-weight: bold\">300</span>,           <span style=\"color: #7f7f7f; text-decoration-color: #7f7f7f\">                       </span>\n<span style=\"color: #7fbfbf; text-decoration-color: #7fbfbf\">                    </span>         <span style=\"color: #008000; text-decoration-color: #008000\">'max_epochs'</span>: <span style=\"color: #008080; text-decoration-color: #008080; font-weight: bold\">3000</span><span style=\"font-weight: bold\">}</span>, <span style=\"color: #008000; text-decoration-color: #008000\">'binary_attr'</span>: <span style=\"color: #ff0000; text-decoration-color: #ff0000; font-style: italic\">False</span>, <span style=\"color: #008000; text-decoration-color: #008000\">'make_undirected'</span>:  <span style=\"color: #7f7f7f; text-decoration-color: #7f7f7f\">                       </span>\n<span style=\"color: #7fbfbf; text-decoration-color: #7fbfbf\">                    </span>         <span style=\"color: #00ff00; text-decoration-color: #00ff00; font-style: italic\">True</span>, <span style=\"color: #008000; text-decoration-color: #008000\">'seed'</span>: <span style=\"color: #008080; text-decoration-color: #008080; font-weight: bold\">0</span>, <span style=\"color: #008000; text-decoration-color: #008000\">'artifact_dir'</span>: <span style=\"color: #008000; text-decoration-color: #008000\">'cache'</span>,                      <span style=\"color: #7f7f7f; text-decoration-color: #7f7f7f\">                       </span>\n<span style=\"color: #7fbfbf; text-decoration-color: #7fbfbf\">                    </span>         <span style=\"color: #008000; text-decoration-color: #008000\">'model_storage_type'</span>: <span style=\"color: #008000; text-decoration-color: #008000\">'demo'</span>, <span style=\"color: #008000; text-decoration-color: #008000\">'ppr_cache_params'</span>: <span style=\"font-weight: bold\">{}</span>,          <span style=\"color: #7f7f7f; text-decoration-color: #7f7f7f\">                       </span>\n<span style=\"color: #7fbfbf; text-decoration-color: #7fbfbf\">                    </span>         <span style=\"color: #008000; text-decoration-color: #008000\">'device'</span>: <span style=\"color: #008000; text-decoration-color: #008000\">'cpu'</span>, <span style=\"color: #008000; text-decoration-color: #008000\">'display_steps'</span>: <span style=\"color: #008080; text-decoration-color: #008080; font-weight: bold\">100</span>, <span style=\"color: #008000; text-decoration-color: #008000\">'data_device'</span>: <span style=\"color: #008000; text-decoration-color: #008000\">'cpu'</span><span style=\"font-weight: bold\">}</span>   <span style=\"color: #7f7f7f; text-decoration-color: #7f7f7f\">                       </span>\n</pre>\n"
     },
     "metadata": {},
     "output_type": "display_data"
    },
    {
     "data": {
      "text/plain": "\u001B[2;36m                   \u001B[0m\u001B[2;36m \u001B[0m\u001B[34mINFO    \u001B[0m Training set size: \u001B[1;36m140\u001B[0m                                         \u001B]8;id=566588;file://C:\\Users\\kyawk\\Desktop\\robustness_of_gnns_at_scale-main\\experiments\\experiment_train.py\u001B\\\u001B[2mexperiment_train.py\u001B[0m\u001B]8;;\u001B\\\u001B[2m:\u001B[0m\u001B]8;id=134862;file://C:\\Users\\kyawk\\Desktop\\robustness_of_gnns_at_scale-main\\experiments\\experiment_train.py#161\u001B\\\u001B[2m161\u001B[0m\u001B]8;;\u001B\\\n",
      "text/html": "<pre style=\"white-space:pre;overflow-x:auto;line-height:normal;font-family:Menlo,'DejaVu Sans Mono',consolas,'Courier New',monospace\"><span style=\"color: #7fbfbf; text-decoration-color: #7fbfbf\">                    </span><span style=\"color: #000080; text-decoration-color: #000080\">INFO    </span> Training set size: <span style=\"color: #008080; text-decoration-color: #008080; font-weight: bold\">140</span>                                         <a href=\"file://C:\\Users\\kyawk\\Desktop\\robustness_of_gnns_at_scale-main\\experiments\\experiment_train.py\" target=\"_blank\"><span style=\"color: #7f7f7f; text-decoration-color: #7f7f7f\">experiment_train.py</span></a><span style=\"color: #7f7f7f; text-decoration-color: #7f7f7f\">:</span><a href=\"file://C:\\Users\\kyawk\\Desktop\\robustness_of_gnns_at_scale-main\\experiments\\experiment_train.py#161\" target=\"_blank\"><span style=\"color: #7f7f7f; text-decoration-color: #7f7f7f\">161</span></a>\n</pre>\n"
     },
     "metadata": {},
     "output_type": "display_data"
    },
    {
     "data": {
      "text/plain": "\u001B[2;36m                   \u001B[0m\u001B[2;36m \u001B[0m\u001B[34mINFO    \u001B[0m Validation set size: \u001B[1;36m140\u001B[0m                                       \u001B]8;id=565614;file://C:\\Users\\kyawk\\Desktop\\robustness_of_gnns_at_scale-main\\experiments\\experiment_train.py\u001B\\\u001B[2mexperiment_train.py\u001B[0m\u001B]8;;\u001B\\\u001B[2m:\u001B[0m\u001B]8;id=658897;file://C:\\Users\\kyawk\\Desktop\\robustness_of_gnns_at_scale-main\\experiments\\experiment_train.py#162\u001B\\\u001B[2m162\u001B[0m\u001B]8;;\u001B\\\n",
      "text/html": "<pre style=\"white-space:pre;overflow-x:auto;line-height:normal;font-family:Menlo,'DejaVu Sans Mono',consolas,'Courier New',monospace\"><span style=\"color: #7fbfbf; text-decoration-color: #7fbfbf\">                    </span><span style=\"color: #000080; text-decoration-color: #000080\">INFO    </span> Validation set size: <span style=\"color: #008080; text-decoration-color: #008080; font-weight: bold\">140</span>                                       <a href=\"file://C:\\Users\\kyawk\\Desktop\\robustness_of_gnns_at_scale-main\\experiments\\experiment_train.py\" target=\"_blank\"><span style=\"color: #7f7f7f; text-decoration-color: #7f7f7f\">experiment_train.py</span></a><span style=\"color: #7f7f7f; text-decoration-color: #7f7f7f\">:</span><a href=\"file://C:\\Users\\kyawk\\Desktop\\robustness_of_gnns_at_scale-main\\experiments\\experiment_train.py#162\" target=\"_blank\"><span style=\"color: #7f7f7f; text-decoration-color: #7f7f7f\">162</span></a>\n</pre>\n"
     },
     "metadata": {},
     "output_type": "display_data"
    },
    {
     "data": {
      "text/plain": "\u001B[2;36m                   \u001B[0m\u001B[2;36m \u001B[0m\u001B[34mINFO    \u001B[0m Test set size: \u001B[1;36m2530\u001B[0m                                            \u001B]8;id=235273;file://C:\\Users\\kyawk\\Desktop\\robustness_of_gnns_at_scale-main\\experiments\\experiment_train.py\u001B\\\u001B[2mexperiment_train.py\u001B[0m\u001B]8;;\u001B\\\u001B[2m:\u001B[0m\u001B]8;id=80113;file://C:\\Users\\kyawk\\Desktop\\robustness_of_gnns_at_scale-main\\experiments\\experiment_train.py#163\u001B\\\u001B[2m163\u001B[0m\u001B]8;;\u001B\\\n",
      "text/html": "<pre style=\"white-space:pre;overflow-x:auto;line-height:normal;font-family:Menlo,'DejaVu Sans Mono',consolas,'Courier New',monospace\"><span style=\"color: #7fbfbf; text-decoration-color: #7fbfbf\">                    </span><span style=\"color: #000080; text-decoration-color: #000080\">INFO    </span> Test set size: <span style=\"color: #008080; text-decoration-color: #008080; font-weight: bold\">2530</span>                                            <a href=\"file://C:\\Users\\kyawk\\Desktop\\robustness_of_gnns_at_scale-main\\experiments\\experiment_train.py\" target=\"_blank\"><span style=\"color: #7f7f7f; text-decoration-color: #7f7f7f\">experiment_train.py</span></a><span style=\"color: #7f7f7f; text-decoration-color: #7f7f7f\">:</span><a href=\"file://C:\\Users\\kyawk\\Desktop\\robustness_of_gnns_at_scale-main\\experiments\\experiment_train.py#163\" target=\"_blank\"><span style=\"color: #7f7f7f; text-decoration-color: #7f7f7f\">163</span></a>\n</pre>\n"
     },
     "metadata": {},
     "output_type": "display_data"
    },
    {
     "data": {
      "text/plain": "\u001B[2;36m                   \u001B[0m\u001B[2;36m \u001B[0m\u001B[34mINFO    \u001B[0m Memory Usage after loading the dataset:                        \u001B]8;id=794697;file://C:\\Users\\kyawk\\Desktop\\robustness_of_gnns_at_scale-main\\experiments\\experiment_train.py\u001B\\\u001B[2mexperiment_train.py\u001B[0m\u001B]8;;\u001B\\\u001B[2m:\u001B[0m\u001B]8;id=68206;file://C:\\Users\\kyawk\\Desktop\\robustness_of_gnns_at_scale-main\\experiments\\experiment_train.py#183\u001B\\\u001B[2m183\u001B[0m\u001B]8;;\u001B\\\n",
      "text/html": "<pre style=\"white-space:pre;overflow-x:auto;line-height:normal;font-family:Menlo,'DejaVu Sans Mono',consolas,'Courier New',monospace\"><span style=\"color: #7fbfbf; text-decoration-color: #7fbfbf\">                    </span><span style=\"color: #000080; text-decoration-color: #000080\">INFO    </span> Memory Usage after loading the dataset:                        <a href=\"file://C:\\Users\\kyawk\\Desktop\\robustness_of_gnns_at_scale-main\\experiments\\experiment_train.py\" target=\"_blank\"><span style=\"color: #7f7f7f; text-decoration-color: #7f7f7f\">experiment_train.py</span></a><span style=\"color: #7f7f7f; text-decoration-color: #7f7f7f\">:</span><a href=\"file://C:\\Users\\kyawk\\Desktop\\robustness_of_gnns_at_scale-main\\experiments\\experiment_train.py#183\" target=\"_blank\"><span style=\"color: #7f7f7f; text-decoration-color: #7f7f7f\">183</span></a>\n</pre>\n"
     },
     "metadata": {},
     "output_type": "display_data"
    },
    {
     "data": {
      "text/plain": "\u001B[2;36m                   \u001B[0m\u001B[2;36m \u001B[0m\u001B[34mINFO    \u001B[0m nan                                                            \u001B]8;id=663696;file://C:\\Users\\kyawk\\Desktop\\robustness_of_gnns_at_scale-main\\experiments\\experiment_train.py\u001B\\\u001B[2mexperiment_train.py\u001B[0m\u001B]8;;\u001B\\\u001B[2m:\u001B[0m\u001B]8;id=56399;file://C:\\Users\\kyawk\\Desktop\\robustness_of_gnns_at_scale-main\\experiments\\experiment_train.py#184\u001B\\\u001B[2m184\u001B[0m\u001B]8;;\u001B\\\n",
      "text/html": "<pre style=\"white-space:pre;overflow-x:auto;line-height:normal;font-family:Menlo,'DejaVu Sans Mono',consolas,'Courier New',monospace\"><span style=\"color: #7fbfbf; text-decoration-color: #7fbfbf\">                    </span><span style=\"color: #000080; text-decoration-color: #000080\">INFO    </span> nan                                                            <a href=\"file://C:\\Users\\kyawk\\Desktop\\robustness_of_gnns_at_scale-main\\experiments\\experiment_train.py\" target=\"_blank\"><span style=\"color: #7f7f7f; text-decoration-color: #7f7f7f\">experiment_train.py</span></a><span style=\"color: #7f7f7f; text-decoration-color: #7f7f7f\">:</span><a href=\"file://C:\\Users\\kyawk\\Desktop\\robustness_of_gnns_at_scale-main\\experiments\\experiment_train.py#184\" target=\"_blank\"><span style=\"color: #7f7f7f; text-decoration-color: #7f7f7f\">184</span></a>\n</pre>\n"
     },
     "metadata": {},
     "output_type": "display_data"
    },
    {
     "data": {
      "text/plain": "HBox(children=(FloatProgress(value=0.0, description='Training...', max=3000.0, style=ProgressStyle(description…",
      "application/vnd.jupyter.widget-view+json": {
       "version_major": 2,
       "version_minor": 0,
       "model_id": "d63c96b67828413d8a0db107eb72dd97"
      }
     },
     "metadata": {},
     "output_type": "display_data"
    },
    {
     "name": "stderr",
     "output_type": "stream",
     "text": [
      "C:\\Users\\kyawk\\Desktop\\robustness_of_gnns_at_scale-main\\rgnn_at_scale\\models\\gcn.py:315: UserWarning: torch.sparse.SparseTensor(indices, values, *, device=) is deprecated.  Please use torch.sparse_coo_tensor(indices, values, dtype=, device=). (Triggered internally at C:\\actions-runner\\_work\\pytorch\\pytorch\\pytorch\\torch\\csrc\\utils\\tensor_new.cpp:634.)\n",
      "  adj = get_ppr_matrix(torch.sparse.FloatTensor(edge_idx, edge_weight), **self.gdc_params)\n",
      "C:\\Users\\kyawk\\anaconda3\\envs\\Masterarbeit_2_0\\Lib\\site-packages\\torch_sparse\\tensor.py:574: UserWarning: Sparse CSR tensor support is in beta state. If you miss a functionality in the sparse tensor support, please submit a feature request to https://github.com/pytorch/pytorch/issues. (Triggered internally at C:\\actions-runner\\_work\\pytorch\\pytorch\\pytorch\\aten\\src\\ATen\\SparseCsrTensorImpl.cpp:55.)\n",
      "  return torch.sparse_csr_tensor(rowptr, col, value, self.sizes())\n"
     ]
    },
    {
     "data": {
      "text/plain": "\u001B[2;36m[02/13/25 16:11:06]\u001B[0m\u001B[2;36m \u001B[0m\u001B[34mINFO    \u001B[0m                                                                            \u001B]8;id=223766;file://C:\\Users\\kyawk\\Desktop\\robustness_of_gnns_at_scale-main\\rgnn_at_scale\\train.py\u001B\\\u001B[2mtrain.py\u001B[0m\u001B]8;;\u001B\\\u001B[2m:\u001B[0m\u001B]8;id=733128;file://C:\\Users\\kyawk\\Desktop\\robustness_of_gnns_at_scale-main\\rgnn_at_scale\\train.py#81\u001B\\\u001B[2m81\u001B[0m\u001B]8;;\u001B\\\n\u001B[2;36m                    \u001B[0m         Epoch    \u001B[1;36m0\u001B[0m: loss_train: \u001B[1;36m1.94657\u001B[0m, loss_val: \u001B[1;36m1.94479\u001B[0m, acc_train: \u001B[1;36m0.10000\u001B[0m,    \u001B[2m           \u001B[0m\n\u001B[2;36m                    \u001B[0m         acc_val: \u001B[1;36m0.18571\u001B[0m                                                           \u001B[2m           \u001B[0m\n",
      "text/html": "<pre style=\"white-space:pre;overflow-x:auto;line-height:normal;font-family:Menlo,'DejaVu Sans Mono',consolas,'Courier New',monospace\"><span style=\"color: #7fbfbf; text-decoration-color: #7fbfbf\">[02/13/25 16:11:06] </span><span style=\"color: #000080; text-decoration-color: #000080\">INFO    </span>                                                                            <a href=\"file://C:\\Users\\kyawk\\Desktop\\robustness_of_gnns_at_scale-main\\rgnn_at_scale\\train.py\" target=\"_blank\"><span style=\"color: #7f7f7f; text-decoration-color: #7f7f7f\">train.py</span></a><span style=\"color: #7f7f7f; text-decoration-color: #7f7f7f\">:</span><a href=\"file://C:\\Users\\kyawk\\Desktop\\robustness_of_gnns_at_scale-main\\rgnn_at_scale\\train.py#81\" target=\"_blank\"><span style=\"color: #7f7f7f; text-decoration-color: #7f7f7f\">81</span></a>\n<span style=\"color: #7fbfbf; text-decoration-color: #7fbfbf\">                    </span>         Epoch    <span style=\"color: #008080; text-decoration-color: #008080; font-weight: bold\">0</span>: loss_train: <span style=\"color: #008080; text-decoration-color: #008080; font-weight: bold\">1.94657</span>, loss_val: <span style=\"color: #008080; text-decoration-color: #008080; font-weight: bold\">1.94479</span>, acc_train: <span style=\"color: #008080; text-decoration-color: #008080; font-weight: bold\">0.10000</span>,    <span style=\"color: #7f7f7f; text-decoration-color: #7f7f7f\">           </span>\n<span style=\"color: #7fbfbf; text-decoration-color: #7fbfbf\">                    </span>         acc_val: <span style=\"color: #008080; text-decoration-color: #008080; font-weight: bold\">0.18571</span>                                                           <span style=\"color: #7f7f7f; text-decoration-color: #7f7f7f\">           </span>\n</pre>\n"
     },
     "metadata": {},
     "output_type": "display_data"
    },
    {
     "data": {
      "text/plain": "\u001B[2;36m[02/13/25 16:11:11]\u001B[0m\u001B[2;36m \u001B[0m\u001B[34mINFO    \u001B[0m                                                                            \u001B]8;id=793526;file://C:\\Users\\kyawk\\Desktop\\robustness_of_gnns_at_scale-main\\rgnn_at_scale\\train.py\u001B\\\u001B[2mtrain.py\u001B[0m\u001B]8;;\u001B\\\u001B[2m:\u001B[0m\u001B]8;id=417583;file://C:\\Users\\kyawk\\Desktop\\robustness_of_gnns_at_scale-main\\rgnn_at_scale\\train.py#81\u001B\\\u001B[2m81\u001B[0m\u001B]8;;\u001B\\\n\u001B[2;36m                    \u001B[0m         Epoch  \u001B[1;36m100\u001B[0m: loss_train: \u001B[1;36m0.09288\u001B[0m, loss_val: \u001B[1;36m0.42195\u001B[0m, acc_train: \u001B[1;36m1.00000\u001B[0m,    \u001B[2m           \u001B[0m\n\u001B[2;36m                    \u001B[0m         acc_val: \u001B[1;36m0.88571\u001B[0m                                                           \u001B[2m           \u001B[0m\n",
      "text/html": "<pre style=\"white-space:pre;overflow-x:auto;line-height:normal;font-family:Menlo,'DejaVu Sans Mono',consolas,'Courier New',monospace\"><span style=\"color: #7fbfbf; text-decoration-color: #7fbfbf\">[02/13/25 16:11:11] </span><span style=\"color: #000080; text-decoration-color: #000080\">INFO    </span>                                                                            <a href=\"file://C:\\Users\\kyawk\\Desktop\\robustness_of_gnns_at_scale-main\\rgnn_at_scale\\train.py\" target=\"_blank\"><span style=\"color: #7f7f7f; text-decoration-color: #7f7f7f\">train.py</span></a><span style=\"color: #7f7f7f; text-decoration-color: #7f7f7f\">:</span><a href=\"file://C:\\Users\\kyawk\\Desktop\\robustness_of_gnns_at_scale-main\\rgnn_at_scale\\train.py#81\" target=\"_blank\"><span style=\"color: #7f7f7f; text-decoration-color: #7f7f7f\">81</span></a>\n<span style=\"color: #7fbfbf; text-decoration-color: #7fbfbf\">                    </span>         Epoch  <span style=\"color: #008080; text-decoration-color: #008080; font-weight: bold\">100</span>: loss_train: <span style=\"color: #008080; text-decoration-color: #008080; font-weight: bold\">0.09288</span>, loss_val: <span style=\"color: #008080; text-decoration-color: #008080; font-weight: bold\">0.42195</span>, acc_train: <span style=\"color: #008080; text-decoration-color: #008080; font-weight: bold\">1.00000</span>,    <span style=\"color: #7f7f7f; text-decoration-color: #7f7f7f\">           </span>\n<span style=\"color: #7fbfbf; text-decoration-color: #7fbfbf\">                    </span>         acc_val: <span style=\"color: #008080; text-decoration-color: #008080; font-weight: bold\">0.88571</span>                                                           <span style=\"color: #7f7f7f; text-decoration-color: #7f7f7f\">           </span>\n</pre>\n"
     },
     "metadata": {},
     "output_type": "display_data"
    },
    {
     "name": "stdout",
     "output_type": "stream",
     "text": []
    },
    {
     "ename": "KeyboardInterrupt",
     "evalue": "",
     "output_type": "error",
     "traceback": [
      "\u001B[1;31m---------------------------------------------------------------------------\u001B[0m",
      "\u001B[1;31mKeyboardInterrupt\u001B[0m                         Traceback (most recent call last)",
      "Cell \u001B[1;32mIn[3], line 1\u001B[0m\n\u001B[1;32m----> 1\u001B[0m train_statistics \u001B[38;5;241m=\u001B[39m experiment_train\u001B[38;5;241m.\u001B[39mrun(\n\u001B[0;32m      2\u001B[0m     data_dir \u001B[38;5;241m=\u001B[39m \u001B[38;5;124m'\u001B[39m\u001B[38;5;124m./data\u001B[39m\u001B[38;5;124m'\u001B[39m,\n\u001B[0;32m      3\u001B[0m     dataset \u001B[38;5;241m=\u001B[39m \u001B[38;5;124m'\u001B[39m\u001B[38;5;124mcora_ml\u001B[39m\u001B[38;5;124m'\u001B[39m,\n\u001B[0;32m      4\u001B[0m     model_params \u001B[38;5;241m=\u001B[39m \u001B[38;5;28mdict\u001B[39m(\n\u001B[0;32m      5\u001B[0m         label\u001B[38;5;241m=\u001B[39m\u001B[38;5;124m\"\u001B[39m\u001B[38;5;124mVanilla GCN\u001B[39m\u001B[38;5;124m\"\u001B[39m,\n\u001B[0;32m      6\u001B[0m         model\u001B[38;5;241m=\u001B[39m\u001B[38;5;124m\"\u001B[39m\u001B[38;5;124mGCN\u001B[39m\u001B[38;5;124m\"\u001B[39m,\n\u001B[0;32m      7\u001B[0m         do_cache_adj_prep\u001B[38;5;241m=\u001B[39m\u001B[38;5;28;01mTrue\u001B[39;00m,\n\u001B[0;32m      8\u001B[0m         n_filters\u001B[38;5;241m=\u001B[39m\u001B[38;5;241m64\u001B[39m,\n\u001B[0;32m      9\u001B[0m         dropout\u001B[38;5;241m=\u001B[39m\u001B[38;5;241m0.5\u001B[39m,\n\u001B[0;32m     10\u001B[0m         svd_params\u001B[38;5;241m=\u001B[39m\u001B[38;5;28;01mNone\u001B[39;00m,\n\u001B[0;32m     11\u001B[0m         jaccard_params\u001B[38;5;241m=\u001B[39m\u001B[38;5;28;01mNone\u001B[39;00m,\n\u001B[0;32m     12\u001B[0m         gdc_params\u001B[38;5;241m=\u001B[39m{\u001B[38;5;124m\"\u001B[39m\u001B[38;5;124malpha\u001B[39m\u001B[38;5;124m\"\u001B[39m: \u001B[38;5;241m0.15\u001B[39m, \u001B[38;5;124m\"\u001B[39m\u001B[38;5;124mk\u001B[39m\u001B[38;5;124m\"\u001B[39m: \u001B[38;5;241m64\u001B[39m}),\n\u001B[0;32m     13\u001B[0m     train_params \u001B[38;5;241m=\u001B[39m \u001B[38;5;28mdict\u001B[39m(\n\u001B[0;32m     14\u001B[0m         lr\u001B[38;5;241m=\u001B[39m\u001B[38;5;241m1e-2\u001B[39m,\n\u001B[0;32m     15\u001B[0m         weight_decay\u001B[38;5;241m=\u001B[39m\u001B[38;5;241m1e-3\u001B[39m,\n\u001B[0;32m     16\u001B[0m         patience\u001B[38;5;241m=\u001B[39m\u001B[38;5;241m300\u001B[39m,\n\u001B[0;32m     17\u001B[0m         max_epochs\u001B[38;5;241m=\u001B[39m\u001B[38;5;241m3000\u001B[39m),\n\u001B[0;32m     18\u001B[0m     binary_attr \u001B[38;5;241m=\u001B[39m \u001B[38;5;28;01mFalse\u001B[39;00m,\n\u001B[0;32m     19\u001B[0m     make_undirected \u001B[38;5;241m=\u001B[39m \u001B[38;5;28;01mTrue\u001B[39;00m,\n\u001B[0;32m     20\u001B[0m     seed\u001B[38;5;241m=\u001B[39m\u001B[38;5;241m0\u001B[39m,\n\u001B[0;32m     21\u001B[0m     artifact_dir \u001B[38;5;241m=\u001B[39m \u001B[38;5;124m'\u001B[39m\u001B[38;5;124mcache\u001B[39m\u001B[38;5;124m'\u001B[39m,\n\u001B[0;32m     22\u001B[0m     model_storage_type \u001B[38;5;241m=\u001B[39m \u001B[38;5;124m'\u001B[39m\u001B[38;5;124mdemo\u001B[39m\u001B[38;5;124m'\u001B[39m,\n\u001B[0;32m     23\u001B[0m     ppr_cache_params \u001B[38;5;241m=\u001B[39m \u001B[38;5;28mdict\u001B[39m(),\n\u001B[0;32m     24\u001B[0m     \u001B[38;5;66;03m#device = 0,\u001B[39;00m\n\u001B[0;32m     25\u001B[0m     \u001B[38;5;66;03m#data_device = 0,\u001B[39;00m\n\u001B[0;32m     26\u001B[0m     device \u001B[38;5;241m=\u001B[39m \u001B[38;5;124m\"\u001B[39m\u001B[38;5;124mcpu\u001B[39m\u001B[38;5;124m\"\u001B[39m,\n\u001B[0;32m     27\u001B[0m     data_device \u001B[38;5;241m=\u001B[39m \u001B[38;5;124m\"\u001B[39m\u001B[38;5;124mcpu\u001B[39m\u001B[38;5;124m\"\u001B[39m,\n\u001B[0;32m     28\u001B[0m     display_steps \u001B[38;5;241m=\u001B[39m \u001B[38;5;241m100\u001B[39m,\n\u001B[0;32m     29\u001B[0m     debug_level \u001B[38;5;241m=\u001B[39m \u001B[38;5;124m\"\u001B[39m\u001B[38;5;124minfo\u001B[39m\u001B[38;5;124m\"\u001B[39m\n\u001B[0;32m     30\u001B[0m )\n\u001B[0;32m     32\u001B[0m \u001B[38;5;66;03m# plot train and val loss curves\u001B[39;00m\n\u001B[0;32m     33\u001B[0m fig, ax \u001B[38;5;241m=\u001B[39m plt\u001B[38;5;241m.\u001B[39msubplots()\n",
      "File \u001B[1;32m~\\anaconda3\\envs\\Masterarbeit_2_0\\Lib\\site-packages\\sacred\\config\\captured_function.py:42\u001B[0m, in \u001B[0;36mcaptured_function\u001B[1;34m(wrapped, instance, args, kwargs)\u001B[0m\n\u001B[0;32m     40\u001B[0m \u001B[38;5;66;03m# =================== run actual function =================================\u001B[39;00m\n\u001B[0;32m     41\u001B[0m \u001B[38;5;28;01mwith\u001B[39;00m ConfigError\u001B[38;5;241m.\u001B[39mtrack(wrapped\u001B[38;5;241m.\u001B[39mconfig, wrapped\u001B[38;5;241m.\u001B[39mprefix):\n\u001B[1;32m---> 42\u001B[0m     result \u001B[38;5;241m=\u001B[39m wrapped(\u001B[38;5;241m*\u001B[39margs, \u001B[38;5;241m*\u001B[39m\u001B[38;5;241m*\u001B[39mkwargs)\n\u001B[0;32m     43\u001B[0m \u001B[38;5;66;03m# =========================================================================\u001B[39;00m\n\u001B[0;32m     44\u001B[0m \u001B[38;5;28;01mif\u001B[39;00m wrapped\u001B[38;5;241m.\u001B[39mlogger \u001B[38;5;129;01mis\u001B[39;00m \u001B[38;5;129;01mnot\u001B[39;00m \u001B[38;5;28;01mNone\u001B[39;00m:\n",
      "File \u001B[1;32m~\\Desktop\\robustness_of_gnns_at_scale-main\\experiments\\experiment_train.py:199\u001B[0m, in \u001B[0;36mrun\u001B[1;34m(data_dir, dataset, model_params, train_params, binary_attr, make_undirected, seed, artifact_dir, model_storage_type, ppr_cache_params, device, data_device, display_steps, debug_level)\u001B[0m\n\u001B[0;32m    196\u001B[0m     trace_val, trace_train \u001B[38;5;241m=\u001B[39m trace \u001B[38;5;28;01mif\u001B[39;00m trace \u001B[38;5;129;01mis\u001B[39;00m \u001B[38;5;129;01mnot\u001B[39;00m \u001B[38;5;28;01mNone\u001B[39;00m \u001B[38;5;28;01melse\u001B[39;00m (\u001B[38;5;28;01mNone\u001B[39;00m, \u001B[38;5;28;01mNone\u001B[39;00m)\n\u001B[0;32m    198\u001B[0m \u001B[38;5;28;01melse\u001B[39;00m:\n\u001B[1;32m--> 199\u001B[0m     trace_val, trace_train, _, _ \u001B[38;5;241m=\u001B[39m train(\n\u001B[0;32m    200\u001B[0m         model\u001B[38;5;241m=\u001B[39mmodel, attr\u001B[38;5;241m=\u001B[39mattr\u001B[38;5;241m.\u001B[39mto(device), adj\u001B[38;5;241m=\u001B[39madj\u001B[38;5;241m.\u001B[39mto(device), labels\u001B[38;5;241m=\u001B[39mlabels\u001B[38;5;241m.\u001B[39mto(device),\n\u001B[0;32m    201\u001B[0m         idx_train\u001B[38;5;241m=\u001B[39midx_train, idx_val\u001B[38;5;241m=\u001B[39midx_val, display_step\u001B[38;5;241m=\u001B[39mdisplay_steps, \u001B[38;5;241m*\u001B[39m\u001B[38;5;241m*\u001B[39mtrain_params)\n\u001B[0;32m    203\u001B[0m model\u001B[38;5;241m.\u001B[39meval()\n\u001B[0;32m    205\u001B[0m \u001B[38;5;66;03m# For really large graphs we don't want to compute predictions for all nodes, just the test nodes is enough.\u001B[39;00m\n\u001B[0;32m    206\u001B[0m \u001B[38;5;66;03m# Calculating predictions for a sub-set of nodes is only possible for batched gnns like PPRGo\u001B[39;00m\n",
      "File \u001B[1;32m~\\Desktop\\robustness_of_gnns_at_scale-main\\rgnn_at_scale\\train.py:56\u001B[0m, in \u001B[0;36mtrain\u001B[1;34m(model, attr, adj, labels, idx_train, idx_val, lr, weight_decay, patience, max_epochs, display_step)\u001B[0m\n\u001B[0;32m     53\u001B[0m \u001B[38;5;28;01mfor\u001B[39;00m it \u001B[38;5;129;01min\u001B[39;00m tqdm(\u001B[38;5;28mrange\u001B[39m(max_epochs), desc\u001B[38;5;241m=\u001B[39m\u001B[38;5;124m'\u001B[39m\u001B[38;5;124mTraining...\u001B[39m\u001B[38;5;124m'\u001B[39m):\n\u001B[0;32m     54\u001B[0m     optimizer\u001B[38;5;241m.\u001B[39mzero_grad()\n\u001B[1;32m---> 56\u001B[0m     logits \u001B[38;5;241m=\u001B[39m model(attr, adj)\n\u001B[0;32m     57\u001B[0m     loss_train \u001B[38;5;241m=\u001B[39m F\u001B[38;5;241m.\u001B[39mcross_entropy(logits[idx_train], labels[idx_train])\n\u001B[0;32m     58\u001B[0m     loss_val \u001B[38;5;241m=\u001B[39m F\u001B[38;5;241m.\u001B[39mcross_entropy(logits[idx_val], labels[idx_val])\n",
      "File \u001B[1;32m~\\anaconda3\\envs\\Masterarbeit_2_0\\Lib\\site-packages\\torch\\nn\\modules\\module.py:1739\u001B[0m, in \u001B[0;36mModule._wrapped_call_impl\u001B[1;34m(self, *args, **kwargs)\u001B[0m\n\u001B[0;32m   1737\u001B[0m     \u001B[38;5;28;01mreturn\u001B[39;00m \u001B[38;5;28mself\u001B[39m\u001B[38;5;241m.\u001B[39m_compiled_call_impl(\u001B[38;5;241m*\u001B[39margs, \u001B[38;5;241m*\u001B[39m\u001B[38;5;241m*\u001B[39mkwargs)  \u001B[38;5;66;03m# type: ignore[misc]\u001B[39;00m\n\u001B[0;32m   1738\u001B[0m \u001B[38;5;28;01melse\u001B[39;00m:\n\u001B[1;32m-> 1739\u001B[0m     \u001B[38;5;28;01mreturn\u001B[39;00m \u001B[38;5;28mself\u001B[39m\u001B[38;5;241m.\u001B[39m_call_impl(\u001B[38;5;241m*\u001B[39margs, \u001B[38;5;241m*\u001B[39m\u001B[38;5;241m*\u001B[39mkwargs)\n",
      "File \u001B[1;32m~\\anaconda3\\envs\\Masterarbeit_2_0\\Lib\\site-packages\\torch\\nn\\modules\\module.py:1750\u001B[0m, in \u001B[0;36mModule._call_impl\u001B[1;34m(self, *args, **kwargs)\u001B[0m\n\u001B[0;32m   1745\u001B[0m \u001B[38;5;66;03m# If we don't have any hooks, we want to skip the rest of the logic in\u001B[39;00m\n\u001B[0;32m   1746\u001B[0m \u001B[38;5;66;03m# this function, and just call forward.\u001B[39;00m\n\u001B[0;32m   1747\u001B[0m \u001B[38;5;28;01mif\u001B[39;00m \u001B[38;5;129;01mnot\u001B[39;00m (\u001B[38;5;28mself\u001B[39m\u001B[38;5;241m.\u001B[39m_backward_hooks \u001B[38;5;129;01mor\u001B[39;00m \u001B[38;5;28mself\u001B[39m\u001B[38;5;241m.\u001B[39m_backward_pre_hooks \u001B[38;5;129;01mor\u001B[39;00m \u001B[38;5;28mself\u001B[39m\u001B[38;5;241m.\u001B[39m_forward_hooks \u001B[38;5;129;01mor\u001B[39;00m \u001B[38;5;28mself\u001B[39m\u001B[38;5;241m.\u001B[39m_forward_pre_hooks\n\u001B[0;32m   1748\u001B[0m         \u001B[38;5;129;01mor\u001B[39;00m _global_backward_pre_hooks \u001B[38;5;129;01mor\u001B[39;00m _global_backward_hooks\n\u001B[0;32m   1749\u001B[0m         \u001B[38;5;129;01mor\u001B[39;00m _global_forward_hooks \u001B[38;5;129;01mor\u001B[39;00m _global_forward_pre_hooks):\n\u001B[1;32m-> 1750\u001B[0m     \u001B[38;5;28;01mreturn\u001B[39;00m forward_call(\u001B[38;5;241m*\u001B[39margs, \u001B[38;5;241m*\u001B[39m\u001B[38;5;241m*\u001B[39mkwargs)\n\u001B[0;32m   1752\u001B[0m result \u001B[38;5;241m=\u001B[39m \u001B[38;5;28;01mNone\u001B[39;00m\n\u001B[0;32m   1753\u001B[0m called_always_called_hooks \u001B[38;5;241m=\u001B[39m \u001B[38;5;28mset\u001B[39m()\n",
      "File \u001B[1;32m~\\anaconda3\\envs\\Masterarbeit_2_0\\Lib\\site-packages\\typeguard\\__init__.py:1033\u001B[0m, in \u001B[0;36mtypechecked.<locals>.wrapper\u001B[1;34m(*args, **kwargs)\u001B[0m\n\u001B[0;32m   1031\u001B[0m memo \u001B[38;5;241m=\u001B[39m _CallMemo(python_func, _localns, args\u001B[38;5;241m=\u001B[39margs, kwargs\u001B[38;5;241m=\u001B[39mkwargs)\n\u001B[0;32m   1032\u001B[0m check_argument_types(memo)\n\u001B[1;32m-> 1033\u001B[0m retval \u001B[38;5;241m=\u001B[39m func(\u001B[38;5;241m*\u001B[39margs, \u001B[38;5;241m*\u001B[39m\u001B[38;5;241m*\u001B[39mkwargs)\n\u001B[0;32m   1034\u001B[0m \u001B[38;5;28;01mtry\u001B[39;00m:\n\u001B[0;32m   1035\u001B[0m     check_return_type(retval, memo)\n",
      "File \u001B[1;32m~\\Desktop\\robustness_of_gnns_at_scale-main\\rgnn_at_scale\\models\\gcn.py:234\u001B[0m, in \u001B[0;36mGCN.forward\u001B[1;34m(self, data, adj, attr_idx, edge_idx, edge_weight, n, d)\u001B[0m\n\u001B[0;32m    231\u001B[0m x, edge_idx, edge_weight \u001B[38;5;241m=\u001B[39m \u001B[38;5;28mself\u001B[39m\u001B[38;5;241m.\u001B[39m_ensure_contiguousness(x, edge_idx, edge_weight)\n\u001B[0;32m    233\u001B[0m \u001B[38;5;28;01mfor\u001B[39;00m layer \u001B[38;5;129;01min\u001B[39;00m \u001B[38;5;28mself\u001B[39m\u001B[38;5;241m.\u001B[39mlayers:\n\u001B[1;32m--> 234\u001B[0m     x \u001B[38;5;241m=\u001B[39m layer((x, edge_idx, edge_weight))\n\u001B[0;32m    236\u001B[0m \u001B[38;5;28;01mreturn\u001B[39;00m x\n",
      "File \u001B[1;32m~\\anaconda3\\envs\\Masterarbeit_2_0\\Lib\\site-packages\\torch\\nn\\modules\\module.py:1739\u001B[0m, in \u001B[0;36mModule._wrapped_call_impl\u001B[1;34m(self, *args, **kwargs)\u001B[0m\n\u001B[0;32m   1737\u001B[0m     \u001B[38;5;28;01mreturn\u001B[39;00m \u001B[38;5;28mself\u001B[39m\u001B[38;5;241m.\u001B[39m_compiled_call_impl(\u001B[38;5;241m*\u001B[39margs, \u001B[38;5;241m*\u001B[39m\u001B[38;5;241m*\u001B[39mkwargs)  \u001B[38;5;66;03m# type: ignore[misc]\u001B[39;00m\n\u001B[0;32m   1738\u001B[0m \u001B[38;5;28;01melse\u001B[39;00m:\n\u001B[1;32m-> 1739\u001B[0m     \u001B[38;5;28;01mreturn\u001B[39;00m \u001B[38;5;28mself\u001B[39m\u001B[38;5;241m.\u001B[39m_call_impl(\u001B[38;5;241m*\u001B[39margs, \u001B[38;5;241m*\u001B[39m\u001B[38;5;241m*\u001B[39mkwargs)\n",
      "File \u001B[1;32m~\\anaconda3\\envs\\Masterarbeit_2_0\\Lib\\site-packages\\torch\\nn\\modules\\module.py:1750\u001B[0m, in \u001B[0;36mModule._call_impl\u001B[1;34m(self, *args, **kwargs)\u001B[0m\n\u001B[0;32m   1745\u001B[0m \u001B[38;5;66;03m# If we don't have any hooks, we want to skip the rest of the logic in\u001B[39;00m\n\u001B[0;32m   1746\u001B[0m \u001B[38;5;66;03m# this function, and just call forward.\u001B[39;00m\n\u001B[0;32m   1747\u001B[0m \u001B[38;5;28;01mif\u001B[39;00m \u001B[38;5;129;01mnot\u001B[39;00m (\u001B[38;5;28mself\u001B[39m\u001B[38;5;241m.\u001B[39m_backward_hooks \u001B[38;5;129;01mor\u001B[39;00m \u001B[38;5;28mself\u001B[39m\u001B[38;5;241m.\u001B[39m_backward_pre_hooks \u001B[38;5;129;01mor\u001B[39;00m \u001B[38;5;28mself\u001B[39m\u001B[38;5;241m.\u001B[39m_forward_hooks \u001B[38;5;129;01mor\u001B[39;00m \u001B[38;5;28mself\u001B[39m\u001B[38;5;241m.\u001B[39m_forward_pre_hooks\n\u001B[0;32m   1748\u001B[0m         \u001B[38;5;129;01mor\u001B[39;00m _global_backward_pre_hooks \u001B[38;5;129;01mor\u001B[39;00m _global_backward_hooks\n\u001B[0;32m   1749\u001B[0m         \u001B[38;5;129;01mor\u001B[39;00m _global_forward_hooks \u001B[38;5;129;01mor\u001B[39;00m _global_forward_pre_hooks):\n\u001B[1;32m-> 1750\u001B[0m     \u001B[38;5;28;01mreturn\u001B[39;00m forward_call(\u001B[38;5;241m*\u001B[39margs, \u001B[38;5;241m*\u001B[39m\u001B[38;5;241m*\u001B[39mkwargs)\n\u001B[0;32m   1752\u001B[0m result \u001B[38;5;241m=\u001B[39m \u001B[38;5;28;01mNone\u001B[39;00m\n\u001B[0;32m   1753\u001B[0m called_always_called_hooks \u001B[38;5;241m=\u001B[39m \u001B[38;5;28mset\u001B[39m()\n",
      "File \u001B[1;32m~\\anaconda3\\envs\\Masterarbeit_2_0\\Lib\\site-packages\\torch\\nn\\modules\\container.py:250\u001B[0m, in \u001B[0;36mSequential.forward\u001B[1;34m(self, input)\u001B[0m\n\u001B[0;32m    248\u001B[0m \u001B[38;5;28;01mdef\u001B[39;00m \u001B[38;5;21mforward\u001B[39m(\u001B[38;5;28mself\u001B[39m, \u001B[38;5;28minput\u001B[39m):\n\u001B[0;32m    249\u001B[0m     \u001B[38;5;28;01mfor\u001B[39;00m module \u001B[38;5;129;01min\u001B[39;00m \u001B[38;5;28mself\u001B[39m:\n\u001B[1;32m--> 250\u001B[0m         \u001B[38;5;28minput\u001B[39m \u001B[38;5;241m=\u001B[39m module(\u001B[38;5;28minput\u001B[39m)\n\u001B[0;32m    251\u001B[0m     \u001B[38;5;28;01mreturn\u001B[39;00m \u001B[38;5;28minput\u001B[39m\n",
      "File \u001B[1;32m~\\anaconda3\\envs\\Masterarbeit_2_0\\Lib\\site-packages\\torch\\nn\\modules\\module.py:1739\u001B[0m, in \u001B[0;36mModule._wrapped_call_impl\u001B[1;34m(self, *args, **kwargs)\u001B[0m\n\u001B[0;32m   1737\u001B[0m     \u001B[38;5;28;01mreturn\u001B[39;00m \u001B[38;5;28mself\u001B[39m\u001B[38;5;241m.\u001B[39m_compiled_call_impl(\u001B[38;5;241m*\u001B[39margs, \u001B[38;5;241m*\u001B[39m\u001B[38;5;241m*\u001B[39mkwargs)  \u001B[38;5;66;03m# type: ignore[misc]\u001B[39;00m\n\u001B[0;32m   1738\u001B[0m \u001B[38;5;28;01melse\u001B[39;00m:\n\u001B[1;32m-> 1739\u001B[0m     \u001B[38;5;28;01mreturn\u001B[39;00m \u001B[38;5;28mself\u001B[39m\u001B[38;5;241m.\u001B[39m_call_impl(\u001B[38;5;241m*\u001B[39margs, \u001B[38;5;241m*\u001B[39m\u001B[38;5;241m*\u001B[39mkwargs)\n",
      "File \u001B[1;32m~\\anaconda3\\envs\\Masterarbeit_2_0\\Lib\\site-packages\\torch\\nn\\modules\\module.py:1750\u001B[0m, in \u001B[0;36mModule._call_impl\u001B[1;34m(self, *args, **kwargs)\u001B[0m\n\u001B[0;32m   1745\u001B[0m \u001B[38;5;66;03m# If we don't have any hooks, we want to skip the rest of the logic in\u001B[39;00m\n\u001B[0;32m   1746\u001B[0m \u001B[38;5;66;03m# this function, and just call forward.\u001B[39;00m\n\u001B[0;32m   1747\u001B[0m \u001B[38;5;28;01mif\u001B[39;00m \u001B[38;5;129;01mnot\u001B[39;00m (\u001B[38;5;28mself\u001B[39m\u001B[38;5;241m.\u001B[39m_backward_hooks \u001B[38;5;129;01mor\u001B[39;00m \u001B[38;5;28mself\u001B[39m\u001B[38;5;241m.\u001B[39m_backward_pre_hooks \u001B[38;5;129;01mor\u001B[39;00m \u001B[38;5;28mself\u001B[39m\u001B[38;5;241m.\u001B[39m_forward_hooks \u001B[38;5;129;01mor\u001B[39;00m \u001B[38;5;28mself\u001B[39m\u001B[38;5;241m.\u001B[39m_forward_pre_hooks\n\u001B[0;32m   1748\u001B[0m         \u001B[38;5;129;01mor\u001B[39;00m _global_backward_pre_hooks \u001B[38;5;129;01mor\u001B[39;00m _global_backward_hooks\n\u001B[0;32m   1749\u001B[0m         \u001B[38;5;129;01mor\u001B[39;00m _global_forward_hooks \u001B[38;5;129;01mor\u001B[39;00m _global_forward_pre_hooks):\n\u001B[1;32m-> 1750\u001B[0m     \u001B[38;5;28;01mreturn\u001B[39;00m forward_call(\u001B[38;5;241m*\u001B[39margs, \u001B[38;5;241m*\u001B[39m\u001B[38;5;241m*\u001B[39mkwargs)\n\u001B[0;32m   1752\u001B[0m result \u001B[38;5;241m=\u001B[39m \u001B[38;5;28;01mNone\u001B[39;00m\n\u001B[0;32m   1753\u001B[0m called_always_called_hooks \u001B[38;5;241m=\u001B[39m \u001B[38;5;28mset\u001B[39m()\n",
      "File \u001B[1;32m~\\anaconda3\\envs\\Masterarbeit_2_0\\Lib\\site-packages\\typeguard\\__init__.py:1033\u001B[0m, in \u001B[0;36mtypechecked.<locals>.wrapper\u001B[1;34m(*args, **kwargs)\u001B[0m\n\u001B[0;32m   1031\u001B[0m memo \u001B[38;5;241m=\u001B[39m _CallMemo(python_func, _localns, args\u001B[38;5;241m=\u001B[39margs, kwargs\u001B[38;5;241m=\u001B[39mkwargs)\n\u001B[0;32m   1032\u001B[0m check_argument_types(memo)\n\u001B[1;32m-> 1033\u001B[0m retval \u001B[38;5;241m=\u001B[39m func(\u001B[38;5;241m*\u001B[39margs, \u001B[38;5;241m*\u001B[39m\u001B[38;5;241m*\u001B[39mkwargs)\n\u001B[0;32m   1034\u001B[0m \u001B[38;5;28;01mtry\u001B[39;00m:\n\u001B[0;32m   1035\u001B[0m     check_return_type(retval, memo)\n",
      "File \u001B[1;32m~\\Desktop\\robustness_of_gnns_at_scale-main\\rgnn_at_scale\\models\\gcn.py:69\u001B[0m, in \u001B[0;36mChainableGCNConv.forward\u001B[1;34m(self, arguments)\u001B[0m\n\u001B[0;32m     67\u001B[0m \u001B[38;5;28;01melse\u001B[39;00m:\n\u001B[0;32m     68\u001B[0m     \u001B[38;5;28;01mraise\u001B[39;00m \u001B[38;5;167;01mNotImplementedError\u001B[39;00m(\u001B[38;5;124m\"\u001B[39m\u001B[38;5;124mThis method is just implemented for two or three arguments\u001B[39m\u001B[38;5;124m\"\u001B[39m)\n\u001B[1;32m---> 69\u001B[0m embedding \u001B[38;5;241m=\u001B[39m \u001B[38;5;28msuper\u001B[39m(ChainableGCNConv, \u001B[38;5;28mself\u001B[39m)\u001B[38;5;241m.\u001B[39mforward(x, edge_index, edge_weight\u001B[38;5;241m=\u001B[39medge_weight)\n\u001B[0;32m     70\u001B[0m \u001B[38;5;28;01mif\u001B[39;00m \u001B[38;5;28mint\u001B[39m(torch_geometric\u001B[38;5;241m.\u001B[39m__version__\u001B[38;5;241m.\u001B[39msplit(\u001B[38;5;124m'\u001B[39m\u001B[38;5;124m.\u001B[39m\u001B[38;5;124m'\u001B[39m)[\u001B[38;5;241m1\u001B[39m]) \u001B[38;5;241m<\u001B[39m \u001B[38;5;241m6\u001B[39m:\n\u001B[0;32m     71\u001B[0m     embedding \u001B[38;5;241m=\u001B[39m \u001B[38;5;28msuper\u001B[39m(ChainableGCNConv, \u001B[38;5;28mself\u001B[39m)\u001B[38;5;241m.\u001B[39mupdate(embedding)\n",
      "File \u001B[1;32m~\\anaconda3\\envs\\Masterarbeit_2_0\\Lib\\site-packages\\torch_geometric\\nn\\conv\\gcn_conv.py:260\u001B[0m, in \u001B[0;36mGCNConv.forward\u001B[1;34m(self, x, edge_index, edge_weight)\u001B[0m\n\u001B[0;32m    257\u001B[0m         \u001B[38;5;28;01melse\u001B[39;00m:\n\u001B[0;32m    258\u001B[0m             edge_index \u001B[38;5;241m=\u001B[39m cache\n\u001B[1;32m--> 260\u001B[0m x \u001B[38;5;241m=\u001B[39m \u001B[38;5;28mself\u001B[39m\u001B[38;5;241m.\u001B[39mlin(x)\n\u001B[0;32m    262\u001B[0m \u001B[38;5;66;03m# propagate_type: (x: Tensor, edge_weight: OptTensor)\u001B[39;00m\n\u001B[0;32m    263\u001B[0m out \u001B[38;5;241m=\u001B[39m \u001B[38;5;28mself\u001B[39m\u001B[38;5;241m.\u001B[39mpropagate(edge_index, x\u001B[38;5;241m=\u001B[39mx, edge_weight\u001B[38;5;241m=\u001B[39medge_weight)\n",
      "File \u001B[1;32m~\\anaconda3\\envs\\Masterarbeit_2_0\\Lib\\site-packages\\torch\\nn\\modules\\module.py:1739\u001B[0m, in \u001B[0;36mModule._wrapped_call_impl\u001B[1;34m(self, *args, **kwargs)\u001B[0m\n\u001B[0;32m   1737\u001B[0m     \u001B[38;5;28;01mreturn\u001B[39;00m \u001B[38;5;28mself\u001B[39m\u001B[38;5;241m.\u001B[39m_compiled_call_impl(\u001B[38;5;241m*\u001B[39margs, \u001B[38;5;241m*\u001B[39m\u001B[38;5;241m*\u001B[39mkwargs)  \u001B[38;5;66;03m# type: ignore[misc]\u001B[39;00m\n\u001B[0;32m   1738\u001B[0m \u001B[38;5;28;01melse\u001B[39;00m:\n\u001B[1;32m-> 1739\u001B[0m     \u001B[38;5;28;01mreturn\u001B[39;00m \u001B[38;5;28mself\u001B[39m\u001B[38;5;241m.\u001B[39m_call_impl(\u001B[38;5;241m*\u001B[39margs, \u001B[38;5;241m*\u001B[39m\u001B[38;5;241m*\u001B[39mkwargs)\n",
      "File \u001B[1;32m~\\anaconda3\\envs\\Masterarbeit_2_0\\Lib\\site-packages\\torch\\nn\\modules\\module.py:1750\u001B[0m, in \u001B[0;36mModule._call_impl\u001B[1;34m(self, *args, **kwargs)\u001B[0m\n\u001B[0;32m   1745\u001B[0m \u001B[38;5;66;03m# If we don't have any hooks, we want to skip the rest of the logic in\u001B[39;00m\n\u001B[0;32m   1746\u001B[0m \u001B[38;5;66;03m# this function, and just call forward.\u001B[39;00m\n\u001B[0;32m   1747\u001B[0m \u001B[38;5;28;01mif\u001B[39;00m \u001B[38;5;129;01mnot\u001B[39;00m (\u001B[38;5;28mself\u001B[39m\u001B[38;5;241m.\u001B[39m_backward_hooks \u001B[38;5;129;01mor\u001B[39;00m \u001B[38;5;28mself\u001B[39m\u001B[38;5;241m.\u001B[39m_backward_pre_hooks \u001B[38;5;129;01mor\u001B[39;00m \u001B[38;5;28mself\u001B[39m\u001B[38;5;241m.\u001B[39m_forward_hooks \u001B[38;5;129;01mor\u001B[39;00m \u001B[38;5;28mself\u001B[39m\u001B[38;5;241m.\u001B[39m_forward_pre_hooks\n\u001B[0;32m   1748\u001B[0m         \u001B[38;5;129;01mor\u001B[39;00m _global_backward_pre_hooks \u001B[38;5;129;01mor\u001B[39;00m _global_backward_hooks\n\u001B[0;32m   1749\u001B[0m         \u001B[38;5;129;01mor\u001B[39;00m _global_forward_hooks \u001B[38;5;129;01mor\u001B[39;00m _global_forward_pre_hooks):\n\u001B[1;32m-> 1750\u001B[0m     \u001B[38;5;28;01mreturn\u001B[39;00m forward_call(\u001B[38;5;241m*\u001B[39margs, \u001B[38;5;241m*\u001B[39m\u001B[38;5;241m*\u001B[39mkwargs)\n\u001B[0;32m   1752\u001B[0m result \u001B[38;5;241m=\u001B[39m \u001B[38;5;28;01mNone\u001B[39;00m\n\u001B[0;32m   1753\u001B[0m called_always_called_hooks \u001B[38;5;241m=\u001B[39m \u001B[38;5;28mset\u001B[39m()\n",
      "File \u001B[1;32m~\\anaconda3\\envs\\Masterarbeit_2_0\\Lib\\site-packages\\torch_geometric\\nn\\dense\\linear.py:147\u001B[0m, in \u001B[0;36mLinear.forward\u001B[1;34m(self, x)\u001B[0m\n\u001B[0;32m    141\u001B[0m \u001B[38;5;28;01mdef\u001B[39;00m \u001B[38;5;21mforward\u001B[39m(\u001B[38;5;28mself\u001B[39m, x: Tensor) \u001B[38;5;241m-\u001B[39m\u001B[38;5;241m>\u001B[39m Tensor:\n\u001B[0;32m    142\u001B[0m \u001B[38;5;250m    \u001B[39m\u001B[38;5;124mr\u001B[39m\u001B[38;5;124;03m\"\"\"Forward pass.\u001B[39;00m\n\u001B[0;32m    143\u001B[0m \n\u001B[0;32m    144\u001B[0m \u001B[38;5;124;03m    Args:\u001B[39;00m\n\u001B[0;32m    145\u001B[0m \u001B[38;5;124;03m        x (torch.Tensor): The input features.\u001B[39;00m\n\u001B[0;32m    146\u001B[0m \u001B[38;5;124;03m    \"\"\"\u001B[39;00m\n\u001B[1;32m--> 147\u001B[0m     \u001B[38;5;28;01mreturn\u001B[39;00m F\u001B[38;5;241m.\u001B[39mlinear(x, \u001B[38;5;28mself\u001B[39m\u001B[38;5;241m.\u001B[39mweight, \u001B[38;5;28mself\u001B[39m\u001B[38;5;241m.\u001B[39mbias)\n",
      "\u001B[1;31mKeyboardInterrupt\u001B[0m: "
     ]
    }
   ]
  },
  {
   "cell_type": "code",
   "source": [
    "clean_acc_local = train_statistics[\"accuracy\"]\n",
    "print(f'Accuracy of the model: {100*clean_acc_local:.2f}%')"
   ],
   "metadata": {
    "colab": {
     "base_uri": "https://localhost:8080/"
    },
    "id": "Diozgu7Vivj7",
    "outputId": "151d150f-e3c1-4281-f7f3-13ccd288cfa6",
    "ExecuteTime": {
     "end_time": "2025-02-11T17:36:57.857154Z",
     "start_time": "2025-02-11T17:36:57.519626200Z"
    }
   },
   "execution_count": 18,
   "outputs": [
    {
     "name": "stdout",
     "output_type": "stream",
     "text": [
      "Accuracy of the model: 83.48%\n"
     ]
    }
   ]
  },
  {
   "cell_type": "markdown",
   "source": [
    "## 2. Evaluation\n",
    "\n",
    "For evaluation, we use the locally stored models. Similarly to training, we provide a script that runs the attacks for different seeds for all pretrained models. For all experiments, please check out the [config](https://github.com/sigeisler/robustness_of_gnns_at_scale/tree/main/config) folder.\n",
    "\n",
    "### 2.1 Local PR-BCD Attack\n",
    "We provide an example for a `local PR-BCD` attack on the `Vanilla GCN` model trained previously by passing the desired configuration in [experiments/experiment_local_attack_direct.py](https://github.com/sigeisler/robustness_of_gnns_at_scale/blob/main/experiments/experiment_local_attack_direct.py#L68)."
   ],
   "metadata": {
    "id": "JzCocLocdb2y"
   }
  },
  {
   "cell_type": "code",
   "source": [
    "local_prbcd_statistics = experiment_local_attack_direct.run(\n",
    "    data_dir = './data',\n",
    "    dataset = 'cora_ml',\n",
    "    attack = 'LocalPRBCD',\n",
    "    attack_params = dict(\n",
    "        ppr_cache_params = dict(\n",
    "            data_artifact_dir = 'cache',\n",
    "            data_storage_type = 'ppr'),\n",
    "        #epochs = 500, # -> way too high for my setup, use 40-100\n",
    "        epochs = 50,\n",
    "        fine_tune_epochs = 100,\n",
    "        search_space_size = 10_000,\n",
    "        ppr_recalc_at_end = True,\n",
    "        loss_type = 'Margin',\n",
    "        lr_factor = 0.05),\n",
    "    nodes = None,\n",
    "    nodes_topk = 5,\n",
    "    seed=0,\n",
    "    epsilons = [1], #budgets\n",
    "    min_node_degree = None,\n",
    "    binary_attr = False,\n",
    "    make_undirected = True,\n",
    "    artifact_dir = 'cache',\n",
    "    model_label = 'Vanilla GCN',\n",
    "    model_storage_type = 'demo',\n",
    "    #device = 0,\n",
    "    #data_device = 0,\n",
    "    device = \"cpu\",\n",
    "    data_device = \"cpu\",\n",
    "    debug_level = \"info\"\n",
    ")"
   ],
   "metadata": {
    "colab": {
     "base_uri": "https://localhost:8080/",
     "height": 1000
    },
    "id": "A-n0IWrJC1QQ",
    "outputId": "4856c785-1d9a-4129-9396-726923239432",
    "ExecuteTime": {
     "end_time": "2025-02-11T17:45:43.923844600Z",
     "start_time": "2025-02-11T17:37:10.100717800Z"
    }
   },
   "execution_count": 19,
   "outputs": [
    {
     "data": {
      "text/plain": "\u001B[2;36m[02/11/25 18:37:10]\u001B[0m\u001B[2;36m \u001B[0m\u001B[34mINFO    \u001B[0m \u001B[1m{\u001B[0m\u001B[32m'dataset'\u001B[0m: \u001B[32m'cora_ml'\u001B[0m, \u001B[32m'attack'\u001B[0m: \u001B[32m'LocalPRBCD'\u001B[0m, \u001B[32m'attack_params'\u001B[0m:           \u001B]8;id=605609;file://C:\\Users\\kyawk\\Desktop\\robustness_of_gnns_at_scale-main\\experiments\\common.py\u001B\\\u001B[2mcommon.py\u001B[0m\u001B]8;;\u001B\\\u001B[2m:\u001B[0m\u001B]8;id=176654;file://C:\\Users\\kyawk\\Desktop\\robustness_of_gnns_at_scale-main\\experiments\\common.py#38\u001B\\\u001B[2m38\u001B[0m\u001B]8;;\u001B\\\n\u001B[2;36m                    \u001B[0m         \u001B[1m{\u001B[0m\u001B[32m'ppr_cache_params'\u001B[0m: \u001B[1m{\u001B[0m\u001B[32m'data_artifact_dir'\u001B[0m: \u001B[32m'cache'\u001B[0m, \u001B[32m'data_storage_type'\u001B[0m:  \u001B[2m            \u001B[0m\n\u001B[2;36m                    \u001B[0m         \u001B[32m'ppr'\u001B[0m\u001B[1m}\u001B[0m, \u001B[32m'epochs'\u001B[0m: \u001B[1;36m50\u001B[0m, \u001B[32m'fine_tune_epochs'\u001B[0m: \u001B[1;36m100\u001B[0m, \u001B[32m'search_space_size'\u001B[0m:       \u001B[2m            \u001B[0m\n\u001B[2;36m                    \u001B[0m         \u001B[1;36m10000\u001B[0m, \u001B[32m'ppr_recalc_at_end'\u001B[0m: \u001B[3;92mTrue\u001B[0m, \u001B[32m'loss_type'\u001B[0m: \u001B[32m'Margin'\u001B[0m, \u001B[32m'lr_factor'\u001B[0m:     \u001B[2m            \u001B[0m\n\u001B[2;36m                    \u001B[0m         \u001B[1;36m0.05\u001B[0m\u001B[1m}\u001B[0m, \u001B[32m'epsilons'\u001B[0m: \u001B[1m[\u001B[0m\u001B[1;36m1\u001B[0m\u001B[1m]\u001B[0m, \u001B[32m'make_undirected'\u001B[0m: \u001B[3;92mTrue\u001B[0m, \u001B[32m'binary_attr'\u001B[0m: \u001B[3;91mFalse\u001B[0m,    \u001B[2m            \u001B[0m\n\u001B[2;36m                    \u001B[0m         \u001B[32m'seed'\u001B[0m: \u001B[1;36m0\u001B[0m, \u001B[32m'artifact_dir'\u001B[0m: \u001B[32m'cache'\u001B[0m, \u001B[32m'pert_adj_storage_type'\u001B[0m: \u001B[3;35mNone\u001B[0m,        \u001B[2m            \u001B[0m\n\u001B[2;36m                    \u001B[0m         \u001B[32m'pert_attr_storage_type'\u001B[0m: \u001B[3;35mNone\u001B[0m, \u001B[32m'model_label'\u001B[0m: \u001B[32m'Vanilla GCN'\u001B[0m,             \u001B[2m            \u001B[0m\n\u001B[2;36m                    \u001B[0m         \u001B[32m'model_storage_type'\u001B[0m: \u001B[32m'demo'\u001B[0m, \u001B[32m'device'\u001B[0m: \u001B[32m'cpu'\u001B[0m, \u001B[32m'data_device'\u001B[0m: \u001B[32m'cpu'\u001B[0m\u001B[1m}\u001B[0m      \u001B[2m            \u001B[0m\n",
      "text/html": "<pre style=\"white-space:pre;overflow-x:auto;line-height:normal;font-family:Menlo,'DejaVu Sans Mono',consolas,'Courier New',monospace\"><span style=\"color: #7fbfbf; text-decoration-color: #7fbfbf\">[02/11/25 18:37:10] </span><span style=\"color: #000080; text-decoration-color: #000080\">INFO    </span> <span style=\"font-weight: bold\">{</span><span style=\"color: #008000; text-decoration-color: #008000\">'dataset'</span>: <span style=\"color: #008000; text-decoration-color: #008000\">'cora_ml'</span>, <span style=\"color: #008000; text-decoration-color: #008000\">'attack'</span>: <span style=\"color: #008000; text-decoration-color: #008000\">'LocalPRBCD'</span>, <span style=\"color: #008000; text-decoration-color: #008000\">'attack_params'</span>:           <a href=\"file://C:\\Users\\kyawk\\Desktop\\robustness_of_gnns_at_scale-main\\experiments\\common.py\" target=\"_blank\"><span style=\"color: #7f7f7f; text-decoration-color: #7f7f7f\">common.py</span></a><span style=\"color: #7f7f7f; text-decoration-color: #7f7f7f\">:</span><a href=\"file://C:\\Users\\kyawk\\Desktop\\robustness_of_gnns_at_scale-main\\experiments\\common.py#38\" target=\"_blank\"><span style=\"color: #7f7f7f; text-decoration-color: #7f7f7f\">38</span></a>\n<span style=\"color: #7fbfbf; text-decoration-color: #7fbfbf\">                    </span>         <span style=\"font-weight: bold\">{</span><span style=\"color: #008000; text-decoration-color: #008000\">'ppr_cache_params'</span>: <span style=\"font-weight: bold\">{</span><span style=\"color: #008000; text-decoration-color: #008000\">'data_artifact_dir'</span>: <span style=\"color: #008000; text-decoration-color: #008000\">'cache'</span>, <span style=\"color: #008000; text-decoration-color: #008000\">'data_storage_type'</span>:  <span style=\"color: #7f7f7f; text-decoration-color: #7f7f7f\">            </span>\n<span style=\"color: #7fbfbf; text-decoration-color: #7fbfbf\">                    </span>         <span style=\"color: #008000; text-decoration-color: #008000\">'ppr'</span><span style=\"font-weight: bold\">}</span>, <span style=\"color: #008000; text-decoration-color: #008000\">'epochs'</span>: <span style=\"color: #008080; text-decoration-color: #008080; font-weight: bold\">50</span>, <span style=\"color: #008000; text-decoration-color: #008000\">'fine_tune_epochs'</span>: <span style=\"color: #008080; text-decoration-color: #008080; font-weight: bold\">100</span>, <span style=\"color: #008000; text-decoration-color: #008000\">'search_space_size'</span>:       <span style=\"color: #7f7f7f; text-decoration-color: #7f7f7f\">            </span>\n<span style=\"color: #7fbfbf; text-decoration-color: #7fbfbf\">                    </span>         <span style=\"color: #008080; text-decoration-color: #008080; font-weight: bold\">10000</span>, <span style=\"color: #008000; text-decoration-color: #008000\">'ppr_recalc_at_end'</span>: <span style=\"color: #00ff00; text-decoration-color: #00ff00; font-style: italic\">True</span>, <span style=\"color: #008000; text-decoration-color: #008000\">'loss_type'</span>: <span style=\"color: #008000; text-decoration-color: #008000\">'Margin'</span>, <span style=\"color: #008000; text-decoration-color: #008000\">'lr_factor'</span>:     <span style=\"color: #7f7f7f; text-decoration-color: #7f7f7f\">            </span>\n<span style=\"color: #7fbfbf; text-decoration-color: #7fbfbf\">                    </span>         <span style=\"color: #008080; text-decoration-color: #008080; font-weight: bold\">0.05</span><span style=\"font-weight: bold\">}</span>, <span style=\"color: #008000; text-decoration-color: #008000\">'epsilons'</span>: <span style=\"font-weight: bold\">[</span><span style=\"color: #008080; text-decoration-color: #008080; font-weight: bold\">1</span><span style=\"font-weight: bold\">]</span>, <span style=\"color: #008000; text-decoration-color: #008000\">'make_undirected'</span>: <span style=\"color: #00ff00; text-decoration-color: #00ff00; font-style: italic\">True</span>, <span style=\"color: #008000; text-decoration-color: #008000\">'binary_attr'</span>: <span style=\"color: #ff0000; text-decoration-color: #ff0000; font-style: italic\">False</span>,    <span style=\"color: #7f7f7f; text-decoration-color: #7f7f7f\">            </span>\n<span style=\"color: #7fbfbf; text-decoration-color: #7fbfbf\">                    </span>         <span style=\"color: #008000; text-decoration-color: #008000\">'seed'</span>: <span style=\"color: #008080; text-decoration-color: #008080; font-weight: bold\">0</span>, <span style=\"color: #008000; text-decoration-color: #008000\">'artifact_dir'</span>: <span style=\"color: #008000; text-decoration-color: #008000\">'cache'</span>, <span style=\"color: #008000; text-decoration-color: #008000\">'pert_adj_storage_type'</span>: <span style=\"color: #800080; text-decoration-color: #800080; font-style: italic\">None</span>,        <span style=\"color: #7f7f7f; text-decoration-color: #7f7f7f\">            </span>\n<span style=\"color: #7fbfbf; text-decoration-color: #7fbfbf\">                    </span>         <span style=\"color: #008000; text-decoration-color: #008000\">'pert_attr_storage_type'</span>: <span style=\"color: #800080; text-decoration-color: #800080; font-style: italic\">None</span>, <span style=\"color: #008000; text-decoration-color: #008000\">'model_label'</span>: <span style=\"color: #008000; text-decoration-color: #008000\">'Vanilla GCN'</span>,             <span style=\"color: #7f7f7f; text-decoration-color: #7f7f7f\">            </span>\n<span style=\"color: #7fbfbf; text-decoration-color: #7fbfbf\">                    </span>         <span style=\"color: #008000; text-decoration-color: #008000\">'model_storage_type'</span>: <span style=\"color: #008000; text-decoration-color: #008000\">'demo'</span>, <span style=\"color: #008000; text-decoration-color: #008000\">'device'</span>: <span style=\"color: #008000; text-decoration-color: #008000\">'cpu'</span>, <span style=\"color: #008000; text-decoration-color: #008000\">'data_device'</span>: <span style=\"color: #008000; text-decoration-color: #008000\">'cpu'</span><span style=\"font-weight: bold\">}</span>      <span style=\"color: #7f7f7f; text-decoration-color: #7f7f7f\">            </span>\n</pre>\n"
     },
     "metadata": {},
     "output_type": "display_data"
    },
    {
     "data": {
      "text/plain": "\u001B[2;36m                   \u001B[0m\u001B[2;36m \u001B[0m\u001B[34mINFO    \u001B[0m Lock \u001B[1;36m1533624186384\u001B[0m acquired on cache\\demo.json.lock                    \u001B]8;id=494592;file://C:\\Users\\kyawk\\anaconda3\\envs\\Masterarbeit_2_0\\Lib\\site-packages\\filelock.py\u001B\\\u001B[2mfilelock.py\u001B[0m\u001B]8;;\u001B\\\u001B[2m:\u001B[0m\u001B]8;id=789299;file://C:\\Users\\kyawk\\anaconda3\\envs\\Masterarbeit_2_0\\Lib\\site-packages\\filelock.py#274\u001B\\\u001B[2m274\u001B[0m\u001B]8;;\u001B\\\n",
      "text/html": "<pre style=\"white-space:pre;overflow-x:auto;line-height:normal;font-family:Menlo,'DejaVu Sans Mono',consolas,'Courier New',monospace\"><span style=\"color: #7fbfbf; text-decoration-color: #7fbfbf\">                    </span><span style=\"color: #000080; text-decoration-color: #000080\">INFO    </span> Lock <span style=\"color: #008080; text-decoration-color: #008080; font-weight: bold\">1533624186384</span> acquired on cache\\demo.json.lock                    <a href=\"file://C:\\Users\\kyawk\\anaconda3\\envs\\Masterarbeit_2_0\\Lib\\site-packages\\filelock.py\" target=\"_blank\"><span style=\"color: #7f7f7f; text-decoration-color: #7f7f7f\">filelock.py</span></a><span style=\"color: #7f7f7f; text-decoration-color: #7f7f7f\">:</span><a href=\"file://C:\\Users\\kyawk\\anaconda3\\envs\\Masterarbeit_2_0\\Lib\\site-packages\\filelock.py#274\" target=\"_blank\"><span style=\"color: #7f7f7f; text-decoration-color: #7f7f7f\">274</span></a>\n</pre>\n"
     },
     "metadata": {},
     "output_type": "display_data"
    },
    {
     "data": {
      "text/plain": "\u001B[2;36m                   \u001B[0m\u001B[2;36m \u001B[0m\u001B[34mINFO    \u001B[0m Lock \u001B[1;36m1533624186384\u001B[0m released on cache\\demo.json.lock                    \u001B]8;id=972479;file://C:\\Users\\kyawk\\anaconda3\\envs\\Masterarbeit_2_0\\Lib\\site-packages\\filelock.py\u001B\\\u001B[2mfilelock.py\u001B[0m\u001B]8;;\u001B\\\u001B[2m:\u001B[0m\u001B]8;id=115055;file://C:\\Users\\kyawk\\anaconda3\\envs\\Masterarbeit_2_0\\Lib\\site-packages\\filelock.py#318\u001B\\\u001B[2m318\u001B[0m\u001B]8;;\u001B\\\n",
      "text/html": "<pre style=\"white-space:pre;overflow-x:auto;line-height:normal;font-family:Menlo,'DejaVu Sans Mono',consolas,'Courier New',monospace\"><span style=\"color: #7fbfbf; text-decoration-color: #7fbfbf\">                    </span><span style=\"color: #000080; text-decoration-color: #000080\">INFO    </span> Lock <span style=\"color: #008080; text-decoration-color: #008080; font-weight: bold\">1533624186384</span> released on cache\\demo.json.lock                    <a href=\"file://C:\\Users\\kyawk\\anaconda3\\envs\\Masterarbeit_2_0\\Lib\\site-packages\\filelock.py\" target=\"_blank\"><span style=\"color: #7f7f7f; text-decoration-color: #7f7f7f\">filelock.py</span></a><span style=\"color: #7f7f7f; text-decoration-color: #7f7f7f\">:</span><a href=\"file://C:\\Users\\kyawk\\anaconda3\\envs\\Masterarbeit_2_0\\Lib\\site-packages\\filelock.py#318\" target=\"_blank\"><span style=\"color: #7f7f7f; text-decoration-color: #7f7f7f\">318</span></a>\n</pre>\n"
     },
     "metadata": {},
     "output_type": "display_data"
    },
    {
     "data": {
      "text/plain": "\u001B[2;36m                   \u001B[0m\u001B[2;36m \u001B[0m\u001B[34mINFO    \u001B[0m Found \u001B[1;36m1\u001B[0m models with label \u001B[32m'Vanilla GCN'\u001B[0m to       \u001B]8;id=986427;file://C:\\Users\\kyawk\\Desktop\\robustness_of_gnns_at_scale-main\\experiments\\experiment_local_attack_direct.py\u001B\\\u001B[2mexperiment_local_attack_direct.py\u001B[0m\u001B]8;;\u001B\\\u001B[2m:\u001B[0m\u001B]8;id=395649;file://C:\\Users\\kyawk\\Desktop\\robustness_of_gnns_at_scale-main\\experiments\\experiment_local_attack_direct.py#141\u001B\\\u001B[2m141\u001B[0m\u001B]8;;\u001B\\\n\u001B[2;36m                    \u001B[0m         attack.                                          \u001B[2m                                     \u001B[0m\n",
      "text/html": "<pre style=\"white-space:pre;overflow-x:auto;line-height:normal;font-family:Menlo,'DejaVu Sans Mono',consolas,'Courier New',monospace\"><span style=\"color: #7fbfbf; text-decoration-color: #7fbfbf\">                    </span><span style=\"color: #000080; text-decoration-color: #000080\">INFO    </span> Found <span style=\"color: #008080; text-decoration-color: #008080; font-weight: bold\">1</span> models with label <span style=\"color: #008000; text-decoration-color: #008000\">'Vanilla GCN'</span> to       <a href=\"file://C:\\Users\\kyawk\\Desktop\\robustness_of_gnns_at_scale-main\\experiments\\experiment_local_attack_direct.py\" target=\"_blank\"><span style=\"color: #7f7f7f; text-decoration-color: #7f7f7f\">experiment_local_attack_direct.py</span></a><span style=\"color: #7f7f7f; text-decoration-color: #7f7f7f\">:</span><a href=\"file://C:\\Users\\kyawk\\Desktop\\robustness_of_gnns_at_scale-main\\experiments\\experiment_local_attack_direct.py#141\" target=\"_blank\"><span style=\"color: #7f7f7f; text-decoration-color: #7f7f7f\">141</span></a>\n<span style=\"color: #7fbfbf; text-decoration-color: #7fbfbf\">                    </span>         attack.                                          <span style=\"color: #7f7f7f; text-decoration-color: #7f7f7f\">                                     </span>\n</pre>\n"
     },
     "metadata": {},
     "output_type": "display_data"
    },
    {
     "data": {
      "text/plain": "\u001B[2;36m[02/11/25 18:37:11]\u001B[0m\u001B[2;36m \u001B[0m\u001B[34mINFO    \u001B[0m Sample Attack Nodes for model with accuracy \u001B[1;36m0.8348\u001B[0m                       \u001B]8;id=213326;file://C:\\Users\\kyawk\\Desktop\\robustness_of_gnns_at_scale-main\\experiments\\common.py\u001B\\\u001B[2mcommon.py\u001B[0m\u001B]8;;\u001B\\\u001B[2m:\u001B[0m\u001B]8;id=892857;file://C:\\Users\\kyawk\\Desktop\\robustness_of_gnns_at_scale-main\\experiments\\common.py#166\u001B\\\u001B[2m166\u001B[0m\u001B]8;;\u001B\\\n",
      "text/html": "<pre style=\"white-space:pre;overflow-x:auto;line-height:normal;font-family:Menlo,'DejaVu Sans Mono',consolas,'Courier New',monospace\"><span style=\"color: #7fbfbf; text-decoration-color: #7fbfbf\">[02/11/25 18:37:11] </span><span style=\"color: #000080; text-decoration-color: #000080\">INFO    </span> Sample Attack Nodes for model with accuracy <span style=\"color: #008080; text-decoration-color: #008080; font-weight: bold\">0.8348</span>                       <a href=\"file://C:\\Users\\kyawk\\Desktop\\robustness_of_gnns_at_scale-main\\experiments\\common.py\" target=\"_blank\"><span style=\"color: #7f7f7f; text-decoration-color: #7f7f7f\">common.py</span></a><span style=\"color: #7f7f7f; text-decoration-color: #7f7f7f\">:</span><a href=\"file://C:\\Users\\kyawk\\Desktop\\robustness_of_gnns_at_scale-main\\experiments\\common.py#166\" target=\"_blank\"><span style=\"color: #7f7f7f; text-decoration-color: #7f7f7f\">166</span></a>\n</pre>\n"
     },
     "metadata": {},
     "output_type": "display_data"
    },
    {
     "data": {
      "text/plain": "\u001B[2;36m                   \u001B[0m\u001B[2;36m \u001B[0m\u001B[34mINFO    \u001B[0m Found \u001B[1;36m2530\u001B[0m suitable \u001B[32m'1+ degree'\u001B[0m nodes out of \u001B[1;36m2530\u001B[0m candidate nodes to be  \u001B]8;id=650160;file://C:\\Users\\kyawk\\Desktop\\robustness_of_gnns_at_scale-main\\experiments\\common.py\u001B\\\u001B[2mcommon.py\u001B[0m\u001B]8;;\u001B\\\u001B[2m:\u001B[0m\u001B]8;id=647560;file://C:\\Users\\kyawk\\Desktop\\robustness_of_gnns_at_scale-main\\experiments\\common.py#132\u001B\\\u001B[2m132\u001B[0m\u001B]8;;\u001B\\\n\u001B[2;36m                    \u001B[0m         sampled from for the attack of which \u001B[1;36m2112\u001B[0m have the correct class label   \u001B[2m             \u001B[0m\n",
      "text/html": "<pre style=\"white-space:pre;overflow-x:auto;line-height:normal;font-family:Menlo,'DejaVu Sans Mono',consolas,'Courier New',monospace\"><span style=\"color: #7fbfbf; text-decoration-color: #7fbfbf\">                    </span><span style=\"color: #000080; text-decoration-color: #000080\">INFO    </span> Found <span style=\"color: #008080; text-decoration-color: #008080; font-weight: bold\">2530</span> suitable <span style=\"color: #008000; text-decoration-color: #008000\">'1+ degree'</span> nodes out of <span style=\"color: #008080; text-decoration-color: #008080; font-weight: bold\">2530</span> candidate nodes to be  <a href=\"file://C:\\Users\\kyawk\\Desktop\\robustness_of_gnns_at_scale-main\\experiments\\common.py\" target=\"_blank\"><span style=\"color: #7f7f7f; text-decoration-color: #7f7f7f\">common.py</span></a><span style=\"color: #7f7f7f; text-decoration-color: #7f7f7f\">:</span><a href=\"file://C:\\Users\\kyawk\\Desktop\\robustness_of_gnns_at_scale-main\\experiments\\common.py#132\" target=\"_blank\"><span style=\"color: #7f7f7f; text-decoration-color: #7f7f7f\">132</span></a>\n<span style=\"color: #7fbfbf; text-decoration-color: #7fbfbf\">                    </span>         sampled from for the attack of which <span style=\"color: #008080; text-decoration-color: #008080; font-weight: bold\">2112</span> have the correct class label   <span style=\"color: #7f7f7f; text-decoration-color: #7f7f7f\">             </span>\n</pre>\n"
     },
     "metadata": {},
     "output_type": "display_data"
    },
    {
     "data": {
      "text/plain": "\u001B[2;36m                   \u001B[0m\u001B[2;36m \u001B[0m\u001B[34mINFO    \u001B[0m Sample the following attack nodes:                                       \u001B]8;id=591097;file://C:\\Users\\kyawk\\Desktop\\robustness_of_gnns_at_scale-main\\experiments\\common.py\u001B\\\u001B[2mcommon.py\u001B[0m\u001B]8;;\u001B\\\u001B[2m:\u001B[0m\u001B]8;id=363403;file://C:\\Users\\kyawk\\Desktop\\robustness_of_gnns_at_scale-main\\experiments\\common.py#171\u001B\\\u001B[2m171\u001B[0m\u001B]8;;\u001B\\\n\u001B[2;36m                    \u001B[0m         \u001B[1m[\u001B[0m\u001B[1;36m475\u001B[0m\u001B[1m]\u001B[0m                                                                    \u001B[2m             \u001B[0m\n\u001B[2;36m                    \u001B[0m         \u001B[1m[\u001B[0m\u001B[1;36m2105\u001B[0m\u001B[1m]\u001B[0m                                                                   \u001B[2m             \u001B[0m\n\u001B[2;36m                    \u001B[0m         \u001B[1m[\u001B[0m \u001B[1;36m379\u001B[0m \u001B[1;36m2773\u001B[0m\u001B[1m]\u001B[0m                                                              \u001B[2m             \u001B[0m\n",
      "text/html": "<pre style=\"white-space:pre;overflow-x:auto;line-height:normal;font-family:Menlo,'DejaVu Sans Mono',consolas,'Courier New',monospace\"><span style=\"color: #7fbfbf; text-decoration-color: #7fbfbf\">                    </span><span style=\"color: #000080; text-decoration-color: #000080\">INFO    </span> Sample the following attack nodes:                                       <a href=\"file://C:\\Users\\kyawk\\Desktop\\robustness_of_gnns_at_scale-main\\experiments\\common.py\" target=\"_blank\"><span style=\"color: #7f7f7f; text-decoration-color: #7f7f7f\">common.py</span></a><span style=\"color: #7f7f7f; text-decoration-color: #7f7f7f\">:</span><a href=\"file://C:\\Users\\kyawk\\Desktop\\robustness_of_gnns_at_scale-main\\experiments\\common.py#171\" target=\"_blank\"><span style=\"color: #7f7f7f; text-decoration-color: #7f7f7f\">171</span></a>\n<span style=\"color: #7fbfbf; text-decoration-color: #7fbfbf\">                    </span>         <span style=\"font-weight: bold\">[</span><span style=\"color: #008080; text-decoration-color: #008080; font-weight: bold\">475</span><span style=\"font-weight: bold\">]</span>                                                                    <span style=\"color: #7f7f7f; text-decoration-color: #7f7f7f\">             </span>\n<span style=\"color: #7fbfbf; text-decoration-color: #7fbfbf\">                    </span>         <span style=\"font-weight: bold\">[</span><span style=\"color: #008080; text-decoration-color: #008080; font-weight: bold\">2105</span><span style=\"font-weight: bold\">]</span>                                                                   <span style=\"color: #7f7f7f; text-decoration-color: #7f7f7f\">             </span>\n<span style=\"color: #7fbfbf; text-decoration-color: #7fbfbf\">                    </span>         <span style=\"font-weight: bold\">[</span> <span style=\"color: #008080; text-decoration-color: #008080; font-weight: bold\">379</span> <span style=\"color: #008080; text-decoration-color: #008080; font-weight: bold\">2773</span><span style=\"font-weight: bold\">]</span>                                                              <span style=\"color: #7f7f7f; text-decoration-color: #7f7f7f\">             </span>\n</pre>\n"
     },
     "metadata": {},
     "output_type": "display_data"
    },
    {
     "data": {
      "text/plain": "\u001B[2;36m                   \u001B[0m\u001B[2;36m \u001B[0m\u001B[34mINFO    \u001B[0m Original: Loss: \u001B[1;36m-9.87804126739502\u001B[0m Statstics: \u001B[1m{\u001B[0m\u001B[32m'logit_target'\u001B[0m:        \u001B]8;id=53789;file://C:\\Users\\kyawk\\Desktop\\robustness_of_gnns_at_scale-main\\rgnn_at_scale\\attacks\\local_prbcd.py\u001B\\\u001B[2mlocal_prbcd.py\u001B[0m\u001B]8;;\u001B\\\u001B[2m:\u001B[0m\u001B]8;id=534670;file://C:\\Users\\kyawk\\Desktop\\robustness_of_gnns_at_scale-main\\rgnn_at_scale\\attacks\\local_prbcd.py#74\u001B\\\u001B[2m74\u001B[0m\u001B]8;;\u001B\\\n\u001B[2;36m                    \u001B[0m         \u001B[1;36m-0.0002650863316375762\u001B[0m, \u001B[32m'logit_best_non_target'\u001B[0m: \u001B[1;36m-9.87830638885498\u001B[0m,  \u001B[2m                 \u001B[0m\n\u001B[2;36m                    \u001B[0m         \u001B[32m'confidence_target'\u001B[0m: \u001B[1;36m0.9997349488006396\u001B[0m, \u001B[32m'confidence_non_target'\u001B[0m:    \u001B[2m                 \u001B[0m\n\u001B[2;36m                    \u001B[0m         \u001B[1;36m5.127504436062899e-05\u001B[0m, \u001B[32m'margin'\u001B[0m: \u001B[1;36m0.999683673756279\u001B[0m\u001B[1m}\u001B[0m                  \u001B[2m                 \u001B[0m\n\u001B[2;36m                    \u001B[0m                                                                              \u001B[2m                 \u001B[0m\n",
      "text/html": "<pre style=\"white-space:pre;overflow-x:auto;line-height:normal;font-family:Menlo,'DejaVu Sans Mono',consolas,'Courier New',monospace\"><span style=\"color: #7fbfbf; text-decoration-color: #7fbfbf\">                    </span><span style=\"color: #000080; text-decoration-color: #000080\">INFO    </span> Original: Loss: <span style=\"color: #008080; text-decoration-color: #008080; font-weight: bold\">-9.87804126739502</span> Statstics: <span style=\"font-weight: bold\">{</span><span style=\"color: #008000; text-decoration-color: #008000\">'logit_target'</span>:        <a href=\"file://C:\\Users\\kyawk\\Desktop\\robustness_of_gnns_at_scale-main\\rgnn_at_scale\\attacks\\local_prbcd.py\" target=\"_blank\"><span style=\"color: #7f7f7f; text-decoration-color: #7f7f7f\">local_prbcd.py</span></a><span style=\"color: #7f7f7f; text-decoration-color: #7f7f7f\">:</span><a href=\"file://C:\\Users\\kyawk\\Desktop\\robustness_of_gnns_at_scale-main\\rgnn_at_scale\\attacks\\local_prbcd.py#74\" target=\"_blank\"><span style=\"color: #7f7f7f; text-decoration-color: #7f7f7f\">74</span></a>\n<span style=\"color: #7fbfbf; text-decoration-color: #7fbfbf\">                    </span>         <span style=\"color: #008080; text-decoration-color: #008080; font-weight: bold\">-0.0002650863316375762</span>, <span style=\"color: #008000; text-decoration-color: #008000\">'logit_best_non_target'</span>: <span style=\"color: #008080; text-decoration-color: #008080; font-weight: bold\">-9.87830638885498</span>,  <span style=\"color: #7f7f7f; text-decoration-color: #7f7f7f\">                 </span>\n<span style=\"color: #7fbfbf; text-decoration-color: #7fbfbf\">                    </span>         <span style=\"color: #008000; text-decoration-color: #008000\">'confidence_target'</span>: <span style=\"color: #008080; text-decoration-color: #008080; font-weight: bold\">0.9997349488006396</span>, <span style=\"color: #008000; text-decoration-color: #008000\">'confidence_non_target'</span>:    <span style=\"color: #7f7f7f; text-decoration-color: #7f7f7f\">                 </span>\n<span style=\"color: #7fbfbf; text-decoration-color: #7fbfbf\">                    </span>         <span style=\"color: #008080; text-decoration-color: #008080; font-weight: bold\">5.127504436062899e-05</span>, <span style=\"color: #008000; text-decoration-color: #008000\">'margin'</span>: <span style=\"color: #008080; text-decoration-color: #008080; font-weight: bold\">0.999683673756279</span><span style=\"font-weight: bold\">}</span>                  <span style=\"color: #7f7f7f; text-decoration-color: #7f7f7f\">                 </span>\n<span style=\"color: #7fbfbf; text-decoration-color: #7fbfbf\">                    </span>                                                                              <span style=\"color: #7f7f7f; text-decoration-color: #7f7f7f\">                 </span>\n</pre>\n"
     },
     "metadata": {},
     "output_type": "display_data"
    },
    {
     "name": "stderr",
     "output_type": "stream",
     "text": [
      "  0%|          | 0/50 [00:00<?, ?it/s]"
     ]
    },
    {
     "data": {
      "text/plain": "\u001B[2;36m[02/11/25 18:37:13]\u001B[0m\u001B[2;36m \u001B[0m\u001B[34mINFO    \u001B[0m Initial: Loss: \u001B[1;36m-9.87804126739502\u001B[0m Statstics: \u001B[1m{\u001B[0m\u001B[32m'logit_target'\u001B[0m:         \u001B]8;id=733008;file://C:\\Users\\kyawk\\Desktop\\robustness_of_gnns_at_scale-main\\rgnn_at_scale\\attacks\\local_prbcd.py\u001B\\\u001B[2mlocal_prbcd.py\u001B[0m\u001B]8;;\u001B\\\u001B[2m:\u001B[0m\u001B]8;id=591147;file://C:\\Users\\kyawk\\Desktop\\robustness_of_gnns_at_scale-main\\rgnn_at_scale\\attacks\\local_prbcd.py#92\u001B\\\u001B[2m92\u001B[0m\u001B]8;;\u001B\\\n\u001B[2;36m                    \u001B[0m         \u001B[1;36m-0.0002650863316375762\u001B[0m, \u001B[32m'logit_best_non_target'\u001B[0m: \u001B[1;36m-9.87830638885498\u001B[0m,  \u001B[2m                 \u001B[0m\n\u001B[2;36m                    \u001B[0m         \u001B[32m'confidence_target'\u001B[0m: \u001B[1;36m0.9997349488006396\u001B[0m, \u001B[32m'confidence_non_target'\u001B[0m:    \u001B[2m                 \u001B[0m\n\u001B[2;36m                    \u001B[0m         \u001B[1;36m5.127504436062899e-05\u001B[0m, \u001B[32m'margin'\u001B[0m: \u001B[1;36m0.999683673756279\u001B[0m\u001B[1m}\u001B[0m                  \u001B[2m                 \u001B[0m\n\u001B[2;36m                    \u001B[0m                                                                              \u001B[2m                 \u001B[0m\n",
      "text/html": "<pre style=\"white-space:pre;overflow-x:auto;line-height:normal;font-family:Menlo,'DejaVu Sans Mono',consolas,'Courier New',monospace\"><span style=\"color: #7fbfbf; text-decoration-color: #7fbfbf\">[02/11/25 18:37:13] </span><span style=\"color: #000080; text-decoration-color: #000080\">INFO    </span> Initial: Loss: <span style=\"color: #008080; text-decoration-color: #008080; font-weight: bold\">-9.87804126739502</span> Statstics: <span style=\"font-weight: bold\">{</span><span style=\"color: #008000; text-decoration-color: #008000\">'logit_target'</span>:         <a href=\"file://C:\\Users\\kyawk\\Desktop\\robustness_of_gnns_at_scale-main\\rgnn_at_scale\\attacks\\local_prbcd.py\" target=\"_blank\"><span style=\"color: #7f7f7f; text-decoration-color: #7f7f7f\">local_prbcd.py</span></a><span style=\"color: #7f7f7f; text-decoration-color: #7f7f7f\">:</span><a href=\"file://C:\\Users\\kyawk\\Desktop\\robustness_of_gnns_at_scale-main\\rgnn_at_scale\\attacks\\local_prbcd.py#92\" target=\"_blank\"><span style=\"color: #7f7f7f; text-decoration-color: #7f7f7f\">92</span></a>\n<span style=\"color: #7fbfbf; text-decoration-color: #7fbfbf\">                    </span>         <span style=\"color: #008080; text-decoration-color: #008080; font-weight: bold\">-0.0002650863316375762</span>, <span style=\"color: #008000; text-decoration-color: #008000\">'logit_best_non_target'</span>: <span style=\"color: #008080; text-decoration-color: #008080; font-weight: bold\">-9.87830638885498</span>,  <span style=\"color: #7f7f7f; text-decoration-color: #7f7f7f\">                 </span>\n<span style=\"color: #7fbfbf; text-decoration-color: #7fbfbf\">                    </span>         <span style=\"color: #008000; text-decoration-color: #008000\">'confidence_target'</span>: <span style=\"color: #008080; text-decoration-color: #008080; font-weight: bold\">0.9997349488006396</span>, <span style=\"color: #008000; text-decoration-color: #008000\">'confidence_non_target'</span>:    <span style=\"color: #7f7f7f; text-decoration-color: #7f7f7f\">                 </span>\n<span style=\"color: #7fbfbf; text-decoration-color: #7fbfbf\">                    </span>         <span style=\"color: #008080; text-decoration-color: #008080; font-weight: bold\">5.127504436062899e-05</span>, <span style=\"color: #008000; text-decoration-color: #008000\">'margin'</span>: <span style=\"color: #008080; text-decoration-color: #008080; font-weight: bold\">0.999683673756279</span><span style=\"font-weight: bold\">}</span>                  <span style=\"color: #7f7f7f; text-decoration-color: #7f7f7f\">                 </span>\n<span style=\"color: #7fbfbf; text-decoration-color: #7fbfbf\">                    </span>                                                                              <span style=\"color: #7f7f7f; text-decoration-color: #7f7f7f\">                 </span>\n</pre>\n"
     },
     "metadata": {},
     "output_type": "display_data"
    },
    {
     "data": {
      "text/plain": "\u001B[2;36m[02/11/25 18:37:15]\u001B[0m\u001B[2;36m \u001B[0m\u001B[34mINFO    \u001B[0m                                                                     \u001B]8;id=118331;file://C:\\Users\\kyawk\\Desktop\\robustness_of_gnns_at_scale-main\\rgnn_at_scale\\attacks\\local_prbcd.py\u001B\\\u001B[2mlocal_prbcd.py\u001B[0m\u001B]8;;\u001B\\\u001B[2m:\u001B[0m\u001B]8;id=483976;file://C:\\Users\\kyawk\\Desktop\\robustness_of_gnns_at_scale-main\\rgnn_at_scale\\attacks\\local_prbcd.py#113\u001B\\\u001B[2m113\u001B[0m\u001B]8;;\u001B\\\n\u001B[2;36m                    \u001B[0m         Epoch: \u001B[1;36m0\u001B[0m Loss: \u001B[1;36m-9.87804126739502\u001B[0m Statstics: \u001B[1m{\u001B[0m\u001B[32m'logit_target'\u001B[0m:        \u001B[2m                  \u001B[0m\n\u001B[2;36m                    \u001B[0m         \u001B[1;36m-0.0002775999018922448\u001B[0m, \u001B[32m'logit_best_non_target'\u001B[0m:                    \u001B[2m                  \u001B[0m\n\u001B[2;36m                    \u001B[0m         \u001B[1;36m-9.830784797668457\u001B[0m, \u001B[32m'confidence_target'\u001B[0m: \u001B[1;36m0.9997224386253953\u001B[0m,        \u001B[2m                  \u001B[0m\n\u001B[2;36m                    \u001B[0m         \u001B[32m'confidence_non_target'\u001B[0m: \u001B[1;36m5.377054143835536e-05\u001B[0m, \u001B[32m'margin'\u001B[0m:           \u001B[2m                  \u001B[0m\n\u001B[2;36m                    \u001B[0m         \u001B[1;36m0.9996686680839569\u001B[0m\u001B[1m}\u001B[0m                                                 \u001B[2m                  \u001B[0m\n\u001B[2;36m                    \u001B[0m                                                                             \u001B[2m                  \u001B[0m\n",
      "text/html": "<pre style=\"white-space:pre;overflow-x:auto;line-height:normal;font-family:Menlo,'DejaVu Sans Mono',consolas,'Courier New',monospace\"><span style=\"color: #7fbfbf; text-decoration-color: #7fbfbf\">[02/11/25 18:37:15] </span><span style=\"color: #000080; text-decoration-color: #000080\">INFO    </span>                                                                     <a href=\"file://C:\\Users\\kyawk\\Desktop\\robustness_of_gnns_at_scale-main\\rgnn_at_scale\\attacks\\local_prbcd.py\" target=\"_blank\"><span style=\"color: #7f7f7f; text-decoration-color: #7f7f7f\">local_prbcd.py</span></a><span style=\"color: #7f7f7f; text-decoration-color: #7f7f7f\">:</span><a href=\"file://C:\\Users\\kyawk\\Desktop\\robustness_of_gnns_at_scale-main\\rgnn_at_scale\\attacks\\local_prbcd.py#113\" target=\"_blank\"><span style=\"color: #7f7f7f; text-decoration-color: #7f7f7f\">113</span></a>\n<span style=\"color: #7fbfbf; text-decoration-color: #7fbfbf\">                    </span>         Epoch: <span style=\"color: #008080; text-decoration-color: #008080; font-weight: bold\">0</span> Loss: <span style=\"color: #008080; text-decoration-color: #008080; font-weight: bold\">-9.87804126739502</span> Statstics: <span style=\"font-weight: bold\">{</span><span style=\"color: #008000; text-decoration-color: #008000\">'logit_target'</span>:        <span style=\"color: #7f7f7f; text-decoration-color: #7f7f7f\">                  </span>\n<span style=\"color: #7fbfbf; text-decoration-color: #7fbfbf\">                    </span>         <span style=\"color: #008080; text-decoration-color: #008080; font-weight: bold\">-0.0002775999018922448</span>, <span style=\"color: #008000; text-decoration-color: #008000\">'logit_best_non_target'</span>:                    <span style=\"color: #7f7f7f; text-decoration-color: #7f7f7f\">                  </span>\n<span style=\"color: #7fbfbf; text-decoration-color: #7fbfbf\">                    </span>         <span style=\"color: #008080; text-decoration-color: #008080; font-weight: bold\">-9.830784797668457</span>, <span style=\"color: #008000; text-decoration-color: #008000\">'confidence_target'</span>: <span style=\"color: #008080; text-decoration-color: #008080; font-weight: bold\">0.9997224386253953</span>,        <span style=\"color: #7f7f7f; text-decoration-color: #7f7f7f\">                  </span>\n<span style=\"color: #7fbfbf; text-decoration-color: #7fbfbf\">                    </span>         <span style=\"color: #008000; text-decoration-color: #008000\">'confidence_non_target'</span>: <span style=\"color: #008080; text-decoration-color: #008080; font-weight: bold\">5.377054143835536e-05</span>, <span style=\"color: #008000; text-decoration-color: #008000\">'margin'</span>:           <span style=\"color: #7f7f7f; text-decoration-color: #7f7f7f\">                  </span>\n<span style=\"color: #7fbfbf; text-decoration-color: #7fbfbf\">                    </span>         <span style=\"color: #008080; text-decoration-color: #008080; font-weight: bold\">0.9996686680839569</span><span style=\"font-weight: bold\">}</span>                                                 <span style=\"color: #7f7f7f; text-decoration-color: #7f7f7f\">                  </span>\n<span style=\"color: #7fbfbf; text-decoration-color: #7fbfbf\">                    </span>                                                                             <span style=\"color: #7f7f7f; text-decoration-color: #7f7f7f\">                  </span>\n</pre>\n"
     },
     "metadata": {},
     "output_type": "display_data"
    },
    {
     "data": {
      "text/plain": "\u001B[2;36m                   \u001B[0m\u001B[2;36m \u001B[0m\u001B[34mINFO    \u001B[0m Gradient mean \u001B[1;36m0.38238662481307983\u001B[0m std \u001B[1;36m0.19121062755584717\u001B[0m with base \u001B]8;id=948696;file://C:\\Users\\kyawk\\Desktop\\robustness_of_gnns_at_scale-main\\rgnn_at_scale\\attacks\\local_prbcd.py\u001B\\\u001B[2mlocal_prbcd.py\u001B[0m\u001B]8;;\u001B\\\u001B[2m:\u001B[0m\u001B]8;id=865859;file://C:\\Users\\kyawk\\Desktop\\robustness_of_gnns_at_scale-main\\rgnn_at_scale\\attacks\\local_prbcd.py#114\u001B\\\u001B[2m114\u001B[0m\u001B]8;;\u001B\\\n\u001B[2;36m                    \u001B[0m         learning rate \u001B[1;36m0.1\u001B[0m                                                   \u001B[2m                  \u001B[0m\n",
      "text/html": "<pre style=\"white-space:pre;overflow-x:auto;line-height:normal;font-family:Menlo,'DejaVu Sans Mono',consolas,'Courier New',monospace\"><span style=\"color: #7fbfbf; text-decoration-color: #7fbfbf\">                    </span><span style=\"color: #000080; text-decoration-color: #000080\">INFO    </span> Gradient mean <span style=\"color: #008080; text-decoration-color: #008080; font-weight: bold\">0.38238662481307983</span> std <span style=\"color: #008080; text-decoration-color: #008080; font-weight: bold\">0.19121062755584717</span> with base <a href=\"file://C:\\Users\\kyawk\\Desktop\\robustness_of_gnns_at_scale-main\\rgnn_at_scale\\attacks\\local_prbcd.py\" target=\"_blank\"><span style=\"color: #7f7f7f; text-decoration-color: #7f7f7f\">local_prbcd.py</span></a><span style=\"color: #7f7f7f; text-decoration-color: #7f7f7f\">:</span><a href=\"file://C:\\Users\\kyawk\\Desktop\\robustness_of_gnns_at_scale-main\\rgnn_at_scale\\attacks\\local_prbcd.py#114\" target=\"_blank\"><span style=\"color: #7f7f7f; text-decoration-color: #7f7f7f\">114</span></a>\n<span style=\"color: #7fbfbf; text-decoration-color: #7fbfbf\">                    </span>         learning rate <span style=\"color: #008080; text-decoration-color: #008080; font-weight: bold\">0.1</span>                                                   <span style=\"color: #7f7f7f; text-decoration-color: #7f7f7f\">                  </span>\n</pre>\n"
     },
     "metadata": {},
     "output_type": "display_data"
    },
    {
     "name": "stderr",
     "output_type": "stream",
     "text": [
      " 40%|████      | 20/50 [01:24<02:07,  4.24s/it]"
     ]
    },
    {
     "data": {
      "text/plain": "\u001B[2;36m[02/11/25 18:38:40]\u001B[0m\u001B[2;36m \u001B[0m\u001B[34mINFO    \u001B[0m                                                                     \u001B]8;id=246804;file://C:\\Users\\kyawk\\Desktop\\robustness_of_gnns_at_scale-main\\rgnn_at_scale\\attacks\\local_prbcd.py\u001B\\\u001B[2mlocal_prbcd.py\u001B[0m\u001B]8;;\u001B\\\u001B[2m:\u001B[0m\u001B]8;id=592717;file://C:\\Users\\kyawk\\Desktop\\robustness_of_gnns_at_scale-main\\rgnn_at_scale\\attacks\\local_prbcd.py#113\u001B\\\u001B[2m113\u001B[0m\u001B]8;;\u001B\\\n\u001B[2;36m                    \u001B[0m         Epoch: \u001B[1;36m20\u001B[0m Loss: \u001B[1;36m2.1878833770751953\u001B[0m Statstics: \u001B[1m{\u001B[0m\u001B[32m'logit_target'\u001B[0m:      \u001B[2m                  \u001B[0m\n\u001B[2;36m                    \u001B[0m         \u001B[1;36m-2.3420073986053467\u001B[0m, \u001B[32m'logit_best_non_target'\u001B[0m: \u001B[1;36m-0.1479838490486145\u001B[0m,  \u001B[2m                  \u001B[0m\n\u001B[2;36m                    \u001B[0m         \u001B[32m'confidence_target'\u001B[0m: \u001B[1;36m0.0961344642173437\u001B[0m, \u001B[32m'confidence_non_target'\u001B[0m:   \u001B[2m                  \u001B[0m\n\u001B[2;36m                    \u001B[0m         \u001B[1;36m0.8624450441375408\u001B[0m, \u001B[32m'margin'\u001B[0m: \u001B[1;36m-0.766310579920197\u001B[0m\u001B[1m}\u001B[0m                   \u001B[2m                  \u001B[0m\n\u001B[2;36m                    \u001B[0m                                                                             \u001B[2m                  \u001B[0m\n",
      "text/html": "<pre style=\"white-space:pre;overflow-x:auto;line-height:normal;font-family:Menlo,'DejaVu Sans Mono',consolas,'Courier New',monospace\"><span style=\"color: #7fbfbf; text-decoration-color: #7fbfbf\">[02/11/25 18:38:40] </span><span style=\"color: #000080; text-decoration-color: #000080\">INFO    </span>                                                                     <a href=\"file://C:\\Users\\kyawk\\Desktop\\robustness_of_gnns_at_scale-main\\rgnn_at_scale\\attacks\\local_prbcd.py\" target=\"_blank\"><span style=\"color: #7f7f7f; text-decoration-color: #7f7f7f\">local_prbcd.py</span></a><span style=\"color: #7f7f7f; text-decoration-color: #7f7f7f\">:</span><a href=\"file://C:\\Users\\kyawk\\Desktop\\robustness_of_gnns_at_scale-main\\rgnn_at_scale\\attacks\\local_prbcd.py#113\" target=\"_blank\"><span style=\"color: #7f7f7f; text-decoration-color: #7f7f7f\">113</span></a>\n<span style=\"color: #7fbfbf; text-decoration-color: #7fbfbf\">                    </span>         Epoch: <span style=\"color: #008080; text-decoration-color: #008080; font-weight: bold\">20</span> Loss: <span style=\"color: #008080; text-decoration-color: #008080; font-weight: bold\">2.1878833770751953</span> Statstics: <span style=\"font-weight: bold\">{</span><span style=\"color: #008000; text-decoration-color: #008000\">'logit_target'</span>:      <span style=\"color: #7f7f7f; text-decoration-color: #7f7f7f\">                  </span>\n<span style=\"color: #7fbfbf; text-decoration-color: #7fbfbf\">                    </span>         <span style=\"color: #008080; text-decoration-color: #008080; font-weight: bold\">-2.3420073986053467</span>, <span style=\"color: #008000; text-decoration-color: #008000\">'logit_best_non_target'</span>: <span style=\"color: #008080; text-decoration-color: #008080; font-weight: bold\">-0.1479838490486145</span>,  <span style=\"color: #7f7f7f; text-decoration-color: #7f7f7f\">                  </span>\n<span style=\"color: #7fbfbf; text-decoration-color: #7fbfbf\">                    </span>         <span style=\"color: #008000; text-decoration-color: #008000\">'confidence_target'</span>: <span style=\"color: #008080; text-decoration-color: #008080; font-weight: bold\">0.0961344642173437</span>, <span style=\"color: #008000; text-decoration-color: #008000\">'confidence_non_target'</span>:   <span style=\"color: #7f7f7f; text-decoration-color: #7f7f7f\">                  </span>\n<span style=\"color: #7fbfbf; text-decoration-color: #7fbfbf\">                    </span>         <span style=\"color: #008080; text-decoration-color: #008080; font-weight: bold\">0.8624450441375408</span>, <span style=\"color: #008000; text-decoration-color: #008000\">'margin'</span>: <span style=\"color: #008080; text-decoration-color: #008080; font-weight: bold\">-0.766310579920197</span><span style=\"font-weight: bold\">}</span>                   <span style=\"color: #7f7f7f; text-decoration-color: #7f7f7f\">                  </span>\n<span style=\"color: #7fbfbf; text-decoration-color: #7fbfbf\">                    </span>                                                                             <span style=\"color: #7f7f7f; text-decoration-color: #7f7f7f\">                  </span>\n</pre>\n"
     },
     "metadata": {},
     "output_type": "display_data"
    },
    {
     "data": {
      "text/plain": "\u001B[2;36m                   \u001B[0m\u001B[2;36m \u001B[0m\u001B[34mINFO    \u001B[0m Gradient mean \u001B[1;36m0.2567737400531769\u001B[0m std \u001B[1;36m0.16032835841178894\u001B[0m with base  \u001B]8;id=189205;file://C:\\Users\\kyawk\\Desktop\\robustness_of_gnns_at_scale-main\\rgnn_at_scale\\attacks\\local_prbcd.py\u001B\\\u001B[2mlocal_prbcd.py\u001B[0m\u001B]8;;\u001B\\\u001B[2m:\u001B[0m\u001B]8;id=241310;file://C:\\Users\\kyawk\\Desktop\\robustness_of_gnns_at_scale-main\\rgnn_at_scale\\attacks\\local_prbcd.py#114\u001B\\\u001B[2m114\u001B[0m\u001B]8;;\u001B\\\n\u001B[2;36m                    \u001B[0m         learning rate \u001B[1;36m0.1\u001B[0m                                                   \u001B[2m                  \u001B[0m\n",
      "text/html": "<pre style=\"white-space:pre;overflow-x:auto;line-height:normal;font-family:Menlo,'DejaVu Sans Mono',consolas,'Courier New',monospace\"><span style=\"color: #7fbfbf; text-decoration-color: #7fbfbf\">                    </span><span style=\"color: #000080; text-decoration-color: #000080\">INFO    </span> Gradient mean <span style=\"color: #008080; text-decoration-color: #008080; font-weight: bold\">0.2567737400531769</span> std <span style=\"color: #008080; text-decoration-color: #008080; font-weight: bold\">0.16032835841178894</span> with base  <a href=\"file://C:\\Users\\kyawk\\Desktop\\robustness_of_gnns_at_scale-main\\rgnn_at_scale\\attacks\\local_prbcd.py\" target=\"_blank\"><span style=\"color: #7f7f7f; text-decoration-color: #7f7f7f\">local_prbcd.py</span></a><span style=\"color: #7f7f7f; text-decoration-color: #7f7f7f\">:</span><a href=\"file://C:\\Users\\kyawk\\Desktop\\robustness_of_gnns_at_scale-main\\rgnn_at_scale\\attacks\\local_prbcd.py#114\" target=\"_blank\"><span style=\"color: #7f7f7f; text-decoration-color: #7f7f7f\">114</span></a>\n<span style=\"color: #7fbfbf; text-decoration-color: #7fbfbf\">                    </span>         learning rate <span style=\"color: #008080; text-decoration-color: #008080; font-weight: bold\">0.1</span>                                                   <span style=\"color: #7f7f7f; text-decoration-color: #7f7f7f\">                  </span>\n</pre>\n"
     },
     "metadata": {},
     "output_type": "display_data"
    },
    {
     "name": "stderr",
     "output_type": "stream",
     "text": [
      " 80%|████████  | 40/50 [02:49<00:43,  4.30s/it]"
     ]
    },
    {
     "data": {
      "text/plain": "\u001B[2;36m[02/11/25 18:40:05]\u001B[0m\u001B[2;36m \u001B[0m\u001B[34mINFO    \u001B[0m                                                                     \u001B]8;id=121326;file://C:\\Users\\kyawk\\Desktop\\robustness_of_gnns_at_scale-main\\rgnn_at_scale\\attacks\\local_prbcd.py\u001B\\\u001B[2mlocal_prbcd.py\u001B[0m\u001B]8;;\u001B\\\u001B[2m:\u001B[0m\u001B]8;id=230472;file://C:\\Users\\kyawk\\Desktop\\robustness_of_gnns_at_scale-main\\rgnn_at_scale\\attacks\\local_prbcd.py#113\u001B\\\u001B[2m113\u001B[0m\u001B]8;;\u001B\\\n\u001B[2;36m                    \u001B[0m         Epoch: \u001B[1;36m40\u001B[0m Loss: \u001B[1;36m2.219865560531616\u001B[0m Statstics: \u001B[1m{\u001B[0m\u001B[32m'logit_target'\u001B[0m:       \u001B[2m                  \u001B[0m\n\u001B[2;36m                    \u001B[0m         \u001B[1;36m-2.36533784866333\u001B[0m, \u001B[32m'logit_best_non_target'\u001B[0m: \u001B[1;36m-0.14354529976844788\u001B[0m,   \u001B[2m                  \u001B[0m\n\u001B[2;36m                    \u001B[0m         \u001B[32m'confidence_target'\u001B[0m: \u001B[1;36m0.09391756508409248\u001B[0m, \u001B[32m'confidence_non_target'\u001B[0m:  \u001B[2m                  \u001B[0m\n\u001B[2;36m                    \u001B[0m         \u001B[1;36m0.8662815569444563\u001B[0m, \u001B[32m'margin'\u001B[0m: \u001B[1;36m-0.7723639918603639\u001B[0m\u001B[1m}\u001B[0m                  \u001B[2m                  \u001B[0m\n\u001B[2;36m                    \u001B[0m                                                                             \u001B[2m                  \u001B[0m\n",
      "text/html": "<pre style=\"white-space:pre;overflow-x:auto;line-height:normal;font-family:Menlo,'DejaVu Sans Mono',consolas,'Courier New',monospace\"><span style=\"color: #7fbfbf; text-decoration-color: #7fbfbf\">[02/11/25 18:40:05] </span><span style=\"color: #000080; text-decoration-color: #000080\">INFO    </span>                                                                     <a href=\"file://C:\\Users\\kyawk\\Desktop\\robustness_of_gnns_at_scale-main\\rgnn_at_scale\\attacks\\local_prbcd.py\" target=\"_blank\"><span style=\"color: #7f7f7f; text-decoration-color: #7f7f7f\">local_prbcd.py</span></a><span style=\"color: #7f7f7f; text-decoration-color: #7f7f7f\">:</span><a href=\"file://C:\\Users\\kyawk\\Desktop\\robustness_of_gnns_at_scale-main\\rgnn_at_scale\\attacks\\local_prbcd.py#113\" target=\"_blank\"><span style=\"color: #7f7f7f; text-decoration-color: #7f7f7f\">113</span></a>\n<span style=\"color: #7fbfbf; text-decoration-color: #7fbfbf\">                    </span>         Epoch: <span style=\"color: #008080; text-decoration-color: #008080; font-weight: bold\">40</span> Loss: <span style=\"color: #008080; text-decoration-color: #008080; font-weight: bold\">2.219865560531616</span> Statstics: <span style=\"font-weight: bold\">{</span><span style=\"color: #008000; text-decoration-color: #008000\">'logit_target'</span>:       <span style=\"color: #7f7f7f; text-decoration-color: #7f7f7f\">                  </span>\n<span style=\"color: #7fbfbf; text-decoration-color: #7fbfbf\">                    </span>         <span style=\"color: #008080; text-decoration-color: #008080; font-weight: bold\">-2.36533784866333</span>, <span style=\"color: #008000; text-decoration-color: #008000\">'logit_best_non_target'</span>: <span style=\"color: #008080; text-decoration-color: #008080; font-weight: bold\">-0.14354529976844788</span>,   <span style=\"color: #7f7f7f; text-decoration-color: #7f7f7f\">                  </span>\n<span style=\"color: #7fbfbf; text-decoration-color: #7fbfbf\">                    </span>         <span style=\"color: #008000; text-decoration-color: #008000\">'confidence_target'</span>: <span style=\"color: #008080; text-decoration-color: #008080; font-weight: bold\">0.09391756508409248</span>, <span style=\"color: #008000; text-decoration-color: #008000\">'confidence_non_target'</span>:  <span style=\"color: #7f7f7f; text-decoration-color: #7f7f7f\">                  </span>\n<span style=\"color: #7fbfbf; text-decoration-color: #7fbfbf\">                    </span>         <span style=\"color: #008080; text-decoration-color: #008080; font-weight: bold\">0.8662815569444563</span>, <span style=\"color: #008000; text-decoration-color: #008000\">'margin'</span>: <span style=\"color: #008080; text-decoration-color: #008080; font-weight: bold\">-0.7723639918603639</span><span style=\"font-weight: bold\">}</span>                  <span style=\"color: #7f7f7f; text-decoration-color: #7f7f7f\">                  </span>\n<span style=\"color: #7fbfbf; text-decoration-color: #7fbfbf\">                    </span>                                                                             <span style=\"color: #7f7f7f; text-decoration-color: #7f7f7f\">                  </span>\n</pre>\n"
     },
     "metadata": {},
     "output_type": "display_data"
    },
    {
     "data": {
      "text/plain": "\u001B[2;36m                   \u001B[0m\u001B[2;36m \u001B[0m\u001B[34mINFO    \u001B[0m Gradient mean \u001B[1;36m0.24784429371356964\u001B[0m std \u001B[1;36m0.16719503700733185\u001B[0m with base \u001B]8;id=253836;file://C:\\Users\\kyawk\\Desktop\\robustness_of_gnns_at_scale-main\\rgnn_at_scale\\attacks\\local_prbcd.py\u001B\\\u001B[2mlocal_prbcd.py\u001B[0m\u001B]8;;\u001B\\\u001B[2m:\u001B[0m\u001B]8;id=384032;file://C:\\Users\\kyawk\\Desktop\\robustness_of_gnns_at_scale-main\\rgnn_at_scale\\attacks\\local_prbcd.py#114\u001B\\\u001B[2m114\u001B[0m\u001B]8;;\u001B\\\n\u001B[2;36m                    \u001B[0m         learning rate \u001B[1;36m0.1\u001B[0m                                                   \u001B[2m                  \u001B[0m\n",
      "text/html": "<pre style=\"white-space:pre;overflow-x:auto;line-height:normal;font-family:Menlo,'DejaVu Sans Mono',consolas,'Courier New',monospace\"><span style=\"color: #7fbfbf; text-decoration-color: #7fbfbf\">                    </span><span style=\"color: #000080; text-decoration-color: #000080\">INFO    </span> Gradient mean <span style=\"color: #008080; text-decoration-color: #008080; font-weight: bold\">0.24784429371356964</span> std <span style=\"color: #008080; text-decoration-color: #008080; font-weight: bold\">0.16719503700733185</span> with base <a href=\"file://C:\\Users\\kyawk\\Desktop\\robustness_of_gnns_at_scale-main\\rgnn_at_scale\\attacks\\local_prbcd.py\" target=\"_blank\"><span style=\"color: #7f7f7f; text-decoration-color: #7f7f7f\">local_prbcd.py</span></a><span style=\"color: #7f7f7f; text-decoration-color: #7f7f7f\">:</span><a href=\"file://C:\\Users\\kyawk\\Desktop\\robustness_of_gnns_at_scale-main\\rgnn_at_scale\\attacks\\local_prbcd.py#114\" target=\"_blank\"><span style=\"color: #7f7f7f; text-decoration-color: #7f7f7f\">114</span></a>\n<span style=\"color: #7fbfbf; text-decoration-color: #7fbfbf\">                    </span>         learning rate <span style=\"color: #008080; text-decoration-color: #008080; font-weight: bold\">0.1</span>                                                   <span style=\"color: #7f7f7f; text-decoration-color: #7f7f7f\">                  </span>\n</pre>\n"
     },
     "metadata": {},
     "output_type": "display_data"
    },
    {
     "name": "stderr",
     "output_type": "stream",
     "text": [
      "100%|██████████| 50/50 [03:31<00:00,  4.22s/it]\n"
     ]
    },
    {
     "data": {
      "text/plain": "\u001B[2;36m[02/11/25 18:40:48]\u001B[0m\u001B[2;36m \u001B[0m\u001B[34mINFO    \u001B[0m Evaluated model Vanilla GCN using LocalPRBCD     \u001B]8;id=450913;file://C:\\Users\\kyawk\\Desktop\\robustness_of_gnns_at_scale-main\\experiments\\experiment_local_attack_direct.py\u001B\\\u001B[2mexperiment_local_attack_direct.py\u001B[0m\u001B]8;;\u001B\\\u001B[2m:\u001B[0m\u001B]8;id=822523;file://C:\\Users\\kyawk\\Desktop\\robustness_of_gnns_at_scale-main\\experiments\\experiment_local_attack_direct.py#194\u001B\\\u001B[2m194\u001B[0m\u001B]8;;\u001B\\\n\u001B[2;36m                    \u001B[0m         with pert. edges for node \u001B[1;36m475\u001B[0m and budget \u001B[1;36m2\u001B[0m:      \u001B[2m                                     \u001B[0m\n",
      "text/html": "<pre style=\"white-space:pre;overflow-x:auto;line-height:normal;font-family:Menlo,'DejaVu Sans Mono',consolas,'Courier New',monospace\"><span style=\"color: #7fbfbf; text-decoration-color: #7fbfbf\">[02/11/25 18:40:48] </span><span style=\"color: #000080; text-decoration-color: #000080\">INFO    </span> Evaluated model Vanilla GCN using LocalPRBCD     <a href=\"file://C:\\Users\\kyawk\\Desktop\\robustness_of_gnns_at_scale-main\\experiments\\experiment_local_attack_direct.py\" target=\"_blank\"><span style=\"color: #7f7f7f; text-decoration-color: #7f7f7f\">experiment_local_attack_direct.py</span></a><span style=\"color: #7f7f7f; text-decoration-color: #7f7f7f\">:</span><a href=\"file://C:\\Users\\kyawk\\Desktop\\robustness_of_gnns_at_scale-main\\experiments\\experiment_local_attack_direct.py#194\" target=\"_blank\"><span style=\"color: #7f7f7f; text-decoration-color: #7f7f7f\">194</span></a>\n<span style=\"color: #7fbfbf; text-decoration-color: #7fbfbf\">                    </span>         with pert. edges for node <span style=\"color: #008080; text-decoration-color: #008080; font-weight: bold\">475</span> and budget <span style=\"color: #008080; text-decoration-color: #008080; font-weight: bold\">2</span>:      <span style=\"color: #7f7f7f; text-decoration-color: #7f7f7f\">                                     </span>\n</pre>\n"
     },
     "metadata": {},
     "output_type": "display_data"
    },
    {
     "data": {
      "text/plain": "\u001B[2;36m                   \u001B[0m\u001B[2;36m \u001B[0m\u001B[34mINFO    \u001B[0m \u001B[1m{\u001B[0m\u001B[32m'label'\u001B[0m: \u001B[32m'Vanilla GCN'\u001B[0m, \u001B[32m'epsilon'\u001B[0m: \u001B[1;36m1\u001B[0m,           \u001B]8;id=198887;file://C:\\Users\\kyawk\\Desktop\\robustness_of_gnns_at_scale-main\\experiments\\experiment_local_attack_direct.py\u001B\\\u001B[2mexperiment_local_attack_direct.py\u001B[0m\u001B]8;;\u001B\\\u001B[2m:\u001B[0m\u001B]8;id=820816;file://C:\\Users\\kyawk\\Desktop\\robustness_of_gnns_at_scale-main\\experiments\\experiment_local_attack_direct.py#215\u001B\\\u001B[2m215\u001B[0m\u001B]8;;\u001B\\\n\u001B[2;36m                    \u001B[0m         \u001B[32m'n_perturbations'\u001B[0m: \u001B[1;36m2\u001B[0m, \u001B[32m'degree'\u001B[0m: \u001B[1;36m2\u001B[0m, \u001B[32m'logits'\u001B[0m:     \u001B[2m                                     \u001B[0m\n\u001B[2;36m                    \u001B[0m         \u001B[1m[\u001B[0m\u001B[1m[\u001B[0m\u001B[1;36m-0.38047271966934204\u001B[0m, \u001B[1;36m-1.1544053554534912\u001B[0m,     \u001B[2m                                     \u001B[0m\n\u001B[2;36m                    \u001B[0m         \u001B[1;36m2.002333641052246\u001B[0m, \u001B[1;36m-1.7317389249801636\u001B[0m,          \u001B[2m                                     \u001B[0m\n\u001B[2;36m                    \u001B[0m         \u001B[1;36m-1.1030933856964111\u001B[0m, \u001B[1;36m3.3255245685577393\u001B[0m,         \u001B[2m                                     \u001B[0m\n\u001B[2;36m                    \u001B[0m         \u001B[1;36m-1.1557444334030151\u001B[0m\u001B[1m]\u001B[0m\u001B[1m]\u001B[0m, \u001B[32m'initial_logits'\u001B[0m:         \u001B[2m                                     \u001B[0m\n\u001B[2;36m                    \u001B[0m         \u001B[1m[\u001B[0m\u001B[1m[\u001B[0m\u001B[1;36m-1.2872095108032227\u001B[0m, \u001B[1;36m-2.1758718490600586\u001B[0m,      \u001B[2m                                     \u001B[0m\n\u001B[2;36m                    \u001B[0m         \u001B[1;36m8.604674339294434\u001B[0m, \u001B[1;36m-1.3943006992340088\u001B[0m,          \u001B[2m                                     \u001B[0m\n\u001B[2;36m                    \u001B[0m         \u001B[1;36m-1.273367166519165\u001B[0m, \u001B[1;36m-1.280266284942627\u001B[0m,          \u001B[2m                                     \u001B[0m\n\u001B[2;36m                    \u001B[0m         \u001B[1;36m-1.3798474073410034\u001B[0m\u001B[1m]\u001B[0m\u001B[1m]\u001B[0m, \u001B[32m'larget'\u001B[0m: \u001B[1;36m2\u001B[0m, \u001B[32m'node_id'\u001B[0m:   \u001B[2m                                     \u001B[0m\n\u001B[2;36m                    \u001B[0m         \u001B[1;36m475\u001B[0m, \u001B[32m'perturbed_edges'\u001B[0m: \u001B[1m[\u001B[0m\u001B[1m[\u001B[0m\u001B[1;36m475\u001B[0m, \u001B[1;36m475\u001B[0m\u001B[1m]\u001B[0m, \u001B[1m[\u001B[0m\u001B[1;36m1244\u001B[0m,      \u001B[2m                                     \u001B[0m\n\u001B[2;36m                    \u001B[0m         \u001B[1;36m1590\u001B[0m\u001B[1m]\u001B[0m\u001B[1m]\u001B[0m, \u001B[32m'logit_target'\u001B[0m: \u001B[1;36m-1.6097277402877808\u001B[0m,     \u001B[2m                                     \u001B[0m\n\u001B[2;36m                    \u001B[0m         \u001B[32m'logit_best_non_target'\u001B[0m: \u001B[1;36m-0.2865367829799652\u001B[0m,    \u001B[2m                                     \u001B[0m\n\u001B[2;36m                    \u001B[0m         \u001B[32m'confidence_target'\u001B[0m: \u001B[1;36m0.19994204282847095\u001B[0m,        \u001B[2m                                     \u001B[0m\n\u001B[2;36m                    \u001B[0m         \u001B[32m'confidence_non_target'\u001B[0m: \u001B[1;36m0.7508594591746887\u001B[0m,     \u001B[2m                                     \u001B[0m\n\u001B[2;36m                    \u001B[0m         \u001B[32m'margin'\u001B[0m: \u001B[1;36m-0.5509174163462177\u001B[0m,                   \u001B[2m                                     \u001B[0m\n\u001B[2;36m                    \u001B[0m         \u001B[32m'initial_logit_target'\u001B[0m: \u001B[1;36m-0.0002650863316375762\u001B[0m,  \u001B[2m                                     \u001B[0m\n\u001B[2;36m                    \u001B[0m         \u001B[32m'initial_logit_best_non_target'\u001B[0m:                 \u001B[2m                                     \u001B[0m\n\u001B[2;36m                    \u001B[0m         \u001B[1;36m-9.87830638885498\u001B[0m, \u001B[32m'initial_confidence_target'\u001B[0m:  \u001B[2m                                     \u001B[0m\n\u001B[2;36m                    \u001B[0m         \u001B[1;36m0.9997349488006396\u001B[0m,                              \u001B[2m                                     \u001B[0m\n\u001B[2;36m                    \u001B[0m         \u001B[32m'initial_confidence_non_target'\u001B[0m:                 \u001B[2m                                     \u001B[0m\n\u001B[2;36m                    \u001B[0m         \u001B[1;36m5.127504436062899e-05\u001B[0m, \u001B[32m'initial_margin'\u001B[0m:         \u001B[2m                                     \u001B[0m\n\u001B[2;36m                    \u001B[0m         \u001B[1;36m0.999683673756279\u001B[0m\u001B[1m}\u001B[0m                               \u001B[2m                                     \u001B[0m\n",
      "text/html": "<pre style=\"white-space:pre;overflow-x:auto;line-height:normal;font-family:Menlo,'DejaVu Sans Mono',consolas,'Courier New',monospace\"><span style=\"color: #7fbfbf; text-decoration-color: #7fbfbf\">                    </span><span style=\"color: #000080; text-decoration-color: #000080\">INFO    </span> <span style=\"font-weight: bold\">{</span><span style=\"color: #008000; text-decoration-color: #008000\">'label'</span>: <span style=\"color: #008000; text-decoration-color: #008000\">'Vanilla GCN'</span>, <span style=\"color: #008000; text-decoration-color: #008000\">'epsilon'</span>: <span style=\"color: #008080; text-decoration-color: #008080; font-weight: bold\">1</span>,           <a href=\"file://C:\\Users\\kyawk\\Desktop\\robustness_of_gnns_at_scale-main\\experiments\\experiment_local_attack_direct.py\" target=\"_blank\"><span style=\"color: #7f7f7f; text-decoration-color: #7f7f7f\">experiment_local_attack_direct.py</span></a><span style=\"color: #7f7f7f; text-decoration-color: #7f7f7f\">:</span><a href=\"file://C:\\Users\\kyawk\\Desktop\\robustness_of_gnns_at_scale-main\\experiments\\experiment_local_attack_direct.py#215\" target=\"_blank\"><span style=\"color: #7f7f7f; text-decoration-color: #7f7f7f\">215</span></a>\n<span style=\"color: #7fbfbf; text-decoration-color: #7fbfbf\">                    </span>         <span style=\"color: #008000; text-decoration-color: #008000\">'n_perturbations'</span>: <span style=\"color: #008080; text-decoration-color: #008080; font-weight: bold\">2</span>, <span style=\"color: #008000; text-decoration-color: #008000\">'degree'</span>: <span style=\"color: #008080; text-decoration-color: #008080; font-weight: bold\">2</span>, <span style=\"color: #008000; text-decoration-color: #008000\">'logits'</span>:     <span style=\"color: #7f7f7f; text-decoration-color: #7f7f7f\">                                     </span>\n<span style=\"color: #7fbfbf; text-decoration-color: #7fbfbf\">                    </span>         <span style=\"font-weight: bold\">[[</span><span style=\"color: #008080; text-decoration-color: #008080; font-weight: bold\">-0.38047271966934204</span>, <span style=\"color: #008080; text-decoration-color: #008080; font-weight: bold\">-1.1544053554534912</span>,     <span style=\"color: #7f7f7f; text-decoration-color: #7f7f7f\">                                     </span>\n<span style=\"color: #7fbfbf; text-decoration-color: #7fbfbf\">                    </span>         <span style=\"color: #008080; text-decoration-color: #008080; font-weight: bold\">2.002333641052246</span>, <span style=\"color: #008080; text-decoration-color: #008080; font-weight: bold\">-1.7317389249801636</span>,          <span style=\"color: #7f7f7f; text-decoration-color: #7f7f7f\">                                     </span>\n<span style=\"color: #7fbfbf; text-decoration-color: #7fbfbf\">                    </span>         <span style=\"color: #008080; text-decoration-color: #008080; font-weight: bold\">-1.1030933856964111</span>, <span style=\"color: #008080; text-decoration-color: #008080; font-weight: bold\">3.3255245685577393</span>,         <span style=\"color: #7f7f7f; text-decoration-color: #7f7f7f\">                                     </span>\n<span style=\"color: #7fbfbf; text-decoration-color: #7fbfbf\">                    </span>         <span style=\"color: #008080; text-decoration-color: #008080; font-weight: bold\">-1.1557444334030151</span><span style=\"font-weight: bold\">]]</span>, <span style=\"color: #008000; text-decoration-color: #008000\">'initial_logits'</span>:         <span style=\"color: #7f7f7f; text-decoration-color: #7f7f7f\">                                     </span>\n<span style=\"color: #7fbfbf; text-decoration-color: #7fbfbf\">                    </span>         <span style=\"font-weight: bold\">[[</span><span style=\"color: #008080; text-decoration-color: #008080; font-weight: bold\">-1.2872095108032227</span>, <span style=\"color: #008080; text-decoration-color: #008080; font-weight: bold\">-2.1758718490600586</span>,      <span style=\"color: #7f7f7f; text-decoration-color: #7f7f7f\">                                     </span>\n<span style=\"color: #7fbfbf; text-decoration-color: #7fbfbf\">                    </span>         <span style=\"color: #008080; text-decoration-color: #008080; font-weight: bold\">8.604674339294434</span>, <span style=\"color: #008080; text-decoration-color: #008080; font-weight: bold\">-1.3943006992340088</span>,          <span style=\"color: #7f7f7f; text-decoration-color: #7f7f7f\">                                     </span>\n<span style=\"color: #7fbfbf; text-decoration-color: #7fbfbf\">                    </span>         <span style=\"color: #008080; text-decoration-color: #008080; font-weight: bold\">-1.273367166519165</span>, <span style=\"color: #008080; text-decoration-color: #008080; font-weight: bold\">-1.280266284942627</span>,          <span style=\"color: #7f7f7f; text-decoration-color: #7f7f7f\">                                     </span>\n<span style=\"color: #7fbfbf; text-decoration-color: #7fbfbf\">                    </span>         <span style=\"color: #008080; text-decoration-color: #008080; font-weight: bold\">-1.3798474073410034</span><span style=\"font-weight: bold\">]]</span>, <span style=\"color: #008000; text-decoration-color: #008000\">'larget'</span>: <span style=\"color: #008080; text-decoration-color: #008080; font-weight: bold\">2</span>, <span style=\"color: #008000; text-decoration-color: #008000\">'node_id'</span>:   <span style=\"color: #7f7f7f; text-decoration-color: #7f7f7f\">                                     </span>\n<span style=\"color: #7fbfbf; text-decoration-color: #7fbfbf\">                    </span>         <span style=\"color: #008080; text-decoration-color: #008080; font-weight: bold\">475</span>, <span style=\"color: #008000; text-decoration-color: #008000\">'perturbed_edges'</span>: <span style=\"font-weight: bold\">[[</span><span style=\"color: #008080; text-decoration-color: #008080; font-weight: bold\">475</span>, <span style=\"color: #008080; text-decoration-color: #008080; font-weight: bold\">475</span><span style=\"font-weight: bold\">]</span>, <span style=\"font-weight: bold\">[</span><span style=\"color: #008080; text-decoration-color: #008080; font-weight: bold\">1244</span>,      <span style=\"color: #7f7f7f; text-decoration-color: #7f7f7f\">                                     </span>\n<span style=\"color: #7fbfbf; text-decoration-color: #7fbfbf\">                    </span>         <span style=\"color: #008080; text-decoration-color: #008080; font-weight: bold\">1590</span><span style=\"font-weight: bold\">]]</span>, <span style=\"color: #008000; text-decoration-color: #008000\">'logit_target'</span>: <span style=\"color: #008080; text-decoration-color: #008080; font-weight: bold\">-1.6097277402877808</span>,     <span style=\"color: #7f7f7f; text-decoration-color: #7f7f7f\">                                     </span>\n<span style=\"color: #7fbfbf; text-decoration-color: #7fbfbf\">                    </span>         <span style=\"color: #008000; text-decoration-color: #008000\">'logit_best_non_target'</span>: <span style=\"color: #008080; text-decoration-color: #008080; font-weight: bold\">-0.2865367829799652</span>,    <span style=\"color: #7f7f7f; text-decoration-color: #7f7f7f\">                                     </span>\n<span style=\"color: #7fbfbf; text-decoration-color: #7fbfbf\">                    </span>         <span style=\"color: #008000; text-decoration-color: #008000\">'confidence_target'</span>: <span style=\"color: #008080; text-decoration-color: #008080; font-weight: bold\">0.19994204282847095</span>,        <span style=\"color: #7f7f7f; text-decoration-color: #7f7f7f\">                                     </span>\n<span style=\"color: #7fbfbf; text-decoration-color: #7fbfbf\">                    </span>         <span style=\"color: #008000; text-decoration-color: #008000\">'confidence_non_target'</span>: <span style=\"color: #008080; text-decoration-color: #008080; font-weight: bold\">0.7508594591746887</span>,     <span style=\"color: #7f7f7f; text-decoration-color: #7f7f7f\">                                     </span>\n<span style=\"color: #7fbfbf; text-decoration-color: #7fbfbf\">                    </span>         <span style=\"color: #008000; text-decoration-color: #008000\">'margin'</span>: <span style=\"color: #008080; text-decoration-color: #008080; font-weight: bold\">-0.5509174163462177</span>,                   <span style=\"color: #7f7f7f; text-decoration-color: #7f7f7f\">                                     </span>\n<span style=\"color: #7fbfbf; text-decoration-color: #7fbfbf\">                    </span>         <span style=\"color: #008000; text-decoration-color: #008000\">'initial_logit_target'</span>: <span style=\"color: #008080; text-decoration-color: #008080; font-weight: bold\">-0.0002650863316375762</span>,  <span style=\"color: #7f7f7f; text-decoration-color: #7f7f7f\">                                     </span>\n<span style=\"color: #7fbfbf; text-decoration-color: #7fbfbf\">                    </span>         <span style=\"color: #008000; text-decoration-color: #008000\">'initial_logit_best_non_target'</span>:                 <span style=\"color: #7f7f7f; text-decoration-color: #7f7f7f\">                                     </span>\n<span style=\"color: #7fbfbf; text-decoration-color: #7fbfbf\">                    </span>         <span style=\"color: #008080; text-decoration-color: #008080; font-weight: bold\">-9.87830638885498</span>, <span style=\"color: #008000; text-decoration-color: #008000\">'initial_confidence_target'</span>:  <span style=\"color: #7f7f7f; text-decoration-color: #7f7f7f\">                                     </span>\n<span style=\"color: #7fbfbf; text-decoration-color: #7fbfbf\">                    </span>         <span style=\"color: #008080; text-decoration-color: #008080; font-weight: bold\">0.9997349488006396</span>,                              <span style=\"color: #7f7f7f; text-decoration-color: #7f7f7f\">                                     </span>\n<span style=\"color: #7fbfbf; text-decoration-color: #7fbfbf\">                    </span>         <span style=\"color: #008000; text-decoration-color: #008000\">'initial_confidence_non_target'</span>:                 <span style=\"color: #7f7f7f; text-decoration-color: #7f7f7f\">                                     </span>\n<span style=\"color: #7fbfbf; text-decoration-color: #7fbfbf\">                    </span>         <span style=\"color: #008080; text-decoration-color: #008080; font-weight: bold\">5.127504436062899e-05</span>, <span style=\"color: #008000; text-decoration-color: #008000\">'initial_margin'</span>:         <span style=\"color: #7f7f7f; text-decoration-color: #7f7f7f\">                                     </span>\n<span style=\"color: #7fbfbf; text-decoration-color: #7fbfbf\">                    </span>         <span style=\"color: #008080; text-decoration-color: #008080; font-weight: bold\">0.999683673756279</span><span style=\"font-weight: bold\">}</span>                               <span style=\"color: #7f7f7f; text-decoration-color: #7f7f7f\">                                     </span>\n</pre>\n"
     },
     "metadata": {},
     "output_type": "display_data"
    },
    {
     "data": {
      "text/plain": "\u001B[2;36m                   \u001B[0m\u001B[2;36m \u001B[0m\u001B[34mINFO    \u001B[0m Completed attack and evaluation of Vanilla GCN   \u001B]8;id=933392;file://C:\\Users\\kyawk\\Desktop\\robustness_of_gnns_at_scale-main\\experiments\\experiment_local_attack_direct.py\u001B\\\u001B[2mexperiment_local_attack_direct.py\u001B[0m\u001B]8;;\u001B\\\u001B[2m:\u001B[0m\u001B]8;id=808033;file://C:\\Users\\kyawk\\Desktop\\robustness_of_gnns_at_scale-main\\experiments\\experiment_local_attack_direct.py#216\u001B\\\u001B[2m216\u001B[0m\u001B]8;;\u001B\\\n\u001B[2;36m                    \u001B[0m         using LocalPRBCD with pert. edges for node \u001B[1;36m475\u001B[0m   \u001B[2m                                     \u001B[0m\n\u001B[2;36m                    \u001B[0m         and budget \u001B[1;36m2\u001B[0m                                     \u001B[2m                                     \u001B[0m\n",
      "text/html": "<pre style=\"white-space:pre;overflow-x:auto;line-height:normal;font-family:Menlo,'DejaVu Sans Mono',consolas,'Courier New',monospace\"><span style=\"color: #7fbfbf; text-decoration-color: #7fbfbf\">                    </span><span style=\"color: #000080; text-decoration-color: #000080\">INFO    </span> Completed attack and evaluation of Vanilla GCN   <a href=\"file://C:\\Users\\kyawk\\Desktop\\robustness_of_gnns_at_scale-main\\experiments\\experiment_local_attack_direct.py\" target=\"_blank\"><span style=\"color: #7f7f7f; text-decoration-color: #7f7f7f\">experiment_local_attack_direct.py</span></a><span style=\"color: #7f7f7f; text-decoration-color: #7f7f7f\">:</span><a href=\"file://C:\\Users\\kyawk\\Desktop\\robustness_of_gnns_at_scale-main\\experiments\\experiment_local_attack_direct.py#216\" target=\"_blank\"><span style=\"color: #7f7f7f; text-decoration-color: #7f7f7f\">216</span></a>\n<span style=\"color: #7fbfbf; text-decoration-color: #7fbfbf\">                    </span>         using LocalPRBCD with pert. edges for node <span style=\"color: #008080; text-decoration-color: #008080; font-weight: bold\">475</span>   <span style=\"color: #7f7f7f; text-decoration-color: #7f7f7f\">                                     </span>\n<span style=\"color: #7fbfbf; text-decoration-color: #7fbfbf\">                    </span>         and budget <span style=\"color: #008080; text-decoration-color: #008080; font-weight: bold\">2</span>                                     <span style=\"color: #7f7f7f; text-decoration-color: #7f7f7f\">                                     </span>\n</pre>\n"
     },
     "metadata": {},
     "output_type": "display_data"
    },
    {
     "data": {
      "text/plain": "\u001B[2;36m[02/11/25 18:40:49]\u001B[0m\u001B[2;36m \u001B[0m\u001B[34mINFO    \u001B[0m Original: Loss: \u001B[1;36m-0.23161283135414124\u001B[0m Statstics: \u001B[1m{\u001B[0m\u001B[32m'logit_target'\u001B[0m:     \u001B]8;id=616043;file://C:\\Users\\kyawk\\Desktop\\robustness_of_gnns_at_scale-main\\rgnn_at_scale\\attacks\\local_prbcd.py\u001B\\\u001B[2mlocal_prbcd.py\u001B[0m\u001B]8;;\u001B\\\u001B[2m:\u001B[0m\u001B]8;id=33552;file://C:\\Users\\kyawk\\Desktop\\robustness_of_gnns_at_scale-main\\rgnn_at_scale\\attacks\\local_prbcd.py#74\u001B\\\u001B[2m74\u001B[0m\u001B]8;;\u001B\\\n\u001B[2;36m                    \u001B[0m         \u001B[1;36m-1.4674010276794434\u001B[0m, \u001B[32m'logit_best_non_target'\u001B[0m: \u001B[1;36m-1.6990138292312622\u001B[0m,   \u001B[2m                 \u001B[0m\n\u001B[2;36m                    \u001B[0m         \u001B[32m'confidence_target'\u001B[0m: \u001B[1;36m0.2305238323655902\u001B[0m, \u001B[32m'confidence_non_target'\u001B[0m:    \u001B[2m                 \u001B[0m\n\u001B[2;36m                    \u001B[0m         \u001B[1;36m0.18286377006615234\u001B[0m, \u001B[32m'margin'\u001B[0m: \u001B[1;36m0.047660062299437866\u001B[0m\u001B[1m}\u001B[0m                 \u001B[2m                 \u001B[0m\n\u001B[2;36m                    \u001B[0m                                                                              \u001B[2m                 \u001B[0m\n",
      "text/html": "<pre style=\"white-space:pre;overflow-x:auto;line-height:normal;font-family:Menlo,'DejaVu Sans Mono',consolas,'Courier New',monospace\"><span style=\"color: #7fbfbf; text-decoration-color: #7fbfbf\">[02/11/25 18:40:49] </span><span style=\"color: #000080; text-decoration-color: #000080\">INFO    </span> Original: Loss: <span style=\"color: #008080; text-decoration-color: #008080; font-weight: bold\">-0.23161283135414124</span> Statstics: <span style=\"font-weight: bold\">{</span><span style=\"color: #008000; text-decoration-color: #008000\">'logit_target'</span>:     <a href=\"file://C:\\Users\\kyawk\\Desktop\\robustness_of_gnns_at_scale-main\\rgnn_at_scale\\attacks\\local_prbcd.py\" target=\"_blank\"><span style=\"color: #7f7f7f; text-decoration-color: #7f7f7f\">local_prbcd.py</span></a><span style=\"color: #7f7f7f; text-decoration-color: #7f7f7f\">:</span><a href=\"file://C:\\Users\\kyawk\\Desktop\\robustness_of_gnns_at_scale-main\\rgnn_at_scale\\attacks\\local_prbcd.py#74\" target=\"_blank\"><span style=\"color: #7f7f7f; text-decoration-color: #7f7f7f\">74</span></a>\n<span style=\"color: #7fbfbf; text-decoration-color: #7fbfbf\">                    </span>         <span style=\"color: #008080; text-decoration-color: #008080; font-weight: bold\">-1.4674010276794434</span>, <span style=\"color: #008000; text-decoration-color: #008000\">'logit_best_non_target'</span>: <span style=\"color: #008080; text-decoration-color: #008080; font-weight: bold\">-1.6990138292312622</span>,   <span style=\"color: #7f7f7f; text-decoration-color: #7f7f7f\">                 </span>\n<span style=\"color: #7fbfbf; text-decoration-color: #7fbfbf\">                    </span>         <span style=\"color: #008000; text-decoration-color: #008000\">'confidence_target'</span>: <span style=\"color: #008080; text-decoration-color: #008080; font-weight: bold\">0.2305238323655902</span>, <span style=\"color: #008000; text-decoration-color: #008000\">'confidence_non_target'</span>:    <span style=\"color: #7f7f7f; text-decoration-color: #7f7f7f\">                 </span>\n<span style=\"color: #7fbfbf; text-decoration-color: #7fbfbf\">                    </span>         <span style=\"color: #008080; text-decoration-color: #008080; font-weight: bold\">0.18286377006615234</span>, <span style=\"color: #008000; text-decoration-color: #008000\">'margin'</span>: <span style=\"color: #008080; text-decoration-color: #008080; font-weight: bold\">0.047660062299437866</span><span style=\"font-weight: bold\">}</span>                 <span style=\"color: #7f7f7f; text-decoration-color: #7f7f7f\">                 </span>\n<span style=\"color: #7fbfbf; text-decoration-color: #7fbfbf\">                    </span>                                                                              <span style=\"color: #7f7f7f; text-decoration-color: #7f7f7f\">                 </span>\n</pre>\n"
     },
     "metadata": {},
     "output_type": "display_data"
    },
    {
     "name": "stderr",
     "output_type": "stream",
     "text": [
      "  0%|          | 0/50 [00:00<?, ?it/s]"
     ]
    },
    {
     "data": {
      "text/plain": "\u001B[2;36m                   \u001B[0m\u001B[2;36m \u001B[0m\u001B[34mINFO    \u001B[0m Initial: Loss: \u001B[1;36m-0.23161283135414124\u001B[0m Statstics: \u001B[1m{\u001B[0m\u001B[32m'logit_target'\u001B[0m:      \u001B]8;id=402681;file://C:\\Users\\kyawk\\Desktop\\robustness_of_gnns_at_scale-main\\rgnn_at_scale\\attacks\\local_prbcd.py\u001B\\\u001B[2mlocal_prbcd.py\u001B[0m\u001B]8;;\u001B\\\u001B[2m:\u001B[0m\u001B]8;id=578988;file://C:\\Users\\kyawk\\Desktop\\robustness_of_gnns_at_scale-main\\rgnn_at_scale\\attacks\\local_prbcd.py#92\u001B\\\u001B[2m92\u001B[0m\u001B]8;;\u001B\\\n\u001B[2;36m                    \u001B[0m         \u001B[1;36m-1.4674010276794434\u001B[0m, \u001B[32m'logit_best_non_target'\u001B[0m: \u001B[1;36m-1.6990138292312622\u001B[0m,   \u001B[2m                 \u001B[0m\n\u001B[2;36m                    \u001B[0m         \u001B[32m'confidence_target'\u001B[0m: \u001B[1;36m0.2305238323655902\u001B[0m, \u001B[32m'confidence_non_target'\u001B[0m:    \u001B[2m                 \u001B[0m\n\u001B[2;36m                    \u001B[0m         \u001B[1;36m0.18286377006615234\u001B[0m, \u001B[32m'margin'\u001B[0m: \u001B[1;36m0.047660062299437866\u001B[0m\u001B[1m}\u001B[0m                 \u001B[2m                 \u001B[0m\n\u001B[2;36m                    \u001B[0m                                                                              \u001B[2m                 \u001B[0m\n",
      "text/html": "<pre style=\"white-space:pre;overflow-x:auto;line-height:normal;font-family:Menlo,'DejaVu Sans Mono',consolas,'Courier New',monospace\"><span style=\"color: #7fbfbf; text-decoration-color: #7fbfbf\">                    </span><span style=\"color: #000080; text-decoration-color: #000080\">INFO    </span> Initial: Loss: <span style=\"color: #008080; text-decoration-color: #008080; font-weight: bold\">-0.23161283135414124</span> Statstics: <span style=\"font-weight: bold\">{</span><span style=\"color: #008000; text-decoration-color: #008000\">'logit_target'</span>:      <a href=\"file://C:\\Users\\kyawk\\Desktop\\robustness_of_gnns_at_scale-main\\rgnn_at_scale\\attacks\\local_prbcd.py\" target=\"_blank\"><span style=\"color: #7f7f7f; text-decoration-color: #7f7f7f\">local_prbcd.py</span></a><span style=\"color: #7f7f7f; text-decoration-color: #7f7f7f\">:</span><a href=\"file://C:\\Users\\kyawk\\Desktop\\robustness_of_gnns_at_scale-main\\rgnn_at_scale\\attacks\\local_prbcd.py#92\" target=\"_blank\"><span style=\"color: #7f7f7f; text-decoration-color: #7f7f7f\">92</span></a>\n<span style=\"color: #7fbfbf; text-decoration-color: #7fbfbf\">                    </span>         <span style=\"color: #008080; text-decoration-color: #008080; font-weight: bold\">-1.4674010276794434</span>, <span style=\"color: #008000; text-decoration-color: #008000\">'logit_best_non_target'</span>: <span style=\"color: #008080; text-decoration-color: #008080; font-weight: bold\">-1.6990138292312622</span>,   <span style=\"color: #7f7f7f; text-decoration-color: #7f7f7f\">                 </span>\n<span style=\"color: #7fbfbf; text-decoration-color: #7fbfbf\">                    </span>         <span style=\"color: #008000; text-decoration-color: #008000\">'confidence_target'</span>: <span style=\"color: #008080; text-decoration-color: #008080; font-weight: bold\">0.2305238323655902</span>, <span style=\"color: #008000; text-decoration-color: #008000\">'confidence_non_target'</span>:    <span style=\"color: #7f7f7f; text-decoration-color: #7f7f7f\">                 </span>\n<span style=\"color: #7fbfbf; text-decoration-color: #7fbfbf\">                    </span>         <span style=\"color: #008080; text-decoration-color: #008080; font-weight: bold\">0.18286377006615234</span>, <span style=\"color: #008000; text-decoration-color: #008000\">'margin'</span>: <span style=\"color: #008080; text-decoration-color: #008080; font-weight: bold\">0.047660062299437866</span><span style=\"font-weight: bold\">}</span>                 <span style=\"color: #7f7f7f; text-decoration-color: #7f7f7f\">                 </span>\n<span style=\"color: #7fbfbf; text-decoration-color: #7fbfbf\">                    </span>                                                                              <span style=\"color: #7f7f7f; text-decoration-color: #7f7f7f\">                 </span>\n</pre>\n"
     },
     "metadata": {},
     "output_type": "display_data"
    },
    {
     "data": {
      "text/plain": "\u001B[2;36m[02/11/25 18:40:50]\u001B[0m\u001B[2;36m \u001B[0m\u001B[34mINFO    \u001B[0m                                                                     \u001B]8;id=776150;file://C:\\Users\\kyawk\\Desktop\\robustness_of_gnns_at_scale-main\\rgnn_at_scale\\attacks\\local_prbcd.py\u001B\\\u001B[2mlocal_prbcd.py\u001B[0m\u001B]8;;\u001B\\\u001B[2m:\u001B[0m\u001B]8;id=213186;file://C:\\Users\\kyawk\\Desktop\\robustness_of_gnns_at_scale-main\\rgnn_at_scale\\attacks\\local_prbcd.py#113\u001B\\\u001B[2m113\u001B[0m\u001B]8;;\u001B\\\n\u001B[2;36m                    \u001B[0m         Epoch: \u001B[1;36m0\u001B[0m Loss: \u001B[1;36m-0.23161283135414124\u001B[0m Statstics: \u001B[1m{\u001B[0m\u001B[32m'logit_target'\u001B[0m:     \u001B[2m                  \u001B[0m\n\u001B[2;36m                    \u001B[0m         \u001B[1;36m-1.6268970966339111\u001B[0m, \u001B[32m'logit_best_non_target'\u001B[0m: \u001B[1;36m-1.6143126487731934\u001B[0m,  \u001B[2m                  \u001B[0m\n\u001B[2;36m                    \u001B[0m         \u001B[32m'confidence_target'\u001B[0m: \u001B[1;36m0.19653846884418108\u001B[0m, \u001B[32m'confidence_non_target'\u001B[0m:  \u001B[2m                  \u001B[0m\n\u001B[2;36m                    \u001B[0m         \u001B[1;36m0.19902742518103259\u001B[0m, \u001B[32m'margin'\u001B[0m: \u001B[1;36m-0.0024889563368515055\u001B[0m\u001B[1m}\u001B[0m              \u001B[2m                  \u001B[0m\n\u001B[2;36m                    \u001B[0m                                                                             \u001B[2m                  \u001B[0m\n",
      "text/html": "<pre style=\"white-space:pre;overflow-x:auto;line-height:normal;font-family:Menlo,'DejaVu Sans Mono',consolas,'Courier New',monospace\"><span style=\"color: #7fbfbf; text-decoration-color: #7fbfbf\">[02/11/25 18:40:50] </span><span style=\"color: #000080; text-decoration-color: #000080\">INFO    </span>                                                                     <a href=\"file://C:\\Users\\kyawk\\Desktop\\robustness_of_gnns_at_scale-main\\rgnn_at_scale\\attacks\\local_prbcd.py\" target=\"_blank\"><span style=\"color: #7f7f7f; text-decoration-color: #7f7f7f\">local_prbcd.py</span></a><span style=\"color: #7f7f7f; text-decoration-color: #7f7f7f\">:</span><a href=\"file://C:\\Users\\kyawk\\Desktop\\robustness_of_gnns_at_scale-main\\rgnn_at_scale\\attacks\\local_prbcd.py#113\" target=\"_blank\"><span style=\"color: #7f7f7f; text-decoration-color: #7f7f7f\">113</span></a>\n<span style=\"color: #7fbfbf; text-decoration-color: #7fbfbf\">                    </span>         Epoch: <span style=\"color: #008080; text-decoration-color: #008080; font-weight: bold\">0</span> Loss: <span style=\"color: #008080; text-decoration-color: #008080; font-weight: bold\">-0.23161283135414124</span> Statstics: <span style=\"font-weight: bold\">{</span><span style=\"color: #008000; text-decoration-color: #008000\">'logit_target'</span>:     <span style=\"color: #7f7f7f; text-decoration-color: #7f7f7f\">                  </span>\n<span style=\"color: #7fbfbf; text-decoration-color: #7fbfbf\">                    </span>         <span style=\"color: #008080; text-decoration-color: #008080; font-weight: bold\">-1.6268970966339111</span>, <span style=\"color: #008000; text-decoration-color: #008000\">'logit_best_non_target'</span>: <span style=\"color: #008080; text-decoration-color: #008080; font-weight: bold\">-1.6143126487731934</span>,  <span style=\"color: #7f7f7f; text-decoration-color: #7f7f7f\">                  </span>\n<span style=\"color: #7fbfbf; text-decoration-color: #7fbfbf\">                    </span>         <span style=\"color: #008000; text-decoration-color: #008000\">'confidence_target'</span>: <span style=\"color: #008080; text-decoration-color: #008080; font-weight: bold\">0.19653846884418108</span>, <span style=\"color: #008000; text-decoration-color: #008000\">'confidence_non_target'</span>:  <span style=\"color: #7f7f7f; text-decoration-color: #7f7f7f\">                  </span>\n<span style=\"color: #7fbfbf; text-decoration-color: #7fbfbf\">                    </span>         <span style=\"color: #008080; text-decoration-color: #008080; font-weight: bold\">0.19902742518103259</span>, <span style=\"color: #008000; text-decoration-color: #008000\">'margin'</span>: <span style=\"color: #008080; text-decoration-color: #008080; font-weight: bold\">-0.0024889563368515055</span><span style=\"font-weight: bold\">}</span>              <span style=\"color: #7f7f7f; text-decoration-color: #7f7f7f\">                  </span>\n<span style=\"color: #7fbfbf; text-decoration-color: #7fbfbf\">                    </span>                                                                             <span style=\"color: #7f7f7f; text-decoration-color: #7f7f7f\">                  </span>\n</pre>\n"
     },
     "metadata": {},
     "output_type": "display_data"
    },
    {
     "data": {
      "text/plain": "\u001B[2;36m                   \u001B[0m\u001B[2;36m \u001B[0m\u001B[34mINFO    \u001B[0m Gradient mean \u001B[1;36m0.031823307275772095\u001B[0m std \u001B[1;36m0.0339963324368\u001B[0m with base    \u001B]8;id=336214;file://C:\\Users\\kyawk\\Desktop\\robustness_of_gnns_at_scale-main\\rgnn_at_scale\\attacks\\local_prbcd.py\u001B\\\u001B[2mlocal_prbcd.py\u001B[0m\u001B]8;;\u001B\\\u001B[2m:\u001B[0m\u001B]8;id=145035;file://C:\\Users\\kyawk\\Desktop\\robustness_of_gnns_at_scale-main\\rgnn_at_scale\\attacks\\local_prbcd.py#114\u001B\\\u001B[2m114\u001B[0m\u001B]8;;\u001B\\\n\u001B[2;36m                    \u001B[0m         learning rate \u001B[1;36m0.45\u001B[0m                                                  \u001B[2m                  \u001B[0m\n",
      "text/html": "<pre style=\"white-space:pre;overflow-x:auto;line-height:normal;font-family:Menlo,'DejaVu Sans Mono',consolas,'Courier New',monospace\"><span style=\"color: #7fbfbf; text-decoration-color: #7fbfbf\">                    </span><span style=\"color: #000080; text-decoration-color: #000080\">INFO    </span> Gradient mean <span style=\"color: #008080; text-decoration-color: #008080; font-weight: bold\">0.031823307275772095</span> std <span style=\"color: #008080; text-decoration-color: #008080; font-weight: bold\">0.0339963324368</span> with base    <a href=\"file://C:\\Users\\kyawk\\Desktop\\robustness_of_gnns_at_scale-main\\rgnn_at_scale\\attacks\\local_prbcd.py\" target=\"_blank\"><span style=\"color: #7f7f7f; text-decoration-color: #7f7f7f\">local_prbcd.py</span></a><span style=\"color: #7f7f7f; text-decoration-color: #7f7f7f\">:</span><a href=\"file://C:\\Users\\kyawk\\Desktop\\robustness_of_gnns_at_scale-main\\rgnn_at_scale\\attacks\\local_prbcd.py#114\" target=\"_blank\"><span style=\"color: #7f7f7f; text-decoration-color: #7f7f7f\">114</span></a>\n<span style=\"color: #7fbfbf; text-decoration-color: #7fbfbf\">                    </span>         learning rate <span style=\"color: #008080; text-decoration-color: #008080; font-weight: bold\">0.45</span>                                                  <span style=\"color: #7f7f7f; text-decoration-color: #7f7f7f\">                  </span>\n</pre>\n"
     },
     "metadata": {},
     "output_type": "display_data"
    },
    {
     "name": "stderr",
     "output_type": "stream",
     "text": [
      " 40%|████      | 20/50 [00:24<00:36,  1.22s/it]"
     ]
    },
    {
     "data": {
      "text/plain": "\u001B[2;36m[02/11/25 18:41:15]\u001B[0m\u001B[2;36m \u001B[0m\u001B[34mINFO    \u001B[0m                                                                     \u001B]8;id=420100;file://C:\\Users\\kyawk\\Desktop\\robustness_of_gnns_at_scale-main\\rgnn_at_scale\\attacks\\local_prbcd.py\u001B\\\u001B[2mlocal_prbcd.py\u001B[0m\u001B]8;;\u001B\\\u001B[2m:\u001B[0m\u001B]8;id=717277;file://C:\\Users\\kyawk\\Desktop\\robustness_of_gnns_at_scale-main\\rgnn_at_scale\\attacks\\local_prbcd.py#113\u001B\\\u001B[2m113\u001B[0m\u001B]8;;\u001B\\\n\u001B[2;36m                    \u001B[0m         Epoch: \u001B[1;36m20\u001B[0m Loss: \u001B[1;36m1.1733598709106445\u001B[0m Statstics: \u001B[1m{\u001B[0m\u001B[32m'logit_target'\u001B[0m:      \u001B[2m                  \u001B[0m\n\u001B[2;36m                    \u001B[0m         \u001B[1;36m-2.3142249584198\u001B[0m, \u001B[32m'logit_best_non_target'\u001B[0m: \u001B[1;36m-1.1254571676254272\u001B[0m,     \u001B[2m                  \u001B[0m\n\u001B[2;36m                    \u001B[0m         \u001B[32m'confidence_target'\u001B[0m: \u001B[1;36m0.09884276157301838\u001B[0m, \u001B[32m'confidence_non_target'\u001B[0m:  \u001B[2m                  \u001B[0m\n\u001B[2;36m                    \u001B[0m         \u001B[1;36m0.32450408068213504\u001B[0m, \u001B[32m'margin'\u001B[0m: \u001B[1;36m-0.22566131910911666\u001B[0m\u001B[1m}\u001B[0m                \u001B[2m                  \u001B[0m\n\u001B[2;36m                    \u001B[0m                                                                             \u001B[2m                  \u001B[0m\n",
      "text/html": "<pre style=\"white-space:pre;overflow-x:auto;line-height:normal;font-family:Menlo,'DejaVu Sans Mono',consolas,'Courier New',monospace\"><span style=\"color: #7fbfbf; text-decoration-color: #7fbfbf\">[02/11/25 18:41:15] </span><span style=\"color: #000080; text-decoration-color: #000080\">INFO    </span>                                                                     <a href=\"file://C:\\Users\\kyawk\\Desktop\\robustness_of_gnns_at_scale-main\\rgnn_at_scale\\attacks\\local_prbcd.py\" target=\"_blank\"><span style=\"color: #7f7f7f; text-decoration-color: #7f7f7f\">local_prbcd.py</span></a><span style=\"color: #7f7f7f; text-decoration-color: #7f7f7f\">:</span><a href=\"file://C:\\Users\\kyawk\\Desktop\\robustness_of_gnns_at_scale-main\\rgnn_at_scale\\attacks\\local_prbcd.py#113\" target=\"_blank\"><span style=\"color: #7f7f7f; text-decoration-color: #7f7f7f\">113</span></a>\n<span style=\"color: #7fbfbf; text-decoration-color: #7fbfbf\">                    </span>         Epoch: <span style=\"color: #008080; text-decoration-color: #008080; font-weight: bold\">20</span> Loss: <span style=\"color: #008080; text-decoration-color: #008080; font-weight: bold\">1.1733598709106445</span> Statstics: <span style=\"font-weight: bold\">{</span><span style=\"color: #008000; text-decoration-color: #008000\">'logit_target'</span>:      <span style=\"color: #7f7f7f; text-decoration-color: #7f7f7f\">                  </span>\n<span style=\"color: #7fbfbf; text-decoration-color: #7fbfbf\">                    </span>         <span style=\"color: #008080; text-decoration-color: #008080; font-weight: bold\">-2.3142249584198</span>, <span style=\"color: #008000; text-decoration-color: #008000\">'logit_best_non_target'</span>: <span style=\"color: #008080; text-decoration-color: #008080; font-weight: bold\">-1.1254571676254272</span>,     <span style=\"color: #7f7f7f; text-decoration-color: #7f7f7f\">                  </span>\n<span style=\"color: #7fbfbf; text-decoration-color: #7fbfbf\">                    </span>         <span style=\"color: #008000; text-decoration-color: #008000\">'confidence_target'</span>: <span style=\"color: #008080; text-decoration-color: #008080; font-weight: bold\">0.09884276157301838</span>, <span style=\"color: #008000; text-decoration-color: #008000\">'confidence_non_target'</span>:  <span style=\"color: #7f7f7f; text-decoration-color: #7f7f7f\">                  </span>\n<span style=\"color: #7fbfbf; text-decoration-color: #7fbfbf\">                    </span>         <span style=\"color: #008080; text-decoration-color: #008080; font-weight: bold\">0.32450408068213504</span>, <span style=\"color: #008000; text-decoration-color: #008000\">'margin'</span>: <span style=\"color: #008080; text-decoration-color: #008080; font-weight: bold\">-0.22566131910911666</span><span style=\"font-weight: bold\">}</span>                <span style=\"color: #7f7f7f; text-decoration-color: #7f7f7f\">                  </span>\n<span style=\"color: #7fbfbf; text-decoration-color: #7fbfbf\">                    </span>                                                                             <span style=\"color: #7f7f7f; text-decoration-color: #7f7f7f\">                  </span>\n</pre>\n"
     },
     "metadata": {},
     "output_type": "display_data"
    },
    {
     "data": {
      "text/plain": "\u001B[2;36m                   \u001B[0m\u001B[2;36m \u001B[0m\u001B[34mINFO    \u001B[0m Gradient mean \u001B[1;36m0.004999891854822636\u001B[0m std \u001B[1;36m0.01810719445347786\u001B[0m with     \u001B]8;id=154840;file://C:\\Users\\kyawk\\Desktop\\robustness_of_gnns_at_scale-main\\rgnn_at_scale\\attacks\\local_prbcd.py\u001B\\\u001B[2mlocal_prbcd.py\u001B[0m\u001B]8;;\u001B\\\u001B[2m:\u001B[0m\u001B]8;id=977851;file://C:\\Users\\kyawk\\Desktop\\robustness_of_gnns_at_scale-main\\rgnn_at_scale\\attacks\\local_prbcd.py#114\u001B\\\u001B[2m114\u001B[0m\u001B]8;;\u001B\\\n\u001B[2;36m                    \u001B[0m         base learning rate \u001B[1;36m0.45\u001B[0m                                             \u001B[2m                  \u001B[0m\n",
      "text/html": "<pre style=\"white-space:pre;overflow-x:auto;line-height:normal;font-family:Menlo,'DejaVu Sans Mono',consolas,'Courier New',monospace\"><span style=\"color: #7fbfbf; text-decoration-color: #7fbfbf\">                    </span><span style=\"color: #000080; text-decoration-color: #000080\">INFO    </span> Gradient mean <span style=\"color: #008080; text-decoration-color: #008080; font-weight: bold\">0.004999891854822636</span> std <span style=\"color: #008080; text-decoration-color: #008080; font-weight: bold\">0.01810719445347786</span> with     <a href=\"file://C:\\Users\\kyawk\\Desktop\\robustness_of_gnns_at_scale-main\\rgnn_at_scale\\attacks\\local_prbcd.py\" target=\"_blank\"><span style=\"color: #7f7f7f; text-decoration-color: #7f7f7f\">local_prbcd.py</span></a><span style=\"color: #7f7f7f; text-decoration-color: #7f7f7f\">:</span><a href=\"file://C:\\Users\\kyawk\\Desktop\\robustness_of_gnns_at_scale-main\\rgnn_at_scale\\attacks\\local_prbcd.py#114\" target=\"_blank\"><span style=\"color: #7f7f7f; text-decoration-color: #7f7f7f\">114</span></a>\n<span style=\"color: #7fbfbf; text-decoration-color: #7fbfbf\">                    </span>         base learning rate <span style=\"color: #008080; text-decoration-color: #008080; font-weight: bold\">0.45</span>                                             <span style=\"color: #7f7f7f; text-decoration-color: #7f7f7f\">                  </span>\n</pre>\n"
     },
     "metadata": {},
     "output_type": "display_data"
    },
    {
     "name": "stderr",
     "output_type": "stream",
     "text": [
      " 80%|████████  | 40/50 [00:50<00:13,  1.33s/it]"
     ]
    },
    {
     "data": {
      "text/plain": "\u001B[2;36m[02/11/25 18:41:40]\u001B[0m\u001B[2;36m \u001B[0m\u001B[34mINFO    \u001B[0m                                                                     \u001B]8;id=314057;file://C:\\Users\\kyawk\\Desktop\\robustness_of_gnns_at_scale-main\\rgnn_at_scale\\attacks\\local_prbcd.py\u001B\\\u001B[2mlocal_prbcd.py\u001B[0m\u001B]8;;\u001B\\\u001B[2m:\u001B[0m\u001B]8;id=423658;file://C:\\Users\\kyawk\\Desktop\\robustness_of_gnns_at_scale-main\\rgnn_at_scale\\attacks\\local_prbcd.py#113\u001B\\\u001B[2m113\u001B[0m\u001B]8;;\u001B\\\n\u001B[2;36m                    \u001B[0m         Epoch: \u001B[1;36m40\u001B[0m Loss: \u001B[1;36m1.3920968770980835\u001B[0m Statstics: \u001B[1m{\u001B[0m\u001B[32m'logit_target'\u001B[0m:      \u001B[2m                  \u001B[0m\n\u001B[2;36m                    \u001B[0m         \u001B[1;36m-2.43155574798584\u001B[0m, \u001B[32m'logit_best_non_target'\u001B[0m: \u001B[1;36m-1.0325446128845215\u001B[0m,    \u001B[2m                  \u001B[0m\n\u001B[2;36m                    \u001B[0m         \u001B[32m'confidence_target'\u001B[0m: \u001B[1;36m0.08789997594222737\u001B[0m, \u001B[32m'confidence_non_target'\u001B[0m:  \u001B[2m                  \u001B[0m\n\u001B[2;36m                    \u001B[0m         \u001B[1;36m0.356099670897476\u001B[0m, \u001B[32m'margin'\u001B[0m: \u001B[1;36m-0.26819969495524865\u001B[0m\u001B[1m}\u001B[0m                  \u001B[2m                  \u001B[0m\n\u001B[2;36m                    \u001B[0m                                                                             \u001B[2m                  \u001B[0m\n",
      "text/html": "<pre style=\"white-space:pre;overflow-x:auto;line-height:normal;font-family:Menlo,'DejaVu Sans Mono',consolas,'Courier New',monospace\"><span style=\"color: #7fbfbf; text-decoration-color: #7fbfbf\">[02/11/25 18:41:40] </span><span style=\"color: #000080; text-decoration-color: #000080\">INFO    </span>                                                                     <a href=\"file://C:\\Users\\kyawk\\Desktop\\robustness_of_gnns_at_scale-main\\rgnn_at_scale\\attacks\\local_prbcd.py\" target=\"_blank\"><span style=\"color: #7f7f7f; text-decoration-color: #7f7f7f\">local_prbcd.py</span></a><span style=\"color: #7f7f7f; text-decoration-color: #7f7f7f\">:</span><a href=\"file://C:\\Users\\kyawk\\Desktop\\robustness_of_gnns_at_scale-main\\rgnn_at_scale\\attacks\\local_prbcd.py#113\" target=\"_blank\"><span style=\"color: #7f7f7f; text-decoration-color: #7f7f7f\">113</span></a>\n<span style=\"color: #7fbfbf; text-decoration-color: #7fbfbf\">                    </span>         Epoch: <span style=\"color: #008080; text-decoration-color: #008080; font-weight: bold\">40</span> Loss: <span style=\"color: #008080; text-decoration-color: #008080; font-weight: bold\">1.3920968770980835</span> Statstics: <span style=\"font-weight: bold\">{</span><span style=\"color: #008000; text-decoration-color: #008000\">'logit_target'</span>:      <span style=\"color: #7f7f7f; text-decoration-color: #7f7f7f\">                  </span>\n<span style=\"color: #7fbfbf; text-decoration-color: #7fbfbf\">                    </span>         <span style=\"color: #008080; text-decoration-color: #008080; font-weight: bold\">-2.43155574798584</span>, <span style=\"color: #008000; text-decoration-color: #008000\">'logit_best_non_target'</span>: <span style=\"color: #008080; text-decoration-color: #008080; font-weight: bold\">-1.0325446128845215</span>,    <span style=\"color: #7f7f7f; text-decoration-color: #7f7f7f\">                  </span>\n<span style=\"color: #7fbfbf; text-decoration-color: #7fbfbf\">                    </span>         <span style=\"color: #008000; text-decoration-color: #008000\">'confidence_target'</span>: <span style=\"color: #008080; text-decoration-color: #008080; font-weight: bold\">0.08789997594222737</span>, <span style=\"color: #008000; text-decoration-color: #008000\">'confidence_non_target'</span>:  <span style=\"color: #7f7f7f; text-decoration-color: #7f7f7f\">                  </span>\n<span style=\"color: #7fbfbf; text-decoration-color: #7fbfbf\">                    </span>         <span style=\"color: #008080; text-decoration-color: #008080; font-weight: bold\">0.356099670897476</span>, <span style=\"color: #008000; text-decoration-color: #008000\">'margin'</span>: <span style=\"color: #008080; text-decoration-color: #008080; font-weight: bold\">-0.26819969495524865</span><span style=\"font-weight: bold\">}</span>                  <span style=\"color: #7f7f7f; text-decoration-color: #7f7f7f\">                  </span>\n<span style=\"color: #7fbfbf; text-decoration-color: #7fbfbf\">                    </span>                                                                             <span style=\"color: #7f7f7f; text-decoration-color: #7f7f7f\">                  </span>\n</pre>\n"
     },
     "metadata": {},
     "output_type": "display_data"
    },
    {
     "data": {
      "text/plain": "\u001B[2;36m                   \u001B[0m\u001B[2;36m \u001B[0m\u001B[34mINFO    \u001B[0m Gradient mean \u001B[1;36m0.005672198720276356\u001B[0m std \u001B[1;36m0.01774890348315239\u001B[0m with     \u001B]8;id=57743;file://C:\\Users\\kyawk\\Desktop\\robustness_of_gnns_at_scale-main\\rgnn_at_scale\\attacks\\local_prbcd.py\u001B\\\u001B[2mlocal_prbcd.py\u001B[0m\u001B]8;;\u001B\\\u001B[2m:\u001B[0m\u001B]8;id=409861;file://C:\\Users\\kyawk\\Desktop\\robustness_of_gnns_at_scale-main\\rgnn_at_scale\\attacks\\local_prbcd.py#114\u001B\\\u001B[2m114\u001B[0m\u001B]8;;\u001B\\\n\u001B[2;36m                    \u001B[0m         base learning rate \u001B[1;36m0.45\u001B[0m                                             \u001B[2m                  \u001B[0m\n",
      "text/html": "<pre style=\"white-space:pre;overflow-x:auto;line-height:normal;font-family:Menlo,'DejaVu Sans Mono',consolas,'Courier New',monospace\"><span style=\"color: #7fbfbf; text-decoration-color: #7fbfbf\">                    </span><span style=\"color: #000080; text-decoration-color: #000080\">INFO    </span> Gradient mean <span style=\"color: #008080; text-decoration-color: #008080; font-weight: bold\">0.005672198720276356</span> std <span style=\"color: #008080; text-decoration-color: #008080; font-weight: bold\">0.01774890348315239</span> with     <a href=\"file://C:\\Users\\kyawk\\Desktop\\robustness_of_gnns_at_scale-main\\rgnn_at_scale\\attacks\\local_prbcd.py\" target=\"_blank\"><span style=\"color: #7f7f7f; text-decoration-color: #7f7f7f\">local_prbcd.py</span></a><span style=\"color: #7f7f7f; text-decoration-color: #7f7f7f\">:</span><a href=\"file://C:\\Users\\kyawk\\Desktop\\robustness_of_gnns_at_scale-main\\rgnn_at_scale\\attacks\\local_prbcd.py#114\" target=\"_blank\"><span style=\"color: #7f7f7f; text-decoration-color: #7f7f7f\">114</span></a>\n<span style=\"color: #7fbfbf; text-decoration-color: #7fbfbf\">                    </span>         base learning rate <span style=\"color: #008080; text-decoration-color: #008080; font-weight: bold\">0.45</span>                                             <span style=\"color: #7f7f7f; text-decoration-color: #7f7f7f\">                  </span>\n</pre>\n"
     },
     "metadata": {},
     "output_type": "display_data"
    },
    {
     "name": "stderr",
     "output_type": "stream",
     "text": [
      "100%|██████████| 50/50 [01:02<00:00,  1.26s/it]\n"
     ]
    },
    {
     "data": {
      "text/plain": "\u001B[2;36m[02/11/25 18:41:57]\u001B[0m\u001B[2;36m \u001B[0m\u001B[34mINFO    \u001B[0m Evaluated model Vanilla GCN using LocalPRBCD     \u001B]8;id=138723;file://C:\\Users\\kyawk\\Desktop\\robustness_of_gnns_at_scale-main\\experiments\\experiment_local_attack_direct.py\u001B\\\u001B[2mexperiment_local_attack_direct.py\u001B[0m\u001B]8;;\u001B\\\u001B[2m:\u001B[0m\u001B]8;id=662203;file://C:\\Users\\kyawk\\Desktop\\robustness_of_gnns_at_scale-main\\experiments\\experiment_local_attack_direct.py#194\u001B\\\u001B[2m194\u001B[0m\u001B]8;;\u001B\\\n\u001B[2;36m                    \u001B[0m         with pert. edges for node \u001B[1;36m2105\u001B[0m and budget \u001B[1;36m9\u001B[0m:     \u001B[2m                                     \u001B[0m\n",
      "text/html": "<pre style=\"white-space:pre;overflow-x:auto;line-height:normal;font-family:Menlo,'DejaVu Sans Mono',consolas,'Courier New',monospace\"><span style=\"color: #7fbfbf; text-decoration-color: #7fbfbf\">[02/11/25 18:41:57] </span><span style=\"color: #000080; text-decoration-color: #000080\">INFO    </span> Evaluated model Vanilla GCN using LocalPRBCD     <a href=\"file://C:\\Users\\kyawk\\Desktop\\robustness_of_gnns_at_scale-main\\experiments\\experiment_local_attack_direct.py\" target=\"_blank\"><span style=\"color: #7f7f7f; text-decoration-color: #7f7f7f\">experiment_local_attack_direct.py</span></a><span style=\"color: #7f7f7f; text-decoration-color: #7f7f7f\">:</span><a href=\"file://C:\\Users\\kyawk\\Desktop\\robustness_of_gnns_at_scale-main\\experiments\\experiment_local_attack_direct.py#194\" target=\"_blank\"><span style=\"color: #7f7f7f; text-decoration-color: #7f7f7f\">194</span></a>\n<span style=\"color: #7fbfbf; text-decoration-color: #7fbfbf\">                    </span>         with pert. edges for node <span style=\"color: #008080; text-decoration-color: #008080; font-weight: bold\">2105</span> and budget <span style=\"color: #008080; text-decoration-color: #008080; font-weight: bold\">9</span>:     <span style=\"color: #7f7f7f; text-decoration-color: #7f7f7f\">                                     </span>\n</pre>\n"
     },
     "metadata": {},
     "output_type": "display_data"
    },
    {
     "data": {
      "text/plain": "\u001B[2;36m                   \u001B[0m\u001B[2;36m \u001B[0m\u001B[34mINFO    \u001B[0m \u001B[1m{\u001B[0m\u001B[32m'label'\u001B[0m: \u001B[32m'Vanilla GCN'\u001B[0m, \u001B[32m'epsilon'\u001B[0m: \u001B[1;36m1\u001B[0m,           \u001B]8;id=118325;file://C:\\Users\\kyawk\\Desktop\\robustness_of_gnns_at_scale-main\\experiments\\experiment_local_attack_direct.py\u001B\\\u001B[2mexperiment_local_attack_direct.py\u001B[0m\u001B]8;;\u001B\\\u001B[2m:\u001B[0m\u001B]8;id=862020;file://C:\\Users\\kyawk\\Desktop\\robustness_of_gnns_at_scale-main\\experiments\\experiment_local_attack_direct.py#215\u001B\\\u001B[2m215\u001B[0m\u001B]8;;\u001B\\\n\u001B[2;36m                    \u001B[0m         \u001B[32m'n_perturbations'\u001B[0m: \u001B[1;36m9\u001B[0m, \u001B[32m'degree'\u001B[0m: \u001B[1;36m9\u001B[0m, \u001B[32m'logits'\u001B[0m:     \u001B[2m                                     \u001B[0m\n\u001B[2;36m                    \u001B[0m         \u001B[1m[\u001B[0m\u001B[1m[\u001B[0m\u001B[1;36m0.19538427889347076\u001B[0m, \u001B[1;36m1.1990474462509155\u001B[0m,       \u001B[2m                                     \u001B[0m\n\u001B[2;36m                    \u001B[0m         \u001B[1;36m-0.9671677350997925\u001B[0m, \u001B[1;36m-0.29431402683258057\u001B[0m,       \u001B[2m                                     \u001B[0m\n\u001B[2;36m                    \u001B[0m         \u001B[1;36m-0.13091406226158142\u001B[0m, \u001B[1;36m0.1664818525314331\u001B[0m,        \u001B[2m                                     \u001B[0m\n\u001B[2;36m                    \u001B[0m         \u001B[1;36m-0.36629366874694824\u001B[0m\u001B[1m]\u001B[0m\u001B[1m]\u001B[0m, \u001B[32m'initial_logits'\u001B[0m:        \u001B[2m                                     \u001B[0m\n\u001B[2;36m                    \u001B[0m         \u001B[1m[\u001B[0m\u001B[1m[\u001B[0m\u001B[1;36m0.3674815893173218\u001B[0m, \u001B[1;36m0.38437411189079285\u001B[0m,       \u001B[2m                                     \u001B[0m\n\u001B[2;36m                    \u001B[0m         \u001B[1;36m-1.2507802248001099\u001B[0m, \u001B[1;36m0.6159869432449341\u001B[0m,         \u001B[2m                                     \u001B[0m\n\u001B[2;36m                    \u001B[0m         \u001B[1;36m0.09665918350219727\u001B[0m, \u001B[1;36m0.3464776873588562\u001B[0m,         \u001B[2m                                     \u001B[0m\n\u001B[2;36m                    \u001B[0m         \u001B[1;36m-0.7646024227142334\u001B[0m\u001B[1m]\u001B[0m\u001B[1m]\u001B[0m, \u001B[32m'larget'\u001B[0m: \u001B[1;36m3\u001B[0m, \u001B[32m'node_id'\u001B[0m:   \u001B[2m                                     \u001B[0m\n\u001B[2;36m                    \u001B[0m         \u001B[1;36m2105\u001B[0m, \u001B[32m'perturbed_edges'\u001B[0m: \u001B[1m[\u001B[0m\u001B[1m[\u001B[0m\u001B[1;36m2105\u001B[0m, \u001B[1;36m2105\u001B[0m, \u001B[1;36m2105\u001B[0m,     \u001B[2m                                     \u001B[0m\n\u001B[2;36m                    \u001B[0m         \u001B[1;36m2105\u001B[0m, \u001B[1;36m2105\u001B[0m, \u001B[1;36m2105\u001B[0m, \u001B[1;36m2105\u001B[0m, \u001B[1;36m2105\u001B[0m\u001B[1m]\u001B[0m, \u001B[1m[\u001B[0m\u001B[1;36m47\u001B[0m, \u001B[1;36m1098\u001B[0m, \u001B[1;36m1189\u001B[0m,  \u001B[2m                                     \u001B[0m\n\u001B[2;36m                    \u001B[0m         \u001B[1;36m1386\u001B[0m, \u001B[1;36m1554\u001B[0m, \u001B[1;36m1886\u001B[0m, \u001B[1;36m2200\u001B[0m, \u001B[1;36m2312\u001B[0m\u001B[1m]\u001B[0m\u001B[1m]\u001B[0m, \u001B[32m'logit_target'\u001B[0m:  \u001B[2m                                     \u001B[0m\n\u001B[2;36m                    \u001B[0m         \u001B[1;36m-2.423696279525757\u001B[0m, \u001B[32m'logit_best_non_target'\u001B[0m:     \u001B[2m                                     \u001B[0m\n\u001B[2;36m                    \u001B[0m         \u001B[1;36m-0.930334746837616\u001B[0m, \u001B[32m'confidence_target'\u001B[0m:         \u001B[2m                                     \u001B[0m\n\u001B[2;36m                    \u001B[0m         \u001B[1;36m0.08859354500265001\u001B[0m, \u001B[32m'confidence_non_target'\u001B[0m:    \u001B[2m                                     \u001B[0m\n\u001B[2;36m                    \u001B[0m         \u001B[1;36m0.394421656868264\u001B[0m, \u001B[32m'margin'\u001B[0m: \u001B[1;36m-0.305828111865614\u001B[0m, \u001B[2m                                     \u001B[0m\n\u001B[2;36m                    \u001B[0m         \u001B[32m'initial_logit_target'\u001B[0m: \u001B[1;36m-1.4674010276794434\u001B[0m,     \u001B[2m                                     \u001B[0m\n\u001B[2;36m                    \u001B[0m         \u001B[32m'initial_logit_best_non_target'\u001B[0m:                 \u001B[2m                                     \u001B[0m\n\u001B[2;36m                    \u001B[0m         \u001B[1;36m-1.6990138292312622\u001B[0m,                             \u001B[2m                                     \u001B[0m\n\u001B[2;36m                    \u001B[0m         \u001B[32m'initial_confidence_target'\u001B[0m: \u001B[1;36m0.2305238323655902\u001B[0m, \u001B[2m                                     \u001B[0m\n\u001B[2;36m                    \u001B[0m         \u001B[32m'initial_confidence_non_target'\u001B[0m:                 \u001B[2m                                     \u001B[0m\n\u001B[2;36m                    \u001B[0m         \u001B[1;36m0.18286377006615234\u001B[0m, \u001B[32m'initial_margin'\u001B[0m:           \u001B[2m                                     \u001B[0m\n\u001B[2;36m                    \u001B[0m         \u001B[1;36m0.047660062299437866\u001B[0m\u001B[1m}\u001B[0m                            \u001B[2m                                     \u001B[0m\n",
      "text/html": "<pre style=\"white-space:pre;overflow-x:auto;line-height:normal;font-family:Menlo,'DejaVu Sans Mono',consolas,'Courier New',monospace\"><span style=\"color: #7fbfbf; text-decoration-color: #7fbfbf\">                    </span><span style=\"color: #000080; text-decoration-color: #000080\">INFO    </span> <span style=\"font-weight: bold\">{</span><span style=\"color: #008000; text-decoration-color: #008000\">'label'</span>: <span style=\"color: #008000; text-decoration-color: #008000\">'Vanilla GCN'</span>, <span style=\"color: #008000; text-decoration-color: #008000\">'epsilon'</span>: <span style=\"color: #008080; text-decoration-color: #008080; font-weight: bold\">1</span>,           <a href=\"file://C:\\Users\\kyawk\\Desktop\\robustness_of_gnns_at_scale-main\\experiments\\experiment_local_attack_direct.py\" target=\"_blank\"><span style=\"color: #7f7f7f; text-decoration-color: #7f7f7f\">experiment_local_attack_direct.py</span></a><span style=\"color: #7f7f7f; text-decoration-color: #7f7f7f\">:</span><a href=\"file://C:\\Users\\kyawk\\Desktop\\robustness_of_gnns_at_scale-main\\experiments\\experiment_local_attack_direct.py#215\" target=\"_blank\"><span style=\"color: #7f7f7f; text-decoration-color: #7f7f7f\">215</span></a>\n<span style=\"color: #7fbfbf; text-decoration-color: #7fbfbf\">                    </span>         <span style=\"color: #008000; text-decoration-color: #008000\">'n_perturbations'</span>: <span style=\"color: #008080; text-decoration-color: #008080; font-weight: bold\">9</span>, <span style=\"color: #008000; text-decoration-color: #008000\">'degree'</span>: <span style=\"color: #008080; text-decoration-color: #008080; font-weight: bold\">9</span>, <span style=\"color: #008000; text-decoration-color: #008000\">'logits'</span>:     <span style=\"color: #7f7f7f; text-decoration-color: #7f7f7f\">                                     </span>\n<span style=\"color: #7fbfbf; text-decoration-color: #7fbfbf\">                    </span>         <span style=\"font-weight: bold\">[[</span><span style=\"color: #008080; text-decoration-color: #008080; font-weight: bold\">0.19538427889347076</span>, <span style=\"color: #008080; text-decoration-color: #008080; font-weight: bold\">1.1990474462509155</span>,       <span style=\"color: #7f7f7f; text-decoration-color: #7f7f7f\">                                     </span>\n<span style=\"color: #7fbfbf; text-decoration-color: #7fbfbf\">                    </span>         <span style=\"color: #008080; text-decoration-color: #008080; font-weight: bold\">-0.9671677350997925</span>, <span style=\"color: #008080; text-decoration-color: #008080; font-weight: bold\">-0.29431402683258057</span>,       <span style=\"color: #7f7f7f; text-decoration-color: #7f7f7f\">                                     </span>\n<span style=\"color: #7fbfbf; text-decoration-color: #7fbfbf\">                    </span>         <span style=\"color: #008080; text-decoration-color: #008080; font-weight: bold\">-0.13091406226158142</span>, <span style=\"color: #008080; text-decoration-color: #008080; font-weight: bold\">0.1664818525314331</span>,        <span style=\"color: #7f7f7f; text-decoration-color: #7f7f7f\">                                     </span>\n<span style=\"color: #7fbfbf; text-decoration-color: #7fbfbf\">                    </span>         <span style=\"color: #008080; text-decoration-color: #008080; font-weight: bold\">-0.36629366874694824</span><span style=\"font-weight: bold\">]]</span>, <span style=\"color: #008000; text-decoration-color: #008000\">'initial_logits'</span>:        <span style=\"color: #7f7f7f; text-decoration-color: #7f7f7f\">                                     </span>\n<span style=\"color: #7fbfbf; text-decoration-color: #7fbfbf\">                    </span>         <span style=\"font-weight: bold\">[[</span><span style=\"color: #008080; text-decoration-color: #008080; font-weight: bold\">0.3674815893173218</span>, <span style=\"color: #008080; text-decoration-color: #008080; font-weight: bold\">0.38437411189079285</span>,       <span style=\"color: #7f7f7f; text-decoration-color: #7f7f7f\">                                     </span>\n<span style=\"color: #7fbfbf; text-decoration-color: #7fbfbf\">                    </span>         <span style=\"color: #008080; text-decoration-color: #008080; font-weight: bold\">-1.2507802248001099</span>, <span style=\"color: #008080; text-decoration-color: #008080; font-weight: bold\">0.6159869432449341</span>,         <span style=\"color: #7f7f7f; text-decoration-color: #7f7f7f\">                                     </span>\n<span style=\"color: #7fbfbf; text-decoration-color: #7fbfbf\">                    </span>         <span style=\"color: #008080; text-decoration-color: #008080; font-weight: bold\">0.09665918350219727</span>, <span style=\"color: #008080; text-decoration-color: #008080; font-weight: bold\">0.3464776873588562</span>,         <span style=\"color: #7f7f7f; text-decoration-color: #7f7f7f\">                                     </span>\n<span style=\"color: #7fbfbf; text-decoration-color: #7fbfbf\">                    </span>         <span style=\"color: #008080; text-decoration-color: #008080; font-weight: bold\">-0.7646024227142334</span><span style=\"font-weight: bold\">]]</span>, <span style=\"color: #008000; text-decoration-color: #008000\">'larget'</span>: <span style=\"color: #008080; text-decoration-color: #008080; font-weight: bold\">3</span>, <span style=\"color: #008000; text-decoration-color: #008000\">'node_id'</span>:   <span style=\"color: #7f7f7f; text-decoration-color: #7f7f7f\">                                     </span>\n<span style=\"color: #7fbfbf; text-decoration-color: #7fbfbf\">                    </span>         <span style=\"color: #008080; text-decoration-color: #008080; font-weight: bold\">2105</span>, <span style=\"color: #008000; text-decoration-color: #008000\">'perturbed_edges'</span>: <span style=\"font-weight: bold\">[[</span><span style=\"color: #008080; text-decoration-color: #008080; font-weight: bold\">2105</span>, <span style=\"color: #008080; text-decoration-color: #008080; font-weight: bold\">2105</span>, <span style=\"color: #008080; text-decoration-color: #008080; font-weight: bold\">2105</span>,     <span style=\"color: #7f7f7f; text-decoration-color: #7f7f7f\">                                     </span>\n<span style=\"color: #7fbfbf; text-decoration-color: #7fbfbf\">                    </span>         <span style=\"color: #008080; text-decoration-color: #008080; font-weight: bold\">2105</span>, <span style=\"color: #008080; text-decoration-color: #008080; font-weight: bold\">2105</span>, <span style=\"color: #008080; text-decoration-color: #008080; font-weight: bold\">2105</span>, <span style=\"color: #008080; text-decoration-color: #008080; font-weight: bold\">2105</span>, <span style=\"color: #008080; text-decoration-color: #008080; font-weight: bold\">2105</span><span style=\"font-weight: bold\">]</span>, <span style=\"font-weight: bold\">[</span><span style=\"color: #008080; text-decoration-color: #008080; font-weight: bold\">47</span>, <span style=\"color: #008080; text-decoration-color: #008080; font-weight: bold\">1098</span>, <span style=\"color: #008080; text-decoration-color: #008080; font-weight: bold\">1189</span>,  <span style=\"color: #7f7f7f; text-decoration-color: #7f7f7f\">                                     </span>\n<span style=\"color: #7fbfbf; text-decoration-color: #7fbfbf\">                    </span>         <span style=\"color: #008080; text-decoration-color: #008080; font-weight: bold\">1386</span>, <span style=\"color: #008080; text-decoration-color: #008080; font-weight: bold\">1554</span>, <span style=\"color: #008080; text-decoration-color: #008080; font-weight: bold\">1886</span>, <span style=\"color: #008080; text-decoration-color: #008080; font-weight: bold\">2200</span>, <span style=\"color: #008080; text-decoration-color: #008080; font-weight: bold\">2312</span><span style=\"font-weight: bold\">]]</span>, <span style=\"color: #008000; text-decoration-color: #008000\">'logit_target'</span>:  <span style=\"color: #7f7f7f; text-decoration-color: #7f7f7f\">                                     </span>\n<span style=\"color: #7fbfbf; text-decoration-color: #7fbfbf\">                    </span>         <span style=\"color: #008080; text-decoration-color: #008080; font-weight: bold\">-2.423696279525757</span>, <span style=\"color: #008000; text-decoration-color: #008000\">'logit_best_non_target'</span>:     <span style=\"color: #7f7f7f; text-decoration-color: #7f7f7f\">                                     </span>\n<span style=\"color: #7fbfbf; text-decoration-color: #7fbfbf\">                    </span>         <span style=\"color: #008080; text-decoration-color: #008080; font-weight: bold\">-0.930334746837616</span>, <span style=\"color: #008000; text-decoration-color: #008000\">'confidence_target'</span>:         <span style=\"color: #7f7f7f; text-decoration-color: #7f7f7f\">                                     </span>\n<span style=\"color: #7fbfbf; text-decoration-color: #7fbfbf\">                    </span>         <span style=\"color: #008080; text-decoration-color: #008080; font-weight: bold\">0.08859354500265001</span>, <span style=\"color: #008000; text-decoration-color: #008000\">'confidence_non_target'</span>:    <span style=\"color: #7f7f7f; text-decoration-color: #7f7f7f\">                                     </span>\n<span style=\"color: #7fbfbf; text-decoration-color: #7fbfbf\">                    </span>         <span style=\"color: #008080; text-decoration-color: #008080; font-weight: bold\">0.394421656868264</span>, <span style=\"color: #008000; text-decoration-color: #008000\">'margin'</span>: <span style=\"color: #008080; text-decoration-color: #008080; font-weight: bold\">-0.305828111865614</span>, <span style=\"color: #7f7f7f; text-decoration-color: #7f7f7f\">                                     </span>\n<span style=\"color: #7fbfbf; text-decoration-color: #7fbfbf\">                    </span>         <span style=\"color: #008000; text-decoration-color: #008000\">'initial_logit_target'</span>: <span style=\"color: #008080; text-decoration-color: #008080; font-weight: bold\">-1.4674010276794434</span>,     <span style=\"color: #7f7f7f; text-decoration-color: #7f7f7f\">                                     </span>\n<span style=\"color: #7fbfbf; text-decoration-color: #7fbfbf\">                    </span>         <span style=\"color: #008000; text-decoration-color: #008000\">'initial_logit_best_non_target'</span>:                 <span style=\"color: #7f7f7f; text-decoration-color: #7f7f7f\">                                     </span>\n<span style=\"color: #7fbfbf; text-decoration-color: #7fbfbf\">                    </span>         <span style=\"color: #008080; text-decoration-color: #008080; font-weight: bold\">-1.6990138292312622</span>,                             <span style=\"color: #7f7f7f; text-decoration-color: #7f7f7f\">                                     </span>\n<span style=\"color: #7fbfbf; text-decoration-color: #7fbfbf\">                    </span>         <span style=\"color: #008000; text-decoration-color: #008000\">'initial_confidence_target'</span>: <span style=\"color: #008080; text-decoration-color: #008080; font-weight: bold\">0.2305238323655902</span>, <span style=\"color: #7f7f7f; text-decoration-color: #7f7f7f\">                                     </span>\n<span style=\"color: #7fbfbf; text-decoration-color: #7fbfbf\">                    </span>         <span style=\"color: #008000; text-decoration-color: #008000\">'initial_confidence_non_target'</span>:                 <span style=\"color: #7f7f7f; text-decoration-color: #7f7f7f\">                                     </span>\n<span style=\"color: #7fbfbf; text-decoration-color: #7fbfbf\">                    </span>         <span style=\"color: #008080; text-decoration-color: #008080; font-weight: bold\">0.18286377006615234</span>, <span style=\"color: #008000; text-decoration-color: #008000\">'initial_margin'</span>:           <span style=\"color: #7f7f7f; text-decoration-color: #7f7f7f\">                                     </span>\n<span style=\"color: #7fbfbf; text-decoration-color: #7fbfbf\">                    </span>         <span style=\"color: #008080; text-decoration-color: #008080; font-weight: bold\">0.047660062299437866</span><span style=\"font-weight: bold\">}</span>                            <span style=\"color: #7f7f7f; text-decoration-color: #7f7f7f\">                                     </span>\n</pre>\n"
     },
     "metadata": {},
     "output_type": "display_data"
    },
    {
     "data": {
      "text/plain": "\u001B[2;36m                   \u001B[0m\u001B[2;36m \u001B[0m\u001B[34mINFO    \u001B[0m Completed attack and evaluation of Vanilla GCN   \u001B]8;id=341676;file://C:\\Users\\kyawk\\Desktop\\robustness_of_gnns_at_scale-main\\experiments\\experiment_local_attack_direct.py\u001B\\\u001B[2mexperiment_local_attack_direct.py\u001B[0m\u001B]8;;\u001B\\\u001B[2m:\u001B[0m\u001B]8;id=483023;file://C:\\Users\\kyawk\\Desktop\\robustness_of_gnns_at_scale-main\\experiments\\experiment_local_attack_direct.py#216\u001B\\\u001B[2m216\u001B[0m\u001B]8;;\u001B\\\n\u001B[2;36m                    \u001B[0m         using LocalPRBCD with pert. edges for node \u001B[1;36m2105\u001B[0m  \u001B[2m                                     \u001B[0m\n\u001B[2;36m                    \u001B[0m         and budget \u001B[1;36m9\u001B[0m                                     \u001B[2m                                     \u001B[0m\n",
      "text/html": "<pre style=\"white-space:pre;overflow-x:auto;line-height:normal;font-family:Menlo,'DejaVu Sans Mono',consolas,'Courier New',monospace\"><span style=\"color: #7fbfbf; text-decoration-color: #7fbfbf\">                    </span><span style=\"color: #000080; text-decoration-color: #000080\">INFO    </span> Completed attack and evaluation of Vanilla GCN   <a href=\"file://C:\\Users\\kyawk\\Desktop\\robustness_of_gnns_at_scale-main\\experiments\\experiment_local_attack_direct.py\" target=\"_blank\"><span style=\"color: #7f7f7f; text-decoration-color: #7f7f7f\">experiment_local_attack_direct.py</span></a><span style=\"color: #7f7f7f; text-decoration-color: #7f7f7f\">:</span><a href=\"file://C:\\Users\\kyawk\\Desktop\\robustness_of_gnns_at_scale-main\\experiments\\experiment_local_attack_direct.py#216\" target=\"_blank\"><span style=\"color: #7f7f7f; text-decoration-color: #7f7f7f\">216</span></a>\n<span style=\"color: #7fbfbf; text-decoration-color: #7fbfbf\">                    </span>         using LocalPRBCD with pert. edges for node <span style=\"color: #008080; text-decoration-color: #008080; font-weight: bold\">2105</span>  <span style=\"color: #7f7f7f; text-decoration-color: #7f7f7f\">                                     </span>\n<span style=\"color: #7fbfbf; text-decoration-color: #7fbfbf\">                    </span>         and budget <span style=\"color: #008080; text-decoration-color: #008080; font-weight: bold\">9</span>                                     <span style=\"color: #7f7f7f; text-decoration-color: #7f7f7f\">                                     </span>\n</pre>\n"
     },
     "metadata": {},
     "output_type": "display_data"
    },
    {
     "data": {
      "text/plain": "\u001B[2;36m[02/11/25 18:41:58]\u001B[0m\u001B[2;36m \u001B[0m\u001B[34mINFO    \u001B[0m Original: Loss: \u001B[1;36m-3.9052743911743164\u001B[0m Statstics: \u001B[1m{\u001B[0m\u001B[32m'logit_target'\u001B[0m:      \u001B]8;id=606770;file://C:\\Users\\kyawk\\Desktop\\robustness_of_gnns_at_scale-main\\rgnn_at_scale\\attacks\\local_prbcd.py\u001B\\\u001B[2mlocal_prbcd.py\u001B[0m\u001B]8;;\u001B\\\u001B[2m:\u001B[0m\u001B]8;id=97809;file://C:\\Users\\kyawk\\Desktop\\robustness_of_gnns_at_scale-main\\rgnn_at_scale\\attacks\\local_prbcd.py#74\u001B\\\u001B[2m74\u001B[0m\u001B]8;;\u001B\\\n\u001B[2;36m                    \u001B[0m         \u001B[1;36m-0.08116121590137482\u001B[0m, \u001B[32m'logit_best_non_target'\u001B[0m: \u001B[1;36m-3.986435651779175\u001B[0m,   \u001B[2m                 \u001B[0m\n\u001B[2;36m                    \u001B[0m         \u001B[32m'confidence_target'\u001B[0m: \u001B[1;36m0.9220450311409241\u001B[0m, \u001B[32m'confidence_non_target'\u001B[0m:    \u001B[2m                 \u001B[0m\n\u001B[2;36m                    \u001B[0m         \u001B[1;36m0.018565771198207313\u001B[0m, \u001B[32m'margin'\u001B[0m: \u001B[1;36m0.9034792599427167\u001B[0m\u001B[1m}\u001B[0m                  \u001B[2m                 \u001B[0m\n\u001B[2;36m                    \u001B[0m                                                                              \u001B[2m                 \u001B[0m\n",
      "text/html": "<pre style=\"white-space:pre;overflow-x:auto;line-height:normal;font-family:Menlo,'DejaVu Sans Mono',consolas,'Courier New',monospace\"><span style=\"color: #7fbfbf; text-decoration-color: #7fbfbf\">[02/11/25 18:41:58] </span><span style=\"color: #000080; text-decoration-color: #000080\">INFO    </span> Original: Loss: <span style=\"color: #008080; text-decoration-color: #008080; font-weight: bold\">-3.9052743911743164</span> Statstics: <span style=\"font-weight: bold\">{</span><span style=\"color: #008000; text-decoration-color: #008000\">'logit_target'</span>:      <a href=\"file://C:\\Users\\kyawk\\Desktop\\robustness_of_gnns_at_scale-main\\rgnn_at_scale\\attacks\\local_prbcd.py\" target=\"_blank\"><span style=\"color: #7f7f7f; text-decoration-color: #7f7f7f\">local_prbcd.py</span></a><span style=\"color: #7f7f7f; text-decoration-color: #7f7f7f\">:</span><a href=\"file://C:\\Users\\kyawk\\Desktop\\robustness_of_gnns_at_scale-main\\rgnn_at_scale\\attacks\\local_prbcd.py#74\" target=\"_blank\"><span style=\"color: #7f7f7f; text-decoration-color: #7f7f7f\">74</span></a>\n<span style=\"color: #7fbfbf; text-decoration-color: #7fbfbf\">                    </span>         <span style=\"color: #008080; text-decoration-color: #008080; font-weight: bold\">-0.08116121590137482</span>, <span style=\"color: #008000; text-decoration-color: #008000\">'logit_best_non_target'</span>: <span style=\"color: #008080; text-decoration-color: #008080; font-weight: bold\">-3.986435651779175</span>,   <span style=\"color: #7f7f7f; text-decoration-color: #7f7f7f\">                 </span>\n<span style=\"color: #7fbfbf; text-decoration-color: #7fbfbf\">                    </span>         <span style=\"color: #008000; text-decoration-color: #008000\">'confidence_target'</span>: <span style=\"color: #008080; text-decoration-color: #008080; font-weight: bold\">0.9220450311409241</span>, <span style=\"color: #008000; text-decoration-color: #008000\">'confidence_non_target'</span>:    <span style=\"color: #7f7f7f; text-decoration-color: #7f7f7f\">                 </span>\n<span style=\"color: #7fbfbf; text-decoration-color: #7fbfbf\">                    </span>         <span style=\"color: #008080; text-decoration-color: #008080; font-weight: bold\">0.018565771198207313</span>, <span style=\"color: #008000; text-decoration-color: #008000\">'margin'</span>: <span style=\"color: #008080; text-decoration-color: #008080; font-weight: bold\">0.9034792599427167</span><span style=\"font-weight: bold\">}</span>                  <span style=\"color: #7f7f7f; text-decoration-color: #7f7f7f\">                 </span>\n<span style=\"color: #7fbfbf; text-decoration-color: #7fbfbf\">                    </span>                                                                              <span style=\"color: #7f7f7f; text-decoration-color: #7f7f7f\">                 </span>\n</pre>\n"
     },
     "metadata": {},
     "output_type": "display_data"
    },
    {
     "name": "stderr",
     "output_type": "stream",
     "text": [
      "  0%|          | 0/50 [00:00<?, ?it/s]"
     ]
    },
    {
     "data": {
      "text/plain": "\u001B[2;36m[02/11/25 18:42:00]\u001B[0m\u001B[2;36m \u001B[0m\u001B[34mINFO    \u001B[0m Initial: Loss: \u001B[1;36m-3.9052743911743164\u001B[0m Statstics: \u001B[1m{\u001B[0m\u001B[32m'logit_target'\u001B[0m:       \u001B]8;id=957956;file://C:\\Users\\kyawk\\Desktop\\robustness_of_gnns_at_scale-main\\rgnn_at_scale\\attacks\\local_prbcd.py\u001B\\\u001B[2mlocal_prbcd.py\u001B[0m\u001B]8;;\u001B\\\u001B[2m:\u001B[0m\u001B]8;id=9056;file://C:\\Users\\kyawk\\Desktop\\robustness_of_gnns_at_scale-main\\rgnn_at_scale\\attacks\\local_prbcd.py#92\u001B\\\u001B[2m92\u001B[0m\u001B]8;;\u001B\\\n\u001B[2;36m                    \u001B[0m         \u001B[1;36m-0.08116121590137482\u001B[0m, \u001B[32m'logit_best_non_target'\u001B[0m: \u001B[1;36m-3.986435651779175\u001B[0m,   \u001B[2m                 \u001B[0m\n\u001B[2;36m                    \u001B[0m         \u001B[32m'confidence_target'\u001B[0m: \u001B[1;36m0.9220450311409241\u001B[0m, \u001B[32m'confidence_non_target'\u001B[0m:    \u001B[2m                 \u001B[0m\n\u001B[2;36m                    \u001B[0m         \u001B[1;36m0.018565771198207313\u001B[0m, \u001B[32m'margin'\u001B[0m: \u001B[1;36m0.9034792599427167\u001B[0m\u001B[1m}\u001B[0m                  \u001B[2m                 \u001B[0m\n\u001B[2;36m                    \u001B[0m                                                                              \u001B[2m                 \u001B[0m\n",
      "text/html": "<pre style=\"white-space:pre;overflow-x:auto;line-height:normal;font-family:Menlo,'DejaVu Sans Mono',consolas,'Courier New',monospace\"><span style=\"color: #7fbfbf; text-decoration-color: #7fbfbf\">[02/11/25 18:42:00] </span><span style=\"color: #000080; text-decoration-color: #000080\">INFO    </span> Initial: Loss: <span style=\"color: #008080; text-decoration-color: #008080; font-weight: bold\">-3.9052743911743164</span> Statstics: <span style=\"font-weight: bold\">{</span><span style=\"color: #008000; text-decoration-color: #008000\">'logit_target'</span>:       <a href=\"file://C:\\Users\\kyawk\\Desktop\\robustness_of_gnns_at_scale-main\\rgnn_at_scale\\attacks\\local_prbcd.py\" target=\"_blank\"><span style=\"color: #7f7f7f; text-decoration-color: #7f7f7f\">local_prbcd.py</span></a><span style=\"color: #7f7f7f; text-decoration-color: #7f7f7f\">:</span><a href=\"file://C:\\Users\\kyawk\\Desktop\\robustness_of_gnns_at_scale-main\\rgnn_at_scale\\attacks\\local_prbcd.py#92\" target=\"_blank\"><span style=\"color: #7f7f7f; text-decoration-color: #7f7f7f\">92</span></a>\n<span style=\"color: #7fbfbf; text-decoration-color: #7fbfbf\">                    </span>         <span style=\"color: #008080; text-decoration-color: #008080; font-weight: bold\">-0.08116121590137482</span>, <span style=\"color: #008000; text-decoration-color: #008000\">'logit_best_non_target'</span>: <span style=\"color: #008080; text-decoration-color: #008080; font-weight: bold\">-3.986435651779175</span>,   <span style=\"color: #7f7f7f; text-decoration-color: #7f7f7f\">                 </span>\n<span style=\"color: #7fbfbf; text-decoration-color: #7fbfbf\">                    </span>         <span style=\"color: #008000; text-decoration-color: #008000\">'confidence_target'</span>: <span style=\"color: #008080; text-decoration-color: #008080; font-weight: bold\">0.9220450311409241</span>, <span style=\"color: #008000; text-decoration-color: #008000\">'confidence_non_target'</span>:    <span style=\"color: #7f7f7f; text-decoration-color: #7f7f7f\">                 </span>\n<span style=\"color: #7fbfbf; text-decoration-color: #7fbfbf\">                    </span>         <span style=\"color: #008080; text-decoration-color: #008080; font-weight: bold\">0.018565771198207313</span>, <span style=\"color: #008000; text-decoration-color: #008000\">'margin'</span>: <span style=\"color: #008080; text-decoration-color: #008080; font-weight: bold\">0.9034792599427167</span><span style=\"font-weight: bold\">}</span>                  <span style=\"color: #7f7f7f; text-decoration-color: #7f7f7f\">                 </span>\n<span style=\"color: #7fbfbf; text-decoration-color: #7fbfbf\">                    </span>                                                                              <span style=\"color: #7f7f7f; text-decoration-color: #7f7f7f\">                 </span>\n</pre>\n"
     },
     "metadata": {},
     "output_type": "display_data"
    },
    {
     "data": {
      "text/plain": "\u001B[2;36m[02/11/25 18:42:02]\u001B[0m\u001B[2;36m \u001B[0m\u001B[34mINFO    \u001B[0m                                                                     \u001B]8;id=132160;file://C:\\Users\\kyawk\\Desktop\\robustness_of_gnns_at_scale-main\\rgnn_at_scale\\attacks\\local_prbcd.py\u001B\\\u001B[2mlocal_prbcd.py\u001B[0m\u001B]8;;\u001B\\\u001B[2m:\u001B[0m\u001B]8;id=588757;file://C:\\Users\\kyawk\\Desktop\\robustness_of_gnns_at_scale-main\\rgnn_at_scale\\attacks\\local_prbcd.py#113\u001B\\\u001B[2m113\u001B[0m\u001B]8;;\u001B\\\n\u001B[2;36m                    \u001B[0m         Epoch: \u001B[1;36m0\u001B[0m Loss: \u001B[1;36m-3.9052743911743164\u001B[0m Statstics: \u001B[1m{\u001B[0m\u001B[32m'logit_target'\u001B[0m:      \u001B[2m                  \u001B[0m\n\u001B[2;36m                    \u001B[0m         \u001B[1;36m-0.10720615088939667\u001B[0m, \u001B[32m'logit_best_non_target'\u001B[0m: \u001B[1;36m-3.6822516918182373\u001B[0m, \u001B[2m                  \u001B[0m\n\u001B[2;36m                    \u001B[0m         \u001B[32m'confidence_target'\u001B[0m: \u001B[1;36m0.898340460215218\u001B[0m, \u001B[32m'confidence_non_target'\u001B[0m:    \u001B[2m                  \u001B[0m\n\u001B[2;36m                    \u001B[0m         \u001B[1;36m0.025166244362898493\u001B[0m, \u001B[32m'margin'\u001B[0m: \u001B[1;36m0.8731742158523195\u001B[0m\u001B[1m}\u001B[0m                 \u001B[2m                  \u001B[0m\n\u001B[2;36m                    \u001B[0m                                                                             \u001B[2m                  \u001B[0m\n",
      "text/html": "<pre style=\"white-space:pre;overflow-x:auto;line-height:normal;font-family:Menlo,'DejaVu Sans Mono',consolas,'Courier New',monospace\"><span style=\"color: #7fbfbf; text-decoration-color: #7fbfbf\">[02/11/25 18:42:02] </span><span style=\"color: #000080; text-decoration-color: #000080\">INFO    </span>                                                                     <a href=\"file://C:\\Users\\kyawk\\Desktop\\robustness_of_gnns_at_scale-main\\rgnn_at_scale\\attacks\\local_prbcd.py\" target=\"_blank\"><span style=\"color: #7f7f7f; text-decoration-color: #7f7f7f\">local_prbcd.py</span></a><span style=\"color: #7f7f7f; text-decoration-color: #7f7f7f\">:</span><a href=\"file://C:\\Users\\kyawk\\Desktop\\robustness_of_gnns_at_scale-main\\rgnn_at_scale\\attacks\\local_prbcd.py#113\" target=\"_blank\"><span style=\"color: #7f7f7f; text-decoration-color: #7f7f7f\">113</span></a>\n<span style=\"color: #7fbfbf; text-decoration-color: #7fbfbf\">                    </span>         Epoch: <span style=\"color: #008080; text-decoration-color: #008080; font-weight: bold\">0</span> Loss: <span style=\"color: #008080; text-decoration-color: #008080; font-weight: bold\">-3.9052743911743164</span> Statstics: <span style=\"font-weight: bold\">{</span><span style=\"color: #008000; text-decoration-color: #008000\">'logit_target'</span>:      <span style=\"color: #7f7f7f; text-decoration-color: #7f7f7f\">                  </span>\n<span style=\"color: #7fbfbf; text-decoration-color: #7fbfbf\">                    </span>         <span style=\"color: #008080; text-decoration-color: #008080; font-weight: bold\">-0.10720615088939667</span>, <span style=\"color: #008000; text-decoration-color: #008000\">'logit_best_non_target'</span>: <span style=\"color: #008080; text-decoration-color: #008080; font-weight: bold\">-3.6822516918182373</span>, <span style=\"color: #7f7f7f; text-decoration-color: #7f7f7f\">                  </span>\n<span style=\"color: #7fbfbf; text-decoration-color: #7fbfbf\">                    </span>         <span style=\"color: #008000; text-decoration-color: #008000\">'confidence_target'</span>: <span style=\"color: #008080; text-decoration-color: #008080; font-weight: bold\">0.898340460215218</span>, <span style=\"color: #008000; text-decoration-color: #008000\">'confidence_non_target'</span>:    <span style=\"color: #7f7f7f; text-decoration-color: #7f7f7f\">                  </span>\n<span style=\"color: #7fbfbf; text-decoration-color: #7fbfbf\">                    </span>         <span style=\"color: #008080; text-decoration-color: #008080; font-weight: bold\">0.025166244362898493</span>, <span style=\"color: #008000; text-decoration-color: #008000\">'margin'</span>: <span style=\"color: #008080; text-decoration-color: #008080; font-weight: bold\">0.8731742158523195</span><span style=\"font-weight: bold\">}</span>                 <span style=\"color: #7f7f7f; text-decoration-color: #7f7f7f\">                  </span>\n<span style=\"color: #7fbfbf; text-decoration-color: #7fbfbf\">                    </span>                                                                             <span style=\"color: #7f7f7f; text-decoration-color: #7f7f7f\">                  </span>\n</pre>\n"
     },
     "metadata": {},
     "output_type": "display_data"
    },
    {
     "data": {
      "text/plain": "\u001B[2;36m                   \u001B[0m\u001B[2;36m \u001B[0m\u001B[34mINFO    \u001B[0m Gradient mean \u001B[1;36m0.0913652703166008\u001B[0m std \u001B[1;36m0.02465200051665306\u001B[0m with base  \u001B]8;id=939617;file://C:\\Users\\kyawk\\Desktop\\robustness_of_gnns_at_scale-main\\rgnn_at_scale\\attacks\\local_prbcd.py\u001B\\\u001B[2mlocal_prbcd.py\u001B[0m\u001B]8;;\u001B\\\u001B[2m:\u001B[0m\u001B]8;id=52452;file://C:\\Users\\kyawk\\Desktop\\robustness_of_gnns_at_scale-main\\rgnn_at_scale\\attacks\\local_prbcd.py#114\u001B\\\u001B[2m114\u001B[0m\u001B]8;;\u001B\\\n\u001B[2;36m                    \u001B[0m         learning rate \u001B[1;36m0.65\u001B[0m                                                  \u001B[2m                  \u001B[0m\n",
      "text/html": "<pre style=\"white-space:pre;overflow-x:auto;line-height:normal;font-family:Menlo,'DejaVu Sans Mono',consolas,'Courier New',monospace\"><span style=\"color: #7fbfbf; text-decoration-color: #7fbfbf\">                    </span><span style=\"color: #000080; text-decoration-color: #000080\">INFO    </span> Gradient mean <span style=\"color: #008080; text-decoration-color: #008080; font-weight: bold\">0.0913652703166008</span> std <span style=\"color: #008080; text-decoration-color: #008080; font-weight: bold\">0.02465200051665306</span> with base  <a href=\"file://C:\\Users\\kyawk\\Desktop\\robustness_of_gnns_at_scale-main\\rgnn_at_scale\\attacks\\local_prbcd.py\" target=\"_blank\"><span style=\"color: #7f7f7f; text-decoration-color: #7f7f7f\">local_prbcd.py</span></a><span style=\"color: #7f7f7f; text-decoration-color: #7f7f7f\">:</span><a href=\"file://C:\\Users\\kyawk\\Desktop\\robustness_of_gnns_at_scale-main\\rgnn_at_scale\\attacks\\local_prbcd.py#114\" target=\"_blank\"><span style=\"color: #7f7f7f; text-decoration-color: #7f7f7f\">114</span></a>\n<span style=\"color: #7fbfbf; text-decoration-color: #7fbfbf\">                    </span>         learning rate <span style=\"color: #008080; text-decoration-color: #008080; font-weight: bold\">0.65</span>                                                  <span style=\"color: #7f7f7f; text-decoration-color: #7f7f7f\">                  </span>\n</pre>\n"
     },
     "metadata": {},
     "output_type": "display_data"
    },
    {
     "name": "stderr",
     "output_type": "stream",
     "text": [
      " 40%|████      | 20/50 [01:00<01:27,  2.93s/it]"
     ]
    },
    {
     "data": {
      "text/plain": "\u001B[2;36m[02/11/25 18:43:02]\u001B[0m\u001B[2;36m \u001B[0m\u001B[34mINFO    \u001B[0m                                                                     \u001B]8;id=419637;file://C:\\Users\\kyawk\\Desktop\\robustness_of_gnns_at_scale-main\\rgnn_at_scale\\attacks\\local_prbcd.py\u001B\\\u001B[2mlocal_prbcd.py\u001B[0m\u001B]8;;\u001B\\\u001B[2m:\u001B[0m\u001B]8;id=644670;file://C:\\Users\\kyawk\\Desktop\\robustness_of_gnns_at_scale-main\\rgnn_at_scale\\attacks\\local_prbcd.py#113\u001B\\\u001B[2m113\u001B[0m\u001B]8;;\u001B\\\n\u001B[2;36m                    \u001B[0m         Epoch: \u001B[1;36m20\u001B[0m Loss: \u001B[1;36m-1.5799832344055176\u001B[0m Statstics: \u001B[1m{\u001B[0m\u001B[32m'logit_target'\u001B[0m:     \u001B[2m                  \u001B[0m\n\u001B[2;36m                    \u001B[0m         \u001B[1;36m-0.49517086148262024\u001B[0m, \u001B[32m'logit_best_non_target'\u001B[0m: \u001B[1;36m-2.047530174255371\u001B[0m,  \u001B[2m                  \u001B[0m\n\u001B[2;36m                    \u001B[0m         \u001B[32m'confidence_target'\u001B[0m: \u001B[1;36m0.6094667640046184\u001B[0m, \u001B[32m'confidence_non_target'\u001B[0m:   \u001B[2m                  \u001B[0m\n\u001B[2;36m                    \u001B[0m         \u001B[1;36m0.12905324933435117\u001B[0m, \u001B[32m'margin'\u001B[0m: \u001B[1;36m0.48041351467026727\u001B[0m\u001B[1m}\u001B[0m                 \u001B[2m                  \u001B[0m\n\u001B[2;36m                    \u001B[0m                                                                             \u001B[2m                  \u001B[0m\n",
      "text/html": "<pre style=\"white-space:pre;overflow-x:auto;line-height:normal;font-family:Menlo,'DejaVu Sans Mono',consolas,'Courier New',monospace\"><span style=\"color: #7fbfbf; text-decoration-color: #7fbfbf\">[02/11/25 18:43:02] </span><span style=\"color: #000080; text-decoration-color: #000080\">INFO    </span>                                                                     <a href=\"file://C:\\Users\\kyawk\\Desktop\\robustness_of_gnns_at_scale-main\\rgnn_at_scale\\attacks\\local_prbcd.py\" target=\"_blank\"><span style=\"color: #7f7f7f; text-decoration-color: #7f7f7f\">local_prbcd.py</span></a><span style=\"color: #7f7f7f; text-decoration-color: #7f7f7f\">:</span><a href=\"file://C:\\Users\\kyawk\\Desktop\\robustness_of_gnns_at_scale-main\\rgnn_at_scale\\attacks\\local_prbcd.py#113\" target=\"_blank\"><span style=\"color: #7f7f7f; text-decoration-color: #7f7f7f\">113</span></a>\n<span style=\"color: #7fbfbf; text-decoration-color: #7fbfbf\">                    </span>         Epoch: <span style=\"color: #008080; text-decoration-color: #008080; font-weight: bold\">20</span> Loss: <span style=\"color: #008080; text-decoration-color: #008080; font-weight: bold\">-1.5799832344055176</span> Statstics: <span style=\"font-weight: bold\">{</span><span style=\"color: #008000; text-decoration-color: #008000\">'logit_target'</span>:     <span style=\"color: #7f7f7f; text-decoration-color: #7f7f7f\">                  </span>\n<span style=\"color: #7fbfbf; text-decoration-color: #7fbfbf\">                    </span>         <span style=\"color: #008080; text-decoration-color: #008080; font-weight: bold\">-0.49517086148262024</span>, <span style=\"color: #008000; text-decoration-color: #008000\">'logit_best_non_target'</span>: <span style=\"color: #008080; text-decoration-color: #008080; font-weight: bold\">-2.047530174255371</span>,  <span style=\"color: #7f7f7f; text-decoration-color: #7f7f7f\">                  </span>\n<span style=\"color: #7fbfbf; text-decoration-color: #7fbfbf\">                    </span>         <span style=\"color: #008000; text-decoration-color: #008000\">'confidence_target'</span>: <span style=\"color: #008080; text-decoration-color: #008080; font-weight: bold\">0.6094667640046184</span>, <span style=\"color: #008000; text-decoration-color: #008000\">'confidence_non_target'</span>:   <span style=\"color: #7f7f7f; text-decoration-color: #7f7f7f\">                  </span>\n<span style=\"color: #7fbfbf; text-decoration-color: #7fbfbf\">                    </span>         <span style=\"color: #008080; text-decoration-color: #008080; font-weight: bold\">0.12905324933435117</span>, <span style=\"color: #008000; text-decoration-color: #008000\">'margin'</span>: <span style=\"color: #008080; text-decoration-color: #008080; font-weight: bold\">0.48041351467026727</span><span style=\"font-weight: bold\">}</span>                 <span style=\"color: #7f7f7f; text-decoration-color: #7f7f7f\">                  </span>\n<span style=\"color: #7fbfbf; text-decoration-color: #7fbfbf\">                    </span>                                                                             <span style=\"color: #7f7f7f; text-decoration-color: #7f7f7f\">                  </span>\n</pre>\n"
     },
     "metadata": {},
     "output_type": "display_data"
    },
    {
     "data": {
      "text/plain": "\u001B[2;36m                   \u001B[0m\u001B[2;36m \u001B[0m\u001B[34mINFO    \u001B[0m Gradient mean \u001B[1;36m0.019247569143772125\u001B[0m std \u001B[1;36m0.01329970546066761\u001B[0m with     \u001B]8;id=646861;file://C:\\Users\\kyawk\\Desktop\\robustness_of_gnns_at_scale-main\\rgnn_at_scale\\attacks\\local_prbcd.py\u001B\\\u001B[2mlocal_prbcd.py\u001B[0m\u001B]8;;\u001B\\\u001B[2m:\u001B[0m\u001B]8;id=31376;file://C:\\Users\\kyawk\\Desktop\\robustness_of_gnns_at_scale-main\\rgnn_at_scale\\attacks\\local_prbcd.py#114\u001B\\\u001B[2m114\u001B[0m\u001B]8;;\u001B\\\n\u001B[2;36m                    \u001B[0m         base learning rate \u001B[1;36m0.65\u001B[0m                                             \u001B[2m                  \u001B[0m\n",
      "text/html": "<pre style=\"white-space:pre;overflow-x:auto;line-height:normal;font-family:Menlo,'DejaVu Sans Mono',consolas,'Courier New',monospace\"><span style=\"color: #7fbfbf; text-decoration-color: #7fbfbf\">                    </span><span style=\"color: #000080; text-decoration-color: #000080\">INFO    </span> Gradient mean <span style=\"color: #008080; text-decoration-color: #008080; font-weight: bold\">0.019247569143772125</span> std <span style=\"color: #008080; text-decoration-color: #008080; font-weight: bold\">0.01329970546066761</span> with     <a href=\"file://C:\\Users\\kyawk\\Desktop\\robustness_of_gnns_at_scale-main\\rgnn_at_scale\\attacks\\local_prbcd.py\" target=\"_blank\"><span style=\"color: #7f7f7f; text-decoration-color: #7f7f7f\">local_prbcd.py</span></a><span style=\"color: #7f7f7f; text-decoration-color: #7f7f7f\">:</span><a href=\"file://C:\\Users\\kyawk\\Desktop\\robustness_of_gnns_at_scale-main\\rgnn_at_scale\\attacks\\local_prbcd.py#114\" target=\"_blank\"><span style=\"color: #7f7f7f; text-decoration-color: #7f7f7f\">114</span></a>\n<span style=\"color: #7fbfbf; text-decoration-color: #7fbfbf\">                    </span>         base learning rate <span style=\"color: #008080; text-decoration-color: #008080; font-weight: bold\">0.65</span>                                             <span style=\"color: #7f7f7f; text-decoration-color: #7f7f7f\">                  </span>\n</pre>\n"
     },
     "metadata": {},
     "output_type": "display_data"
    },
    {
     "name": "stderr",
     "output_type": "stream",
     "text": [
      " 80%|████████  | 40/50 [02:00<00:29,  2.94s/it]"
     ]
    },
    {
     "data": {
      "text/plain": "\u001B[2;36m[02/11/25 18:44:01]\u001B[0m\u001B[2;36m \u001B[0m\u001B[34mINFO    \u001B[0m                                                                     \u001B]8;id=47842;file://C:\\Users\\kyawk\\Desktop\\robustness_of_gnns_at_scale-main\\rgnn_at_scale\\attacks\\local_prbcd.py\u001B\\\u001B[2mlocal_prbcd.py\u001B[0m\u001B]8;;\u001B\\\u001B[2m:\u001B[0m\u001B]8;id=528039;file://C:\\Users\\kyawk\\Desktop\\robustness_of_gnns_at_scale-main\\rgnn_at_scale\\attacks\\local_prbcd.py#113\u001B\\\u001B[2m113\u001B[0m\u001B]8;;\u001B\\\n\u001B[2;36m                    \u001B[0m         Epoch: \u001B[1;36m40\u001B[0m Loss: \u001B[1;36m-0.8522027134895325\u001B[0m Statstics: \u001B[1m{\u001B[0m\u001B[32m'logit_target'\u001B[0m:     \u001B[2m                  \u001B[0m\n\u001B[2;36m                    \u001B[0m         \u001B[1;36m-0.7451592683792114\u001B[0m, \u001B[32m'logit_best_non_target'\u001B[0m: \u001B[1;36m-1.5679843425750732\u001B[0m,  \u001B[2m                  \u001B[0m\n\u001B[2;36m                    \u001B[0m         \u001B[32m'confidence_target'\u001B[0m: \u001B[1;36m0.47465869579823927\u001B[0m, \u001B[32m'confidence_non_target'\u001B[0m:  \u001B[2m                  \u001B[0m\n\u001B[2;36m                    \u001B[0m         \u001B[1;36m0.2084649530884314\u001B[0m, \u001B[32m'margin'\u001B[0m: \u001B[1;36m0.2661937427098079\u001B[0m\u001B[1m}\u001B[0m                   \u001B[2m                  \u001B[0m\n\u001B[2;36m                    \u001B[0m                                                                             \u001B[2m                  \u001B[0m\n",
      "text/html": "<pre style=\"white-space:pre;overflow-x:auto;line-height:normal;font-family:Menlo,'DejaVu Sans Mono',consolas,'Courier New',monospace\"><span style=\"color: #7fbfbf; text-decoration-color: #7fbfbf\">[02/11/25 18:44:01] </span><span style=\"color: #000080; text-decoration-color: #000080\">INFO    </span>                                                                     <a href=\"file://C:\\Users\\kyawk\\Desktop\\robustness_of_gnns_at_scale-main\\rgnn_at_scale\\attacks\\local_prbcd.py\" target=\"_blank\"><span style=\"color: #7f7f7f; text-decoration-color: #7f7f7f\">local_prbcd.py</span></a><span style=\"color: #7f7f7f; text-decoration-color: #7f7f7f\">:</span><a href=\"file://C:\\Users\\kyawk\\Desktop\\robustness_of_gnns_at_scale-main\\rgnn_at_scale\\attacks\\local_prbcd.py#113\" target=\"_blank\"><span style=\"color: #7f7f7f; text-decoration-color: #7f7f7f\">113</span></a>\n<span style=\"color: #7fbfbf; text-decoration-color: #7fbfbf\">                    </span>         Epoch: <span style=\"color: #008080; text-decoration-color: #008080; font-weight: bold\">40</span> Loss: <span style=\"color: #008080; text-decoration-color: #008080; font-weight: bold\">-0.8522027134895325</span> Statstics: <span style=\"font-weight: bold\">{</span><span style=\"color: #008000; text-decoration-color: #008000\">'logit_target'</span>:     <span style=\"color: #7f7f7f; text-decoration-color: #7f7f7f\">                  </span>\n<span style=\"color: #7fbfbf; text-decoration-color: #7fbfbf\">                    </span>         <span style=\"color: #008080; text-decoration-color: #008080; font-weight: bold\">-0.7451592683792114</span>, <span style=\"color: #008000; text-decoration-color: #008000\">'logit_best_non_target'</span>: <span style=\"color: #008080; text-decoration-color: #008080; font-weight: bold\">-1.5679843425750732</span>,  <span style=\"color: #7f7f7f; text-decoration-color: #7f7f7f\">                  </span>\n<span style=\"color: #7fbfbf; text-decoration-color: #7fbfbf\">                    </span>         <span style=\"color: #008000; text-decoration-color: #008000\">'confidence_target'</span>: <span style=\"color: #008080; text-decoration-color: #008080; font-weight: bold\">0.47465869579823927</span>, <span style=\"color: #008000; text-decoration-color: #008000\">'confidence_non_target'</span>:  <span style=\"color: #7f7f7f; text-decoration-color: #7f7f7f\">                  </span>\n<span style=\"color: #7fbfbf; text-decoration-color: #7fbfbf\">                    </span>         <span style=\"color: #008080; text-decoration-color: #008080; font-weight: bold\">0.2084649530884314</span>, <span style=\"color: #008000; text-decoration-color: #008000\">'margin'</span>: <span style=\"color: #008080; text-decoration-color: #008080; font-weight: bold\">0.2661937427098079</span><span style=\"font-weight: bold\">}</span>                   <span style=\"color: #7f7f7f; text-decoration-color: #7f7f7f\">                  </span>\n<span style=\"color: #7fbfbf; text-decoration-color: #7fbfbf\">                    </span>                                                                             <span style=\"color: #7f7f7f; text-decoration-color: #7f7f7f\">                  </span>\n</pre>\n"
     },
     "metadata": {},
     "output_type": "display_data"
    },
    {
     "data": {
      "text/plain": "\u001B[2;36m                   \u001B[0m\u001B[2;36m \u001B[0m\u001B[34mINFO    \u001B[0m Gradient mean \u001B[1;36m0.010496213100850582\u001B[0m std \u001B[1;36m0.011462497524917126\u001B[0m with    \u001B]8;id=348519;file://C:\\Users\\kyawk\\Desktop\\robustness_of_gnns_at_scale-main\\rgnn_at_scale\\attacks\\local_prbcd.py\u001B\\\u001B[2mlocal_prbcd.py\u001B[0m\u001B]8;;\u001B\\\u001B[2m:\u001B[0m\u001B]8;id=220319;file://C:\\Users\\kyawk\\Desktop\\robustness_of_gnns_at_scale-main\\rgnn_at_scale\\attacks\\local_prbcd.py#114\u001B\\\u001B[2m114\u001B[0m\u001B]8;;\u001B\\\n\u001B[2;36m                    \u001B[0m         base learning rate \u001B[1;36m0.65\u001B[0m                                             \u001B[2m                  \u001B[0m\n",
      "text/html": "<pre style=\"white-space:pre;overflow-x:auto;line-height:normal;font-family:Menlo,'DejaVu Sans Mono',consolas,'Courier New',monospace\"><span style=\"color: #7fbfbf; text-decoration-color: #7fbfbf\">                    </span><span style=\"color: #000080; text-decoration-color: #000080\">INFO    </span> Gradient mean <span style=\"color: #008080; text-decoration-color: #008080; font-weight: bold\">0.010496213100850582</span> std <span style=\"color: #008080; text-decoration-color: #008080; font-weight: bold\">0.011462497524917126</span> with    <a href=\"file://C:\\Users\\kyawk\\Desktop\\robustness_of_gnns_at_scale-main\\rgnn_at_scale\\attacks\\local_prbcd.py\" target=\"_blank\"><span style=\"color: #7f7f7f; text-decoration-color: #7f7f7f\">local_prbcd.py</span></a><span style=\"color: #7f7f7f; text-decoration-color: #7f7f7f\">:</span><a href=\"file://C:\\Users\\kyawk\\Desktop\\robustness_of_gnns_at_scale-main\\rgnn_at_scale\\attacks\\local_prbcd.py#114\" target=\"_blank\"><span style=\"color: #7f7f7f; text-decoration-color: #7f7f7f\">114</span></a>\n<span style=\"color: #7fbfbf; text-decoration-color: #7fbfbf\">                    </span>         base learning rate <span style=\"color: #008080; text-decoration-color: #008080; font-weight: bold\">0.65</span>                                             <span style=\"color: #7f7f7f; text-decoration-color: #7f7f7f\">                  </span>\n</pre>\n"
     },
     "metadata": {},
     "output_type": "display_data"
    },
    {
     "name": "stderr",
     "output_type": "stream",
     "text": [
      "100%|██████████| 50/50 [02:29<00:00,  3.00s/it]\n"
     ]
    },
    {
     "data": {
      "text/plain": "\u001B[2;36m[02/11/25 18:44:34]\u001B[0m\u001B[2;36m \u001B[0m\u001B[34mINFO    \u001B[0m Evaluated model Vanilla GCN using LocalPRBCD     \u001B]8;id=407764;file://C:\\Users\\kyawk\\Desktop\\robustness_of_gnns_at_scale-main\\experiments\\experiment_local_attack_direct.py\u001B\\\u001B[2mexperiment_local_attack_direct.py\u001B[0m\u001B]8;;\u001B\\\u001B[2m:\u001B[0m\u001B]8;id=326676;file://C:\\Users\\kyawk\\Desktop\\robustness_of_gnns_at_scale-main\\experiments\\experiment_local_attack_direct.py#194\u001B\\\u001B[2m194\u001B[0m\u001B]8;;\u001B\\\n\u001B[2;36m                    \u001B[0m         with pert. edges for node \u001B[1;36m379\u001B[0m and budget \u001B[1;36m13\u001B[0m:     \u001B[2m                                     \u001B[0m\n",
      "text/html": "<pre style=\"white-space:pre;overflow-x:auto;line-height:normal;font-family:Menlo,'DejaVu Sans Mono',consolas,'Courier New',monospace\"><span style=\"color: #7fbfbf; text-decoration-color: #7fbfbf\">[02/11/25 18:44:34] </span><span style=\"color: #000080; text-decoration-color: #000080\">INFO    </span> Evaluated model Vanilla GCN using LocalPRBCD     <a href=\"file://C:\\Users\\kyawk\\Desktop\\robustness_of_gnns_at_scale-main\\experiments\\experiment_local_attack_direct.py\" target=\"_blank\"><span style=\"color: #7f7f7f; text-decoration-color: #7f7f7f\">experiment_local_attack_direct.py</span></a><span style=\"color: #7f7f7f; text-decoration-color: #7f7f7f\">:</span><a href=\"file://C:\\Users\\kyawk\\Desktop\\robustness_of_gnns_at_scale-main\\experiments\\experiment_local_attack_direct.py#194\" target=\"_blank\"><span style=\"color: #7f7f7f; text-decoration-color: #7f7f7f\">194</span></a>\n<span style=\"color: #7fbfbf; text-decoration-color: #7fbfbf\">                    </span>         with pert. edges for node <span style=\"color: #008080; text-decoration-color: #008080; font-weight: bold\">379</span> and budget <span style=\"color: #008080; text-decoration-color: #008080; font-weight: bold\">13</span>:     <span style=\"color: #7f7f7f; text-decoration-color: #7f7f7f\">                                     </span>\n</pre>\n"
     },
     "metadata": {},
     "output_type": "display_data"
    },
    {
     "data": {
      "text/plain": "\u001B[2;36m                   \u001B[0m\u001B[2;36m \u001B[0m\u001B[34mINFO    \u001B[0m \u001B[1m{\u001B[0m\u001B[32m'label'\u001B[0m: \u001B[32m'Vanilla GCN'\u001B[0m, \u001B[32m'epsilon'\u001B[0m: \u001B[1;36m1\u001B[0m,           \u001B]8;id=494053;file://C:\\Users\\kyawk\\Desktop\\robustness_of_gnns_at_scale-main\\experiments\\experiment_local_attack_direct.py\u001B\\\u001B[2mexperiment_local_attack_direct.py\u001B[0m\u001B]8;;\u001B\\\u001B[2m:\u001B[0m\u001B]8;id=140293;file://C:\\Users\\kyawk\\Desktop\\robustness_of_gnns_at_scale-main\\experiments\\experiment_local_attack_direct.py#215\u001B\\\u001B[2m215\u001B[0m\u001B]8;;\u001B\\\n\u001B[2;36m                    \u001B[0m         \u001B[32m'n_perturbations'\u001B[0m: \u001B[1;36m13\u001B[0m, \u001B[32m'degree'\u001B[0m: \u001B[1;36m13\u001B[0m, \u001B[32m'logits'\u001B[0m:   \u001B[2m                                     \u001B[0m\n\u001B[2;36m                    \u001B[0m         \u001B[1m[\u001B[0m\u001B[1m[\u001B[0m\u001B[1;36m-0.6386789679527283\u001B[0m, \u001B[1;36m-0.2648126482963562\u001B[0m,      \u001B[2m                                     \u001B[0m\n\u001B[2;36m                    \u001B[0m         \u001B[1;36m1.3731977939605713\u001B[0m, \u001B[1;36m-0.8359222412109375\u001B[0m,         \u001B[2m                                     \u001B[0m\n\u001B[2;36m                    \u001B[0m         \u001B[1;36m1.0455377101898193\u001B[0m, \u001B[1;36m-0.6723066568374634\u001B[0m,         \u001B[2m                                     \u001B[0m\n\u001B[2;36m                    \u001B[0m         \u001B[1;36m-0.18785583972930908\u001B[0m\u001B[1m]\u001B[0m\u001B[1m]\u001B[0m, \u001B[32m'initial_logits'\u001B[0m:        \u001B[2m                                     \u001B[0m\n\u001B[2;36m                    \u001B[0m         \u001B[1m[\u001B[0m\u001B[1m[\u001B[0m\u001B[1;36m-0.7696818113327026\u001B[0m, \u001B[1;36m-1.0546355247497559\u001B[0m,      \u001B[2m                                     \u001B[0m\n\u001B[2;36m                    \u001B[0m         \u001B[1;36m3.6630301475524902\u001B[0m, \u001B[1;36m-0.8119737505912781\u001B[0m,         \u001B[2m                                     \u001B[0m\n\u001B[2;36m                    \u001B[0m         \u001B[1;36m-0.24224436283111572\u001B[0m, \u001B[1;36m-0.6342805027961731\u001B[0m,       \u001B[2m                                     \u001B[0m\n\u001B[2;36m                    \u001B[0m         \u001B[1;36m-0.3217378854751587\u001B[0m\u001B[1m]\u001B[0m\u001B[1m]\u001B[0m, \u001B[32m'larget'\u001B[0m: \u001B[1;36m2\u001B[0m, \u001B[32m'node_id'\u001B[0m:   \u001B[2m                                     \u001B[0m\n\u001B[2;36m                    \u001B[0m         \u001B[1;36m379\u001B[0m, \u001B[32m'perturbed_edges'\u001B[0m: \u001B[1m[\u001B[0m\u001B[1m[\u001B[0m\u001B[1;36m379\u001B[0m, \u001B[1;36m379\u001B[0m, \u001B[1;36m379\u001B[0m, \u001B[1;36m379\u001B[0m,    \u001B[2m                                     \u001B[0m\n\u001B[2;36m                    \u001B[0m         \u001B[1;36m379\u001B[0m, \u001B[1;36m379\u001B[0m, \u001B[1;36m379\u001B[0m, \u001B[1;36m379\u001B[0m, \u001B[1;36m379\u001B[0m, \u001B[1;36m379\u001B[0m, \u001B[1;36m379\u001B[0m, \u001B[1;36m379\u001B[0m, \u001B[1;36m379\u001B[0m\u001B[1m]\u001B[0m,    \u001B[2m                                     \u001B[0m\n\u001B[2;36m                    \u001B[0m         \u001B[1m[\u001B[0m\u001B[1;36m697\u001B[0m, \u001B[1;36m715\u001B[0m, \u001B[1;36m727\u001B[0m, \u001B[1;36m737\u001B[0m, \u001B[1;36m769\u001B[0m, \u001B[1;36m776\u001B[0m, \u001B[1;36m809\u001B[0m, \u001B[1;36m820\u001B[0m, \u001B[1;36m821\u001B[0m,    \u001B[2m                                     \u001B[0m\n\u001B[2;36m                    \u001B[0m         \u001B[1;36m969\u001B[0m, \u001B[1;36m1629\u001B[0m, \u001B[1;36m2485\u001B[0m, \u001B[1;36m2805\u001B[0m\u001B[1m]\u001B[0m\u001B[1m]\u001B[0m, \u001B[32m'logit_target'\u001B[0m:         \u001B[2m                                     \u001B[0m\n\u001B[2;36m                    \u001B[0m         \u001B[1;36m-0.9153857827186584\u001B[0m, \u001B[32m'logit_best_non_target'\u001B[0m:    \u001B[2m                                     \u001B[0m\n\u001B[2;36m                    \u001B[0m         \u001B[1;36m-1.2430458068847656\u001B[0m, \u001B[32m'confidence_target'\u001B[0m:        \u001B[2m                                     \u001B[0m\n\u001B[2;36m                    \u001B[0m         \u001B[1;36m0.4003621434982108\u001B[0m, \u001B[32m'confidence_non_target'\u001B[0m:     \u001B[2m                                     \u001B[0m\n\u001B[2;36m                    \u001B[0m         \u001B[1;36m0.2885041504339035\u001B[0m, \u001B[32m'margin'\u001B[0m:                    \u001B[2m                                     \u001B[0m\n\u001B[2;36m                    \u001B[0m         \u001B[1;36m0.11185799306430733\u001B[0m, \u001B[32m'initial_logit_target'\u001B[0m:     \u001B[2m                                     \u001B[0m\n\u001B[2;36m                    \u001B[0m         \u001B[1;36m-0.08116121590137482\u001B[0m,                            \u001B[2m                                     \u001B[0m\n\u001B[2;36m                    \u001B[0m         \u001B[32m'initial_logit_best_non_target'\u001B[0m:                 \u001B[2m                                     \u001B[0m\n\u001B[2;36m                    \u001B[0m         \u001B[1;36m-3.986435651779175\u001B[0m, \u001B[32m'initial_confidence_target'\u001B[0m: \u001B[2m                                     \u001B[0m\n\u001B[2;36m                    \u001B[0m         \u001B[1;36m0.9220450311409241\u001B[0m,                              \u001B[2m                                     \u001B[0m\n\u001B[2;36m                    \u001B[0m         \u001B[32m'initial_confidence_non_target'\u001B[0m:                 \u001B[2m                                     \u001B[0m\n\u001B[2;36m                    \u001B[0m         \u001B[1;36m0.018565771198207313\u001B[0m, \u001B[32m'initial_margin'\u001B[0m:          \u001B[2m                                     \u001B[0m\n\u001B[2;36m                    \u001B[0m         \u001B[1;36m0.9034792599427167\u001B[0m\u001B[1m}\u001B[0m                              \u001B[2m                                     \u001B[0m\n",
      "text/html": "<pre style=\"white-space:pre;overflow-x:auto;line-height:normal;font-family:Menlo,'DejaVu Sans Mono',consolas,'Courier New',monospace\"><span style=\"color: #7fbfbf; text-decoration-color: #7fbfbf\">                    </span><span style=\"color: #000080; text-decoration-color: #000080\">INFO    </span> <span style=\"font-weight: bold\">{</span><span style=\"color: #008000; text-decoration-color: #008000\">'label'</span>: <span style=\"color: #008000; text-decoration-color: #008000\">'Vanilla GCN'</span>, <span style=\"color: #008000; text-decoration-color: #008000\">'epsilon'</span>: <span style=\"color: #008080; text-decoration-color: #008080; font-weight: bold\">1</span>,           <a href=\"file://C:\\Users\\kyawk\\Desktop\\robustness_of_gnns_at_scale-main\\experiments\\experiment_local_attack_direct.py\" target=\"_blank\"><span style=\"color: #7f7f7f; text-decoration-color: #7f7f7f\">experiment_local_attack_direct.py</span></a><span style=\"color: #7f7f7f; text-decoration-color: #7f7f7f\">:</span><a href=\"file://C:\\Users\\kyawk\\Desktop\\robustness_of_gnns_at_scale-main\\experiments\\experiment_local_attack_direct.py#215\" target=\"_blank\"><span style=\"color: #7f7f7f; text-decoration-color: #7f7f7f\">215</span></a>\n<span style=\"color: #7fbfbf; text-decoration-color: #7fbfbf\">                    </span>         <span style=\"color: #008000; text-decoration-color: #008000\">'n_perturbations'</span>: <span style=\"color: #008080; text-decoration-color: #008080; font-weight: bold\">13</span>, <span style=\"color: #008000; text-decoration-color: #008000\">'degree'</span>: <span style=\"color: #008080; text-decoration-color: #008080; font-weight: bold\">13</span>, <span style=\"color: #008000; text-decoration-color: #008000\">'logits'</span>:   <span style=\"color: #7f7f7f; text-decoration-color: #7f7f7f\">                                     </span>\n<span style=\"color: #7fbfbf; text-decoration-color: #7fbfbf\">                    </span>         <span style=\"font-weight: bold\">[[</span><span style=\"color: #008080; text-decoration-color: #008080; font-weight: bold\">-0.6386789679527283</span>, <span style=\"color: #008080; text-decoration-color: #008080; font-weight: bold\">-0.2648126482963562</span>,      <span style=\"color: #7f7f7f; text-decoration-color: #7f7f7f\">                                     </span>\n<span style=\"color: #7fbfbf; text-decoration-color: #7fbfbf\">                    </span>         <span style=\"color: #008080; text-decoration-color: #008080; font-weight: bold\">1.3731977939605713</span>, <span style=\"color: #008080; text-decoration-color: #008080; font-weight: bold\">-0.8359222412109375</span>,         <span style=\"color: #7f7f7f; text-decoration-color: #7f7f7f\">                                     </span>\n<span style=\"color: #7fbfbf; text-decoration-color: #7fbfbf\">                    </span>         <span style=\"color: #008080; text-decoration-color: #008080; font-weight: bold\">1.0455377101898193</span>, <span style=\"color: #008080; text-decoration-color: #008080; font-weight: bold\">-0.6723066568374634</span>,         <span style=\"color: #7f7f7f; text-decoration-color: #7f7f7f\">                                     </span>\n<span style=\"color: #7fbfbf; text-decoration-color: #7fbfbf\">                    </span>         <span style=\"color: #008080; text-decoration-color: #008080; font-weight: bold\">-0.18785583972930908</span><span style=\"font-weight: bold\">]]</span>, <span style=\"color: #008000; text-decoration-color: #008000\">'initial_logits'</span>:        <span style=\"color: #7f7f7f; text-decoration-color: #7f7f7f\">                                     </span>\n<span style=\"color: #7fbfbf; text-decoration-color: #7fbfbf\">                    </span>         <span style=\"font-weight: bold\">[[</span><span style=\"color: #008080; text-decoration-color: #008080; font-weight: bold\">-0.7696818113327026</span>, <span style=\"color: #008080; text-decoration-color: #008080; font-weight: bold\">-1.0546355247497559</span>,      <span style=\"color: #7f7f7f; text-decoration-color: #7f7f7f\">                                     </span>\n<span style=\"color: #7fbfbf; text-decoration-color: #7fbfbf\">                    </span>         <span style=\"color: #008080; text-decoration-color: #008080; font-weight: bold\">3.6630301475524902</span>, <span style=\"color: #008080; text-decoration-color: #008080; font-weight: bold\">-0.8119737505912781</span>,         <span style=\"color: #7f7f7f; text-decoration-color: #7f7f7f\">                                     </span>\n<span style=\"color: #7fbfbf; text-decoration-color: #7fbfbf\">                    </span>         <span style=\"color: #008080; text-decoration-color: #008080; font-weight: bold\">-0.24224436283111572</span>, <span style=\"color: #008080; text-decoration-color: #008080; font-weight: bold\">-0.6342805027961731</span>,       <span style=\"color: #7f7f7f; text-decoration-color: #7f7f7f\">                                     </span>\n<span style=\"color: #7fbfbf; text-decoration-color: #7fbfbf\">                    </span>         <span style=\"color: #008080; text-decoration-color: #008080; font-weight: bold\">-0.3217378854751587</span><span style=\"font-weight: bold\">]]</span>, <span style=\"color: #008000; text-decoration-color: #008000\">'larget'</span>: <span style=\"color: #008080; text-decoration-color: #008080; font-weight: bold\">2</span>, <span style=\"color: #008000; text-decoration-color: #008000\">'node_id'</span>:   <span style=\"color: #7f7f7f; text-decoration-color: #7f7f7f\">                                     </span>\n<span style=\"color: #7fbfbf; text-decoration-color: #7fbfbf\">                    </span>         <span style=\"color: #008080; text-decoration-color: #008080; font-weight: bold\">379</span>, <span style=\"color: #008000; text-decoration-color: #008000\">'perturbed_edges'</span>: <span style=\"font-weight: bold\">[[</span><span style=\"color: #008080; text-decoration-color: #008080; font-weight: bold\">379</span>, <span style=\"color: #008080; text-decoration-color: #008080; font-weight: bold\">379</span>, <span style=\"color: #008080; text-decoration-color: #008080; font-weight: bold\">379</span>, <span style=\"color: #008080; text-decoration-color: #008080; font-weight: bold\">379</span>,    <span style=\"color: #7f7f7f; text-decoration-color: #7f7f7f\">                                     </span>\n<span style=\"color: #7fbfbf; text-decoration-color: #7fbfbf\">                    </span>         <span style=\"color: #008080; text-decoration-color: #008080; font-weight: bold\">379</span>, <span style=\"color: #008080; text-decoration-color: #008080; font-weight: bold\">379</span>, <span style=\"color: #008080; text-decoration-color: #008080; font-weight: bold\">379</span>, <span style=\"color: #008080; text-decoration-color: #008080; font-weight: bold\">379</span>, <span style=\"color: #008080; text-decoration-color: #008080; font-weight: bold\">379</span>, <span style=\"color: #008080; text-decoration-color: #008080; font-weight: bold\">379</span>, <span style=\"color: #008080; text-decoration-color: #008080; font-weight: bold\">379</span>, <span style=\"color: #008080; text-decoration-color: #008080; font-weight: bold\">379</span>, <span style=\"color: #008080; text-decoration-color: #008080; font-weight: bold\">379</span><span style=\"font-weight: bold\">]</span>,    <span style=\"color: #7f7f7f; text-decoration-color: #7f7f7f\">                                     </span>\n<span style=\"color: #7fbfbf; text-decoration-color: #7fbfbf\">                    </span>         <span style=\"font-weight: bold\">[</span><span style=\"color: #008080; text-decoration-color: #008080; font-weight: bold\">697</span>, <span style=\"color: #008080; text-decoration-color: #008080; font-weight: bold\">715</span>, <span style=\"color: #008080; text-decoration-color: #008080; font-weight: bold\">727</span>, <span style=\"color: #008080; text-decoration-color: #008080; font-weight: bold\">737</span>, <span style=\"color: #008080; text-decoration-color: #008080; font-weight: bold\">769</span>, <span style=\"color: #008080; text-decoration-color: #008080; font-weight: bold\">776</span>, <span style=\"color: #008080; text-decoration-color: #008080; font-weight: bold\">809</span>, <span style=\"color: #008080; text-decoration-color: #008080; font-weight: bold\">820</span>, <span style=\"color: #008080; text-decoration-color: #008080; font-weight: bold\">821</span>,    <span style=\"color: #7f7f7f; text-decoration-color: #7f7f7f\">                                     </span>\n<span style=\"color: #7fbfbf; text-decoration-color: #7fbfbf\">                    </span>         <span style=\"color: #008080; text-decoration-color: #008080; font-weight: bold\">969</span>, <span style=\"color: #008080; text-decoration-color: #008080; font-weight: bold\">1629</span>, <span style=\"color: #008080; text-decoration-color: #008080; font-weight: bold\">2485</span>, <span style=\"color: #008080; text-decoration-color: #008080; font-weight: bold\">2805</span><span style=\"font-weight: bold\">]]</span>, <span style=\"color: #008000; text-decoration-color: #008000\">'logit_target'</span>:         <span style=\"color: #7f7f7f; text-decoration-color: #7f7f7f\">                                     </span>\n<span style=\"color: #7fbfbf; text-decoration-color: #7fbfbf\">                    </span>         <span style=\"color: #008080; text-decoration-color: #008080; font-weight: bold\">-0.9153857827186584</span>, <span style=\"color: #008000; text-decoration-color: #008000\">'logit_best_non_target'</span>:    <span style=\"color: #7f7f7f; text-decoration-color: #7f7f7f\">                                     </span>\n<span style=\"color: #7fbfbf; text-decoration-color: #7fbfbf\">                    </span>         <span style=\"color: #008080; text-decoration-color: #008080; font-weight: bold\">-1.2430458068847656</span>, <span style=\"color: #008000; text-decoration-color: #008000\">'confidence_target'</span>:        <span style=\"color: #7f7f7f; text-decoration-color: #7f7f7f\">                                     </span>\n<span style=\"color: #7fbfbf; text-decoration-color: #7fbfbf\">                    </span>         <span style=\"color: #008080; text-decoration-color: #008080; font-weight: bold\">0.4003621434982108</span>, <span style=\"color: #008000; text-decoration-color: #008000\">'confidence_non_target'</span>:     <span style=\"color: #7f7f7f; text-decoration-color: #7f7f7f\">                                     </span>\n<span style=\"color: #7fbfbf; text-decoration-color: #7fbfbf\">                    </span>         <span style=\"color: #008080; text-decoration-color: #008080; font-weight: bold\">0.2885041504339035</span>, <span style=\"color: #008000; text-decoration-color: #008000\">'margin'</span>:                    <span style=\"color: #7f7f7f; text-decoration-color: #7f7f7f\">                                     </span>\n<span style=\"color: #7fbfbf; text-decoration-color: #7fbfbf\">                    </span>         <span style=\"color: #008080; text-decoration-color: #008080; font-weight: bold\">0.11185799306430733</span>, <span style=\"color: #008000; text-decoration-color: #008000\">'initial_logit_target'</span>:     <span style=\"color: #7f7f7f; text-decoration-color: #7f7f7f\">                                     </span>\n<span style=\"color: #7fbfbf; text-decoration-color: #7fbfbf\">                    </span>         <span style=\"color: #008080; text-decoration-color: #008080; font-weight: bold\">-0.08116121590137482</span>,                            <span style=\"color: #7f7f7f; text-decoration-color: #7f7f7f\">                                     </span>\n<span style=\"color: #7fbfbf; text-decoration-color: #7fbfbf\">                    </span>         <span style=\"color: #008000; text-decoration-color: #008000\">'initial_logit_best_non_target'</span>:                 <span style=\"color: #7f7f7f; text-decoration-color: #7f7f7f\">                                     </span>\n<span style=\"color: #7fbfbf; text-decoration-color: #7fbfbf\">                    </span>         <span style=\"color: #008080; text-decoration-color: #008080; font-weight: bold\">-3.986435651779175</span>, <span style=\"color: #008000; text-decoration-color: #008000\">'initial_confidence_target'</span>: <span style=\"color: #7f7f7f; text-decoration-color: #7f7f7f\">                                     </span>\n<span style=\"color: #7fbfbf; text-decoration-color: #7fbfbf\">                    </span>         <span style=\"color: #008080; text-decoration-color: #008080; font-weight: bold\">0.9220450311409241</span>,                              <span style=\"color: #7f7f7f; text-decoration-color: #7f7f7f\">                                     </span>\n<span style=\"color: #7fbfbf; text-decoration-color: #7fbfbf\">                    </span>         <span style=\"color: #008000; text-decoration-color: #008000\">'initial_confidence_non_target'</span>:                 <span style=\"color: #7f7f7f; text-decoration-color: #7f7f7f\">                                     </span>\n<span style=\"color: #7fbfbf; text-decoration-color: #7fbfbf\">                    </span>         <span style=\"color: #008080; text-decoration-color: #008080; font-weight: bold\">0.018565771198207313</span>, <span style=\"color: #008000; text-decoration-color: #008000\">'initial_margin'</span>:          <span style=\"color: #7f7f7f; text-decoration-color: #7f7f7f\">                                     </span>\n<span style=\"color: #7fbfbf; text-decoration-color: #7fbfbf\">                    </span>         <span style=\"color: #008080; text-decoration-color: #008080; font-weight: bold\">0.9034792599427167</span><span style=\"font-weight: bold\">}</span>                              <span style=\"color: #7f7f7f; text-decoration-color: #7f7f7f\">                                     </span>\n</pre>\n"
     },
     "metadata": {},
     "output_type": "display_data"
    },
    {
     "data": {
      "text/plain": "\u001B[2;36m                   \u001B[0m\u001B[2;36m \u001B[0m\u001B[34mINFO    \u001B[0m Completed attack and evaluation of Vanilla GCN   \u001B]8;id=892363;file://C:\\Users\\kyawk\\Desktop\\robustness_of_gnns_at_scale-main\\experiments\\experiment_local_attack_direct.py\u001B\\\u001B[2mexperiment_local_attack_direct.py\u001B[0m\u001B]8;;\u001B\\\u001B[2m:\u001B[0m\u001B]8;id=548222;file://C:\\Users\\kyawk\\Desktop\\robustness_of_gnns_at_scale-main\\experiments\\experiment_local_attack_direct.py#216\u001B\\\u001B[2m216\u001B[0m\u001B]8;;\u001B\\\n\u001B[2;36m                    \u001B[0m         using LocalPRBCD with pert. edges for node \u001B[1;36m379\u001B[0m   \u001B[2m                                     \u001B[0m\n\u001B[2;36m                    \u001B[0m         and budget \u001B[1;36m13\u001B[0m                                    \u001B[2m                                     \u001B[0m\n",
      "text/html": "<pre style=\"white-space:pre;overflow-x:auto;line-height:normal;font-family:Menlo,'DejaVu Sans Mono',consolas,'Courier New',monospace\"><span style=\"color: #7fbfbf; text-decoration-color: #7fbfbf\">                    </span><span style=\"color: #000080; text-decoration-color: #000080\">INFO    </span> Completed attack and evaluation of Vanilla GCN   <a href=\"file://C:\\Users\\kyawk\\Desktop\\robustness_of_gnns_at_scale-main\\experiments\\experiment_local_attack_direct.py\" target=\"_blank\"><span style=\"color: #7f7f7f; text-decoration-color: #7f7f7f\">experiment_local_attack_direct.py</span></a><span style=\"color: #7f7f7f; text-decoration-color: #7f7f7f\">:</span><a href=\"file://C:\\Users\\kyawk\\Desktop\\robustness_of_gnns_at_scale-main\\experiments\\experiment_local_attack_direct.py#216\" target=\"_blank\"><span style=\"color: #7f7f7f; text-decoration-color: #7f7f7f\">216</span></a>\n<span style=\"color: #7fbfbf; text-decoration-color: #7fbfbf\">                    </span>         using LocalPRBCD with pert. edges for node <span style=\"color: #008080; text-decoration-color: #008080; font-weight: bold\">379</span>   <span style=\"color: #7f7f7f; text-decoration-color: #7f7f7f\">                                     </span>\n<span style=\"color: #7fbfbf; text-decoration-color: #7fbfbf\">                    </span>         and budget <span style=\"color: #008080; text-decoration-color: #008080; font-weight: bold\">13</span>                                    <span style=\"color: #7f7f7f; text-decoration-color: #7f7f7f\">                                     </span>\n</pre>\n"
     },
     "metadata": {},
     "output_type": "display_data"
    },
    {
     "data": {
      "text/plain": "\u001B[2;36m                   \u001B[0m\u001B[2;36m \u001B[0m\u001B[34mINFO    \u001B[0m Original: Loss: \u001B[1;36m-0.5713076591491699\u001B[0m Statstics: \u001B[1m{\u001B[0m\u001B[32m'logit_target'\u001B[0m:      \u001B]8;id=700202;file://C:\\Users\\kyawk\\Desktop\\robustness_of_gnns_at_scale-main\\rgnn_at_scale\\attacks\\local_prbcd.py\u001B\\\u001B[2mlocal_prbcd.py\u001B[0m\u001B]8;;\u001B\\\u001B[2m:\u001B[0m\u001B]8;id=905610;file://C:\\Users\\kyawk\\Desktop\\robustness_of_gnns_at_scale-main\\rgnn_at_scale\\attacks\\local_prbcd.py#74\u001B\\\u001B[2m74\u001B[0m\u001B]8;;\u001B\\\n\u001B[2;36m                    \u001B[0m         \u001B[1;36m-0.795545220375061\u001B[0m, \u001B[32m'logit_best_non_target'\u001B[0m: \u001B[1;36m-1.366852879524231\u001B[0m,     \u001B[2m                 \u001B[0m\n\u001B[2;36m                    \u001B[0m         \u001B[32m'confidence_target'\u001B[0m: \u001B[1;36m0.4513350907398265\u001B[0m, \u001B[32m'confidence_non_target'\u001B[0m:    \u001B[2m                 \u001B[0m\n\u001B[2;36m                    \u001B[0m         \u001B[1;36m0.25490792447370836\u001B[0m, \u001B[32m'margin'\u001B[0m: \u001B[1;36m0.19642716626611817\u001B[0m\u001B[1m}\u001B[0m                  \u001B[2m                 \u001B[0m\n\u001B[2;36m                    \u001B[0m                                                                              \u001B[2m                 \u001B[0m\n",
      "text/html": "<pre style=\"white-space:pre;overflow-x:auto;line-height:normal;font-family:Menlo,'DejaVu Sans Mono',consolas,'Courier New',monospace\"><span style=\"color: #7fbfbf; text-decoration-color: #7fbfbf\">                    </span><span style=\"color: #000080; text-decoration-color: #000080\">INFO    </span> Original: Loss: <span style=\"color: #008080; text-decoration-color: #008080; font-weight: bold\">-0.5713076591491699</span> Statstics: <span style=\"font-weight: bold\">{</span><span style=\"color: #008000; text-decoration-color: #008000\">'logit_target'</span>:      <a href=\"file://C:\\Users\\kyawk\\Desktop\\robustness_of_gnns_at_scale-main\\rgnn_at_scale\\attacks\\local_prbcd.py\" target=\"_blank\"><span style=\"color: #7f7f7f; text-decoration-color: #7f7f7f\">local_prbcd.py</span></a><span style=\"color: #7f7f7f; text-decoration-color: #7f7f7f\">:</span><a href=\"file://C:\\Users\\kyawk\\Desktop\\robustness_of_gnns_at_scale-main\\rgnn_at_scale\\attacks\\local_prbcd.py#74\" target=\"_blank\"><span style=\"color: #7f7f7f; text-decoration-color: #7f7f7f\">74</span></a>\n<span style=\"color: #7fbfbf; text-decoration-color: #7fbfbf\">                    </span>         <span style=\"color: #008080; text-decoration-color: #008080; font-weight: bold\">-0.795545220375061</span>, <span style=\"color: #008000; text-decoration-color: #008000\">'logit_best_non_target'</span>: <span style=\"color: #008080; text-decoration-color: #008080; font-weight: bold\">-1.366852879524231</span>,     <span style=\"color: #7f7f7f; text-decoration-color: #7f7f7f\">                 </span>\n<span style=\"color: #7fbfbf; text-decoration-color: #7fbfbf\">                    </span>         <span style=\"color: #008000; text-decoration-color: #008000\">'confidence_target'</span>: <span style=\"color: #008080; text-decoration-color: #008080; font-weight: bold\">0.4513350907398265</span>, <span style=\"color: #008000; text-decoration-color: #008000\">'confidence_non_target'</span>:    <span style=\"color: #7f7f7f; text-decoration-color: #7f7f7f\">                 </span>\n<span style=\"color: #7fbfbf; text-decoration-color: #7fbfbf\">                    </span>         <span style=\"color: #008080; text-decoration-color: #008080; font-weight: bold\">0.25490792447370836</span>, <span style=\"color: #008000; text-decoration-color: #008000\">'margin'</span>: <span style=\"color: #008080; text-decoration-color: #008080; font-weight: bold\">0.19642716626611817</span><span style=\"font-weight: bold\">}</span>                  <span style=\"color: #7f7f7f; text-decoration-color: #7f7f7f\">                 </span>\n<span style=\"color: #7fbfbf; text-decoration-color: #7fbfbf\">                    </span>                                                                              <span style=\"color: #7f7f7f; text-decoration-color: #7f7f7f\">                 </span>\n</pre>\n"
     },
     "metadata": {},
     "output_type": "display_data"
    },
    {
     "name": "stderr",
     "output_type": "stream",
     "text": [
      "  0%|          | 0/50 [00:00<?, ?it/s]"
     ]
    },
    {
     "data": {
      "text/plain": "\u001B[2;36m                   \u001B[0m\u001B[2;36m \u001B[0m\u001B[34mINFO    \u001B[0m Initial: Loss: \u001B[1;36m-0.5713076591491699\u001B[0m Statstics: \u001B[1m{\u001B[0m\u001B[32m'logit_target'\u001B[0m:       \u001B]8;id=942275;file://C:\\Users\\kyawk\\Desktop\\robustness_of_gnns_at_scale-main\\rgnn_at_scale\\attacks\\local_prbcd.py\u001B\\\u001B[2mlocal_prbcd.py\u001B[0m\u001B]8;;\u001B\\\u001B[2m:\u001B[0m\u001B]8;id=673998;file://C:\\Users\\kyawk\\Desktop\\robustness_of_gnns_at_scale-main\\rgnn_at_scale\\attacks\\local_prbcd.py#92\u001B\\\u001B[2m92\u001B[0m\u001B]8;;\u001B\\\n\u001B[2;36m                    \u001B[0m         \u001B[1;36m-0.795545220375061\u001B[0m, \u001B[32m'logit_best_non_target'\u001B[0m: \u001B[1;36m-1.366852879524231\u001B[0m,     \u001B[2m                 \u001B[0m\n\u001B[2;36m                    \u001B[0m         \u001B[32m'confidence_target'\u001B[0m: \u001B[1;36m0.4513350907398265\u001B[0m, \u001B[32m'confidence_non_target'\u001B[0m:    \u001B[2m                 \u001B[0m\n\u001B[2;36m                    \u001B[0m         \u001B[1;36m0.25490792447370836\u001B[0m, \u001B[32m'margin'\u001B[0m: \u001B[1;36m0.19642716626611817\u001B[0m\u001B[1m}\u001B[0m                  \u001B[2m                 \u001B[0m\n\u001B[2;36m                    \u001B[0m                                                                              \u001B[2m                 \u001B[0m\n",
      "text/html": "<pre style=\"white-space:pre;overflow-x:auto;line-height:normal;font-family:Menlo,'DejaVu Sans Mono',consolas,'Courier New',monospace\"><span style=\"color: #7fbfbf; text-decoration-color: #7fbfbf\">                    </span><span style=\"color: #000080; text-decoration-color: #000080\">INFO    </span> Initial: Loss: <span style=\"color: #008080; text-decoration-color: #008080; font-weight: bold\">-0.5713076591491699</span> Statstics: <span style=\"font-weight: bold\">{</span><span style=\"color: #008000; text-decoration-color: #008000\">'logit_target'</span>:       <a href=\"file://C:\\Users\\kyawk\\Desktop\\robustness_of_gnns_at_scale-main\\rgnn_at_scale\\attacks\\local_prbcd.py\" target=\"_blank\"><span style=\"color: #7f7f7f; text-decoration-color: #7f7f7f\">local_prbcd.py</span></a><span style=\"color: #7f7f7f; text-decoration-color: #7f7f7f\">:</span><a href=\"file://C:\\Users\\kyawk\\Desktop\\robustness_of_gnns_at_scale-main\\rgnn_at_scale\\attacks\\local_prbcd.py#92\" target=\"_blank\"><span style=\"color: #7f7f7f; text-decoration-color: #7f7f7f\">92</span></a>\n<span style=\"color: #7fbfbf; text-decoration-color: #7fbfbf\">                    </span>         <span style=\"color: #008080; text-decoration-color: #008080; font-weight: bold\">-0.795545220375061</span>, <span style=\"color: #008000; text-decoration-color: #008000\">'logit_best_non_target'</span>: <span style=\"color: #008080; text-decoration-color: #008080; font-weight: bold\">-1.366852879524231</span>,     <span style=\"color: #7f7f7f; text-decoration-color: #7f7f7f\">                 </span>\n<span style=\"color: #7fbfbf; text-decoration-color: #7fbfbf\">                    </span>         <span style=\"color: #008000; text-decoration-color: #008000\">'confidence_target'</span>: <span style=\"color: #008080; text-decoration-color: #008080; font-weight: bold\">0.4513350907398265</span>, <span style=\"color: #008000; text-decoration-color: #008000\">'confidence_non_target'</span>:    <span style=\"color: #7f7f7f; text-decoration-color: #7f7f7f\">                 </span>\n<span style=\"color: #7fbfbf; text-decoration-color: #7fbfbf\">                    </span>         <span style=\"color: #008080; text-decoration-color: #008080; font-weight: bold\">0.25490792447370836</span>, <span style=\"color: #008000; text-decoration-color: #008000\">'margin'</span>: <span style=\"color: #008080; text-decoration-color: #008080; font-weight: bold\">0.19642716626611817</span><span style=\"font-weight: bold\">}</span>                  <span style=\"color: #7f7f7f; text-decoration-color: #7f7f7f\">                 </span>\n<span style=\"color: #7fbfbf; text-decoration-color: #7fbfbf\">                    </span>                                                                              <span style=\"color: #7f7f7f; text-decoration-color: #7f7f7f\">                 </span>\n</pre>\n"
     },
     "metadata": {},
     "output_type": "display_data"
    },
    {
     "data": {
      "text/plain": "\u001B[2;36m[02/11/25 18:44:35]\u001B[0m\u001B[2;36m \u001B[0m\u001B[34mINFO    \u001B[0m                                                                     \u001B]8;id=329796;file://C:\\Users\\kyawk\\Desktop\\robustness_of_gnns_at_scale-main\\rgnn_at_scale\\attacks\\local_prbcd.py\u001B\\\u001B[2mlocal_prbcd.py\u001B[0m\u001B]8;;\u001B\\\u001B[2m:\u001B[0m\u001B]8;id=130044;file://C:\\Users\\kyawk\\Desktop\\robustness_of_gnns_at_scale-main\\rgnn_at_scale\\attacks\\local_prbcd.py#113\u001B\\\u001B[2m113\u001B[0m\u001B]8;;\u001B\\\n\u001B[2;36m                    \u001B[0m         Epoch: \u001B[1;36m0\u001B[0m Loss: \u001B[1;36m-0.5713076591491699\u001B[0m Statstics: \u001B[1m{\u001B[0m\u001B[32m'logit_target'\u001B[0m:      \u001B[2m                  \u001B[0m\n\u001B[2;36m                    \u001B[0m         \u001B[1;36m-0.851694643497467\u001B[0m, \u001B[32m'logit_best_non_target'\u001B[0m: \u001B[1;36m-1.3211092948913574\u001B[0m,   \u001B[2m                  \u001B[0m\n\u001B[2;36m                    \u001B[0m         \u001B[32m'confidence_target'\u001B[0m: \u001B[1;36m0.4266912293956873\u001B[0m, \u001B[32m'confidence_non_target'\u001B[0m:   \u001B[2m                  \u001B[0m\n\u001B[2;36m                    \u001B[0m         \u001B[1;36m0.2668391344390111\u001B[0m, \u001B[32m'margin'\u001B[0m: \u001B[1;36m0.15985209495667624\u001B[0m\u001B[1m}\u001B[0m                  \u001B[2m                  \u001B[0m\n\u001B[2;36m                    \u001B[0m                                                                             \u001B[2m                  \u001B[0m\n",
      "text/html": "<pre style=\"white-space:pre;overflow-x:auto;line-height:normal;font-family:Menlo,'DejaVu Sans Mono',consolas,'Courier New',monospace\"><span style=\"color: #7fbfbf; text-decoration-color: #7fbfbf\">[02/11/25 18:44:35] </span><span style=\"color: #000080; text-decoration-color: #000080\">INFO    </span>                                                                     <a href=\"file://C:\\Users\\kyawk\\Desktop\\robustness_of_gnns_at_scale-main\\rgnn_at_scale\\attacks\\local_prbcd.py\" target=\"_blank\"><span style=\"color: #7f7f7f; text-decoration-color: #7f7f7f\">local_prbcd.py</span></a><span style=\"color: #7f7f7f; text-decoration-color: #7f7f7f\">:</span><a href=\"file://C:\\Users\\kyawk\\Desktop\\robustness_of_gnns_at_scale-main\\rgnn_at_scale\\attacks\\local_prbcd.py#113\" target=\"_blank\"><span style=\"color: #7f7f7f; text-decoration-color: #7f7f7f\">113</span></a>\n<span style=\"color: #7fbfbf; text-decoration-color: #7fbfbf\">                    </span>         Epoch: <span style=\"color: #008080; text-decoration-color: #008080; font-weight: bold\">0</span> Loss: <span style=\"color: #008080; text-decoration-color: #008080; font-weight: bold\">-0.5713076591491699</span> Statstics: <span style=\"font-weight: bold\">{</span><span style=\"color: #008000; text-decoration-color: #008000\">'logit_target'</span>:      <span style=\"color: #7f7f7f; text-decoration-color: #7f7f7f\">                  </span>\n<span style=\"color: #7fbfbf; text-decoration-color: #7fbfbf\">                    </span>         <span style=\"color: #008080; text-decoration-color: #008080; font-weight: bold\">-0.851694643497467</span>, <span style=\"color: #008000; text-decoration-color: #008000\">'logit_best_non_target'</span>: <span style=\"color: #008080; text-decoration-color: #008080; font-weight: bold\">-1.3211092948913574</span>,   <span style=\"color: #7f7f7f; text-decoration-color: #7f7f7f\">                  </span>\n<span style=\"color: #7fbfbf; text-decoration-color: #7fbfbf\">                    </span>         <span style=\"color: #008000; text-decoration-color: #008000\">'confidence_target'</span>: <span style=\"color: #008080; text-decoration-color: #008080; font-weight: bold\">0.4266912293956873</span>, <span style=\"color: #008000; text-decoration-color: #008000\">'confidence_non_target'</span>:   <span style=\"color: #7f7f7f; text-decoration-color: #7f7f7f\">                  </span>\n<span style=\"color: #7fbfbf; text-decoration-color: #7fbfbf\">                    </span>         <span style=\"color: #008080; text-decoration-color: #008080; font-weight: bold\">0.2668391344390111</span>, <span style=\"color: #008000; text-decoration-color: #008000\">'margin'</span>: <span style=\"color: #008080; text-decoration-color: #008080; font-weight: bold\">0.15985209495667624</span><span style=\"font-weight: bold\">}</span>                  <span style=\"color: #7f7f7f; text-decoration-color: #7f7f7f\">                  </span>\n<span style=\"color: #7fbfbf; text-decoration-color: #7fbfbf\">                    </span>                                                                             <span style=\"color: #7f7f7f; text-decoration-color: #7f7f7f\">                  </span>\n</pre>\n"
     },
     "metadata": {},
     "output_type": "display_data"
    },
    {
     "data": {
      "text/plain": "\u001B[2;36m                   \u001B[0m\u001B[2;36m \u001B[0m\u001B[34mINFO    \u001B[0m Gradient mean \u001B[1;36m0.02373538911342621\u001B[0m std \u001B[1;36m0.008893375284969807\u001B[0m with     \u001B]8;id=137262;file://C:\\Users\\kyawk\\Desktop\\robustness_of_gnns_at_scale-main\\rgnn_at_scale\\attacks\\local_prbcd.py\u001B\\\u001B[2mlocal_prbcd.py\u001B[0m\u001B]8;;\u001B\\\u001B[2m:\u001B[0m\u001B]8;id=524165;file://C:\\Users\\kyawk\\Desktop\\robustness_of_gnns_at_scale-main\\rgnn_at_scale\\attacks\\local_prbcd.py#114\u001B\\\u001B[2m114\u001B[0m\u001B]8;;\u001B\\\n\u001B[2;36m                    \u001B[0m         base learning rate \u001B[1;36m0.9500000000000001\u001B[0m                               \u001B[2m                  \u001B[0m\n",
      "text/html": "<pre style=\"white-space:pre;overflow-x:auto;line-height:normal;font-family:Menlo,'DejaVu Sans Mono',consolas,'Courier New',monospace\"><span style=\"color: #7fbfbf; text-decoration-color: #7fbfbf\">                    </span><span style=\"color: #000080; text-decoration-color: #000080\">INFO    </span> Gradient mean <span style=\"color: #008080; text-decoration-color: #008080; font-weight: bold\">0.02373538911342621</span> std <span style=\"color: #008080; text-decoration-color: #008080; font-weight: bold\">0.008893375284969807</span> with     <a href=\"file://C:\\Users\\kyawk\\Desktop\\robustness_of_gnns_at_scale-main\\rgnn_at_scale\\attacks\\local_prbcd.py\" target=\"_blank\"><span style=\"color: #7f7f7f; text-decoration-color: #7f7f7f\">local_prbcd.py</span></a><span style=\"color: #7f7f7f; text-decoration-color: #7f7f7f\">:</span><a href=\"file://C:\\Users\\kyawk\\Desktop\\robustness_of_gnns_at_scale-main\\rgnn_at_scale\\attacks\\local_prbcd.py#114\" target=\"_blank\"><span style=\"color: #7f7f7f; text-decoration-color: #7f7f7f\">114</span></a>\n<span style=\"color: #7fbfbf; text-decoration-color: #7fbfbf\">                    </span>         base learning rate <span style=\"color: #008080; text-decoration-color: #008080; font-weight: bold\">0.9500000000000001</span>                               <span style=\"color: #7f7f7f; text-decoration-color: #7f7f7f\">                  </span>\n</pre>\n"
     },
     "metadata": {},
     "output_type": "display_data"
    },
    {
     "name": "stderr",
     "output_type": "stream",
     "text": [
      " 40%|████      | 20/50 [00:25<00:39,  1.32s/it]"
     ]
    },
    {
     "data": {
      "text/plain": "\u001B[2;36m[02/11/25 18:45:00]\u001B[0m\u001B[2;36m \u001B[0m\u001B[34mINFO    \u001B[0m                                                                     \u001B]8;id=341464;file://C:\\Users\\kyawk\\Desktop\\robustness_of_gnns_at_scale-main\\rgnn_at_scale\\attacks\\local_prbcd.py\u001B\\\u001B[2mlocal_prbcd.py\u001B[0m\u001B]8;;\u001B\\\u001B[2m:\u001B[0m\u001B]8;id=265336;file://C:\\Users\\kyawk\\Desktop\\robustness_of_gnns_at_scale-main\\rgnn_at_scale\\attacks\\local_prbcd.py#113\u001B\\\u001B[2m113\u001B[0m\u001B]8;;\u001B\\\n\u001B[2;36m                    \u001B[0m         Epoch: \u001B[1;36m20\u001B[0m Loss: \u001B[1;36m0.12221330404281616\u001B[0m Statstics: \u001B[1m{\u001B[0m\u001B[32m'logit_target'\u001B[0m:     \u001B[2m                  \u001B[0m\n\u001B[2;36m                    \u001B[0m         \u001B[1;36m-1.2513070106506348\u001B[0m, \u001B[32m'logit_best_non_target'\u001B[0m: \u001B[1;36m-1.1299172639846802\u001B[0m,  \u001B[2m                  \u001B[0m\n\u001B[2;36m                    \u001B[0m         \u001B[32m'confidence_target'\u001B[0m: \u001B[1;36m0.28613057664741043\u001B[0m, \u001B[32m'confidence_non_target'\u001B[0m:  \u001B[2m                  \u001B[0m\n\u001B[2;36m                    \u001B[0m         \u001B[1;36m0.323059984012357\u001B[0m, \u001B[32m'margin'\u001B[0m: \u001B[1;36m-0.0369294073649466\u001B[0m\u001B[1m}\u001B[0m                   \u001B[2m                  \u001B[0m\n\u001B[2;36m                    \u001B[0m                                                                             \u001B[2m                  \u001B[0m\n",
      "text/html": "<pre style=\"white-space:pre;overflow-x:auto;line-height:normal;font-family:Menlo,'DejaVu Sans Mono',consolas,'Courier New',monospace\"><span style=\"color: #7fbfbf; text-decoration-color: #7fbfbf\">[02/11/25 18:45:00] </span><span style=\"color: #000080; text-decoration-color: #000080\">INFO    </span>                                                                     <a href=\"file://C:\\Users\\kyawk\\Desktop\\robustness_of_gnns_at_scale-main\\rgnn_at_scale\\attacks\\local_prbcd.py\" target=\"_blank\"><span style=\"color: #7f7f7f; text-decoration-color: #7f7f7f\">local_prbcd.py</span></a><span style=\"color: #7f7f7f; text-decoration-color: #7f7f7f\">:</span><a href=\"file://C:\\Users\\kyawk\\Desktop\\robustness_of_gnns_at_scale-main\\rgnn_at_scale\\attacks\\local_prbcd.py#113\" target=\"_blank\"><span style=\"color: #7f7f7f; text-decoration-color: #7f7f7f\">113</span></a>\n<span style=\"color: #7fbfbf; text-decoration-color: #7fbfbf\">                    </span>         Epoch: <span style=\"color: #008080; text-decoration-color: #008080; font-weight: bold\">20</span> Loss: <span style=\"color: #008080; text-decoration-color: #008080; font-weight: bold\">0.12221330404281616</span> Statstics: <span style=\"font-weight: bold\">{</span><span style=\"color: #008000; text-decoration-color: #008000\">'logit_target'</span>:     <span style=\"color: #7f7f7f; text-decoration-color: #7f7f7f\">                  </span>\n<span style=\"color: #7fbfbf; text-decoration-color: #7fbfbf\">                    </span>         <span style=\"color: #008080; text-decoration-color: #008080; font-weight: bold\">-1.2513070106506348</span>, <span style=\"color: #008000; text-decoration-color: #008000\">'logit_best_non_target'</span>: <span style=\"color: #008080; text-decoration-color: #008080; font-weight: bold\">-1.1299172639846802</span>,  <span style=\"color: #7f7f7f; text-decoration-color: #7f7f7f\">                  </span>\n<span style=\"color: #7fbfbf; text-decoration-color: #7fbfbf\">                    </span>         <span style=\"color: #008000; text-decoration-color: #008000\">'confidence_target'</span>: <span style=\"color: #008080; text-decoration-color: #008080; font-weight: bold\">0.28613057664741043</span>, <span style=\"color: #008000; text-decoration-color: #008000\">'confidence_non_target'</span>:  <span style=\"color: #7f7f7f; text-decoration-color: #7f7f7f\">                  </span>\n<span style=\"color: #7fbfbf; text-decoration-color: #7fbfbf\">                    </span>         <span style=\"color: #008080; text-decoration-color: #008080; font-weight: bold\">0.323059984012357</span>, <span style=\"color: #008000; text-decoration-color: #008000\">'margin'</span>: <span style=\"color: #008080; text-decoration-color: #008080; font-weight: bold\">-0.0369294073649466</span><span style=\"font-weight: bold\">}</span>                   <span style=\"color: #7f7f7f; text-decoration-color: #7f7f7f\">                  </span>\n<span style=\"color: #7fbfbf; text-decoration-color: #7fbfbf\">                    </span>                                                                             <span style=\"color: #7f7f7f; text-decoration-color: #7f7f7f\">                  </span>\n</pre>\n"
     },
     "metadata": {},
     "output_type": "display_data"
    },
    {
     "data": {
      "text/plain": "\u001B[2;36m                   \u001B[0m\u001B[2;36m \u001B[0m\u001B[34mINFO    \u001B[0m Gradient mean \u001B[1;36m0.009311521425843239\u001B[0m std \u001B[1;36m0.0042549301870167255\u001B[0m with   \u001B]8;id=99688;file://C:\\Users\\kyawk\\Desktop\\robustness_of_gnns_at_scale-main\\rgnn_at_scale\\attacks\\local_prbcd.py\u001B\\\u001B[2mlocal_prbcd.py\u001B[0m\u001B]8;;\u001B\\\u001B[2m:\u001B[0m\u001B]8;id=743038;file://C:\\Users\\kyawk\\Desktop\\robustness_of_gnns_at_scale-main\\rgnn_at_scale\\attacks\\local_prbcd.py#114\u001B\\\u001B[2m114\u001B[0m\u001B]8;;\u001B\\\n\u001B[2;36m                    \u001B[0m         base learning rate \u001B[1;36m0.9500000000000001\u001B[0m                               \u001B[2m                  \u001B[0m\n",
      "text/html": "<pre style=\"white-space:pre;overflow-x:auto;line-height:normal;font-family:Menlo,'DejaVu Sans Mono',consolas,'Courier New',monospace\"><span style=\"color: #7fbfbf; text-decoration-color: #7fbfbf\">                    </span><span style=\"color: #000080; text-decoration-color: #000080\">INFO    </span> Gradient mean <span style=\"color: #008080; text-decoration-color: #008080; font-weight: bold\">0.009311521425843239</span> std <span style=\"color: #008080; text-decoration-color: #008080; font-weight: bold\">0.0042549301870167255</span> with   <a href=\"file://C:\\Users\\kyawk\\Desktop\\robustness_of_gnns_at_scale-main\\rgnn_at_scale\\attacks\\local_prbcd.py\" target=\"_blank\"><span style=\"color: #7f7f7f; text-decoration-color: #7f7f7f\">local_prbcd.py</span></a><span style=\"color: #7f7f7f; text-decoration-color: #7f7f7f\">:</span><a href=\"file://C:\\Users\\kyawk\\Desktop\\robustness_of_gnns_at_scale-main\\rgnn_at_scale\\attacks\\local_prbcd.py#114\" target=\"_blank\"><span style=\"color: #7f7f7f; text-decoration-color: #7f7f7f\">114</span></a>\n<span style=\"color: #7fbfbf; text-decoration-color: #7fbfbf\">                    </span>         base learning rate <span style=\"color: #008080; text-decoration-color: #008080; font-weight: bold\">0.9500000000000001</span>                               <span style=\"color: #7f7f7f; text-decoration-color: #7f7f7f\">                  </span>\n</pre>\n"
     },
     "metadata": {},
     "output_type": "display_data"
    },
    {
     "name": "stderr",
     "output_type": "stream",
     "text": [
      " 80%|████████  | 40/50 [00:49<00:11,  1.17s/it]"
     ]
    },
    {
     "data": {
      "text/plain": "\u001B[2;36m[02/11/25 18:45:25]\u001B[0m\u001B[2;36m \u001B[0m\u001B[34mINFO    \u001B[0m                                                                     \u001B]8;id=628465;file://C:\\Users\\kyawk\\Desktop\\robustness_of_gnns_at_scale-main\\rgnn_at_scale\\attacks\\local_prbcd.py\u001B\\\u001B[2mlocal_prbcd.py\u001B[0m\u001B]8;;\u001B\\\u001B[2m:\u001B[0m\u001B]8;id=558920;file://C:\\Users\\kyawk\\Desktop\\robustness_of_gnns_at_scale-main\\rgnn_at_scale\\attacks\\local_prbcd.py#113\u001B\\\u001B[2m113\u001B[0m\u001B]8;;\u001B\\\n\u001B[2;36m                    \u001B[0m         Epoch: \u001B[1;36m40\u001B[0m Loss: \u001B[1;36m0.2549211382865906\u001B[0m Statstics: \u001B[1m{\u001B[0m\u001B[32m'logit_target'\u001B[0m:      \u001B[2m                  \u001B[0m\n\u001B[2;36m                    \u001B[0m         \u001B[1;36m-1.3589718341827393\u001B[0m, \u001B[32m'logit_best_non_target'\u001B[0m: \u001B[1;36m-1.0946567058563232\u001B[0m,  \u001B[2m                  \u001B[0m\n\u001B[2;36m                    \u001B[0m         \u001B[32m'confidence_target'\u001B[0m: \u001B[1;36m0.2569248024988124\u001B[0m, \u001B[32m'confidence_non_target'\u001B[0m:   \u001B[2m                  \u001B[0m\n\u001B[2;36m                    \u001B[0m         \u001B[1;36m0.3346544721516487\u001B[0m, \u001B[32m'margin'\u001B[0m: \u001B[1;36m-0.07772966965283629\u001B[0m\u001B[1m}\u001B[0m                 \u001B[2m                  \u001B[0m\n\u001B[2;36m                    \u001B[0m                                                                             \u001B[2m                  \u001B[0m\n",
      "text/html": "<pre style=\"white-space:pre;overflow-x:auto;line-height:normal;font-family:Menlo,'DejaVu Sans Mono',consolas,'Courier New',monospace\"><span style=\"color: #7fbfbf; text-decoration-color: #7fbfbf\">[02/11/25 18:45:25] </span><span style=\"color: #000080; text-decoration-color: #000080\">INFO    </span>                                                                     <a href=\"file://C:\\Users\\kyawk\\Desktop\\robustness_of_gnns_at_scale-main\\rgnn_at_scale\\attacks\\local_prbcd.py\" target=\"_blank\"><span style=\"color: #7f7f7f; text-decoration-color: #7f7f7f\">local_prbcd.py</span></a><span style=\"color: #7f7f7f; text-decoration-color: #7f7f7f\">:</span><a href=\"file://C:\\Users\\kyawk\\Desktop\\robustness_of_gnns_at_scale-main\\rgnn_at_scale\\attacks\\local_prbcd.py#113\" target=\"_blank\"><span style=\"color: #7f7f7f; text-decoration-color: #7f7f7f\">113</span></a>\n<span style=\"color: #7fbfbf; text-decoration-color: #7fbfbf\">                    </span>         Epoch: <span style=\"color: #008080; text-decoration-color: #008080; font-weight: bold\">40</span> Loss: <span style=\"color: #008080; text-decoration-color: #008080; font-weight: bold\">0.2549211382865906</span> Statstics: <span style=\"font-weight: bold\">{</span><span style=\"color: #008000; text-decoration-color: #008000\">'logit_target'</span>:      <span style=\"color: #7f7f7f; text-decoration-color: #7f7f7f\">                  </span>\n<span style=\"color: #7fbfbf; text-decoration-color: #7fbfbf\">                    </span>         <span style=\"color: #008080; text-decoration-color: #008080; font-weight: bold\">-1.3589718341827393</span>, <span style=\"color: #008000; text-decoration-color: #008000\">'logit_best_non_target'</span>: <span style=\"color: #008080; text-decoration-color: #008080; font-weight: bold\">-1.0946567058563232</span>,  <span style=\"color: #7f7f7f; text-decoration-color: #7f7f7f\">                  </span>\n<span style=\"color: #7fbfbf; text-decoration-color: #7fbfbf\">                    </span>         <span style=\"color: #008000; text-decoration-color: #008000\">'confidence_target'</span>: <span style=\"color: #008080; text-decoration-color: #008080; font-weight: bold\">0.2569248024988124</span>, <span style=\"color: #008000; text-decoration-color: #008000\">'confidence_non_target'</span>:   <span style=\"color: #7f7f7f; text-decoration-color: #7f7f7f\">                  </span>\n<span style=\"color: #7fbfbf; text-decoration-color: #7fbfbf\">                    </span>         <span style=\"color: #008080; text-decoration-color: #008080; font-weight: bold\">0.3346544721516487</span>, <span style=\"color: #008000; text-decoration-color: #008000\">'margin'</span>: <span style=\"color: #008080; text-decoration-color: #008080; font-weight: bold\">-0.07772966965283629</span><span style=\"font-weight: bold\">}</span>                 <span style=\"color: #7f7f7f; text-decoration-color: #7f7f7f\">                  </span>\n<span style=\"color: #7fbfbf; text-decoration-color: #7fbfbf\">                    </span>                                                                             <span style=\"color: #7f7f7f; text-decoration-color: #7f7f7f\">                  </span>\n</pre>\n"
     },
     "metadata": {},
     "output_type": "display_data"
    },
    {
     "data": {
      "text/plain": "\u001B[2;36m                   \u001B[0m\u001B[2;36m \u001B[0m\u001B[34mINFO    \u001B[0m Gradient mean \u001B[1;36m0.0066332085989415646\u001B[0m std \u001B[1;36m0.003037047106772661\u001B[0m with   \u001B]8;id=17065;file://C:\\Users\\kyawk\\Desktop\\robustness_of_gnns_at_scale-main\\rgnn_at_scale\\attacks\\local_prbcd.py\u001B\\\u001B[2mlocal_prbcd.py\u001B[0m\u001B]8;;\u001B\\\u001B[2m:\u001B[0m\u001B]8;id=17770;file://C:\\Users\\kyawk\\Desktop\\robustness_of_gnns_at_scale-main\\rgnn_at_scale\\attacks\\local_prbcd.py#114\u001B\\\u001B[2m114\u001B[0m\u001B]8;;\u001B\\\n\u001B[2;36m                    \u001B[0m         base learning rate \u001B[1;36m0.9500000000000001\u001B[0m                               \u001B[2m                  \u001B[0m\n",
      "text/html": "<pre style=\"white-space:pre;overflow-x:auto;line-height:normal;font-family:Menlo,'DejaVu Sans Mono',consolas,'Courier New',monospace\"><span style=\"color: #7fbfbf; text-decoration-color: #7fbfbf\">                    </span><span style=\"color: #000080; text-decoration-color: #000080\">INFO    </span> Gradient mean <span style=\"color: #008080; text-decoration-color: #008080; font-weight: bold\">0.0066332085989415646</span> std <span style=\"color: #008080; text-decoration-color: #008080; font-weight: bold\">0.003037047106772661</span> with   <a href=\"file://C:\\Users\\kyawk\\Desktop\\robustness_of_gnns_at_scale-main\\rgnn_at_scale\\attacks\\local_prbcd.py\" target=\"_blank\"><span style=\"color: #7f7f7f; text-decoration-color: #7f7f7f\">local_prbcd.py</span></a><span style=\"color: #7f7f7f; text-decoration-color: #7f7f7f\">:</span><a href=\"file://C:\\Users\\kyawk\\Desktop\\robustness_of_gnns_at_scale-main\\rgnn_at_scale\\attacks\\local_prbcd.py#114\" target=\"_blank\"><span style=\"color: #7f7f7f; text-decoration-color: #7f7f7f\">114</span></a>\n<span style=\"color: #7fbfbf; text-decoration-color: #7fbfbf\">                    </span>         base learning rate <span style=\"color: #008080; text-decoration-color: #008080; font-weight: bold\">0.9500000000000001</span>                               <span style=\"color: #7f7f7f; text-decoration-color: #7f7f7f\">                  </span>\n</pre>\n"
     },
     "metadata": {},
     "output_type": "display_data"
    },
    {
     "name": "stderr",
     "output_type": "stream",
     "text": [
      "100%|██████████| 50/50 [01:02<00:00,  1.24s/it]\n"
     ]
    },
    {
     "data": {
      "text/plain": "\u001B[2;36m[02/11/25 18:45:43]\u001B[0m\u001B[2;36m \u001B[0m\u001B[34mINFO    \u001B[0m Evaluated model Vanilla GCN using LocalPRBCD     \u001B]8;id=273087;file://C:\\Users\\kyawk\\Desktop\\robustness_of_gnns_at_scale-main\\experiments\\experiment_local_attack_direct.py\u001B\\\u001B[2mexperiment_local_attack_direct.py\u001B[0m\u001B]8;;\u001B\\\u001B[2m:\u001B[0m\u001B]8;id=749646;file://C:\\Users\\kyawk\\Desktop\\robustness_of_gnns_at_scale-main\\experiments\\experiment_local_attack_direct.py#194\u001B\\\u001B[2m194\u001B[0m\u001B]8;;\u001B\\\n\u001B[2;36m                    \u001B[0m         with pert. edges for node \u001B[1;36m2773\u001B[0m and budget \u001B[1;36m19\u001B[0m:    \u001B[2m                                     \u001B[0m\n",
      "text/html": "<pre style=\"white-space:pre;overflow-x:auto;line-height:normal;font-family:Menlo,'DejaVu Sans Mono',consolas,'Courier New',monospace\"><span style=\"color: #7fbfbf; text-decoration-color: #7fbfbf\">[02/11/25 18:45:43] </span><span style=\"color: #000080; text-decoration-color: #000080\">INFO    </span> Evaluated model Vanilla GCN using LocalPRBCD     <a href=\"file://C:\\Users\\kyawk\\Desktop\\robustness_of_gnns_at_scale-main\\experiments\\experiment_local_attack_direct.py\" target=\"_blank\"><span style=\"color: #7f7f7f; text-decoration-color: #7f7f7f\">experiment_local_attack_direct.py</span></a><span style=\"color: #7f7f7f; text-decoration-color: #7f7f7f\">:</span><a href=\"file://C:\\Users\\kyawk\\Desktop\\robustness_of_gnns_at_scale-main\\experiments\\experiment_local_attack_direct.py#194\" target=\"_blank\"><span style=\"color: #7f7f7f; text-decoration-color: #7f7f7f\">194</span></a>\n<span style=\"color: #7fbfbf; text-decoration-color: #7fbfbf\">                    </span>         with pert. edges for node <span style=\"color: #008080; text-decoration-color: #008080; font-weight: bold\">2773</span> and budget <span style=\"color: #008080; text-decoration-color: #008080; font-weight: bold\">19</span>:    <span style=\"color: #7f7f7f; text-decoration-color: #7f7f7f\">                                     </span>\n</pre>\n"
     },
     "metadata": {},
     "output_type": "display_data"
    },
    {
     "data": {
      "text/plain": "\u001B[2;36m                   \u001B[0m\u001B[2;36m \u001B[0m\u001B[34mINFO    \u001B[0m \u001B[1m{\u001B[0m\u001B[32m'label'\u001B[0m: \u001B[32m'Vanilla GCN'\u001B[0m, \u001B[32m'epsilon'\u001B[0m: \u001B[1;36m1\u001B[0m,           \u001B]8;id=317671;file://C:\\Users\\kyawk\\Desktop\\robustness_of_gnns_at_scale-main\\experiments\\experiment_local_attack_direct.py\u001B\\\u001B[2mexperiment_local_attack_direct.py\u001B[0m\u001B]8;;\u001B\\\u001B[2m:\u001B[0m\u001B]8;id=304539;file://C:\\Users\\kyawk\\Desktop\\robustness_of_gnns_at_scale-main\\experiments\\experiment_local_attack_direct.py#215\u001B\\\u001B[2m215\u001B[0m\u001B]8;;\u001B\\\n\u001B[2;36m                    \u001B[0m         \u001B[32m'n_perturbations'\u001B[0m: \u001B[1;36m19\u001B[0m, \u001B[32m'degree'\u001B[0m: \u001B[1;36m19\u001B[0m, \u001B[32m'logits'\u001B[0m:   \u001B[2m                                     \u001B[0m\n\u001B[2;36m                    \u001B[0m         \u001B[1m[\u001B[0m\u001B[1m[\u001B[0m\u001B[1;36m-0.627219021320343\u001B[0m, \u001B[1;36m1.2751020193099976\u001B[0m,        \u001B[2m                                     \u001B[0m\n\u001B[2;36m                    \u001B[0m         \u001B[1;36m-0.5975603461265564\u001B[0m, \u001B[1;36m-0.09260314702987671\u001B[0m,       \u001B[2m                                     \u001B[0m\n\u001B[2;36m                    \u001B[0m         \u001B[1;36m0.8007742762565613\u001B[0m, \u001B[1;36m-0.9695780277252197\u001B[0m,         \u001B[2m                                     \u001B[0m\n\u001B[2;36m                    \u001B[0m         \u001B[1;36m0.027148127555847168\u001B[0m\u001B[1m]\u001B[0m\u001B[1m]\u001B[0m, \u001B[32m'initial_logits'\u001B[0m:        \u001B[2m                                     \u001B[0m\n\u001B[2;36m                    \u001B[0m         \u001B[1m[\u001B[0m\u001B[1m[\u001B[0m\u001B[1;36m-0.8664629459381104\u001B[0m, \u001B[1;36m1.0121543407440186\u001B[0m,       \u001B[2m                                     \u001B[0m\n\u001B[2;36m                    \u001B[0m         \u001B[1;36m-0.6790913343429565\u001B[0m, \u001B[1;36m0.13020330667495728\u001B[0m,        \u001B[2m                                     \u001B[0m\n\u001B[2;36m                    \u001B[0m         \u001B[1;36m1.5834619998931885\u001B[0m, \u001B[1;36m-1.1233587265014648\u001B[0m,         \u001B[2m                                     \u001B[0m\n\u001B[2;36m                    \u001B[0m         \u001B[1;36m-0.24960756301879883\u001B[0m\u001B[1m]\u001B[0m\u001B[1m]\u001B[0m, \u001B[32m'larget'\u001B[0m: \u001B[1;36m4\u001B[0m, \u001B[32m'node_id'\u001B[0m:  \u001B[2m                                     \u001B[0m\n\u001B[2;36m                    \u001B[0m         \u001B[1;36m2773\u001B[0m, \u001B[32m'perturbed_edges'\u001B[0m: \u001B[1m[\u001B[0m\u001B[1m[\u001B[0m\u001B[1;36m2773\u001B[0m, \u001B[1;36m2773\u001B[0m, \u001B[1;36m2773\u001B[0m,     \u001B[2m                                     \u001B[0m\n\u001B[2;36m                    \u001B[0m         \u001B[1;36m2773\u001B[0m, \u001B[1;36m2773\u001B[0m, \u001B[1;36m2773\u001B[0m, \u001B[1;36m2773\u001B[0m, \u001B[1;36m2773\u001B[0m, \u001B[1;36m2773\u001B[0m, \u001B[1;36m2773\u001B[0m, \u001B[1;36m2773\u001B[0m,  \u001B[2m                                     \u001B[0m\n\u001B[2;36m                    \u001B[0m         \u001B[1;36m2773\u001B[0m, \u001B[1;36m2773\u001B[0m, \u001B[1;36m2773\u001B[0m, \u001B[1;36m2773\u001B[0m, \u001B[1;36m2773\u001B[0m, \u001B[1;36m2773\u001B[0m, \u001B[1;36m2773\u001B[0m, \u001B[1;36m2773\u001B[0m\u001B[1m]\u001B[0m, \u001B[2m                                     \u001B[0m\n\u001B[2;36m                    \u001B[0m         \u001B[1m[\u001B[0m\u001B[1;36m768\u001B[0m, \u001B[1;36m803\u001B[0m, \u001B[1;36m837\u001B[0m, \u001B[1;36m965\u001B[0m, \u001B[1;36m1149\u001B[0m, \u001B[1;36m1193\u001B[0m, \u001B[1;36m1443\u001B[0m, \u001B[1;36m1444\u001B[0m,     \u001B[2m                                     \u001B[0m\n\u001B[2;36m                    \u001B[0m         \u001B[1;36m1447\u001B[0m, \u001B[1;36m1647\u001B[0m, \u001B[1;36m1715\u001B[0m, \u001B[1;36m1842\u001B[0m, \u001B[1;36m1965\u001B[0m, \u001B[1;36m2146\u001B[0m, \u001B[1;36m2251\u001B[0m, \u001B[1;36m2519\u001B[0m,  \u001B[2m                                     \u001B[0m\n\u001B[2;36m                    \u001B[0m         \u001B[1;36m2541\u001B[0m, \u001B[1;36m2680\u001B[0m, \u001B[1;36m2681\u001B[0m\u001B[1m]\u001B[0m\u001B[1m]\u001B[0m, \u001B[32m'logit_target'\u001B[0m:              \u001B[2m                                     \u001B[0m\n\u001B[2;36m                    \u001B[0m         \u001B[1;36m-1.419393539428711\u001B[0m, \u001B[32m'logit_best_non_target'\u001B[0m:     \u001B[2m                                     \u001B[0m\n\u001B[2;36m                    \u001B[0m         \u001B[1;36m-0.9450658559799194\u001B[0m, \u001B[32m'confidence_target'\u001B[0m:        \u001B[2m                                     \u001B[0m\n\u001B[2;36m                    \u001B[0m         \u001B[1;36m0.24186065137733345\u001B[0m, \u001B[32m'confidence_non_target'\u001B[0m:    \u001B[2m                                     \u001B[0m\n\u001B[2;36m                    \u001B[0m         \u001B[1;36m0.38865397487057174\u001B[0m, \u001B[32m'margin'\u001B[0m:                   \u001B[2m                                     \u001B[0m\n\u001B[2;36m                    \u001B[0m         \u001B[1;36m-0.1467933234932383\u001B[0m, \u001B[32m'initial_logit_target'\u001B[0m:     \u001B[2m                                     \u001B[0m\n\u001B[2;36m                    \u001B[0m         \u001B[1;36m-0.795545220375061\u001B[0m,                              \u001B[2m                                     \u001B[0m\n\u001B[2;36m                    \u001B[0m         \u001B[32m'initial_logit_best_non_target'\u001B[0m:                 \u001B[2m                                     \u001B[0m\n\u001B[2;36m                    \u001B[0m         \u001B[1;36m-1.366852879524231\u001B[0m, \u001B[32m'initial_confidence_target'\u001B[0m: \u001B[2m                                     \u001B[0m\n\u001B[2;36m                    \u001B[0m         \u001B[1;36m0.4513350907398265\u001B[0m,                              \u001B[2m                                     \u001B[0m\n\u001B[2;36m                    \u001B[0m         \u001B[32m'initial_confidence_non_target'\u001B[0m:                 \u001B[2m                                     \u001B[0m\n\u001B[2;36m                    \u001B[0m         \u001B[1;36m0.25490792447370836\u001B[0m, \u001B[32m'initial_margin'\u001B[0m:           \u001B[2m                                     \u001B[0m\n\u001B[2;36m                    \u001B[0m         \u001B[1;36m0.19642716626611817\u001B[0m\u001B[1m}\u001B[0m                             \u001B[2m                                     \u001B[0m\n",
      "text/html": "<pre style=\"white-space:pre;overflow-x:auto;line-height:normal;font-family:Menlo,'DejaVu Sans Mono',consolas,'Courier New',monospace\"><span style=\"color: #7fbfbf; text-decoration-color: #7fbfbf\">                    </span><span style=\"color: #000080; text-decoration-color: #000080\">INFO    </span> <span style=\"font-weight: bold\">{</span><span style=\"color: #008000; text-decoration-color: #008000\">'label'</span>: <span style=\"color: #008000; text-decoration-color: #008000\">'Vanilla GCN'</span>, <span style=\"color: #008000; text-decoration-color: #008000\">'epsilon'</span>: <span style=\"color: #008080; text-decoration-color: #008080; font-weight: bold\">1</span>,           <a href=\"file://C:\\Users\\kyawk\\Desktop\\robustness_of_gnns_at_scale-main\\experiments\\experiment_local_attack_direct.py\" target=\"_blank\"><span style=\"color: #7f7f7f; text-decoration-color: #7f7f7f\">experiment_local_attack_direct.py</span></a><span style=\"color: #7f7f7f; text-decoration-color: #7f7f7f\">:</span><a href=\"file://C:\\Users\\kyawk\\Desktop\\robustness_of_gnns_at_scale-main\\experiments\\experiment_local_attack_direct.py#215\" target=\"_blank\"><span style=\"color: #7f7f7f; text-decoration-color: #7f7f7f\">215</span></a>\n<span style=\"color: #7fbfbf; text-decoration-color: #7fbfbf\">                    </span>         <span style=\"color: #008000; text-decoration-color: #008000\">'n_perturbations'</span>: <span style=\"color: #008080; text-decoration-color: #008080; font-weight: bold\">19</span>, <span style=\"color: #008000; text-decoration-color: #008000\">'degree'</span>: <span style=\"color: #008080; text-decoration-color: #008080; font-weight: bold\">19</span>, <span style=\"color: #008000; text-decoration-color: #008000\">'logits'</span>:   <span style=\"color: #7f7f7f; text-decoration-color: #7f7f7f\">                                     </span>\n<span style=\"color: #7fbfbf; text-decoration-color: #7fbfbf\">                    </span>         <span style=\"font-weight: bold\">[[</span><span style=\"color: #008080; text-decoration-color: #008080; font-weight: bold\">-0.627219021320343</span>, <span style=\"color: #008080; text-decoration-color: #008080; font-weight: bold\">1.2751020193099976</span>,        <span style=\"color: #7f7f7f; text-decoration-color: #7f7f7f\">                                     </span>\n<span style=\"color: #7fbfbf; text-decoration-color: #7fbfbf\">                    </span>         <span style=\"color: #008080; text-decoration-color: #008080; font-weight: bold\">-0.5975603461265564</span>, <span style=\"color: #008080; text-decoration-color: #008080; font-weight: bold\">-0.09260314702987671</span>,       <span style=\"color: #7f7f7f; text-decoration-color: #7f7f7f\">                                     </span>\n<span style=\"color: #7fbfbf; text-decoration-color: #7fbfbf\">                    </span>         <span style=\"color: #008080; text-decoration-color: #008080; font-weight: bold\">0.8007742762565613</span>, <span style=\"color: #008080; text-decoration-color: #008080; font-weight: bold\">-0.9695780277252197</span>,         <span style=\"color: #7f7f7f; text-decoration-color: #7f7f7f\">                                     </span>\n<span style=\"color: #7fbfbf; text-decoration-color: #7fbfbf\">                    </span>         <span style=\"color: #008080; text-decoration-color: #008080; font-weight: bold\">0.027148127555847168</span><span style=\"font-weight: bold\">]]</span>, <span style=\"color: #008000; text-decoration-color: #008000\">'initial_logits'</span>:        <span style=\"color: #7f7f7f; text-decoration-color: #7f7f7f\">                                     </span>\n<span style=\"color: #7fbfbf; text-decoration-color: #7fbfbf\">                    </span>         <span style=\"font-weight: bold\">[[</span><span style=\"color: #008080; text-decoration-color: #008080; font-weight: bold\">-0.8664629459381104</span>, <span style=\"color: #008080; text-decoration-color: #008080; font-weight: bold\">1.0121543407440186</span>,       <span style=\"color: #7f7f7f; text-decoration-color: #7f7f7f\">                                     </span>\n<span style=\"color: #7fbfbf; text-decoration-color: #7fbfbf\">                    </span>         <span style=\"color: #008080; text-decoration-color: #008080; font-weight: bold\">-0.6790913343429565</span>, <span style=\"color: #008080; text-decoration-color: #008080; font-weight: bold\">0.13020330667495728</span>,        <span style=\"color: #7f7f7f; text-decoration-color: #7f7f7f\">                                     </span>\n<span style=\"color: #7fbfbf; text-decoration-color: #7fbfbf\">                    </span>         <span style=\"color: #008080; text-decoration-color: #008080; font-weight: bold\">1.5834619998931885</span>, <span style=\"color: #008080; text-decoration-color: #008080; font-weight: bold\">-1.1233587265014648</span>,         <span style=\"color: #7f7f7f; text-decoration-color: #7f7f7f\">                                     </span>\n<span style=\"color: #7fbfbf; text-decoration-color: #7fbfbf\">                    </span>         <span style=\"color: #008080; text-decoration-color: #008080; font-weight: bold\">-0.24960756301879883</span><span style=\"font-weight: bold\">]]</span>, <span style=\"color: #008000; text-decoration-color: #008000\">'larget'</span>: <span style=\"color: #008080; text-decoration-color: #008080; font-weight: bold\">4</span>, <span style=\"color: #008000; text-decoration-color: #008000\">'node_id'</span>:  <span style=\"color: #7f7f7f; text-decoration-color: #7f7f7f\">                                     </span>\n<span style=\"color: #7fbfbf; text-decoration-color: #7fbfbf\">                    </span>         <span style=\"color: #008080; text-decoration-color: #008080; font-weight: bold\">2773</span>, <span style=\"color: #008000; text-decoration-color: #008000\">'perturbed_edges'</span>: <span style=\"font-weight: bold\">[[</span><span style=\"color: #008080; text-decoration-color: #008080; font-weight: bold\">2773</span>, <span style=\"color: #008080; text-decoration-color: #008080; font-weight: bold\">2773</span>, <span style=\"color: #008080; text-decoration-color: #008080; font-weight: bold\">2773</span>,     <span style=\"color: #7f7f7f; text-decoration-color: #7f7f7f\">                                     </span>\n<span style=\"color: #7fbfbf; text-decoration-color: #7fbfbf\">                    </span>         <span style=\"color: #008080; text-decoration-color: #008080; font-weight: bold\">2773</span>, <span style=\"color: #008080; text-decoration-color: #008080; font-weight: bold\">2773</span>, <span style=\"color: #008080; text-decoration-color: #008080; font-weight: bold\">2773</span>, <span style=\"color: #008080; text-decoration-color: #008080; font-weight: bold\">2773</span>, <span style=\"color: #008080; text-decoration-color: #008080; font-weight: bold\">2773</span>, <span style=\"color: #008080; text-decoration-color: #008080; font-weight: bold\">2773</span>, <span style=\"color: #008080; text-decoration-color: #008080; font-weight: bold\">2773</span>, <span style=\"color: #008080; text-decoration-color: #008080; font-weight: bold\">2773</span>,  <span style=\"color: #7f7f7f; text-decoration-color: #7f7f7f\">                                     </span>\n<span style=\"color: #7fbfbf; text-decoration-color: #7fbfbf\">                    </span>         <span style=\"color: #008080; text-decoration-color: #008080; font-weight: bold\">2773</span>, <span style=\"color: #008080; text-decoration-color: #008080; font-weight: bold\">2773</span>, <span style=\"color: #008080; text-decoration-color: #008080; font-weight: bold\">2773</span>, <span style=\"color: #008080; text-decoration-color: #008080; font-weight: bold\">2773</span>, <span style=\"color: #008080; text-decoration-color: #008080; font-weight: bold\">2773</span>, <span style=\"color: #008080; text-decoration-color: #008080; font-weight: bold\">2773</span>, <span style=\"color: #008080; text-decoration-color: #008080; font-weight: bold\">2773</span>, <span style=\"color: #008080; text-decoration-color: #008080; font-weight: bold\">2773</span><span style=\"font-weight: bold\">]</span>, <span style=\"color: #7f7f7f; text-decoration-color: #7f7f7f\">                                     </span>\n<span style=\"color: #7fbfbf; text-decoration-color: #7fbfbf\">                    </span>         <span style=\"font-weight: bold\">[</span><span style=\"color: #008080; text-decoration-color: #008080; font-weight: bold\">768</span>, <span style=\"color: #008080; text-decoration-color: #008080; font-weight: bold\">803</span>, <span style=\"color: #008080; text-decoration-color: #008080; font-weight: bold\">837</span>, <span style=\"color: #008080; text-decoration-color: #008080; font-weight: bold\">965</span>, <span style=\"color: #008080; text-decoration-color: #008080; font-weight: bold\">1149</span>, <span style=\"color: #008080; text-decoration-color: #008080; font-weight: bold\">1193</span>, <span style=\"color: #008080; text-decoration-color: #008080; font-weight: bold\">1443</span>, <span style=\"color: #008080; text-decoration-color: #008080; font-weight: bold\">1444</span>,     <span style=\"color: #7f7f7f; text-decoration-color: #7f7f7f\">                                     </span>\n<span style=\"color: #7fbfbf; text-decoration-color: #7fbfbf\">                    </span>         <span style=\"color: #008080; text-decoration-color: #008080; font-weight: bold\">1447</span>, <span style=\"color: #008080; text-decoration-color: #008080; font-weight: bold\">1647</span>, <span style=\"color: #008080; text-decoration-color: #008080; font-weight: bold\">1715</span>, <span style=\"color: #008080; text-decoration-color: #008080; font-weight: bold\">1842</span>, <span style=\"color: #008080; text-decoration-color: #008080; font-weight: bold\">1965</span>, <span style=\"color: #008080; text-decoration-color: #008080; font-weight: bold\">2146</span>, <span style=\"color: #008080; text-decoration-color: #008080; font-weight: bold\">2251</span>, <span style=\"color: #008080; text-decoration-color: #008080; font-weight: bold\">2519</span>,  <span style=\"color: #7f7f7f; text-decoration-color: #7f7f7f\">                                     </span>\n<span style=\"color: #7fbfbf; text-decoration-color: #7fbfbf\">                    </span>         <span style=\"color: #008080; text-decoration-color: #008080; font-weight: bold\">2541</span>, <span style=\"color: #008080; text-decoration-color: #008080; font-weight: bold\">2680</span>, <span style=\"color: #008080; text-decoration-color: #008080; font-weight: bold\">2681</span><span style=\"font-weight: bold\">]]</span>, <span style=\"color: #008000; text-decoration-color: #008000\">'logit_target'</span>:              <span style=\"color: #7f7f7f; text-decoration-color: #7f7f7f\">                                     </span>\n<span style=\"color: #7fbfbf; text-decoration-color: #7fbfbf\">                    </span>         <span style=\"color: #008080; text-decoration-color: #008080; font-weight: bold\">-1.419393539428711</span>, <span style=\"color: #008000; text-decoration-color: #008000\">'logit_best_non_target'</span>:     <span style=\"color: #7f7f7f; text-decoration-color: #7f7f7f\">                                     </span>\n<span style=\"color: #7fbfbf; text-decoration-color: #7fbfbf\">                    </span>         <span style=\"color: #008080; text-decoration-color: #008080; font-weight: bold\">-0.9450658559799194</span>, <span style=\"color: #008000; text-decoration-color: #008000\">'confidence_target'</span>:        <span style=\"color: #7f7f7f; text-decoration-color: #7f7f7f\">                                     </span>\n<span style=\"color: #7fbfbf; text-decoration-color: #7fbfbf\">                    </span>         <span style=\"color: #008080; text-decoration-color: #008080; font-weight: bold\">0.24186065137733345</span>, <span style=\"color: #008000; text-decoration-color: #008000\">'confidence_non_target'</span>:    <span style=\"color: #7f7f7f; text-decoration-color: #7f7f7f\">                                     </span>\n<span style=\"color: #7fbfbf; text-decoration-color: #7fbfbf\">                    </span>         <span style=\"color: #008080; text-decoration-color: #008080; font-weight: bold\">0.38865397487057174</span>, <span style=\"color: #008000; text-decoration-color: #008000\">'margin'</span>:                   <span style=\"color: #7f7f7f; text-decoration-color: #7f7f7f\">                                     </span>\n<span style=\"color: #7fbfbf; text-decoration-color: #7fbfbf\">                    </span>         <span style=\"color: #008080; text-decoration-color: #008080; font-weight: bold\">-0.1467933234932383</span>, <span style=\"color: #008000; text-decoration-color: #008000\">'initial_logit_target'</span>:     <span style=\"color: #7f7f7f; text-decoration-color: #7f7f7f\">                                     </span>\n<span style=\"color: #7fbfbf; text-decoration-color: #7fbfbf\">                    </span>         <span style=\"color: #008080; text-decoration-color: #008080; font-weight: bold\">-0.795545220375061</span>,                              <span style=\"color: #7f7f7f; text-decoration-color: #7f7f7f\">                                     </span>\n<span style=\"color: #7fbfbf; text-decoration-color: #7fbfbf\">                    </span>         <span style=\"color: #008000; text-decoration-color: #008000\">'initial_logit_best_non_target'</span>:                 <span style=\"color: #7f7f7f; text-decoration-color: #7f7f7f\">                                     </span>\n<span style=\"color: #7fbfbf; text-decoration-color: #7fbfbf\">                    </span>         <span style=\"color: #008080; text-decoration-color: #008080; font-weight: bold\">-1.366852879524231</span>, <span style=\"color: #008000; text-decoration-color: #008000\">'initial_confidence_target'</span>: <span style=\"color: #7f7f7f; text-decoration-color: #7f7f7f\">                                     </span>\n<span style=\"color: #7fbfbf; text-decoration-color: #7fbfbf\">                    </span>         <span style=\"color: #008080; text-decoration-color: #008080; font-weight: bold\">0.4513350907398265</span>,                              <span style=\"color: #7f7f7f; text-decoration-color: #7f7f7f\">                                     </span>\n<span style=\"color: #7fbfbf; text-decoration-color: #7fbfbf\">                    </span>         <span style=\"color: #008000; text-decoration-color: #008000\">'initial_confidence_non_target'</span>:                 <span style=\"color: #7f7f7f; text-decoration-color: #7f7f7f\">                                     </span>\n<span style=\"color: #7fbfbf; text-decoration-color: #7fbfbf\">                    </span>         <span style=\"color: #008080; text-decoration-color: #008080; font-weight: bold\">0.25490792447370836</span>, <span style=\"color: #008000; text-decoration-color: #008000\">'initial_margin'</span>:           <span style=\"color: #7f7f7f; text-decoration-color: #7f7f7f\">                                     </span>\n<span style=\"color: #7fbfbf; text-decoration-color: #7fbfbf\">                    </span>         <span style=\"color: #008080; text-decoration-color: #008080; font-weight: bold\">0.19642716626611817</span><span style=\"font-weight: bold\">}</span>                             <span style=\"color: #7f7f7f; text-decoration-color: #7f7f7f\">                                     </span>\n</pre>\n"
     },
     "metadata": {},
     "output_type": "display_data"
    },
    {
     "data": {
      "text/plain": "\u001B[2;36m                   \u001B[0m\u001B[2;36m \u001B[0m\u001B[34mINFO    \u001B[0m Completed attack and evaluation of Vanilla GCN   \u001B]8;id=268801;file://C:\\Users\\kyawk\\Desktop\\robustness_of_gnns_at_scale-main\\experiments\\experiment_local_attack_direct.py\u001B\\\u001B[2mexperiment_local_attack_direct.py\u001B[0m\u001B]8;;\u001B\\\u001B[2m:\u001B[0m\u001B]8;id=797318;file://C:\\Users\\kyawk\\Desktop\\robustness_of_gnns_at_scale-main\\experiments\\experiment_local_attack_direct.py#216\u001B\\\u001B[2m216\u001B[0m\u001B]8;;\u001B\\\n\u001B[2;36m                    \u001B[0m         using LocalPRBCD with pert. edges for node \u001B[1;36m2773\u001B[0m  \u001B[2m                                     \u001B[0m\n\u001B[2;36m                    \u001B[0m         and budget \u001B[1;36m19\u001B[0m                                    \u001B[2m                                     \u001B[0m\n",
      "text/html": "<pre style=\"white-space:pre;overflow-x:auto;line-height:normal;font-family:Menlo,'DejaVu Sans Mono',consolas,'Courier New',monospace\"><span style=\"color: #7fbfbf; text-decoration-color: #7fbfbf\">                    </span><span style=\"color: #000080; text-decoration-color: #000080\">INFO    </span> Completed attack and evaluation of Vanilla GCN   <a href=\"file://C:\\Users\\kyawk\\Desktop\\robustness_of_gnns_at_scale-main\\experiments\\experiment_local_attack_direct.py\" target=\"_blank\"><span style=\"color: #7f7f7f; text-decoration-color: #7f7f7f\">experiment_local_attack_direct.py</span></a><span style=\"color: #7f7f7f; text-decoration-color: #7f7f7f\">:</span><a href=\"file://C:\\Users\\kyawk\\Desktop\\robustness_of_gnns_at_scale-main\\experiments\\experiment_local_attack_direct.py#216\" target=\"_blank\"><span style=\"color: #7f7f7f; text-decoration-color: #7f7f7f\">216</span></a>\n<span style=\"color: #7fbfbf; text-decoration-color: #7fbfbf\">                    </span>         using LocalPRBCD with pert. edges for node <span style=\"color: #008080; text-decoration-color: #008080; font-weight: bold\">2773</span>  <span style=\"color: #7f7f7f; text-decoration-color: #7f7f7f\">                                     </span>\n<span style=\"color: #7fbfbf; text-decoration-color: #7fbfbf\">                    </span>         and budget <span style=\"color: #008080; text-decoration-color: #008080; font-weight: bold\">19</span>                                    <span style=\"color: #7f7f7f; text-decoration-color: #7f7f7f\">                                     </span>\n</pre>\n"
     },
     "metadata": {},
     "output_type": "display_data"
    }
   ]
  },
  {
   "cell_type": "code",
   "source": [
    "n_change = 0\n",
    "#print(local_prbcd_statistics['results'][0])\n",
    "#perturbed_acc_local = local_prbcd_statistics['results'][0]['accuracy']\n",
    "for node in local_prbcd_statistics['results']:\n",
    "    if node['margin'] < 0:\n",
    "        n_change += 1\n",
    "flipped_ratio =  n_change / len(local_prbcd_statistics['results'])\n",
    "#print(f'Percentage of changed node predictions : {100*flipped_ratio:.2f}%')\n",
    "#print(f'Clean accuracy: {100*clean_acc_local:.2f}%; Perturbed Accuracy :{100*perturbed_acc_local:.2f}%')"
   ],
   "metadata": {
    "id": "Saio7dZwlulQ",
    "ExecuteTime": {
     "end_time": "2025-02-11T17:51:01.645438200Z",
     "start_time": "2025-02-11T17:51:01.038672400Z"
    }
   },
   "execution_count": 20,
   "outputs": []
  },
  {
   "cell_type": "markdown",
   "source": [
    "### 2.2 Global PR-BCD Attack\n",
    "\n",
    "Now let's do the same with a non-local `PR-BCD` attack. For this, we use [experiments/experiment_global_attack_direct.py](https://github.com/sigeisler/robustness_of_gnns_at_scale/blob/main/experiments/experiment_global_attack_direct.py#L63)."
   ],
   "metadata": {
    "id": "UMtpxI6cCkwz"
   }
  },
  {
   "cell_type": "code",
   "source": [
    "perturbed_acc_global = []\n",
    "budget = range(1, 10)\n",
    "loop_condition = True"
   ],
   "metadata": {
    "id": "1PwL8Y-u59lo",
    "ExecuteTime": {
     "end_time": "2025-02-11T17:57:09.395773300Z",
     "start_time": "2025-02-11T17:57:08.996634Z"
    }
   },
   "execution_count": 29,
   "outputs": []
  },
  {
   "cell_type": "code",
   "execution_count": 24,
   "outputs": [],
   "source": [
    "loop_condition = False"
   ],
   "metadata": {
    "collapsed": false,
    "ExecuteTime": {
     "end_time": "2025-02-11T17:55:39.982117400Z",
     "start_time": "2025-02-11T17:55:39.646526400Z"
    }
   }
  },
  {
   "cell_type": "code",
   "source": [
    "if loop_condition != True:\n",
    "    budget = [0.5]\n",
    "for budget in budget:\n",
    "  global_prbcd_statistics = experiment_global_attack_direct.run(\n",
    "      data_dir = './data',\n",
    "      dataset = 'cora_ml',\n",
    "      attack = 'PRBCD',\n",
    "      attack_params = dict(\n",
    "          #epochs=500,\n",
    "          epochs=50,\n",
    "          fine_tune_epochs=100,\n",
    "          keep_heuristic=\"WeightOnly\",\n",
    "          search_space_size=100_000,\n",
    "          do_synchronize=True,\n",
    "          loss_type=\"tanhMargin\",\n",
    "      ),\n",
    "      epsilons = [budget],\n",
    "      binary_attr = False,\n",
    "      make_undirected = True,\n",
    "      seed=0,\n",
    "      artifact_dir = 'cache',\n",
    "      pert_adj_storage_type = 'evasion_global_adj',\n",
    "      pert_attr_storage_type = 'evasion_global_attr',\n",
    "      model_label = 'Vanilla GCN',\n",
    "      model_storage_type = 'demo',\n",
    "      #device = 0,\n",
    "      #data_device = 0,\n",
    "      device = \"cpu\",\n",
    "      data_device = \"cpu\",\n",
    "      debug_level = \"info\"\n",
    "  )\n",
    "  perturbed_acc_global = perturbed_acc_global + [global_prbcd_statistics[\"results\"][0]['accuracy']]\n",
    "\n"
   ],
   "metadata": {
    "colab": {
     "base_uri": "https://localhost:8080/",
     "height": 1000
    },
    "id": "NdZaHYI8Had1",
    "outputId": "d9c5adfc-37e6-4220-cf76-88116285f5c9",
    "ExecuteTime": {
     "end_time": "2025-02-11T17:59:37.976512100Z",
     "start_time": "2025-02-11T17:57:11.219886500Z"
    }
   },
   "execution_count": 30,
   "outputs": [
    {
     "data": {
      "text/plain": "\u001B[2;36m[02/11/25 18:57:11]\u001B[0m\u001B[2;36m \u001B[0m\u001B[34mINFO    \u001B[0m \u001B[1m{\u001B[0m\u001B[32m'dataset'\u001B[0m: \u001B[32m'cora_ml'\u001B[0m, \u001B[32m'attack'\u001B[0m: \u001B[32m'PRBCD'\u001B[0m, \u001B[32m'attack_params'\u001B[0m: \u001B[1m{\u001B[0m\u001B[32m'epochs'\u001B[0m: \u001B[1;36m50\u001B[0m, \u001B]8;id=953118;file://C:\\Users\\kyawk\\Desktop\\robustness_of_gnns_at_scale-main\\experiments\\common.py\u001B\\\u001B[2mcommon.py\u001B[0m\u001B]8;;\u001B\\\u001B[2m:\u001B[0m\u001B]8;id=100897;file://C:\\Users\\kyawk\\Desktop\\robustness_of_gnns_at_scale-main\\experiments\\common.py#38\u001B\\\u001B[2m38\u001B[0m\u001B]8;;\u001B\\\n\u001B[2;36m                    \u001B[0m         \u001B[32m'fine_tune_epochs'\u001B[0m: \u001B[1;36m100\u001B[0m, \u001B[32m'keep_heuristic'\u001B[0m: \u001B[32m'WeightOnly'\u001B[0m,                  \u001B[2m            \u001B[0m\n\u001B[2;36m                    \u001B[0m         \u001B[32m'search_space_size'\u001B[0m: \u001B[1;36m100000\u001B[0m, \u001B[32m'do_synchronize'\u001B[0m: \u001B[3;92mTrue\u001B[0m, \u001B[32m'loss_type'\u001B[0m:         \u001B[2m            \u001B[0m\n\u001B[2;36m                    \u001B[0m         \u001B[32m'tanhMargin'\u001B[0m\u001B[1m}\u001B[0m, \u001B[32m'epsilons'\u001B[0m: \u001B[1m[\u001B[0m\u001B[1;36m1\u001B[0m\u001B[1m]\u001B[0m, \u001B[32m'make_undirected'\u001B[0m: \u001B[3;92mTrue\u001B[0m, \u001B[32m'binary_attr'\u001B[0m:   \u001B[2m            \u001B[0m\n\u001B[2;36m                    \u001B[0m         \u001B[3;91mFalse\u001B[0m, \u001B[32m'seed'\u001B[0m: \u001B[1;36m0\u001B[0m, \u001B[32m'artifact_dir'\u001B[0m: \u001B[32m'cache'\u001B[0m, \u001B[32m'pert_adj_storage_type'\u001B[0m:       \u001B[2m            \u001B[0m\n\u001B[2;36m                    \u001B[0m         \u001B[32m'evasion_global_adj'\u001B[0m, \u001B[32m'pert_attr_storage_type'\u001B[0m: \u001B[32m'evasion_global_attr'\u001B[0m,    \u001B[2m            \u001B[0m\n\u001B[2;36m                    \u001B[0m         \u001B[32m'model_label'\u001B[0m: \u001B[32m'Vanilla GCN'\u001B[0m, \u001B[32m'model_storage_type'\u001B[0m: \u001B[32m'demo'\u001B[0m, \u001B[32m'device'\u001B[0m:     \u001B[2m            \u001B[0m\n\u001B[2;36m                    \u001B[0m         \u001B[32m'cpu'\u001B[0m, \u001B[32m'data_device'\u001B[0m: \u001B[32m'cpu'\u001B[0m\u001B[1m}\u001B[0m                                              \u001B[2m            \u001B[0m\n",
      "text/html": "<pre style=\"white-space:pre;overflow-x:auto;line-height:normal;font-family:Menlo,'DejaVu Sans Mono',consolas,'Courier New',monospace\"><span style=\"color: #7fbfbf; text-decoration-color: #7fbfbf\">[02/11/25 18:57:11] </span><span style=\"color: #000080; text-decoration-color: #000080\">INFO    </span> <span style=\"font-weight: bold\">{</span><span style=\"color: #008000; text-decoration-color: #008000\">'dataset'</span>: <span style=\"color: #008000; text-decoration-color: #008000\">'cora_ml'</span>, <span style=\"color: #008000; text-decoration-color: #008000\">'attack'</span>: <span style=\"color: #008000; text-decoration-color: #008000\">'PRBCD'</span>, <span style=\"color: #008000; text-decoration-color: #008000\">'attack_params'</span>: <span style=\"font-weight: bold\">{</span><span style=\"color: #008000; text-decoration-color: #008000\">'epochs'</span>: <span style=\"color: #008080; text-decoration-color: #008080; font-weight: bold\">50</span>, <a href=\"file://C:\\Users\\kyawk\\Desktop\\robustness_of_gnns_at_scale-main\\experiments\\common.py\" target=\"_blank\"><span style=\"color: #7f7f7f; text-decoration-color: #7f7f7f\">common.py</span></a><span style=\"color: #7f7f7f; text-decoration-color: #7f7f7f\">:</span><a href=\"file://C:\\Users\\kyawk\\Desktop\\robustness_of_gnns_at_scale-main\\experiments\\common.py#38\" target=\"_blank\"><span style=\"color: #7f7f7f; text-decoration-color: #7f7f7f\">38</span></a>\n<span style=\"color: #7fbfbf; text-decoration-color: #7fbfbf\">                    </span>         <span style=\"color: #008000; text-decoration-color: #008000\">'fine_tune_epochs'</span>: <span style=\"color: #008080; text-decoration-color: #008080; font-weight: bold\">100</span>, <span style=\"color: #008000; text-decoration-color: #008000\">'keep_heuristic'</span>: <span style=\"color: #008000; text-decoration-color: #008000\">'WeightOnly'</span>,                  <span style=\"color: #7f7f7f; text-decoration-color: #7f7f7f\">            </span>\n<span style=\"color: #7fbfbf; text-decoration-color: #7fbfbf\">                    </span>         <span style=\"color: #008000; text-decoration-color: #008000\">'search_space_size'</span>: <span style=\"color: #008080; text-decoration-color: #008080; font-weight: bold\">100000</span>, <span style=\"color: #008000; text-decoration-color: #008000\">'do_synchronize'</span>: <span style=\"color: #00ff00; text-decoration-color: #00ff00; font-style: italic\">True</span>, <span style=\"color: #008000; text-decoration-color: #008000\">'loss_type'</span>:         <span style=\"color: #7f7f7f; text-decoration-color: #7f7f7f\">            </span>\n<span style=\"color: #7fbfbf; text-decoration-color: #7fbfbf\">                    </span>         <span style=\"color: #008000; text-decoration-color: #008000\">'tanhMargin'</span><span style=\"font-weight: bold\">}</span>, <span style=\"color: #008000; text-decoration-color: #008000\">'epsilons'</span>: <span style=\"font-weight: bold\">[</span><span style=\"color: #008080; text-decoration-color: #008080; font-weight: bold\">1</span><span style=\"font-weight: bold\">]</span>, <span style=\"color: #008000; text-decoration-color: #008000\">'make_undirected'</span>: <span style=\"color: #00ff00; text-decoration-color: #00ff00; font-style: italic\">True</span>, <span style=\"color: #008000; text-decoration-color: #008000\">'binary_attr'</span>:   <span style=\"color: #7f7f7f; text-decoration-color: #7f7f7f\">            </span>\n<span style=\"color: #7fbfbf; text-decoration-color: #7fbfbf\">                    </span>         <span style=\"color: #ff0000; text-decoration-color: #ff0000; font-style: italic\">False</span>, <span style=\"color: #008000; text-decoration-color: #008000\">'seed'</span>: <span style=\"color: #008080; text-decoration-color: #008080; font-weight: bold\">0</span>, <span style=\"color: #008000; text-decoration-color: #008000\">'artifact_dir'</span>: <span style=\"color: #008000; text-decoration-color: #008000\">'cache'</span>, <span style=\"color: #008000; text-decoration-color: #008000\">'pert_adj_storage_type'</span>:       <span style=\"color: #7f7f7f; text-decoration-color: #7f7f7f\">            </span>\n<span style=\"color: #7fbfbf; text-decoration-color: #7fbfbf\">                    </span>         <span style=\"color: #008000; text-decoration-color: #008000\">'evasion_global_adj'</span>, <span style=\"color: #008000; text-decoration-color: #008000\">'pert_attr_storage_type'</span>: <span style=\"color: #008000; text-decoration-color: #008000\">'evasion_global_attr'</span>,    <span style=\"color: #7f7f7f; text-decoration-color: #7f7f7f\">            </span>\n<span style=\"color: #7fbfbf; text-decoration-color: #7fbfbf\">                    </span>         <span style=\"color: #008000; text-decoration-color: #008000\">'model_label'</span>: <span style=\"color: #008000; text-decoration-color: #008000\">'Vanilla GCN'</span>, <span style=\"color: #008000; text-decoration-color: #008000\">'model_storage_type'</span>: <span style=\"color: #008000; text-decoration-color: #008000\">'demo'</span>, <span style=\"color: #008000; text-decoration-color: #008000\">'device'</span>:     <span style=\"color: #7f7f7f; text-decoration-color: #7f7f7f\">            </span>\n<span style=\"color: #7fbfbf; text-decoration-color: #7fbfbf\">                    </span>         <span style=\"color: #008000; text-decoration-color: #008000\">'cpu'</span>, <span style=\"color: #008000; text-decoration-color: #008000\">'data_device'</span>: <span style=\"color: #008000; text-decoration-color: #008000\">'cpu'</span><span style=\"font-weight: bold\">}</span>                                              <span style=\"color: #7f7f7f; text-decoration-color: #7f7f7f\">            </span>\n</pre>\n"
     },
     "metadata": {},
     "output_type": "display_data"
    },
    {
     "data": {
      "text/plain": "\u001B[2;36m                   \u001B[0m\u001B[2;36m \u001B[0m\u001B[34mINFO    \u001B[0m Lock \u001B[1;36m1533633970704\u001B[0m acquired on cache\\demo.json.lock                    \u001B]8;id=667052;file://C:\\Users\\kyawk\\anaconda3\\envs\\Masterarbeit_2_0\\Lib\\site-packages\\filelock.py\u001B\\\u001B[2mfilelock.py\u001B[0m\u001B]8;;\u001B\\\u001B[2m:\u001B[0m\u001B]8;id=720322;file://C:\\Users\\kyawk\\anaconda3\\envs\\Masterarbeit_2_0\\Lib\\site-packages\\filelock.py#274\u001B\\\u001B[2m274\u001B[0m\u001B]8;;\u001B\\\n",
      "text/html": "<pre style=\"white-space:pre;overflow-x:auto;line-height:normal;font-family:Menlo,'DejaVu Sans Mono',consolas,'Courier New',monospace\"><span style=\"color: #7fbfbf; text-decoration-color: #7fbfbf\">                    </span><span style=\"color: #000080; text-decoration-color: #000080\">INFO    </span> Lock <span style=\"color: #008080; text-decoration-color: #008080; font-weight: bold\">1533633970704</span> acquired on cache\\demo.json.lock                    <a href=\"file://C:\\Users\\kyawk\\anaconda3\\envs\\Masterarbeit_2_0\\Lib\\site-packages\\filelock.py\" target=\"_blank\"><span style=\"color: #7f7f7f; text-decoration-color: #7f7f7f\">filelock.py</span></a><span style=\"color: #7f7f7f; text-decoration-color: #7f7f7f\">:</span><a href=\"file://C:\\Users\\kyawk\\anaconda3\\envs\\Masterarbeit_2_0\\Lib\\site-packages\\filelock.py#274\" target=\"_blank\"><span style=\"color: #7f7f7f; text-decoration-color: #7f7f7f\">274</span></a>\n</pre>\n"
     },
     "metadata": {},
     "output_type": "display_data"
    },
    {
     "data": {
      "text/plain": "\u001B[2;36m                   \u001B[0m\u001B[2;36m \u001B[0m\u001B[34mINFO    \u001B[0m Lock \u001B[1;36m1533633970704\u001B[0m released on cache\\demo.json.lock                    \u001B]8;id=123162;file://C:\\Users\\kyawk\\anaconda3\\envs\\Masterarbeit_2_0\\Lib\\site-packages\\filelock.py\u001B\\\u001B[2mfilelock.py\u001B[0m\u001B]8;;\u001B\\\u001B[2m:\u001B[0m\u001B]8;id=880938;file://C:\\Users\\kyawk\\anaconda3\\envs\\Masterarbeit_2_0\\Lib\\site-packages\\filelock.py#318\u001B\\\u001B[2m318\u001B[0m\u001B]8;;\u001B\\\n",
      "text/html": "<pre style=\"white-space:pre;overflow-x:auto;line-height:normal;font-family:Menlo,'DejaVu Sans Mono',consolas,'Courier New',monospace\"><span style=\"color: #7fbfbf; text-decoration-color: #7fbfbf\">                    </span><span style=\"color: #000080; text-decoration-color: #000080\">INFO    </span> Lock <span style=\"color: #008080; text-decoration-color: #008080; font-weight: bold\">1533633970704</span> released on cache\\demo.json.lock                    <a href=\"file://C:\\Users\\kyawk\\anaconda3\\envs\\Masterarbeit_2_0\\Lib\\site-packages\\filelock.py\" target=\"_blank\"><span style=\"color: #7f7f7f; text-decoration-color: #7f7f7f\">filelock.py</span></a><span style=\"color: #7f7f7f; text-decoration-color: #7f7f7f\">:</span><a href=\"file://C:\\Users\\kyawk\\anaconda3\\envs\\Masterarbeit_2_0\\Lib\\site-packages\\filelock.py#318\" target=\"_blank\"><span style=\"color: #7f7f7f; text-decoration-color: #7f7f7f\">318</span></a>\n</pre>\n"
     },
     "metadata": {},
     "output_type": "display_data"
    },
    {
     "data": {
      "text/plain": "\u001B[2;36m                   \u001B[0m\u001B[2;36m \u001B[0m\u001B[34mINFO    \u001B[0m Evaluate  PRBCD for model \u001B[32m'Vanilla GCN'\u001B[0m.        \u001B]8;id=601133;file://C:\\Users\\kyawk\\Desktop\\robustness_of_gnns_at_scale-main\\experiments\\experiment_global_attack_direct.py\u001B\\\u001B[2mexperiment_global_attack_direct.py\u001B[0m\u001B]8;;\u001B\\\u001B[2m:\u001B[0m\u001B]8;id=598602;file://C:\\Users\\kyawk\\Desktop\\robustness_of_gnns_at_scale-main\\experiments\\experiment_global_attack_direct.py#138\u001B\\\u001B[2m138\u001B[0m\u001B]8;;\u001B\\\n",
      "text/html": "<pre style=\"white-space:pre;overflow-x:auto;line-height:normal;font-family:Menlo,'DejaVu Sans Mono',consolas,'Courier New',monospace\"><span style=\"color: #7fbfbf; text-decoration-color: #7fbfbf\">                    </span><span style=\"color: #000080; text-decoration-color: #000080\">INFO    </span> Evaluate  PRBCD for model <span style=\"color: #008000; text-decoration-color: #008000\">'Vanilla GCN'</span>.        <a href=\"file://C:\\Users\\kyawk\\Desktop\\robustness_of_gnns_at_scale-main\\experiments\\experiment_global_attack_direct.py\" target=\"_blank\"><span style=\"color: #7f7f7f; text-decoration-color: #7f7f7f\">experiment_global_attack_direct.py</span></a><span style=\"color: #7f7f7f; text-decoration-color: #7f7f7f\">:</span><a href=\"file://C:\\Users\\kyawk\\Desktop\\robustness_of_gnns_at_scale-main\\experiments\\experiment_global_attack_direct.py#138\" target=\"_blank\"><span style=\"color: #7f7f7f; text-decoration-color: #7f7f7f\">138</span></a>\n</pre>\n"
     },
     "metadata": {},
     "output_type": "display_data"
    },
    {
     "data": {
      "text/plain": "\u001B[2;36m                   \u001B[0m\u001B[2;36m \u001B[0m\u001B[34mINFO    \u001B[0m Lock \u001B[1;36m1533748503568\u001B[0m acquired on cache\\evasion_global_adj.json.lock      \u001B]8;id=838355;file://C:\\Users\\kyawk\\anaconda3\\envs\\Masterarbeit_2_0\\Lib\\site-packages\\filelock.py\u001B\\\u001B[2mfilelock.py\u001B[0m\u001B]8;;\u001B\\\u001B[2m:\u001B[0m\u001B]8;id=171921;file://C:\\Users\\kyawk\\anaconda3\\envs\\Masterarbeit_2_0\\Lib\\site-packages\\filelock.py#274\u001B\\\u001B[2m274\u001B[0m\u001B]8;;\u001B\\\n",
      "text/html": "<pre style=\"white-space:pre;overflow-x:auto;line-height:normal;font-family:Menlo,'DejaVu Sans Mono',consolas,'Courier New',monospace\"><span style=\"color: #7fbfbf; text-decoration-color: #7fbfbf\">                    </span><span style=\"color: #000080; text-decoration-color: #000080\">INFO    </span> Lock <span style=\"color: #008080; text-decoration-color: #008080; font-weight: bold\">1533748503568</span> acquired on cache\\evasion_global_adj.json.lock      <a href=\"file://C:\\Users\\kyawk\\anaconda3\\envs\\Masterarbeit_2_0\\Lib\\site-packages\\filelock.py\" target=\"_blank\"><span style=\"color: #7f7f7f; text-decoration-color: #7f7f7f\">filelock.py</span></a><span style=\"color: #7f7f7f; text-decoration-color: #7f7f7f\">:</span><a href=\"file://C:\\Users\\kyawk\\anaconda3\\envs\\Masterarbeit_2_0\\Lib\\site-packages\\filelock.py#274\" target=\"_blank\"><span style=\"color: #7f7f7f; text-decoration-color: #7f7f7f\">274</span></a>\n</pre>\n"
     },
     "metadata": {},
     "output_type": "display_data"
    },
    {
     "data": {
      "text/plain": "\u001B[2;36m                   \u001B[0m\u001B[2;36m \u001B[0m\u001B[34mINFO    \u001B[0m Lock \u001B[1;36m1533748503568\u001B[0m released on cache\\evasion_global_adj.json.lock      \u001B]8;id=22734;file://C:\\Users\\kyawk\\anaconda3\\envs\\Masterarbeit_2_0\\Lib\\site-packages\\filelock.py\u001B\\\u001B[2mfilelock.py\u001B[0m\u001B]8;;\u001B\\\u001B[2m:\u001B[0m\u001B]8;id=983179;file://C:\\Users\\kyawk\\anaconda3\\envs\\Masterarbeit_2_0\\Lib\\site-packages\\filelock.py#318\u001B\\\u001B[2m318\u001B[0m\u001B]8;;\u001B\\\n",
      "text/html": "<pre style=\"white-space:pre;overflow-x:auto;line-height:normal;font-family:Menlo,'DejaVu Sans Mono',consolas,'Courier New',monospace\"><span style=\"color: #7fbfbf; text-decoration-color: #7fbfbf\">                    </span><span style=\"color: #000080; text-decoration-color: #000080\">INFO    </span> Lock <span style=\"color: #008080; text-decoration-color: #008080; font-weight: bold\">1533748503568</span> released on cache\\evasion_global_adj.json.lock      <a href=\"file://C:\\Users\\kyawk\\anaconda3\\envs\\Masterarbeit_2_0\\Lib\\site-packages\\filelock.py\" target=\"_blank\"><span style=\"color: #7f7f7f; text-decoration-color: #7f7f7f\">filelock.py</span></a><span style=\"color: #7f7f7f; text-decoration-color: #7f7f7f\">:</span><a href=\"file://C:\\Users\\kyawk\\anaconda3\\envs\\Masterarbeit_2_0\\Lib\\site-packages\\filelock.py#318\" target=\"_blank\"><span style=\"color: #7f7f7f; text-decoration-color: #7f7f7f\">318</span></a>\n</pre>\n"
     },
     "metadata": {},
     "output_type": "display_data"
    },
    {
     "data": {
      "text/plain": "\u001B[2;36m                   \u001B[0m\u001B[2;36m \u001B[0m\u001B[34mINFO    \u001B[0m Lock \u001B[1;36m1533633922512\u001B[0m acquired on cache\\evasion_global_attr.json.lock     \u001B]8;id=527594;file://C:\\Users\\kyawk\\anaconda3\\envs\\Masterarbeit_2_0\\Lib\\site-packages\\filelock.py\u001B\\\u001B[2mfilelock.py\u001B[0m\u001B]8;;\u001B\\\u001B[2m:\u001B[0m\u001B]8;id=577311;file://C:\\Users\\kyawk\\anaconda3\\envs\\Masterarbeit_2_0\\Lib\\site-packages\\filelock.py#274\u001B\\\u001B[2m274\u001B[0m\u001B]8;;\u001B\\\n",
      "text/html": "<pre style=\"white-space:pre;overflow-x:auto;line-height:normal;font-family:Menlo,'DejaVu Sans Mono',consolas,'Courier New',monospace\"><span style=\"color: #7fbfbf; text-decoration-color: #7fbfbf\">                    </span><span style=\"color: #000080; text-decoration-color: #000080\">INFO    </span> Lock <span style=\"color: #008080; text-decoration-color: #008080; font-weight: bold\">1533633922512</span> acquired on cache\\evasion_global_attr.json.lock     <a href=\"file://C:\\Users\\kyawk\\anaconda3\\envs\\Masterarbeit_2_0\\Lib\\site-packages\\filelock.py\" target=\"_blank\"><span style=\"color: #7f7f7f; text-decoration-color: #7f7f7f\">filelock.py</span></a><span style=\"color: #7f7f7f; text-decoration-color: #7f7f7f\">:</span><a href=\"file://C:\\Users\\kyawk\\anaconda3\\envs\\Masterarbeit_2_0\\Lib\\site-packages\\filelock.py#274\" target=\"_blank\"><span style=\"color: #7f7f7f; text-decoration-color: #7f7f7f\">274</span></a>\n</pre>\n"
     },
     "metadata": {},
     "output_type": "display_data"
    },
    {
     "data": {
      "text/plain": "\u001B[2;36m                   \u001B[0m\u001B[2;36m \u001B[0m\u001B[34mINFO    \u001B[0m Lock \u001B[1;36m1533633922512\u001B[0m released on cache\\evasion_global_attr.json.lock     \u001B]8;id=834881;file://C:\\Users\\kyawk\\anaconda3\\envs\\Masterarbeit_2_0\\Lib\\site-packages\\filelock.py\u001B\\\u001B[2mfilelock.py\u001B[0m\u001B]8;;\u001B\\\u001B[2m:\u001B[0m\u001B]8;id=267539;file://C:\\Users\\kyawk\\anaconda3\\envs\\Masterarbeit_2_0\\Lib\\site-packages\\filelock.py#318\u001B\\\u001B[2m318\u001B[0m\u001B]8;;\u001B\\\n",
      "text/html": "<pre style=\"white-space:pre;overflow-x:auto;line-height:normal;font-family:Menlo,'DejaVu Sans Mono',consolas,'Courier New',monospace\"><span style=\"color: #7fbfbf; text-decoration-color: #7fbfbf\">                    </span><span style=\"color: #000080; text-decoration-color: #000080\">INFO    </span> Lock <span style=\"color: #008080; text-decoration-color: #008080; font-weight: bold\">1533633922512</span> released on cache\\evasion_global_attr.json.lock     <a href=\"file://C:\\Users\\kyawk\\anaconda3\\envs\\Masterarbeit_2_0\\Lib\\site-packages\\filelock.py\" target=\"_blank\"><span style=\"color: #7f7f7f; text-decoration-color: #7f7f7f\">filelock.py</span></a><span style=\"color: #7f7f7f; text-decoration-color: #7f7f7f\">:</span><a href=\"file://C:\\Users\\kyawk\\anaconda3\\envs\\Masterarbeit_2_0\\Lib\\site-packages\\filelock.py#318\" target=\"_blank\"><span style=\"color: #7f7f7f; text-decoration-color: #7f7f7f\">318</span></a>\n</pre>\n"
     },
     "metadata": {},
     "output_type": "display_data"
    },
    {
     "data": {
      "text/plain": "\u001B[2;36m                   \u001B[0m\u001B[2;36m \u001B[0m\u001B[34mINFO    \u001B[0m No cached perturbations found for model \u001B[32m'Vanilla GCN'\u001B[0m and eps \u001B[1;36m1\u001B[0m. Execute \u001B]8;id=30730;file://C:\\Users\\kyawk\\Desktop\\robustness_of_gnns_at_scale-main\\experiments\\common.py\u001B\\\u001B[2mcommon.py\u001B[0m\u001B]8;;\u001B\\\u001B[2m:\u001B[0m\u001B]8;id=393522;file://C:\\Users\\kyawk\\Desktop\\robustness_of_gnns_at_scale-main\\experiments\\common.py#109\u001B\\\u001B[2m109\u001B[0m\u001B]8;;\u001B\\\n\u001B[2;36m                    \u001B[0m         attack\u001B[33m...\u001B[0m                                                                \u001B[2m             \u001B[0m\n",
      "text/html": "<pre style=\"white-space:pre;overflow-x:auto;line-height:normal;font-family:Menlo,'DejaVu Sans Mono',consolas,'Courier New',monospace\"><span style=\"color: #7fbfbf; text-decoration-color: #7fbfbf\">                    </span><span style=\"color: #000080; text-decoration-color: #000080\">INFO    </span> No cached perturbations found for model <span style=\"color: #008000; text-decoration-color: #008000\">'Vanilla GCN'</span> and eps <span style=\"color: #008080; text-decoration-color: #008080; font-weight: bold\">1</span>. Execute <a href=\"file://C:\\Users\\kyawk\\Desktop\\robustness_of_gnns_at_scale-main\\experiments\\common.py\" target=\"_blank\"><span style=\"color: #7f7f7f; text-decoration-color: #7f7f7f\">common.py</span></a><span style=\"color: #7f7f7f; text-decoration-color: #7f7f7f\">:</span><a href=\"file://C:\\Users\\kyawk\\Desktop\\robustness_of_gnns_at_scale-main\\experiments\\common.py#109\" target=\"_blank\"><span style=\"color: #7f7f7f; text-decoration-color: #7f7f7f\">109</span></a>\n<span style=\"color: #7fbfbf; text-decoration-color: #7fbfbf\">                    </span>         attack<span style=\"color: #808000; text-decoration-color: #808000\">...</span>                                                                <span style=\"color: #7f7f7f; text-decoration-color: #7f7f7f\">             </span>\n</pre>\n"
     },
     "metadata": {},
     "output_type": "display_data"
    },
    {
     "data": {
      "text/plain": "\u001B[2;36m[02/11/25 18:57:12]\u001B[0m\u001B[2;36m \u001B[0m\u001B[34mINFO    \u001B[0m                                                                            \u001B]8;id=305748;file://C:\\Users\\kyawk\\Desktop\\robustness_of_gnns_at_scale-main\\rgnn_at_scale\\attacks\\prbcd.py\u001B\\\u001B[2mprbcd.py\u001B[0m\u001B]8;;\u001B\\\u001B[2m:\u001B[0m\u001B]8;id=80602;file://C:\\Users\\kyawk\\Desktop\\robustness_of_gnns_at_scale-main\\rgnn_at_scale\\attacks\\prbcd.py#86\u001B\\\u001B[2m86\u001B[0m\u001B]8;;\u001B\\\n\u001B[2;36m                    \u001B[0m         Before the attack - Loss: \u001B[1;36m-0.6509091258049011\u001B[0m Accuracy: \u001B[1;36m83.478\u001B[0m %           \u001B[2m           \u001B[0m\n\u001B[2;36m                    \u001B[0m                                                                                    \u001B[2m           \u001B[0m\n",
      "text/html": "<pre style=\"white-space:pre;overflow-x:auto;line-height:normal;font-family:Menlo,'DejaVu Sans Mono',consolas,'Courier New',monospace\"><span style=\"color: #7fbfbf; text-decoration-color: #7fbfbf\">[02/11/25 18:57:12] </span><span style=\"color: #000080; text-decoration-color: #000080\">INFO    </span>                                                                            <a href=\"file://C:\\Users\\kyawk\\Desktop\\robustness_of_gnns_at_scale-main\\rgnn_at_scale\\attacks\\prbcd.py\" target=\"_blank\"><span style=\"color: #7f7f7f; text-decoration-color: #7f7f7f\">prbcd.py</span></a><span style=\"color: #7f7f7f; text-decoration-color: #7f7f7f\">:</span><a href=\"file://C:\\Users\\kyawk\\Desktop\\robustness_of_gnns_at_scale-main\\rgnn_at_scale\\attacks\\prbcd.py#86\" target=\"_blank\"><span style=\"color: #7f7f7f; text-decoration-color: #7f7f7f\">86</span></a>\n<span style=\"color: #7fbfbf; text-decoration-color: #7fbfbf\">                    </span>         Before the attack - Loss: <span style=\"color: #008080; text-decoration-color: #008080; font-weight: bold\">-0.6509091258049011</span> Accuracy: <span style=\"color: #008080; text-decoration-color: #008080; font-weight: bold\">83.478</span> %           <span style=\"color: #7f7f7f; text-decoration-color: #7f7f7f\">           </span>\n<span style=\"color: #7fbfbf; text-decoration-color: #7fbfbf\">                    </span>                                                                                    <span style=\"color: #7f7f7f; text-decoration-color: #7f7f7f\">           </span>\n</pre>\n"
     },
     "metadata": {},
     "output_type": "display_data"
    },
    {
     "name": "stderr",
     "output_type": "stream",
     "text": [
      "  0%|          | 0/50 [00:00<?, ?it/s]"
     ]
    },
    {
     "data": {
      "text/plain": "\u001B[2;36m[02/11/25 18:57:15]\u001B[0m\u001B[2;36m \u001B[0m\u001B[34mINFO    \u001B[0m                                                                           \u001B]8;id=287462;file://C:\\Users\\kyawk\\Desktop\\robustness_of_gnns_at_scale-main\\rgnn_at_scale\\attacks\\prbcd.py\u001B\\\u001B[2mprbcd.py\u001B[0m\u001B]8;;\u001B\\\u001B[2m:\u001B[0m\u001B]8;id=829660;file://C:\\Users\\kyawk\\Desktop\\robustness_of_gnns_at_scale-main\\rgnn_at_scale\\attacks\\prbcd.py#132\u001B\\\u001B[2m132\u001B[0m\u001B]8;;\u001B\\\n\u001B[2;36m                    \u001B[0m         Epoch: \u001B[1;36m0\u001B[0m Loss: \u001B[1;36m-0.6509034633636475\u001B[0m Accuracy: \u001B[1;36m79.644\u001B[0m %                     \u001B[2m            \u001B[0m\n\u001B[2;36m                    \u001B[0m                                                                                   \u001B[2m            \u001B[0m\n",
      "text/html": "<pre style=\"white-space:pre;overflow-x:auto;line-height:normal;font-family:Menlo,'DejaVu Sans Mono',consolas,'Courier New',monospace\"><span style=\"color: #7fbfbf; text-decoration-color: #7fbfbf\">[02/11/25 18:57:15] </span><span style=\"color: #000080; text-decoration-color: #000080\">INFO    </span>                                                                           <a href=\"file://C:\\Users\\kyawk\\Desktop\\robustness_of_gnns_at_scale-main\\rgnn_at_scale\\attacks\\prbcd.py\" target=\"_blank\"><span style=\"color: #7f7f7f; text-decoration-color: #7f7f7f\">prbcd.py</span></a><span style=\"color: #7f7f7f; text-decoration-color: #7f7f7f\">:</span><a href=\"file://C:\\Users\\kyawk\\Desktop\\robustness_of_gnns_at_scale-main\\rgnn_at_scale\\attacks\\prbcd.py#132\" target=\"_blank\"><span style=\"color: #7f7f7f; text-decoration-color: #7f7f7f\">132</span></a>\n<span style=\"color: #7fbfbf; text-decoration-color: #7fbfbf\">                    </span>         Epoch: <span style=\"color: #008080; text-decoration-color: #008080; font-weight: bold\">0</span> Loss: <span style=\"color: #008080; text-decoration-color: #008080; font-weight: bold\">-0.6509034633636475</span> Accuracy: <span style=\"color: #008080; text-decoration-color: #008080; font-weight: bold\">79.644</span> %                     <span style=\"color: #7f7f7f; text-decoration-color: #7f7f7f\">            </span>\n<span style=\"color: #7fbfbf; text-decoration-color: #7fbfbf\">                    </span>                                                                                   <span style=\"color: #7f7f7f; text-decoration-color: #7f7f7f\">            </span>\n</pre>\n"
     },
     "metadata": {},
     "output_type": "display_data"
    },
    {
     "name": "stderr",
     "output_type": "stream",
     "text": [
      " 40%|████      | 20/50 [00:47<01:11,  2.39s/it]"
     ]
    },
    {
     "data": {
      "text/plain": "\u001B[2;36m[02/11/25 18:58:02]\u001B[0m\u001B[2;36m \u001B[0m\u001B[34mINFO    \u001B[0m                                                                           \u001B]8;id=556264;file://C:\\Users\\kyawk\\Desktop\\robustness_of_gnns_at_scale-main\\rgnn_at_scale\\attacks\\prbcd.py\u001B\\\u001B[2mprbcd.py\u001B[0m\u001B]8;;\u001B\\\u001B[2m:\u001B[0m\u001B]8;id=565830;file://C:\\Users\\kyawk\\Desktop\\robustness_of_gnns_at_scale-main\\rgnn_at_scale\\attacks\\prbcd.py#132\u001B\\\u001B[2m132\u001B[0m\u001B]8;;\u001B\\\n\u001B[2;36m                    \u001B[0m         Epoch: \u001B[1;36m20\u001B[0m Loss: \u001B[1;36m-0.36712679266929626\u001B[0m Accuracy: \u001B[1;36m66.917\u001B[0m %                   \u001B[2m            \u001B[0m\n\u001B[2;36m                    \u001B[0m                                                                                   \u001B[2m            \u001B[0m\n",
      "text/html": "<pre style=\"white-space:pre;overflow-x:auto;line-height:normal;font-family:Menlo,'DejaVu Sans Mono',consolas,'Courier New',monospace\"><span style=\"color: #7fbfbf; text-decoration-color: #7fbfbf\">[02/11/25 18:58:02] </span><span style=\"color: #000080; text-decoration-color: #000080\">INFO    </span>                                                                           <a href=\"file://C:\\Users\\kyawk\\Desktop\\robustness_of_gnns_at_scale-main\\rgnn_at_scale\\attacks\\prbcd.py\" target=\"_blank\"><span style=\"color: #7f7f7f; text-decoration-color: #7f7f7f\">prbcd.py</span></a><span style=\"color: #7f7f7f; text-decoration-color: #7f7f7f\">:</span><a href=\"file://C:\\Users\\kyawk\\Desktop\\robustness_of_gnns_at_scale-main\\rgnn_at_scale\\attacks\\prbcd.py#132\" target=\"_blank\"><span style=\"color: #7f7f7f; text-decoration-color: #7f7f7f\">132</span></a>\n<span style=\"color: #7fbfbf; text-decoration-color: #7fbfbf\">                    </span>         Epoch: <span style=\"color: #008080; text-decoration-color: #008080; font-weight: bold\">20</span> Loss: <span style=\"color: #008080; text-decoration-color: #008080; font-weight: bold\">-0.36712679266929626</span> Accuracy: <span style=\"color: #008080; text-decoration-color: #008080; font-weight: bold\">66.917</span> %                   <span style=\"color: #7f7f7f; text-decoration-color: #7f7f7f\">            </span>\n<span style=\"color: #7fbfbf; text-decoration-color: #7fbfbf\">                    </span>                                                                                   <span style=\"color: #7f7f7f; text-decoration-color: #7f7f7f\">            </span>\n</pre>\n"
     },
     "metadata": {},
     "output_type": "display_data"
    },
    {
     "name": "stderr",
     "output_type": "stream",
     "text": [
      " 80%|████████  | 40/50 [01:35<00:23,  2.40s/it]"
     ]
    },
    {
     "data": {
      "text/plain": "\u001B[2;36m[02/11/25 18:58:50]\u001B[0m\u001B[2;36m \u001B[0m\u001B[34mINFO    \u001B[0m                                                                           \u001B]8;id=345829;file://C:\\Users\\kyawk\\Desktop\\robustness_of_gnns_at_scale-main\\rgnn_at_scale\\attacks\\prbcd.py\u001B\\\u001B[2mprbcd.py\u001B[0m\u001B]8;;\u001B\\\u001B[2m:\u001B[0m\u001B]8;id=191050;file://C:\\Users\\kyawk\\Desktop\\robustness_of_gnns_at_scale-main\\rgnn_at_scale\\attacks\\prbcd.py#132\u001B\\\u001B[2m132\u001B[0m\u001B]8;;\u001B\\\n\u001B[2;36m                    \u001B[0m         Epoch: \u001B[1;36m40\u001B[0m Loss: \u001B[1;36m-0.2930596172809601\u001B[0m Accuracy: \u001B[1;36m63.478\u001B[0m %                    \u001B[2m            \u001B[0m\n\u001B[2;36m                    \u001B[0m                                                                                   \u001B[2m            \u001B[0m\n",
      "text/html": "<pre style=\"white-space:pre;overflow-x:auto;line-height:normal;font-family:Menlo,'DejaVu Sans Mono',consolas,'Courier New',monospace\"><span style=\"color: #7fbfbf; text-decoration-color: #7fbfbf\">[02/11/25 18:58:50] </span><span style=\"color: #000080; text-decoration-color: #000080\">INFO    </span>                                                                           <a href=\"file://C:\\Users\\kyawk\\Desktop\\robustness_of_gnns_at_scale-main\\rgnn_at_scale\\attacks\\prbcd.py\" target=\"_blank\"><span style=\"color: #7f7f7f; text-decoration-color: #7f7f7f\">prbcd.py</span></a><span style=\"color: #7f7f7f; text-decoration-color: #7f7f7f\">:</span><a href=\"file://C:\\Users\\kyawk\\Desktop\\robustness_of_gnns_at_scale-main\\rgnn_at_scale\\attacks\\prbcd.py#132\" target=\"_blank\"><span style=\"color: #7f7f7f; text-decoration-color: #7f7f7f\">132</span></a>\n<span style=\"color: #7fbfbf; text-decoration-color: #7fbfbf\">                    </span>         Epoch: <span style=\"color: #008080; text-decoration-color: #008080; font-weight: bold\">40</span> Loss: <span style=\"color: #008080; text-decoration-color: #008080; font-weight: bold\">-0.2930596172809601</span> Accuracy: <span style=\"color: #008080; text-decoration-color: #008080; font-weight: bold\">63.478</span> %                    <span style=\"color: #7f7f7f; text-decoration-color: #7f7f7f\">            </span>\n<span style=\"color: #7fbfbf; text-decoration-color: #7fbfbf\">                    </span>                                                                                   <span style=\"color: #7f7f7f; text-decoration-color: #7f7f7f\">            </span>\n</pre>\n"
     },
     "metadata": {},
     "output_type": "display_data"
    },
    {
     "name": "stderr",
     "output_type": "stream",
     "text": [
      "100%|██████████| 50/50 [02:00<00:00,  2.41s/it]\n"
     ]
    },
    {
     "data": {
      "text/plain": "\u001B[2;36m[02/11/25 18:59:28]\u001B[0m\u001B[2;36m \u001B[0m\u001B[34mINFO    \u001B[0m Lock \u001B[1;36m1533633970704\u001B[0m acquired on cache\\evasion_global_adj.json.lock      \u001B]8;id=126703;file://C:\\Users\\kyawk\\anaconda3\\envs\\Masterarbeit_2_0\\Lib\\site-packages\\filelock.py\u001B\\\u001B[2mfilelock.py\u001B[0m\u001B]8;;\u001B\\\u001B[2m:\u001B[0m\u001B]8;id=493149;file://C:\\Users\\kyawk\\anaconda3\\envs\\Masterarbeit_2_0\\Lib\\site-packages\\filelock.py#274\u001B\\\u001B[2m274\u001B[0m\u001B]8;;\u001B\\\n",
      "text/html": "<pre style=\"white-space:pre;overflow-x:auto;line-height:normal;font-family:Menlo,'DejaVu Sans Mono',consolas,'Courier New',monospace\"><span style=\"color: #7fbfbf; text-decoration-color: #7fbfbf\">[02/11/25 18:59:28] </span><span style=\"color: #000080; text-decoration-color: #000080\">INFO    </span> Lock <span style=\"color: #008080; text-decoration-color: #008080; font-weight: bold\">1533633970704</span> acquired on cache\\evasion_global_adj.json.lock      <a href=\"file://C:\\Users\\kyawk\\anaconda3\\envs\\Masterarbeit_2_0\\Lib\\site-packages\\filelock.py\" target=\"_blank\"><span style=\"color: #7f7f7f; text-decoration-color: #7f7f7f\">filelock.py</span></a><span style=\"color: #7f7f7f; text-decoration-color: #7f7f7f\">:</span><a href=\"file://C:\\Users\\kyawk\\anaconda3\\envs\\Masterarbeit_2_0\\Lib\\site-packages\\filelock.py#274\" target=\"_blank\"><span style=\"color: #7f7f7f; text-decoration-color: #7f7f7f\">274</span></a>\n</pre>\n"
     },
     "metadata": {},
     "output_type": "display_data"
    },
    {
     "data": {
      "text/plain": "\u001B[2;36m                   \u001B[0m\u001B[2;36m \u001B[0m\u001B[34mINFO    \u001B[0m Lock \u001B[1;36m1533633970704\u001B[0m released on cache\\evasion_global_adj.json.lock      \u001B]8;id=413727;file://C:\\Users\\kyawk\\anaconda3\\envs\\Masterarbeit_2_0\\Lib\\site-packages\\filelock.py\u001B\\\u001B[2mfilelock.py\u001B[0m\u001B]8;;\u001B\\\u001B[2m:\u001B[0m\u001B]8;id=487649;file://C:\\Users\\kyawk\\anaconda3\\envs\\Masterarbeit_2_0\\Lib\\site-packages\\filelock.py#318\u001B\\\u001B[2m318\u001B[0m\u001B]8;;\u001B\\\n",
      "text/html": "<pre style=\"white-space:pre;overflow-x:auto;line-height:normal;font-family:Menlo,'DejaVu Sans Mono',consolas,'Courier New',monospace\"><span style=\"color: #7fbfbf; text-decoration-color: #7fbfbf\">                    </span><span style=\"color: #000080; text-decoration-color: #000080\">INFO    </span> Lock <span style=\"color: #008080; text-decoration-color: #008080; font-weight: bold\">1533633970704</span> released on cache\\evasion_global_adj.json.lock      <a href=\"file://C:\\Users\\kyawk\\anaconda3\\envs\\Masterarbeit_2_0\\Lib\\site-packages\\filelock.py\" target=\"_blank\"><span style=\"color: #7f7f7f; text-decoration-color: #7f7f7f\">filelock.py</span></a><span style=\"color: #7f7f7f; text-decoration-color: #7f7f7f\">:</span><a href=\"file://C:\\Users\\kyawk\\anaconda3\\envs\\Masterarbeit_2_0\\Lib\\site-packages\\filelock.py#318\" target=\"_blank\"><span style=\"color: #7f7f7f; text-decoration-color: #7f7f7f\">318</span></a>\n</pre>\n"
     },
     "metadata": {},
     "output_type": "display_data"
    },
    {
     "data": {
      "text/plain": "\u001B[2;36m                   \u001B[0m\u001B[2;36m \u001B[0m\u001B[34mINFO    \u001B[0m Lock \u001B[1;36m1533633970704\u001B[0m acquired on cache\\evasion_global_attr.json.lock     \u001B]8;id=317101;file://C:\\Users\\kyawk\\anaconda3\\envs\\Masterarbeit_2_0\\Lib\\site-packages\\filelock.py\u001B\\\u001B[2mfilelock.py\u001B[0m\u001B]8;;\u001B\\\u001B[2m:\u001B[0m\u001B]8;id=175288;file://C:\\Users\\kyawk\\anaconda3\\envs\\Masterarbeit_2_0\\Lib\\site-packages\\filelock.py#274\u001B\\\u001B[2m274\u001B[0m\u001B]8;;\u001B\\\n",
      "text/html": "<pre style=\"white-space:pre;overflow-x:auto;line-height:normal;font-family:Menlo,'DejaVu Sans Mono',consolas,'Courier New',monospace\"><span style=\"color: #7fbfbf; text-decoration-color: #7fbfbf\">                    </span><span style=\"color: #000080; text-decoration-color: #000080\">INFO    </span> Lock <span style=\"color: #008080; text-decoration-color: #008080; font-weight: bold\">1533633970704</span> acquired on cache\\evasion_global_attr.json.lock     <a href=\"file://C:\\Users\\kyawk\\anaconda3\\envs\\Masterarbeit_2_0\\Lib\\site-packages\\filelock.py\" target=\"_blank\"><span style=\"color: #7f7f7f; text-decoration-color: #7f7f7f\">filelock.py</span></a><span style=\"color: #7f7f7f; text-decoration-color: #7f7f7f\">:</span><a href=\"file://C:\\Users\\kyawk\\anaconda3\\envs\\Masterarbeit_2_0\\Lib\\site-packages\\filelock.py#274\" target=\"_blank\"><span style=\"color: #7f7f7f; text-decoration-color: #7f7f7f\">274</span></a>\n</pre>\n"
     },
     "metadata": {},
     "output_type": "display_data"
    },
    {
     "data": {
      "text/plain": "\u001B[2;36m                   \u001B[0m\u001B[2;36m \u001B[0m\u001B[34mINFO    \u001B[0m Lock \u001B[1;36m1533633970704\u001B[0m released on cache\\evasion_global_attr.json.lock     \u001B]8;id=386941;file://C:\\Users\\kyawk\\anaconda3\\envs\\Masterarbeit_2_0\\Lib\\site-packages\\filelock.py\u001B\\\u001B[2mfilelock.py\u001B[0m\u001B]8;;\u001B\\\u001B[2m:\u001B[0m\u001B]8;id=417933;file://C:\\Users\\kyawk\\anaconda3\\envs\\Masterarbeit_2_0\\Lib\\site-packages\\filelock.py#318\u001B\\\u001B[2m318\u001B[0m\u001B]8;;\u001B\\\n",
      "text/html": "<pre style=\"white-space:pre;overflow-x:auto;line-height:normal;font-family:Menlo,'DejaVu Sans Mono',consolas,'Courier New',monospace\"><span style=\"color: #7fbfbf; text-decoration-color: #7fbfbf\">                    </span><span style=\"color: #000080; text-decoration-color: #000080\">INFO    </span> Lock <span style=\"color: #008080; text-decoration-color: #008080; font-weight: bold\">1533633970704</span> released on cache\\evasion_global_attr.json.lock     <a href=\"file://C:\\Users\\kyawk\\anaconda3\\envs\\Masterarbeit_2_0\\Lib\\site-packages\\filelock.py\" target=\"_blank\"><span style=\"color: #7f7f7f; text-decoration-color: #7f7f7f\">filelock.py</span></a><span style=\"color: #7f7f7f; text-decoration-color: #7f7f7f\">:</span><a href=\"file://C:\\Users\\kyawk\\anaconda3\\envs\\Masterarbeit_2_0\\Lib\\site-packages\\filelock.py#318\" target=\"_blank\"><span style=\"color: #7f7f7f; text-decoration-color: #7f7f7f\">318</span></a>\n</pre>\n"
     },
     "metadata": {},
     "output_type": "display_data"
    },
    {
     "data": {
      "text/plain": "\u001B[2;36m[02/11/25 18:59:29]\u001B[0m\u001B[2;36m \u001B[0m\u001B[34mINFO    \u001B[0m \u001B[1m{\u001B[0m\u001B[32m'dataset'\u001B[0m: \u001B[32m'cora_ml'\u001B[0m, \u001B[32m'attack'\u001B[0m: \u001B[32m'PRBCD'\u001B[0m, \u001B[32m'attack_params'\u001B[0m: \u001B[1m{\u001B[0m\u001B[32m'epochs'\u001B[0m: \u001B[1;36m50\u001B[0m, \u001B]8;id=188268;file://C:\\Users\\kyawk\\Desktop\\robustness_of_gnns_at_scale-main\\experiments\\common.py\u001B\\\u001B[2mcommon.py\u001B[0m\u001B]8;;\u001B\\\u001B[2m:\u001B[0m\u001B]8;id=804937;file://C:\\Users\\kyawk\\Desktop\\robustness_of_gnns_at_scale-main\\experiments\\common.py#38\u001B\\\u001B[2m38\u001B[0m\u001B]8;;\u001B\\\n\u001B[2;36m                    \u001B[0m         \u001B[32m'fine_tune_epochs'\u001B[0m: \u001B[1;36m100\u001B[0m, \u001B[32m'keep_heuristic'\u001B[0m: \u001B[32m'WeightOnly'\u001B[0m,                  \u001B[2m            \u001B[0m\n\u001B[2;36m                    \u001B[0m         \u001B[32m'search_space_size'\u001B[0m: \u001B[1;36m100000\u001B[0m, \u001B[32m'do_synchronize'\u001B[0m: \u001B[3;92mTrue\u001B[0m, \u001B[32m'loss_type'\u001B[0m:         \u001B[2m            \u001B[0m\n\u001B[2;36m                    \u001B[0m         \u001B[32m'tanhMargin'\u001B[0m\u001B[1m}\u001B[0m, \u001B[32m'epsilons'\u001B[0m: \u001B[1m[\u001B[0m\u001B[1;36m2\u001B[0m\u001B[1m]\u001B[0m, \u001B[32m'make_undirected'\u001B[0m: \u001B[3;92mTrue\u001B[0m, \u001B[32m'binary_attr'\u001B[0m:   \u001B[2m            \u001B[0m\n\u001B[2;36m                    \u001B[0m         \u001B[3;91mFalse\u001B[0m, \u001B[32m'seed'\u001B[0m: \u001B[1;36m0\u001B[0m, \u001B[32m'artifact_dir'\u001B[0m: \u001B[32m'cache'\u001B[0m, \u001B[32m'pert_adj_storage_type'\u001B[0m:       \u001B[2m            \u001B[0m\n\u001B[2;36m                    \u001B[0m         \u001B[32m'evasion_global_adj'\u001B[0m, \u001B[32m'pert_attr_storage_type'\u001B[0m: \u001B[32m'evasion_global_attr'\u001B[0m,    \u001B[2m            \u001B[0m\n\u001B[2;36m                    \u001B[0m         \u001B[32m'model_label'\u001B[0m: \u001B[32m'Vanilla GCN'\u001B[0m, \u001B[32m'model_storage_type'\u001B[0m: \u001B[32m'demo'\u001B[0m, \u001B[32m'device'\u001B[0m:     \u001B[2m            \u001B[0m\n\u001B[2;36m                    \u001B[0m         \u001B[32m'cpu'\u001B[0m, \u001B[32m'data_device'\u001B[0m: \u001B[32m'cpu'\u001B[0m\u001B[1m}\u001B[0m                                              \u001B[2m            \u001B[0m\n",
      "text/html": "<pre style=\"white-space:pre;overflow-x:auto;line-height:normal;font-family:Menlo,'DejaVu Sans Mono',consolas,'Courier New',monospace\"><span style=\"color: #7fbfbf; text-decoration-color: #7fbfbf\">[02/11/25 18:59:29] </span><span style=\"color: #000080; text-decoration-color: #000080\">INFO    </span> <span style=\"font-weight: bold\">{</span><span style=\"color: #008000; text-decoration-color: #008000\">'dataset'</span>: <span style=\"color: #008000; text-decoration-color: #008000\">'cora_ml'</span>, <span style=\"color: #008000; text-decoration-color: #008000\">'attack'</span>: <span style=\"color: #008000; text-decoration-color: #008000\">'PRBCD'</span>, <span style=\"color: #008000; text-decoration-color: #008000\">'attack_params'</span>: <span style=\"font-weight: bold\">{</span><span style=\"color: #008000; text-decoration-color: #008000\">'epochs'</span>: <span style=\"color: #008080; text-decoration-color: #008080; font-weight: bold\">50</span>, <a href=\"file://C:\\Users\\kyawk\\Desktop\\robustness_of_gnns_at_scale-main\\experiments\\common.py\" target=\"_blank\"><span style=\"color: #7f7f7f; text-decoration-color: #7f7f7f\">common.py</span></a><span style=\"color: #7f7f7f; text-decoration-color: #7f7f7f\">:</span><a href=\"file://C:\\Users\\kyawk\\Desktop\\robustness_of_gnns_at_scale-main\\experiments\\common.py#38\" target=\"_blank\"><span style=\"color: #7f7f7f; text-decoration-color: #7f7f7f\">38</span></a>\n<span style=\"color: #7fbfbf; text-decoration-color: #7fbfbf\">                    </span>         <span style=\"color: #008000; text-decoration-color: #008000\">'fine_tune_epochs'</span>: <span style=\"color: #008080; text-decoration-color: #008080; font-weight: bold\">100</span>, <span style=\"color: #008000; text-decoration-color: #008000\">'keep_heuristic'</span>: <span style=\"color: #008000; text-decoration-color: #008000\">'WeightOnly'</span>,                  <span style=\"color: #7f7f7f; text-decoration-color: #7f7f7f\">            </span>\n<span style=\"color: #7fbfbf; text-decoration-color: #7fbfbf\">                    </span>         <span style=\"color: #008000; text-decoration-color: #008000\">'search_space_size'</span>: <span style=\"color: #008080; text-decoration-color: #008080; font-weight: bold\">100000</span>, <span style=\"color: #008000; text-decoration-color: #008000\">'do_synchronize'</span>: <span style=\"color: #00ff00; text-decoration-color: #00ff00; font-style: italic\">True</span>, <span style=\"color: #008000; text-decoration-color: #008000\">'loss_type'</span>:         <span style=\"color: #7f7f7f; text-decoration-color: #7f7f7f\">            </span>\n<span style=\"color: #7fbfbf; text-decoration-color: #7fbfbf\">                    </span>         <span style=\"color: #008000; text-decoration-color: #008000\">'tanhMargin'</span><span style=\"font-weight: bold\">}</span>, <span style=\"color: #008000; text-decoration-color: #008000\">'epsilons'</span>: <span style=\"font-weight: bold\">[</span><span style=\"color: #008080; text-decoration-color: #008080; font-weight: bold\">2</span><span style=\"font-weight: bold\">]</span>, <span style=\"color: #008000; text-decoration-color: #008000\">'make_undirected'</span>: <span style=\"color: #00ff00; text-decoration-color: #00ff00; font-style: italic\">True</span>, <span style=\"color: #008000; text-decoration-color: #008000\">'binary_attr'</span>:   <span style=\"color: #7f7f7f; text-decoration-color: #7f7f7f\">            </span>\n<span style=\"color: #7fbfbf; text-decoration-color: #7fbfbf\">                    </span>         <span style=\"color: #ff0000; text-decoration-color: #ff0000; font-style: italic\">False</span>, <span style=\"color: #008000; text-decoration-color: #008000\">'seed'</span>: <span style=\"color: #008080; text-decoration-color: #008080; font-weight: bold\">0</span>, <span style=\"color: #008000; text-decoration-color: #008000\">'artifact_dir'</span>: <span style=\"color: #008000; text-decoration-color: #008000\">'cache'</span>, <span style=\"color: #008000; text-decoration-color: #008000\">'pert_adj_storage_type'</span>:       <span style=\"color: #7f7f7f; text-decoration-color: #7f7f7f\">            </span>\n<span style=\"color: #7fbfbf; text-decoration-color: #7fbfbf\">                    </span>         <span style=\"color: #008000; text-decoration-color: #008000\">'evasion_global_adj'</span>, <span style=\"color: #008000; text-decoration-color: #008000\">'pert_attr_storage_type'</span>: <span style=\"color: #008000; text-decoration-color: #008000\">'evasion_global_attr'</span>,    <span style=\"color: #7f7f7f; text-decoration-color: #7f7f7f\">            </span>\n<span style=\"color: #7fbfbf; text-decoration-color: #7fbfbf\">                    </span>         <span style=\"color: #008000; text-decoration-color: #008000\">'model_label'</span>: <span style=\"color: #008000; text-decoration-color: #008000\">'Vanilla GCN'</span>, <span style=\"color: #008000; text-decoration-color: #008000\">'model_storage_type'</span>: <span style=\"color: #008000; text-decoration-color: #008000\">'demo'</span>, <span style=\"color: #008000; text-decoration-color: #008000\">'device'</span>:     <span style=\"color: #7f7f7f; text-decoration-color: #7f7f7f\">            </span>\n<span style=\"color: #7fbfbf; text-decoration-color: #7fbfbf\">                    </span>         <span style=\"color: #008000; text-decoration-color: #008000\">'cpu'</span>, <span style=\"color: #008000; text-decoration-color: #008000\">'data_device'</span>: <span style=\"color: #008000; text-decoration-color: #008000\">'cpu'</span><span style=\"font-weight: bold\">}</span>                                              <span style=\"color: #7f7f7f; text-decoration-color: #7f7f7f\">            </span>\n</pre>\n"
     },
     "metadata": {},
     "output_type": "display_data"
    },
    {
     "data": {
      "text/plain": "\u001B[2;36m                   \u001B[0m\u001B[2;36m \u001B[0m\u001B[34mINFO    \u001B[0m Lock \u001B[1;36m1533658902608\u001B[0m acquired on cache\\demo.json.lock                    \u001B]8;id=420382;file://C:\\Users\\kyawk\\anaconda3\\envs\\Masterarbeit_2_0\\Lib\\site-packages\\filelock.py\u001B\\\u001B[2mfilelock.py\u001B[0m\u001B]8;;\u001B\\\u001B[2m:\u001B[0m\u001B]8;id=950517;file://C:\\Users\\kyawk\\anaconda3\\envs\\Masterarbeit_2_0\\Lib\\site-packages\\filelock.py#274\u001B\\\u001B[2m274\u001B[0m\u001B]8;;\u001B\\\n",
      "text/html": "<pre style=\"white-space:pre;overflow-x:auto;line-height:normal;font-family:Menlo,'DejaVu Sans Mono',consolas,'Courier New',monospace\"><span style=\"color: #7fbfbf; text-decoration-color: #7fbfbf\">                    </span><span style=\"color: #000080; text-decoration-color: #000080\">INFO    </span> Lock <span style=\"color: #008080; text-decoration-color: #008080; font-weight: bold\">1533658902608</span> acquired on cache\\demo.json.lock                    <a href=\"file://C:\\Users\\kyawk\\anaconda3\\envs\\Masterarbeit_2_0\\Lib\\site-packages\\filelock.py\" target=\"_blank\"><span style=\"color: #7f7f7f; text-decoration-color: #7f7f7f\">filelock.py</span></a><span style=\"color: #7f7f7f; text-decoration-color: #7f7f7f\">:</span><a href=\"file://C:\\Users\\kyawk\\anaconda3\\envs\\Masterarbeit_2_0\\Lib\\site-packages\\filelock.py#274\" target=\"_blank\"><span style=\"color: #7f7f7f; text-decoration-color: #7f7f7f\">274</span></a>\n</pre>\n"
     },
     "metadata": {},
     "output_type": "display_data"
    },
    {
     "data": {
      "text/plain": "\u001B[2;36m                   \u001B[0m\u001B[2;36m \u001B[0m\u001B[34mINFO    \u001B[0m Lock \u001B[1;36m1533658902608\u001B[0m released on cache\\demo.json.lock                    \u001B]8;id=405257;file://C:\\Users\\kyawk\\anaconda3\\envs\\Masterarbeit_2_0\\Lib\\site-packages\\filelock.py\u001B\\\u001B[2mfilelock.py\u001B[0m\u001B]8;;\u001B\\\u001B[2m:\u001B[0m\u001B]8;id=991909;file://C:\\Users\\kyawk\\anaconda3\\envs\\Masterarbeit_2_0\\Lib\\site-packages\\filelock.py#318\u001B\\\u001B[2m318\u001B[0m\u001B]8;;\u001B\\\n",
      "text/html": "<pre style=\"white-space:pre;overflow-x:auto;line-height:normal;font-family:Menlo,'DejaVu Sans Mono',consolas,'Courier New',monospace\"><span style=\"color: #7fbfbf; text-decoration-color: #7fbfbf\">                    </span><span style=\"color: #000080; text-decoration-color: #000080\">INFO    </span> Lock <span style=\"color: #008080; text-decoration-color: #008080; font-weight: bold\">1533658902608</span> released on cache\\demo.json.lock                    <a href=\"file://C:\\Users\\kyawk\\anaconda3\\envs\\Masterarbeit_2_0\\Lib\\site-packages\\filelock.py\" target=\"_blank\"><span style=\"color: #7f7f7f; text-decoration-color: #7f7f7f\">filelock.py</span></a><span style=\"color: #7f7f7f; text-decoration-color: #7f7f7f\">:</span><a href=\"file://C:\\Users\\kyawk\\anaconda3\\envs\\Masterarbeit_2_0\\Lib\\site-packages\\filelock.py#318\" target=\"_blank\"><span style=\"color: #7f7f7f; text-decoration-color: #7f7f7f\">318</span></a>\n</pre>\n"
     },
     "metadata": {},
     "output_type": "display_data"
    },
    {
     "data": {
      "text/plain": "\u001B[2;36m                   \u001B[0m\u001B[2;36m \u001B[0m\u001B[34mINFO    \u001B[0m Evaluate  PRBCD for model \u001B[32m'Vanilla GCN'\u001B[0m.        \u001B]8;id=929755;file://C:\\Users\\kyawk\\Desktop\\robustness_of_gnns_at_scale-main\\experiments\\experiment_global_attack_direct.py\u001B\\\u001B[2mexperiment_global_attack_direct.py\u001B[0m\u001B]8;;\u001B\\\u001B[2m:\u001B[0m\u001B]8;id=119022;file://C:\\Users\\kyawk\\Desktop\\robustness_of_gnns_at_scale-main\\experiments\\experiment_global_attack_direct.py#138\u001B\\\u001B[2m138\u001B[0m\u001B]8;;\u001B\\\n",
      "text/html": "<pre style=\"white-space:pre;overflow-x:auto;line-height:normal;font-family:Menlo,'DejaVu Sans Mono',consolas,'Courier New',monospace\"><span style=\"color: #7fbfbf; text-decoration-color: #7fbfbf\">                    </span><span style=\"color: #000080; text-decoration-color: #000080\">INFO    </span> Evaluate  PRBCD for model <span style=\"color: #008000; text-decoration-color: #008000\">'Vanilla GCN'</span>.        <a href=\"file://C:\\Users\\kyawk\\Desktop\\robustness_of_gnns_at_scale-main\\experiments\\experiment_global_attack_direct.py\" target=\"_blank\"><span style=\"color: #7f7f7f; text-decoration-color: #7f7f7f\">experiment_global_attack_direct.py</span></a><span style=\"color: #7f7f7f; text-decoration-color: #7f7f7f\">:</span><a href=\"file://C:\\Users\\kyawk\\Desktop\\robustness_of_gnns_at_scale-main\\experiments\\experiment_global_attack_direct.py#138\" target=\"_blank\"><span style=\"color: #7f7f7f; text-decoration-color: #7f7f7f\">138</span></a>\n</pre>\n"
     },
     "metadata": {},
     "output_type": "display_data"
    },
    {
     "data": {
      "text/plain": "\u001B[2;36m                   \u001B[0m\u001B[2;36m \u001B[0m\u001B[34mINFO    \u001B[0m Lock \u001B[1;36m1533757823312\u001B[0m acquired on cache\\evasion_global_adj.json.lock      \u001B]8;id=650168;file://C:\\Users\\kyawk\\anaconda3\\envs\\Masterarbeit_2_0\\Lib\\site-packages\\filelock.py\u001B\\\u001B[2mfilelock.py\u001B[0m\u001B]8;;\u001B\\\u001B[2m:\u001B[0m\u001B]8;id=886580;file://C:\\Users\\kyawk\\anaconda3\\envs\\Masterarbeit_2_0\\Lib\\site-packages\\filelock.py#274\u001B\\\u001B[2m274\u001B[0m\u001B]8;;\u001B\\\n",
      "text/html": "<pre style=\"white-space:pre;overflow-x:auto;line-height:normal;font-family:Menlo,'DejaVu Sans Mono',consolas,'Courier New',monospace\"><span style=\"color: #7fbfbf; text-decoration-color: #7fbfbf\">                    </span><span style=\"color: #000080; text-decoration-color: #000080\">INFO    </span> Lock <span style=\"color: #008080; text-decoration-color: #008080; font-weight: bold\">1533757823312</span> acquired on cache\\evasion_global_adj.json.lock      <a href=\"file://C:\\Users\\kyawk\\anaconda3\\envs\\Masterarbeit_2_0\\Lib\\site-packages\\filelock.py\" target=\"_blank\"><span style=\"color: #7f7f7f; text-decoration-color: #7f7f7f\">filelock.py</span></a><span style=\"color: #7f7f7f; text-decoration-color: #7f7f7f\">:</span><a href=\"file://C:\\Users\\kyawk\\anaconda3\\envs\\Masterarbeit_2_0\\Lib\\site-packages\\filelock.py#274\" target=\"_blank\"><span style=\"color: #7f7f7f; text-decoration-color: #7f7f7f\">274</span></a>\n</pre>\n"
     },
     "metadata": {},
     "output_type": "display_data"
    },
    {
     "data": {
      "text/plain": "\u001B[2;36m                   \u001B[0m\u001B[2;36m \u001B[0m\u001B[34mINFO    \u001B[0m Lock \u001B[1;36m1533757823312\u001B[0m released on cache\\evasion_global_adj.json.lock      \u001B]8;id=340320;file://C:\\Users\\kyawk\\anaconda3\\envs\\Masterarbeit_2_0\\Lib\\site-packages\\filelock.py\u001B\\\u001B[2mfilelock.py\u001B[0m\u001B]8;;\u001B\\\u001B[2m:\u001B[0m\u001B]8;id=886532;file://C:\\Users\\kyawk\\anaconda3\\envs\\Masterarbeit_2_0\\Lib\\site-packages\\filelock.py#318\u001B\\\u001B[2m318\u001B[0m\u001B]8;;\u001B\\\n",
      "text/html": "<pre style=\"white-space:pre;overflow-x:auto;line-height:normal;font-family:Menlo,'DejaVu Sans Mono',consolas,'Courier New',monospace\"><span style=\"color: #7fbfbf; text-decoration-color: #7fbfbf\">                    </span><span style=\"color: #000080; text-decoration-color: #000080\">INFO    </span> Lock <span style=\"color: #008080; text-decoration-color: #008080; font-weight: bold\">1533757823312</span> released on cache\\evasion_global_adj.json.lock      <a href=\"file://C:\\Users\\kyawk\\anaconda3\\envs\\Masterarbeit_2_0\\Lib\\site-packages\\filelock.py\" target=\"_blank\"><span style=\"color: #7f7f7f; text-decoration-color: #7f7f7f\">filelock.py</span></a><span style=\"color: #7f7f7f; text-decoration-color: #7f7f7f\">:</span><a href=\"file://C:\\Users\\kyawk\\anaconda3\\envs\\Masterarbeit_2_0\\Lib\\site-packages\\filelock.py#318\" target=\"_blank\"><span style=\"color: #7f7f7f; text-decoration-color: #7f7f7f\">318</span></a>\n</pre>\n"
     },
     "metadata": {},
     "output_type": "display_data"
    },
    {
     "data": {
      "text/plain": "\u001B[2;36m                   \u001B[0m\u001B[2;36m \u001B[0m\u001B[34mINFO    \u001B[0m Lock \u001B[1;36m1533658902608\u001B[0m acquired on cache\\evasion_global_attr.json.lock     \u001B]8;id=771507;file://C:\\Users\\kyawk\\anaconda3\\envs\\Masterarbeit_2_0\\Lib\\site-packages\\filelock.py\u001B\\\u001B[2mfilelock.py\u001B[0m\u001B]8;;\u001B\\\u001B[2m:\u001B[0m\u001B]8;id=132504;file://C:\\Users\\kyawk\\anaconda3\\envs\\Masterarbeit_2_0\\Lib\\site-packages\\filelock.py#274\u001B\\\u001B[2m274\u001B[0m\u001B]8;;\u001B\\\n",
      "text/html": "<pre style=\"white-space:pre;overflow-x:auto;line-height:normal;font-family:Menlo,'DejaVu Sans Mono',consolas,'Courier New',monospace\"><span style=\"color: #7fbfbf; text-decoration-color: #7fbfbf\">                    </span><span style=\"color: #000080; text-decoration-color: #000080\">INFO    </span> Lock <span style=\"color: #008080; text-decoration-color: #008080; font-weight: bold\">1533658902608</span> acquired on cache\\evasion_global_attr.json.lock     <a href=\"file://C:\\Users\\kyawk\\anaconda3\\envs\\Masterarbeit_2_0\\Lib\\site-packages\\filelock.py\" target=\"_blank\"><span style=\"color: #7f7f7f; text-decoration-color: #7f7f7f\">filelock.py</span></a><span style=\"color: #7f7f7f; text-decoration-color: #7f7f7f\">:</span><a href=\"file://C:\\Users\\kyawk\\anaconda3\\envs\\Masterarbeit_2_0\\Lib\\site-packages\\filelock.py#274\" target=\"_blank\"><span style=\"color: #7f7f7f; text-decoration-color: #7f7f7f\">274</span></a>\n</pre>\n"
     },
     "metadata": {},
     "output_type": "display_data"
    },
    {
     "data": {
      "text/plain": "\u001B[2;36m                   \u001B[0m\u001B[2;36m \u001B[0m\u001B[34mINFO    \u001B[0m Lock \u001B[1;36m1533658902608\u001B[0m released on cache\\evasion_global_attr.json.lock     \u001B]8;id=949042;file://C:\\Users\\kyawk\\anaconda3\\envs\\Masterarbeit_2_0\\Lib\\site-packages\\filelock.py\u001B\\\u001B[2mfilelock.py\u001B[0m\u001B]8;;\u001B\\\u001B[2m:\u001B[0m\u001B]8;id=109934;file://C:\\Users\\kyawk\\anaconda3\\envs\\Masterarbeit_2_0\\Lib\\site-packages\\filelock.py#318\u001B\\\u001B[2m318\u001B[0m\u001B]8;;\u001B\\\n",
      "text/html": "<pre style=\"white-space:pre;overflow-x:auto;line-height:normal;font-family:Menlo,'DejaVu Sans Mono',consolas,'Courier New',monospace\"><span style=\"color: #7fbfbf; text-decoration-color: #7fbfbf\">                    </span><span style=\"color: #000080; text-decoration-color: #000080\">INFO    </span> Lock <span style=\"color: #008080; text-decoration-color: #008080; font-weight: bold\">1533658902608</span> released on cache\\evasion_global_attr.json.lock     <a href=\"file://C:\\Users\\kyawk\\anaconda3\\envs\\Masterarbeit_2_0\\Lib\\site-packages\\filelock.py\" target=\"_blank\"><span style=\"color: #7f7f7f; text-decoration-color: #7f7f7f\">filelock.py</span></a><span style=\"color: #7f7f7f; text-decoration-color: #7f7f7f\">:</span><a href=\"file://C:\\Users\\kyawk\\anaconda3\\envs\\Masterarbeit_2_0\\Lib\\site-packages\\filelock.py#318\" target=\"_blank\"><span style=\"color: #7f7f7f; text-decoration-color: #7f7f7f\">318</span></a>\n</pre>\n"
     },
     "metadata": {},
     "output_type": "display_data"
    },
    {
     "data": {
      "text/plain": "\u001B[2;36m                   \u001B[0m\u001B[2;36m \u001B[0m\u001B[34mINFO    \u001B[0m No cached perturbations found for model \u001B[32m'Vanilla GCN'\u001B[0m and eps \u001B[1;36m2\u001B[0m. Execute \u001B]8;id=960441;file://C:\\Users\\kyawk\\Desktop\\robustness_of_gnns_at_scale-main\\experiments\\common.py\u001B\\\u001B[2mcommon.py\u001B[0m\u001B]8;;\u001B\\\u001B[2m:\u001B[0m\u001B]8;id=292654;file://C:\\Users\\kyawk\\Desktop\\robustness_of_gnns_at_scale-main\\experiments\\common.py#109\u001B\\\u001B[2m109\u001B[0m\u001B]8;;\u001B\\\n\u001B[2;36m                    \u001B[0m         attack\u001B[33m...\u001B[0m                                                                \u001B[2m             \u001B[0m\n",
      "text/html": "<pre style=\"white-space:pre;overflow-x:auto;line-height:normal;font-family:Menlo,'DejaVu Sans Mono',consolas,'Courier New',monospace\"><span style=\"color: #7fbfbf; text-decoration-color: #7fbfbf\">                    </span><span style=\"color: #000080; text-decoration-color: #000080\">INFO    </span> No cached perturbations found for model <span style=\"color: #008000; text-decoration-color: #008000\">'Vanilla GCN'</span> and eps <span style=\"color: #008080; text-decoration-color: #008080; font-weight: bold\">2</span>. Execute <a href=\"file://C:\\Users\\kyawk\\Desktop\\robustness_of_gnns_at_scale-main\\experiments\\common.py\" target=\"_blank\"><span style=\"color: #7f7f7f; text-decoration-color: #7f7f7f\">common.py</span></a><span style=\"color: #7f7f7f; text-decoration-color: #7f7f7f\">:</span><a href=\"file://C:\\Users\\kyawk\\Desktop\\robustness_of_gnns_at_scale-main\\experiments\\common.py#109\" target=\"_blank\"><span style=\"color: #7f7f7f; text-decoration-color: #7f7f7f\">109</span></a>\n<span style=\"color: #7fbfbf; text-decoration-color: #7fbfbf\">                    </span>         attack<span style=\"color: #808000; text-decoration-color: #808000\">...</span>                                                                <span style=\"color: #7f7f7f; text-decoration-color: #7f7f7f\">             </span>\n</pre>\n"
     },
     "metadata": {},
     "output_type": "display_data"
    },
    {
     "data": {
      "text/plain": "\u001B[2;36m[02/11/25 18:59:30]\u001B[0m\u001B[2;36m \u001B[0m\u001B[34mINFO    \u001B[0m                                                                            \u001B]8;id=114810;file://C:\\Users\\kyawk\\Desktop\\robustness_of_gnns_at_scale-main\\rgnn_at_scale\\attacks\\prbcd.py\u001B\\\u001B[2mprbcd.py\u001B[0m\u001B]8;;\u001B\\\u001B[2m:\u001B[0m\u001B]8;id=515376;file://C:\\Users\\kyawk\\Desktop\\robustness_of_gnns_at_scale-main\\rgnn_at_scale\\attacks\\prbcd.py#86\u001B\\\u001B[2m86\u001B[0m\u001B]8;;\u001B\\\n\u001B[2;36m                    \u001B[0m         Before the attack - Loss: \u001B[1;36m-0.6509091258049011\u001B[0m Accuracy: \u001B[1;36m83.478\u001B[0m %           \u001B[2m           \u001B[0m\n\u001B[2;36m                    \u001B[0m                                                                                    \u001B[2m           \u001B[0m\n",
      "text/html": "<pre style=\"white-space:pre;overflow-x:auto;line-height:normal;font-family:Menlo,'DejaVu Sans Mono',consolas,'Courier New',monospace\"><span style=\"color: #7fbfbf; text-decoration-color: #7fbfbf\">[02/11/25 18:59:30] </span><span style=\"color: #000080; text-decoration-color: #000080\">INFO    </span>                                                                            <a href=\"file://C:\\Users\\kyawk\\Desktop\\robustness_of_gnns_at_scale-main\\rgnn_at_scale\\attacks\\prbcd.py\" target=\"_blank\"><span style=\"color: #7f7f7f; text-decoration-color: #7f7f7f\">prbcd.py</span></a><span style=\"color: #7f7f7f; text-decoration-color: #7f7f7f\">:</span><a href=\"file://C:\\Users\\kyawk\\Desktop\\robustness_of_gnns_at_scale-main\\rgnn_at_scale\\attacks\\prbcd.py#86\" target=\"_blank\"><span style=\"color: #7f7f7f; text-decoration-color: #7f7f7f\">86</span></a>\n<span style=\"color: #7fbfbf; text-decoration-color: #7fbfbf\">                    </span>         Before the attack - Loss: <span style=\"color: #008080; text-decoration-color: #008080; font-weight: bold\">-0.6509091258049011</span> Accuracy: <span style=\"color: #008080; text-decoration-color: #008080; font-weight: bold\">83.478</span> %           <span style=\"color: #7f7f7f; text-decoration-color: #7f7f7f\">           </span>\n<span style=\"color: #7fbfbf; text-decoration-color: #7fbfbf\">                    </span>                                                                                    <span style=\"color: #7f7f7f; text-decoration-color: #7f7f7f\">           </span>\n</pre>\n"
     },
     "metadata": {},
     "output_type": "display_data"
    },
    {
     "name": "stderr",
     "output_type": "stream",
     "text": [
      "  0%|          | 0/50 [00:00<?, ?it/s]"
     ]
    },
    {
     "data": {
      "text/plain": "\u001B[2;36m[02/11/25 18:59:32]\u001B[0m\u001B[2;36m \u001B[0m\u001B[34mINFO    \u001B[0m                                                                           \u001B]8;id=236525;file://C:\\Users\\kyawk\\Desktop\\robustness_of_gnns_at_scale-main\\rgnn_at_scale\\attacks\\prbcd.py\u001B\\\u001B[2mprbcd.py\u001B[0m\u001B]8;;\u001B\\\u001B[2m:\u001B[0m\u001B]8;id=374409;file://C:\\Users\\kyawk\\Desktop\\robustness_of_gnns_at_scale-main\\rgnn_at_scale\\attacks\\prbcd.py#132\u001B\\\u001B[2m132\u001B[0m\u001B]8;;\u001B\\\n\u001B[2;36m                    \u001B[0m         Epoch: \u001B[1;36m0\u001B[0m Loss: \u001B[1;36m-0.6509034633636475\u001B[0m Accuracy: \u001B[1;36m78.933\u001B[0m %                     \u001B[2m            \u001B[0m\n\u001B[2;36m                    \u001B[0m                                                                                   \u001B[2m            \u001B[0m\n",
      "text/html": "<pre style=\"white-space:pre;overflow-x:auto;line-height:normal;font-family:Menlo,'DejaVu Sans Mono',consolas,'Courier New',monospace\"><span style=\"color: #7fbfbf; text-decoration-color: #7fbfbf\">[02/11/25 18:59:32] </span><span style=\"color: #000080; text-decoration-color: #000080\">INFO    </span>                                                                           <a href=\"file://C:\\Users\\kyawk\\Desktop\\robustness_of_gnns_at_scale-main\\rgnn_at_scale\\attacks\\prbcd.py\" target=\"_blank\"><span style=\"color: #7f7f7f; text-decoration-color: #7f7f7f\">prbcd.py</span></a><span style=\"color: #7f7f7f; text-decoration-color: #7f7f7f\">:</span><a href=\"file://C:\\Users\\kyawk\\Desktop\\robustness_of_gnns_at_scale-main\\rgnn_at_scale\\attacks\\prbcd.py#132\" target=\"_blank\"><span style=\"color: #7f7f7f; text-decoration-color: #7f7f7f\">132</span></a>\n<span style=\"color: #7fbfbf; text-decoration-color: #7fbfbf\">                    </span>         Epoch: <span style=\"color: #008080; text-decoration-color: #008080; font-weight: bold\">0</span> Loss: <span style=\"color: #008080; text-decoration-color: #008080; font-weight: bold\">-0.6509034633636475</span> Accuracy: <span style=\"color: #008080; text-decoration-color: #008080; font-weight: bold\">78.933</span> %                     <span style=\"color: #7f7f7f; text-decoration-color: #7f7f7f\">            </span>\n<span style=\"color: #7fbfbf; text-decoration-color: #7fbfbf\">                    </span>                                                                                   <span style=\"color: #7f7f7f; text-decoration-color: #7f7f7f\">            </span>\n</pre>\n"
     },
     "metadata": {},
     "output_type": "display_data"
    },
    {
     "name": "stderr",
     "output_type": "stream",
     "text": [
      "  4%|▍         | 2/50 [00:07<02:53,  3.62s/it]\n"
     ]
    },
    {
     "ename": "KeyboardInterrupt",
     "evalue": "",
     "output_type": "error",
     "traceback": [
      "\u001B[1;31m---------------------------------------------------------------------------\u001B[0m",
      "\u001B[1;31mKeyboardInterrupt\u001B[0m                         Traceback (most recent call last)",
      "Cell \u001B[1;32mIn[30], line 4\u001B[0m\n\u001B[0;32m      2\u001B[0m     budget \u001B[38;5;241m=\u001B[39m [\u001B[38;5;241m0.5\u001B[39m]\n\u001B[0;32m      3\u001B[0m \u001B[38;5;28;01mfor\u001B[39;00m budget \u001B[38;5;129;01min\u001B[39;00m budget:\n\u001B[1;32m----> 4\u001B[0m   global_prbcd_statistics \u001B[38;5;241m=\u001B[39m experiment_global_attack_direct\u001B[38;5;241m.\u001B[39mrun(\n\u001B[0;32m      5\u001B[0m       data_dir \u001B[38;5;241m=\u001B[39m \u001B[38;5;124m'\u001B[39m\u001B[38;5;124m./data\u001B[39m\u001B[38;5;124m'\u001B[39m,\n\u001B[0;32m      6\u001B[0m       dataset \u001B[38;5;241m=\u001B[39m \u001B[38;5;124m'\u001B[39m\u001B[38;5;124mcora_ml\u001B[39m\u001B[38;5;124m'\u001B[39m,\n\u001B[0;32m      7\u001B[0m       attack \u001B[38;5;241m=\u001B[39m \u001B[38;5;124m'\u001B[39m\u001B[38;5;124mPRBCD\u001B[39m\u001B[38;5;124m'\u001B[39m,\n\u001B[0;32m      8\u001B[0m       attack_params \u001B[38;5;241m=\u001B[39m \u001B[38;5;28mdict\u001B[39m(\n\u001B[0;32m      9\u001B[0m           \u001B[38;5;66;03m#epochs=500,\u001B[39;00m\n\u001B[0;32m     10\u001B[0m           epochs\u001B[38;5;241m=\u001B[39m\u001B[38;5;241m50\u001B[39m,\n\u001B[0;32m     11\u001B[0m           fine_tune_epochs\u001B[38;5;241m=\u001B[39m\u001B[38;5;241m100\u001B[39m,\n\u001B[0;32m     12\u001B[0m           keep_heuristic\u001B[38;5;241m=\u001B[39m\u001B[38;5;124m\"\u001B[39m\u001B[38;5;124mWeightOnly\u001B[39m\u001B[38;5;124m\"\u001B[39m,\n\u001B[0;32m     13\u001B[0m           search_space_size\u001B[38;5;241m=\u001B[39m\u001B[38;5;241m100_000\u001B[39m,\n\u001B[0;32m     14\u001B[0m           do_synchronize\u001B[38;5;241m=\u001B[39m\u001B[38;5;28;01mTrue\u001B[39;00m,\n\u001B[0;32m     15\u001B[0m           loss_type\u001B[38;5;241m=\u001B[39m\u001B[38;5;124m\"\u001B[39m\u001B[38;5;124mtanhMargin\u001B[39m\u001B[38;5;124m\"\u001B[39m,\n\u001B[0;32m     16\u001B[0m       ),\n\u001B[0;32m     17\u001B[0m       epsilons \u001B[38;5;241m=\u001B[39m [budget],\n\u001B[0;32m     18\u001B[0m       binary_attr \u001B[38;5;241m=\u001B[39m \u001B[38;5;28;01mFalse\u001B[39;00m,\n\u001B[0;32m     19\u001B[0m       make_undirected \u001B[38;5;241m=\u001B[39m \u001B[38;5;28;01mTrue\u001B[39;00m,\n\u001B[0;32m     20\u001B[0m       seed\u001B[38;5;241m=\u001B[39m\u001B[38;5;241m0\u001B[39m,\n\u001B[0;32m     21\u001B[0m       artifact_dir \u001B[38;5;241m=\u001B[39m \u001B[38;5;124m'\u001B[39m\u001B[38;5;124mcache\u001B[39m\u001B[38;5;124m'\u001B[39m,\n\u001B[0;32m     22\u001B[0m       pert_adj_storage_type \u001B[38;5;241m=\u001B[39m \u001B[38;5;124m'\u001B[39m\u001B[38;5;124mevasion_global_adj\u001B[39m\u001B[38;5;124m'\u001B[39m,\n\u001B[0;32m     23\u001B[0m       pert_attr_storage_type \u001B[38;5;241m=\u001B[39m \u001B[38;5;124m'\u001B[39m\u001B[38;5;124mevasion_global_attr\u001B[39m\u001B[38;5;124m'\u001B[39m,\n\u001B[0;32m     24\u001B[0m       model_label \u001B[38;5;241m=\u001B[39m \u001B[38;5;124m'\u001B[39m\u001B[38;5;124mVanilla GCN\u001B[39m\u001B[38;5;124m'\u001B[39m,\n\u001B[0;32m     25\u001B[0m       model_storage_type \u001B[38;5;241m=\u001B[39m \u001B[38;5;124m'\u001B[39m\u001B[38;5;124mdemo\u001B[39m\u001B[38;5;124m'\u001B[39m,\n\u001B[0;32m     26\u001B[0m       \u001B[38;5;66;03m#device = 0,\u001B[39;00m\n\u001B[0;32m     27\u001B[0m       \u001B[38;5;66;03m#data_device = 0,\u001B[39;00m\n\u001B[0;32m     28\u001B[0m       device \u001B[38;5;241m=\u001B[39m \u001B[38;5;124m\"\u001B[39m\u001B[38;5;124mcpu\u001B[39m\u001B[38;5;124m\"\u001B[39m,\n\u001B[0;32m     29\u001B[0m       data_device \u001B[38;5;241m=\u001B[39m \u001B[38;5;124m\"\u001B[39m\u001B[38;5;124mcpu\u001B[39m\u001B[38;5;124m\"\u001B[39m,\n\u001B[0;32m     30\u001B[0m       debug_level \u001B[38;5;241m=\u001B[39m \u001B[38;5;124m\"\u001B[39m\u001B[38;5;124minfo\u001B[39m\u001B[38;5;124m\"\u001B[39m\n\u001B[0;32m     31\u001B[0m   )\n\u001B[0;32m     32\u001B[0m   perturbed_acc_global \u001B[38;5;241m=\u001B[39m perturbed_acc_global \u001B[38;5;241m+\u001B[39m [global_prbcd_statistics[\u001B[38;5;124m\"\u001B[39m\u001B[38;5;124mresults\u001B[39m\u001B[38;5;124m\"\u001B[39m][\u001B[38;5;241m0\u001B[39m][\u001B[38;5;124m'\u001B[39m\u001B[38;5;124maccuracy\u001B[39m\u001B[38;5;124m'\u001B[39m]]\n",
      "File \u001B[1;32m~\\anaconda3\\envs\\Masterarbeit_2_0\\Lib\\site-packages\\sacred\\config\\captured_function.py:42\u001B[0m, in \u001B[0;36mcaptured_function\u001B[1;34m(wrapped, instance, args, kwargs)\u001B[0m\n\u001B[0;32m     40\u001B[0m \u001B[38;5;66;03m# =================== run actual function =================================\u001B[39;00m\n\u001B[0;32m     41\u001B[0m \u001B[38;5;28;01mwith\u001B[39;00m ConfigError\u001B[38;5;241m.\u001B[39mtrack(wrapped\u001B[38;5;241m.\u001B[39mconfig, wrapped\u001B[38;5;241m.\u001B[39mprefix):\n\u001B[1;32m---> 42\u001B[0m     result \u001B[38;5;241m=\u001B[39m wrapped(\u001B[38;5;241m*\u001B[39margs, \u001B[38;5;241m*\u001B[39m\u001B[38;5;241m*\u001B[39mkwargs)\n\u001B[0;32m     43\u001B[0m \u001B[38;5;66;03m# =========================================================================\u001B[39;00m\n\u001B[0;32m     44\u001B[0m \u001B[38;5;28;01mif\u001B[39;00m wrapped\u001B[38;5;241m.\u001B[39mlogger \u001B[38;5;129;01mis\u001B[39;00m \u001B[38;5;129;01mnot\u001B[39;00m \u001B[38;5;28;01mNone\u001B[39;00m:\n",
      "File \u001B[1;32m~\\Desktop\\robustness_of_gnns_at_scale-main\\experiments\\experiment_global_attack_direct.py:144\u001B[0m, in \u001B[0;36mrun\u001B[1;34m(data_dir, dataset, attack, attack_params, epsilons, binary_attr, make_undirected, seed, artifact_dir, pert_adj_storage_type, pert_attr_storage_type, model_label, model_storage_type, device, data_device, debug_level)\u001B[0m\n\u001B[0;32m    139\u001B[0m adversary \u001B[38;5;241m=\u001B[39m create_attack(attack, attr\u001B[38;5;241m=\u001B[39mattr, adj\u001B[38;5;241m=\u001B[39madj, labels\u001B[38;5;241m=\u001B[39mlabels, model\u001B[38;5;241m=\u001B[39mmodel, idx_attack\u001B[38;5;241m=\u001B[39midx_test,\n\u001B[0;32m    140\u001B[0m                           device\u001B[38;5;241m=\u001B[39mdevice, data_device\u001B[38;5;241m=\u001B[39mdata_device, binary_attr\u001B[38;5;241m=\u001B[39mbinary_attr,\n\u001B[0;32m    141\u001B[0m                           make_undirected\u001B[38;5;241m=\u001B[39mmake_undirected, \u001B[38;5;241m*\u001B[39m\u001B[38;5;241m*\u001B[39mattack_params)\n\u001B[0;32m    143\u001B[0m \u001B[38;5;28;01mfor\u001B[39;00m epsilon \u001B[38;5;129;01min\u001B[39;00m epsilons:\n\u001B[1;32m--> 144\u001B[0m     run_global_attack(epsilon, m, storage, pert_adj_storage_type, pert_attr_storage_type,\n\u001B[0;32m    145\u001B[0m                       pert_params, adversary, model_label)\n\u001B[0;32m    147\u001B[0m     adj_adversary \u001B[38;5;241m=\u001B[39m adversary\u001B[38;5;241m.\u001B[39madj_adversary\n\u001B[0;32m    148\u001B[0m     attr_adversary \u001B[38;5;241m=\u001B[39m adversary\u001B[38;5;241m.\u001B[39mattr_adversary\n",
      "File \u001B[1;32m~\\Desktop\\robustness_of_gnns_at_scale-main\\experiments\\common.py:110\u001B[0m, in \u001B[0;36mrun_global_attack\u001B[1;34m(epsilon, m, storage, pert_adj_storage_type, pert_attr_storage_type, pert_params, adversary, model_label)\u001B[0m\n\u001B[0;32m    108\u001B[0m \u001B[38;5;28;01melse\u001B[39;00m:\n\u001B[0;32m    109\u001B[0m     logging\u001B[38;5;241m.\u001B[39minfo(\u001B[38;5;124mf\u001B[39m\u001B[38;5;124m\"\u001B[39m\u001B[38;5;124mNo cached perturbations found for model \u001B[39m\u001B[38;5;124m'\u001B[39m\u001B[38;5;132;01m{\u001B[39;00mmodel_label\u001B[38;5;132;01m}\u001B[39;00m\u001B[38;5;124m'\u001B[39m\u001B[38;5;124m and eps \u001B[39m\u001B[38;5;132;01m{\u001B[39;00mepsilon\u001B[38;5;132;01m}\u001B[39;00m\u001B[38;5;124m. Execute attack...\u001B[39m\u001B[38;5;124m\"\u001B[39m)\n\u001B[1;32m--> 110\u001B[0m     adversary\u001B[38;5;241m.\u001B[39mattack(n_perturbations)\n\u001B[0;32m    111\u001B[0m     pert_adj, pert_attr \u001B[38;5;241m=\u001B[39m adversary\u001B[38;5;241m.\u001B[39mget_pertubations()\n\u001B[0;32m    113\u001B[0m     \u001B[38;5;28;01mif\u001B[39;00m n_perturbations \u001B[38;5;241m>\u001B[39m \u001B[38;5;241m0\u001B[39m:\n",
      "File \u001B[1;32m~\\anaconda3\\envs\\Masterarbeit_2_0\\Lib\\site-packages\\typeguard\\__init__.py:1033\u001B[0m, in \u001B[0;36mtypechecked.<locals>.wrapper\u001B[1;34m(*args, **kwargs)\u001B[0m\n\u001B[0;32m   1031\u001B[0m memo \u001B[38;5;241m=\u001B[39m _CallMemo(python_func, _localns, args\u001B[38;5;241m=\u001B[39margs, kwargs\u001B[38;5;241m=\u001B[39mkwargs)\n\u001B[0;32m   1032\u001B[0m check_argument_types(memo)\n\u001B[1;32m-> 1033\u001B[0m retval \u001B[38;5;241m=\u001B[39m func(\u001B[38;5;241m*\u001B[39margs, \u001B[38;5;241m*\u001B[39m\u001B[38;5;241m*\u001B[39mkwargs)\n\u001B[0;32m   1034\u001B[0m \u001B[38;5;28;01mtry\u001B[39;00m:\n\u001B[0;32m   1035\u001B[0m     check_return_type(retval, memo)\n",
      "File \u001B[1;32m~\\Desktop\\robustness_of_gnns_at_scale-main\\rgnn_at_scale\\attacks\\base_attack.py:125\u001B[0m, in \u001B[0;36mAttack.attack\u001B[1;34m(self, n_perturbations, **kwargs)\u001B[0m\n\u001B[0;32m    115\u001B[0m \u001B[38;5;250m\u001B[39m\u001B[38;5;124;03m\"\"\"\u001B[39;00m\n\u001B[0;32m    116\u001B[0m \u001B[38;5;124;03mExecutes the attack on the model updating the attributes\u001B[39;00m\n\u001B[0;32m    117\u001B[0m \u001B[38;5;124;03mself.adj_adversary and self.attr_adversary accordingly.\u001B[39;00m\n\u001B[1;32m   (...)\u001B[0m\n\u001B[0;32m    122\u001B[0m \u001B[38;5;124;03m    number of perturbations (attack budget in terms of node additions/deletions) that constrain the atack\u001B[39;00m\n\u001B[0;32m    123\u001B[0m \u001B[38;5;124;03m\"\"\"\u001B[39;00m\n\u001B[0;32m    124\u001B[0m \u001B[38;5;28;01mif\u001B[39;00m n_perturbations \u001B[38;5;241m>\u001B[39m \u001B[38;5;241m0\u001B[39m:\n\u001B[1;32m--> 125\u001B[0m     \u001B[38;5;28;01mreturn\u001B[39;00m \u001B[38;5;28mself\u001B[39m\u001B[38;5;241m.\u001B[39m_attack(n_perturbations, \u001B[38;5;241m*\u001B[39m\u001B[38;5;241m*\u001B[39mkwargs)\n\u001B[0;32m    126\u001B[0m \u001B[38;5;28;01melse\u001B[39;00m:\n\u001B[0;32m    127\u001B[0m     \u001B[38;5;28mself\u001B[39m\u001B[38;5;241m.\u001B[39mattr_adversary \u001B[38;5;241m=\u001B[39m \u001B[38;5;28mself\u001B[39m\u001B[38;5;241m.\u001B[39mattr\n",
      "File \u001B[1;32m~\\Desktop\\robustness_of_gnns_at_scale-main\\rgnn_at_scale\\attacks\\prbcd.py:126\u001B[0m, in \u001B[0;36mPRBCD._attack\u001B[1;34m(self, n_perturbations, **kwargs)\u001B[0m\n\u001B[0;32m    123\u001B[0m probability_mass_projected \u001B[38;5;241m=\u001B[39m \u001B[38;5;28mself\u001B[39m\u001B[38;5;241m.\u001B[39mperturbed_edge_weight\u001B[38;5;241m.\u001B[39msum()\u001B[38;5;241m.\u001B[39mitem()\n\u001B[0;32m    125\u001B[0m \u001B[38;5;66;03m# Calculate accuracy after the current epoch (overhead for monitoring and early stopping)\u001B[39;00m\n\u001B[1;32m--> 126\u001B[0m edge_index, edge_weight \u001B[38;5;241m=\u001B[39m \u001B[38;5;28mself\u001B[39m\u001B[38;5;241m.\u001B[39mget_modified_adj()\n\u001B[0;32m    127\u001B[0m logits \u001B[38;5;241m=\u001B[39m \u001B[38;5;28mself\u001B[39m\u001B[38;5;241m.\u001B[39mattacked_model(data\u001B[38;5;241m=\u001B[39m\u001B[38;5;28mself\u001B[39m\u001B[38;5;241m.\u001B[39mattr\u001B[38;5;241m.\u001B[39mto(\u001B[38;5;28mself\u001B[39m\u001B[38;5;241m.\u001B[39mdevice), adj\u001B[38;5;241m=\u001B[39m(edge_index, edge_weight))\n\u001B[0;32m    128\u001B[0m accuracy \u001B[38;5;241m=\u001B[39m utils\u001B[38;5;241m.\u001B[39maccuracy(logits, \u001B[38;5;28mself\u001B[39m\u001B[38;5;241m.\u001B[39mlabels, \u001B[38;5;28mself\u001B[39m\u001B[38;5;241m.\u001B[39midx_attack)\n",
      "File \u001B[1;32m~\\Desktop\\robustness_of_gnns_at_scale-main\\rgnn_at_scale\\attacks\\prbcd.py:239\u001B[0m, in \u001B[0;36mPRBCD.get_modified_adj\u001B[1;34m(self)\u001B[0m\n\u001B[0;32m    236\u001B[0m     edge_index \u001B[38;5;241m=\u001B[39m torch\u001B[38;5;241m.\u001B[39mcat((\u001B[38;5;28mself\u001B[39m\u001B[38;5;241m.\u001B[39medge_index\u001B[38;5;241m.\u001B[39mto(\u001B[38;5;28mself\u001B[39m\u001B[38;5;241m.\u001B[39mdevice), modified_edge_index), dim\u001B[38;5;241m=\u001B[39m\u001B[38;5;241m-\u001B[39m\u001B[38;5;241m1\u001B[39m)\n\u001B[0;32m    237\u001B[0m     edge_weight \u001B[38;5;241m=\u001B[39m torch\u001B[38;5;241m.\u001B[39mcat((\u001B[38;5;28mself\u001B[39m\u001B[38;5;241m.\u001B[39medge_weight\u001B[38;5;241m.\u001B[39mto(\u001B[38;5;28mself\u001B[39m\u001B[38;5;241m.\u001B[39mdevice), modified_edge_weight))\n\u001B[1;32m--> 239\u001B[0m     edge_index, edge_weight \u001B[38;5;241m=\u001B[39m torch_sparse\u001B[38;5;241m.\u001B[39mcoalesce(edge_index, edge_weight, m\u001B[38;5;241m=\u001B[39m\u001B[38;5;28mself\u001B[39m\u001B[38;5;241m.\u001B[39mn, n\u001B[38;5;241m=\u001B[39m\u001B[38;5;28mself\u001B[39m\u001B[38;5;241m.\u001B[39mn, op\u001B[38;5;241m=\u001B[39m\u001B[38;5;124m'\u001B[39m\u001B[38;5;124msum\u001B[39m\u001B[38;5;124m'\u001B[39m)\n\u001B[0;32m    240\u001B[0m \u001B[38;5;28;01melse\u001B[39;00m:\n\u001B[0;32m    241\u001B[0m     \u001B[38;5;66;03m# TODO: test with pytorch 1.9.0\u001B[39;00m\n\u001B[0;32m    242\u001B[0m     \u001B[38;5;66;03m# Currently (1.6.0) PyTorch does not support return arguments of `checkpoint` that do not require gradient.\u001B[39;00m\n\u001B[0;32m    243\u001B[0m     \u001B[38;5;66;03m# For this reason we need this extra code and to execute it twice (due to checkpointing in fact 3 times...)\u001B[39;00m\n\u001B[0;32m    244\u001B[0m     \u001B[38;5;28;01mfrom\u001B[39;00m \u001B[38;5;21;01mtorch\u001B[39;00m\u001B[38;5;21;01m.\u001B[39;00m\u001B[38;5;21;01mutils\u001B[39;00m \u001B[38;5;28;01mimport\u001B[39;00m checkpoint\n",
      "File \u001B[1;32m~\\anaconda3\\envs\\Masterarbeit_2_0\\Lib\\site-packages\\torch_sparse\\coalesce.py:22\u001B[0m, in \u001B[0;36mcoalesce\u001B[1;34m(index, value, m, n, op)\u001B[0m\n\u001B[0;32m      5\u001B[0m \u001B[38;5;28;01mdef\u001B[39;00m \u001B[38;5;21mcoalesce\u001B[39m(index, value, m, n, op\u001B[38;5;241m=\u001B[39m\u001B[38;5;124m\"\u001B[39m\u001B[38;5;124madd\u001B[39m\u001B[38;5;124m\"\u001B[39m):\n\u001B[0;32m      6\u001B[0m \u001B[38;5;250m    \u001B[39m\u001B[38;5;124;03m\"\"\"Row-wise sorts :obj:`value` and removes duplicate entries. Duplicate\u001B[39;00m\n\u001B[0;32m      7\u001B[0m \u001B[38;5;124;03m    entries are removed by scattering them together. For scattering, any\u001B[39;00m\n\u001B[0;32m      8\u001B[0m \u001B[38;5;124;03m    operation of `\"torch_scatter\"<https://github.com/rusty1s/pytorch_scatter>`_\u001B[39;00m\n\u001B[1;32m   (...)\u001B[0m\n\u001B[0;32m     19\u001B[0m \u001B[38;5;124;03m    :rtype: (:class:`LongTensor`, :class:`Tensor`)\u001B[39;00m\n\u001B[0;32m     20\u001B[0m \u001B[38;5;124;03m    \"\"\"\u001B[39;00m\n\u001B[1;32m---> 22\u001B[0m     storage \u001B[38;5;241m=\u001B[39m SparseStorage(row\u001B[38;5;241m=\u001B[39mindex[\u001B[38;5;241m0\u001B[39m], col\u001B[38;5;241m=\u001B[39mindex[\u001B[38;5;241m1\u001B[39m], value\u001B[38;5;241m=\u001B[39mvalue,\n\u001B[0;32m     23\u001B[0m                             sparse_sizes\u001B[38;5;241m=\u001B[39m(m, n), is_sorted\u001B[38;5;241m=\u001B[39m\u001B[38;5;28;01mFalse\u001B[39;00m)\n\u001B[0;32m     24\u001B[0m     storage \u001B[38;5;241m=\u001B[39m storage\u001B[38;5;241m.\u001B[39mcoalesce(reduce\u001B[38;5;241m=\u001B[39mop)\n\u001B[0;32m     25\u001B[0m     \u001B[38;5;28;01mreturn\u001B[39;00m torch\u001B[38;5;241m.\u001B[39mstack([storage\u001B[38;5;241m.\u001B[39mrow(), storage\u001B[38;5;241m.\u001B[39mcol()], dim\u001B[38;5;241m=\u001B[39m\u001B[38;5;241m0\u001B[39m), storage\u001B[38;5;241m.\u001B[39mvalue()\n",
      "File \u001B[1;32m~\\anaconda3\\envs\\Masterarbeit_2_0\\Lib\\site-packages\\torch_sparse\\storage.py:154\u001B[0m, in \u001B[0;36mSparseStorage.__init__\u001B[1;34m(self, row, rowptr, col, value, sparse_sizes, rowcount, colptr, colcount, csr2csc, csc2csr, is_sorted, trust_data)\u001B[0m\n\u001B[0;32m    152\u001B[0m idx[\u001B[38;5;241m1\u001B[39m:] \u001B[38;5;241m*\u001B[39m\u001B[38;5;241m=\u001B[39m \u001B[38;5;28mself\u001B[39m\u001B[38;5;241m.\u001B[39m_sparse_sizes[\u001B[38;5;241m1\u001B[39m]\n\u001B[0;32m    153\u001B[0m idx[\u001B[38;5;241m1\u001B[39m:] \u001B[38;5;241m+\u001B[39m\u001B[38;5;241m=\u001B[39m \u001B[38;5;28mself\u001B[39m\u001B[38;5;241m.\u001B[39m_col\n\u001B[1;32m--> 154\u001B[0m \u001B[38;5;28;01mif\u001B[39;00m (idx[\u001B[38;5;241m1\u001B[39m:] \u001B[38;5;241m<\u001B[39m idx[:\u001B[38;5;241m-\u001B[39m\u001B[38;5;241m1\u001B[39m])\u001B[38;5;241m.\u001B[39many():\n\u001B[0;32m    155\u001B[0m     max_value \u001B[38;5;241m=\u001B[39m \u001B[38;5;28mself\u001B[39m\u001B[38;5;241m.\u001B[39m_sparse_sizes[\u001B[38;5;241m0\u001B[39m] \u001B[38;5;241m*\u001B[39m \u001B[38;5;28mself\u001B[39m\u001B[38;5;241m.\u001B[39m_sparse_sizes[\u001B[38;5;241m1\u001B[39m]\n\u001B[0;32m    156\u001B[0m     _, perm \u001B[38;5;241m=\u001B[39m index_sort(idx[\u001B[38;5;241m1\u001B[39m:], max_value)\n",
      "\u001B[1;31mKeyboardInterrupt\u001B[0m: "
     ]
    }
   ]
  },
  {
   "cell_type": "code",
   "source": [
    "# plot budget-accuracy graph\n",
    "fig, ax = plt.subplots()\n",
    "\n",
    "color = plt.rcParams['axes.prop_cycle'].by_key()['color'][0]\n",
    "ax.set_xlabel('Budget')\n",
    "ax.set_ylabel(\"Accuracy\")\n",
    "ax.plot(range(1,10), perturbed_acc_global, color=color, label='Budget-impact')\n",
    "\n",
    "ax.legend()\n",
    "\n",
    "plt.gcf().show()"
   ],
   "metadata": {
    "id": "OOe1wO5YGEnx",
    "outputId": "2f367456-4e13-4773-eec2-c1bbaf13d1de",
    "colab": {
     "base_uri": "https://localhost:8080/",
     "height": 449
    },
    "ExecuteTime": {
     "end_time": "2025-02-11T17:56:13.300955200Z",
     "start_time": "2025-02-11T17:56:11.342610600Z"
    }
   },
   "execution_count": 26,
   "outputs": [
    {
     "ename": "ValueError",
     "evalue": "x and y must have same first dimension, but have shapes (9,) and (1,)",
     "output_type": "error",
     "traceback": [
      "\u001B[1;31m---------------------------------------------------------------------------\u001B[0m",
      "\u001B[1;31mValueError\u001B[0m                                Traceback (most recent call last)",
      "Cell \u001B[1;32mIn[26], line 7\u001B[0m\n\u001B[0;32m      5\u001B[0m ax\u001B[38;5;241m.\u001B[39mset_xlabel(\u001B[38;5;124m'\u001B[39m\u001B[38;5;124mBudget\u001B[39m\u001B[38;5;124m'\u001B[39m)\n\u001B[0;32m      6\u001B[0m ax\u001B[38;5;241m.\u001B[39mset_ylabel(\u001B[38;5;124m\"\u001B[39m\u001B[38;5;124mAccuracy\u001B[39m\u001B[38;5;124m\"\u001B[39m)\n\u001B[1;32m----> 7\u001B[0m ax\u001B[38;5;241m.\u001B[39mplot(\u001B[38;5;28mrange\u001B[39m(\u001B[38;5;241m1\u001B[39m,\u001B[38;5;241m10\u001B[39m), perturbed_acc_global, color\u001B[38;5;241m=\u001B[39mcolor, label\u001B[38;5;241m=\u001B[39m\u001B[38;5;124m'\u001B[39m\u001B[38;5;124mBudget-impact\u001B[39m\u001B[38;5;124m'\u001B[39m)\n\u001B[0;32m      9\u001B[0m ax\u001B[38;5;241m.\u001B[39mlegend()\n\u001B[0;32m     11\u001B[0m plt\u001B[38;5;241m.\u001B[39mgcf()\u001B[38;5;241m.\u001B[39mshow()\n",
      "File \u001B[1;32m~\\anaconda3\\envs\\Masterarbeit_2_0\\Lib\\site-packages\\matplotlib\\axes\\_axes.py:1777\u001B[0m, in \u001B[0;36mAxes.plot\u001B[1;34m(self, scalex, scaley, data, *args, **kwargs)\u001B[0m\n\u001B[0;32m   1534\u001B[0m \u001B[38;5;250m\u001B[39m\u001B[38;5;124;03m\"\"\"\u001B[39;00m\n\u001B[0;32m   1535\u001B[0m \u001B[38;5;124;03mPlot y versus x as lines and/or markers.\u001B[39;00m\n\u001B[0;32m   1536\u001B[0m \n\u001B[1;32m   (...)\u001B[0m\n\u001B[0;32m   1774\u001B[0m \u001B[38;5;124;03m(``'green'``) or hex strings (``'#008000'``).\u001B[39;00m\n\u001B[0;32m   1775\u001B[0m \u001B[38;5;124;03m\"\"\"\u001B[39;00m\n\u001B[0;32m   1776\u001B[0m kwargs \u001B[38;5;241m=\u001B[39m cbook\u001B[38;5;241m.\u001B[39mnormalize_kwargs(kwargs, mlines\u001B[38;5;241m.\u001B[39mLine2D)\n\u001B[1;32m-> 1777\u001B[0m lines \u001B[38;5;241m=\u001B[39m [\u001B[38;5;241m*\u001B[39m\u001B[38;5;28mself\u001B[39m\u001B[38;5;241m.\u001B[39m_get_lines(\u001B[38;5;28mself\u001B[39m, \u001B[38;5;241m*\u001B[39margs, data\u001B[38;5;241m=\u001B[39mdata, \u001B[38;5;241m*\u001B[39m\u001B[38;5;241m*\u001B[39mkwargs)]\n\u001B[0;32m   1778\u001B[0m \u001B[38;5;28;01mfor\u001B[39;00m line \u001B[38;5;129;01min\u001B[39;00m lines:\n\u001B[0;32m   1779\u001B[0m     \u001B[38;5;28mself\u001B[39m\u001B[38;5;241m.\u001B[39madd_line(line)\n",
      "File \u001B[1;32m~\\anaconda3\\envs\\Masterarbeit_2_0\\Lib\\site-packages\\matplotlib\\axes\\_base.py:297\u001B[0m, in \u001B[0;36m_process_plot_var_args.__call__\u001B[1;34m(self, axes, data, return_kwargs, *args, **kwargs)\u001B[0m\n\u001B[0;32m    295\u001B[0m     this \u001B[38;5;241m+\u001B[39m\u001B[38;5;241m=\u001B[39m args[\u001B[38;5;241m0\u001B[39m],\n\u001B[0;32m    296\u001B[0m     args \u001B[38;5;241m=\u001B[39m args[\u001B[38;5;241m1\u001B[39m:]\n\u001B[1;32m--> 297\u001B[0m \u001B[38;5;28;01myield from\u001B[39;00m \u001B[38;5;28mself\u001B[39m\u001B[38;5;241m.\u001B[39m_plot_args(\n\u001B[0;32m    298\u001B[0m     axes, this, kwargs, ambiguous_fmt_datakey\u001B[38;5;241m=\u001B[39mambiguous_fmt_datakey,\n\u001B[0;32m    299\u001B[0m     return_kwargs\u001B[38;5;241m=\u001B[39mreturn_kwargs\n\u001B[0;32m    300\u001B[0m )\n",
      "File \u001B[1;32m~\\anaconda3\\envs\\Masterarbeit_2_0\\Lib\\site-packages\\matplotlib\\axes\\_base.py:494\u001B[0m, in \u001B[0;36m_process_plot_var_args._plot_args\u001B[1;34m(self, axes, tup, kwargs, return_kwargs, ambiguous_fmt_datakey)\u001B[0m\n\u001B[0;32m    491\u001B[0m     axes\u001B[38;5;241m.\u001B[39myaxis\u001B[38;5;241m.\u001B[39mupdate_units(y)\n\u001B[0;32m    493\u001B[0m \u001B[38;5;28;01mif\u001B[39;00m x\u001B[38;5;241m.\u001B[39mshape[\u001B[38;5;241m0\u001B[39m] \u001B[38;5;241m!=\u001B[39m y\u001B[38;5;241m.\u001B[39mshape[\u001B[38;5;241m0\u001B[39m]:\n\u001B[1;32m--> 494\u001B[0m     \u001B[38;5;28;01mraise\u001B[39;00m \u001B[38;5;167;01mValueError\u001B[39;00m(\u001B[38;5;124mf\u001B[39m\u001B[38;5;124m\"\u001B[39m\u001B[38;5;124mx and y must have same first dimension, but \u001B[39m\u001B[38;5;124m\"\u001B[39m\n\u001B[0;32m    495\u001B[0m                      \u001B[38;5;124mf\u001B[39m\u001B[38;5;124m\"\u001B[39m\u001B[38;5;124mhave shapes \u001B[39m\u001B[38;5;132;01m{\u001B[39;00mx\u001B[38;5;241m.\u001B[39mshape\u001B[38;5;132;01m}\u001B[39;00m\u001B[38;5;124m and \u001B[39m\u001B[38;5;132;01m{\u001B[39;00my\u001B[38;5;241m.\u001B[39mshape\u001B[38;5;132;01m}\u001B[39;00m\u001B[38;5;124m\"\u001B[39m)\n\u001B[0;32m    496\u001B[0m \u001B[38;5;28;01mif\u001B[39;00m x\u001B[38;5;241m.\u001B[39mndim \u001B[38;5;241m>\u001B[39m \u001B[38;5;241m2\u001B[39m \u001B[38;5;129;01mor\u001B[39;00m y\u001B[38;5;241m.\u001B[39mndim \u001B[38;5;241m>\u001B[39m \u001B[38;5;241m2\u001B[39m:\n\u001B[0;32m    497\u001B[0m     \u001B[38;5;28;01mraise\u001B[39;00m \u001B[38;5;167;01mValueError\u001B[39;00m(\u001B[38;5;124mf\u001B[39m\u001B[38;5;124m\"\u001B[39m\u001B[38;5;124mx and y can be no greater than 2D, but have \u001B[39m\u001B[38;5;124m\"\u001B[39m\n\u001B[0;32m    498\u001B[0m                      \u001B[38;5;124mf\u001B[39m\u001B[38;5;124m\"\u001B[39m\u001B[38;5;124mshapes \u001B[39m\u001B[38;5;132;01m{\u001B[39;00mx\u001B[38;5;241m.\u001B[39mshape\u001B[38;5;132;01m}\u001B[39;00m\u001B[38;5;124m and \u001B[39m\u001B[38;5;132;01m{\u001B[39;00my\u001B[38;5;241m.\u001B[39mshape\u001B[38;5;132;01m}\u001B[39;00m\u001B[38;5;124m\"\u001B[39m)\n",
      "\u001B[1;31mValueError\u001B[0m: x and y must have same first dimension, but have shapes (9,) and (1,)"
     ]
    }
   ]
  },
  {
   "cell_type": "code",
   "source": [
    "perturbed_acc = global_prbcd_statistics[\"results\"][0]['accuracy']\n",
    "print(f'Clean accuracy: {100*clean_acc_local:.2f}%; Accuracy after global PRBCD attack: {100*perturbed_acc:.2f}%')"
   ],
   "metadata": {
    "colab": {
     "base_uri": "https://localhost:8080/"
    },
    "id": "UQwlL5mnkXHO",
    "outputId": "5a888f0a-3662-491e-d59b-00f98b817a13",
    "ExecuteTime": {
     "end_time": "2025-02-11T17:56:30.238643500Z",
     "start_time": "2025-02-11T17:56:29.890775400Z"
    }
   },
   "execution_count": 27,
   "outputs": [
    {
     "name": "stdout",
     "output_type": "stream",
     "text": [
      "Clean accuracy: 83.48%; Accuracy after global PRBCD attack: 64.98%\n"
     ]
    }
   ]
  },
  {
   "cell_type": "code",
   "execution_count": null,
   "outputs": [],
   "source": [],
   "metadata": {
    "collapsed": false
   }
  }
 ]
}
