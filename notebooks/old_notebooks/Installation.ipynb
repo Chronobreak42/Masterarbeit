{
 "cells": [
  {
   "cell_type": "markdown",
   "source": [
    "# Package Installation\n",
    "Run the following lines\n",
    "Before that it may be necessary to run other requirements from the quick_start_ notebook, I have not checked what has to be executed entirely\n",
    "Pönki ran:\n",
    "\n",
    "requirements.txt\n",
    "\n",
    "!pip install torch torchvision torchaudio -f https://download.pytorch.org/whl/torch_stable.html\n",
    "!pip install torch_geometric\n",
    "\n",
    "!pip install -q torch-scatter -f https://data.pyg.org/whl/torch-${TORCH}.html\n",
    "!pip install -q torch-sparse -f https://data.pyg.org/whl/torch-${TORCH}.html\n",
    "!pip install -q git+https://github.com/pyg-team/pytorch_geometric.git"
   ],
   "metadata": {
    "collapsed": false
   },
   "id": "260b70682e980b6f"
  },
  {
   "cell_type": "code",
   "execution_count": 1,
   "outputs": [
    {
     "name": "stdout",
     "output_type": "stream",
     "text": [
      "2.6.0+cpu\n"
     ]
    }
   ],
   "source": [
    "!pip install torch-sparse -f https://data.pyg.org/whl/torch-${TORCH}.html \n",
    "#${TORCH} Needs to be replaced with pytorch Version\n",
    "!python -c \"import torch; print(torch.__version__)\" #for pytorch version\n",
    "\n",
    "# This error can occur:\n",
    "# error: Microsoft Visual C++ 14.0 or greater is required. Get it with \"Microsoft C++ Build Tools\": https://visualstudio.microsoft.com/visual-cpp-build-tools/\n",
    "#      [end of output]\n",
    "# note: This error originates from a subprocess, and is likely not a problem with pip.\n",
    "# ERROR: Failed building wheel for torch-sparse\n",
    "# Running setup.py clean for torch-sparse\n",
    "# Failed to build torch-sparse\n",
    "# ERROR: Failed to build installable wheels for some pyproject.toml based projects (torch-sparse)\n"
   ],
   "metadata": {
    "collapsed": false,
    "ExecuteTime": {
     "end_time": "2025-02-16T15:41:16.401820400Z",
     "start_time": "2025-02-16T15:41:13.534841400Z"
    }
   },
   "id": "1763bc01307d1a17"
  },
  {
   "cell_type": "code",
   "execution_count": null,
   "outputs": [],
   "source": [
    "!pip install torch-scatter -f https://data.pyg.org/whl/torch-X.Y.Z.html\n",
    "# also change X.Y.Z with pytorch Version"
   ],
   "metadata": {
    "collapsed": false
   },
   "id": "261d529d3d57b80b"
  }
 ],
 "metadata": {
  "kernelspec": {
   "display_name": "Python 3",
   "language": "python",
   "name": "python3"
  },
  "language_info": {
   "codemirror_mode": {
    "name": "ipython",
    "version": 2
   },
   "file_extension": ".py",
   "mimetype": "text/x-python",
   "name": "python",
   "nbconvert_exporter": "python",
   "pygments_lexer": "ipython2",
   "version": "2.7.6"
  }
 },
 "nbformat": 4,
 "nbformat_minor": 5
}
